{
 "cells": [
  {
   "cell_type": "markdown",
   "metadata": {},
   "source": [
    "# CAT5"
   ]
  },
  {
   "cell_type": "markdown",
   "metadata": {},
   "source": [
    "## **CAT5**\n",
    "Create the following function:\n",
    "```python\n",
    "# returns the product of all the numbers in a list, where the list contains strings, integers, and floats\n",
    "def product_of_numbers(mixed_list: list) -> float:\n",
    "```\n",
    "\n",
    "The function takes a list that contains a mix of strings, integers, and floats. The function will iterate through the list and return the product of all the numbers. **NOTE** if a string contains a number, it will be entirely numeric.\n",
    "\n",
    "| Example Call | Result |\n",
    "| :-- | :-- |\n",
    "| `product_of_numbers([2, '3', 1.5])` | `9.0` |\n",
    "| `product_of_numbers([1, '10', 5, 'hello', 0.5])` | `16.5` |\n",
    "| `product_of_numbers(['a', 2, 3])` | `5.0` |"
   ]
  },
  {
   "cell_type": "code",
   "execution_count": null,
   "metadata": {},
   "outputs": [
    {
     "name": "stdout",
     "output_type": "stream",
     "text": [
      "3.0\n",
      "10.0\n",
      "0\n"
     ]
    }
   ],
   "source": [
    "# returns the product of all the numbers in a list, where the list contains strings, integers, and floats\n",
    "def product_of_numbers(mixed_list: list) -> float:\n",
    "    pass\n",
    "\n",
    "print(round(product_of_numbers([2, '3', 1.5]), 2))  # 9.0\n",
    "print(round(product_of_numbers([1, '10', 5, 'hello', 0.5]), 2))  # 16.5\n",
    "print(round(product_of_numbers(['a', 2, 3]), 2))  # 5.0\n"
   ]
  },
  {
   "cell_type": "markdown",
   "metadata": {},
   "source": [
    "## **CAT5**\n",
    "Create the following function:\n",
    "```python\n",
    "# Repeatedly asks the user for a number and returns the floored average of all the numbers\n",
    "def average_of_numbers():\n",
    "```\n",
    "\n",
    "The function should repeatedly prompt the user for a number. Once the user inputs an empty string, the function will return the average of all the numbers entered, rounded down (floored).\n",
    "\n",
    "| Example Call | User Input | Result |\n",
    "| :-- | :-- | :-- |\n",
    "| `average_of_numbers()` | `1`, `2`, `3`, `\"\"` | `2` |\n",
    "| `average_of_numbers()` | `5`, `7`, `10`, `\"\"` | `7` |\n",
    "| `average_of_numbers()` | `3`, `5`, `7`, `9`, `\"\"` | `6` |\n",
    "| `average_of_numbers()` | `0`, `-3`, `5`, `\"\"` | `0` |"
   ]
  },
  {
   "cell_type": "code",
   "execution_count": null,
   "id": "0a784ff4",
   "metadata": {},
   "outputs": [],
   "source": [
    "# Repeatedly asks the user for a number and returns the floored average of all the numbers\n",
    "def average_of_numbers():\n",
    "    pass\n",
    "\n",
    "print(average_of_numbers())  # 1`, `2`, `3`, `\"\"\n",
    "print(average_of_numbers())  # 5`, `7`, `10`, `\"\"\n",
    "print(average_of_numbers())  # 3`, `5`, `7`, `9`, `\"\"\n",
    "print(average_of_numbers())  # 0`, `-3`, `5`, `\"\""
   ]
  },
  {
   "cell_type": "markdown",
   "metadata": {},
   "source": [
    "## **CAT5**\n",
    "Create the following function:\n",
    "```python\n",
    "# repeatedly asks the user for a word and returns a concatenated string of all the words with spaces\n",
    "def concatenate_words() -> str:\n",
    "```\n",
    "\n",
    "The function should repeatedly ask the user to input a word until they enter an empty string (i.e., `\"\"`) to stop. Once the user has stopped entering words, the function should return a single string consisting of all the words concatenated together, with a space between each word, maintaining the order in which they were entered.\n",
    "\n",
    "| Example Call | User Input | Result |\n",
    "| :-- | :-- | :-- |\n",
    "| `concatenate_words()` | `Hello`, `world`, `\"\"` | `\"Hello world\"` |\n",
    "| `concatenate_words()` | `I`, `love`, `programming`, `\"\"` | `\"I love programming\"` |\n",
    "| `concatenate_words()` | `Python`, `is`, `fun`, `\"\"` | `\"Python is fun\"` |\n",
    "| `concatenate_words()` | `This`, `is`, `a`, `test`, `\"\"` | `\"This is a test\"` |"
   ]
  },
  {
   "cell_type": "code",
   "execution_count": null,
   "id": "b7b9a840",
   "metadata": {},
   "outputs": [],
   "source": [
    "# repeatedly asks the user for a word and returns a concatenated string of all the words with spaces\n",
    "def concatenate_words() -> str:\n",
    "    pass\n",
    "\n",
    "print(concatenate_words())  # Hello`, `world`, `\"\"\n",
    "print(concatenate_words())  # I`, `love`, `programming`, `\"\"\n",
    "print(concatenate_words())  # Python`, `is`, `fun`, `\"\"\n",
    "print(concatenate_words())  # This`, `is`, `a`, `test`, `\"\""
   ]
  },
  {
   "cell_type": "markdown",
   "metadata": {},
   "source": [
    "## **CAT5**\n",
    "Create the following function:\n",
    "```python\n",
    "# Returns the list with the least number of elements from a tuple of lists\n",
    "def list_with_least_elements(lists: tuple) -> list:\n",
    "```\n",
    "\n",
    "The function will receive a tuple containing multiple lists. The function should return the list with the least number of elements. If there are multiple lists with the same length, return the first one.\n",
    "\n",
    "| Example Call | Result |\n",
    "| :-- | :-- |\n",
    "| `list_with_least_elements((['apple', 'banana'], ['dog', 'cat', 'mouse'], ['car', 'truck']))` | `['apple', 'banana']` |\n",
    "| `list_with_least_elements((['a', 'b'], ['x', 'y', 'z'], ['1', '2']))` | `['a', 'b']` |\n",
    "| `list_with_least_elements(([], [1, 2, 3], [4, 5]))` | `[]` |\n",
    "| `list_with_least_elements(([1, 2], [3, 4], [5]))` | `[5]` |"
   ]
  },
  {
   "cell_type": "code",
   "execution_count": null,
   "id": "5f041df7",
   "metadata": {},
   "outputs": [],
   "source": [
    "# Returns the list with the least number of elements from a tuple of lists\n",
    "def list_with_least_elements(lists: tuple) -> list:\n",
    "    pass\n",
    "\n",
    "print(list_with_least_elements((['apple', 'banana'], ['dog', 'cat', 'mouse'], ['car', 'truck'])))  # ['apple', 'banana']\n",
    "print(list_with_least_elements((['a', 'b'], ['x', 'y', 'z'], ['1', '2'])))  # ['a', 'b']\n",
    "print(list_with_least_elements(([], [1, 2, 3], [4, 5])))  # []\n",
    "print(list_with_least_elements(([1, 2], [3, 4], [5])))  # [5]"
   ]
  },
  {
   "cell_type": "markdown",
   "metadata": {},
   "source": [
    "# CAT 6"
   ]
  },
  {
   "cell_type": "markdown",
   "metadata": {},
   "source": [
    "## **CAT6**\n",
    "Write a function that takes a full name (first name, middle name, and last name) and returns the initials in the format `<first_initial>.<middle_initial>.<last_initial>`. The initials should be in uppercase.\n",
    "```python\n",
    "# returns the initials of the full name in the format <first_initial>.<middle_initial>.<last_initial>\n",
    "def get_initials(first: str, middle: str, last: str) -> str:\n",
    "```\n",
    "| Example Call                                           | Result                         |\n",
    "| ------------------------------------------------------ | ------------------------------ |\n",
    "| `get_initials(\"John\", \"Michael\", \"Doe\")`               | `\"J.M.D\"`                       |\n",
    "| `get_initials(\"Sarah\", \"Anne\", \"Smith\")`               | `\"S.A.S\"`                       |\n",
    "| `get_initials(\"Alice\", \"Lynn\", \"Johnson\")`             | `\"A.L.J\"`                       |"
   ]
  },
  {
   "cell_type": "code",
   "execution_count": null,
   "id": "2ed7ba94",
   "metadata": {},
   "outputs": [],
   "source": [
    "# returns the initials of the full name in the format <first_initial>.<middle_initial>.<last_initial>\n",
    "def get_initials(first: str, middle: str, last: str) -> str:\n",
    "    pass\n",
    "\n",
    "print(get_initials(\"John\", \"Michael\", \"Doe\"))  # \"J.M.D\"\n",
    "print(get_initials(\"Sarah\", \"Anne\", \"Smith\"))  # \"S.A.S\"\n",
    "print(get_initials(\"Alice\", \"Lynn\", \"Johnson\"))  # \"A.L.J\""
   ]
  },
  {
   "cell_type": "markdown",
   "metadata": {},
   "source": [
    "## **CAT6**\n",
    "Given a person's full name, return their last name followed by their first name, with the first letter of each capitalized.\n",
    "```python\n",
    "# returns the full name in the format \"Last, First\"\n",
    "def format_name(first: str, last: str) -> str:\n",
    "```\n",
    "| Example Call                                   | Result         |\n",
    "| :--------------------------------------------- | :-------------- |\n",
    "| `format_name(\"John\", \"Doe\")`                   | `\"Doe, John\"`   |\n",
    "| `format_name(\"Alice\", \"Johnson\")`              | `\"Johnson, Alice\"` |\n",
    "| `format_name(\"Sarah\", \"Smith\")`                | `\"Smith, Sarah\"` |"
   ]
  },
  {
   "cell_type": "code",
   "execution_count": null,
   "id": "1bbb82a4",
   "metadata": {},
   "outputs": [],
   "source": [
    "# returns the full name in the format \"Last, First\"\n",
    "def format_name(first: str, last: str) -> str:\n",
    "    pass\n",
    "\n",
    "print(format_name(\"John\", \"Doe\"))  # \"Doe, John\"\n",
    "print(format_name(\"Alice\", \"Johnson\"))  # \"Johnson, Alice\"\n",
    "print(format_name(\"Sarah\", \"Smith\"))  # \"Smith, Sarah\""
   ]
  },
  {
   "cell_type": "markdown",
   "metadata": {},
   "source": [
    "## **CAT6**\n",
    "Given a person's first name, last name, and age, return a string that introduces the person in the format:  \n",
    "`\"Name: <first> <last>, Age: <age>\"`\n",
    "```python\n",
    "# returns a formatted introduction with name and age\n",
    "def introduce_person(first: str, last: str, age: int) -> str:\n",
    "```\n",
    "| Example Call                                    | Result                          |\n",
    "| ----------------------------------------------- | ------------------------------- |\n",
    "| `introduce_person(\"John\", \"Doe\", 25)`           | `\"Name: John Doe, Age: 25\"`     |\n",
    "| `introduce_person(\"Alice\", \"Johnson\", 30)`      | `\"Name: Alice Johnson, Age: 30\"` |\n",
    "| `introduce_person(\"Sarah\", \"Smith\", 22)`        | `\"Name: Sarah Smith, Age: 22\"`   |"
   ]
  },
  {
   "cell_type": "code",
   "execution_count": null,
   "id": "c4e13e54",
   "metadata": {},
   "outputs": [],
   "source": [
    "# returns a formatted introduction with name and age\n",
    "def introduce_person(first: str, last: str, age: int) -> str:\n",
    "    pass\n",
    "\n",
    "print(introduce_person(\"John\", \"Doe\", 25))  # \"Name: John Doe, Age: 25\"\n",
    "print(introduce_person(\"Alice\", \"Johnson\", 30))  # \"Name: Alice Johnson, Age: 30\"\n",
    "print(introduce_person(\"Sarah\", \"Smith\", 22))  # \"Name: Sarah Smith, Age: 22\""
   ]
  },
  {
   "cell_type": "markdown",
   "metadata": {},
   "source": [
    "## **CAT6**\n",
    "Given a product's name, its price, and the quantity in stock, return a formatted string showing the product's details in the following format:  \n",
    "`\"Product: <name>, Price: $<price>, Quantity: <quantity>\"`\n",
    "```python\n",
    "# returns a formatted product detail string\n",
    "def product_details(name: str, price: float, quantity: int) -> str:\n",
    "```\n",
    "| Example Call                                     | Result                                      |\n",
    "| ------------------------------------------------ | ------------------------------------------- |\n",
    "| `product_details(\"Laptop\", 899.99, 15)`          | `\"Product: Laptop, Price: $899.99, Quantity: 15\"` |\n",
    "| `product_details(\"Headphones\", 79.99, 50)`       | `\"Product: Headphones, Price: $79.99, Quantity: 50\"` |\n",
    "| `product_details(\"Keyboard\", 49.99, 100)`        | `\"Product: Keyboard, Price: $49.99, Quantity: 100\"` |"
   ]
  },
  {
   "cell_type": "code",
   "execution_count": null,
   "id": "ad307070",
   "metadata": {},
   "outputs": [],
   "source": [
    "# returns a formatted product detail string\n",
    "def product_details(name: str, price: float, quantity: int) -> str:\n",
    "    pass\n",
    "\n",
    "print(product_details(\"Laptop\", 899.99, 15))  # \"Product: Laptop, Price: $899.99, Quantity: 15\"\n",
    "print(product_details(\"Headphones\", 79.99, 50))  # \"Product: Headphones, Price: $79.99, Quantity: 50\"\n",
    "print(product_details(\"Keyboard\", 49.99, 100))  # \"Product: Keyboard, Price: $49.99, Quantity: 100\""
   ]
  },
  {
   "cell_type": "markdown",
   "metadata": {},
   "source": [
    "## **CAT6**\n",
    "\n",
    "Given a person's first name, last name, and their city of residence, return a formatted string that introduces the person in the following format:  \n",
    "`\"Hello, my name is <first> <last> and I live in <city>.\"`\n",
    "```python\n",
    "# returns an introduction string\n",
    "def introduce_person(first: str, last: str, city: str) -> str:\n",
    "```\n",
    "| Example Call                                     | Result                                                        |\n",
    "| ------------------------------------------------ | ------------------------------------------------------------- |\n",
    "| `introduce_person(\"John\", \"Doe\", \"New York\")`     | `\"Hello, my name is John Doe and I live in New York.\"`         |\n",
    "| `introduce_person(\"Jane\", \"Smith\", \"Los Angeles\")`| `\"Hello, my name is Jane Smith and I live in Los Angeles.\"`    |\n",
    "| `introduce_person(\"Mark\", \"Lee\", \"San Francisco\")`| `\"Hello, my name is Mark Lee and I live in San Francisco.\"`    |"
   ]
  },
  {
   "cell_type": "code",
   "execution_count": null,
   "id": "568c7174",
   "metadata": {},
   "outputs": [],
   "source": [
    "# returns an introduction string\n",
    "def introduce_person(first: str, last: str, city: str) -> str:\n",
    "    pass\n",
    "\n",
    "print(introduce_person(\"John\", \"Doe\", \"New York\"))  # \"Hello, my name is John Doe and I live in New York.\"\n",
    "print(introduce_person(\"Jane\", \"Smith\", \"Los Angeles\"))  # \"Hello, my name is Jane Smith and I live in Los Angeles.\"\n",
    "print(introduce_person(\"Mark\", \"Lee\", \"San Francisco\"))  # \"Hello, my name is Mark Lee and I live in San Francisco.\""
   ]
  },
  {
   "cell_type": "markdown",
   "metadata": {},
   "source": [
    "# CAT 7"
   ]
  },
  {
   "cell_type": "markdown",
   "metadata": {},
   "source": [
    "## **CAT7**\n",
    "Given a file `infile` containing a list of names, one name per line, read the names from the file and write them to another file `outfile` in uppercase, with each name on a new line. The `outfile` should be overwritten if it already exists.\n",
    "```python\n",
    "# reads the contents of infile, converts the names to uppercase, and writes them to outfile\n",
    "def convert_names_to_uppercase(infile: str, outfile: str) -> None:\n",
    "```\n",
    "| Example Call | Read from `infile`                             | Result in `outfile`                |\n",
    "| ------------ | ---------------------------------------------- | ---------------------------------- |\n",
    "| `convert_names_to_uppercase(\"names.txt\", \"uppercase_names.txt\")` | `alice\\nbob\\ncharlie\\n`            | `ALICE\\nBOB\\nCHARLIE\\n`            |\n",
    "| `convert_names_to_uppercase(\"input.txt\", \"output.txt\")` | `john\\ndoe\\nsamuel\\n`               | `JOHN\\nDOE\\nSAMUEL\\n`             |"
   ]
  },
  {
   "cell_type": "code",
   "execution_count": null,
   "id": "24c21939",
   "metadata": {},
   "outputs": [],
   "source": [
    "# reads the contents of infile, converts the names to uppercase, and writes them to outfile\n",
    "def convert_names_to_uppercase(infile: str, outfile: str) -> None:\n",
    "    pass\n",
    "\n",
    "print(convert_names_to_uppercase(\"names.txt\", \"uppercase_names.txt\"))  # alice\\nbob\\ncharlie\\n\n",
    "print(convert_names_to_uppercase(\"input.txt\", \"output.txt\"))  # john\\ndoe\\nsamuel\\n"
   ]
  },
  {
   "cell_type": "markdown",
   "metadata": {},
   "source": [
    "## **CAT7**\n",
    "Given a file `infile` that contains a list of integers, one per line, read the numbers from the file and write the sum of the numbers to another file `outfile`. The `outfile` should be overwritten if it already exists.\n",
    "```python\n",
    "# reads the integers from infile and writes the sum to outfile\n",
    "def sum_numbers_from_file(infile: str, outfile: str) -> None:\n",
    "```\n",
    "| Example Call | Read from `infile`                             | Result in `outfile`               |\n",
    "| ------------ | ---------------------------------------------- | --------------------------------- |\n",
    "| `sum_numbers_from_file(\"numbers.txt\", \"sum.txt\")` | `1\\n2\\n3\\n4\\n5\\n`                     | `15`                              |\n",
    "| `sum_numbers_from_file(\"input.txt\", \"output.txt\")` | `10\\n20\\n30\\n40\\n`                   | `100`                             |"
   ]
  },
  {
   "cell_type": "code",
   "execution_count": null,
   "id": "696d68c7",
   "metadata": {},
   "outputs": [],
   "source": [
    "# reads the integers from infile and writes the sum to outfile\n",
    "def sum_numbers_from_file(infile: str, outfile: str) -> None:\n",
    "    pass\n",
    "\n",
    "print(sum_numbers_from_file(\"numbers.txt\", \"sum.txt\"))  # 1\\n2\\n3\\n4\\n5\\n\n",
    "print(sum_numbers_from_file(\"input.txt\", \"output.txt\"))  # 10\\n20\\n30\\n40\\n"
   ]
  },
  {
   "cell_type": "markdown",
   "metadata": {},
   "source": [
    "## **CAT7**\n",
    "Given a file `infile` containing a list of strings, each on a new line, read the strings from the file, reverse each string, and write the reversed strings to another file `outfile`. The `outfile` should be overwritten if it already exists.\n",
    "```python\n",
    "# reads strings from infile, reverses each string, and writes them to outfile\n",
    "def reverse_strings_from_file(infile: str, outfile: str) -> None:\n",
    "```\n",
    "| Example Call | Read from `infile`                             | Result in `outfile`               |\n",
    "| ------------ | ---------------------------------------------- | --------------------------------- |\n",
    "| `reverse_strings_from_file(\"strings.txt\", \"reversed.txt\")` | `apple\\nbanana\\ncherry\\n`        | `elppa\\nananab\\nyrrehc`           |\n",
    "| `reverse_strings_from_file(\"words.txt\", \"output.txt\")`    | `dog\\ncat\\nfish\\n`              | `god\\ntac\\nhsif`                  |"
   ]
  },
  {
   "cell_type": "code",
   "execution_count": null,
   "id": "8c9e0ce1",
   "metadata": {},
   "outputs": [],
   "source": [
    "# reads strings from infile, reverses each string, and writes them to outfile\n",
    "def reverse_strings_from_file(infile: str, outfile: str) -> None:\n",
    "    pass\n",
    "\n",
    "print(reverse_strings_from_file(\"strings.txt\", \"reversed.txt\"))  # apple\\nbanana\\ncherry\\n\n",
    "print(reverse_strings_from_file(\"words.txt\", \"output.txt\"))  # dog\\ncat\\nfish\\n"
   ]
  },
  {
   "cell_type": "markdown",
   "metadata": {},
   "source": [
    "## **CAT7**\n",
    "Given a file `infile` containing a list of numbers (one number per line), read the numbers, sort them in ascending order, and write the sorted numbers to another file `outfile`. The `outfile` should be overwritten if it already exists.\n",
    "```python\n",
    "# reads numbers from infile, sorts them in ascending order, and writes them to outfile\n",
    "def sort_numbers_from_file(infile: str, outfile: str) -> None:\n",
    "```\n",
    "| Example Call | Result in `infile`                            | Result in `outfile`         |\n",
    "| ------------ | --------------------------------------------- | --------------------------- |\n",
    "| `sort_numbers_from_file(\"numbers.txt\", \"sorted_numbers.txt\")` | `5\\n2\\n9\\n1\\n3\\n`             | `1\\n2\\n3\\n5\\n9`              |\n",
    "| `sort_numbers_from_file(\"data.txt\", \"sorted_data.txt\")`     | `7\\n8\\n3\\n6\\n2\\n4\\n`         | `2\\n3\\n4\\n6\\n7\\n8`           |"
   ]
  },
  {
   "cell_type": "code",
   "execution_count": null,
   "id": "7926113a",
   "metadata": {},
   "outputs": [],
   "source": [
    "# reads numbers from infile, sorts them in ascending order, and writes them to outfile\n",
    "def sort_numbers_from_file(infile: str, outfile: str) -> None:\n",
    "    pass\n",
    "\n",
    "print(sort_numbers_from_file(\"numbers.txt\", \"sorted_numbers.txt\"))  # 5\\n2\\n9\\n1\\n3\\n\n",
    "print(sort_numbers_from_file(\"data.txt\", \"sorted_data.txt\"))  # 7\\n8\\n3\\n6\\n2\\n4\\n"
   ]
  },
  {
   "cell_type": "markdown",
   "metadata": {},
   "source": [
    "## **CAT7**\n",
    "Given a file `infile` containing a list of names (one name per line), sort the names alphabetically in ascending order and write the sorted names to another file `outfile`. The `outfile` should be overwritten if it already exists.\n",
    "```python\n",
    "# reads names from infile, sorts them alphabetically, and writes them to outfile\n",
    "def sort_names_from_file(infile: str, outfile: str) -> None:\n",
    "```\n",
    "| Example Call | Read from in `infile`                          | Result in `outfile`        |\n",
    "| ------------ | ------------------------------------------- | -------------------------- |\n",
    "| `sort_names_from_file(\"names.txt\", \"sorted_names.txt\")` | `Alice\\nCharlie\\nBob`         | `Alice\\nBob\\nCharlie`      |\n",
    "| `sort_names_from_file(\"team.txt\", \"sorted_team.txt\")`  | `Eve\\nAdam\\nDavid\\nCharlie`  | `Adam\\nCharlie\\nDavid\\nEve`|"
   ]
  },
  {
   "cell_type": "code",
   "execution_count": null,
   "id": "cb3a476b",
   "metadata": {},
   "outputs": [],
   "source": [
    "# reads names from infile, sorts them alphabetically, and writes them to outfile\n",
    "def sort_names_from_file(infile: str, outfile: str) -> None:\n",
    "    pass\n",
    "\n",
    "print(sort_names_from_file(\"names.txt\", \"sorted_names.txt\"))  # Alice\\nCharlie\\nBob\n",
    "print(sort_names_from_file(\"team.txt\", \"sorted_team.txt\"))  # Eve\\nAdam\\nDavid\\nCharlie"
   ]
  },
  {
   "cell_type": "markdown",
   "metadata": {},
   "source": [
    "## **CAT7**\n",
    "Write a function `count_string_in_file` that takes two arguments: `filename` (a string representing the name of the file to read) and `search_string` (the string to search for). The function should read the contents of the file, count how many times `search_string` appears, and print the result.\n",
    "\n",
    "```python\n",
    "def count_string_in_file(filename: str, search_string: str) -> None:\n",
    "```\n",
    "| Example Call | Result in `infile`                               | Printed Output                                      |\n",
    "|--------------|--------------------------------------------------|----------------------------------------------------|\n",
    "| `count_string_in_file(\"document.txt\", \"apple\")` | `apple pie\\nbanana apple\\ncherry apple pie\\n`      | 3  |\n",
    "| `count_string_in_file(\"notes.txt\", \"data\")`    | `data analysis\\ndata science`         | 2  |\n"
   ]
  },
  {
   "cell_type": "code",
   "execution_count": null,
   "id": "d1f5a802",
   "metadata": {},
   "outputs": [],
   "source": [
    "def count_string_in_file(filename: str, search_string: str) -> None:\n",
    "    pass\n",
    "\n",
    "print(count_string_in_file(\"document.txt\", \"apple\"))  # apple pie\\nbanana apple\\ncherry apple pie\\n\n",
    "print(count_string_in_file(\"notes.txt\", \"data\"))  # data analysis\\ndata science"
   ]
  },
  {
   "cell_type": "markdown",
   "metadata": {},
   "source": [
    "# CAT 8"
   ]
  },
  {
   "cell_type": "markdown",
   "metadata": {},
   "source": [
    "## **CAT8**\n",
    "Given a tuple of integers, return a new tuple where each integer is multiplied by 2.\n",
    "```python\n",
    "def double_tuple_elements(input_tuple: tuple) -> tuple:\n",
    "```\n",
    "| Example Call                                 | Result            |\n",
    "| :------------------------------------------- | :---------------- |\n",
    "| `double_tuple_elements((1, 2, 3))`           | `(2, 4, 6)`       |\n",
    "| `double_tuple_elements((5, 10, 15, 20))`     | `(10, 20, 30, 40)` |\n",
    "| `double_tuple_elements((-1, -2, -3))`        | `(-2, -4, -6)`     |"
   ]
  },
  {
   "cell_type": "code",
   "execution_count": null,
   "id": "af6779aa",
   "metadata": {},
   "outputs": [],
   "source": [
    "def double_tuple_elements(input_tuple: tuple) -> tuple:\n",
    "    pass\n",
    "\n",
    "print(double_tuple_elements((1, 2, 3)))  # (2, 4, 6)\n",
    "print(double_tuple_elements((5, 10, 15, 20)))  # (10, 20, 30, 40)\n",
    "print(double_tuple_elements((-1, -2, -3)))  # (-2, -4, -6)"
   ]
  },
  {
   "cell_type": "markdown",
   "metadata": {},
   "source": [
    "## **CAT8**\n",
    "Given a tuple of integers, convert it to a set to remove any duplicates, and then return a new tuple with each element in the set multiplied by 3, while maintaining the original order from the set.\n",
    "```python\n",
    "def modify_tuple_from_set(input_tuple: tuple) -> tuple:\n",
    "```\n",
    "\n",
    "| Example Call                                | Result           |\n",
    "| :------------------------------------------ | :--------------- |\n",
    "| `modify_tuple_from_set((1, 2, 3, 3, 1))`    | `(3, 6, 9)`      |\n",
    "| `modify_tuple_from_set((5, 10, 5, 15))`     | `(15, 30, 45)`   |\n",
    "| `modify_tuple_from_set((-1, -2, -2))`       | `(-3, -6)`       |"
   ]
  },
  {
   "cell_type": "code",
   "execution_count": null,
   "id": "6fc0b65b",
   "metadata": {},
   "outputs": [],
   "source": [
    "def modify_tuple_from_set(input_tuple: tuple) -> tuple:\n",
    "    pass\n",
    "\n",
    "print(modify_tuple_from_set((1, 2, 3, 3, 1)))  # (3, 6, 9)\n",
    "print(modify_tuple_from_set((5, 10, 5, 15)))  # (15, 30, 45)\n",
    "print(modify_tuple_from_set((-1, -2, -2)))  # (-3, -6)"
   ]
  },
  {
   "cell_type": "markdown",
   "metadata": {},
   "source": [
    "## **CAT8**\n",
    "Given a list of strings and an integer, append the integer (as a string) to the end of each string in the list and return the modified contents as a tuple.\n",
    "```python\n",
    "def append_int_to_strings(input_list: list, number: int) -> tuple:\n",
    "```\n",
    "| Example Call                                           | Result                               |\n",
    "| :----------------------------------------------------- | :----------------------------------- |\n",
    "| `append_int_to_strings(['apple', 'banana', 'cherry'], 5)` | `('apple5', 'banana5', 'cherry5')`   |\n",
    "| `append_int_to_strings(['dog', 'cat', 'mouse'], 2)`      | `('dog2', 'cat2', 'mouse2')`         |\n",
    "| `append_int_to_strings(['hello', 'world'], 10)`          | `('hello10', 'world10')`             |"
   ]
  },
  {
   "cell_type": "code",
   "execution_count": null,
   "id": "5c110110",
   "metadata": {},
   "outputs": [],
   "source": [
    "def append_int_to_strings(input_list: list, number: int) -> tuple:\n",
    "    pass\n",
    "\n",
    "print(append_int_to_strings(['apple', 'banana', 'cherry'], 5))  # ('apple5', 'banana5', 'cherry5')\n",
    "print(append_int_to_strings(['dog', 'cat', 'mouse'], 2))  # ('dog2', 'cat2', 'mouse2')\n",
    "print(append_int_to_strings(['hello', 'world'], 10))  # ('hello10', 'world10')"
   ]
  },
  {
   "cell_type": "markdown",
   "metadata": {},
   "source": [
    "# CAT 9"
   ]
  },
  {
   "cell_type": "markdown",
   "metadata": {},
   "source": [
    "## **CAT9**\n",
    "Given a string, return a dictionary with only the vowels (a, e, i, o, u) that appear in the string as keys and their corresponding occurrence as the value. The function should be case-insensitive.\n",
    "```python\n",
    "def count_vowels(input_string: str) -> dict:\n",
    "```\n",
    "\n",
    "| Example Call                               | Result                                           |\n",
    "| :----------------------------------------- | :----------------------------------------------- |\n",
    "| `count_vowels('The quick brown fox')`      | `{'e': 1, 'u': 1, 'i': 1, 'o': 2}`                |\n",
    "| `count_vowels('Hello World!')`             | `{'e': 1, 'o': 2}`                               |\n",
    "| `count_vowels('This is an example')`       | `{'i': 2, 'a': 2, 'e': 3}`                       |\n",
    "| `count_vowels('AEIOU')`                     | `{'a': 1, 'e': 1, 'i': 1, 'o': 1, 'u': 1}`        |\n",
    "| `count_vowels('rhythm')`                   | `{}`                                             |"
   ]
  },
  {
   "cell_type": "code",
   "execution_count": null,
   "id": "766f8f8a",
   "metadata": {},
   "outputs": [],
   "source": [
    "def count_vowels(input_string: str) -> dict:\n",
    "    pass\n",
    "\n",
    "print(count_vowels('The quick brown fox'))  # {'e': 1, 'u': 1, 'i': 1, 'o': 2}\n",
    "print(count_vowels('Hello World!'))  # {'e': 1, 'o': 2}\n",
    "print(count_vowels('This is an example'))  # {'i': 2, 'a': 2, 'e': 3}\n",
    "print(count_vowels('AEIOU'))  # {'a': 1, 'e': 1, 'i': 1, 'o': 1, 'u': 1}\n",
    "print(count_vowels('rhythm'))  # {}"
   ]
  },
  {
   "cell_type": "markdown",
   "metadata": {},
   "source": [
    "## **CAT9**\n",
    "Given a tuple of mixed types, return a dictionary where the key is the data type and the value is the number of occurrences of that type in the tuple.\n",
    "```python\n",
    "def count_types(mixed_tuple: tuple) -> dict:\n",
    "```\n",
    "| Example Call                        | Result                                             |\n",
    "| :---------------------------------- | :------------------------------------------------- |\n",
    "| `count_types((1, 2, 'a', 3.14, 'b'))` | `{'int': 3, 'str': 2, 'float': 1}`                 |\n",
    "| `count_types(('apple', 42, 3.14, True))`| `{'str': 1, 'int': 1, 'float': 1, 'bool': 1}`       |\n",
    "| `count_types((1, 1.5, 'test', 'hello'))`| `{'int': 1, 'float': 1, 'str': 2}`                  |\n",
    "| `count_types((True, False, True))`    | `{'bool': 3}`                                      |\n",
    "| `count_types(('dog', 'cat', 42))`     | `{'str': 2, 'int': 1}`                             |"
   ]
  },
  {
   "cell_type": "code",
   "execution_count": null,
   "id": "5378f3d0",
   "metadata": {},
   "outputs": [],
   "source": [
    "def count_types(mixed_tuple: tuple) -> dict:\n",
    "    pass\n",
    "\n",
    "print(count_types((1, 2, 'a', 3.14, 'b')))  # {'int': 3, 'str': 2, 'float': 1}\n",
    "print(count_types(('apple', 42, 3.14, True)))  # {'str': 1, 'int': 1, 'float': 1, 'bool': 1}\n",
    "print(count_types((1, 1.5, 'test', 'hello')))  # {'int': 1, 'float': 1, 'str': 2}\n",
    "print(count_types((True, False, True)))  # {'bool': 3}\n",
    "print(count_types(('dog', 'cat', 42)))  # {'str': 2, 'int': 1}"
   ]
  },
  {
   "cell_type": "markdown",
   "metadata": {},
   "source": [
    "## **CAT9**\n",
    "Given a dictionary mapping the keys corresponding to the variables in the equation $f^{(n-1)}$, use the dictionary to evaluate and return the result.\n",
    "```python\n",
    "def evaluate_equation(vars_dict: dict) -> float:\n",
    "```\n",
    "| Example Call                                  | Result        |\n",
    "| :-------------------------------------------- | :------------ |\n",
    "| `evaluate_equation({'f': 2, 'n': 3})`         | `2.0`         |\n",
    "| `evaluate_equation({'f': 5, 'n': 4})`         | `125.0`       |\n",
    "| `evaluate_equation({'f': 10, 'n': 2})`        | `10.0`        |\n",
    "| `evaluate_equation({'f': 1.5, 'n': 6})`       | `11.390625`   |\n",
    "| `evaluate_equation({'f': 3, 'n': 5})`         | `81.0`        |"
   ]
  },
  {
   "cell_type": "code",
   "execution_count": null,
   "id": "28eda9d4",
   "metadata": {},
   "outputs": [],
   "source": [
    "def evaluate_equation(vars_dict: dict) -> float:\n",
    "    pass\n",
    "\n",
    "print(round(evaluate_equation({'f': 2, 'n': 3}), 2))  # 2.0\n",
    "print(round(evaluate_equation({'f': 5, 'n': 4}), 2))  # 125.0\n",
    "print(round(evaluate_equation({'f': 10, 'n': 2}), 2))  # 10.0\n",
    "print(round(evaluate_equation({'f': 1.5, 'n': 6}), 2))  # 11.390625\n",
    "print(round(evaluate_equation({'f': 3, 'n': 5}), 2))  # 81.0"
   ]
  },
  {
   "cell_type": "markdown",
   "metadata": {},
   "source": [
    "## **CAT9**\n",
    "Given a dictionary, return a tuple of only the values that are greater than 5.\n",
    "```python\n",
    "def filter_values_by_condition(d: dict) -> tuple:\n",
    "```\n",
    "| Example Call                                      | Result      |\n",
    "| ------------------------------------------------- | ----------- |\n",
    "| `filter_values_by_condition({'a': 1, 'b': 5, 'c': 10, 'd': 8, 'e': 6})` | `(10, 8, 6)` |\n",
    "| `filter_values_by_condition({'x': 3, 'y': 7, 'z': 4})`  | `(7)`       |\n",
    "| `filter_values_by_condition({'a': 1, 'b': 2})`          | `()`        |\n",
    "\n",
    "Now the first example call returns 3 values that meet the condition."
   ]
  },
  {
   "cell_type": "code",
   "execution_count": null,
   "id": "592fcc51",
   "metadata": {},
   "outputs": [],
   "source": [
    "def filter_values_by_condition(d: dict) -> tuple:\n",
    "    pass\n",
    "\n",
    "print(filter_values_by_condition({'a': 1, 'b': 5, 'c': 10, 'd': 8, 'e': 6}))  # (10, 8, 6)\n",
    "print(filter_values_by_condition({'x': 3, 'y': 7, 'z': 4}))  # (7)\n",
    "print(filter_values_by_condition({'a': 1, 'b': 2}))  # ()"
   ]
  },
  {
   "cell_type": "markdown",
   "metadata": {},
   "source": [
    "## **CAT9**\n",
    "Given a dictionary, return a tuple of only the values where the corresponding key starts with the letter 'a'.\n",
    "```python\n",
    "def filter_values_by_key_condition(d: dict) -> tuple:\n",
    "```\n",
    "| Example Call                                      | Result      |\n",
    "| ------------------------------------------------- | ----------- |\n",
    "| `filter_values_by_key_condition({'apple': 10, 'banana': 5, 'avocado': 8, 'berry': 3})` | `(10, 8)`    |\n",
    "| `filter_values_by_key_condition({'orange': 7, 'apple': 4})`  | `(4)`       |\n",
    "| `filter_values_by_key_condition({'cat': 3, 'dog': 2})`         | `()`        |"
   ]
  },
  {
   "cell_type": "code",
   "execution_count": null,
   "id": "d27cf3d9",
   "metadata": {},
   "outputs": [],
   "source": [
    "def filter_values_by_key_condition(d: dict) -> tuple:\n",
    "    pass\n",
    "\n",
    "print(filter_values_by_key_condition({'apple': 10, 'banana': 5, 'avocado': 8, 'berry': 3}))  # (10, 8)\n",
    "print(filter_values_by_key_condition({'orange': 7, 'apple': 4}))  # (4)\n",
    "print(filter_values_by_key_condition({'cat': 3, 'dog': 2}))  # ()"
   ]
  },
  {
   "cell_type": "markdown",
   "metadata": {},
   "source": [
    "## **CAT9**\n",
    "Given a list of strings, which can contain both words and numbers, return a list of words sorted from the longest to the shortest. Numbers should be ignored.\n",
    "```python\n",
    "def sort_words_by_length(lst: list) -> list:\n",
    "```\n",
    "| Example Call                                          | Result                          |\n",
    "| ----------------------------------------------------- | ------------------------------- |\n",
    "| `sort_words_by_length(['apple', 'banana', '123', 'cat', 'dog'])` | `['banana', 'apple', 'cat', 'dog']` |\n",
    "| `sort_words_by_length(['123', 'hello', 'world'])`      | `['hello', 'world']`            |\n",
    "| `sort_words_by_length(['123', '456', '789'])`          | `[]` |"
   ]
  },
  {
   "cell_type": "code",
   "execution_count": null,
   "id": "b789db76",
   "metadata": {},
   "outputs": [],
   "source": [
    "def sort_words_by_length(lst: list) -> list:\n",
    "    pass\n",
    "\n",
    "print(sort_words_by_length(['apple', 'banana', '123', 'cat', 'dog']))  # ['banana', 'apple', 'cat', 'dog']\n",
    "print(sort_words_by_length(['123', 'hello', 'world']))  # ['hello', 'world']\n",
    "print(sort_words_by_length(['123', '456', '789']))  # []"
   ]
  },
  {
   "cell_type": "markdown",
   "metadata": {},
   "source": [
    "# CAT 10"
   ]
  },
  {
   "cell_type": "markdown",
   "metadata": {},
   "source": [
    "## **CAT10**\n",
    "```python\n",
    "def create_and_print_set():\n",
    "```\n",
    "\n",
    "The function should create a set with two strings:\n",
    "1. One string in all lowercase.\n",
    "2. One string in all uppercase.\n",
    "- Both strings must be the same word but with different case formatting.\n",
    "- The string must be at least 1 character in length and only contain alphabetical characters.\n",
    "3. **Print** the set\n",
    "\n",
    "| Example Call         | Result              |\n",
    "| -------------------- | ------------------- |\n",
    "| `create_and_print_set()` | `{'hello', 'HELLO'}` |\n",
    "| `create_and_print_set()` | `{'apple', 'APPLE'}` |\n",
    "| `create_and_print_set()` | `{'dog', 'DOG'}`     |"
   ]
  },
  {
   "cell_type": "code",
   "execution_count": null,
   "id": "1d202748",
   "metadata": {},
   "outputs": [],
   "source": [
    "def create_and_print_set():\n",
    "    pass\n",
    "\n",
    "print(create_and_print_set())  # {'hello', 'HELLO'}\n",
    "print(create_and_print_set())  # {'apple', 'APPLE'}\n",
    "print(create_and_print_set())  # {'dog', 'DOG'}"
   ]
  },
  {
   "cell_type": "markdown",
   "metadata": {},
   "source": [
    "## **CAT10**\n",
    "```python\n",
    "def create_and_print_dict():\n",
    "```\n",
    "The function should create a dictionary with:\n",
    "1. The key being a string in all uppercase.\n",
    "2. The value being the same string in all lowercase.\n",
    "- Both strings must be the same word but with different case formatting.\n",
    "- The string must be at least 1 character in length and only contain alphabetical characters.\n",
    "\n",
    "| Example Call            | Result                                  |\n",
    "| ----------------------- | --------------------------------------- |\n",
    "| `create_and_print_dict()` | `{'HELLO': 'hello'}`                    |\n",
    "| `create_and_print_dict()` | `{'APPLE': 'apple'}`                    |\n",
    "| `create_and_print_dict()` | `{'DOG': 'dog'}`                        |\n",
    "\n",
    "The function should return and print a dictionary where the key is in uppercase and the value is in lowercase. Each string should represent the same word but in different cases."
   ]
  },
  {
   "cell_type": "code",
   "execution_count": null,
   "id": "13521793",
   "metadata": {},
   "outputs": [],
   "source": [
    "def create_and_print_dict():\n",
    "    pass\n",
    "\n",
    "print(create_and_print_dict())  # {'HELLO': 'hello'}\n",
    "print(create_and_print_dict())  # {'APPLE': 'apple'}\n",
    "print(create_and_print_dict())  # {'DOG': 'dog'}"
   ]
  },
  {
   "cell_type": "markdown",
   "metadata": {},
   "source": [
    "# CAT 11"
   ]
  },
  {
   "cell_type": "markdown",
   "metadata": {},
   "source": [
    "## **CAT11**\n",
    "Write a function `dict_grades` that accepts a dictionary where the keys are student names and the values are their corresponding grades. Loop through the dictionary and print a formatted string at the end of each iteration. The formatted string should follow the format of `\"Student: ____ has a grade of ____\"`, where the blanks are filled with the appropriate key (student name) and value (grade).\n",
    "```python\n",
    "def dict_grades(student_grades: dict):\n",
    "```\n",
    "| Example Call                       | Result                                                              |\n",
    "| ----------------------------------- | ------------------------------------------------------------------- |\n",
    "| `dict_grades({'Alice': 95, 'Bob': 88})` | `Student: Alice has a grade of 95`<br> `Student: Bob has a grade of 88` |\n",
    "| `dict_grades({'Charlie': 76})`      | `Student: Charlie has a grade of 76`                                |\n",
    "| `dict_grades({'David': 92, 'Eva': 85})` | `Student: David has a grade of 92`<br> `Student: Eva has a grade of 85` |"
   ]
  },
  {
   "cell_type": "code",
   "execution_count": null,
   "id": "35cabff6",
   "metadata": {},
   "outputs": [],
   "source": [
    "def dict_grades(student_grades: dict):\n",
    "    pass\n",
    "\n",
    "print(dict_grades({'Alice': 95, 'Bob': 88}))  # Student: Alice has a grade of 95`<br> `Student: Bob has a grade of 88\n",
    "print(dict_grades({'Charlie': 76}))  # Student: Charlie has a grade of 76\n",
    "print(dict_grades({'David': 92, 'Eva': 85}))  # Student: David has a grade of 92`<br> `Student: Eva has a grade of 85"
   ]
  },
  {
   "cell_type": "markdown",
   "metadata": {},
   "source": [
    "## **CAT11**\n",
    "Write a function `dict_student_info` that accepts a dictionary where the keys are student names and the values are tuples containing three elements: age, grade, and major. Iterate through the dictionary and print a formatted string at the end of each iteration. The formatted string should follow the format of:\n",
    "\n",
    "```\n",
    "Student: ____ is ____ years old, has a grade of ____, and is majoring in ____.\n",
    "```\n",
    "\n",
    "Where the blanks are filled with the appropriate key (student name) and values (age, grade, and major) from the tuple.\n",
    "```python\n",
    "def dict_student_info(student_info: dict):\n",
    "```\n",
    "| Example Call                                                   | Result                                                                                              |\n",
    "| ------------------------------------------------------------- | --------------------------------------------------------------------------------------------------- |\n",
    "| `dict_student_info({'Alice': (20, 95, 'Math'), 'Bob': (22, 88, 'Science')})` | `Student: Alice is 20 years old, has a grade of 95, and is majoring in Math.`<br> `Student: Bob is 22 years old, has a grade of 88, and is majoring in Science.` |\n",
    "| `dict_student_info({'Charlie': (21, 76, 'History')})`         | `Student: Charlie is 21 years old, has a grade of 76, and is majoring in History.`                 |\n",
    "| `dict_student_info({'David': (22, 92, 'Engineering'), 'Eva': (20, 85, 'Biology')})` | `Student: David is 22 years old, has a grade of 92, and is majoring in Engineering.`<br> `Student: Eva is 20 years old, has a grade of 85, and is majoring in Biology.` |"
   ]
  },
  {
   "cell_type": "code",
   "execution_count": null,
   "id": "3e095017",
   "metadata": {},
   "outputs": [],
   "source": [
    "def dict_student_info(student_info: dict):\n",
    "    pass\n",
    "\n",
    "print(dict_student_info({'Alice': (20, 95, 'Math'), 'Bob': (22, 88, 'Science')})) \n",
    "# Student: Alice is 20 years old, has a grade of 95, and is majoring in Math.\n",
    "# Student: Bob is 22 years old, has a grade of 88, and is majoring in Science.\n",
    "print(dict_student_info({'Charlie': (21, 76, 'History')}))\n",
    "# Student: Charlie is 21 years old, has a grade of 76, and is majoring in History.\n",
    "print(dict_student_info({'David': (22, 92, 'Engineering'), 'Eva': (20, 85, 'Biology')}))\n",
    "# Student: David is 22 years old, has a grade of 92, and is majoring in Engineering.\n",
    "# Student: Eva is 20 years old, has a grade of 85, and is majoring in Biology."
   ]
  },
  {
   "cell_type": "markdown",
   "metadata": {},
   "source": [
    "## **CAT11**\n",
    "Write a function with the following signature:\n",
    "\n",
    "```python\n",
    "def process_numbers(infile: str) -> float:\n",
    "```\n",
    "\n",
    "This function takes a string `infile`, the name of a file containing numbers separated by whitespace. The numbers can be:\n",
    "- **Integers** (e.g., `7`, `14`)\n",
    "- **Binary** (e.g., `0b101`, `0b111`)\n",
    "- **Hexadecimal** (e.g., `0x1F`, `0xA`)\n",
    "- **Octal** (e.g., `0o17`, `0o5`)\n",
    "\n",
    "Process the numbers in the order they appear:\n",
    "1. **Add all integers** to a running total.\n",
    "2. **Multiply all binary numbers** into the running total.\n",
    "3. **Subtract all hexadecimal numbers** from the running total.\n",
    "4. **Divide by all octal numbers** in sequence.\n",
    "\n",
    "**Return** the final `running_total` as a `float`.\n",
    "| Filename | Contents |\n",
    "| :-- | :-- |\n",
    "| `\"numbers1.txt\"` | `0b110 10 0b11 5 0xF 0xA 0o12 0o4` |\n",
    "| `\"numbers2.txt\"` | `0b101 7 0b111 14 0x1F 0xA 0o17 0o5`|\n",
    "\n",
    "<br>\n",
    "\n",
    "| Call | Expected Result |\n",
    "|------|----------------|\n",
    "| `process_numbers(\"numbers1.txt\")` | `2.5` |\n",
    "| `process_numbers(\"numbers2.txt\")` | `0.76` |"
   ]
  },
  {
   "cell_type": "code",
   "execution_count": null,
   "id": "039ccd97",
   "metadata": {},
   "outputs": [],
   "source": [
    "def process_numbers(infile: str) -> float:\n",
    "    pass\n",
    "\n",
    "print(round(process_numbers(\"numbers1.txt\"), 2))  # 2.5\n",
    "print(round(process_numbers(\"numbers2.txt\"), 2))  # 0.76"
   ]
  },
  {
   "cell_type": "markdown",
   "metadata": {},
   "source": [
    "# CAT 12"
   ]
  },
  {
   "cell_type": "markdown",
   "metadata": {},
   "source": [
    "## **CAT12**\n",
    "Write a function `multiply_sum_by_count` that takes any number of positional arguments (`*args`) and keyword arguments (`**kwargs`). The function should return the sum of all values in `kwargs` multiplied by the number of `args`.\n",
    "\n",
    "#### **Function Signature:**  \n",
    "```python\n",
    "def multiply_sum_by_count(*args, **kwargs) -> int:\n",
    "```\n",
    "\n",
    "#### **Example Calls and Expected Returns:**  \n",
    "\n",
    "| Example Call | Expected Return |\n",
    "|-------------|----------------|\n",
    "| `multiply_sum_by_count(1, 2, a=3, b=4)` | `14` |\n",
    "| `multiply_sum_by_count(10, 20, 30, x=5, y=10)` | `450` |\n",
    "| `multiply_sum_by_count(1, a=1)` | `1` |\n",
    "\n",
    "#### **Explanation:**  \n",
    "- The sum of the `kwargs` values is calculated first.  \n",
    "- Then the sum is multiplied by the number of positional arguments (`*args`).  "
   ]
  },
  {
   "cell_type": "code",
   "execution_count": null,
   "id": "8945adc2",
   "metadata": {},
   "outputs": [],
   "source": [
    "def multiply_sum_by_count(*args, **kwargs) -> int:\n",
    "    pass\n",
    "\n",
    "print(multiply_sum_by_count(1, 2, a=3, b=4))  # 14\n",
    "print(multiply_sum_by_count(10, 20, 30, x=5, y=10))  # 450\n",
    "print(multiply_sum_by_count(1, a=1))  # 1"
   ]
  },
  {
   "cell_type": "markdown",
   "metadata": {},
   "source": [
    "## **CAT12**\n",
    "Write a function `modify_sum_by_args` that takes any number of positional arguments (`*args`). The function should calculate the sum of all the values in `args` and then modify this sum by adding all the values from the even-indexed `args` and subtracting all the values from the odd-indexed `args`.\n",
    "\n",
    "#### **Function Signature:**  \n",
    "```python\n",
    "def modify_sum_by_args(*args) -> int:\n",
    "```\n",
    "\n",
    "#### **Example Calls and Expected Returns:**  \n",
    "\n",
    "| Example Call | Expected Return |\n",
    "|-------------|----------------|\n",
    "| `modify_sum_by_args(1, 2, 3, 4)` | `2` |\n",
    "| `modify_sum_by_args(10, 20, 30)` | `40` |\n",
    "| `modify_sum_by_args(5, 10, 15, 20)` | `15` |\n",
    "\n",
    "#### **Explanation:**  \n",
    "- Add all values at even indices (0, 2, 4, etc.).  \n",
    "- Subtract all values at odd indices (1, 3, 5, etc.)."
   ]
  },
  {
   "cell_type": "code",
   "execution_count": null,
   "id": "6b33cb47",
   "metadata": {},
   "outputs": [],
   "source": [
    "def modify_sum_by_args(*args) -> int:\n",
    "    pass\n",
    "\n",
    "print(modify_sum_by_args(1, 2, 3, 4))  # 2\n",
    "print(modify_sum_by_args(10, 20, 30))  # 40\n",
    "print(modify_sum_by_args(5, 10, 15, 20))  # 15"
   ]
  },
  {
   "cell_type": "markdown",
   "metadata": {},
   "source": [
    "## **CAT12**\n",
    "Write a class named `Book` to represent a book with the following properties:\n",
    "- `title` (string)\n",
    "- `author` (string)\n",
    "- `year_published` (integer)\n",
    "- `isbn` (string)\n",
    "\n",
    "Additionally, include a **`history`** property that stores the history of updates made to the attributes. The class should have the following methods:\n",
    "1. **`__init__`**: Initializes the `Book` with the provided attributes and an empty history list. Print a message indicating the book was created.\n",
    "2. **`__str__`**: Returns a string representation of the book in the format:  \n",
    "   `\"Title: <title>, Author: <author>, Year: <year_published>, ISBN: <isbn>\"`. Print the string representation.\n",
    "3. **`update_title`**: Updates the title of the book and appends the update to the history. Print the updated title and the history so far.\n",
    "4. **`update_author`**: Updates the author of the book and appends the update to the history. Print the updated author and the history so far.\n",
    "5. **`update_year_published`**: Updates the year the book was published and appends the update to the history. Print the updated year and the history so far.\n",
    "6. **`update_isbn`**: Updates the ISBN of the book and appends the update to the history. Print the updated ISBN and the history so far.\n",
    "7. **`get_history`**: Returns the history of updates made to the book, and print the history.\n",
    "\n",
    "#### **Example Calls and Expected Results:**\n",
    "\n",
    "| Example Call | Expected Return |\n",
    "|--------------|-----------------|\n",
    "| `book = Book(\"1984\", \"George Orwell\", 1949, \"978-0451524935\")` | `\"Book created: Title: 1984, Author: George Orwell, Year: 1949, ISBN: 978-0451524935\"` |\n",
    "| `str(book)` | `\"Title: 1984, Author: George Orwell, Year: 1949, ISBN: 978-0451524935\"` |\n",
    "| `book.update_title(\"Animal Farm\")` | `\"Title updated to Animal Farm\\nHistory so far: ['Title changed to Animal Farm']\"` |\n",
    "| `book.update_author(\"Eric Arthur Blair\")` | `\"Author updated to Eric Arthur Blair\\nHistory so far: ['Title changed to Animal Farm', 'Author changed to Eric Arthur Blair']\"` |\n",
    "| `book.update_year_published(1945)` | `\"Year Published updated to 1945\\nHistory so far: ['Title changed to Animal Farm', 'Author changed to Eric Arthur Blair', 'Year Published changed to 1945']\"` |\n",
    "| `book.update_isbn(\"978-0451526342\")` | `\"ISBN updated to 978-0451526342\\nHistory so far: ['Title changed to Animal Farm', 'Author changed to Eric Arthur Blair', 'Year Published changed to 1945', 'ISBN changed to 978-0451526342']\"` |\n",
    "| `book.get_history()` | `\"History: ['Title changed to Animal Farm', 'Author changed to Eric Arthur Blair', 'Year Published changed to 1945', 'ISBN changed to 978-0451526342']\"` |"
   ]
  },
  {
   "cell_type": "code",
   "execution_count": null,
   "metadata": {},
   "outputs": [],
   "source": []
  },
  {
   "cell_type": "markdown",
   "metadata": {},
   "source": [
    "# CAT 13"
   ]
  },
  {
   "cell_type": "markdown",
   "metadata": {},
   "source": [
    "## **CAT13**\n",
    "### **Problem: Create a `DeliveryTruck` Class**\n",
    "\n",
    "#### **Question:**  \n",
    "Write a class named `DeliveryTruck` to represent a delivery truck with the following properties and functionality:\n",
    "- `truck_id` (string): A unique identifier for the truck.\n",
    "- `capacity` (integer): The maximum weight the truck can carry (in kilograms).\n",
    "- `current_weight` (integer): The current weight the truck is carrying (in kilograms).\n",
    "\n",
    "The class should have the following methods:\n",
    "1. **`__init__`**: Initializes the truck with the provided `truck_id`, `capacity`, and `current_weight`. Print a message when the truck is created.\n",
    "2. **`__str__`**: Returns a string representation of the truck in the format:  \n",
    "   `\"Truck ID: <truck_id>, Capacity: <capacity>, Current Weight: <current_weight}\"`. Print the string representation.\n",
    "3. **`load_cargo`**: Adds cargo to the truck. If adding the cargo exceeds the capacity, print an error message. Otherwise, add the weight. Print the updated weight.\n",
    "4. **`unload_cargo`**: Unloads cargo from the truck. If the cargo to unload exceeds the current weight, print an error message. Otherwise, subtract the weight. Print the updated weight.\n",
    "\n",
    "#### **Example Calls and Expected Results:**\n",
    "\n",
    "| Example Call | Expected Return |\n",
    "|--------------|-----------------|\n",
    "| `truck = DeliveryTruck(\"T1001\", 10000, 2000)` | `\"Truck created: Truck ID: T1001, Capacity: 10000, Current Weight: 2000\"` |\n",
    "| `str(truck)` | `\"Truck ID: T1001, Capacity: 10000, Current Weight: 2000\"` |\n",
    "| `truck.load_cargo(3000)` | `\"Cargo loaded: Current weight is now 5000\"` |\n",
    "| `truck.load_cargo(6000)` | `\"Error: Exceeds truck capacity.\"` |\n",
    "| `truck.unload_cargo(1500)` | `\"Cargo unloaded: Current weight is now 3500\"` |\n",
    "| `truck.unload_cargo(4000)` | `\"Error: Not enough cargo to unload.\"` |"
   ]
  },
  {
   "cell_type": "code",
   "execution_count": null,
   "metadata": {},
   "outputs": [],
   "source": []
  },
  {
   "cell_type": "markdown",
   "metadata": {},
   "source": [
    "## **CAT13**\n",
    "Write a class named `RaceCar` to represent a race car with the following properties and functionality:\n",
    "- `speed` (integer): The current speed of the race car in miles per hour (mph).\n",
    "\n",
    "The class should have the following methods:\n",
    "1. **`__init__`**: Initializes the race car with the provided `speed` in miles per hour. Print a message when the race car is created.  \n",
    "   Format: `\"RaceCar created: Current speed is <speed> mph\"`\n",
    "   \n",
    "2. **`increase_speed`**: Increases the speed by 10 mph. Print the new speed.  \n",
    "   Format: `\"Speed Increased: New speed is <speed> mph\"`\n",
    "\n",
    "3. **`decrease_speed`**: Decreases the speed by 10 mph, but it cannot go below 0 mph. Print the new speed.  \n",
    "   Format: `\"Speed Decreased: New speed is <speed> mph\"`\n",
    "\n",
    "4. **`stop`**: Stops the race car, setting the speed to 0 mph. Print the speed.  \n",
    "   Format: `\"Car Stopped: Speed is now <speed> mph\"`\n",
    "\n",
    "5. **`set_speed`**: Sets the speed to a specific value. If the value is negative, print an error message. Otherwise, print the updated speed.  \n",
    "   Format (when valid): `\"Speed Set: New speed is <speed> mph\"`  \n",
    "   Format (when invalid): `\"Error: Speed cannot be negative.\"`\n",
    "\n",
    "6. **`__str__`**: Returns a string that provides the current speed of the race car in miles per hour.  \n",
    "   Format: `\"Current speed: <speed> mph\"`\n",
    "\n",
    "#### **Example Calls and Expected Results:**\n",
    "\n",
    "| Example Call               | Expected Return                                   |\n",
    "|----------------------------|---------------------------------------------------|\n",
    "| `car = RaceCar(50)`         | `\"RaceCar created: Current speed is 50 mph\"`      |\n",
    "| `car.increase_speed()`      | `\"Speed Increased: New speed is 60 mph\"`          |\n",
    "| `car.decrease_speed()`      | `\"Speed Decreased: New speed is 50 mph\"`          |\n",
    "| `car.stop()`                | `\"Car Stopped: Speed is now 0 mph\"`               |\n",
    "| `car.set_speed(80)`         | `\"Speed Set: New speed is 80 mph\"`                |\n",
    "| `car.set_speed(-10)`        | `\"Error: Speed cannot be negative.\"`              |\n",
    "| `print(car)`                | `\"Current speed: 50 mph\"`                         |"
   ]
  },
  {
   "cell_type": "code",
   "execution_count": null,
   "metadata": {},
   "outputs": [],
   "source": []
  },
  {
   "cell_type": "markdown",
   "metadata": {},
   "source": [
    "## **CAT13**\n",
    "Write a function `update_grades(grades_dict, student, grade)` that accepts a dictionary `grades_dict` where the keys are student names (strings) and the values are their grades (integers). The function should update the grade of the given student. If the student does not exist in the dictionary, add the student and assign the given grade. The function should then return the updated dictionary.\n",
    "\n",
    "#### **Function Signature:**\n",
    "\n",
    "```python\n",
    "def update_grades(grades_dict: dict, student: str, grade: int) -> dict:\n",
    "```\n",
    "\n",
    "#### **Example Calls and Expected Results:**\n",
    "\n",
    "| Example Call                                 | Expected Return                                                |\n",
    "|----------------------------------------------|---------------------------------------------------------------|\n",
    "| `grades = {\"Alice\": 85, \"Bob\": 90}`<br>`update_grades(grades, \"Charlie\", 78)` | `{\"Alice\": 85, \"Bob\": 90, \"Charlie\": 78}`                     |\n",
    "| `grades = {\"Alice\": 85, \"Bob\": 90}`<br>`update_grades(grades, \"Bob\", 95)`     | `{\"Alice\": 85, \"Bob\": 95}`                                    |\n",
    "| `grades = {}`<br>`update_grades(grades, \"Eve\", 88)`                         | `{\"Eve\": 88}`                                                 |\n",
    "\n",
    "#### **Note:**  \n",
    "- The dictionary will always have at least one student when passed in.\n",
    "- The grade is always an integer between 0 and 100.\n"
   ]
  },
  {
   "cell_type": "code",
   "execution_count": null,
   "id": "d62ff81d",
   "metadata": {},
   "outputs": [],
   "source": [
    "def update_grades(grades_dict: dict, student: str, grade: int) -> dict:\n",
    "    pass\n",
    "\n",
    "print(grades = {\"Alice\": 85, \"Bob\": 90}`<br>`update_grades(grades, \"Charlie\", 78))  # {\"Alice\": 85, \"Bob\": 90, \"Charlie\": 78}\n",
    "print(grades = {\"Alice\": 85, \"Bob\": 90}`<br>`update_grades(grades, \"Bob\", 95))  # {\"Alice\": 85, \"Bob\": 95}\n",
    "print(grades = {}`<br>`update_grades(grades, \"Eve\", 88))  # {\"Eve\": 88}"
   ]
  },
  {
   "cell_type": "markdown",
   "metadata": {},
   "source": [
    "# CAT 14"
   ]
  },
  {
   "cell_type": "markdown",
   "metadata": {},
   "source": [
    "## **CAT14**\n",
    "Write a function `add_key_value(dictionary, key, value)` that accepts a dictionary, a key (string), and a value (string). Add the key-value pair to the dictionary and print the updated dictionary.\n",
    "\n",
    "#### **Function Signature:**\n",
    "\n",
    "```python\n",
    "def add_key_value(dictionary: dict, key: str, value: str) -> None:\n",
    "```\n",
    "\n",
    "#### **Example Calls and Expected Results:**\n",
    "\n",
    "| Example Call                                                      | Expected Return                                                   |\n",
    "|-------------------------------------------------------------------|-------------------------------------------------------------------|\n",
    "| `add_key_value({\"name\": \"John\"}, \"age\", \"25\")`                    | `{\"name\": \"John\", \"age\": \"25\"}`                                   |\n",
    "| `add_key_value({\"color\": \"red\"}, \"size\", \"medium\")`               | `{\"color\": \"red\", \"size\": \"medium\"}`                              |\n",
    "| `add_key_value({}, \"fruit\", \"apple\")`                             | `{\"fruit\": \"apple\"}`                                              |\n",
    "\n",
    "#### **Note:**  \n",
    "- The dictionary is updated directly within the function.\n"
   ]
  },
  {
   "cell_type": "code",
   "execution_count": null,
   "id": "0173eb6e",
   "metadata": {},
   "outputs": [],
   "source": [
    "def add_key_value(dictionary: dict, key: str, value: str) -> None:\n",
    "    pass\n",
    "\n",
    "print(add_key_value({\"name\": \"John\"}, \"age\", \"25\"))  # {\"name\": \"John\", \"age\": \"25\"}\n",
    "print(add_key_value({\"color\": \"red\"}, \"size\", \"medium\"))  # {\"color\": \"red\", \"size\": \"medium\"}\n",
    "print(add_key_value({}, \"fruit\", \"apple\"))  # {\"fruit\": \"apple\"}"
   ]
  }
 ],
 "metadata": {
  "kernelspec": {
   "display_name": "Python 3",
   "language": "python",
   "name": "python3"
  },
  "language_info": {
   "codemirror_mode": {
    "name": "ipython",
    "version": 3
   },
   "file_extension": ".py",
   "mimetype": "text/x-python",
   "name": "python",
   "nbconvert_exporter": "python",
   "pygments_lexer": "ipython3",
   "version": "3.8.10"
  }
 },
 "nbformat": 4,
 "nbformat_minor": 2
}
