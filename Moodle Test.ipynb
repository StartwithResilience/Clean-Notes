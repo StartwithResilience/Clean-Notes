{
 "cells": [
  {
   "cell_type": "markdown",
   "metadata": {},
   "source": [
    "## Lists and Tuples Practice\n",
    "\n",
    "Extend the following list lst1 to the given tuple tup1. Print the tuple.\n",
    "\n",
    "lst1 = [1,2,3,4,5] \n",
    "\n",
    "tup1 = (\"one\",\"two\",\"three\",\"four\",\"five\")\n",
    "\n",
    "Hint:  Are tuples mutable? \n",
    "\n",
    "One more hint: Are you printing a tuple or a list?"
   ]
  },
  {
   "cell_type": "code",
   "execution_count": 1,
   "metadata": {},
   "outputs": [
    {
     "name": "stdout",
     "output_type": "stream",
     "text": [
      "('one', 'two', 'three', 'four', 'five', 1, 2, 3, 4, 5)\n"
     ]
    }
   ],
   "source": [
    "lst1 = [1,2,3,4,5]\n",
    "lst2 = tuple(lst1)\n",
    "\n",
    "tup1 = (\"one\",\"two\",\"three\",\"four\",\"five\")\n",
    "tup3 = tup1 + lst2\n",
    "print(tup3)"
   ]
  },
  {
   "cell_type": "markdown",
   "metadata": {},
   "source": [
    "## Strings Practice\n",
    "\n",
    "Using a string method, write a script to convert the following string to a list where each word is located in its own index. Print the list.\n",
    "\n",
    "Example:\n",
    "\n",
    "string = \"Turn this into a list.\"\n",
    "\n",
    "Output:  ['Turn', 'this', 'into', 'a', 'list.']\n",
    "\n",
    "NOTE: This answer can be hardcoded to just copy and paste the above output into a print function. The point of this challenge is to avoid hardcoding and use the string method to achieve the output."
   ]
  },
  {
   "cell_type": "code",
   "execution_count": null,
   "metadata": {},
   "outputs": [],
   "source": [
    "string = \"Turn this into a list.\"\n",
    "split_string = string.split()\n",
    "print(split_string)"
   ]
  },
  {
   "cell_type": "markdown",
   "metadata": {},
   "source": [
    "Write a script using string formatting to take the given variables and use them in the following formatted sentence:\n",
    "\n",
    "A username could be: __ with the password: __   \n",
    "\n",
    "NOTE: the underlines should be filled in with the values found in username and password"
   ]
  },
  {
   "cell_type": "code",
   "execution_count": null,
   "metadata": {},
   "outputs": [],
   "source": [
    "username = 'cyber.student'\n",
    "password = 'WillThisEverEnd?'\n",
    "print(\"A username could be:\",username,\"with the password:\",password)"
   ]
  },
  {
   "cell_type": "markdown",
   "metadata": {},
   "source": [
    "Change the 3rd index of the given list li to the letter 't'. Then use a string method to convert it into a single string and print it.\n",
    "\n",
    "NOTE: You can solve this challenge by hardcoding and just using print('Feet'). You will not be doing yourself any favors by doing this. Please use the string method."
   ]
  },
  {
   "cell_type": "code",
   "execution_count": null,
   "metadata": {},
   "outputs": [],
   "source": [
    "li = [\"F\",\"e\",\"e\",\"d\"]\n",
    "#4th index\n",
    "li.insert(3,\"t\")\n",
    "li.pop(4)\n",
    "y = str(li)\n",
    "string3 = \"\".join(li)\n",
    "print(string3)"
   ]
  },
  {
   "cell_type": "markdown",
   "metadata": {},
   "source": [
    "Replace the letter a, with b. Count how many b's are in the string.\n",
    "string: \"abbbabbbaaaabaabaababcabababaaabaababcabababbabbbcaabababacbababababababababababa\""
   ]
  },
  {
   "cell_type": "code",
   "execution_count": null,
   "metadata": {},
   "outputs": [],
   "source": [
    "stringz = \"abbbabbbaaaabaabaababcabababaaabaababcabababbabbbcaabababacbababababababababababa\"\n",
    "stringx = (stringz.replace(\"a\",\"b\"))\n",
    "print(stringx.count(\"b\"))"
   ]
  },
  {
   "cell_type": "markdown",
   "metadata": {},
   "source": [
    "## Input/Output Practice\n",
    "Write a script to accept the user input for two numbers saved into the variables num1 and num2.\n",
    "\n",
    "Then add the numbers stored in num1 and num2 together and print the output.\n",
    "\n",
    "Example:\n",
    "\n",
    "if num1 collects the string 5 and num2 collects the string 5, then the integer 10 should be printed.\n",
    "\n",
    "NOTE: Do NOT include a string prompt inside your input function - leave the parenthesis blank"
   ]
  },
  {
   "cell_type": "code",
   "execution_count": null,
   "metadata": {},
   "outputs": [],
   "source": [
    "num1 = int(input())\n",
    "num2 = int(input())\n",
    "num3 = (num1 + num2)\n",
    "print(num3)"
   ]
  },
  {
   "cell_type": "markdown",
   "metadata": {},
   "source": [
    "Write a script to accept the user input for a name. Using string formatting, add the name to the following string and print it:\n",
    "\"Welcome to Python, _________\"\n",
    "\n",
    "NOTE: Do NOT include a string message inside your input function"
   ]
  },
  {
   "cell_type": "code",
   "execution_count": null,
   "metadata": {},
   "outputs": [],
   "source": [
    "x = input()\n",
    "print(\"Welcome to Python,\",x)"
   ]
  },
  {
   "cell_type": "markdown",
   "metadata": {},
   "source": [
    "## Py2 End of Lecture - CTF Challenges\n",
    "\n",
    "Use python to produce code below that will create several named variables with the specified value:\n",
    "\n",
    "| Variable | Value | Type |\n",
    "|:--:|:--:|:--:|\n",
    "| hello | \"hello\" | string|\n",
    "| is_python_awesome | True |boolean |\n",
    "| days_in_python | 6 | integer|\n",
    "| pie_size | 3.14 |float |\n",
    "\n",
    "After creating all variables and assigning their value, print each variable on a separate line\n"
   ]
  },
  {
   "cell_type": "code",
   "execution_count": null,
   "metadata": {},
   "outputs": [],
   "source": [
    "#enter code here\n",
    "hello = \"hello\"\n",
    "is_python_awesome = True\n",
    "days_in_python = int(6)\n",
    "pie_size = float(3.14)\n",
    "print(hello)\n",
    "print(is_python_awesome)\n",
    "print(days_in_python)\n",
    "print(pie_size)"
   ]
  },
  {
   "cell_type": "markdown",
   "metadata": {},
   "source": [
    "Use Python code to create the following variables. Those variables will be assigned the Starting Value as seen in the table below. \n",
    "\n",
    "After assigning each Variable with a Starting Value, use Python Built-in Functions to perform the conversion designated in the Convert to Type column.\n",
    "\n",
    "|Variable|Starting Value|Convert to Type|\n",
    "|:--:|:--:|:--:|\n",
    "|int_input| \"345\"| integer|\n",
    "|pi_4|\"3.1415\"|float|\n",
    "|hours_str|40| string|\n",
    "|hourly_rate|15|float|\n",
    "\n",
    "\n",
    "After assigning all variables and performing the conversion functions, print each variable on separate lines in the order they appear in the table."
   ]
  },
  {
   "cell_type": "code",
   "execution_count": null,
   "metadata": {},
   "outputs": [],
   "source": [
    "int_input = \"345\"\n",
    "pi_4 = \"3.1415\"\n",
    "hours_str = 40\n",
    "hourly_rate = 15\n",
    "int_input= int(int_input)\n",
    "pi_4 = float(pi_4)\n",
    "hours_str = str(hours_str)\n",
    "hourly_rate = float(hourly_rate)\n",
    "print(int_input)\n",
    "print(pi_4)\n",
    "print(hours_str)\n",
    "print(hourly_rate)"
   ]
  },
  {
   "cell_type": "markdown",
   "metadata": {},
   "source": [
    "Use python to produce code below that will create several named variables with the specified value using math operators:\n",
    "\n",
    "|Variable| \tValue| \tType|\n",
    "|:--:|:--:|:--|\n",
    "|x| 16| integer|\n",
    "|y| 3| \tinteger|\n",
    "|xysum| sum of x and y| integer|\n",
    "|xydiff| difference of x and y| integer|\n",
    "|xyprod| product of x and y| integer|\n",
    "|xyquo| quotient of x and y| \tfloat|\n",
    "|xyintquo| \tinteger quotient of x and y| \tinteger|\n",
    "|xymod| modulus of x and y| \tinteger|\n",
    "\n",
    "After assigning all variables and performing the assigned math operations print each variable on a separate line in the order they appear in the table."
   ]
  },
  {
   "cell_type": "code",
   "execution_count": null,
   "metadata": {},
   "outputs": [],
   "source": [
    "x = (16)\n",
    "y = (3)\n",
    "xysum = int(x + y)\n",
    "xydiff = int(x - y)\n",
    "xyprod = int(x * y)\n",
    "xyquo = float(x/y)\n",
    "xyintquo = int(x//y)\n",
    "xymod = int(x%y)\n",
    "print(xysum)\n",
    "print(xydiff)\n",
    "print(xyprod)\n",
    "print(xyquo)\n",
    "print(xyintquo)\n",
    "print(xymod)"
   ]
  },
  {
   "cell_type": "markdown",
   "metadata": {},
   "source": [
    "Use python to produce code below that will create several named variables that read a value (or collect input) from a user.\n",
    "\n",
    "output should use string formatting to access the values used in name, greeting, and time\n",
    "\n",
    "After creating all variables print output.\n",
    "\n",
    "Example 1:\n",
    "\n",
    "|Variable| \tExample Input Value| \tType|\n",
    "|:--:|:--:|:--:|\n",
    "|name| \tJerry| \tstr|\n",
    "|greeting| \tSir| \tstr|\n",
    "|time| \tnoon| \tstr|\n",
    "|output| \tHello Jerry! Sir, will you be arriving by noon?| \tstr|\n",
    "\n",
    "Example 2:\n",
    "|Variable| \tExample Input Value| \tType|\n",
    "|:--:|:--:|:--:|\n",
    "|name| \tKaren| \tstr|\n",
    "|greeting| \tMadam| \tstr|\n",
    "|time| \tmidnight| \tstr|\n",
    "|output| \tHello Karen! Madam, will you be arriving by midnight?| \tstr|"
   ]
  },
  {
   "cell_type": "code",
   "execution_count": null,
   "metadata": {},
   "outputs": [],
   "source": [
    "name = input()\n",
    "greeting = input()\n",
    "time = input()\n",
    "output1 = (\"Hello\")\n",
    "output2 = f'{name}!'\n",
    "output3 = f'{greeting},'\n",
    "output4 = f'{time}?'\n",
    "print(output1,output2,output3,\"will you be arriving by\",output4)"
   ]
  },
  {
   "cell_type": "markdown",
   "metadata": {},
   "source": [
    "Use python to produce code below that will perform the following:\n",
    "\n",
    "    Create a variable named user_input that will read multiple numbers separated by spaces on the same line from the user.\n",
    "        An example input may be:1 2 3 4\n",
    "    Update user_input to change all spaces to a plus sign.\n",
    "    Print the resulting string stored in user_input to the user."
   ]
  },
  {
   "cell_type": "code",
   "execution_count": null,
   "metadata": {},
   "outputs": [],
   "source": [
    "user_input = (input())\n",
    "output = user_input.replace(\" \",\"+\") \n",
    "print(output)"
   ]
  },
  {
   "cell_type": "markdown",
   "metadata": {},
   "source": [
    "Use python to produce code below that will:\n",
    "\n",
    "    Given an email address in email\n",
    "    Split the email into a list named lst\n",
    "    The list will contain all individual parts of the email\n",
    "    Example: email = 'alan.m.turing@genius.com' -> lst = ['alan','m','turing', 'genius', 'com']\n"
   ]
  },
  {
   "cell_type": "code",
   "execution_count": null,
   "metadata": {},
   "outputs": [],
   "source": [
    "email = 'alan.m.turing@genius.com'\n",
    "email3 = email.replace(\"@\",\".\") \n",
    "lst = email3.split(\".\")\n",
    "print(lst)"
   ]
  },
  {
   "cell_type": "markdown",
   "metadata": {},
   "source": [
    "## Python Practice Quiz 1"
   ]
  },
  {
   "cell_type": "markdown",
   "metadata": {},
   "source": [
    "Define a function named q1 that takes one parameter floatstr, which is a comma separated string of floats,  and return a list with each of the floats in the argument as elements in the list.\n",
    "\n",
    "Example:\n",
    "\n",
    "q1('1.2,5.4,9.8,5.7')\n",
    "\n",
    "Returns:  [1.2, 5.4, 9.8, 5.7]"
   ]
  },
  {
   "cell_type": "code",
   "execution_count": null,
   "metadata": {},
   "outputs": [],
   "source": [
    "#First Define a function that take a parameter floatstr which is a comma seperated string of floats\n",
    "\n",
    "\n",
    "def q1 (floatstr):\n",
    "    y = [] # Empty List\n",
    "    floatstr = floatstr.split(\",\") #Split on the comma\n",
    "    for item in floatstr:\n",
    "        x = (float(item))\n",
    "        y.append(x)\n",
    "    return y\n",
    "\n",
    "q1('1.2,5.4,9.8,5.7')\n",
    "\n",
    "#Return a list with each of the floats in a argument as ellements in the list."
   ]
  },
  {
   "cell_type": "markdown",
   "metadata": {},
   "source": [
    "Complete the function q2 which takes one parameter (a list of integers) and returns the average of all the arguments as a float.\n",
    "\n",
    "Example: \n",
    "\n",
    "q2([3,4,9,10,5,80,9])\n",
    "\n",
    "Returns: 17.142857142857142"
   ]
  },
  {
   "cell_type": "code",
   "execution_count": null,
   "metadata": {},
   "outputs": [],
   "source": [
    "def q2(args):\n",
    "    return sum(args)/len(args)\n",
    "\n",
    "q2([3,4,9,10,5,80,9])"
   ]
  },
  {
   "cell_type": "markdown",
   "metadata": {},
   "source": [
    "Complete the function q3 which takes two parameters: a list (lst) and a number of items (n),  and returns a new list containing the last n entries in lst.\n",
    "\n",
    "Example: \n",
    "\n",
    "q3(['one','two','three','four'],2)\n",
    " \n",
    "Returns: ['three', 'four']"
   ]
  },
  {
   "cell_type": "code",
   "execution_count": null,
   "metadata": {},
   "outputs": [],
   "source": [
    "def q3(lst,n):\n",
    "    return (lst[-n:])\n",
    "\n",
    "q3(['one','two','three','four'],2)"
   ]
  },
  {
   "cell_type": "markdown",
   "metadata": {},
   "source": [
    "Complete the function q4 which takes one parameter (a string) and return a list containing the ordinal numbers of each character in the string in the order found in the parameter string.\n",
    "\n",
    "Example:\n",
    "\n",
    "q4('hello')\n",
    "\n",
    "Returns: [104, 101, 108, 108, 111]"
   ]
  },
  {
   "cell_type": "code",
   "execution_count": null,
   "metadata": {},
   "outputs": [
    {
     "data": {
      "text/plain": [
       "[104, 101, 108, 108, 111]"
      ]
     },
     "execution_count": 27,
     "metadata": {},
     "output_type": "execute_result"
    }
   ],
   "source": [
    "def q4(strng):\n",
    "    lst = []\n",
    "    for item in strng:\n",
    "        #print(ord(item))\n",
    "        lst.append((ord(item)))\n",
    "    return lst\n",
    "#Need to call function to have it run in this instance q4\n",
    "\n",
    "q4('hello')"
   ]
  },
  {
   "cell_type": "markdown",
   "metadata": {},
   "source": [
    "Complete the function q5 which takes one parameter (a string) and return a tuple with each element in the tuple containing a single word from the parameter string in order.\n",
    "\n",
    "Example:\n",
    "\n",
    "q5('this is a test')\n",
    "\n",
    "Returns: ('this', 'is', 'a', 'test')"
   ]
  },
  {
   "cell_type": "code",
   "execution_count": null,
   "metadata": {},
   "outputs": [],
   "source": [
    "def q5(strng):\n",
    "    lst = []\n",
    "    tup = ()\n",
    "    strng = strng.split()\n",
    "    tup = tuple(strng)\n",
    "    return tup"
   ]
  },
  {
   "cell_type": "markdown",
   "metadata": {},
   "source": [
    "Complete the function q6 which takes two parameters: a dictionary (catalog) whose keys are product names and values are product prices per unit and a list of tuples (order) of product names and quantities, computes and returns the total value of the order.\n",
    "\n",
    "Using this catalog:\n",
    "\n",
    "catalog = {'AMD Ryzen 5 5600X': 289.99,'Intel Core i9-9900K': 363.50,'AMD Ryzen 9 5900X': 569.99}\n",
    "\n",
    "And this order:\n",
    "\n",
    "order = [('AMD Ryzen 5 5600X', 5), ('Intel Core i9-9900K', 3)]\n",
    "\n",
    "Example:\n",
    "\n",
    "q6(catalog, order)\n",
    "\n",
    "Returns: 2540.45\n",
    "\n",
    "How the above result was computed:\n",
    "\n",
    "(289.99 * 5) + (363.50 * 3)"
   ]
  },
  {
   "cell_type": "code",
   "execution_count": 28,
   "metadata": {},
   "outputs": [
    {
     "name": "stdout",
     "output_type": "stream",
     "text": [
      "{'AMD Ryzen 5 5600X': 5, 'Intel Core i9-9900K': 3}\n",
      "AMD Ryzen 5 5600X\n",
      "AMD Ryzen 5 5600X\n",
      "Intel Core i9-9900K\n",
      "Intel Core i9-9900K\n"
     ]
    },
    {
     "data": {
      "text/plain": [
       "2540.45"
      ]
     },
     "execution_count": 28,
     "metadata": {},
     "output_type": "execute_result"
    }
   ],
   "source": [
    "catalog = {'AMD Ryzen 5 5600X': 289.99,'Intel Core i9-9900K': 363.50,'AMD Ryzen 9 5900X': 569.99}\n",
    "order = [('AMD Ryzen 5 5600X', 5), ('Intel Core i9-9900K', 3)]\n",
    "\n",
    "def q6(catalog, order):\n",
    "    dict_1 = {}\n",
    "    total = 0\n",
    "    dict_1 = dict(order)\n",
    "    print(dict_1)\n",
    "    for item in dict_1:\n",
    "        print(item)\n",
    "        if item in dict_1:\n",
    "            print(item)\n",
    "            total += (dict_1[item]) * (catalog[item])\n",
    "    return total\n",
    "\n",
    "catalog = {'AMD Ryzen 5 5600X': 289.99,'Intel Core i9-9900K': 363.50,'AMD Ryzen 9 5900X': 569.99}\n",
    "order = [('AMD Ryzen 5 5600X', 5), ('Intel Core i9-9900K', 3)]\n",
    "\n",
    "q6(catalog, order)\n",
    "#\"\"\" menu = {'fries': 0.99, 'water': 8.99, 'waffles': 4.99, 'tequila': 5.00}\n",
    "#order = {'whopper':5, 'water': 5, 'fries': 55}\n",
    "# get a grand total cost of the order\n",
    "\n",
    "#total = 0\n",
    "#for item in order:                                                      # want to go through each of the ordered items\n",
    "                                                                        # need to see if each item ordered is in the menu.\n",
    "    #if item in menu:                                                    # if the item is in the menu you add to the total\n",
    "        #total += (order[item]) * (menu[item])                           # you can compare if a specific value is in a dictionary by using in\n",
    "\n",
    "#print(f'${total}') \"\"\""
   ]
  },
  {
   "cell_type": "markdown",
   "metadata": {},
   "source": [
    "Complete the function q7 which takes one parameter: a string representing a filename (filename), opens the file and returns the length of the first line in the file excluding the line terminator. Use file1.txt as a test case.\n",
    "\n",
    "Example: \n",
    "\n",
    "q7('file1.txt')\n",
    "\n",
    "Returns: 65"
   ]
  },
  {
   "cell_type": "code",
   "execution_count": null,
   "metadata": {},
   "outputs": [],
   "source": [
    "def q7(filename):\n",
    "    with open(filename) as file_obj:\n",
    "        file_content = file_obj.read\n",
    "        x = (file_obj.readline())\n",
    "        y = x.strip()\n",
    "        return (len(y))"
   ]
  },
  {
   "cell_type": "markdown",
   "metadata": {},
   "source": [
    "Complete the function q8 which takes two parameters: a filename and a list: lst, writes each entry from the list to the file on separate lines until a case-insensitive entry of \"stop\" is found in the list. If \"stop\" is not found in the list, write the entire list to the file on separate lines. Each time the function executes, it overwrites the file."
   ]
  },
  {
   "cell_type": "code",
   "execution_count": 2,
   "metadata": {},
   "outputs": [],
   "source": [
    "def q8(filename, lst):\n",
    "    with open(filename, 'w') as file_obj:  # Open file in write mode\n",
    "        for item in lst:\n",
    "            # Check if the item is \"stop\" (case-insensitive)\n",
    "            if item.lower() == \"stop\":\n",
    "                break\n",
    "            else:\n",
    "                file_obj.write(item + \"\\n\")  # Write each item followed by a newline\n",
    "\n",
    "# Example usage\n",
    "q8('output.txt', ['apple', 'banana', 'stop', 'grape'])"
   ]
  },
  {
   "cell_type": "markdown",
   "metadata": {},
   "source": [
    "Complete the function q9 which takes one parameter: an integer (miltime) representing military time and returns a string containing the greeting of the day.\n",
    "\n",
    "    0300-1159 \"Good Morning\"\n",
    "    1200-1559 \"Good Afternoon\"\n",
    "    1600-2059 \"Good Evening\"\n",
    "    2100-0259 \"Good Night\"\n",
    "\n",
    "NOTE: the actual time 0305 would be entered as 305 into the function\n",
    "\n",
    "Example:\n",
    "\n",
    "q9(305)\n",
    "\n",
    "Returns: Good Morning"
   ]
  },
  {
   "cell_type": "code",
   "execution_count": 3,
   "metadata": {},
   "outputs": [
    {
     "name": "stdout",
     "output_type": "stream",
     "text": [
      "Good Morning\n"
     ]
    }
   ],
   "source": [
    "def q9(miltime):\n",
    "    # Check the time and return the appropriate greeting\n",
    "    if 300 <= miltime <= 1159:\n",
    "        return \"Good Morning\"\n",
    "    elif 1200 <= miltime <= 1559:\n",
    "        return \"Good Afternoon\"\n",
    "    elif 1600 <= miltime <= 2059:\n",
    "        return \"Good Evening\"\n",
    "    else:\n",
    "        return \"Good Night\"\n",
    "\n",
    "# Example usage\n",
    "print(q9(305))  # Returns: \"Good Morning\""
   ]
  },
  {
   "cell_type": "markdown",
   "metadata": {},
   "source": [
    "Complete the function q10 which takes one parameter: numlist (a list of numbers) and returns True if all numbers in the list are NOT negative. If any numbers in the list are negative, return False.\n",
    "\n",
    "Example:\n",
    "\n",
    "q10([1,2,3,4,5,6])\n",
    "\n",
    "Returns: True\n",
    "\n",
    "Example 2:\n",
    "\n",
    "q10([1,2,3,4,-5,6,7])\n",
    "\n",
    "Returns: False"
   ]
  },
  {
   "cell_type": "code",
   "execution_count": 4,
   "metadata": {},
   "outputs": [
    {
     "name": "stdout",
     "output_type": "stream",
     "text": [
      "True\n",
      "False\n"
     ]
    }
   ],
   "source": [
    "def q10(numlist):\n",
    "    # Check if any number in the list is negative\n",
    "    for num in numlist:\n",
    "        if num < 0:\n",
    "            return False  # Return False if a negative number is found\n",
    "    return True  # Return True if no negative numbers are found\n",
    "\n",
    "# Example usage\n",
    "print(q10([1, 2, 3, 4, 5, 6]))  # Returns: True\n",
    "print(q10([1, 2, 3, 4, -5, 6, 7]))  # Returns: False"
   ]
  },
  {
   "cell_type": "markdown",
   "metadata": {},
   "source": [
    "## Python Practice Quiz 2"
   ]
  },
  {
   "cell_type": "markdown",
   "metadata": {},
   "source": [
    "Complete the function q1 which takes one parameter: a string of multiple words separated by single spaces and print a new string with the sentence reversed. The words themselves should remain as they are.\n",
    "\n",
    "For example, given 'it is accepted as a masterpiece on strategy', the printed string should be 'strategy on masterpiece a as accepted is it'."
   ]
  },
  {
   "cell_type": "code",
   "execution_count": null,
   "metadata": {},
   "outputs": [],
   "source": [
    "def q1(sentence):\n",
    "    # Split the sentence into a list of words\n",
    "    words = sentence.split()\n",
    "    \n",
    "    # Reverse the list of words\n",
    "    reversed_words = words[::-1]\n",
    "    \n",
    "    # Join the reversed list of words back into a string and print it\n",
    "    print(\" \".join(reversed_words))\n",
    "\n",
    "# Example usage\n",
    "q1('it is accepted as a masterpiece on strategy')\n",
    "# Output: 'strategy on masterpiece a as accepted is it'"
   ]
  },
  {
   "cell_type": "markdown",
   "metadata": {},
   "source": [
    "Complete the function q2 which takes one parameter: a postive integer and print its string representiation with commas seperating groups of 3 digits. For example, given 65535 the printed string should be '65,535'"
   ]
  },
  {
   "cell_type": "code",
   "execution_count": 5,
   "metadata": {},
   "outputs": [
    {
     "name": "stdout",
     "output_type": "stream",
     "text": [
      "65,535\n",
      "123,456,789\n",
      "1,000\n"
     ]
    }
   ],
   "source": [
    "def q2(n):\n",
    "    # Convert the number to a string\n",
    "    num_str = str(n)\n",
    "    \n",
    "    # Initialize an empty result string\n",
    "    result = \"\"\n",
    "    \n",
    "    # Start counting digits from the right\n",
    "    count = 0\n",
    "    \n",
    "    # Loop through the number string from right to left\n",
    "    for i in range(len(num_str) - 1, -1, -1):\n",
    "        result = num_str[i] + result  # Add the current digit to the result\n",
    "        \n",
    "        count += 1\n",
    "        \n",
    "        # After every 3 digits, add a comma (but not at the start of the number)\n",
    "        if count == 3 and i != 0:\n",
    "            result = \",\" + result\n",
    "            count = 0  # Reset the counter\n",
    "    \n",
    "    # Print the result with commas\n",
    "    print(result)\n",
    "\n",
    "# Example usage\n",
    "q2(65535)  # Output: '65,535'\n",
    "q2(123456789)  # Output: '123,456,789'\n",
    "q2(1000)  # Output: '1,000'"
   ]
  },
  {
   "cell_type": "code",
   "execution_count": null,
   "metadata": {},
   "outputs": [],
   "source": [
    "#Alternate:\n",
    "def q2(n):\n",
    "    # Convert the integer to a string\n",
    "    n_str = str(n)\n",
    "    \n",
    "    # Initialize an empty list to hold the result\n",
    "    result = []\n",
    "    \n",
    "    # Start from the end of the string and process in chunks of 3 digits\n",
    "    while len(n_str) > 3:\n",
    "        # Add the last 3 digits to the result\n",
    "        result.insert(0, n_str[-3:])\n",
    "        # Remove the last 3 digits from the string\n",
    "        n_str = n_str[:-3]\n",
    "    \n",
    "    # Add the remaining part of the string (less than or equal to 3 digits)\n",
    "    result.insert(0, n_str)\n",
    "    \n",
    "    # Join the parts with commas and print the result\n",
    "    print(\",\".join(result))\n",
    "\n",
    "# Example usage\n",
    "q2(65535)  # Output: '65,535'\n",
    "q2(123456789)  # Output: '123,456,789'\n",
    "q2(1000)  # Output: '1,000'\n"
   ]
  },
  {
   "cell_type": "markdown",
   "metadata": {},
   "source": [
    "Complete the function q3 which takes two parameters: two lists of integers and print a sorted list that contains all integers from both lists in descending order.\n",
    "\n",
    "For example, given [3,4,9] and [8,1,5] the returned list should be [9,8,5,4,3,1]. The printed list may contain duplicates."
   ]
  },
  {
   "cell_type": "code",
   "execution_count": null,
   "metadata": {},
   "outputs": [],
   "source": [
    "def q3(lst0, lst1):\n",
    "    # Combine both lists\n",
    "    combined_list = lst0 + lst1\n",
    "    \n",
    "    # Sort the combined list in descending order\n",
    "    combined_list.sort(reverse=True)\n",
    "    \n",
    "    # Print the sorted list\n",
    "    print(combined_list)\n",
    "\n",
    "# Example usage\n",
    "q3([3, 4, 9], [8, 1, 5])  # Output: [9, 8, 5, 4, 3, 1]"
   ]
  },
  {
   "cell_type": "markdown",
   "metadata": {},
   "source": [
    "Complete the function q4 which takes three parameters representing 3 scores and print 'GO' if the average score is greater than 50. Otherwise print 'NOGO'."
   ]
  },
  {
   "cell_type": "code",
   "execution_count": null,
   "metadata": {},
   "outputs": [],
   "source": [
    "def q4(s1, s2, s3):\n",
    "    # Calculate the average score\n",
    "    average_score = (s1 + s2 + s3) / 3\n",
    "    \n",
    "    # Check if the average score is greater than 50\n",
    "    if average_score > 50:\n",
    "        print(\"GO\")\n",
    "    else:\n",
    "        print(\"NOGO\")\n",
    "\n",
    "# Example usage\n",
    "q4(60, 55, 40)  # Output: \"GO\"\n",
    "q4(30, 40, 50)  # Output: \"NOGO\""
   ]
  },
  {
   "cell_type": "markdown",
   "metadata": {},
   "source": [
    "Complete the function q5 which takes two parameters: integer and limit, and print a list of multiples of the integer up to and including the limit.\n",
    "\n",
    "For example, if integer = 3 and limit = 30, the printed list should be [0, 3, 6, 9, 12, 15, 18, 21, 24, 27, 30]. Note, 0 is a multiple of any integer except 0 itself."
   ]
  },
  {
   "cell_type": "code",
   "execution_count": null,
   "metadata": {},
   "outputs": [],
   "source": [
    "def q5(integer, limit):\n",
    "    # Create an empty list to store the multiples\n",
    "    multiples = []\n",
    "    \n",
    "    # Loop through numbers from 0 to the limit\n",
    "    for i in range(0, limit + 1, integer):\n",
    "        multiples.append(i)\n",
    "    \n",
    "    # Print the list of multiples\n",
    "    print(multiples)\n",
    "\n",
    "# Example usage\n",
    "q5(3, 30)  # Output: [0, 3, 6, 9, 12, 15, 18, 21, 24, 27, 30]\n",
    "q5(5, 25)  # Output: [0, 5, 10, 15, 20, 25]"
   ]
  },
  {
   "cell_type": "code",
   "execution_count": null,
   "metadata": {},
   "outputs": [],
   "source": [
    "#Alternate\n",
    "def q5(integer, limit):\n",
    "    # Create a list of multiples of 'integer' up to 'limit' (inclusive)\n",
    "    multiples = [i for i in range(0, limit+1, integer)]\n",
    "    \n",
    "    # Print the list of multiples\n",
    "    print(multiples)\n",
    "\n",
    "# Example usage\n",
    "q5(3, 30)  # Output: [0, 3, 6, 9, 12, 15, 18, 21, 24, 27, 30]"
   ]
  },
  {
   "cell_type": "markdown",
   "metadata": {},
   "source": [
    "Complete the function q6 which takes two parameters (representing two filenames) and return a list whose elements consist of line numbers for which the two files differ. The first line is considered line 0.\n",
    "\n",
    "For example, using the following files: test1.txt and test2.txt should return [2, 4]"
   ]
  },
  {
   "cell_type": "code",
   "execution_count": null,
   "metadata": {},
   "outputs": [],
   "source": [
    "def q6(file1, file2):\n",
    "    # Open both files\n",
    "    with open(file1, 'r') as f1, open(file2, 'r') as f2:\n",
    "        lines1 = f1.readlines()  # Read all lines from the first file\n",
    "        lines2 = f2.readlines()  # Read all lines from the second file\n",
    "\n",
    "    # Create a list to hold the line numbers where the files differ\n",
    "    differing_lines = []\n",
    "\n",
    "    # Iterate through the lines and compare\n",
    "    for i in range(min(len(lines1), len(lines2))):\n",
    "        if lines1[i] != lines2[i]:\n",
    "            differing_lines.append(i)\n",
    "    \n",
    "    # Handle case where one file is longer than the other\n",
    "    if len(lines1) != len(lines2):\n",
    "        longer_file = lines1 if len(lines1) > len(lines2) else lines2\n",
    "        differing_lines.extend(range(len(longer_file[len(lines2):])))\n",
    "\n",
    "    return differing_lines\n",
    "\n",
    "# Example usage\n",
    "print(q6(\"test1.txt\", \"test2.txt\"))  # Output: [2, 4]"
   ]
  },
  {
   "cell_type": "code",
   "execution_count": null,
   "metadata": {},
   "outputs": [],
   "source": [
    "#Alternate\n",
    "def q6(file1, file2):\n",
    "    # Initialize a list to store the line numbers where the files differ\n",
    "    differing_lines = []\n",
    "\n",
    "    # Open both files and compare them line by line\n",
    "    with open(file1, 'r') as f1, open(file2, 'r') as f2:\n",
    "        # Read lines from both files\n",
    "        lines1 = f1.readlines()\n",
    "        lines2 = f2.readlines()\n",
    "\n",
    "        # Loop through the lines and compare them\n",
    "        for i in range(min(len(lines1), len(lines2))):\n",
    "            if lines1[i] != lines2[i]:\n",
    "                differing_lines.append(i)  # Add the line number if they differ\n",
    "\n",
    "        # If file1 is longer, add the remaining line numbers\n",
    "        for i in range(len(lines1), len(lines2)):\n",
    "            differing_lines.append(i)\n",
    "\n",
    "        # If file2 is longer, add the remaining line numbers\n",
    "        for i in range(len(lines2), len(lines1)):\n",
    "            differing_lines.append(i)\n",
    "\n",
    "    return differing_lines\n",
    "\n",
    "# Example usage:\n",
    "# Replace 'test1.txt' and 'test2.txt' with the actual filenames when running this code\n",
    "#print(q6('test1.txt', 'test2.txt'))"
   ]
  },
  {
   "cell_type": "markdown",
   "metadata": {},
   "source": [
    "Complete the function q7 which takes one parameter (a list), iterates through the given list, and returns the first duplicate value you come across.\n",
    "\n",
    "For example, if given [5,7,9,1,3,7,9,5], the returned value should be 7."
   ]
  },
  {
   "cell_type": "code",
   "execution_count": null,
   "metadata": {},
   "outputs": [],
   "source": [
    "def q7(lst):\n",
    "    # Create an empty set to track elements we have seen\n",
    "    seen = set()\n",
    "    \n",
    "    # Iterate through the list\n",
    "    for num in lst:\n",
    "        if num in seen:\n",
    "            # Return the first duplicate we find\n",
    "            return num\n",
    "        seen.add(num)  # Add the number to the set if it's not a duplicate\n",
    "    \n",
    "    # If no duplicates are found, return None\n",
    "    return None\n",
    "\n",
    "# Example usage:\n",
    "print(q7([5, 7, 9, 1, 3, 7, 9, 5]))  # Output: 7\n",
    "print(q7([1, 2, 3, 4]))  # Output: None (no duplicates)"
   ]
  },
  {
   "cell_type": "code",
   "execution_count": null,
   "metadata": {},
   "outputs": [],
   "source": [
    "#Alternate\n",
    "def q7(lst):\n",
    "    # Create an empty set to track the elements we've seen\n",
    "    seen = set()\n",
    "    \n",
    "    # Iterate through the list\n",
    "    for item in lst:\n",
    "        # If the item is already in the seen set, it is a duplicate\n",
    "        if item in seen:\n",
    "            return item  # Return the first duplicate\n",
    "        # If the item is not a duplicate, add it to the seen set\n",
    "        seen.add(item)\n",
    "    \n",
    "    # If no duplicate is found, return None (or you could raise an error)\n",
    "    return None\n",
    "\n",
    "# Example usage:\n",
    "print(q7([5, 7, 9, 1, 3, 7, 9, 5]))  # Output: 7\n"
   ]
  },
  {
   "cell_type": "markdown",
   "metadata": {},
   "source": [
    "Complete the function q8 which takes one parameter: a string representing a sentence with words being separated by a single space, and return the length of the shortest word. There is no punctuation in the sentence.\n",
    "\n",
    "Example:\n",
    "\n",
    "strng = \"What is the length of the shortest word in this sentence\""
   ]
  },
  {
   "cell_type": "code",
   "execution_count": null,
   "metadata": {},
   "outputs": [],
   "source": [
    "def q8(strng):\n",
    "    # Split the sentence into a list of words\n",
    "    words = strng.split()\n",
    "    \n",
    "    # Find the length of the shortest word\n",
    "    shortest_word_length = min(len(word) for word in words)\n",
    "    \n",
    "    return shortest_word_length\n",
    "\n",
    "# Example usage:\n",
    "print(q8(\"What is the length of the shortest word in this sentence\"))  # Output: 2"
   ]
  },
  {
   "cell_type": "code",
   "execution_count": null,
   "metadata": {},
   "outputs": [],
   "source": [
    "def q8(strng):\n",
    "    # Split the sentence into a list of words\n",
    "    words = strng.split()\n",
    "    \n",
    "    # Find the length of the shortest word by using the min function with the length of each word\n",
    "    shortest_word_length = min(len(word) for word in words)\n",
    "    \n",
    "    # Return the length of the shortest word\n",
    "    return shortest_word_length\n",
    "\n",
    "# Example usage:\n",
    "print(q8(\"What is the length of the shortest word in this sentence\"))  # Output: 2"
   ]
  },
  {
   "cell_type": "markdown",
   "metadata": {},
   "source": [
    "Complete the function q9 which takes one parameter (an alphanumeric string), and return the character whose ascii value is that of the integer representation of all of the digits in the string concatenated in the order in which they appear.\n",
    "\n",
    "For example, given 'hell9oworld7', the returned character should be 'a' which has the ascii value of 97."
   ]
  },
  {
   "cell_type": "code",
   "execution_count": null,
   "metadata": {},
   "outputs": [],
   "source": [
    "def q9(strng):\n",
    "    # Extract all digits from the string\n",
    "    digits = ''.join([char for char in strng if char.isdigit()])\n",
    "    \n",
    "    # Convert the concatenated digits to an integer\n",
    "    ascii_value = int(digits)\n",
    "    \n",
    "    # Return the character corresponding to the ASCII value\n",
    "    return chr(ascii_value)\n",
    "\n",
    "# Example usage:\n",
    "print(q9(\"hell9oworld7\"))  # Output: 'a' (ASCII value 97)"
   ]
  },
  {
   "cell_type": "markdown",
   "metadata": {},
   "source": [
    "Complete the function q10 which takes one parameter (a list of positive integers sorted in ascending order), and return the first non-consecutive value. If all values are consecutive, return 'All are sequential'.\n",
    "\n",
    "For example, given [1,2,3,4,6,7], the returned value should be 6."
   ]
  },
  {
   "cell_type": "code",
   "execution_count": null,
   "metadata": {},
   "outputs": [],
   "source": [
    "def q10(arr):\n",
    "    # Iterate through the list starting from the second element\n",
    "    for i in range(1, len(arr)):\n",
    "        # Check if the current element is not consecutive to the previous one\n",
    "        if arr[i] != arr[i-1] + 1:\n",
    "            return arr[i]  # Return the first non-consecutive number\n",
    "    \n",
    "    # If all numbers are consecutive, return this message\n",
    "    return \"All are sequential\"\n",
    "\n",
    "# Example usage:\n",
    "print(q10([1, 2, 3, 4, 6, 7]))  # Output: 6\n",
    "print(q10([1, 2, 3, 4, 5]))  # Output: \"All are sequential\""
   ]
  }
 ],
 "metadata": {
  "kernelspec": {
   "display_name": "Python 3",
   "language": "python",
   "name": "python3"
  },
  "language_info": {
   "codemirror_mode": {
    "name": "ipython",
    "version": 3
   },
   "file_extension": ".py",
   "mimetype": "text/x-python",
   "name": "python",
   "nbconvert_exporter": "python",
   "pygments_lexer": "ipython3",
   "version": "3.11.9"
  }
 },
 "nbformat": 4,
 "nbformat_minor": 2
}
