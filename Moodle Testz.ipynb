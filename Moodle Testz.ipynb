{
 "cells": [
  {
   "cell_type": "markdown",
   "metadata": {},
   "source": [
    "## Lists and Tuples Practice\n",
    "\n",
    "Extend the following list lst1 to the given tuple tup1. Print the tuple.\n",
    "\n",
    "lst1 = [1,2,3,4,5] \n",
    "\n",
    "tup1 = (\"one\",\"two\",\"three\",\"four\",\"five\")\n",
    "\n",
    "Hint:  Are tuples mutable? \n",
    "\n",
    "One more hint: Are you printing a tuple or a list?"
   ]
  },
  {
   "cell_type": "code",
   "execution_count": 1,
   "metadata": {},
   "outputs": [
    {
     "name": "stdout",
     "output_type": "stream",
     "text": [
      "('one', 'two', 'three', 'four', 'five', 1, 2, 3, 4, 5)\n"
     ]
    }
   ],
   "source": [
    "lst1 = [1,2,3,4,5]\n",
    "lst2 = tuple(lst1)\n",
    "\n",
    "tup1 = (\"one\",\"two\",\"three\",\"four\",\"five\")\n",
    "tup3 = tup1 + lst2\n",
    "print(tup3)"
   ]
  },
  {
   "cell_type": "markdown",
   "metadata": {},
   "source": [
    "## Strings Practice\n",
    "\n",
    "Using a string method, write a script to convert the following string to a list where each word is located in its own index. Print the list.\n",
    "\n",
    "Example:\n",
    "\n",
    "string = \"Turn this into a list.\"\n",
    "\n",
    "Output:  ['Turn', 'this', 'into', 'a', 'list.']\n",
    "\n",
    "NOTE: This answer can be hardcoded to just copy and paste the above output into a print function. The point of this challenge is to avoid hardcoding and use the string method to achieve the output."
   ]
  },
  {
   "cell_type": "code",
   "execution_count": null,
   "metadata": {},
   "outputs": [],
   "source": [
    "string = \"Turn this into a list.\"\n",
    "split_string = string.split()\n",
    "print(split_string)"
   ]
  },
  {
   "cell_type": "markdown",
   "metadata": {},
   "source": [
    "Write a script using string formatting to take the given variables and use them in the following formatted sentence:\n",
    "\n",
    "A username could be: __ with the password: __   \n",
    "\n",
    "NOTE: the underlines should be filled in with the values found in username and password"
   ]
  },
  {
   "cell_type": "code",
   "execution_count": null,
   "metadata": {},
   "outputs": [],
   "source": [
    "username = 'cyber.student'\n",
    "password = 'WillThisEverEnd?'\n",
    "print(\"A username could be:\",username,\"with the password:\",password)"
   ]
  },
  {
   "cell_type": "markdown",
   "metadata": {},
   "source": [
    "Change the 3rd index of the given list li to the letter 't'. Then use a string method to convert it into a single string and print it.\n",
    "\n",
    "NOTE: You can solve this challenge by hardcoding and just using print('Feet'). You will not be doing yourself any favors by doing this. Please use the string method."
   ]
  },
  {
   "cell_type": "code",
   "execution_count": null,
   "metadata": {},
   "outputs": [],
   "source": [
    "li = [\"F\",\"e\",\"e\",\"d\"]\n",
    "#4th index\n",
    "li.insert(3,\"t\")\n",
    "li.pop(4)\n",
    "y = str(li)\n",
    "string3 = \"\".join(li)\n",
    "print(string3)"
   ]
  },
  {
   "cell_type": "markdown",
   "metadata": {},
   "source": [
    "Replace the letter a, with b. Count how many b's are in the string.\n",
    "string: \"abbbabbbaaaabaabaababcabababaaabaababcabababbabbbcaabababacbababababababababababa\""
   ]
  },
  {
   "cell_type": "code",
   "execution_count": null,
   "metadata": {},
   "outputs": [],
   "source": [
    "stringz = \"abbbabbbaaaabaabaababcabababaaabaababcabababbabbbcaabababacbababababababababababa\"\n",
    "stringx = (stringz.replace(\"a\",\"b\"))\n",
    "print(stringx.count(\"b\"))"
   ]
  },
  {
   "cell_type": "markdown",
   "metadata": {},
   "source": [
    "## Input/Output Practice\n",
    "Write a script to accept the user input for two numbers saved into the variables num1 and num2.\n",
    "\n",
    "Then add the numbers stored in num1 and num2 together and print the output.\n",
    "\n",
    "Example:\n",
    "\n",
    "if num1 collects the string 5 and num2 collects the string 5, then the integer 10 should be printed.\n",
    "\n",
    "NOTE: Do NOT include a string prompt inside your input function - leave the parenthesis blank"
   ]
  },
  {
   "cell_type": "code",
   "execution_count": null,
   "metadata": {},
   "outputs": [],
   "source": [
    "num1 = int(input())\n",
    "num2 = int(input())\n",
    "num3 = (num1 + num2)\n",
    "print(num3)"
   ]
  },
  {
   "cell_type": "markdown",
   "metadata": {},
   "source": [
    "Write a script to accept the user input for a name. Using string formatting, add the name to the following string and print it:\n",
    "\"Welcome to Python, _________\"\n",
    "\n",
    "NOTE: Do NOT include a string message inside your input function"
   ]
  },
  {
   "cell_type": "code",
   "execution_count": null,
   "metadata": {},
   "outputs": [],
   "source": [
    "x = input()\n",
    "print(\"Welcome to Python,\",x)"
   ]
  },
  {
   "cell_type": "markdown",
   "metadata": {},
   "source": [
    "## Py2 End of Lecture - CTF Challenges\n",
    "\n",
    "Use python to produce code below that will create several named variables with the specified value:\n",
    "\n",
    "| Variable | Value | Type |\n",
    "|:--:|:--:|:--:|\n",
    "| hello | \"hello\" | string|\n",
    "| is_python_awesome | True |boolean |\n",
    "| days_in_python | 6 | integer|\n",
    "| pie_size | 3.14 |float |\n",
    "\n",
    "After creating all variables and assigning their value, print each variable on a separate line\n"
   ]
  },
  {
   "cell_type": "code",
   "execution_count": null,
   "metadata": {},
   "outputs": [],
   "source": [
    "#enter code here\n",
    "hello = \"hello\"\n",
    "is_python_awesome = True\n",
    "days_in_python = int(6)\n",
    "pie_size = float(3.14)\n",
    "print(hello)\n",
    "print(is_python_awesome)\n",
    "print(days_in_python)\n",
    "print(pie_size)"
   ]
  },
  {
   "cell_type": "markdown",
   "metadata": {},
   "source": [
    "Use Python code to create the following variables. Those variables will be assigned the Starting Value as seen in the table below. \n",
    "\n",
    "After assigning each Variable with a Starting Value, use Python Built-in Functions to perform the conversion designated in the Convert to Type column.\n",
    "\n",
    "|Variable|Starting Value|Convert to Type|\n",
    "|:--:|:--:|:--:|\n",
    "|int_input| \"345\"| integer|\n",
    "|pi_4|\"3.1415\"|float|\n",
    "|hours_str|40| string|\n",
    "|hourly_rate|15|float|\n",
    "\n",
    "\n",
    "After assigning all variables and performing the conversion functions, print each variable on separate lines in the order they appear in the table."
   ]
  },
  {
   "cell_type": "code",
   "execution_count": null,
   "metadata": {},
   "outputs": [],
   "source": [
    "int_input = \"345\"\n",
    "pi_4 = \"3.1415\"\n",
    "hours_str = 40\n",
    "hourly_rate = 15\n",
    "int_input= int(int_input)\n",
    "pi_4 = float(pi_4)\n",
    "hours_str = str(hours_str)\n",
    "hourly_rate = float(hourly_rate)\n",
    "print(int_input)\n",
    "print(pi_4)\n",
    "print(hours_str)\n",
    "print(hourly_rate)"
   ]
  },
  {
   "cell_type": "markdown",
   "metadata": {},
   "source": [
    "Use python to produce code below that will create several named variables with the specified value using math operators:\n",
    "\n",
    "|Variable| \tValue| \tType|\n",
    "|:--:|:--:|:--|\n",
    "|x| 16| integer|\n",
    "|y| 3| \tinteger|\n",
    "|xysum| sum of x and y| integer|\n",
    "|xydiff| difference of x and y| integer|\n",
    "|xyprod| product of x and y| integer|\n",
    "|xyquo| quotient of x and y| \tfloat|\n",
    "|xyintquo| \tinteger quotient of x and y| \tinteger|\n",
    "|xymod| modulus of x and y| \tinteger|\n",
    "\n",
    "After assigning all variables and performing the assigned math operations print each variable on a separate line in the order they appear in the table."
   ]
  },
  {
   "cell_type": "code",
   "execution_count": null,
   "metadata": {},
   "outputs": [],
   "source": [
    "x = (16)\n",
    "y = (3)\n",
    "xysum = int(x + y)\n",
    "xydiff = int(x - y)\n",
    "xyprod = int(x * y)\n",
    "xyquo = float(x/y)\n",
    "xyintquo = int(x//y)\n",
    "xymod = int(x%y)\n",
    "print(xysum)\n",
    "print(xydiff)\n",
    "print(xyprod)\n",
    "print(xyquo)\n",
    "print(xyintquo)\n",
    "print(xymod)"
   ]
  },
  {
   "cell_type": "markdown",
   "metadata": {},
   "source": [
    "Use python to produce code below that will create several named variables that read a value (or collect input) from a user.\n",
    "\n",
    "output should use string formatting to access the values used in name, greeting, and time\n",
    "\n",
    "After creating all variables print output.\n",
    "\n",
    "Example 1:\n",
    "\n",
    "|Variable| \tExample Input Value| \tType|\n",
    "|:--:|:--:|:--:|\n",
    "|name| \tJerry| \tstr|\n",
    "|greeting| \tSir| \tstr|\n",
    "|time| \tnoon| \tstr|\n",
    "|output| \tHello Jerry! Sir, will you be arriving by noon?| \tstr|\n",
    "\n",
    "Example 2:\n",
    "|Variable| \tExample Input Value| \tType|\n",
    "|:--:|:--:|:--:|\n",
    "|name| \tKaren| \tstr|\n",
    "|greeting| \tMadam| \tstr|\n",
    "|time| \tmidnight| \tstr|\n",
    "|output| \tHello Karen! Madam, will you be arriving by midnight?| \tstr|"
   ]
  },
  {
   "cell_type": "code",
   "execution_count": null,
   "metadata": {},
   "outputs": [],
   "source": [
    "name = input()\n",
    "greeting = input()\n",
    "time = input()\n",
    "output1 = (\"Hello\")\n",
    "output2 = f'{name}!'\n",
    "output3 = f'{greeting},'\n",
    "output4 = f'{time}?'\n",
    "print(output1,output2,output3,\"will you be arriving by\",output4)"
   ]
  },
  {
   "cell_type": "markdown",
   "metadata": {},
   "source": [
    "Use python to produce code below that will perform the following:\n",
    "\n",
    "    Create a variable named user_input that will read multiple numbers separated by spaces on the same line from the user.\n",
    "        An example input may be:1 2 3 4\n",
    "    Update user_input to change all spaces to a plus sign.\n",
    "    Print the resulting string stored in user_input to the user."
   ]
  },
  {
   "cell_type": "code",
   "execution_count": null,
   "metadata": {},
   "outputs": [],
   "source": [
    "user_input = (input())\n",
    "output = user_input.replace(\" \",\"+\") \n",
    "print(output)"
   ]
  },
  {
   "cell_type": "markdown",
   "metadata": {},
   "source": [
    "Use python to produce code below that will:\n",
    "\n",
    "    Given an email address in email\n",
    "    Split the email into a list named lst\n",
    "    The list will contain all individual parts of the email\n",
    "    Example: email = 'alan.m.turing@genius.com' -> lst = ['alan','m','turing', 'genius', 'com']\n"
   ]
  },
  {
   "cell_type": "code",
   "execution_count": null,
   "metadata": {},
   "outputs": [],
   "source": [
    "email = 'alan.m.turing@genius.com'\n",
    "email3 = email.replace(\"@\",\".\") \n",
    "lst = email3.split(\".\")\n",
    "print(lst)"
   ]
  },
  {
   "cell_type": "code",
   "execution_count": null,
   "metadata": {},
   "outputs": [],
   "source": []
  },
  {
   "cell_type": "markdown",
   "metadata": {},
   "source": [
    "## Test"
   ]
  },
  {
   "cell_type": "markdown",
   "metadata": {},
   "source": [
    "## Python Functions and Strings"
   ]
  },
  {
   "cell_type": "markdown",
   "metadata": {},
   "source": [
    "Given a function that takes two string parameters, (first_name, last_name), print out the two parameters as a single string with the first letter of each being capitalized. The parameters should be separated by a space.   \n",
    "\n",
    "Example:\n",
    "\n",
    "fullname('james', 'smith')\n",
    "\n",
    "Should print:\n",
    "\n",
    "'James Smith'"
   ]
  },
  {
   "cell_type": "code",
   "execution_count": 1,
   "metadata": {},
   "outputs": [
    {
     "name": "stdout",
     "output_type": "stream",
     "text": [
      "Mike Larry\n"
     ]
    }
   ],
   "source": [
    "def fullname(first_name, last_name):\n",
    "    first_name = first_name.capitalize()\n",
    "    last_name = last_name.capitalize()\n",
    "    print(first_name, last_name)\n",
    "\n",
    "fullname('mike', 'larry')"
   ]
  },
  {
   "cell_type": "markdown",
   "metadata": {},
   "source": [
    "In a function that takes 3 string parameters, name, greeting, time, print the output using the str.format member function or the f-string. The output must use the same boilerplate text as shown below and include the appropriate values assigned to the three parameters.\n",
    "\n",
    "boilerplate text: Hello __! __, will you be arriving by __?\n",
    "\n",
    "NOTE: the __ will be filled in with the corresponding parameters as seen in the examples below\n",
    "\n",
    "Example:\n",
    "\n",
    "check_in('Tim', 'Sir', 'one')\n",
    "\n",
    "Should print:\n",
    "\n",
    "Hello Tim! Sir, will you be arriving by one?\n",
    "\n",
    "Example 2:\n",
    "\n",
    "check_in('Sara', 'Miss', 'two')\n",
    "\n",
    "Should print:\n",
    "\n",
    "Hello Sara! Miss, will you be arriving by two?"
   ]
  },
  {
   "cell_type": "code",
   "execution_count": null,
   "metadata": {},
   "outputs": [],
   "source": [
    "def check_in(name, greeting, time):\n",
    "    name = f'Hello {name}!'\n",
    "    greeting = f'{greeting}, will you be arriving by'\n",
    "    time = f\"{time}?\"\n",
    "    print(name,greeting,time)"
   ]
  },
  {
   "cell_type": "markdown",
   "metadata": {},
   "source": [
    "Given a function that accepts three string parameters, main_topic, subtopic, example, print to the screen a string formatted into an outline with the appropriate spacing as seen below. \n",
    "\n",
    "main_topic will be preceded by Roman numeral 'I', a period, and a space.  ((  NOTE: 'I' is an uppercase i  ))\n",
    "\n",
    "subtopic will be preceded by lowercase 'a', a period, and a space.\n",
    "\n",
    "example will be preceded by Roman numeral 'i', a period, and a space.\n",
    "\n",
    "Example:\n",
    "\n",
    "make_outline(Computer, Software, Applications)\n",
    "\n",
    "Should print:\n",
    "\n",
    "I. Computer\n",
    "    a. Software\n",
    "        i. Applications"
   ]
  },
  {
   "cell_type": "code",
   "execution_count": 2,
   "metadata": {},
   "outputs": [
    {
     "name": "stdout",
     "output_type": "stream",
     "text": [
      "I. Pets\n",
      "\ta. Dogs\n",
      "\t\ti. German Shepard\n"
     ]
    }
   ],
   "source": [
    "def make_outline(main_topic, subtopic, example):\n",
    "    outline = (\n",
    "    f'I. {main_topic}\\n'\n",
    "    f'\\ta. {subtopic}\\n'\n",
    "    f'\\t\\ti. {example}'\n",
    "    )\n",
    "    print(outline)\n",
    "\n",
    "make_outline(\"Pets\", \"Dogs\", \"German Shepard\")"
   ]
  },
  {
   "cell_type": "markdown",
   "metadata": {},
   "source": [
    "Given a function with two string parameters, name, year, print to the screen a message telling the user how old the name will be in the year 2099. Note: the year provided is the birth year.\n",
    "\n",
    "Example:\n",
    "\n",
    "getting_old('James', 1999)\n",
    "\n",
    "Should print the following message:\n",
    "\n",
    "James will be 100 in the year 2099."
   ]
  },
  {
   "cell_type": "code",
   "execution_count": null,
   "metadata": {},
   "outputs": [],
   "source": [
    "def getting_old(name, year):\n",
    "    given_year = 2099\n",
    "    age = given_year - int(year)\n",
    "    print(f\"{name} will be {age} in the year {given_year}.\")"
   ]
  },
  {
   "cell_type": "markdown",
   "metadata": {},
   "source": [
    "Given a function with a single parameter, (word), print to the screen the last letter of  word .\n",
    "\n",
    "Example:\n",
    "\n",
    "based('testing')\n",
    "\n",
    "Should print:\n",
    "\n",
    "g\n",
    "\n",
    "NOTE: You can assume that all strings provided in word will be at least one letter long."
   ]
  },
  {
   "cell_type": "code",
   "execution_count": 3,
   "metadata": {},
   "outputs": [
    {
     "name": "stdout",
     "output_type": "stream",
     "text": [
      "g\n"
     ]
    }
   ],
   "source": [
    "def based(word):\n",
    "    time = word[-1]\n",
    "    print(time)\n",
    "    \n",
    "based('testing')"
   ]
  },
  {
   "cell_type": "markdown",
   "metadata": {},
   "source": [
    "Given a function that has two integer parameters, number, length, return to the screen a string formatted to pad zeros to the left of the number. The total number of characters should be equal to the length.\n",
    "\n",
    "Example:\n",
    "\n",
    "zero_pad_number(2, 5)\n",
    "\n",
    "Should return:\n",
    "\n",
    "'00002'\n",
    "\n",
    "NOTE: Python does not allow leading zeros in integers. What type of object does 00002 need to be?"
   ]
  },
  {
   "cell_type": "code",
   "execution_count": null,
   "metadata": {},
   "outputs": [],
   "source": [
    "def zero_pad_number(number, length):\n",
    "    return str(number).zfill(length)"
   ]
  },
  {
   "cell_type": "markdown",
   "metadata": {},
   "source": [
    "Given a function with two string parameters, vowel, word, return either True if the vowel exists in the word or False if not.\n",
    "\n",
    "NOTE: You will need to use a Python keyword in order to check. \n",
    "\n",
    "Example:\n",
    "\n",
    " V_for_Vowel('a', 'apple')\n",
    "\n",
    "Should return:\n",
    "\n",
    "True\n",
    "\n",
    "NOTE: True and False should NOT be a string. Test cases will check for accurate data type being returned"
   ]
  },
  {
   "cell_type": "code",
   "execution_count": null,
   "metadata": {},
   "outputs": [],
   "source": [
    "def V_for_Vowel(vowel, word):\n",
    "    return vowel in word"
   ]
  },
  {
   "cell_type": "markdown",
   "metadata": {},
   "source": [
    "Given a function that takes two parameters, vowel: str, word: str, return to the screen either True or False if the case-insensitive vowel exists in the case-insensitive word.\n",
    "\n",
    "Example:\n",
    "\n",
    " V_for_Vowel('a', 'PEAR')\n",
    "\n",
    "Should return:\n",
    "\n",
    "True\n",
    "\n",
    "NOTE: True and False should NOT be a string. Test cases will check for accurate data type being returned"
   ]
  },
  {
   "cell_type": "code",
   "execution_count": null,
   "metadata": {},
   "outputs": [],
   "source": [
    "def V_for_Vowel(vowel, word):\n",
    "    return str(vowel.upper()) in str(word.upper())\n",
    "\n",
    "x = V_for_Vowel('a', 'dAd')\n",
    "if type(x) is str:\n",
    "    print('fail')\n",
    "elif x == True:\n",
    "    print('pass')"
   ]
  },
  {
   "cell_type": "markdown",
   "metadata": {},
   "source": [
    "Given a function and one parameter, word: str, print to the screen a single string containing the third, fifth, and seventh character of the string.\n",
    "\n",
    "Assume the word parameter will be at least seven characters long. \n",
    "\n",
    "Example:\n",
    "\n",
    "bang('CyberSecurity')\n",
    "\n",
    "Should print:\n",
    "\n",
    "bre"
   ]
  },
  {
   "cell_type": "code",
   "execution_count": null,
   "metadata": {},
   "outputs": [],
   "source": [
    "def bang(word):\n",
    "    print(word[2] + word[4] + word [6])\n",
    "bang(\"1234567\")"
   ]
  },
  {
   "cell_type": "markdown",
   "metadata": {},
   "source": [
    "## Branching - if/elif/else Practice"
   ]
  },
  {
   "cell_type": "markdown",
   "metadata": {},
   "source": [
    "Given a function that takes two parameters, (lst: list[int], num: int), return True if the num is in the lst, otherwise return False. \n",
    "\n",
    "For example:\n",
    "\n",
    "is_it([1,2,4,5,6], 2)\n",
    "\n",
    "Returns:  True\n",
    "\n",
    "NOTE: True and False should be boolean data types"
   ]
  },
  {
   "cell_type": "code",
   "execution_count": null,
   "metadata": {},
   "outputs": [],
   "source": [
    "def is_it(lst,num):\n",
    "    return(num in lst)\n",
    "\n",
    "is_it([1,2,4,5,6], 2)"
   ]
  },
  {
   "cell_type": "markdown",
   "metadata": {},
   "source": [
    "Create a function named is_greater. The function should take two integers as parameters. The function should return True if the first parameter is greater than the second parameter, if not return False.\n",
    "\n",
    "For example:\n",
    "\n",
    "is_greater(5, 7) Returns:  False\n",
    "\n",
    "is_greater(110, 20) Returns: True\n",
    "\n",
    "NOTE: True and False should be boolean data types"
   ]
  },
  {
   "cell_type": "code",
   "execution_count": null,
   "metadata": {},
   "outputs": [],
   "source": [
    "def is_greater(x, y):\n",
    "    if x > y:\n",
    "        return True\n",
    "    if x <= y:\n",
    "        return False"
   ]
  },
  {
   "cell_type": "markdown",
   "metadata": {},
   "source": [
    "Create a function named is_even that takes one integer as a parameter. The function will return True if the integer is even or False if not.\n",
    "\n",
    "For example:\n",
    "\n",
    "is_even(4) Returns: True\n",
    "\n",
    "is_even(-103) Returns: False\n",
    "\n",
    "NOTE: True and False should be boolean data types"
   ]
  },
  {
   "cell_type": "code",
   "execution_count": null,
   "metadata": {},
   "outputs": [
    {
     "data": {
      "text/plain": [
       "True"
      ]
     },
     "execution_count": 4,
     "metadata": {},
     "output_type": "execute_result"
    }
   ],
   "source": [
    "def is_even(x):\n",
    "    if x % 2 == 0:\n",
    "        return True\n",
    "    else:\n",
    "        return False\n",
    "\n",
    "is_even(4)"
   ]
  },
  {
   "cell_type": "markdown",
   "metadata": {},
   "source": [
    "Create a function named is_odd that takes one integer as a parameter. The function will return True if the integer is odd or False if not.\n",
    "\n",
    "For example:\n",
    "\n",
    "is_odd(4) Returns: False\n",
    "\n",
    "is_odd(-103) Returns: True\n",
    "\n",
    "NOTE: True and False should be boolean data types"
   ]
  },
  {
   "cell_type": "code",
   "execution_count": null,
   "metadata": {},
   "outputs": [],
   "source": [
    "def is_odd(x):\n",
    "    if x % 2 == 0:\n",
    "        return False\n",
    "    else:\n",
    "        return True"
   ]
  },
  {
   "cell_type": "markdown",
   "metadata": {},
   "source": [
    "Create a function named is_divisible that takes two integers as a parameters. The function will return True if the first parameter is divisible by the second parameter, else False.\n",
    "\n",
    "For example:\n",
    "\n",
    "is_divisible(12,4) Returns: True\n",
    "\n",
    "is_divisible(25, 3) Returns: False"
   ]
  },
  {
   "cell_type": "code",
   "execution_count": null,
   "metadata": {},
   "outputs": [],
   "source": [
    "def is_divisible(x,y):\n",
    "     if x % y == 0:\n",
    "          return True\n",
    "     else:\n",
    "          return False"
   ]
  },
  {
   "cell_type": "markdown",
   "metadata": {},
   "source": [
    "Create a function named even_future that takes two integers as parameters. The function should evaluate if the product of the parameters are even or not. Return a string that reads: \"param1 * param2 is even.\" or \"param1 * param2 is odd.\"\n",
    "\n",
    "For example:\n",
    "\n",
    "even_future(4,5) Returns: 4 * 5 is even.\n",
    "\n",
    "even_future(21,3) Returns: 21 * 3 is odd."
   ]
  },
  {
   "cell_type": "code",
   "execution_count": null,
   "metadata": {},
   "outputs": [],
   "source": [
    "def even_future(param1,param2):\n",
    "    time = param1 * param2\n",
    "    if time % 2 == 0:\n",
    "        return (f\"{param1} * {param2} is even.\")\n",
    "    else:\n",
    "        return (f\"{param1} * {param2} is odd.\")"
   ]
  },
  {
   "cell_type": "markdown",
   "metadata": {},
   "source": [
    "Create a function named largest_list that takes two parameters, both will be lists of integers. The function should return the list that has the largest sum.\n",
    "\n",
    "For example: \n",
    "largest_list([1, 2, 3], [4, 5, 6]) Returns: [4,5,6]\n",
    "largest_list([40, 50, 60], [10, 20, 30]) Returns: [40, 50, 60]\n"
   ]
  },
  {
   "cell_type": "code",
   "execution_count": null,
   "metadata": {},
   "outputs": [],
   "source": [
    "def largest_list(list1,list2):\n",
    "    if sum(list1) > sum(list2):\n",
    "        return list1\n",
    "    else:\n",
    "        return list2"
   ]
  },
  {
   "cell_type": "markdown",
   "metadata": {},
   "source": [
    "Create a function named same_letter that takes two strings and an integer for a total of three parameters. The function should return a character if it is found at the same index in both strings. Else, return the string, \"Letters not the same.\". \n",
    "\n",
    "For example:\n",
    "\n",
    "same_letter(\"feet\", \"beat\", 1) -> \"e\"\n",
    "\n",
    "same_letter(\"four\", \"door\", 2) -> \"Letters not the same.\"\n",
    "\n",
    "NOTE:\n",
    "\n",
    "Assume the strings are the same length of characters."
   ]
  },
  {
   "cell_type": "code",
   "execution_count": null,
   "metadata": {},
   "outputs": [],
   "source": [
    "def same_letter(string1,string2,int):\n",
    "    if string1[int] == string2[int]:\n",
    "        return string1[int]\n",
    "    else:\n",
    "        return \"Letters not the same.\""
   ]
  },
  {
   "cell_type": "markdown",
   "metadata": {},
   "source": [
    "## Py3 End of Lecture - CTF Challenges"
   ]
  },
  {
   "cell_type": "markdown",
   "metadata": {},
   "source": [
    "You will NOT be defining a function to solve this challenge\n",
    "\n",
    "FizzBuzz is an interview question that is said to filter out 99.5% of programming job candidates.\n",
    "\n",
    "- Add code so that it reads a number from a user and is stored in a variable called num\n",
    "\n",
    "- If num isn’t divisible by 3 or 5 then print num\n",
    "\n",
    "- If num is a multiple of 3 print 'fizz'\n",
    "\n",
    "- If num is a multiple of 5 print 'buzz' \n",
    "\n",
    "    If num is a multiple of 3 and 5 print 'fizzbuzz'"
   ]
  },
  {
   "cell_type": "code",
   "execution_count": null,
   "metadata": {},
   "outputs": [],
   "source": [
    "num = int(input())\n",
    "if num % 3 == 0 and num % 5 == 0:\n",
    "    print(\"fizzbuzz\")\n",
    "elif num % 3 == 0:\n",
    "    print(\"fizz\")\n",
    "elif num % 5 == 0:\n",
    "    print(\"buzz\")\n",
    "else:\n",
    "    print(num)"
   ]
  },
  {
   "cell_type": "markdown",
   "metadata": {},
   "source": [
    "Use python to produce code below that will perform the following:\n",
    "\n",
    "    Read input from the user stored in the variable num_input, the input will be an integer.\n",
    "    Determine which of the following categories num_input fits into an print this to the user:\n",
    "        Negative Even\n",
    "        Negative Odd\n",
    "        Zero\n",
    "        Positive Even\n",
    "        Positive Odd\n",
    "\n",
    "NOTE: Capitalization matters"
   ]
  },
  {
   "cell_type": "code",
   "execution_count": null,
   "metadata": {},
   "outputs": [],
   "source": [
    "num_input = int(input())\n",
    "if num_input > 0 and num_input % 2 == 0:\n",
    "    print(\"Positive Even\")\n",
    "elif num_input < 0 and num_input % 2 == 0:\n",
    "    print(\"Negative Even\")\n",
    "elif num_input < 0 and num_input % 2 != 0:\n",
    "    print(\"Negative Odd\")\n",
    "elif num_input > 0 and num_input % 2 != 0:\n",
    "    print(\"Positive Odd\")\n",
    "else:\n",
    "    print(\"Zero\")"
   ]
  },
  {
   "cell_type": "markdown",
   "metadata": {},
   "source": [
    "Use python to produce code below that will perform the following:\n",
    "\n",
    "    Create a function named domath that will accept 3 parameters.\n",
    "    The function will add the first two parameters and multiply this sum by the third parameter.\n",
    "    You can select the variables for each of the parameters.\n",
    "    The resulting product will be returned to the caller.\n"
   ]
  },
  {
   "cell_type": "code",
   "execution_count": null,
   "metadata": {},
   "outputs": [],
   "source": [
    "def domath(para1,para2,para3):\n",
    "    x = (para1 + para2)\n",
    "    y = (para3 * x)\n",
    "    return(y)"
   ]
  },
  {
   "cell_type": "markdown",
   "metadata": {},
   "source": [
    "Complete the function below to return the type of the parameter as a string.\n",
    "\n",
    "Possible types and what they should return:\n",
    "\n",
    "|Data Type| Literal string to return:|\n",
    "|:--:|:--:|\n",
    "|String |string|\n",
    "|Boolean|boolean|\n",
    "|Integer| integer|\n",
    "|Float| float|\n",
    "|List| \tlist|\n",
    "|Tuple| tuple|\n",
    "|Any other type of object| \tunknown|\n",
    "\n",
    "Examples:\n",
    "\n",
    "get_type_str('hello world')\n",
    "Returns: string  \n",
    "\n",
    "get_type_str((item1, item2))\n",
    "Returns: tuple\n",
    "get_type_str({})\n",
    "Returns: unknown\n"
   ]
  },
  {
   "cell_type": "code",
   "execution_count": null,
   "metadata": {},
   "outputs": [],
   "source": [
    "def get_type_str(obj):\n",
    "    if isinstance(obj, str):\n",
    "        return \"string\"\n",
    "    elif isinstance(obj, bool):\n",
    "        return(\"boolean\")\n",
    "    elif isinstance(obj, int):\n",
    "        return(\"integer\")\n",
    "    elif isinstance(obj, float):\n",
    "        return(\"float\")\n",
    "    elif isinstance(obj, list):\n",
    "        return(\"list\")\n",
    "    elif isinstance(obj, tuple):\n",
    "        return(\"tuple\")\n",
    "    else:\n",
    "        return(\"unknown\")"
   ]
  },
  {
   "cell_type": "markdown",
   "metadata": {},
   "source": [
    "## Slicing Practice"
   ]
  },
  {
   "cell_type": "markdown",
   "metadata": {},
   "source": [
    "Given pi = \"3.1415926\", answer the following.\n",
    "\n",
    "What does the 3 represent in the operation: pi[2:7:3]? Step\n",
    "\n",
    "What does the 2 represent in the operation pi[2:7:3]? Start Index\n",
    "\n",
    "What does the 7 represent in the operation pi[2:7:3]? End Index\n",
    "\n",
    "What is the result of pi[2:7:3]? 15\n",
    "\n",
    "What is the result of pi[2:9:3]? 156\n",
    "\n",
    "What is the result of pi[::-1]? 6295141.3\n",
    "\t"
   ]
  },
  {
   "cell_type": "markdown",
   "metadata": {},
   "source": [
    "myList is a list. Using the provided function signature, return every other item in myList.\n",
    "\n",
    "For example:\n",
    "|Test| \tResult|\n",
    "|:--:|:--:|\n",
    "|print(everyOtherItem([0,1,2,3,4,5]))|[0, 2, 4]|"
   ]
  },
  {
   "cell_type": "code",
   "execution_count": null,
   "metadata": {},
   "outputs": [],
   "source": [
    "def everyOtherItem(myList):\n",
    "    return(myList[::2])"
   ]
  },
  {
   "cell_type": "markdown",
   "metadata": {},
   "source": [
    "In a research and development database, record identifiers are formatted with a 3 character code representing a department, followed by the 5 digit employee id that made the entry, and ends in the subject category.\n",
    "\n",
    "Create a function IDextractor that takes a string recordID and returns the employee id.\n",
    "\n",
    "For example:\n",
    "|Test|Result|\n",
    "|:--:|:--:|\n",
    "|print(IDextractor('AGR12345Hybrid_corn'))|12345|"
   ]
  },
  {
   "cell_type": "code",
   "execution_count": null,
   "metadata": {},
   "outputs": [],
   "source": [
    "def IDextractor(recordID):\n",
    "    employeeid = recordID[3:8:]\n",
    "    return employeeid"
   ]
  },
  {
   "cell_type": "markdown",
   "metadata": {},
   "source": []
  },
  {
   "cell_type": "markdown",
   "metadata": {},
   "source": []
  },
  {
   "cell_type": "markdown",
   "metadata": {},
   "source": [
    "## Length Practice"
   ]
  },
  {
   "cell_type": "markdown",
   "metadata": {},
   "source": [
    "Print the length of the list provided in the variable thisList.\n",
    "\n",
    "NOTE: thisList is already be defined, do not assign a value to it when entering your answer. You may create your own list to test with prior to submission."
   ]
  },
  {
   "cell_type": "code",
   "execution_count": null,
   "metadata": {},
   "outputs": [],
   "source": [
    "print(len(thisList))"
   ]
  },
  {
   "cell_type": "markdown",
   "metadata": {},
   "source": [
    "myList contains a sequence of iterables. Print the length of the last item multiplied by the length of the first item.\n",
    "\n",
    "NOTE: myList is already be defined, do not assign a value to it. You may create your own list to test with prior to submission.\n",
    "\n",
    "For example:\n",
    "\n",
    "|Test|Result|\n",
    "|:--:|:--:|\n",
    "|myList = [ [1, 2, 3] , [4,5,6], [1,2,3,4] , [9,10] ]|6|"
   ]
  },
  {
   "cell_type": "code",
   "execution_count": null,
   "metadata": {},
   "outputs": [],
   "source": [
    "x = len(myList[0]) * len(myList[-1])\n",
    "print(x)"
   ]
  },
  {
   "cell_type": "markdown",
   "metadata": {},
   "source": [
    "Call the built-in length function with [1, 2, 3].\n",
    "\n",
    "NOTE: You are not being asked to create any variables or print anything"
   ]
  },
  {
   "cell_type": "code",
   "execution_count": null,
   "metadata": {},
   "outputs": [],
   "source": [
    "len([1, 2, 3])"
   ]
  },
  {
   "cell_type": "markdown",
   "metadata": {},
   "source": [
    "Call the built in length function with (\"Bob\", 32, \"John\", 64).\n",
    "\n",
    "NOTE: You are not asked to create a variable or print anything"
   ]
  },
  {
   "cell_type": "code",
   "execution_count": null,
   "metadata": {},
   "outputs": [],
   "source": [
    "len((\"Bob\", 32, \"John\", 64))"
   ]
  },
  {
   "cell_type": "markdown",
   "metadata": {},
   "source": [
    "Call the built-in length function with 'eagle'.\n",
    "\n",
    "NOTE: You are not being asked to create any variables or print anything"
   ]
  },
  {
   "cell_type": "code",
   "execution_count": null,
   "metadata": {},
   "outputs": [],
   "source": [
    "len('eagle')"
   ]
  },
  {
   "cell_type": "markdown",
   "metadata": {},
   "source": [
    "## Range"
   ]
  },
  {
   "cell_type": "markdown",
   "metadata": {},
   "source": [
    "Define the function FreeRange(start, stop). The function returns a range specified by the parameters with a step of +1 if start < stop. Otherwise the function returns a range with a step of -1 if start > stop\n",
    "\n",
    "For example:\n",
    "|Test|Result|\n",
    "|:--:|:--:|\n",
    "|print(FreeRange(0,4))|range(0, 4)|\n",
    "|print(FreeRange(4,0))|range(4, 0, -1)|"
   ]
  },
  {
   "cell_type": "code",
   "execution_count": null,
   "metadata": {},
   "outputs": [],
   "source": [
    "def FreeRange(start, stop):\n",
    "    if start < stop:\n",
    "        return range(start,stop,1)\n",
    "    elif start > stop:\n",
    "        return range(start,stop,-1)"
   ]
  },
  {
   "cell_type": "markdown",
   "metadata": {},
   "source": [
    "Create a range that correlates to valid indexes in mySequence. (HINT: How do you find how long a sequence is?) You do not need to define mySequence.\n",
    "\n",
    "Print the range.\n",
    "\n",
    "Example 1:\n",
    "\tExample 2:\n",
    "mySequence = 'hello world'\n",
    " \n",
    "The range printed should be: \n",
    " \n",
    "range(0, 11)\n",
    "\t\n",
    "mySequence = [1,2,3,4]\n",
    " \n",
    "The range printed should be:\n",
    " \n",
    "range(0, 4)\n",
    "\n",
    "For example:\n",
    "\n",
    "Test \tResult\n",
    "\n",
    "mySequence = [1,2,3]\n",
    "\n",
    "\t\n",
    "\n",
    "range(0, 3)\n"
   ]
  },
  {
   "cell_type": "code",
   "execution_count": null,
   "metadata": {},
   "outputs": [],
   "source": [
    "range_l = len(mySequence)\n",
    "print(range(0,range_l))"
   ]
  },
  {
   "cell_type": "markdown",
   "metadata": {},
   "source": [
    "You are given a sequence of items in the variable mySequence. Create and print a range object that would include every other index from the start of the sequence to the end. (HINT: how long is sequence?) You do not need to define mySequence.\n",
    "\n",
    "Example: \n",
    "\n",
    "mySequence = [0,1,2,3,4,5]\n",
    "\n",
    "Should print:\n",
    "\n",
    "range(start, stop, step)     NOTE: The start, stop, and step should be filled in with the correct value to \n",
    "\n",
    "NOTE: The number of items in mySequence will be different with every test case. Your code should be dynamic enough to accommodate a varying number of items in the sequence. The sequence could be a list, a string, or any other collection of items.\n",
    "\n",
    "For example:\n",
    "Test \tResult\n",
    "\n",
    "mySequence = [1,2,3,4,5]\n",
    "\n",
    "\t\n",
    "\n",
    "range(0, 5, 2)"
   ]
  },
  {
   "cell_type": "code",
   "execution_count": null,
   "metadata": {},
   "outputs": [],
   "source": [
    "range_l = len(mySequence)\n",
    "print(range(0,range_l,2))"
   ]
  },
  {
   "cell_type": "markdown",
   "metadata": {},
   "source": [
    "## While Loops Practice"
   ]
  },
  {
   "cell_type": "markdown",
   "metadata": {},
   "source": [
    "Fix the following code to prevent an infinite loop by inserting the 'break' keyword at the appropriate place that will allow the print statement to execute only once.\n",
    "Answer:(penalty regime: 0 %)"
   ]
  },
  {
   "cell_type": "code",
   "execution_count": null,
   "metadata": {},
   "outputs": [],
   "source": [
    "while True:\n",
    "    text = input()\n",
    "    print(text)\n",
    "    break"
   ]
  },
  {
   "cell_type": "markdown",
   "metadata": {},
   "source": [
    "Define a function BillSummary() that repeatedly reads input from the user until the user hits return with no text input. Each line the user enters is a 3 character material code and a cost separated by a space. The function returns the grand total.\n",
    "\n",
    "Example:\n",
    "\n",
    "BillSummary()\n",
    "\n",
    "With the following 2 input strings:\n",
    "\n",
    "'AGR 1020.00'\n",
    "'THG 3040.00'\n",
    "\n",
    "Returns:\n",
    "\n",
    "4060.0\n",
    "\n",
    "NOTE: the example shown below simply applies string formatting to force the returned value to carry out two places beyond the decimal. Do NOT implement this formatting in your function."
   ]
  },
  {
   "cell_type": "code",
   "execution_count": null,
   "metadata": {},
   "outputs": [],
   "source": [
    "def BillSummary():\n",
    "    stored = 0.0\n",
    "    while True:\n",
    "        \n",
    "        user_input = input()\n",
    "        if user_input == '':\n",
    "            break\n",
    "        split_userinput = user_input.split()\n",
    "        index_userinput = split_userinput[1]\n",
    "        x = float(index_userinput)\n",
    "        stored += x\n",
    "    return(stored)"
   ]
  },
  {
   "cell_type": "markdown",
   "metadata": {},
   "source": [
    "## For Loops Practice"
   ]
  },
  {
   "cell_type": "code",
   "execution_count": null,
   "metadata": {},
   "outputs": [],
   "source": [
    "Define the body of the following function:\n",
    "\n",
    "def PrintLetters(word):\n",
    "   pass\n",
    "\n",
    "Use a for loop to print every letter in the variable word on a separate line.\n",
    "\n",
    "Do not include a function call in your answer.\n",
    "\n",
    "For example:\n",
    "Test \tResult\n",
    "\n",
    "PrintLetters('Google')\n",
    "\n",
    "\t\n",
    "\n",
    "G\n",
    "o\n",
    "o\n",
    "g\n",
    "l\n",
    "e\n"
   ]
  },
  {
   "cell_type": "code",
   "execution_count": null,
   "metadata": {},
   "outputs": [],
   "source": [
    "def PrintLetters(word):\n",
    "    for each_letter in word:\n",
    "        print(each_letter)"
   ]
  },
  {
   "cell_type": "markdown",
   "metadata": {},
   "source": [
    "iCanCount(good) should count the number of times the lowercase letter 't' occurs in the variable good. However, no matter how many t's I put in my test string, the most the function returns is 1. Can you help fix my code?\n",
    "\n",
    "def iCanCount(good):\n",
    "   for letter in good:\n",
    "      count = 0\n",
    "      if letter == 't':\n",
    "         count += 1\n",
    "      return coun"
   ]
  },
  {
   "cell_type": "code",
   "execution_count": null,
   "metadata": {},
   "outputs": [],
   "source": [
    "def iCanCount(good):\n",
    "    count = 0\n",
    "    for letter in good:\n",
    "        if letter == 't':\n",
    "            count += 1\n",
    "    return count"
   ]
  },
  {
   "cell_type": "markdown",
   "metadata": {},
   "source": [
    "Define a function BillSummary(items) that takes items as a list of tuple pairs. The first index in each pair is a material as a string, the second item is a total cost for that material as a float. For each item in items print material: total ensuring 2 decimal places. At the end of the loop, return the grand total (which is also a string formatted to ensure 2 decimal places).\n",
    "\n",
    "Example Input:\n",
    "\n",
    "BillSummary([('2x4',6000.00),('drywall',20000.00)])\n",
    "\n",
    "Example Output:\n",
    "\n",
    "2x4: $6000.00\n",
    "drywall: $20000.00\n",
    "26000.00"
   ]
  },
  {
   "cell_type": "code",
   "execution_count": null,
   "metadata": {},
   "outputs": [],
   "source": [
    "def BillSummary(items):\n",
    "    grandtotal = 0.0\n",
    "    for material, total in items:\n",
    "        print(f'{material}: ${total:.2f}')\n",
    "        grandtotal += total\n",
    "    return f'{grandtotal:.2f}'"
   ]
  },
  {
   "cell_type": "markdown",
   "metadata": {},
   "source": [
    "## Py4 End of lecture - CTF Challenges"
   ]
  },
  {
   "cell_type": "markdown",
   "metadata": {},
   "source": [
    "Use python to finish the function below that will perform the following:\n",
    "\n",
    "    Read multiple lines from the user on standard input until an empty string is read.\n",
    "    Return a list of all these lines\n",
    "    Each line should be reversed from how it is read in.\n",
    "\n",
    "Example:   If the following inputs were collected:\n",
    "\n",
    "hello\n",
    "hi\n",
    "bye\n",
    "goodbye\n",
    "\n",
    "The list returned should be:  ['olleh', 'ih', 'eyb', 'eybdoog']"
   ]
  },
  {
   "cell_type": "code",
   "execution_count": null,
   "metadata": {},
   "outputs": [],
   "source": [
    "def reverseit():\n",
    "    lists = []\n",
    "    while True:\n",
    "        user_input = input()\n",
    "        if user_input == '':\n",
    "            break\n",
    "        x = user_input\n",
    "        lists.append(x[::-1])\n",
    "    return(lists)"
   ]
  },
  {
   "cell_type": "markdown",
   "metadata": {},
   "source": [
    "Use python to complete the function below that will perform the following:\n",
    "\n",
    "    Given a mixed case string as parameter s\n",
    "    Capitalize every letter with an even index within the string.\n",
    "    Lowercase every letter with an odd index within the string.\n",
    "    Return the resulting string.\n",
    "    Example:\n",
    "        leetString(\"ABCDEF ghijkl\")\n",
    "        Return: \"AbCdEf gHiJkL\"\n"
   ]
  },
  {
   "cell_type": "code",
   "execution_count": null,
   "metadata": {},
   "outputs": [],
   "source": [
    "def leetString(s):\n",
    "    lst = []\n",
    "    counter = 0\n",
    "    for each_letter in s:\n",
    "        if counter % 2 == 0:\n",
    "            lst.append(each_letter.upper())\n",
    "        else:\n",
    "            lst.append(each_letter.lower())\n",
    "        counter += 1\n",
    "    end_list = \"\".join(lst)\n",
    "    return(end_list)"
   ]
  },
  {
   "cell_type": "markdown",
   "metadata": {},
   "source": [
    "Use python to finish the function below that will perform the following:\n",
    "\n",
    "    First, print out every even number on a separate line from provided parameter first to parameter last, inclusive.\n",
    "    Next, print out every odd number from first to last, inclusive.\n"
   ]
  },
  {
   "cell_type": "code",
   "execution_count": null,
   "metadata": {},
   "outputs": [],
   "source": [
    "def evensandodds(first, last):\n",
    "    for n in range(first, last + 1): #even numbers\n",
    "        if n % 2 == 0:\n",
    "            print(n)\n",
    "    for n in range(first, last + 1): #odd numbers\n",
    "        if n % 2 != 0:\n",
    "            print(n)"
   ]
  },
  {
   "cell_type": "markdown",
   "metadata": {},
   "source": [
    "Use Python to finish the function below to read strings from a user until the user enters an empty string. The strings should be stored into a list that will be returned when the user enters an empty string.\n",
    "\n",
    "Example: \n",
    "\n",
    "If the following strings are read from the user:\n",
    "\n",
    "this\n",
    "is\n",
    "a\n",
    "test\n",
    "\n",
    "The returned list would be:\n",
    "\n",
    "['this', 'is', 'a', 'test']"
   ]
  },
  {
   "cell_type": "code",
   "execution_count": null,
   "metadata": {},
   "outputs": [],
   "source": [
    "def user_io():\n",
    "    stringz = []\n",
    "    while True:\n",
    "        s = input()\n",
    "        if s == \"\":\n",
    "            break\n",
    "        stringz.append(s)\n",
    "    return stringz"
   ]
  },
  {
   "cell_type": "markdown",
   "metadata": {},
   "source": [
    "Use Python to complete the function below to return a tuple of the multiples of 10 from 1 to 1000 inclusive."
   ]
  },
  {
   "cell_type": "code",
   "execution_count": null,
   "metadata": {},
   "outputs": [],
   "source": [
    "def make_tuple():\n",
    "     return tuple(range(10, 1001, 10))"
   ]
  },
  {
   "cell_type": "markdown",
   "metadata": {},
   "source": [
    "Use Python to finish the function below to return a tuple with the following 2 items in the order they are listed:\n",
    "\n",
    "    a literal empty string\n",
    "    this string (no leading or trailing spaces):  Physics is the universe's operating system\n"
   ]
  },
  {
   "cell_type": "code",
   "execution_count": null,
   "metadata": {},
   "outputs": [],
   "source": [
    "def strings():\n",
    "    return (\"\", \"Physics is the universe's operating system\")"
   ]
  },
  {
   "cell_type": "markdown",
   "metadata": {},
   "source": [
    "Use Python to finish the function below to return a tuple of the given list (lst) split into two equally sized halves.\n",
    "\n",
    "The given list will always consist of an even number of elements.\n",
    "\n",
    "Example 1:\n",
    "\n",
    "disect([1, 2, 3, 4])\n",
    "\n",
    "Returns:  ([1, 2], [3, 4])\n",
    "\n",
    "Example 2:\n",
    "\n",
    "disect(['hello', 'world!'])\n",
    "\n",
    "Returns: (['hello'], ['world!'])"
   ]
  },
  {
   "cell_type": "code",
   "execution_count": null,
   "metadata": {},
   "outputs": [],
   "source": [
    "def disect(lst):\n",
    "    middle_list = len(lst) // 2\n",
    "    return (lst[:middle_list], lst[middle_list:])"
   ]
  },
  {
   "cell_type": "markdown",
   "metadata": {},
   "source": [
    "Use Python to finish the function below to return a copy of the given string (strng) reversed"
   ]
  },
  {
   "cell_type": "code",
   "execution_count": null,
   "metadata": {},
   "outputs": [],
   "source": [
    "def reverse_string(strng):\n",
    "    return strng[::-1]"
   ]
  },
  {
   "cell_type": "markdown",
   "metadata": {},
   "source": [
    "Complete the function, round_to_position, which takes a list of floats and returns a new list with the original floats each rounded to the number of digits of precision after the decimal point corresponding to the original float's position in the list.\n",
    "\n",
    "Example:\n",
    "\n",
    "round_to_position([1.999, 1.0993, 1.01999, 1.012999]\n",
    "\n",
    "Returns: [2.0, 1.1, 1.02, 1.013]"
   ]
  },
  {
   "cell_type": "code",
   "execution_count": null,
   "metadata": {},
   "outputs": [],
   "source": [
    "def round_to_position(lst):\n",
    "    return[round(value,index) for index, value in enumerate(lst)]"
   ]
  },
  {
   "cell_type": "markdown",
   "metadata": {},
   "source": [
    "Define the function MatrixProduct(matrix, multiplier) where matrix is a nested list and multiplier is a number.\n",
    "\n",
    "The function should multiply each individual item found inside matrix by the multiplier and then return the updated matrix\n",
    "\n",
    "Example:\n",
    "\n",
    "MatrixProduct([[1,2,3],[4,5,6],[7,8,9]],2)\n",
    "\n",
    "Returns: \n",
    "\n",
    "[[2, 4, 6], [8, 10, 12], [14, 16, 18]]"
   ]
  },
  {
   "cell_type": "code",
   "execution_count": null,
   "metadata": {},
   "outputs": [],
   "source": [
    "def MatrixProduct(matrix,multiplier):\n",
    "    for i in range(len(matrix)):\n",
    "        for j in range(len(matrix[i])):\n",
    "            matrix[i][j] *= multiplier\n",
    "    return matrix"
   ]
  },
  {
   "cell_type": "markdown",
   "metadata": {},
   "source": [
    "## File I/O Practice"
   ]
  },
  {
   "cell_type": "markdown",
   "metadata": {},
   "source": [
    "Using the with statement, open users.txt.\n",
    "\n",
    "Save the data found in the file users.txt into a variable named contents and then print contents"
   ]
  },
  {
   "cell_type": "code",
   "execution_count": null,
   "metadata": {},
   "outputs": [],
   "source": [
    "with open('users.txt') as user_contents:\n",
    "    contents = user_contents.read()\n",
    "    print(contents)"
   ]
  },
  {
   "cell_type": "markdown",
   "metadata": {},
   "source": [
    "Using users.txt read all of the usernames into a list, where each username is in its own index. Print the list.\n",
    "\n",
    "Example list (shortened, your list should include all names found in file):\n",
    "\n",
    "['john.doe\\n', 'jane.smith\\n', 'adam.jones\\n', ...]"
   ]
  },
  {
   "cell_type": "code",
   "execution_count": null,
   "metadata": {},
   "outputs": [],
   "source": [
    "with open('users.txt') as user_contents:\n",
    "    contents = user_contents.readlines()\n",
    "    print(contents)"
   ]
  },
  {
   "cell_type": "markdown",
   "metadata": {},
   "source": [
    "Using the with statement write a script to open a file named info.txt in append mode. Write the string \"Python is fun\" to the file."
   ]
  },
  {
   "cell_type": "code",
   "execution_count": null,
   "metadata": {},
   "outputs": [],
   "source": [
    "with open('info.txt', \"w\") as user_contents:\n",
    "    user_contents.write('Python is fun')"
   ]
  },
  {
   "cell_type": "markdown",
   "metadata": {},
   "source": [
    "Using the provided function accomplish the following:\n",
    "\n",
    "Continuously read a string from the user and write that string to the file provided in the parameter fname until an empty string is read from user.\n",
    "\n",
    "Every line read from the user should be written on its own line in the file.\n",
    "\n",
    "Example:\n",
    "\n",
    "If the user enters three separate lines of text, then there should be three separate lines of text written to fname"
   ]
  },
  {
   "cell_type": "code",
   "execution_count": null,
   "metadata": {},
   "outputs": [],
   "source": [
    "def gathering_thoughts(fname):\n",
    "    joint_statement = ''\n",
    "    while True:\n",
    "        user_input = input()\n",
    "        if user_input == '':\n",
    "            break\n",
    "        joint_statement += user_input + '\\n'\n",
    "    with open (\"new.txt\", 'w') as info_obj:\n",
    "        info_obj.write(joint_statement)"
   ]
  },
  {
   "cell_type": "markdown",
   "metadata": {},
   "source": [
    "Using the function provided accomplish the following task: \n",
    "\n",
    "Read the contents of the file path stored in infile and write the contents to the file path stored in outfile.\n",
    "\n",
    "NOTE: The challenge will use file1.txt to test your code, however, you can create your own files to accomplish this if you wish."
   ]
  },
  {
   "cell_type": "code",
   "execution_count": null,
   "metadata": {},
   "outputs": [],
   "source": [
    "def copy_paste(infile, outfile):\n",
    "    with open('file1.txt') as in_file, open('outfile.txt', 'w') as out_file:\n",
    "        out_file.write(in_file.read())"
   ]
  },
  {
   "cell_type": "markdown",
   "metadata": {},
   "source": [
    "## Py5 End of Lecture CTF Challenges"
   ]
  },
  {
   "cell_type": "markdown",
   "metadata": {},
   "source": [
    "Using the code provided, troubleshoot and find the error(s). \n",
    "\n",
    "Fix the code to execute properly so that it will print each line of the file on separate lines.\n",
    "\n",
    "infile can point to any test file you choose. This question will use the following file for testing purposes: file1.txt\n",
    "\n",
    "\n",
    "Example output:\n",
    "\n",
    "    Why do programmers prefer dark mode? Because light attracts bugs!\n",
    "\n",
    "    I would tell you a joke about UDP, but you might not get it.  NOTE: output has been truncated"
   ]
  },
  {
   "cell_type": "code",
   "execution_count": null,
   "metadata": {},
   "outputs": [],
   "source": [
    "def file_read(infile):\n",
    "    with open(infile,'r') as inf:\n",
    "        for line in inf:\n",
    "            print(line)"
   ]
  },
  {
   "cell_type": "markdown",
   "metadata": {},
   "source": [
    "Use python to finish the function below that will perform the following:\n",
    "\n",
    "    Read file specified by the path stored in the inpath parameter and write all lines to the file specified by the outpath parameter.\n",
    "    Before writing out each line, add the line number starting with 1 follow by colon and space\n",
    "\n",
    "A test case will utilize users.txt as the inpath"
   ]
  },
  {
   "cell_type": "code",
   "execution_count": null,
   "metadata": {},
   "outputs": [],
   "source": [
    "def linenums(inpath, outpath):\n",
    "    with open(inpath) as in_obj, open(outpath, 'w') as file_out:\n",
    "        num = 1\n",
    "        for user in in_obj:\n",
    "            file_out.write(f'{num}: {user}')\n",
    "            num += 1"
   ]
  },
  {
   "cell_type": "markdown",
   "metadata": {},
   "source": [
    "\"You have a artist friend that likes to jot down some inspirational words when the mood strikes. These fits of inspiration always have a theme that they need to remember with the messages. Your friend needs some help keeping track.\n",
    "\n",
    "Read each of the inspirational messages from the user and write them to the end of the file specified by fname.\n",
    "\n",
    "Since the theme is important and must be remembered, add the theme and a colon before each message and ensure each inspirational message is on its own line. An empty input will indicate no more entries and the end of the theme.\"\n",
    "\n",
    "Example:   log_to_file('example.txt','Razzmatazz')\n",
    "\n",
    "If theme was \"Razzmatazz\", and the user provided 2 inspirational messages of input as follows:\n",
    "\n",
    "\"I like nonsense; it wakes up the brain cells. - Dr. Seuss\"\n",
    "\"Only you can control your future. - Dr. Seuss\"\n",
    "\n",
    "Then the resulting strings would be written to example.txt in the following format:\n",
    "\n",
    "Razzmatazz:I like nonsense; it wakes up the brain cells. - Dr. Seuss\n",
    "Razzmatazz:Only you can control your future. - Dr. Seuss\n",
    "\n",
    "Hints:\n",
    "\n",
    "    What if there are multiple lines to be added? What separates lines in a file? What needs to be added to the example line above?\n",
    "    Do not overwrite the file. What mode should you open the file in?\n"
   ]
  },
  {
   "cell_type": "code",
   "execution_count": null,
   "metadata": {},
   "outputs": [],
   "source": [
    "def log_to_file(fname, theme):\n",
    "    joint_statement = ''\n",
    "    user_input = input()\n",
    "    while user_input:\n",
    "        with open(fname, 'a') as fname_obj:\n",
    "            fname_obj.write(f'{theme}:{user_input}\\n')\n",
    "        user_input = input()"
   ]
  },
  {
   "cell_type": "markdown",
   "metadata": {},
   "source": [
    "Replace all found instances of the individual tuple entries in the file found at in_path. You can use the following test file: act18_3.txt\n",
    "\n",
    "Replacements will be in the list reps as a list of tuples.\n",
    "\n",
    "Each tuple entry will contain the 'find' as the first element and the 'replace' will be the second element.\n",
    "\n",
    "Write the result to the file specified with out_path.\n",
    "\n",
    "Example: \n",
    "\n",
    "replace_in_file('act18_3.txt', 'outpath_ex.txt', [(\"taken\",\"delivered\"),(\"cat\",\"dog\"),(\"outside\",\"beyond\"),(\"straightaway\",\"forthwith\"),(\"possibly\",\"perchance\")])\n",
    "\n",
    "    Contents of inpath_ex.txt - \"The cat possibly needs to be taken outside, straightaway.\"\n",
    "    Changed string example to write to outpath_ex.txt - \"The dog perchance needs to be delivered beyond, forthwith.\"\n",
    "    reps = [(\"taken\",\"delivered\"),(\"cat\",\"dog\"),(\"outside\",\"beyond\"),(\"straightaway\",\"forthwith\"),(\"possibly\",\"perchance\")]\n"
   ]
  },
  {
   "cell_type": "code",
   "execution_count": null,
   "metadata": {},
   "outputs": [],
   "source": [
    "def replace_in_file(in_path, out_path, reps):\n",
    "    with open(in_path) as input_obj, open(out_path, 'w') as out_obj:\n",
    "        scr = str(input_obj.read())\n",
    "        for tub in reps:\n",
    "            scr = scr.replace(tub[0], tub[1])\n",
    "        out_obj.write(scr)"
   ]
  },
  {
   "cell_type": "markdown",
   "metadata": {},
   "source": [
    "## Python Libraries"
   ]
  },
  {
   "cell_type": "markdown",
   "metadata": {},
   "source": [
    "Use Python's math library to access the value of PI and print it."
   ]
  },
  {
   "cell_type": "code",
   "execution_count": null,
   "metadata": {},
   "outputs": [],
   "source": [
    "import math\n",
    "print(math.pi)"
   ]
  },
  {
   "cell_type": "markdown",
   "metadata": {},
   "source": [
    "## Libraries - End of lecture CTF Challenges"
   ]
  },
  {
   "cell_type": "markdown",
   "metadata": {},
   "source": [
    "Complete the function below to return a randomly chosen item from the given lst\n",
    "\n",
    "Example function call: grab([1,2,3,4])"
   ]
  },
  {
   "cell_type": "code",
   "execution_count": null,
   "metadata": {},
   "outputs": [],
   "source": [
    "def grab(lst):\n",
    "    import random\n",
    "    return(random.choice(lst))"
   ]
  },
  {
   "cell_type": "markdown",
   "metadata": {},
   "source": [
    "## Sets Practice"
   ]
  },
  {
   "cell_type": "markdown",
   "metadata": {},
   "source": [
    "Write a script to iterate through a set and print each item of the set on a separate line."
   ]
  },
  {
   "cell_type": "code",
   "execution_count": null,
   "metadata": {},
   "outputs": [],
   "source": [
    "s = {1,2,3,4,5,6,7}\n",
    "\n",
    "for each_set in s:\n",
    "    print(each_set)"
   ]
  },
  {
   "cell_type": "markdown",
   "metadata": {},
   "source": [
    "Write a script to add 100 to the set defined below and then iterate through the set and add the numbers together. Print the sum."
   ]
  },
  {
   "cell_type": "code",
   "execution_count": null,
   "metadata": {},
   "outputs": [],
   "source": [
    "s = {12,15,18,20,25}\n",
    "s.add(100)\n",
    "print(sum(s))"
   ]
  },
  {
   "cell_type": "markdown",
   "metadata": {},
   "source": [
    "Write a script to find and print the difference between the two provided sets. In other words, what is found in s1 that is not found in s2?"
   ]
  },
  {
   "cell_type": "code",
   "execution_count": null,
   "metadata": {},
   "outputs": [],
   "source": [
    "s1 = {3,4,5,6,7,8}\n",
    "s2 = {8,4,3,2,1,9}\n",
    "\n",
    "print(s1.difference(s2))"
   ]
  },
  {
   "cell_type": "markdown",
   "metadata": {},
   "source": [
    "Write a script to find and print the intersection between the two provided sets. "
   ]
  },
  {
   "cell_type": "code",
   "execution_count": null,
   "metadata": {},
   "outputs": [],
   "source": [
    "s1 = {3,4,5,6,7,8}\n",
    "s2 = {8,4,3,2,1,9}\n",
    "\n",
    "print(s1.intersection(s2))"
   ]
  },
  {
   "cell_type": "markdown",
   "metadata": {},
   "source": [
    "## Dictionary Practice"
   ]
  },
  {
   "cell_type": "markdown",
   "metadata": {},
   "source": [
    "From the dictionary below, write a script to print the value for key n2.\n",
    "\n",
    "nums = {\"n1\": 1, \"n2\": 2, \"n3\": 3}"
   ]
  },
  {
   "cell_type": "code",
   "execution_count": null,
   "metadata": {},
   "outputs": [],
   "source": [
    "nums = {\"n1\": 1, \"n2\": 2, \"n3\": 3}\n",
    "key_2 = nums['n2']\n",
    "print(key_2)"
   ]
  },
  {
   "cell_type": "markdown",
   "metadata": {},
   "source": [
    "Write a script using a dictionary method to print a dictionary values list using the dictionary provided.\n",
    "\n",
    "names = {\"name1\": \"Smith\", \"name2\": \"Jones\", \"name3\": \"Anderson\"}"
   ]
  },
  {
   "cell_type": "code",
   "execution_count": null,
   "metadata": {},
   "outputs": [],
   "source": [
    "names = {\"name1\": \"Smith\", \"name2\": \"Jones\", \"name3\": \"Anderson\"}\n",
    "names_keys = names.values()\n",
    "print(names_keys)"
   ]
  },
  {
   "cell_type": "markdown",
   "metadata": {},
   "source": [
    "Create a dictionary using the key value pairs in the table below, iterate through the following dictionary named di, and print the key and the value.\n",
    "key \tvalue\n",
    "'key1' \t1\n",
    "'key2' \t2\n",
    "'key3' \t3\n",
    "'key4' \t55\n",
    "\n",
    "Output: \n",
    "\n",
    "key1 1\n",
    "key2 2\n",
    "key3 3\n",
    "key4 55"
   ]
  },
  {
   "cell_type": "code",
   "execution_count": null,
   "metadata": {},
   "outputs": [],
   "source": [
    "di = {'key1':1, \"key2\" :2, \"key3\" :3, \"key4\" :55}\n",
    "for items,value in di.items():\n",
    "    print(items, value)"
   ]
  },
  {
   "cell_type": "markdown",
   "metadata": {},
   "source": [
    "## End of lecture Dictionary Language Feature"
   ]
  },
  {
   "cell_type": "markdown",
   "metadata": {},
   "source": [
    "Given a function named find_keys with a single parameter book (a dictionary with strings as both keys and values), return a list containing all the values from the dictionary.\n",
    "\n",
    " HINT: You do NOT want a dict_values data type. You want a simple list data type with the values found in the dictionary"
   ]
  },
  {
   "cell_type": "code",
   "execution_count": null,
   "metadata": {},
   "outputs": [],
   "source": [
    "def find_keys(book):\n",
    "    book_values = list(book.values())\n",
    "    return(book_values)"
   ]
  },
  {
   "cell_type": "markdown",
   "metadata": {},
   "source": [
    "Given a function named toddlers that takes one parameter fruits (a dictionary where keys are fruit names and values are their prices as strings), return a string that reads: \"The total price of your fruits is $X.XX\", where X.XX is the sum of the values from the fruits dictionary.\n",
    "\n",
    "For example, given the dictionary {\"apple\": \"$2.99\", \"strawberries\": \"$3.99\", \"grapes\": \"$2.49\"}, the return string should read:\n",
    "\n",
    "\"The total price of your fruits is $9.47.\""
   ]
  },
  {
   "cell_type": "code",
   "execution_count": null,
   "metadata": {},
   "outputs": [],
   "source": [
    "def toddlers(fruits):\n",
    "    total = 0.00\n",
    "    for value in fruits.values():\n",
    "        x= value.replace ('$','')\n",
    "        total += float(x)\n",
    "    return(f'The total price of your fruits is ${total}.')"
   ]
  },
  {
   "cell_type": "markdown",
   "metadata": {},
   "source": [
    "Given a function named add_elements with three parameters:\n",
    "\n",
    "1.  dogs (a dictionary where the keys are dog breeds as strings and values are lists of colors)\n",
    "\n",
    "Example:  dogs = {'german shepherd': ['black', 'brown'], 'pitbull': ['red', 'blue'], 'labrador': ['white', 'chocolate']}\n",
    "\n",
    "2.  breed (a string representing a dog breed)\n",
    "\n",
    "Example:  breed = 'german shepherd'\n",
    "\n",
    "3.  colors (a list of colors)\n",
    "\n",
    "Example:  colors = ['sable','white']\n",
    " \n",
    "Task:\n",
    "\n",
    "The function will return the dogs dictionary where the values in the dogs dictionary for the specified breed are updated to include the new items from the colors list.\n",
    "\n",
    "Example:\n",
    "dogs = {'german shepherd': ['black', 'brown'], 'pitbull': ['red', 'blue'], 'labrador': ['white', 'chocolate']}\n",
    " \n",
    "add_elements(dogs, 'german shepherd', ['sable','white'])\n",
    " \n",
    "Returns:\n",
    "{'german shepherd': ['black', 'brown', 'sable', 'white'], 'pitbull': ['red', 'blue'], 'labrador': ['white', 'chocolate']}"
   ]
  },
  {
   "cell_type": "code",
   "execution_count": null,
   "metadata": {},
   "outputs": [],
   "source": [
    "def add_elements(dogs, breed, colors):\n",
    "    dogs[breed] = dogs[breed] + colors\n",
    "    return dogs"
   ]
  },
  {
   "cell_type": "markdown",
   "metadata": {},
   "source": [
    "Write a function named name_game that takes one parameter fname, a file of names, separated by line breaks, and return a dictionary where the key is the first letter of the name and the value is the first instance of a name that begins with that first letter.\n",
    "\n",
    "For example, if file contains:\n",
    "Allison\n",
    "Adam\n",
    "Bob\n",
    "Betty\n",
    "Candice\n",
    "Charles\n",
    "Xavier\n",
    " \n",
    "\n",
    "Output:\n",
    "\n",
    "{\"A\": \"Allison, \"B\": \"Bob\", \"C\": \"Candice\", \"X\": \"Xavier\"} "
   ]
  },
  {
   "cell_type": "code",
   "execution_count": null,
   "metadata": {},
   "outputs": [],
   "source": [
    "def name_game(fname):\n",
    "    dictonary = {}\n",
    "    with open(fname, 'r') as file:\n",
    "        for line in file:\n",
    "            name = line.strip()\n",
    "            if name:\n",
    "                key = name[0].upper()\n",
    "                if key not in dictonary:\n",
    "                    dictonary[key] = name\n",
    "    return dictonary"
   ]
  },
  {
   "cell_type": "markdown",
   "metadata": {},
   "source": [
    "Write a Python script to combine the following dictionaries to create a new one. Print the new dictionary.\n",
    "\n",
    "\n",
    "dic1={1:10, 2:20}\n",
    "dic2={3:30, 4:40}\n",
    "dic3={5:50,6:60}\n",
    "\n",
    "Output: {1: 10, 2: 20, 3: 30, 4: 40, 5: 50, 6: 60}\n",
    "\n",
    "Hint: What dictionary methods might be available to use?"
   ]
  },
  {
   "cell_type": "code",
   "execution_count": null,
   "metadata": {},
   "outputs": [],
   "source": [
    "dic1={1:10, 2:20}\n",
    "dic2={3:30, 4:40}\n",
    "dic3={5:50,6:60}\n",
    "dic4 = {}\n",
    "\n",
    "dic1_items = dic1.items()\n",
    "#print(dic1_items)\n",
    "dic2_items = dic2.items()\n",
    "#print(dic2_items)\n",
    "dic3_items = dic3.items()\n",
    "#print(dic3_items)\n",
    "x = dic4.update(dic1)\n",
    "y = dic4.update(dic2)\n",
    "z = dic4.update(dic3)\n",
    "print(dic4)"
   ]
  },
  {
   "cell_type": "markdown",
   "metadata": {},
   "source": [
    "## Dictionaries and Sets - End of lecture CTF Challenges"
   ]
  },
  {
   "cell_type": "markdown",
   "metadata": {},
   "source": [
    "Complete the function below to perform the following:\n",
    "\n",
    "    fname is a file containing words that are separated by at least one character of whitespace.\n",
    "    A list of words is provided as the parameter words.\n",
    "    Return a list of all the words found in the file that are NOT contained in the list of words in parameter.\n",
    "\n",
    "You can use act24.txt as a test file to complete this challenge.\n",
    "\n",
    "Example: \n",
    "\n",
    "diffwords('act24.txt', ['this', 'is', 'a', 'list', 'of', 'words'])\n",
    "\n",
    "Returns:  ['in', 'file', 'the']"
   ]
  },
  {
   "cell_type": "code",
   "execution_count": null,
   "metadata": {},
   "outputs": [],
   "source": [
    "def diffwords(fname, words):\n",
    "    with open(fname) as open_file:\n",
    "        file_contents = open_file.read().split()\n",
    "        set_words = set(words)\n",
    "        file_contents_s = set(file_contents)\n",
    "        file_contents_l = list(file_contents)\n",
    "        return(file_contents_s.difference((words)))"
   ]
  },
  {
   "cell_type": "markdown",
   "metadata": {},
   "source": [
    "Count the occurrences of each word in the file: act25.txt.\n",
    "\n",
    "Create a dictionary that contains each word in the file as a key and the value for each key will contain the number of times each words is found in the file. Words will be separated by one or more whitespace characters spread over multiple lines.\n",
    "\n",
    "Return the dictionary.\n",
    "\n",
    "Example:\n",
    "\n",
    "the file contains the following sentence:  a dog jumped a fence\n",
    "\n",
    "the returned dictionary would contain:\n",
    "\n",
    "{'a':2, 'dog':1, 'jumped':1, 'fence':1}"
   ]
  },
  {
   "cell_type": "code",
   "execution_count": null,
   "metadata": {},
   "outputs": [],
   "source": [
    "def count_words(filepath):\n",
    "    with open(filepath) as filepath_open:\n",
    "        dictionary = {}\n",
    "        filepath_open_doc = filepath_open.read().split()\n",
    "        for word in filepath_open_doc:\n",
    "            if word in dictionary:\n",
    "                dictionary[word] += 1\n",
    "            else:\n",
    "                dictionary[word] = 1\n",
    "        return(dictionary)"
   ]
  },
  {
   "cell_type": "markdown",
   "metadata": {},
   "source": [
    "## args/kwargs Knowledge Check"
   ]
  },
  {
   "cell_type": "markdown",
   "metadata": {},
   "source": [
    "foo should take an unknown number of keyword arguments then print out the manifest of boxes that belongs in each room. Fix the code in the answer block.\n",
    "\n",
    "For example:\n",
    "Test \tResult\n",
    "\n",
    "foo(**{'bathroom':[1,3,4,5],'bedroom 1':[2,6,9],'kitchen':[7,8]})\n",
    "\n",
    "\t\n",
    "\n",
    "Boxes, [1, 3, 4, 5], belong in the bathroom\n",
    "Boxes, [2, 6, 9], belong in the bedroom 1\n",
    "Boxes, [7, 8], bel"
   ]
  },
  {
   "cell_type": "code",
   "execution_count": null,
   "metadata": {},
   "outputs": [],
   "source": [
    "def foo(**kwargs):\n",
    "    for room in kwargs:\n",
    "        print(f'Boxes, {kwargs[room]}, belong in the {room}')"
   ]
  },
  {
   "cell_type": "markdown",
   "metadata": {},
   "source": [
    "## End of lecture Sorting"
   ]
  },
  {
   "cell_type": "markdown",
   "metadata": {},
   "source": [
    "Sort the list provided in lst in ascending order using any sorting method you like. \n",
    "\n",
    "NOTE: the variable lst must contain the final sorted list.\n",
    "\n",
    "lst= [10,8,50,99,4,1,50,0]\n",
    "\n",
    "Print the list"
   ]
  },
  {
   "cell_type": "code",
   "execution_count": null,
   "metadata": {},
   "outputs": [],
   "source": [
    "lst= [10,8,50,99,4,1,50,0]\n",
    "lst_sorted = sorted(lst)\n",
    "print(lst_sorted)"
   ]
  },
  {
   "cell_type": "markdown",
   "metadata": {},
   "source": [
    "Sort the list of strings in true alphabetical order.\n",
    "lst = ['computers','are','Cool']\n",
    " \n",
    "\n",
    "Print the sorted list."
   ]
  },
  {
   "cell_type": "code",
   "execution_count": null,
   "metadata": {},
   "outputs": [],
   "source": [
    "lst = ['computers','are','Cool']\n",
    "lst_sorted = sorted(lst,key=str.lower)\n",
    "print(lst_sorted)"
   ]
  },
  {
   "cell_type": "markdown",
   "metadata": {},
   "source": [
    "Continuously read strings from a user until an empty string is entered.\n",
    "\n",
    "Store all strings in a list.\n",
    "\n",
    "Sort the the list in alphabetical order and then print it.\n",
    "\n",
    "Example input:\n",
    "I\n",
    "really\n",
    "love\n",
    "python\n",
    "\n",
    "You should print:\n",
    "\n",
    "['I', 'love', 'python', 'really']"
   ]
  },
  {
   "cell_type": "code",
   "execution_count": null,
   "metadata": {},
   "outputs": [],
   "source": [
    "lst = []\n",
    "while True:\n",
    "    user_input = input()\n",
    "    #lst_userinput = list(user_input)\n",
    "    if user_input == '':\n",
    "            break\n",
    "    lst.append(user_input.strip(\"\\n\"))\n",
    "    sort_list = sorted(lst)\n",
    "print(sort_list)"
   ]
  },
  {
   "cell_type": "markdown",
   "metadata": {},
   "source": [
    "Sort the list of strings from the shortest to the longest saved in the variable short_long.\n",
    "\n",
    "Sort the list of strings from the longest to the shortest saved in the variable long_short.\n",
    "\n",
    "Print each new list on separate lines.\n",
    "\n",
    "lst = ['computers','are','Cool']"
   ]
  },
  {
   "cell_type": "code",
   "execution_count": null,
   "metadata": {},
   "outputs": [],
   "source": [
    "lst = ['computers','are','Cool']\n",
    "\n",
    "short_long = sorted(lst, key=len)\n",
    "long_short = sorted(lst, key=len, reverse=True)\n",
    "\n",
    "print(short_long)\n",
    "print(long_short)"
   ]
  },
  {
   "cell_type": "markdown",
   "metadata": {},
   "source": [
    "## OOP Knowledge Check"
   ]
  },
  {
   "cell_type": "markdown",
   "metadata": {},
   "source": [
    "There is a block of code given as a solution, but it is not entirely correct. You need to correct the existing code to get the right solution.\n",
    "\n",
    "Create a class called ServiceMember that stores the branch of service, name, rank, and MOS of a service member. The class should allow changing the MOS and rank.\n",
    "\n",
    "For example:\n",
    "\n",
    "    Creating an instance with soldier1 = ServiceMember('Army', 'Joe Rogan', 'E6', '11B') and printing soldier1 should return: \"Service: Army, Name: Joe Rogan, Rank: E6, MOS: 11B\".\n",
    "    Calling soldier1.changeMOS('11A') and soldier1.changeRank('2LT') and then printing soldier1 should return: \"Service: Army, Name: Joe Rogan, Rank: 2LT, MOS: 11A\".\n"
   ]
  },
  {
   "cell_type": "code",
   "execution_count": null,
   "metadata": {},
   "outputs": [],
   "source": [
    "class ServiceMember():\n",
    "    \n",
    "    def __init__(self, service, name, rank, mos):\n",
    "        self.service = service\n",
    "        self.name = name\n",
    "        self.rank = rank\n",
    "        self.mos = mos\n",
    "\n",
    "    def changeMOS(self, mos):\n",
    "        self.mos = mos\n",
    "    \n",
    "    def changeRank(self,rank):\n",
    "        self.rank = rank\n",
    "\n",
    "    def __str__(self):\n",
    "        return f'Service: {self.service}, Name: {self.name}, Rank: {self.rank}, MOS: {self.mos}'"
   ]
  },
  {
   "cell_type": "markdown",
   "metadata": {},
   "source": [
    "## OOP - End of Lecture CTF Challenges"
   ]
  },
  {
   "cell_type": "markdown",
   "metadata": {},
   "source": [
    "Build a simple class called Dog.\n",
    "\n",
    "The class should initialize every instance of Dog created to start with the following:\n",
    "Attribute \tValue of attribute:\n",
    "name \tFido\n",
    "tricks \tempty list\n",
    "\n",
    "\n",
    "\n",
    "Build a function named change_name that accepts a parameter. The parameter provided will be used to overwrite the dog's initialized name.\n",
    "\n",
    "Build another function named new_trick that accepts a parameter. The parameter should be appended to the empty list of tricks that each dog is initialized with.\n",
    "\n",
    "Build a conversion to string function (hint: Think of the double underscore) that returns a string in the following format:\n",
    "\"My dog's name is __. __ can perform the following tricks: __\"      (NOTE: Fill in the blank lines with the dog name and list of tricks)"
   ]
  },
  {
   "cell_type": "code",
   "execution_count": null,
   "metadata": {},
   "outputs": [],
   "source": [
    "class Dog:\n",
    "    def __init__(self, name=\"Fido\", tricks=[]):\n",
    "        self.name = name\n",
    "        self.tricks = tricks\n",
    "    \n",
    "    def change_name(self , name):\n",
    "        self.name = name\n",
    "    \n",
    "    def new_trick(self, tricks):\n",
    "        self.tricks.append(tricks)\n",
    "\n",
    "    def __str__(self):\n",
    "        return f\"My dog's name is {self.name}. {self.name} can perform the following tricks: {self.tricks}\""
   ]
  },
  {
   "cell_type": "markdown",
   "metadata": {},
   "source": [
    "Create a class called Car. When initializing a Car instance, the user must provide the year, make, model, color, trim, and transmission type, in that order. The class should also include a conversion to string function that returns a string formatted in the example output provided below (NOTE: the format must be the same to include all whitespaces).\n",
    "\n",
    "For example, calling car1 = Car('2024','Honda','Civic','White','EX','Automatic')\n",
    "\n",
    "and \n",
    "\n",
    "print(car1) should return:\n",
    "\n",
    "Year: 2024\n",
    "Make: Honda\n",
    "Model: Civic\n",
    "Color: White\n",
    "Trim: EX\n",
    "Transmission: Automatic"
   ]
  },
  {
   "cell_type": "code",
   "execution_count": null,
   "metadata": {},
   "outputs": [],
   "source": [
    "class Car:\n",
    "    def __init__ (self, year, make, model, color, trim, transmission):\n",
    "        self.year = year\n",
    "        self.make = make\n",
    "        self.model = model\n",
    "        self.color = color\n",
    "        self.trim = trim\n",
    "        self.transmission = transmission\n",
    "    def __str__(self):\n",
    "        return (f\"Year: {self.year}\\nMake: {self.make}\\nModel: {self.model}\\nColor: {self.color}\\nTrim: {self.trim}\\nTransmission: {self.transmission}\")"
   ]
  },
  {
   "cell_type": "markdown",
   "metadata": {},
   "source": [
    "Create a class named Chest that can store a large number of items in to a list for an explorer. When initializing a Chest instance, it can store a variable number of items. The chest has a function called add that can store an additional random number of items. It also has a function called drop that can remove a variable number of items from the chest. The empty function removes all the items inside the chest. When you print the chest instance, it will return Chest: [itemX, itemY, itemZ].\n",
    "\n",
    "For example, by calling chest1 = Chest('swords', 'bows', 'daggers') and then print(chest1), it will return Chest: ['swords', 'bows', 'daggers']."
   ]
  },
  {
   "cell_type": "code",
   "execution_count": null,
   "metadata": {},
   "outputs": [],
   "source": [
    "class Chest:\n",
    "    def __init__(self, *items):\n",
    "        self.items = list(items)\n",
    "        \n",
    "    def add(self, *items):\n",
    "        for adding in items:     \n",
    "            self.items.append(adding)\n",
    "        \n",
    "    def drop(self, *items):\n",
    "        for removing in items:\n",
    "            self.items.remove(removing)\n",
    "\n",
    "    def empty(self):\n",
    "        self.items = []\n",
    "\n",
    "    def __str__(self):\n",
    "        return (f'Chest: {self.items}')"
   ]
  },
  {
   "cell_type": "markdown",
   "metadata": {},
   "source": [
    "## String Encoding Knowledge Check"
   ]
  },
  {
   "cell_type": "markdown",
   "metadata": {},
   "source": [
    "Given a string: strng, apply UTF-8 encoding to create a bytes object of the string stored in the bytes_strng variable. You may use whichever method you prefer."
   ]
  },
  {
   "cell_type": "code",
   "execution_count": null,
   "metadata": {},
   "outputs": [],
   "source": [
    "strng = 'hello world'\n",
    "bytes_strng = b'hello world'"
   ]
  },
  {
   "cell_type": "markdown",
   "metadata": {},
   "source": [
    "Complete the function below that accepts a utf-8 encoded string. The function should print a decoded copy of the string as well as print the type of the decoded string.\n",
    "Example:\n",
    "decode_it(b'hello world')\n",
    " \n",
    "Returns: \n",
    "hello world\n",
    "<class 'str'>"
   ]
  },
  {
   "cell_type": "code",
   "execution_count": null,
   "metadata": {},
   "outputs": [],
   "source": [
    "def decode_it(byte_strng):\n",
    "    x = byte_strng.decode(\"ascii\")\n",
    "    y = type(byte_strng.decode(\"ascii\"))\n",
    "    print(f'{x}\\n{y}')"
   ]
  },
  {
   "cell_type": "markdown",
   "metadata": {},
   "source": [
    "## Binary Number Systems Knowledge Check"
   ]
  },
  {
   "cell_type": "markdown",
   "metadata": {},
   "source": [
    "Given a literal of any number system, print its hexadecimal string conversion\n",
    "\n",
    "Example:\n",
    "num = 0b1001011110100\n",
    "\n",
    "Print:\n",
    "\n",
    "'0x12f4'\n",
    "\n",
    "NOTE: Depending on your IDE of choice, you may or may not see the quotations around your output"
   ]
  },
  {
   "cell_type": "code",
   "execution_count": null,
   "metadata": {},
   "outputs": [],
   "source": [
    "def convert_it(num):\n",
    "    pass"
   ]
  },
  {
   "cell_type": "markdown",
   "metadata": {},
   "source": [
    "Given an octal string literal print the integer conversion of the number.\n",
    "\n",
    "Example:\n",
    "\n",
    "num = '0o21705'\n",
    "\n",
    "Print:\n",
    "\n",
    "9157"
   ]
  },
  {
   "cell_type": "code",
   "execution_count": null,
   "metadata": {},
   "outputs": [],
   "source": [
    "def convert_it(num):\n",
    "    pass"
   ]
  },
  {
   "cell_type": "markdown",
   "metadata": {},
   "source": [
    "## Binary/String Encoding/Num Systems - End of Lecture CTF Challenges"
   ]
  },
  {
   "cell_type": "markdown",
   "metadata": {},
   "source": [
    "Use Python to finish the function below to return a list of ordinal numbers for every character in the given string (strng)\n",
    "\n",
    "Hint: Python Docs ord() function\n",
    "\n",
    "Example:\n",
    "\n",
    "code_points('this')\n",
    "\n",
    "Returns: [116, 104, 105, 115]"
   ]
  },
  {
   "cell_type": "code",
   "execution_count": null,
   "metadata": {},
   "outputs": [],
   "source": [
    "def code_points(strng):\n",
    "    charc = []\n",
    "    for char in strng:\n",
    "        charc.append(ord(char))\n",
    "    return charc"
   ]
  },
  {
   "cell_type": "markdown",
   "metadata": {},
   "source": [
    "\"Sometimes my cousin is just mean. He sent me a file with a special message but made it into a crazy series of ones and zeros. He told me each letter was on its own line, and could be converted into an Unicode character. Can you help me by decoding his message?\"\n",
    "\n",
    "A copy of the message can be downloaded from this file:  act18_1.txt\n",
    "\n",
    "Each line will be a string character. You will need to convert the string Ones and Zeros into an integer (but these are not base 10, so keep that in mind) and then pass that data to code that will convert it to its corresponding Unicode character and return them as a string. Thanks to Python's \"batteries included\" philosophy, there are two Python built-in functions that can help handle this for you."
   ]
  },
  {
   "cell_type": "code",
   "execution_count": null,
   "metadata": {},
   "outputs": [],
   "source": [
    "def tough_read(fname):\n",
    "    pass"
   ]
  },
  {
   "cell_type": "markdown",
   "metadata": {},
   "source": [
    "Return the SHA3 256-bit hash of the data provided. You will need to use the hashlib python library to complete this challenge.\n",
    "\n",
    "NOTE: The first call will use the string \"python\" later calls will use random strings\n",
    "\n",
    "NOTE: You can convert a string into a bytes-like object which is needed for hashing with: data.encode(\"utf-8\")\n",
    "\n",
    "NOTE: You can create a bytes-like object out of a literal by adding a b in front of the string, ie b\"python\" or b'python'"
   ]
  },
  {
   "cell_type": "code",
   "execution_count": null,
   "metadata": {},
   "outputs": [],
   "source": [
    "def get_hash(data=\"python\"):"
   ]
  },
  {
   "cell_type": "markdown",
   "metadata": {},
   "source": [
    "Given a password as a string, return an integer whose bits are set according to the following rules:\n",
    "\n",
    "    0x1 - Consists of at least 15 characters\n",
    "    0x2 - Consists of at least 1 number\n",
    "    0x4 - Consists of at least 1 uppercase letter\n",
    "    0x8 - Consists of at least 1 lowercase letter\n",
    "    0x16 - Consists of at least 1 special character (~!\"@#$%^&'*_-+=`|(){}[]:;<>,.?/)\n",
    "\n",
    "Note: The set of special characters corresponds exactly with those characters in string.punctuation"
   ]
  },
  {
   "cell_type": "code",
   "execution_count": null,
   "metadata": {},
   "outputs": [],
   "source": [
    "def complexity(password):"
   ]
  },
  {
   "cell_type": "markdown",
   "metadata": {},
   "source": [
    "## Python Practice Quiz 1"
   ]
  },
  {
   "cell_type": "markdown",
   "metadata": {},
   "source": [
    "Define a function named q1 that takes one parameter floatstr, which is a comma separated string of floats,  and return a list with each of the floats in the argument as elements in the list.\n",
    "\n",
    "Example:\n",
    "\n",
    "q1('1.2,5.4,9.8,5.7')\n",
    "\n",
    "Returns:  [1.2, 5.4, 9.8, 5.7]"
   ]
  },
  {
   "cell_type": "code",
   "execution_count": null,
   "metadata": {},
   "outputs": [],
   "source": [
    "#First Define a function that take a parameter floatstr which is a comma seperated string of floats\n",
    "\n",
    "\n",
    "def q1 (floatstr):\n",
    "    y = [] # Empty List\n",
    "    floatstr = floatstr.split(\",\") #Split on the comma\n",
    "    for item in floatstr:\n",
    "        x = (float(item))\n",
    "        y.append(x)\n",
    "    return y\n",
    "\n",
    "q1('1.2,5.4,9.8,5.7')\n",
    "\n",
    "#Return a list with each of the floats in a argument as ellements in the list."
   ]
  },
  {
   "cell_type": "markdown",
   "metadata": {},
   "source": [
    "Complete the function q2 which takes one parameter (a list of integers) and returns the average of all the arguments as a float.\n",
    "\n",
    "Example: \n",
    "\n",
    "q2([3,4,9,10,5,80,9])\n",
    "\n",
    "Returns: 17.142857142857142"
   ]
  },
  {
   "cell_type": "code",
   "execution_count": null,
   "metadata": {},
   "outputs": [],
   "source": [
    "def q2(args):\n",
    "    return sum(args)/len(args)\n",
    "\n",
    "q2([3,4,9,10,5,80,9])"
   ]
  },
  {
   "cell_type": "markdown",
   "metadata": {},
   "source": [
    "Complete the function q3 which takes two parameters: a list (lst) and a number of items (n),  and returns a new list containing the last n entries in lst.\n",
    "\n",
    "Example: \n",
    "\n",
    "q3(['one','two','three','four'],2)\n",
    " \n",
    "Returns: ['three', 'four']"
   ]
  },
  {
   "cell_type": "code",
   "execution_count": null,
   "metadata": {},
   "outputs": [],
   "source": [
    "def q3(lst,n):\n",
    "    return (lst[-n:])\n",
    "\n",
    "q3(['one','two','three','four'],2)"
   ]
  },
  {
   "cell_type": "markdown",
   "metadata": {},
   "source": [
    "Complete the function q4 which takes one parameter (a string) and return a list containing the ordinal numbers of each character in the string in the order found in the parameter string.\n",
    "\n",
    "Example:\n",
    "\n",
    "q4('hello')\n",
    "\n",
    "Returns: [104, 101, 108, 108, 111]"
   ]
  },
  {
   "cell_type": "code",
   "execution_count": null,
   "metadata": {},
   "outputs": [
    {
     "data": {
      "text/plain": [
       "[104, 101, 108, 108, 111]"
      ]
     },
     "execution_count": 27,
     "metadata": {},
     "output_type": "execute_result"
    }
   ],
   "source": [
    "def q4(strng):\n",
    "    lst = []\n",
    "    for item in strng:\n",
    "        #print(ord(item))\n",
    "        lst.append((ord(item)))\n",
    "    return lst\n",
    "#Need to call function to have it run in this instance q4\n",
    "\n",
    "q4('hello')"
   ]
  },
  {
   "cell_type": "markdown",
   "metadata": {},
   "source": [
    "Complete the function q5 which takes one parameter (a string) and return a tuple with each element in the tuple containing a single word from the parameter string in order.\n",
    "\n",
    "Example:\n",
    "\n",
    "q5('this is a test')\n",
    "\n",
    "Returns: ('this', 'is', 'a', 'test')"
   ]
  },
  {
   "cell_type": "code",
   "execution_count": null,
   "metadata": {},
   "outputs": [],
   "source": [
    "def q5(strng):\n",
    "    lst = []\n",
    "    tup = ()\n",
    "    strng = strng.split()\n",
    "    tup = tuple(strng)\n",
    "    return tup"
   ]
  },
  {
   "cell_type": "markdown",
   "metadata": {},
   "source": [
    "Complete the function q6 which takes two parameters: a dictionary (catalog) whose keys are product names and values are product prices per unit and a list of tuples (order) of product names and quantities, computes and returns the total value of the order.\n",
    "\n",
    "Using this catalog:\n",
    "\n",
    "catalog = {'AMD Ryzen 5 5600X': 289.99,'Intel Core i9-9900K': 363.50,'AMD Ryzen 9 5900X': 569.99}\n",
    "\n",
    "And this order:\n",
    "\n",
    "order = [('AMD Ryzen 5 5600X', 5), ('Intel Core i9-9900K', 3)]\n",
    "\n",
    "Example:\n",
    "\n",
    "q6(catalog, order)\n",
    "\n",
    "Returns: 2540.45\n",
    "\n",
    "How the above result was computed:\n",
    "\n",
    "(289.99 * 5) + (363.50 * 3)"
   ]
  },
  {
   "cell_type": "code",
   "execution_count": 28,
   "metadata": {},
   "outputs": [
    {
     "name": "stdout",
     "output_type": "stream",
     "text": [
      "{'AMD Ryzen 5 5600X': 5, 'Intel Core i9-9900K': 3}\n",
      "AMD Ryzen 5 5600X\n",
      "AMD Ryzen 5 5600X\n",
      "Intel Core i9-9900K\n",
      "Intel Core i9-9900K\n"
     ]
    },
    {
     "data": {
      "text/plain": [
       "2540.45"
      ]
     },
     "execution_count": 28,
     "metadata": {},
     "output_type": "execute_result"
    }
   ],
   "source": [
    "catalog = {'AMD Ryzen 5 5600X': 289.99,'Intel Core i9-9900K': 363.50,'AMD Ryzen 9 5900X': 569.99}\n",
    "order = [('AMD Ryzen 5 5600X', 5), ('Intel Core i9-9900K', 3)]\n",
    "\n",
    "def q6(catalog, order):\n",
    "    dict_1 = {}\n",
    "    total = 0\n",
    "    dict_1 = dict(order)\n",
    "    print(dict_1)\n",
    "    for item in dict_1:\n",
    "        print(item)\n",
    "        if item in dict_1:\n",
    "            print(item)\n",
    "            total += (dict_1[item]) * (catalog[item])\n",
    "    return total\n",
    "\n",
    "catalog = {'AMD Ryzen 5 5600X': 289.99,'Intel Core i9-9900K': 363.50,'AMD Ryzen 9 5900X': 569.99}\n",
    "order = [('AMD Ryzen 5 5600X', 5), ('Intel Core i9-9900K', 3)]\n",
    "\n",
    "q6(catalog, order)\n",
    "#\"\"\" menu = {'fries': 0.99, 'water': 8.99, 'waffles': 4.99, 'tequila': 5.00}\n",
    "#order = {'whopper':5, 'water': 5, 'fries': 55}\n",
    "# get a grand total cost of the order\n",
    "\n",
    "#total = 0\n",
    "#for item in order:                                                      # want to go through each of the ordered items\n",
    "                                                                        # need to see if each item ordered is in the menu.\n",
    "    #if item in menu:                                                    # if the item is in the menu you add to the total\n",
    "        #total += (order[item]) * (menu[item])                           # you can compare if a specific value is in a dictionary by using in\n",
    "\n",
    "#print(f'${total}') \"\"\""
   ]
  },
  {
   "cell_type": "markdown",
   "metadata": {},
   "source": [
    "Complete the function q7 which takes one parameter: a string representing a filename (filename), opens the file and returns the length of the first line in the file excluding the line terminator. Use file1.txt as a test case.\n",
    "\n",
    "Example: \n",
    "\n",
    "q7('file1.txt')\n",
    "\n",
    "Returns: 65"
   ]
  },
  {
   "cell_type": "code",
   "execution_count": null,
   "metadata": {},
   "outputs": [],
   "source": [
    "def q7(filename):\n",
    "    with open(filename) as file_obj:\n",
    "        file_content = file_obj.read\n",
    "        x = (file_obj.readline())\n",
    "        y = x.strip()\n",
    "        return (len(y))"
   ]
  },
  {
   "cell_type": "markdown",
   "metadata": {},
   "source": [
    "Complete the function q8 which takes two parameters: a filename and a list: lst, writes each entry from the list to the file on separate lines until a case-insensitive entry of \"stop\" is found in the list. If \"stop\" is not found in the list, write the entire list to the file on separate lines. Each time the function executes, it overwrites the file."
   ]
  },
  {
   "cell_type": "code",
   "execution_count": 2,
   "metadata": {},
   "outputs": [],
   "source": [
    "def q8(filename, lst):\n",
    "    with open(filename, 'w') as file_obj:  # Open file in write mode\n",
    "        for item in lst:\n",
    "            # Check if the item is \"stop\" (case-insensitive)\n",
    "            if item.lower() == \"stop\":\n",
    "                break\n",
    "            else:\n",
    "                file_obj.write(item + \"\\n\")  # Write each item followed by a newline\n",
    "\n",
    "# Example usage\n",
    "q8('output.txt', ['apple', 'banana', 'stop', 'grape'])"
   ]
  },
  {
   "cell_type": "markdown",
   "metadata": {},
   "source": [
    "Complete the function q9 which takes one parameter: an integer (miltime) representing military time and returns a string containing the greeting of the day.\n",
    "\n",
    "    0300-1159 \"Good Morning\"\n",
    "    1200-1559 \"Good Afternoon\"\n",
    "    1600-2059 \"Good Evening\"\n",
    "    2100-0259 \"Good Night\"\n",
    "\n",
    "NOTE: the actual time 0305 would be entered as 305 into the function\n",
    "\n",
    "Example:\n",
    "\n",
    "q9(305)\n",
    "\n",
    "Returns: Good Morning"
   ]
  },
  {
   "cell_type": "code",
   "execution_count": 3,
   "metadata": {},
   "outputs": [
    {
     "name": "stdout",
     "output_type": "stream",
     "text": [
      "Good Morning\n"
     ]
    }
   ],
   "source": [
    "def q9(miltime):\n",
    "    # Check the time and return the appropriate greeting\n",
    "    if 300 <= miltime <= 1159:\n",
    "        return \"Good Morning\"\n",
    "    elif 1200 <= miltime <= 1559:\n",
    "        return \"Good Afternoon\"\n",
    "    elif 1600 <= miltime <= 2059:\n",
    "        return \"Good Evening\"\n",
    "    else:\n",
    "        return \"Good Night\"\n",
    "\n",
    "# Example usage\n",
    "print(q9(305))  # Returns: \"Good Morning\""
   ]
  },
  {
   "cell_type": "markdown",
   "metadata": {},
   "source": [
    "Complete the function q10 which takes one parameter: numlist (a list of numbers) and returns True if all numbers in the list are NOT negative. If any numbers in the list are negative, return False.\n",
    "\n",
    "Example:\n",
    "\n",
    "q10([1,2,3,4,5,6])\n",
    "\n",
    "Returns: True\n",
    "\n",
    "Example 2:\n",
    "\n",
    "q10([1,2,3,4,-5,6,7])\n",
    "\n",
    "Returns: False"
   ]
  },
  {
   "cell_type": "code",
   "execution_count": 4,
   "metadata": {},
   "outputs": [
    {
     "name": "stdout",
     "output_type": "stream",
     "text": [
      "True\n",
      "False\n"
     ]
    }
   ],
   "source": [
    "def q10(numlist):\n",
    "    # Check if any number in the list is negative\n",
    "    for num in numlist:\n",
    "        if num < 0:\n",
    "            return False  # Return False if a negative number is found\n",
    "    return True  # Return True if no negative numbers are found\n",
    "\n",
    "# Example usage\n",
    "print(q10([1, 2, 3, 4, 5, 6]))  # Returns: True\n",
    "print(q10([1, 2, 3, 4, -5, 6, 7]))  # Returns: False"
   ]
  },
  {
   "cell_type": "markdown",
   "metadata": {},
   "source": [
    "## Python Practice Quiz 2"
   ]
  },
  {
   "cell_type": "markdown",
   "metadata": {},
   "source": [
    "Complete the function q1 which takes one parameter: a string of multiple words separated by single spaces and print a new string with the sentence reversed. The words themselves should remain as they are.\n",
    "\n",
    "For example, given 'it is accepted as a masterpiece on strategy', the printed string should be 'strategy on masterpiece a as accepted is it'."
   ]
  },
  {
   "cell_type": "code",
   "execution_count": null,
   "metadata": {},
   "outputs": [],
   "source": [
    "def q1(sentence):\n",
    "    # Split the sentence into a list of words\n",
    "    words = sentence.split()\n",
    "    \n",
    "    # Reverse the list of words\n",
    "    reversed_words = words[::-1]\n",
    "    \n",
    "    # Join the reversed list of words back into a string and print it\n",
    "    print(\" \".join(reversed_words))\n",
    "\n",
    "# Example usage\n",
    "q1('it is accepted as a masterpiece on strategy')\n",
    "# Output: 'strategy on masterpiece a as accepted is it'"
   ]
  },
  {
   "cell_type": "markdown",
   "metadata": {},
   "source": [
    "Complete the function q2 which takes one parameter: a postive integer and print its string representiation with commas seperating groups of 3 digits. For example, given 65535 the printed string should be '65,535'"
   ]
  },
  {
   "cell_type": "code",
   "execution_count": 5,
   "metadata": {},
   "outputs": [
    {
     "name": "stdout",
     "output_type": "stream",
     "text": [
      "65,535\n",
      "123,456,789\n",
      "1,000\n"
     ]
    }
   ],
   "source": [
    "def q2(n):\n",
    "    # Convert the number to a string\n",
    "    num_str = str(n)\n",
    "    \n",
    "    # Initialize an empty result string\n",
    "    result = \"\"\n",
    "    \n",
    "    # Start counting digits from the right\n",
    "    count = 0\n",
    "    \n",
    "    # Loop through the number string from right to left\n",
    "    for i in range(len(num_str) - 1, -1, -1):\n",
    "        result = num_str[i] + result  # Add the current digit to the result\n",
    "        \n",
    "        count += 1\n",
    "        \n",
    "        # After every 3 digits, add a comma (but not at the start of the number)\n",
    "        if count == 3 and i != 0:\n",
    "            result = \",\" + result\n",
    "            count = 0  # Reset the counter\n",
    "    \n",
    "    # Print the result with commas\n",
    "    print(result)\n",
    "\n",
    "# Example usage\n",
    "q2(65535)  # Output: '65,535'\n",
    "q2(123456789)  # Output: '123,456,789'\n",
    "q2(1000)  # Output: '1,000'"
   ]
  },
  {
   "cell_type": "code",
   "execution_count": null,
   "metadata": {},
   "outputs": [],
   "source": [
    "#Alternate:\n",
    "def q2(n):\n",
    "    # Convert the integer to a string\n",
    "    n_str = str(n)\n",
    "    \n",
    "    # Initialize an empty list to hold the result\n",
    "    result = []\n",
    "    \n",
    "    # Start from the end of the string and process in chunks of 3 digits\n",
    "    while len(n_str) > 3:\n",
    "        # Add the last 3 digits to the result\n",
    "        result.insert(0, n_str[-3:])\n",
    "        # Remove the last 3 digits from the string\n",
    "        n_str = n_str[:-3]\n",
    "    \n",
    "    # Add the remaining part of the string (less than or equal to 3 digits)\n",
    "    result.insert(0, n_str)\n",
    "    \n",
    "    # Join the parts with commas and print the result\n",
    "    print(\",\".join(result))\n",
    "\n",
    "# Example usage\n",
    "q2(65535)  # Output: '65,535'\n",
    "q2(123456789)  # Output: '123,456,789'\n",
    "q2(1000)  # Output: '1,000'\n"
   ]
  },
  {
   "cell_type": "markdown",
   "metadata": {},
   "source": [
    "Complete the function q3 which takes two parameters: two lists of integers and print a sorted list that contains all integers from both lists in descending order.\n",
    "\n",
    "For example, given [3,4,9] and [8,1,5] the returned list should be [9,8,5,4,3,1]. The printed list may contain duplicates."
   ]
  },
  {
   "cell_type": "code",
   "execution_count": null,
   "metadata": {},
   "outputs": [],
   "source": [
    "def q3(lst0, lst1):\n",
    "    # Combine both lists\n",
    "    combined_list = lst0 + lst1\n",
    "    \n",
    "    # Sort the combined list in descending order\n",
    "    combined_list.sort(reverse=True)\n",
    "    \n",
    "    # Print the sorted list\n",
    "    print(combined_list)\n",
    "\n",
    "# Example usage\n",
    "q3([3, 4, 9], [8, 1, 5])  # Output: [9, 8, 5, 4, 3, 1]"
   ]
  },
  {
   "cell_type": "markdown",
   "metadata": {},
   "source": [
    "Complete the function q4 which takes three parameters representing 3 scores and print 'GO' if the average score is greater than 50. Otherwise print 'NOGO'."
   ]
  },
  {
   "cell_type": "code",
   "execution_count": null,
   "metadata": {},
   "outputs": [],
   "source": [
    "def q4(s1, s2, s3):\n",
    "    # Calculate the average score\n",
    "    average_score = (s1 + s2 + s3) / 3\n",
    "    \n",
    "    # Check if the average score is greater than 50\n",
    "    if average_score > 50:\n",
    "        print(\"GO\")\n",
    "    else:\n",
    "        print(\"NOGO\")\n",
    "\n",
    "# Example usage\n",
    "q4(60, 55, 40)  # Output: \"GO\"\n",
    "q4(30, 40, 50)  # Output: \"NOGO\""
   ]
  },
  {
   "cell_type": "markdown",
   "metadata": {},
   "source": [
    "Complete the function q5 which takes two parameters: integer and limit, and print a list of multiples of the integer up to and including the limit.\n",
    "\n",
    "For example, if integer = 3 and limit = 30, the printed list should be [0, 3, 6, 9, 12, 15, 18, 21, 24, 27, 30]. Note, 0 is a multiple of any integer except 0 itself."
   ]
  },
  {
   "cell_type": "code",
   "execution_count": null,
   "metadata": {},
   "outputs": [],
   "source": [
    "def q5(integer, limit):\n",
    "    # Create an empty list to store the multiples\n",
    "    multiples = []\n",
    "    \n",
    "    # Loop through numbers from 0 to the limit\n",
    "    for i in range(0, limit + 1, integer):\n",
    "        multiples.append(i)\n",
    "    \n",
    "    # Print the list of multiples\n",
    "    print(multiples)\n",
    "\n",
    "# Example usage\n",
    "q5(3, 30)  # Output: [0, 3, 6, 9, 12, 15, 18, 21, 24, 27, 30]\n",
    "q5(5, 25)  # Output: [0, 5, 10, 15, 20, 25]"
   ]
  },
  {
   "cell_type": "code",
   "execution_count": null,
   "metadata": {},
   "outputs": [],
   "source": [
    "#Alternate\n",
    "def q5(integer, limit):\n",
    "    # Create a list of multiples of 'integer' up to 'limit' (inclusive)\n",
    "    multiples = [i for i in range(0, limit+1, integer)]\n",
    "    \n",
    "    # Print the list of multiples\n",
    "    print(multiples)\n",
    "\n",
    "# Example usage\n",
    "q5(3, 30)  # Output: [0, 3, 6, 9, 12, 15, 18, 21, 24, 27, 30]"
   ]
  },
  {
   "cell_type": "markdown",
   "metadata": {},
   "source": [
    "Complete the function q6 which takes two parameters (representing two filenames) and return a list whose elements consist of line numbers for which the two files differ. The first line is considered line 0.\n",
    "\n",
    "For example, using the following files: test1.txt and test2.txt should return [2, 4]"
   ]
  },
  {
   "cell_type": "code",
   "execution_count": null,
   "metadata": {},
   "outputs": [],
   "source": [
    "def q6(file1, file2):\n",
    "    # Open both files\n",
    "    with open(file1, 'r') as f1, open(file2, 'r') as f2:\n",
    "        lines1 = f1.readlines()  # Read all lines from the first file\n",
    "        lines2 = f2.readlines()  # Read all lines from the second file\n",
    "\n",
    "    # Create a list to hold the line numbers where the files differ\n",
    "    differing_lines = []\n",
    "\n",
    "    # Iterate through the lines and compare\n",
    "    for i in range(min(len(lines1), len(lines2))):\n",
    "        if lines1[i] != lines2[i]:\n",
    "            differing_lines.append(i)\n",
    "    \n",
    "    # Handle case where one file is longer than the other\n",
    "    if len(lines1) != len(lines2):\n",
    "        longer_file = lines1 if len(lines1) > len(lines2) else lines2\n",
    "        differing_lines.extend(range(len(longer_file[len(lines2):])))\n",
    "\n",
    "    return differing_lines\n",
    "\n",
    "# Example usage\n",
    "print(q6(\"test1.txt\", \"test2.txt\"))  # Output: [2, 4]"
   ]
  },
  {
   "cell_type": "code",
   "execution_count": null,
   "metadata": {},
   "outputs": [],
   "source": [
    "#Alternate\n",
    "def q6(file1, file2):\n",
    "    # Initialize a list to store the line numbers where the files differ\n",
    "    differing_lines = []\n",
    "\n",
    "    # Open both files and compare them line by line\n",
    "    with open(file1, 'r') as f1, open(file2, 'r') as f2:\n",
    "        # Read lines from both files\n",
    "        lines1 = f1.readlines()\n",
    "        lines2 = f2.readlines()\n",
    "\n",
    "        # Loop through the lines and compare them\n",
    "        for i in range(min(len(lines1), len(lines2))):\n",
    "            if lines1[i] != lines2[i]:\n",
    "                differing_lines.append(i)  # Add the line number if they differ\n",
    "\n",
    "        # If file1 is longer, add the remaining line numbers\n",
    "        for i in range(len(lines1), len(lines2)):\n",
    "            differing_lines.append(i)\n",
    "\n",
    "        # If file2 is longer, add the remaining line numbers\n",
    "        for i in range(len(lines2), len(lines1)):\n",
    "            differing_lines.append(i)\n",
    "\n",
    "    return differing_lines\n",
    "\n",
    "# Example usage:\n",
    "# Replace 'test1.txt' and 'test2.txt' with the actual filenames when running this code\n",
    "#print(q6('test1.txt', 'test2.txt'))"
   ]
  },
  {
   "cell_type": "markdown",
   "metadata": {},
   "source": [
    "Complete the function q7 which takes one parameter (a list), iterates through the given list, and returns the first duplicate value you come across.\n",
    "\n",
    "For example, if given [5,7,9,1,3,7,9,5], the returned value should be 7."
   ]
  },
  {
   "cell_type": "code",
   "execution_count": null,
   "metadata": {},
   "outputs": [],
   "source": [
    "def q7(lst):\n",
    "    # Create an empty set to track elements we have seen\n",
    "    seen = set()\n",
    "    \n",
    "    # Iterate through the list\n",
    "    for num in lst:\n",
    "        if num in seen:\n",
    "            # Return the first duplicate we find\n",
    "            return num\n",
    "        seen.add(num)  # Add the number to the set if it's not a duplicate\n",
    "    \n",
    "    # If no duplicates are found, return None\n",
    "    return None\n",
    "\n",
    "# Example usage:\n",
    "print(q7([5, 7, 9, 1, 3, 7, 9, 5]))  # Output: 7\n",
    "print(q7([1, 2, 3, 4]))  # Output: None (no duplicates)"
   ]
  },
  {
   "cell_type": "code",
   "execution_count": null,
   "metadata": {},
   "outputs": [],
   "source": [
    "#Alternate\n",
    "def q7(lst):\n",
    "    # Create an empty set to track the elements we've seen\n",
    "    seen = set()\n",
    "    \n",
    "    # Iterate through the list\n",
    "    for item in lst:\n",
    "        # If the item is already in the seen set, it is a duplicate\n",
    "        if item in seen:\n",
    "            return item  # Return the first duplicate\n",
    "        # If the item is not a duplicate, add it to the seen set\n",
    "        seen.add(item)\n",
    "    \n",
    "    # If no duplicate is found, return None (or you could raise an error)\n",
    "    return None\n",
    "\n",
    "# Example usage:\n",
    "print(q7([5, 7, 9, 1, 3, 7, 9, 5]))  # Output: 7\n"
   ]
  },
  {
   "cell_type": "markdown",
   "metadata": {},
   "source": [
    "Complete the function q8 which takes one parameter: a string representing a sentence with words being separated by a single space, and return the length of the shortest word. There is no punctuation in the sentence.\n",
    "\n",
    "Example:\n",
    "\n",
    "strng = \"What is the length of the shortest word in this sentence\""
   ]
  },
  {
   "cell_type": "code",
   "execution_count": null,
   "metadata": {},
   "outputs": [],
   "source": [
    "def q8(strng):\n",
    "    # Split the sentence into a list of words\n",
    "    words = strng.split()\n",
    "    \n",
    "    # Find the length of the shortest word\n",
    "    shortest_word_length = min(len(word) for word in words)\n",
    "    \n",
    "    return shortest_word_length\n",
    "\n",
    "# Example usage:\n",
    "print(q8(\"What is the length of the shortest word in this sentence\"))  # Output: 2"
   ]
  },
  {
   "cell_type": "code",
   "execution_count": null,
   "metadata": {},
   "outputs": [],
   "source": [
    "def q8(strng):\n",
    "    # Split the sentence into a list of words\n",
    "    words = strng.split()\n",
    "    \n",
    "    # Find the length of the shortest word by using the min function with the length of each word\n",
    "    shortest_word_length = min(len(word) for word in words)\n",
    "    \n",
    "    # Return the length of the shortest word\n",
    "    return shortest_word_length\n",
    "\n",
    "# Example usage:\n",
    "print(q8(\"What is the length of the shortest word in this sentence\"))  # Output: 2"
   ]
  },
  {
   "cell_type": "markdown",
   "metadata": {},
   "source": [
    "Complete the function q9 which takes one parameter (an alphanumeric string), and return the character whose ascii value is that of the integer representation of all of the digits in the string concatenated in the order in which they appear.\n",
    "\n",
    "For example, given 'hell9oworld7', the returned character should be 'a' which has the ascii value of 97."
   ]
  },
  {
   "cell_type": "code",
   "execution_count": null,
   "metadata": {},
   "outputs": [],
   "source": [
    "def q9(strng):\n",
    "    # Extract all digits from the string\n",
    "    digits = ''.join([char for char in strng if char.isdigit()])\n",
    "    \n",
    "    # Convert the concatenated digits to an integer\n",
    "    ascii_value = int(digits)\n",
    "    \n",
    "    # Return the character corresponding to the ASCII value\n",
    "    return chr(ascii_value)\n",
    "\n",
    "# Example usage:\n",
    "print(q9(\"hell9oworld7\"))  # Output: 'a' (ASCII value 97)"
   ]
  },
  {
   "cell_type": "markdown",
   "metadata": {},
   "source": [
    "Complete the function q10 which takes one parameter (a list of positive integers sorted in ascending order), and return the first non-consecutive value. If all values are consecutive, return 'All are sequential'.\n",
    "\n",
    "For example, given [1,2,3,4,6,7], the returned value should be 6."
   ]
  },
  {
   "cell_type": "code",
   "execution_count": null,
   "metadata": {},
   "outputs": [],
   "source": [
    "def q10(arr):\n",
    "    # Iterate through the list starting from the second element\n",
    "    for i in range(1, len(arr)):\n",
    "        # Check if the current element is not consecutive to the previous one\n",
    "        if arr[i] != arr[i-1] + 1:\n",
    "            return arr[i]  # Return the first non-consecutive number\n",
    "    \n",
    "    # If all numbers are consecutive, return this message\n",
    "    return \"All are sequential\"\n",
    "\n",
    "# Example usage:\n",
    "print(q10([1, 2, 3, 4, 6, 7]))  # Output: 6\n",
    "print(q10([1, 2, 3, 4, 5]))  # Output: \"All are sequential\""
   ]
  }
 ],
 "metadata": {
  "kernelspec": {
   "display_name": "Python 3",
   "language": "python",
   "name": "python3"
  },
  "language_info": {
   "codemirror_mode": {
    "name": "ipython",
    "version": 3
   },
   "file_extension": ".py",
   "mimetype": "text/x-python",
   "name": "python",
   "nbconvert_exporter": "python",
   "pygments_lexer": "ipython3",
   "version": "3.8.10"
  }
 },
 "nbformat": 4,
 "nbformat_minor": 2
}
