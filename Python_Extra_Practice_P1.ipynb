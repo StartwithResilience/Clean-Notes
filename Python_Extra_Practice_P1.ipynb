{
 "cells": [
  {
   "cell_type": "markdown",
   "metadata": {},
   "source": [
    "# CAT1"
   ]
  },
  {
   "cell_type": "markdown",
   "metadata": {},
   "source": [
    "## **CAT1**\n",
    "Create the following function:\n",
    "\n",
    "```python\n",
    "# returns the gravitaional force between two objects \n",
    "def gravitational_force(mass1:float, mass2:float, distance:float) -> float:\n",
    "```\n",
    "The function uses the following equation:\n",
    "\n",
    "$F = G \\cdot \\frac {m_1 \\cdot m_2} {r^2}$\n",
    "| Equation Variable | Value |\n",
    "| :-- | :-- |\n",
    "| $F$ | **return** value |\n",
    "| $G$ | `0.000_000_000_066_74` |\n",
    "| $m_1$ | parameter `mass1` |\n",
    "| $m_2$ | parameter `mass2` |\n",
    "| $r$ | parameter `distance` | \n",
    "\n",
    "<br>\n",
    "\n",
    "| Example Call | Result |\n",
    "| :-- | :-- |\n",
    "| `gravitational_force(500_000, 300_000, 10)` |\t0.10010999999999998 |\n",
    "| `gravitational_force(1_000_000, 800_000, 5)` | 2.1356799999999994 |\n",
    "| `gravitational_force(2_500_000, 2_000_000, 7)` | 6.810204081632653 |"
   ]
  },
  {
   "cell_type": "code",
   "execution_count": 2,
   "metadata": {},
   "outputs": [
    {
     "name": "stdout",
     "output_type": "stream",
     "text": [
      "0.10010999999999999\n",
      "2.13568\n",
      "6.810204081632652\n"
     ]
    }
   ],
   "source": [
    "def gravitational_force(mass1:float, mass2:float, distance:float) -> float:\n",
    "    return (mass1*mass2)/(distance**2)*0.000_000_000_066_74\n",
    "   \n",
    "\n",
    "print(gravitational_force(500_000, 300_000, 10))\n",
    "print(gravitational_force(1_000_000, 800_000, 5))\n",
    "print(gravitational_force(2_500_000, 2_000_000, 7))\n"
   ]
  },
  {
   "cell_type": "markdown",
   "metadata": {},
   "source": [
    "## **CAT1**\n",
    "Define the following function:\n",
    "\n",
    "```python\n",
    "# Returns the compound interest\n",
    "def compound_interest(principal: float, rate: float, time: float, n: int) -> float:\n",
    "```\n",
    "\n",
    "The function uses the following equation:\n",
    "\n",
    "$A = P \\cdot \\left(1 + \\frac{r}{n}\\right)^{n \\cdot t}$\n",
    "| Equation Variable | Value |\n",
    "| :-- | :-- |\n",
    "| $A$ | **return** value (final amount) |\n",
    "| $P$ | parameter `principal` |\n",
    "| $r$ | parameter `rate` (as a decimal) |\n",
    "| $t$ | parameter `time` (years) |\n",
    "| $n$ | parameter `n` (number of times compounded per year) |\n",
    "\n",
    "<br>\n",
    "\n",
    "| Example Call | Result |\n",
    "| :-- | :-- |\n",
    "| `print(round(compound_interest(10_000, 0.05, 10, 12),2))` | 16470.09 |\n",
    "| `print(round(compound_interest(5_000, 0.07, 5, 4),2))` | 7073.89 |\n",
    "| `print(round(compound_interest(20_000, 0.03, 15, 1),2))` | 31159.35 |"
   ]
  },
  {
   "cell_type": "code",
   "execution_count": 3,
   "metadata": {},
   "outputs": [
    {
     "name": "stdout",
     "output_type": "stream",
     "text": [
      "16470.09\n",
      "7073.89\n",
      "31159.35\n"
     ]
    }
   ],
   "source": [
    "def compound_interest(principal: float, rate: float, time: float, n: int) -> float:\n",
    "    return principal*(1+rate/n)**(n*time)\n",
    "\n",
    "print(round(compound_interest(10_000, 0.05, 10, 12),2))\n",
    "print(round(compound_interest(5_000, 0.07, 5, 4),2))\n",
    "print(round(compound_interest(20_000, 0.03, 15, 1),2))"
   ]
  },
  {
   "cell_type": "markdown",
   "metadata": {},
   "source": [
    "## **CAT1**\n",
    "Define the following function:\n",
    "\n",
    "```python\n",
    "# Returns the area of a trapezoid\n",
    "def trapezoid_area(base1: float, base2: float, height: float) -> float:\n",
    "```\n",
    "\n",
    "The function uses the following equation:\n",
    "\n",
    "$A = \\frac{1}{2} \\cdot (b_1 + b_2) \\cdot h$\n",
    "\n",
    "| Equation Variable | Value |\n",
    "| :-- | :-- |\n",
    "| $A$ | **return** value (trapezoid area) |\n",
    "| $b_1$ | parameter `base1` (first base) |\n",
    "| $b_2$ | parameter `base2` (second base) |\n",
    "| $h$ | parameter `height` |\n",
    "\n",
    "        else:\n",
    "<br>\n",
    "\n",
    "| Example Call | Result |\n",
    "| :-- | :-- |\n",
    "| `print(round(trapezoid_area(10,6,5), 2))` | 40.0 |\n",
    "| `print(round(trapezoid_area(15,8,7),2 ))` | 80.5 |\n",
    "| `print(round(trapezoid_area(20, 12, 10), 2))` | 160.0 |\n"
   ]
  },
  {
   "cell_type": "code",
   "execution_count": 4,
   "metadata": {},
   "outputs": [
    {
     "name": "stdout",
     "output_type": "stream",
     "text": [
      "40.0\n",
      "80.5\n",
      "160.0\n"
     ]
    }
   ],
   "source": [
    "def trapezoid_area(base1: float, base2: float, height: float) -> float:\n",
    "    return .5*(base1+base2)*height\n",
    "\n",
    "print(round(trapezoid_area(10,6,5), 2))\n",
    "print(round(trapezoid_area(15,8,7), 2))\n",
    "print(round(trapezoid_area(20, 12, 10), 2))\n"
   ]
  },
  {
   "cell_type": "markdown",
   "metadata": {},
   "source": [
    "## **CAT1**\n",
    "Define the following equation\n",
    "\n",
    "```python\n",
    "# Returns the velocity or distance traveled by a projectile\n",
    "def ballistics(initial_velocity: float, time: float) -> float:\n",
    "```\n",
    "The function uses the following equation:\n",
    "\n",
    "$d = v_0 \\cdot t + \\frac{1}{2} \\cdot g \\cdot t^2$\n",
    "\n",
    "| Equation Variable | Value |\n",
    "| :-- | :-- |\n",
    "| $d$ | **return** value (distance or velocity depending on input) |\n",
    "| $v_0$ | parameter `initial_velocity` (initial velocity in m/s) |\n",
    "| $t$ | parameter `time` (time in seconds) |\n",
    "| $g$ | hardcoded value `9.81` (acceleration due to gravity in m/s²) |\n",
    "\n",
    "<br>\n",
    "\n",
    "| Example Call | Result |\n",
    "| :-- | :-- |\n",
    "| `print(round(ballistics(0, 10), 3))` | 490.50 |\n",
    "| `print(round(ballistics(20, 5), 3))` | 222.625 |\n",
    "| `print(round(ballistics(50, 2), 3))` | 119.62 |"
   ]
  },
  {
   "cell_type": "code",
   "execution_count": 5,
   "metadata": {},
   "outputs": [
    {
     "name": "stdout",
     "output_type": "stream",
     "text": [
      "490.5\n",
      "222.625\n",
      "119.62\n"
     ]
    }
   ],
   "source": [
    "def ballistics(initial_velocity: float, time: float) -> float:\n",
    "    return initial_velocity*time+.5*9.81*(time**2)\n",
    "\n",
    "print(round(ballistics(0, 10), 3))\n",
    "print(round(ballistics(20, 5), 3))\n",
    "print(round(ballistics(50, 2), 3))\n"
   ]
  },
  {
   "cell_type": "markdown",
   "metadata": {},
   "source": [
    "## **CAT1**\n",
    "Define the following function:\n",
    "```python\n",
    "# returns the pressure based on volume, moles, and temperature using the Ideal Gas Law\n",
    "def ideal_gas_law(volume: float, moles: float, temperature: float) -> float:\n",
    "```\n",
    "The function uses the following equation:\n",
    "\n",
    "$P = \\frac {nRT}{V}$\n",
    "\n",
    "| Equation Variable | Value |\n",
    "| :-- | :-- |\n",
    "| $P$  | **return** value (pressure in pascals) |\n",
    "| $V$  | parameter `volume` (volume in cubic meters) |\n",
    "| $n$  | parameter `moles` (number of moles) |\n",
    "| $T$  | parameter `temperature` (temperature in kelvin) |\n",
    "| $R$  | constant `8.314` (universal gas constant in J/(mol·K)) |\n",
    "\n",
    "<br>\n",
    "\n",
    "| Example Call | Result |\n",
    "| :-- | :-- |\n",
    "| `print(round(ideal_gas_law(10, 1, 300), 2))` | 249.42 |\n",
    "| `print(round(ideal_gas_law(20, 2, 400), 2))` | 332.56 |\n",
    "| `print(round(ideal_gas_law(5, 1, 273), 2))` | 453.94 |"
   ]
  },
  {
   "cell_type": "code",
   "execution_count": 6,
   "metadata": {},
   "outputs": [
    {
     "name": "stdout",
     "output_type": "stream",
     "text": [
      "249.42\n",
      "332.56\n",
      "453.94\n"
     ]
    }
   ],
   "source": [
    "def ideal_gas_law(volume: float, moles: float, temperature: float) -> float:\n",
    "    return (moles*8.314*temperature)/(volume)\n",
    "\n",
    "\n",
    "print(round(ideal_gas_law(10, 1, 300), 2))\n",
    "print(round(ideal_gas_law(20, 2, 400), 2))\n",
    "print(round(ideal_gas_law(5, 1, 273), 2))"
   ]
  },
  {
   "cell_type": "markdown",
   "metadata": {},
   "source": [
    "# CAT2"
   ]
  },
  {
   "cell_type": "markdown",
   "metadata": {},
   "source": [
    "## **CAT2**\n",
    "Create the following function:  \n",
    "\n",
    "```python\n",
    "# returns True if the given string represents a valid RGB color, otherwise False\n",
    "def is_valid_rgb(color: str) -> bool:\n",
    "```\n",
    "\n",
    "The function should check if the given string represents a valid RGB color in the format `\"R,G,B\"`, where:  \n",
    "- `R`, `G`, and `B` are whole numbers separated by commas.  \n",
    "- Each number must be in the range **0 to 255** (inclusive).  \n",
    "- The function should return `True` if all numbers are within the range, otherwise return `False`.  \n",
    "\n",
    "- The input will **always** be in the format `\"R,G,B\"` (no need to check for invalid characters or missing values).  \n",
    "\n",
    "| Example Call | Result |\n",
    "| :-- | :-- |\n",
    "| `print(is_valid_rgb(\"255,0,127\"))` | `True` |\n",
    "| `print(is_valid_rgb(\"0,0,0\"))` | `True` |\n",
    "| `print(is_valid_rgb(\"256,100,50\"))` | `False` |\n",
    "| `print(is_valid_rgb(\"100,-5,200\"))` | `False` |\n",
    "| `print(is_valid_rgb(\"50,50,300\"))` | `False` |\n"
   ]
  },
  {
   "cell_type": "code",
   "execution_count": null,
   "metadata": {},
   "outputs": [
    {
     "name": "stdout",
     "output_type": "stream",
     "text": [
      "True\n",
      "True\n",
      "False\n",
      "False\n",
      "False\n"
     ]
    }
   ],
   "source": [
    "def is_valid_rgb(color: str) -> bool:\n",
    "    R = []\n",
    "    G = []\n",
    "    B = []\n",
    "\n",
    "    if R in range()\n",
    "\n",
    "print(is_valid_rgb(\"255,0,127\"))\n",
    "print(is_valid_rgb(\"0,0,0\"))\n",
    "print(is_valid_rgb(\"256,100,50\"))\n",
    "print(is_valid_rgb(\"100,-5,200\"))\n",
    "print(is_valid_rgb(\"50,50,300\"))"
   ]
  },
  {
   "cell_type": "markdown",
   "metadata": {},
   "source": [
    "## **CAT2**\n",
    "Create the following function:  \n",
    "\n",
    "```python\n",
    "# returns True if the given string represents a valid time in 24-hour format, otherwise False\n",
    "def is_valid_time(time_str: str) -> bool:\n",
    "```\n",
    "\n",
    "The function should check if the given string represents a valid **24-hour format** time in the format `\"HH:MM:SS\"`, where:  \n",
    "- `HH` (hours) must be between **0 and 23** (inclusive).  \n",
    "- `MM` (minutes) and `SS` (seconds) must be between **0 and 59** (inclusive).  \n",
    "- The function should return `True` if all values are within their respective ranges, otherwise return `False`.  \n",
    "\n",
    "- The input will **always** be in the format `\"HH:MM:SS\"` (no need to check for invalid characters or missing values).  \n",
    "\n",
    "| Example Call | Result |\n",
    "| :-- | :-- |\n",
    "| `print(is_valid_time(\"12:30:45\"))` | `True` |\n",
    "| `print(is_valid_time(\"00:00:00\"))` | `True` |\n",
    "| `print(is_valid_time(\"23:59:59\"))` | `True` |\n",
    "| `print(is_valid_time(\"24:00:00\"))` | `False` |\n",
    "| `print(is_valid_time(\"15:60:10\"))` | `False` |\n",
    "| `print(is_valid_time(\"10:30:-5\"))` | `False` |"
   ]
  },
  {
   "cell_type": "code",
   "execution_count": null,
   "metadata": {},
   "outputs": [
    {
     "name": "stdout",
     "output_type": "stream",
     "text": [
      "True\n",
      "True\n",
      "True\n",
      "False\n",
      "False\n",
      "False\n"
     ]
    }
   ],
   "source": [
    "def is_valid_time(time_str: str) -> bool:\n",
    "    pass\n",
    "\n",
    "print(is_valid_time(\"12:30:45\"))\n",
    "print(is_valid_time(\"00:00:00\"))\n",
    "print(is_valid_time(\"23:59:59\"))\n",
    "print(is_valid_time(\"24:00:00\"))\n",
    "print(is_valid_time(\"15:60:10\"))\n",
    "print(is_valid_time(\"10:30:-5\"))"
   ]
  },
  {
   "cell_type": "markdown",
   "metadata": {},
   "source": [
    "## **CAT2**\n",
    "Create the following function:  \n",
    "\n",
    "```python\n",
    "# returns True if any phone number in the list is from a restricted area code, otherwise False\n",
    "def check_phone_numbers(phone_numbers: list) -> bool:\n",
    "```\n",
    "\n",
    "The function should check if **any** of the given **string-represented phone numbers** contain a **restricted area code** from the set `{212, 305, 415, 718}`.  \n",
    "\n",
    "**Assumptions:**\n",
    "- Each element in `phone_numbers` is a **valid** phone number in the format: `\"(XXX) XXX-XXXX\"`, where `XXX` is the area code.  \n",
    "- The function returns `True` if **at least one** phone number starts with a restricted area code, otherwise it returns `False`.  \n",
    "\n",
    "| Example Call | Result |\n",
    "| :-- | :-- |\n",
    "| `print(check_phone_numbers([\"(555) 123-4567\", \"(212) 987-6543\", \"(800) 555-1212\"]))` | `True` |\n",
    "| `print(check_phone_numbers([\"(555) 123-4567\", \"(800) 555-1212\", \"(999) 222-3333\"]))` | `False` |\n",
    "| `print(check_phone_numbers([\"(305) 777-8888\", \"(415) 222-9999\"]))` | `True` |\n",
    "| `print(check_phone_numbers([\"(123) 456-7890\", \"(999) 888-7777\"]))` | `False` |\n",
    "| `print(check_phone_numbers([]))` | `False` |"
   ]
  },
  {
   "cell_type": "code",
   "execution_count": null,
   "metadata": {},
   "outputs": [
    {
     "name": "stdout",
     "output_type": "stream",
     "text": [
      "True\n",
      "False\n",
      "True\n",
      "False\n",
      "False\n"
     ]
    }
   ],
   "source": [
    "def check_phone_numbers(phone_numbers: list) -> bool:\n",
    "    pass\n",
    "\n",
    "print(check_phone_numbers([\"(555) 123-4567\", \"(212) 987-6543\", \"(800) 555-1212\"]))\n",
    "print(check_phone_numbers([\"(555) 123-4567\", \"(800) 555-1212\", \"(999) 222-3333\"]))\n",
    "print(check_phone_numbers([\"(305) 777-8888\", \"(415) 222-9999\"]))\n",
    "print(check_phone_numbers([\"(123) 456-7890\", \"(999) 888-7777\"]))\n",
    "print(check_phone_numbers([]))"
   ]
  },
  {
   "cell_type": "markdown",
   "metadata": {},
   "source": [
    "## **CAT2**\n",
    "Create the following function:\n",
    "\n",
    "```python\n",
    "# returns True if any given date in the list is in the month of December, otherwise False\n",
    "def check_december(dates: list) -> bool:\n",
    "```\n",
    "\n",
    "The function should check if **any** of the given **string-represented dates** is in the month of **December**. The dates will either be in the format `\"YYYY-MM-DD\"` or `\"YY-MM-DD\"`. \n",
    "\n",
    "Assumptions:\n",
    "- Each date in the `dates` list is in the correct **ISO date format** `\"YYYY-MM-DD\"` or `\"YY-MM-DD\"`.\n",
    "- `dates` will contain **at least 1** string.\n",
    "\n",
    "| Example Call | Result |\n",
    "| :-- | :-- |\n",
    "| `print(check_december([\"2020-12-25\", \"2021-01-15\", \"2019-11-30\"]))` | `True` |\n",
    "| `print(check_december([\"2021-11-01\", \"2020-07-22\", \"22-05-13\"]))` | `False` |\n",
    "| `print(check_december([\"22-12-01\", \"2022-12-25\"]))` | `True` |\n",
    "| `print(check_december([\"2018-06-18\", \"2019-03-20\", \"20-08-09\"]))` | `False` |\n"
   ]
  },
  {
   "cell_type": "code",
   "execution_count": null,
   "metadata": {},
   "outputs": [
    {
     "name": "stdout",
     "output_type": "stream",
     "text": [
      "True\n",
      "False\n",
      "True\n",
      "False\n"
     ]
    }
   ],
   "source": [
    "def check_december(dates: list) -> bool:\n",
    "    pass\n",
    "\n",
    "print(check_december([\"2020-12-25\", \"2021-01-15\", \"2019-11-30\"]))\n",
    "print(check_december([\"2021-11-01\", \"2020-07-22\", \"22-05-13\"]))\n",
    "print(check_december([\"22-12-01\", \"2022-12-25\"]))\n",
    "print(check_december([\"2018-06-18\", \"2019-03-20\", \"20-08-09\"]))"
   ]
  },
  {
   "cell_type": "markdown",
   "metadata": {},
   "source": [
    "## **CAT2**\n",
    "Create the following function:\n",
    "\n",
    "```python\n",
    "# returns the average grade for a student from a comma-separated string of grades\n",
    "def average_grade(grades: str) -> float:\n",
    "```\n",
    "\n",
    "The function should take a **comma-separated string of grades** representing the grades of a student and return the **average** of those grades. The grades are expected to be valid floating-point numbers between 0 and 100 (inclusive). The number of grades can vary, but will be at least one.\n",
    "\n",
    "Assumptions:\n",
    "- The parameter string will contain valid floating-point grades separated by commas.\n",
    "- The grades are within the range 0-100 (inclusive).\n",
    "- There will be at least one grade in the input string.\n",
    "- You should return the average as a float.\n",
    "\n",
    "| Example Call | Result |\n",
    "| :-- | :-- |\n",
    "| `print(round(average_grade(\"90.5,85.3,100,75.2\"), 2))` | `87.5` |\n",
    "| `print(round(average_grade(\"95.0,105.2,70.5,80.0\"), 2))` | `87.675` |\n",
    "| `print(round(average_grade(\"50.0,20.5,30.2,40.0,60.1\"), 2))` | `40.16` |\n",
    "| `print(round(average_grade(\"100.0,100.0,100.0,100.0\"), 2))` | `100.0` |\n",
    "| `print(round(average_grade(\"80.0\"), 2))` | `80.0` |\n"
   ]
  },
  {
   "cell_type": "code",
   "execution_count": null,
   "metadata": {},
   "outputs": [
    {
     "name": "stdout",
     "output_type": "stream",
     "text": [
      "87.75\n",
      "87.67\n",
      "40.16\n",
      "100.0\n",
      "80.0\n"
     ]
    }
   ],
   "source": [
    "def average_grade(grades: str) -> float:\n",
    "    pass\n",
    "\n",
    "print(round(average_grade(\"90.5,85.3,100,75.2\"), 2))\n",
    "print(round(average_grade(\"95.0,105.2,70.5,80.0\"), 2))\n",
    "print(round(average_grade(\"50.0,20.5,30.2,40.0,60.1\"), 2))\n",
    "print(round(average_grade(\"100.0,100.0,100.0,100.0\"), 2))\n",
    "print(round(average_grade(\"80.0\"), 2))"
   ]
  },
  {
   "cell_type": "markdown",
   "metadata": {},
   "source": [
    "# CAT3"
   ]
  },
  {
   "cell_type": "markdown",
   "metadata": {},
   "source": [
    "## **CAT3**\n",
    "Create the following function:\n",
    "\n",
    "```python\n",
    "# returns a list of numbers from a to b that are divisible by x\n",
    "def divisible_numbers(a: int, b: int, x: int) -> list:\n",
    "```\n",
    "Description:\n",
    "The function should return a list of numbers from **a** to **b** (inclusive) that are divisible by **x**.\n",
    "\n",
    "Equation Variables:\n",
    "\n",
    "| Equation Variable | Value |\n",
    "| :-- | :-- |\n",
    "| **a** | The starting number (inclusive). |\n",
    "| **b** | The ending number (inclusive). |\n",
    "| **x** | The divisor to check for divisibility. |\n",
    "| **return** | A list of numbers divisible by `x` within the range from `a` to `b`. |\n",
    "\n",
    "<br>\n",
    "\n",
    "| Example Call | Result |\n",
    "| :-- | :-- |\n",
    "| `print(divisible_numbers(1, 10, 2))` | `[2, 4, 6, 8, 10]` |\n",
    "| `print(divisible_numbers(1, 20, 5))` | `[5, 10, 15, 20]` |\n",
    "| `print(divisible_numbers(10, 50, 7))` | `[14, 21, 28, 35, 42, 49]` |"
   ]
  },
  {
   "cell_type": "code",
   "execution_count": null,
   "metadata": {},
   "outputs": [
    {
     "name": "stdout",
     "output_type": "stream",
     "text": [
      "[2, 4, 6, 8, 10]\n",
      "[5, 10, 15, 20]\n",
      "[14, 21, 28, 35, 42, 49]\n"
     ]
    }
   ],
   "source": [
    "def divisible_numbers(a: int, b: int, x: int) -> list:\n",
    "    pass\n",
    "\n",
    "print(divisible_numbers(1, 10, 2))\n",
    "print(divisible_numbers(1, 20, 5))\n",
    "print(divisible_numbers(10, 50, 7))"
   ]
  },
  {
   "cell_type": "markdown",
   "metadata": {},
   "source": [
    "## **CAT3**\n",
    "Create the following function:\n",
    "\n",
    "```python\n",
    "# returns a tuple containing numbers from a given start to end (inclusive)\n",
    "def create_range_tuple(start: int, end: int) -> tuple:\n",
    "```\n",
    "\n",
    "The function takes two integers, `start` and `end`, and returns a tuple containing all integers from `start` to `end` (inclusive).\n",
    "\n",
    "| Example Call | Result |\n",
    "| :-- | :-- |\n",
    "| `print(create_range_tuple(3, 7))` | `(3, 4, 5, 6, 7)` |\n",
    "| `print(create_range_tuple(1, 5))` | `(1, 2, 3, 4, 5)` |\n",
    "| `print(create_range_tuple(8, 10))` | `(8, 9, 10)` |"
   ]
  },
  {
   "cell_type": "code",
   "execution_count": null,
   "metadata": {},
   "outputs": [
    {
     "name": "stdout",
     "output_type": "stream",
     "text": [
      "(3, 4, 5, 6, 7)\n",
      "(1, 2, 3, 4, 5)\n",
      "(8, 9, 10)\n"
     ]
    }
   ],
   "source": [
    "def create_range_tuple(start: int, end: int) -> tuple:\n",
    "    pass\n",
    "    \n",
    "print(create_range_tuple(3, 7))\n",
    "print(create_range_tuple(1, 5))\n",
    "print(create_range_tuple(8, 10))"
   ]
  },
  {
   "cell_type": "markdown",
   "metadata": {},
   "source": [
    "# CAT 4"
   ]
  },
  {
   "cell_type": "markdown",
   "metadata": {},
   "source": [
    "## **CAT4**\n",
    "Create the following function:\n",
    "\n",
    "```python\n",
    "# returns the corresponding fruit name for a given number representing a fruit code\n",
    "def fruit_code(number: int) -> str:\n",
    "```\n",
    "\n",
    "The function takes an integer `number` representing a fruit code, and returns the corresponding fruit name based on the fruit code table shown below. It is assumed that the number provided will always be a valid fruit code from the table.\n",
    "\n",
    "| Fruit Code | Fruit Name |\n",
    "| :-- | :-- |\n",
    "| 7 | Apple |\n",
    "| 12 | Banana |\n",
    "| 3 | Cherry |\n",
    "| 18 | Date |\n",
    "| 5 | Elderberry |\n",
    "\n",
    "<br>\n",
    "\n",
    "| Example Call | Result |\n",
    "| :-- | :-- |\n",
    "| `print(fruit_code(7))` | `\"Apple\"` |\n",
    "| `print(fruit_code(12))` | `\"Banana\"` |\n",
    "| `print(fruit_code(18))` | `\"Date\"` |"
   ]
  },
  {
   "cell_type": "code",
   "execution_count": null,
   "metadata": {},
   "outputs": [
    {
     "name": "stdout",
     "output_type": "stream",
     "text": [
      "Apple\n",
      "Banana\n",
      "Date\n"
     ]
    }
   ],
   "source": [
    "def fruit_code(number: int) -> str:\n",
    "    pass\n",
    "\n",
    "print(fruit_code(7))\n",
    "print(fruit_code(12))\n",
    "print(fruit_code(18))"
   ]
  },
  {
   "cell_type": "markdown",
   "metadata": {},
   "source": [
    "## **CAT4**\n",
    "Create the following function:\n",
    "\n",
    "```python\n",
    "# returns the corresponding day of the week for a given number\n",
    "def day_of_week(number: int) -> str:\n",
    "```\n",
    "\n",
    "The function takes an integer `number` representing a day of the week code, and returns the corresponding day name based on the table shown below. It is assumed that the number provided will always be a valid code from the table.\n",
    "\n",
    "| Day Code | Day Name |\n",
    "| :-- | :-- |\n",
    "| 1 | Monday |\n",
    "| 2 | Tuesday |\n",
    "| 3 | Wednesday |\n",
    "| 4 | Thursday |\n",
    "| 5 | Friday |\n",
    "\n",
    "<br>\n",
    "\n",
    "| Example Call | Result |\n",
    "| :-- | :-- |\n",
    "| `day_of_week(2)` | `\"Tuesday\"` |\n",
    "| `day_of_week(3)` | `\"Wednesday\"` |\n",
    "| `day_of_week(5)` | `\"Friday\"` |"
   ]
  },
  {
   "cell_type": "code",
   "execution_count": null,
   "metadata": {},
   "outputs": [
    {
     "name": "stdout",
     "output_type": "stream",
     "text": [
      "Tuesday\n",
      "Wednesday\n",
      "Friday\n"
     ]
    }
   ],
   "source": [
    "def day_of_week(number: int) -> str:\n",
    "    pass\n",
    "\n",
    "print(day_of_week(2))\n",
    "print(day_of_week(3))\n",
    "print(day_of_week(5))"
   ]
  },
  {
   "cell_type": "markdown",
   "metadata": {},
   "source": [
    "## **CAT4**\n",
    "Create the following function:\n",
    "\n",
    "```python\n",
    "# returns the corresponding number for the given month\n",
    "def get_month_number(month_name: str) -> int:\n",
    "```\n",
    "\n",
    "The function takes a string `month_name` representing the name of a month (e.g., \"January\", \"February\", etc.) and returns the corresponding month number (1 for January, 2 for February, etc.). The string will always be a valid month name with proper case formatting. **ONLY** account for the **first four months**.\n",
    "\n",
    "| Month Name | Month Number |\n",
    "| :-- | :-- |\n",
    "| January | 1 |\n",
    "| February | 2 |\n",
    "| March | 3 |\n",
    "| April | 4 |\n",
    "\n",
    "<br>\n",
    "\n",
    "| Example Call | Result |\n",
    "| :-- | :-- |\n",
    "| `print(get_month_number(\"January\"))`  | `1` |\n",
    "| `print(get_month_number(\"February\"))`  | `2` |\n",
    "| `print(get_month_number(\"March\"))`  | `3` |\n",
    "| `print(get_month_number(\"April\"))`  | `4` |"
   ]
  },
  {
   "cell_type": "code",
   "execution_count": null,
   "metadata": {},
   "outputs": [
    {
     "name": "stdout",
     "output_type": "stream",
     "text": [
      "1\n",
      "2\n",
      "3\n",
      "4\n"
     ]
    }
   ],
   "source": [
    "def get_month_number(month_name: str) -> int:\n",
    "    pass\n",
    "\n",
    "print(get_month_number(\"January\"))\n",
    "print(get_month_number(\"February\"))\n",
    "print(get_month_number(\"March\"))\n",
    "print(get_month_number(\"April\"))"
   ]
  }
 ],
 "metadata": {
  "kernelspec": {
   "display_name": "Python 3",
   "language": "python",
   "name": "python3"
  },
  "language_info": {
   "codemirror_mode": {
    "name": "ipython",
    "version": 3
   },
   "file_extension": ".py",
   "mimetype": "text/x-python",
   "name": "python",
   "nbconvert_exporter": "python",
   "pygments_lexer": "ipython3",
   "version": "3.8.10"
  }
 },
 "nbformat": 4,
 "nbformat_minor": 2
}
