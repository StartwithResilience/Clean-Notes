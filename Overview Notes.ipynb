{
 "cells": [
  {
   "cell_type": "markdown",
   "metadata": {},
   "source": [
    "___\n",
    "___\n",
    "___\n",
    "# <span style=\"font-size: 50px; color:rgb(250, 250, 250); font-weight: bold;\">Python Fundementals</span>"
   ]
  },
  {
   "cell_type": "markdown",
   "metadata": {},
   "source": [
    "___\n",
    "___\n",
    "## <span style=\"font-size: 40px; color:rgb(200, 200, 200); font-weight: bold\">Introduction</span>"
   ]
  },
  {
   "cell_type": "markdown",
   "metadata": {},
   "source": [
    "### <span style=\"font-size: 30px; color:rgb(150, 150, 150); font-weight: bold\">Video</span>"
   ]
  },
  {
   "cell_type": "markdown",
   "metadata": {},
   "source": [
    "<video width=\"auto\" height=\"auto\" controls>\n",
    "     <source src=\"PythonIntroVideo.mp4\" type=\"video/mp4\">\n",
    "</video>"
   ]
  },
  {
   "cell_type": "markdown",
   "metadata": {},
   "source": [
    "___\n",
    "### <span style=\"font-size: 30px; color:rgb(150, 150, 150); font-weight: bold\">Objectives</span>"
   ]
  },
  {
   "cell_type": "markdown",
   "metadata": {},
   "source": [
    "<span style=\"font-size: 15px; color:rgb(250, 250, 250)\"><ul>\n",
    "<li>Understand programming’s role as sequential instructions</li>\n",
    "<li>Explore types of programming languages</li>\n",
    "<li>Compare syntax of English and Python</li>\n",
    "<li>Learn the different approaches to following instructions, interactive vs. batch</li>\n",
    "<li>Understand the difference between interpreted and compiled programming languages</li>\n",
    "<li>Understand the difference between code and data</li>\n",
    "<li>Understand the differences between python/python2/python3</li>\n",
    "<li>Running Python programs from the command line</li>\n",
    "<li>Use the Python REPL: Read-Evaluate-Print-Loop</li>\n",
    "<li>Understand literals</li>\n",
    "<li>Find and access Python documentation</li>\n",
    "<li>Access <code>help()</code></li>\n",
    "<li>Describe Python keywords and objects with <code>dir()</code></li>\n",
    "<li>Exit the Python shell</li>\n",
    "<li>Use comments</li>\n",
    "<li>Use preferred style for Python programs</li>\n",
    "</ul></span>"
   ]
  },
  {
   "cell_type": "markdown",
   "metadata": {},
   "source": [
    "___\n",
    "### <span style=\"font-size: 30px; color:rgb(150, 150, 150); font-weight: bold\">TLO Knowledge and Skills</span>"
   ]
  },
  {
   "cell_type": "markdown",
   "metadata": {},
   "source": [
    "#### <hr style=\"border-style:dashed\"><span style=\"font-size: 25px; color:rgb(100, 100, 100); font-weight: bold\">Condition</span>"
   ]
  },
  {
   "cell_type": "markdown",
   "metadata": {},
   "source": [
    "<span style=\"font-size: 15px; color:rgb(250, 250, 250)\">Given a classroom, applicable references, and a practical exercise, the Cyber Mission Force student will demonstrate an understanding of python fundamentals.</span>"
   ]
  },
  {
   "cell_type": "markdown",
   "metadata": {},
   "source": [
    "#### <hr style=\"border-style:dashed\"><span style=\"font-size: 25px; color:rgb(100, 100, 100); font-weight: bold\">Knowledge</span>"
   ]
  },
  {
   "cell_type": "markdown",
   "metadata": {},
   "source": [
    "<span style=\"font-size: 15px; color:rgb(250, 250, 250)\"><ul>\n",
    "<li>Python Overview</li>\n",
    "<li>Basic Python Syntax</li>\n",
    "<li>Common Python Grammar</li>\n",
    "<li>Differences between Interactive Read-Eval-Print Loop (REPL)</li>\n",
    "<li>Shell vs. Batch</li>\n",
    "<li>Execution of Python code from the Command Line</li>\n",
    "<li>Execution of Python code in an Interactive Read-Eval-Print Loop (REPL) Shell</li>\n",
    "</ul></span>"
   ]
  },
  {
   "cell_type": "markdown",
   "metadata": {},
   "source": [
    "#### <hr style=\"border-style:dashed\"><span style=\"font-size: 25px; color:rgb(100, 100, 100); font-weight: bold\">Skills</span>"
   ]
  },
  {
   "cell_type": "markdown",
   "metadata": {},
   "source": [
    "<span style=\"font-size: 15px; color:rgb(250, 250, 250)\"><ul>\n",
    "<li>Identify Python Documentation.</li>\n",
    "<li>Utilize Python Help functions.</li>\n",
    "<li>Understand Basic Python Syntax.</li>\n",
    "<li>Utilize Python from Command Line.</li>\n",
    "<li>Utilize Python from Interactive Read-Eval-Print Loop (REPL) Shell.</li>\n",
    "</ul></span>"
   ]
  },
  {
   "cell_type": "markdown",
   "metadata": {},
   "source": [
    "___\n",
    "### <span style=\"font-size: 30px; color:rgb(150, 150, 150); font-weight: bold\">Assessments</span>"
   ]
  },
  {
   "cell_type": "markdown",
   "metadata": {},
   "source": [
    "<span style=\"font-size: 15px; color:rgb(250, 250, 250)\"><ul>\n",
    "<li>Check on Learnings</li>\n",
    "<li>Group PE's</li>\n",
    "<li>PE's</li>\n",
    "</ul></span>"
   ]
  },
  {
   "cell_type": "markdown",
   "metadata": {},
   "source": [
    "___\n",
    "### <span style=\"font-size: 30px; color:rgb(150, 150, 150); font-weight: bold\">Classroom Rules</span>"
   ]
  },
  {
   "cell_type": "markdown",
   "metadata": {},
   "source": [
    "<span style=\"font-size: 15px; color:rgb(250, 250, 250)\"><ul>\n",
    "<li>No AI assistance</li>\n",
    "<li>Take notes</li>\n",
    "<li>Participate</li>\n",
    "<li>No games, social media, or email (other than uploading/downloading personal notes)</li>\n",
    "<li>No conduting searches/business other than coding</li>\n",
    "<li>Aiding peers is encouraged, <b>this does not mean providing answers</b></li>\n",
    "<li>Release criteria: everyone achieves a minimum of 70% completion of all PEs</li>\n",
    "<li>Additional criteria: fullfill all building cleaning duties</li>\n",
    "<li><b>Class leader</b> is in charge of accountability and time keeping (break schedule)</li>\n",
    "</ul></span>"
   ]
  },
  {
   "cell_type": "markdown",
   "metadata": {},
   "source": [
    "___\n",
    "### <span style=\"font-size: 30px; color:rgb(150, 150, 150); font-weight: bold\">Risk Mitigation</span>"
   ]
  },
  {
   "cell_type": "markdown",
   "metadata": {},
   "source": [
    "<span style=\"font-size: 15px; color:rgb(250, 250, 250)\"><ul>\n",
    "<li>NSTR for environmental concerns (rereduce, reuse, recylce)</li>\n",
    "<li>This is a computer room, be mindful of wires, and ensure all beverages have lids</li>\n",
    "<li>In the event of a fire<ul>\n",
    "<li>Proceed to nearest safe fire exit</li>\n",
    "<li>Meet by the picnic tables in north parking lot</li>\n",
    "</ul</li>\n",
    "</ul></span>"
   ]
  },
  {
   "cell_type": "markdown",
   "metadata": {},
   "source": [
    "___\n",
    "### <span style=\"font-size: 30px; color:rgb(150, 150, 150); font-weight: bold\">Relevancy Past and Present</span>"
   ]
  },
  {
   "cell_type": "markdown",
   "metadata": {},
   "source": [
    "___\n",
    "___\n",
    "## <span style=\"font-size: 40px; color:rgb(200, 200, 200); font-weight: bold\">What is Python</span>"
   ]
  },
  {
   "cell_type": "markdown",
   "metadata": {},
   "source": [
    "___\n",
    "### <span style=\"font-size: 30px; color:rgb(150, 150, 150); font-weight: bold\">What is Python</span>"
   ]
  },
  {
   "cell_type": "markdown",
   "metadata": {},
   "source": [
    "<span style=\"font-size: 15px; color:rgb(250, 250, 250)\">\n",
    "Python is a <b>high-level</b>, <b>interpreted</b> programming language known for simplicity and readability.<br>\n",
    "<ul>\n",
    "  <li>Define high-level.</li>\n",
    "  <li>Define interpreted.</li>\n",
    "</ul>\n",
    "</span>"
   ]
  },
  {
   "cell_type": "markdown",
   "metadata": {},
   "source": [
    "___\n",
    "### <span style=\"font-size: 30px; color:rgb(150, 150, 150); font-weight: bold\">Benefits to Python</span>"
   ]
  },
  {
   "cell_type": "markdown",
   "metadata": {},
   "source": [
    "<span style=\"font-size: 15px; color:rgb(250, 250, 250)\">\n",
    "\n",
    "- **Powerful**: Python has a \"batteries included\" philosophy with thousands of 3rd party libraries as well\n",
    "\n",
    "- **Fast**: Coding is fast, execution performance is reasonable for many application\n",
    "\n",
    "- **Plays** well with others: C code can be called from Python and modules for Python can be written in C\n",
    "\n",
    "- **Runs everywhere**: Windows, Linux/UNIX, macOS, Other\n",
    "\n",
    "- **Simple and Easy to learn**: Managed, interpreted, simple syntax\n",
    "\n",
    "- **Open Source**: For personal and commercial use\n",
    "</span>"
   ]
  },
  {
   "cell_type": "markdown",
   "metadata": {},
   "source": [
    "___\n",
    "___\n",
    "## <span style=\"font-size: 40px; color:rgb(200, 200, 200); font-weight: bold\">Basic Syntax and Semantics</span>"
   ]
  },
  {
   "cell_type": "markdown",
   "metadata": {},
   "source": [
    "___\n",
    "### <span style=\"font-size: 30px; color:rgb(150, 150, 150); font-weight: bold\">Syntax</span>"
   ]
  },
  {
   "cell_type": "markdown",
   "metadata": {},
   "source": [
    "<span style=\"font-size: 15px; color:rgb(250, 250, 250)\">\n",
    "\n",
    "Python's <i>**syntax**</i> refers to the set of rules and structures that dictate how code is written in the language. It includes conventions for defining <u>**variables**</u>, writing <u>**statements**</u>, and organizing <u>**blocks of code**</u>. Python uses a combination of English keywords, punctuation symbols, and whitespace to construct valid <u>**expressions**</u> and statements.\n",
    "</span>"
   ]
  },
  {
   "cell_type": "markdown",
   "metadata": {},
   "source": [
    "####  <hr style=\"border-style:dashed\"><span style=\"font-size: 25px; color:rgb(100, 100, 100); font-weight: bold; display:block\">Keywords:<span>"
   ]
  },
  {
   "cell_type": "markdown",
   "metadata": {},
   "source": [
    "#####  <hr style=\"border-style:dotted\"><span style=\"font-size: 20px; color:rgb(80, 80, 80); font-weight: bold; display:block\">List of Keywords:<span>\n",
    "<span style=\"font-size: 15px; color:rgb(250, 250, 250)\">\n",
    "\n",
    "The list can also be found using <code>help('keywords')</code>.\n",
    "</span>"
   ]
  },
  {
   "cell_type": "markdown",
   "metadata": {},
   "source": [
    "<style>\n",
    "  .title {\n",
    "    background-color:black;\n",
    "    font-size:25px;\n",
    "    font-weight:bold;\n",
    "    text-align:center;\n",
    "  }\n",
    "</style>\n",
    "<span style=\"font-size: 15px; color:rgb(250, 250, 250);display:block\">\n",
    "  <table width=100%>\n",
    "    <theader><th class=\"title\" colspan=4>List of Python Keywords</th></thead>\n",
    "    <tr>\n",
    "      <td width=25%>False</td>\n",
    "      <td width=25%>class</td>\n",
    "      <td width=25%>from</td>\n",
    "      <td width=25%>or</td>\n",
    "    </tr>\n",
    "    <tr>\n",
    "      <td>None</td>\n",
    "      <td>continue</td>\n",
    "      <td>global</td>\n",
    "      <td>pass</td>\n",
    "    </tr>\n",
    "    <tr>\n",
    "      <td>True</td>\n",
    "      <td>def</td>\n",
    "      <td>if</td>\n",
    "      <td>raise</td>\n",
    "    </tr>\n",
    "    <tr>\n",
    "      <td>and</td>\n",
    "      <td>del</td>\n",
    "      <td>import</td>\n",
    "      <td>return</td>\n",
    "    </tr>\n",
    "    <tr>\n",
    "      <td>as</td>\n",
    "      <td>elif</td>\n",
    "      <td>in</td>\n",
    "      <td>try</td>\n",
    "    </tr>\n",
    "    <tr>\n",
    "      <td>assert</td>\n",
    "      <td>else</td>\n",
    "      <td>is</td>\n",
    "      <td>while</td>\n",
    "    </tr>\n",
    "    <tr>\n",
    "      <td>async</td>\n",
    "      <td>except</td>\n",
    "      <td>lambda</td>\n",
    "      <td>with</td>\n",
    "    </tr>\n",
    "    <tr>\n",
    "      <td>await</td>\n",
    "      <td>finally</td>\n",
    "      <td>nonlocal</td>\n",
    "      <td>yield</td>\n",
    "    </tr>\n",
    "    <tr>\n",
    "      <td>break</td>\n",
    "      <td>for</td>\n",
    "      <td>not</td>\n",
    "      <td></td>\n",
    "    </tr>\n",
    "  </table>\n",
    "</span>"
   ]
  },
  {
   "cell_type": "markdown",
   "metadata": {},
   "source": [
    "##### <hr style=\"border-style:dotted\"><span style=\"font-size: 20px; color:rgb(80, 80, 80); font-weight: bold; display:block\">Logic Operations:<span>"
   ]
  },
  {
   "cell_type": "markdown",
   "metadata": {},
   "source": [
    "<style>\n",
    "  .title {\n",
    "    background-color:black;\n",
    "    font-size:25px;\n",
    "    font-weight:bold;\n",
    "    text-align:center;\n",
    "  }\n",
    "  .header {\n",
    "    background-color:rgb(30,30,30);\n",
    "    font-size:20px;\n",
    "    font-weight:bold;\n",
    "  }\n",
    "  .subsection {\n",
    "    background-color:rgb(60,60,60);\n",
    "    font-size:15px;\n",
    "    font-weight:bold;\n",
    "    text-align:center;\n",
    "  }\n",
    "</style>\n",
    "<span style=\"font-size: 15px; color:rgb(250, 250, 250);display:block\">\n",
    "  <table width=100%>\n",
    "    <thead>\n",
    "      <th class=\"title\" colspan=3>Logic Operations</th>\n",
    "    </thead>\n",
    "    <tr class=\"header\">\n",
    "      <td width=16%>Keyword</td>\n",
    "      <td width=42%>Use Case</td>\n",
    "      <td width=42%>Example</td>\n",
    "    </tr>\n",
    "    <tr class=\"row\">\n",
    "      <td><code>in</code></td>\n",
    "      <td>Comparison operation:<br>Tests if a value is in a collection (list, tuple, string...)<br>\n",
    "      Resolves to <code>True</code> or <code>False</code>\n",
    "      </td>\n",
    "      <td>\n",
    "\n",
    "```python\n",
    "12 in [ 1, 32, 12, 4 ] #True\n",
    "```\n",
    "<t>\n",
    "      </td>\n",
    "    </tr>\n",
    "    <tr class=\"row\">\n",
    "      <td><code>is</code></td>\n",
    "      <td>Comparison operation:<br>Tests if two values are\n",
    "      the same value at the same memory address.<br>\n",
    "      Resolves to <code>True</code> or <code>False</code></td>\n",
    "      <td>\n",
    "\n",
    "```python\n",
    "numGT256 = 512\n",
    "cloneNum = numGT256\n",
    "numGT256 is 512 #False\n",
    "numGT256 is cloneNum #True\n",
    "```\n",
    "<t>\n",
    "      </td>\n",
    "    </tr>\n",
    "    <tr class=\"row\">\n",
    "      <td><code>and</code></td>\n",
    "      <td>Logical Operator:<br>Compares two expressions\n",
    "      by implicity converting them to booleans.<br>\n",
    "      If both are <code>True</code><br>Resolves to <code>True</code>\n",
    "       else <code>False</code></td>\n",
    "      <td>\n",
    "\n",
    "```python\n",
    "1 and 'a' #True\n",
    "0 and True #False\n",
    "```\n",
    "<t>\n",
    "      </td>\n",
    "    </tr>\n",
    "    <tr class=\"row\">\n",
    "      <td><code>or</code></td>\n",
    "      <td>Logical Operator:<br>Compares two expressions\n",
    "      by implicity converting them to booleans.<br>\n",
    "      If either are <code>True</code><br>Resolves to <code>True</code>\n",
    "       else <code>False</code></td>\n",
    "      <td>\n",
    "\n",
    "```python\n",
    "1 or 'a' #True\n",
    "0 or True #True\n",
    "False or False #False\n",
    "```\n",
    "<t>\n",
    "      </td>\n",
    "    </tr>\n",
    "    <tr class=\"row\">\n",
    "      <td><code>Not</code></td>\n",
    "      <td>Logical Operator:<br>Inverts the next value.\n",
    "      It implicitly converts the value to a boolean<br>\n",
    "      Resolves to <code>True</code> or <code>False</code></td>\n",
    "      <td>\n",
    "\n",
    "```python\n",
    "not 'a' #False\n",
    "not False #True\n",
    "``` \n",
    "<t>\n",
    "    </tr>\n",
    "  </table>\n",
    "</span>"
   ]
  },
  {
   "cell_type": "markdown",
   "metadata": {},
   "source": [
    "#####  <hr style=\"border-style:dotted\"><span style=\"font-size: 20px; color:rgb(80, 80, 80); font-weight: bold; display:block\">Flow Control:<span>"
   ]
  },
  {
   "cell_type": "markdown",
   "metadata": {},
   "source": [
    "<style>\n",
    "  .title {\n",
    "    background-color:black;\n",
    "    font-size:25px;\n",
    "    font-weight:bold;\n",
    "    text-align:center;\n",
    "  }\n",
    "  .header {\n",
    "    background-color:rgb(30,30,30);\n",
    "    font-size:20px;\n",
    "    font-weight:bold;\n",
    "  }\n",
    "  .subsection {\n",
    "    background-color:rgb(60,60,60);\n",
    "    font-size:15px;\n",
    "    font-weight:bold;\n",
    "    text-align:center;\n",
    "  }\n",
    "</style>\n",
    "<span style=\"font-size: 15px; color:rgb(250, 250, 250);display:block\">\n",
    "  <table>\n",
    "    <thead>\n",
    "      <th class=\"title\" colspan=3>Flow Control</th>\n",
    "    </thead>\n",
    "    <tr class=\"header\" width=100%>\n",
    "      <td width=16%>Keyword</td>\n",
    "      <td width=42%>Use Case</td>\n",
    "      <td width=42%>Example</td>\n",
    "    </tr>\n",
    "    <tr class=\"row\" width=100%>\n",
    "      <td><code>pass</code></td>\n",
    "      <td>Null statment: Used as a placeholder for incomplete code blocks. Python ignores this.\n",
    "      </td>\n",
    "      <td>\n",
    "\n",
    "```python\n",
    "if x > 23:\n",
    "    pass #code blocks require, at least one statement\n",
    "```\n",
    "<t>\n",
    "      </td>\n",
    "    </tr>\n",
    "    <tr class=\"row\" width=100%>\n",
    "      <td><code>if</code></td>\n",
    "      <td>Begins a conditional statement.</td>\n",
    "      <td>\n",
    "\n",
    "```python\n",
    "if True:pass #this executes\n",
    "if True:pass #this also executes\n",
    "```\n",
    "<t>\n",
    "      </td>\n",
    "    </tr>\n",
    "    <tr class=\"row\" width=100%>\n",
    "      <td><code>elif</code></td>\n",
    "      <td>Continues a conditional statement after <code>if</code>. Executes if conditional statements above it are false.</td>\n",
    "      <td>\n",
    "\n",
    "```python\n",
    "if False:pass #skipped\n",
    "elif False:pass #skipped\n",
    "elif True:pass #this executes\n",
    "```\n",
    "<t>\n",
    "      </td>\n",
    "    </tr>\n",
    "    <tr class=\"row\" width=100%>\n",
    "      <td><code>else</code></td>\n",
    "      <td>Last conditional statement that follows other conditional statements</td>\n",
    "      <td>\n",
    "\n",
    "```python\n",
    "if False:pass #skipped\n",
    "elif False:pass #skipped\n",
    "elif True:pass #skipped\n",
    "else:pass #this executes\n",
    "```\n",
    "<t>\n",
    "      </td>\n",
    "    </tr>\n",
    "    <tr class=\"row\">\n",
    "      <td><code>continue</code></td>\n",
    "      <td>Stops evaluating code in current iterations of a loop\n",
    "      and begins the next iteration\n",
    "      <td>\n",
    "\n",
    "```python\n",
    "while x < 10:\n",
    "    x += 1\n",
    "    continue #stops evaluating and starts next cycle\n",
    "    print(x) #this gets skipped\n",
    "``` \n",
    "<t>\n",
    "    </tr>\n",
    "    <tr class=\"row\">\n",
    "      <td><code>break</code></td>\n",
    "      <td>Stops evaluating code in current iterations of a loop\n",
    "      and begins the next iteration\n",
    "      <td>\n",
    "\n",
    "```python\n",
    "while x < 1:\n",
    "    break #this exits the loop immediatley\n",
    "    x += 1 #this gets skipped\n",
    "``` \n",
    "<t>\n",
    "    </tr>\n",
    "    <tr class=\"row\">\n",
    "      <td><code>return</code></td>\n",
    "      <td>Stops evaluating code in current iterations of a loop\n",
    "      and begins the next iteration\n",
    "      <td>\n",
    "\n",
    "```python\n",
    "def foo():\n",
    "    return 7 #exits the function and returns 7\n",
    "    print('hello') #unreachable code\n",
    "def func(x):\n",
    "    while True:\n",
    "        return 7 #loop runs a partial cycle, returns 7 immediately. It exits the loop and the function\n",
    "        x +=1 #unreachable code\n",
    "    print('hello') #unreachable code\n",
    "``` \n",
    "<t>\n",
    "    </tr>\n",
    "    <tr class=\"row\">\n",
    "      <td><code>for</code></td>\n",
    "      <td>Begins a for loop.</td>\n",
    "      <td>\n",
    "\n",
    "```python\n",
    "for x in [1, 2, 3]:\n",
    "    pass\n",
    "``` \n",
    "<t>\n",
    "    </tr>\n",
    "    <tr class=\"row\">\n",
    "      <td><code>while</code></td>\n",
    "      <td>Begins a while loop.</td>\n",
    "      <td>\n",
    "\n",
    "```python\n",
    "while True:\n",
    "    pass\n",
    "``` \n",
    "<t>\n",
    "    </tr>\n",
    "  </table>\n",
    "</span>"
   ]
  },
  {
   "cell_type": "code",
   "execution_count": null,
   "metadata": {},
   "outputs": [],
   "source": []
  },
  {
   "cell_type": "markdown",
   "metadata": {},
   "source": [
    "#### <hr style=\"border-style:dashed\"><span style=\"font-size: 25px; color:rgb(100, 100, 100); font-weight: bold; display:block\">Variable:<span>\n",
    "<span style=\"font-size: 15px; color:rgb(250, 250, 250);display:block\">\n",
    "\n",
    "Uniquely named memory allocation for python objects. The name may consist of alphanumeric characters and underscores [ a-z, A-Z, 0-9, _ ]. The first character must either be alphabetical or an underscore.\n",
    "- Data Type\n",
    "- Value\n",
    "</span>"
   ]
  },
  {
   "cell_type": "code",
   "execution_count": null,
   "metadata": {},
   "outputs": [
    {
     "ename": "SyntaxError",
     "evalue": "invalid syntax (3499688722.py, line 12)",
     "output_type": "error",
     "traceback": [
      "\u001b[0;36m  Cell \u001b[0;32mIn[6], line 12\u001b[0;36m\u001b[0m\n\u001b[0;31m    5this_is_an_error = 12\u001b[0m\n\u001b[0m     ^\u001b[0m\n\u001b[0;31mSyntaxError\u001b[0m\u001b[0;31m:\u001b[0m invalid syntax\n"
     ]
    }
   ],
   "source": [
    "# create three valid varialbes\n",
    "\n",
    "#variable begins with lowercase letter\n",
    "this_Is_A_Variable = 23 # Snakecase\n",
    "\n",
    "#variable begins with UPPERCASE letter\n",
    "ThisIsAlsoAVariable = 'hello' # Camelcase\n",
    "\n",
    "#varaible begins with underscore\n",
    "__thisIsSpecial__ = 6.0 # variables surrounded by double underscores __\n",
    "                    # typically annotate special functions and properties\n",
    "\n"
   ]
  },
  {
   "cell_type": "markdown",
   "metadata": {},
   "source": [
    "___\n",
    "### <span style=\"font-size: 30px; color:rgb(150, 150, 150); font-weight: bold\">Case Sensitivity</span>"
   ]
  },
  {
   "cell_type": "markdown",
   "metadata": {},
   "source": [
    "<span style=\"font-size: 15px; color:rgb(250, 250, 250);display:block\">\n",
    "\n",
    "Case matters. A ≠ a\n",
    "</span>"
   ]
  },
  {
   "cell_type": "code",
   "execution_count": 7,
   "metadata": {},
   "outputs": [
    {
     "name": "stdout",
     "output_type": "stream",
     "text": [
      "True\n",
      "False\n"
     ]
    }
   ],
   "source": [
    "print('banana' == 'banana') # True\n",
    "print(\"Apple\" == 'apple') # False"
   ]
  },
  {
   "cell_type": "markdown",
   "metadata": {},
   "source": [
    "___\n",
    "### <span style=\"font-size: 30px; color:rgb(150, 150, 150); font-weight: bold\">Semantics</span>"
   ]
  },
  {
   "cell_type": "markdown",
   "metadata": {},
   "source": [
    "<span style=\"font-size: 15px; color:rgb(250, 250, 250);display:block\">\n",
    "\n",
    "Python **semantics** defines how the code is executed and the behavior of various constructs. Semantics determines how expressions are evaluated, variables and objects are managed, control flow is handled, and how functions and classes are used. It also includes the rules for variable scope, function calls, object references, and how different data types behave.\n",
    "</span>"
   ]
  },
  {
   "cell_type": "markdown",
   "metadata": {},
   "source": [
    "___\n",
    "### <span style=\"font-size: 30px; color:rgb(150, 150, 150); font-weight: bold\">Errors</span>"
   ]
  },
  {
   "cell_type": "markdown",
   "metadata": {},
   "source": [
    "#### <hr style=\"border-style:dotted\"><span style=\"font-size: 25px; color:rgb(100, 100, 100); font-weight: bold\">Syntax Errors</span>\n"
   ]
  },
  {
   "cell_type": "code",
   "execution_count": null,
   "metadata": {},
   "outputs": [],
   "source": [
    "in = 2 # in is a reserved Keyword and cannot assign to it"
   ]
  },
  {
   "cell_type": "code",
   "execution_count": null,
   "metadata": {},
   "outputs": [],
   "source": [
    "thisString = 'hello # closing quote is missing EOF error"
   ]
  },
  {
   "cell_type": "markdown",
   "metadata": {},
   "source": [
    "#### <hr style=\"border-style:dashed\"><span style=\"font-size: 25px; color:rgb(100, 100, 100); font-weight: bold\">Semantic Errors</span>"
   ]
  },
  {
   "cell_type": "code",
   "execution_count": null,
   "metadata": {},
   "outputs": [],
   "source": [
    "'a' + 1 # code will parse, but the interpretor does not have defined\n",
    "# behavior string concatonating an integer"
   ]
  },
  {
   "cell_type": "code",
   "execution_count": null,
   "metadata": {},
   "outputs": [],
   "source": [
    "1 + '1' # code will parse, but the interpretor does not have defined\n",
    "# behavior adding a string to an integer"
   ]
  },
  {
   "cell_type": "markdown",
   "metadata": {},
   "source": [
    "___\n",
    "___\n",
    "## <span style=\"font-size: 40px; color:rgb(200, 200, 200); font-weight: bold\">Python Grammar</span>"
   ]
  },
  {
   "cell_type": "markdown",
   "metadata": {},
   "source": [
    "___\n",
    "### <span style=\"font-size: 30px; color:rgb(150, 150, 150); font-weight: bold\">White Space</span>"
   ]
  },
  {
   "cell_type": "markdown",
   "metadata": {},
   "source": [
    "<span style=\"font-size: 15px; color:rgb(250, 250, 250)\">\n",
    "\n",
    "In Python, **whitespace** refers to spaces, tabs, and newline characters that are used for formatting and structuring the code. White space assist with determining the structure and readability of Python programs. Unlike some other programming languages, Python uses whitespace for indentation and block delineation, which affects how code is executed.\n",
    "\n",
    "- **Indentation**: Used to define blocks of code\n",
    "\n",
    "- **Space in expressions**: Separates elements in a block of and expression\n",
    "\n",
    "- **Blank lines**: used separate block of code for better readability\n",
    "</span>"
   ]
  },
  {
   "cell_type": "markdown",
   "metadata": {},
   "source": [
    "___\n",
    "### <span style=\"font-size: 30px; color:rgb(150, 150, 150); font-weight: bold\">Indentations vs Tabs</span>"
   ]
  },
  {
   "cell_type": "markdown",
   "metadata": {},
   "source": [
    "<span style=\"font-size: 15px; color:rgb(250, 250, 250)\">\n",
    "\n",
    "Python uses **indentation** to define blocks of code. Within each block all lines must be indented the same number and type of whitespaces or an indentation error will occur.\n",
    "\n",
    "- <u>**global**</u>: left most indent. All variables assigned on this indentation are available in every sub block of code.\n",
    "```python\n",
    "x = 1 #this is on the global scope\n",
    "z = 3 #this is also on the global scope\n",
    " y = x #this will cause an indentation error\n",
    "```\n",
    "- <u>**inside loops**</u>: indent after beginning loops to denote code to execute in cylces.\n",
    "```python\n",
    "x = 1 #this is on the global scope\n",
    "while x < 10: #this is also on the global scope\n",
    "    print(x) #this will run each loop cycle\n",
    "    x += 1 #this will run each loop cycle\n",
    "print(x) #this will run after the last loop cycle\n",
    "```\n",
    "- <u>**inside conditionals (if/else)**</u> indent after each conditional statement to execute code under contions.\n",
    "```python\n",
    "if x < 10: #this is also on the global scope\n",
    "    print('less than') #this will run \n",
    "elif x == 10: # this must be on the same indent as the if statement\n",
    "    print('equal') #this will run if the above statement was False and this statement is True\n",
    "else: # this must be on the same indent as the if statement\n",
    "    print('greater than') #this will run if the above statements were False\n",
    "```\n",
    "- <u>**inside function definitions**</u>: indent after the definition statement, this creates a sub-namespace.\n",
    "```python\n",
    "x = 1 #this is on the global scope\n",
    "def foo(): #this is on a global scope\n",
    "    x = 3 #this is in foo's scope\n",
    "    print(x)\n",
    "foo()\n",
    "print(x)\n",
    "```\n",
    "- <u>**inside class definitons**</u>: indent after the definition statement, this creates a sub-namespace.\n",
    "```python\n",
    "x = 1 #this is on the global scope\n",
    "class myClass(): #this is on a global scope\n",
    "    x = 3 #this is in myClass's scope\n",
    "```\n",
    "- <u>**inside contextual wrappers (with statements)**</u> indent after the with statement. Automatically deletes objects created with aliases in the with statement when exiting.\n",
    "```python\n",
    "x = 1 #this is on the global scope\n",
    "with open('file.txt') as fi: #this is on a global scope and opens a fileIO wrapper\n",
    "    fi.read() #this is in myClass's scope\n",
    "fi.seek() #this will error out because the file is now closed\n",
    "```\n",
    "**NOTE**: 2 single whitespaces are preferred over tabs. Tabs should only be used to match existing code documents for consistency.\n",
    "</span>"
   ]
  },
  {
   "cell_type": "markdown",
   "metadata": {},
   "source": [
    "___\n",
    "### <span style=\"font-size: 30px; color:rgb(150, 150, 150); font-weight: bold\">Comments</span>"
   ]
  },
  {
   "cell_type": "markdown",
   "metadata": {},
   "source": [
    "<span style=\"font-size: 15px; color:rgb(250, 250, 250)\">\n",
    "\n",
    "**Comments** are used to explain and label code. They are ignored by the interpreter.\n",
    "\n",
    "- Before writing code, you should comment to help focus your goals and allow others the ability to understand your code logic.\n",
    "\n",
    "- When debugging code, you can comment out lines to prevent them from running.\n",
    "\n",
    "- A single Hashtag (#) begins a comment on a line. Python will ignore everything to the right\n",
    "\n",
    "- Select a line or multiple lines and then press <code>CTRL + /</code> to comment them out.\n",
    "```python\n",
    "# this is a comment\n",
    "```\n",
    "**Note**: In VSCode, comments are green.\n",
    "</span>"
   ]
  },
  {
   "cell_type": "markdown",
   "metadata": {},
   "source": [
    "___\n",
    "### <span style=\"font-size: 30px; color:rgb(150, 150, 150); font-weight: bold\">Statements VS Expressions</span>"
   ]
  },
  {
   "cell_type": "markdown",
   "metadata": {},
   "source": [
    "<span style=\"font-size: 15px; color:rgb(250, 250, 250)\">\n",
    "<table width=100%>\n",
    "  <thead style=\"font-size: 25px;\">\n",
    "    <th colspan=3 style=\"text-align:center;\"><b>Key Differences</b></th>\n",
    "  </thead>\n",
    "  <tr>\n",
    "    <td width=30%><b>FEATURE</b></td>\n",
    "    <td width=35%><b>EXPRESSION</b></td>\n",
    "    <td width=35%><b>STATEMENT</b></td>\n",
    "  </tr>\n",
    "  <tr>\n",
    "    <td>Definiton</td>\n",
    "    <td>A piece of code that evaluates to a single value</td>\n",
    "    <td>A complete instruction that performs an action</td>\n",
    "  </tr>\n",
    "  <tr>\n",
    "    <td>Returns a value</td>\n",
    "    <td>YES</td>\n",
    "    <td>NO</td>\n",
    "  </tr>\n",
    "  <tr>\n",
    "    <td>More than one per line</td>\n",
    "    <td>YES,expressions are commma separated. An expression can even be made of other expressions!</td>\n",
    "    <td>NOT in pythonic code. Expressions are typically terminate by end of the line. However, they can be semicolon separated on the same line.</td>\n",
    "  </tr>\n",
    "  <tr>\n",
    "    <td>Can be assigned to a variable</td>\n",
    "    <td>YES</td>\n",
    "    <td>NO, it works on values but does not produce a value</td>\n",
    "  </tr>\n",
    "  <tr>\n",
    "    <td>Can be used in a function call</td>\n",
    "    <td>YES</td>\n",
    "    <td>NO</td>\n",
    "  </tr>\n",
    "  <tr>\n",
    "    <td>Can be part of an expression</td>\n",
    "    <td>YES</td>\n",
    "    <td>NO, Expression produce values, and statements do not</td>\n",
    "  </tr>\n",
    "  <tr>\n",
    "    <td style='font-size:40px'>Examples</td>\n",
    "    <td>\n",
    "\n",
    "```python\n",
    "2 + 3\n",
    "\n",
    "max(10,20)\n",
    "\n",
    "\"hello\".upper()\n",
    "\n",
    "x < 5\n",
    "```\n",
    "</td>\n",
    "    <td>\n",
    "\n",
    "```python\n",
    "for x in [1, 2, 3]: #for exp in exp_collection:an expression\n",
    "if y < 7: #if exp_conditional:\n",
    "while True: #while conditional:\n",
    "def func(): #def funcName():\n",
    "return #return [*exp]\n",
    "import random #import librayName\n",
    "print() #function call that does not return a value\n",
    "```\n",
    "</td>\n",
    "  </tr>\n",
    "</table>\n",
    "</span>"
   ]
  },
  {
   "cell_type": "markdown",
   "metadata": {},
   "source": [
    "___\n",
    "### <span style=\"font-size: 30px; color:rgb(150, 150, 150); font-weight: bold\">Line / Statement Terminator</span>"
   ]
  },
  {
   "cell_type": "markdown",
   "metadata": {},
   "source": [
    "<span style=\"font-size: 15px; color:rgb(250, 250, 250)\">\n",
    "\n",
    "**Statement Terminators** are marked by the end of lines\n",
    "</span>"
   ]
  },
  {
   "cell_type": "code",
   "execution_count": null,
   "metadata": {},
   "outputs": [],
   "source": [
    "x = 5**2 # statement 1\n",
    "print(x) # statement 2"
   ]
  },
  {
   "cell_type": "markdown",
   "metadata": {},
   "source": [
    "<span style=\"font-size: 15px; color:rgb(250, 250, 250)\">\n",
    "\n",
    "Its possible, but not recommended, to separate multiple statements on a single line with semicolons\n",
    "</span>"
   ]
  },
  {
   "cell_type": "code",
   "execution_count": null,
   "metadata": {},
   "outputs": [],
   "source": [
    "x = 1; y =4; print(y+x*2) # 3 statements are on this line"
   ]
  },
  {
   "cell_type": "markdown",
   "metadata": {},
   "source": [
    "<span style=\"font-size: 15px; color:rgb(250, 250, 250)\">\n",
    "\n",
    "Sometimes a line of code gets long. When this happens, end the line a logical place with a backslash ( \\ ) to continue writing on the next line. The interpretor will read this as a single line.\n",
    "</span>"
   ]
  },
  {
   "cell_type": "markdown",
   "metadata": {},
   "source": [
    "<span style=\"font-size: 15px; color:rgb(250, 250, 250)\">\n",
    "\n",
    "A long line that cannot be read without scrolling\n",
    "</span>"
   ]
  },
  {
   "cell_type": "code",
   "execution_count": null,
   "metadata": {},
   "outputs": [],
   "source": [
    "# A long line\n",
    "x = 'This is going to be a really long line with lots of chained functions'.replace(' ','+').upper().split('+')[::2]"
   ]
  },
  {
   "cell_type": "markdown",
   "metadata": {},
   "source": [
    "<span style=\"font-size: 15px; color:rgb(250, 250, 250)\">\n",
    "\n",
    "More readable\n",
    "</span>"
   ]
  },
  {
   "cell_type": "code",
   "execution_count": null,
   "metadata": {},
   "outputs": [],
   "source": [
    "# Same line with line continuation\n",
    "x = 'this is going to be a really long line\\\n",
    "     with lots of chained functions'\\\n",
    "     .replace(' ','+')\\\n",
    "     .upper()\\\n",
    "     .split('+')[::2]"
   ]
  },
  {
   "cell_type": "markdown",
   "metadata": {},
   "source": [
    "<span style=\"font-size: 15px; color:rgb(250, 250, 250)\">\n",
    "\n",
    "Caution with commenting \"in the middle of a line\". Line continuation literally extends the current line to the next line.\n",
    "</span>"
   ]
  },
  {
   "cell_type": "code",
   "execution_count": null,
   "metadata": {},
   "outputs": [],
   "source": [
    "# When doing line continuation, be careful with comments\n",
    "x = 'hello'\\ #nothing can follow the line continuation, not even comments\n",
    ".upper()"
   ]
  },
  {
   "cell_type": "markdown",
   "metadata": {},
   "source": [
    "___\n",
    "___\n",
    "## <span style=\"font-size: 40px; color:rgb(200, 200, 200); font-weight: bold\">Python Execution</span>"
   ]
  },
  {
   "cell_type": "markdown",
   "metadata": {},
   "source": [
    "___\n",
    "### <span style=\"font-size: 30px; color:rgb(150, 150, 150); font-weight: bold\">Read-Evaluate-Print-Loop(REPL) - Python Interactive Mode</span>"
   ]
  },
  {
   "cell_type": "markdown",
   "metadata": {},
   "source": [
    "___\n",
    "### <span style=\"font-size: 30px; color:rgb(150, 150, 150); font-weight: bold\">Execution: Interactive Mode</span>"
   ]
  },
  {
   "cell_type": "markdown",
   "metadata": {},
   "source": [
    "___\n",
    "### <span style=\"font-size: 30px; color:rgb(150, 150, 150); font-weight: bold\">Batch</span>"
   ]
  },
  {
   "cell_type": "markdown",
   "metadata": {},
   "source": [
    "___\n",
    "### <span style=\"font-size: 30px; color:rgb(150, 150, 150); font-weight: bold\">Execution: Batch</span>"
   ]
  },
  {
   "cell_type": "markdown",
   "metadata": {},
   "source": [
    "___\n",
    "### <span style=\"font-size: 30px; color:rgb(150, 150, 150); font-weight: bold\">Integrated Development Environment</span>"
   ]
  },
  {
   "cell_type": "markdown",
   "metadata": {},
   "source": [
    "___\n",
    "___\n",
    "## <span style=\"font-size: 40px; color:rgb(200, 200, 200); font-weight: bold\">Help in Python</span>"
   ]
  },
  {
   "cell_type": "markdown",
   "metadata": {},
   "source": [
    "___\n",
    "### <span style=\"font-size: 30px; color:rgb(150, 150, 150); font-weight: bold\">Python Documentation</span>"
   ]
  },
  {
   "cell_type": "markdown",
   "metadata": {},
   "source": [
    "<span style=\"font-size: 15px; color:rgb(255, 255, 255);\">\n",
    "There are various ways in which a Python programmer can get help from the Python documentation. A good starting point is one of the \n",
    "\n",
    "following URLs:\n",
    "<br>\n",
    "[Python Docs - Latest Version](https://docs.python.org/3/)\n",
    "<br>\n",
    "[Python Docs - By Version](https://www.python.org/doc/versions/)\n",
    "\n",
    "!!! Note\n",
    "     run ```py python3 --version``` to find the current version of python on your machine\n",
    "</span>"
   ]
  },
  {
   "cell_type": "markdown",
   "metadata": {},
   "source": [
    "___\n",
    "### <span style=\"font-size: 30px; color:rgb(150, 150, 150); font-weight: bold\">Helpful Websites</span>"
   ]
  },
  {
   "cell_type": "markdown",
   "metadata": {},
   "source": [
    "<span style=\"font-size: 15px; color:rgb(255, 255, 255);\">\n",
    "\n",
    "[w3schools](https://www.w3schools.com/python/default.asp)\n",
    "<br><br>\n",
    "[Python Principles](https://pythonprinciples.com/challenges/)<br><br>\n",
    "[vmware client download](tinyurl.com/vmwarehclient)\n",
    "vdi.ccoelearning.net\n",
    "</span>"
   ]
  },
  {
   "cell_type": "markdown",
   "metadata": {},
   "source": [
    "___\n",
    "### <span style=\"font-size: 30px; color:rgb(150, 150, 150); font-weight: bold\">Built-in Help</span>"
   ]
  },
  {
   "cell_type": "markdown",
   "metadata": {},
   "source": [
    "<span style=\"font-size: 15px; color:rgb(255, 255, 255);\">\n",
    "\n",
    "In addition to the online Python documentation, the interactive Python shell can provide additional help. Typing ``help()`` at the Python shell prompt will start the Python help utility. For example:\n",
    "\n",
    "REPL execution:\n",
    "```cmd\n",
    "developer:~/test$ python3\n",
    ">>> help() \n",
    "help> str\n",
    "help> str.isalpha\n",
    "help> int\n",
    "```\n",
    "\n",
    "VSCode execution:\n",
    "<code>CTRL+SHIFT +</code> will open a terminal in VS Code\n",
    "```python\n",
    "help(str)\n",
    "help(str.isalpha)\n",
    "help(int)\n",
    "```\n",
    "</span>"
   ]
  },
  {
   "cell_type": "markdown",
   "metadata": {},
   "source": [
    "___\n",
    "### <span style=\"font-size: 30px; color:rgb(150, 150, 150); font-weight: bold\">Helpful Commands</span>"
   ]
  },
  {
   "cell_type": "markdown",
   "metadata": {},
   "source": [
    "</span><span style=\"font-size: 15px; color:rgb(255, 255, 255);\">\n",
    "When working with the Python REPL, there may be times when a programmer needs more information about an expression, value, or object. The `dir()` function can be helpful in describing what properties a Python object may have.\n",
    "\n",
    "```py\n",
    "dir()\n",
    "dir(4)\n",
    "```\n",
    "</span>"
   ]
  },
  {
   "cell_type": "code",
   "execution_count": null,
   "metadata": {},
   "outputs": [],
   "source": []
  },
  {
   "cell_type": "markdown",
   "metadata": {},
   "source": [
    "___\n",
    "### <span style=\"font-size: 30px; color:rgb(150, 150, 150); font-weight: bold\">Using Intellisense Stategically</span>"
   ]
  },
  {
   "cell_type": "markdown",
   "metadata": {},
   "source": [
    "___\n",
    "___\n",
    "##\n",
    "<span style=\"font-size: 40px; color:rgb(200, 200, 200); font-weight: bold\">Check on Learning</span>"
   ]
  },
  {
   "cell_type": "markdown",
   "metadata": {},
   "source": [
    "___\n",
    "___\n",
    "___\n",
    "# <span style=\"font-size: 50px; color:rgb(250, 250, 250); font-weight: bold;\">Python Data Types</span>"
   ]
  },
  {
   "cell_type": "markdown",
   "metadata": {},
   "source": [
    "___\n",
    "___\n",
    "## <span style=\"font-size: 40px; color:rgb(200, 200, 200); font-weight: bold\">Introduction</span>"
   ]
  },
  {
   "cell_type": "markdown",
   "metadata": {},
   "source": [
    "___\n",
    "### <span style=\"font-size: 30px; color:rgb(150, 150, 150); font-weight: bold\">Objectives</span>"
   ]
  },
  {
   "cell_type": "markdown",
   "metadata": {},
   "source": [
    "<span style=\"font-size: 15px; color:rgb(250, 250, 250)\">\n",
    "\n",
    "- Explore basic data types of the Python language\n",
    " \n",
    "- Use type() to find the data type a variable refers to\n",
    " \n",
    "- Use Boolean data types to represent True or False\n",
    "\n",
    "- Create sequences of characters as Python strings\n",
    "\n",
    "- Recognize character encoding\n",
    " \n",
    "- Understand the None type\n",
    "\n",
    "- Identify Python Keywords\n",
    " \n",
    "- Assign data to variables\n",
    "\n",
    "- Convert data from one type to another\n",
    "</span>"
   ]
  },
  {
   "cell_type": "markdown",
   "metadata": {},
   "source": [
    "___\n",
    "### <span style=\"font-size: 30px; color:rgb(150, 150, 150); font-weight: bold\">TLO Knowledge and Skills</span>"
   ]
  },
  {
   "cell_type": "markdown",
   "metadata": {},
   "source": [
    "<span style=\"font-size: 15px; color:rgb(250, 250, 250)\">\n",
    "\n",
    "Conditions:\n",
    "  - Given a classroom, applicable references, and a practical exercise, the Cyber Mission Force, students will demonstrate an understanding of data types, variables, and operators.\n",
    "</span>"
   ]
  },
  {
   "cell_type": "markdown",
   "metadata": {},
   "source": [
    "#### <hr style=\"border-style:dashed\"><span style=\"font-size: 25px; color:rgb(100, 100, 100); font-weight: bold\">Knowledge</span>"
   ]
  },
  {
   "cell_type": "markdown",
   "metadata": {},
   "source": [
    "<span style=\"font-size: 15px; color:rgb(250, 250, 250)\">\n",
    "\n",
    "- Identify the components that build program structure in Python\n",
    "\n",
    "- Understand Python structure and the components used in scripting\n",
    "</span>"
   ]
  },
  {
   "cell_type": "markdown",
   "metadata": {},
   "source": [
    "#### <hr style=\"border-style:dashed\"><span style=\"font-size: 25px; color:rgb(100, 100, 100); font-weight: bold\">Skills</span>"
   ]
  },
  {
   "cell_type": "markdown",
   "metadata": {},
   "source": [
    "<span style=\"font-size: 15px; color:rgb(250, 250, 250)\">\n",
    "\n",
    " - Working knowledge of how to write and modify scripts in order to perform specific functions\n",
    " \n",
    " - Knowledge of parsing through scripts and files\n",
    "</span>"
   ]
  },
  {
   "cell_type": "markdown",
   "metadata": {},
   "source": [
    "___\n",
    "___\n",
    "## <span style=\"font-size: 40px; color:rgb(200, 200, 200); font-weight: bold\">Print Function Introduction</span>"
   ]
  },
  {
   "cell_type": "markdown",
   "metadata": {},
   "source": [
    "<span style=\"font-size: 15px; color:rgb(250, 250, 250)\">\n",
    "The `print()` function is intuitively named and provides a copy of the items placed inside the parentheses.\n",
    "\n",
    "We will use this function randomly throughout this course to view our data.\n",
    "\n",
    "The `print()` function is a great way to test your code and make sure it is correctly executing the commands and the logic you provide in your future code blocks.\n",
    "\n",
    "Some examples of using `print()`. We will discuss this function in more depth later, just become comfortable with using it for now.\n",
    "\n",
    "Next we will begin discussing what each of the items are that are found inside the following `print()` examples.\n",
    "\n",
    "```python\n",
    "print('hello world')\n",
    "#output:  hello world\n",
    "\n",
    "print(5)\n",
    "#output:  5\n",
    "\n",
    "print( 1 + 2)\n",
    "#output:  3\n",
    "#NOTE: the print function here accounted for the math being performed inside the parenthesis\n",
    "\n",
    "```\n",
    "</span>"
   ]
  },
  {
   "cell_type": "markdown",
   "metadata": {},
   "source": [
    "___\n",
    "___\n",
    "## <span style=\"font-size: 40px; color:rgb(200, 200, 200); font-weight: bold\">Data Types</span>"
   ]
  },
  {
   "cell_type": "markdown",
   "metadata": {},
   "source": [
    "<span style=\"font-size: 15px; color:rgb(250, 250, 250)\">\n",
    "\n",
    "Two useful functions for determining object types:<br><code>type(obj:any)</code> and<br><code>isinstance(obj:any, 'name_of_type_as_string')</code>\n",
    "```python\n",
    "obj = None\n",
    "print(type(obj)) # <class None>\n",
    "\n",
    "print(isinstance(obj, 'None')) #True\n",
    "```\n",
    "</span>"
   ]
  },
  {
   "cell_type": "markdown",
   "metadata": {},
   "source": [
    "___\n",
    "### <span style=\"font-size: 30px; color:rgb(150, 150, 150); font-weight: bold\">Integer</span>"
   ]
  },
  {
   "cell_type": "markdown",
   "metadata": {},
   "source": [
    "<span style=\"font-size: 15px; color:rgb(250, 250, 250)\">\n",
    "\n",
    "**Properties**:\n",
    "- \\<class int\\>\n",
    "- immutable (once assigned to memory, cannot change value)\n",
    "- whole numbers\n",
    "- -5 through 256 have constant memory locations\n",
    "- - no limit on size\n",
    "</span>"
   ]
  },
  {
   "cell_type": "code",
   "execution_count": null,
   "metadata": {},
   "outputs": [],
   "source": [
    "type(5)\n",
    "type(-1)"
   ]
  },
  {
   "cell_type": "markdown",
   "metadata": {},
   "source": [
    "___\n",
    "### <span style=\"font-size: 30px; color:rgb(150, 150, 150); font-weight: bold\">Float</span>"
   ]
  },
  {
   "cell_type": "markdown",
   "metadata": {},
   "source": [
    "<span style=\"font-size: 15px; color:rgb(250, 250, 250)\">\n",
    "\n",
    "**Properties**:\n",
    "- #example: 12.0\n",
    "- \\<class int\\>\n",
    "- immutable (once assigned to memory, cannot change value)\n",
    "- have at least one whole number and one decimal value. ie 0.0\n",
    "- precision is dependent on system architecture\n",
    "</span>"
   ]
  },
  {
   "cell_type": "code",
   "execution_count": 9,
   "metadata": {},
   "outputs": [
    {
     "name": "stdout",
     "output_type": "stream",
     "text": [
      "140538041415152\n",
      "140538041416336\n"
     ]
    }
   ],
   "source": [
    "type(2.0)\n",
    "type(123214.23143254)\n",
    "print(id(357))\n",
    "print(id(357))\n"
   ]
  },
  {
   "cell_type": "markdown",
   "metadata": {},
   "source": [
    "___\n",
    "### <span style=\"font-size: 30px; color:rgb(150, 150, 150); font-weight: bold\">Boolean</span>"
   ]
  },
  {
   "cell_type": "markdown",
   "metadata": {},
   "source": [
    "<span style=\"font-size: 15px; color:rgb(250, 250, 250)\">\n",
    "\n",
    "- The bool data type is named after Boolean values. In short, a bool data type at its most base level can hold only the values 0 or 1.\n",
    "\n",
    "\n",
    "- This can be thought of as a way to express True [1] or False [0]. For example, the bool value of 0 represents False.\n",
    "- Any value of a variable other than 0 will result to True in Bool\n",
    "\n",
    "**Properties**:\n",
    "- example: True\n",
    "- \\<class bool\\>\n",
    "- subclass of integer\n",
    "- True and False are the only boolean values, but many things can be interpreted as boolean values\n",
    "</span>"
   ]
  },
  {
   "cell_type": "markdown",
   "metadata": {},
   "source": [
    "___\n",
    "### <span style=\"font-size: 30px; color:rgb(150, 150, 150); font-weight: bold\">Math Operations</span>"
   ]
  },
  {
   "cell_type": "markdown",
   "metadata": {},
   "source": [
    "<span style=\"font-size: 15px; color:rgb(250, 250, 250)\">\n",
    "\n",
    "| Operation |               Result              |\n",
    "| --------- | ----------------------------------|\n",
    "|\n",
    " x + y     | Sum of x and y                    |\n",
    "| x - y     | difference of X and Y             |\n",
    "| x * y     | Product of X and Y                |\n",
    "| x / y     | Quotient of x and Y               |\n",
    "| x // y    | Floored (integer) Quotient of X and Y   |\n",
    "| x % y     | Modulus - Remainder of x / y                |\n",
    "| -x        | x negated                         |\n",
    "| +x        | x unchanged                       |\n",
    "| abs(x)    | Absolute Value(or magnitude of x) |\n",
    "| x ** y    | x to the y power                  |</span>"
   ]
  },
  {
   "cell_type": "code",
   "execution_count": null,
   "metadata": {},
   "outputs": [
    {
     "name": "stdout",
     "output_type": "stream",
     "text": [
      "2\n",
      "2.0\n",
      "0.2999999999999998\n",
      "8\n"
     ]
    }
   ],
   "source": [
    "print(12 // 5)\n",
    "print(10 / 5)\n",
    "print(2.3 % 2)\n",
    "print(2**3)\n",
    "print(2**(1/4)) # To take the square root, multiply by fraction and put in parenthesis.\n"
   ]
  },
  {
   "cell_type": "code",
   "execution_count": null,
   "metadata": {},
   "outputs": [
    {
     "data": {
      "text/plain": [
       "-111"
      ]
     },
     "execution_count": 11,
     "metadata": {},
     "output_type": "execute_result"
    }
   ],
   "source": [
    "# order of precedent\n",
    "# Reads left to right using (PEMDAS)\n",
    "# parenthesis, function calls\n",
    "# exponention\n",
    "# multi, div, floordiv, modulous, matrix-multi\n",
    "# add, sub\n",
    "# bitwise\n",
    "\n",
    "3-(2+4)*(7+(6*2)) # REPL input\n",
    "3-(6)*(7+12)"
   ]
  },
  {
   "cell_type": "markdown",
   "metadata": {},
   "source": [
    "___\n",
    "### <span style=\"font-size: 30px; color:rgb(150, 150, 150); font-weight: bold\">String</span>"
   ]
  },
  {
   "cell_type": "markdown",
   "metadata": {},
   "source": [
    "<span style=\"font-size: 15px; color:rgb(250, 250, 250)\">\n",
    "\n",
    "**Properties**:\n",
    "- examples:'Hello',\"hello\",'''hello''',\"\"\"hello\"\"\"\n",
    "- \\<class str\\>\n",
    "- immutable\n",
    "- sequence any string more than a length of one is an ordered sequence of strings of length 1 aka a character (just not in type). \n",
    "</span>"
   ]
  },
  {
   "cell_type": "code",
   "execution_count": null,
   "metadata": {},
   "outputs": [],
   "source": [
    "#empty strings\n",
    "''\n",
    "\"\"\n",
    "''''''\n",
    "\"\"\"\"\"\""
   ]
  },
  {
   "cell_type": "code",
   "execution_count": null,
   "metadata": {},
   "outputs": [
    {
     "name": "stdout",
     "output_type": "stream",
     "text": [
      "  1\n"
     ]
    }
   ],
   "source": [
    "#whitespace characters are not empty\n",
    "print(' ', len(' ')) #' ' has a single space"
   ]
  },
  {
   "cell_type": "code",
   "execution_count": 14,
   "metadata": {},
   "outputs": [
    {
     "name": "stdout",
     "output_type": "stream",
     "text": [
      "Need to specify all whitespace\n",
      "explicitly\n",
      "2\n",
      "2\n",
      "'2'\n",
      "2 <class 'str'>\n"
     ]
    }
   ],
   "source": [
    "#single-single/double quote strings\n",
    "print('Need to specify all whitespace\\nexplicitly')\n",
    "\n",
    "x = '2'\n",
    "print(x)\n",
    "print(2)\n",
    "print(repr(x))\n",
    "print(x, type(x))"
   ]
  },
  {
   "cell_type": "code",
   "execution_count": 13,
   "metadata": {},
   "outputs": [
    {
     "name": "stdout",
     "output_type": "stream",
     "text": [
      "Captures all typed\n",
      "whitespace.\n"
     ]
    }
   ],
   "source": [
    "#triple-single/double quote strings\n",
    "print(\"\"\"Captures all typed\n",
    "whitespace.\"\"\")"
   ]
  },
  {
   "cell_type": "markdown",
   "metadata": {},
   "source": [
    "#### <hr style=\"border-style:dashed\"><span style=\"font-size: 25px; color:rgb(100, 100, 100); font-weight: bold\">Escape Characters</span>"
   ]
  },
  {
   "cell_type": "markdown",
   "metadata": {},
   "source": [
    "| Sequence | Character/Meaning |\n",
    "| :------- | ----------------:|\n",
    "| \\        | Line Continuation |\n",
    "| \\\\\\       | Backslash         |\n",
    "| \\'       | single Quote      |\n",
    "| \\\"       | Double Quote      |\n",
    "| \\a       | ASCII Bell(BEL)   |\n",
    "| \\b       | Backspace         |\n",
    "| \\f       | Form Feed         |\n",
    "| \\n       | Line feed         |\n",
    "| \\r       | Carriage Return   |\n",
    "| \\t       | Horizontal Tab    |\n",
    "| \\v       | Vertical Tab      |\n",
    "| \\ooo | ASCII Character Specified by Octal |\n",
    "| \\xhhh | ASCII Character Specified by Hexadecimal |\n",
    "| \\uxxxx | Unicode Character Specified by 16-bit Hex |\n",
    "| \\uxxxxxxxx | Unicode Character Specified by 32-bit Hex |\n"
   ]
  },
  {
   "cell_type": "code",
   "execution_count": null,
   "metadata": {},
   "outputs": [],
   "source": [
    "# print It's a beautiful day! in a string with single quotes\n",
    "x = 'It\\'s beautiful day!' # the escape character is needed to \n",
    "# include the single quote\n",
    "print(x)"
   ]
  },
  {
   "cell_type": "code",
   "execution_count": 15,
   "metadata": {},
   "outputs": [
    {
     "name": "stdout",
     "output_type": "stream",
     "text": [
      "(172/12)\n"
     ]
    }
   ],
   "source": [
    "# as a string print (172/12)\n",
    "print('(172/12)')"
   ]
  },
  {
   "cell_type": "code",
   "execution_count": null,
   "metadata": {},
   "outputs": [
    {
     "data": {
      "text/plain": [
       "'a'"
      ]
     },
     "execution_count": 22,
     "metadata": {},
     "output_type": "execute_result"
    }
   ],
   "source": [
    "'spam and eggs'[5] # strings are a collection\n"
   ]
  },
  {
   "cell_type": "markdown",
   "metadata": {},
   "source": [
    "___\n",
    "### <span style=\"font-size: 30px; color:rgb(150, 150, 150); font-weight: bold\">List</span>"
   ]
  },
  {
   "cell_type": "markdown",
   "metadata": {},
   "source": [
    "* mutable (can be modified)\n",
    "* <code>['comma', 'separated', 'items']</code>\n",
    "* sequence of items\n"
   ]
  },
  {
   "cell_type": "code",
   "execution_count": 17,
   "metadata": {},
   "outputs": [
    {
     "data": {
      "text/plain": [
       "[1, [1, 3]]"
      ]
     },
     "execution_count": 17,
     "metadata": {},
     "output_type": "execute_result"
    }
   ],
   "source": [
    "[] #empty list\n",
    "[1, 2, 3] #list with 3 integer items\n",
    "[1, 1.0, 'hello'] #list three items of mixed types\n",
    "[1, [1, 3]] # a list with two items: an integer and a list\n",
    "\n"
   ]
  },
  {
   "cell_type": "markdown",
   "metadata": {},
   "source": [
    "___\n",
    "### <span style=\"font-size: 30px; color:rgb(150, 150, 150); font-weight: bold\">Tuple</span>"
   ]
  },
  {
   "cell_type": "markdown",
   "metadata": {},
   "source": [
    "* immutable (cannot be modified)\n",
    "* <code>['comma', 'separated', 'items']</code>\n",
    "* sequence of items"
   ]
  },
  {
   "cell_type": "code",
   "execution_count": null,
   "metadata": {},
   "outputs": [],
   "source": [
    "() #empty tuple\n",
    "('a',) #tuple with 1 element NOTE: the comma makes this a tuple with one element, otherwise python\n",
    "       #interprets the parenthesis as a grouping\n",
    "(1, 2.5, [2,'a']) #tuple with three items of mixed types"
   ]
  },
  {
   "cell_type": "markdown",
   "metadata": {},
   "source": [
    "___\n",
    "___\n",
    "## <span style=\"font-size: 40px; color:rgb(200, 200, 200); font-weight: bold\">Variables</span>"
   ]
  },
  {
   "cell_type": "markdown",
   "metadata": {},
   "source": [
    "<span style=\"font-size: 15px; color:rgb(250, 250, 250)\">\n",
    "\n",
    "**Properties**\n",
    "- Alphanumeric characters and underscore\n",
    "- Must start with an alphabetical character or underscore\n",
    "- Makes an identifier that relates one of the following to a memory location:\n",
    "    - variable, function/method, class, module\n",
    "</span>"
   ]
  },
  {
   "cell_type": "code",
   "execution_count": null,
   "metadata": {},
   "outputs": [],
   "source": [
    "#typical declaration\n",
    "x = 12"
   ]
  },
  {
   "cell_type": "code",
   "execution_count": 21,
   "metadata": {},
   "outputs": [
    {
     "name": "stdout",
     "output_type": "stream",
     "text": [
      "hello 10 5.0\n"
     ]
    }
   ],
   "source": [
    "#dynamic declaration\n",
    "a,b,c = 'hello', 10, 5.0\n",
    "print(a,b,c)"
   ]
  },
  {
   "cell_type": "code",
   "execution_count": null,
   "metadata": {},
   "outputs": [],
   "source": [
    "#dynamic declaration with unpacking\n",
    "j,k,l = [1, 3.0, 7]"
   ]
  },
  {
   "cell_type": "code",
   "execution_count": null,
   "metadata": {},
   "outputs": [],
   "source": [
    "#naming conventions\n",
    "thisVarUsesCamelCase = 12\n",
    "this_var_uses_snake_case ='hello'"
   ]
  },
  {
   "cell_type": "markdown",
   "metadata": {},
   "source": [
    "___\n",
    "___\n",
    "## <span style=\"font-size: 40px; color:rgb(200, 200, 200); font-weight: bold\">Data Conversion Functions</span>"
   ]
  },
  {
   "cell_type": "markdown",
   "metadata": {},
   "source": [
    "|               |           |            |             |\n",
    "| ------------  | ---------- | ---------- | ------------|\n",
    "| `int()`  | `str()` | `float()` |\n",
    "| `list()` | `tuple()` | `bool()` |\n",
    "\n",
    "\n",
    "name_of_datatype_thing to convert\n"
   ]
  },
  {
   "cell_type": "code",
   "execution_count": null,
   "metadata": {},
   "outputs": [],
   "source": [
    "# int() with strings\n",
    "int('-137') #only charaters allowed in string are +-[0-9]\n"
   ]
  },
  {
   "cell_type": "code",
   "execution_count": null,
   "metadata": {},
   "outputs": [
    {
     "data": {
      "text/plain": [
       "0"
      ]
     },
     "execution_count": 23,
     "metadata": {},
     "output_type": "execute_result"
    }
   ],
   "source": [
    "#int() with floats\n",
    "int(5.7)"
   ]
  },
  {
   "cell_type": "code",
   "execution_count": 24,
   "metadata": {},
   "outputs": [
    {
     "data": {
      "text/plain": [
       "3"
      ]
     },
     "execution_count": 24,
     "metadata": {},
     "output_type": "execute_result"
    }
   ],
   "source": [
    "3 % 4"
   ]
  },
  {
   "cell_type": "code",
   "execution_count": null,
   "metadata": {},
   "outputs": [],
   "source": [
    "#int() with booleans\n",
    "int(True)"
   ]
  },
  {
   "cell_type": "code",
   "execution_count": null,
   "metadata": {},
   "outputs": [],
   "source": [
    "#float() with strings\n",
    "print(float('6'))\n",
    "print(float('-10.4'))"
   ]
  },
  {
   "cell_type": "code",
   "execution_count": null,
   "metadata": {},
   "outputs": [],
   "source": [
    "# convert '10.6' to an integer\n",
    "int(float('10.6'))\n",
    "#print(int('10.6'))"
   ]
  },
  {
   "cell_type": "code",
   "execution_count": null,
   "metadata": {},
   "outputs": [],
   "source": [
    "# str()\n",
    "str(1.6) #can put any object in here"
   ]
  },
  {
   "cell_type": "code",
   "execution_count": null,
   "metadata": {},
   "outputs": [],
   "source": [
    "# bool()\n",
    "#all False values\n",
    "bool('')\n",
    "bool([])\n",
    "bool(())\n",
    "bool(0)\n",
    "bool(0.0)\n",
    "bool(False)"
   ]
  },
  {
   "cell_type": "code",
   "execution_count": null,
   "metadata": {},
   "outputs": [],
   "source": [
    "# bool()\n",
    "#all True values\n",
    "bool('sdf')\n",
    "bool([1])\n",
    "bool((1))\n",
    "bool(-120938)\n",
    "bool(12.7)\n",
    "bool(True)"
   ]
  },
  {
   "cell_type": "code",
   "execution_count": 25,
   "metadata": {},
   "outputs": [
    {
     "name": "stdout",
     "output_type": "stream",
     "text": [
      "['h', 'e', 'l', 'l', 'o']\n"
     ]
    }
   ],
   "source": [
    "#convert string into tuple or list\n",
    "print(list('hello'))"
   ]
  },
  {
   "cell_type": "code",
   "execution_count": null,
   "metadata": {},
   "outputs": [
    {
     "ename": "TypeError",
     "evalue": "tuple expected at most 1 argument, got 3",
     "output_type": "error",
     "traceback": [
      "\u001b[0;31m---------------------------------------------------------------------------\u001b[0m",
      "\u001b[0;31mTypeError\u001b[0m                                 Traceback (most recent call last)",
      "Cell \u001b[0;32mIn[26], line 2\u001b[0m\n\u001b[1;32m      1\u001b[0m (\u001b[38;5;241m1\u001b[39m,\u001b[38;5;241m2\u001b[39m,\u001b[38;5;241m3\u001b[39m) \u001b[38;5;66;03m# Parenthesis make a tuple\u001b[39;00m\n\u001b[0;32m----> 2\u001b[0m \u001b[38;5;28;43mtuple\u001b[39;49m\u001b[43m(\u001b[49m\u001b[38;5;241;43m1\u001b[39;49m\u001b[43m,\u001b[49m\u001b[38;5;241;43m2\u001b[39;49m\u001b[43m,\u001b[49m\u001b[38;5;241;43m3\u001b[39;49m\u001b[43m)\u001b[49m\n",
      "\u001b[0;31mTypeError\u001b[0m: tuple expected at most 1 argument, got 3"
     ]
    }
   ],
   "source": [
    "(1,2,3) # Parenthesis make a tuple\n",
    "tuple(1,2,3) # System expects a collection "
   ]
  },
  {
   "cell_type": "code",
   "execution_count": 30,
   "metadata": {},
   "outputs": [
    {
     "ename": "ValueError",
     "evalue": "invalid literal for int() with base 10: '5.0'",
     "output_type": "error",
     "traceback": [
      "\u001b[0;31m---------------------------------------------------------------------------\u001b[0m",
      "\u001b[0;31mValueError\u001b[0m                                Traceback (most recent call last)",
      "Cell \u001b[0;32mIn[30], line 2\u001b[0m\n\u001b[1;32m      1\u001b[0m x \u001b[38;5;241m=\u001b[39m \u001b[38;5;124m'\u001b[39m\u001b[38;5;124m5.0\u001b[39m\u001b[38;5;124m'\u001b[39m\n\u001b[0;32m----> 2\u001b[0m y \u001b[38;5;241m=\u001b[39m \u001b[38;5;28;43mint\u001b[39;49m\u001b[43m(\u001b[49m\u001b[43mx\u001b[49m\u001b[43m)\u001b[49m\n",
      "\u001b[0;31mValueError\u001b[0m: invalid literal for int() with base 10: '5.0'"
     ]
    }
   ],
   "source": [
    "x = '5.0'\n",
    "y = int(x)"
   ]
  },
  {
   "cell_type": "code",
   "execution_count": null,
   "metadata": {},
   "outputs": [
    {
     "name": "stdout",
     "output_type": "stream",
     "text": [
      "('one', 'two', 'three', 'four', 'five', 1, 2, 3, 4, 5)\n"
     ]
    }
   ],
   "source": [
    "lst1 = [1,2,3,4,5]\n",
    "\n",
    "tup1 = (\"one\",\"two\",\"three\",\"four\",\"five\")\n",
    "\n",
    "print(tuple(list(tup1)+lst1))"
   ]
  },
  {
   "cell_type": "markdown",
   "metadata": {},
   "source": [
    "___\n",
    "___\n",
    "## <span style=\"font-size: 40px; color:rgb(200, 200, 200); font-weight: bold\">Print and Input Functions</span>"
   ]
  },
  {
   "cell_type": "code",
   "execution_count": null,
   "metadata": {},
   "outputs": [],
   "source": [
    "x = input('Message prompt to user')\n",
    "print(x, type(x))"
   ]
  },
  {
   "cell_type": "code",
   "execution_count": null,
   "metadata": {},
   "outputs": [],
   "source": [
    "x = input('Give me a number')\n",
    "print(x, type(x))"
   ]
  },
  {
   "cell_type": "markdown",
   "metadata": {},
   "source": [
    "___\n",
    "___\n",
    "## <span style=\"font-size: 40px; color:rgb(200, 200, 200); font-weight: bold\">Check On Learning</span>"
   ]
  },
  {
   "cell_type": "markdown",
   "metadata": {},
   "source": [
    "___\n",
    "___\n",
    "___\n",
    "# <span style=\"font-size: 50px; color:rgb(250, 250, 250); font-weight: bold;\">Intermediate Lists and Strings</span>"
   ]
  },
  {
   "cell_type": "markdown",
   "metadata": {},
   "source": [
    "___\n",
    "___\n",
    "## <span style=\"font-size: 40px; color:rgb(200, 200, 200); font-weight: bold\">Indexing</span>"
   ]
  },
  {
   "cell_type": "markdown",
   "metadata": {},
   "source": [
    "<span style=\"font-size: 15px; color:rgb(250, 250, 250)\">\n",
    "\n",
    "Access items in lists, tuples and strings using indexing\n",
    "<code>seq_obj[index:int]</code>\n",
    "</span>"
   ]
  },
  {
   "cell_type": "code",
   "execution_count": null,
   "metadata": {},
   "outputs": [
    {
     "name": "stdout",
     "output_type": "stream",
     "text": [
      "('one', 'two', 'three', 'four', 'five', 1, 2, 3, 4, 5)\n"
     ]
    }
   ],
   "source": [
    "\n",
    "\n"
   ]
  },
  {
   "cell_type": "code",
   "execution_count": null,
   "metadata": {},
   "outputs": [],
   "source": []
  },
  {
   "cell_type": "markdown",
   "metadata": {},
   "source": [
    "<span style=\"font-size: 15px; color:rgb(250, 250, 250)\">\n",
    "\n",
    "Indexes are zero based. When accessing items by index, the index must be valid.\n",
    "</span>"
   ]
  },
  {
   "cell_type": "code",
   "execution_count": null,
   "metadata": {},
   "outputs": [],
   "source": []
  },
  {
   "cell_type": "markdown",
   "metadata": {},
   "source": [
    "<span style=\"font-size: 15px; color:rgb(250, 250, 250)\">\n",
    "\n",
    "Indexes can be negative, to start decrementing from the last item\n",
    "</span>"
   ]
  },
  {
   "cell_type": "code",
   "execution_count": null,
   "metadata": {},
   "outputs": [],
   "source": []
  },
  {
   "cell_type": "markdown",
   "metadata": {},
   "source": [
    "___\n",
    "___\n",
    "## <span style=\"font-size: 40px; color:rgb(200, 200, 200); font-weight: bold\">String Casing</span>"
   ]
  },
  {
   "cell_type": "code",
   "execution_count": null,
   "metadata": {},
   "outputs": [],
   "source": [
    "\n"
   ]
  },
  {
   "cell_type": "markdown",
   "metadata": {},
   "source": [
    "___\n",
    "___\n",
    "## <span style=\"font-size: 40px; color:rgb(200, 200, 200); font-weight: bold\">Finding Substrings</span>"
   ]
  },
  {
   "cell_type": "code",
   "execution_count": null,
   "metadata": {},
   "outputs": [],
   "source": []
  },
  {
   "cell_type": "markdown",
   "metadata": {},
   "source": [
    "___\n",
    "___\n",
    "## <span style=\"font-size: 40px; color:rgb(200, 200, 200); font-weight: bold\">Modifying Strings</span>"
   ]
  },
  {
   "cell_type": "markdown",
   "metadata": {},
   "source": [
    "___\n",
    "### <span style=\"font-size: 30px; color:rgb(150, 150, 150); font-weight: bold\">Modified Copies</span>"
   ]
  },
  {
   "cell_type": "code",
   "execution_count": null,
   "metadata": {},
   "outputs": [],
   "source": []
  },
  {
   "cell_type": "code",
   "execution_count": null,
   "metadata": {},
   "outputs": [],
   "source": []
  },
  {
   "cell_type": "code",
   "execution_count": null,
   "metadata": {},
   "outputs": [],
   "source": []
  },
  {
   "cell_type": "markdown",
   "metadata": {},
   "source": [
    "___\n",
    "### <span style=\"font-size: 30px; color:rgb(150, 150, 150); font-weight: bold\">Splitting and Joining</span>"
   ]
  },
  {
   "cell_type": "code",
   "execution_count": null,
   "metadata": {},
   "outputs": [],
   "source": []
  },
  {
   "cell_type": "code",
   "execution_count": null,
   "metadata": {},
   "outputs": [],
   "source": [
    "\n"
   ]
  },
  {
   "cell_type": "code",
   "execution_count": null,
   "metadata": {},
   "outputs": [],
   "source": []
  },
  {
   "cell_type": "markdown",
   "metadata": {},
   "source": [
    "___\n",
    "___\n",
    "## <span style=\"font-size: 40px; color:rgb(200, 200, 200); font-weight: bold\">String Boolean Methods</span>"
   ]
  },
  {
   "cell_type": "code",
   "execution_count": null,
   "metadata": {},
   "outputs": [],
   "source": []
  },
  {
   "cell_type": "code",
   "execution_count": null,
   "metadata": {},
   "outputs": [],
   "source": []
  },
  {
   "cell_type": "markdown",
   "metadata": {},
   "source": [
    "___\n",
    "___\n",
    "## <span style=\"font-size: 40px; color:rgb(200, 200, 200); font-weight: bold\">String Formatting</span>"
   ]
  },
  {
   "cell_type": "markdown",
   "metadata": {},
   "source": [
    "___\n",
    "### <span style=\"font-size: 30px; color:rgb(150, 150, 150); font-weight: bold\">f-strings</span>"
   ]
  },
  {
   "cell_type": "markdown",
   "metadata": {},
   "source": [
    "| Type |  Meaning |\n",
    "| :----| :-------- |\n",
    "| s  | String format. This is the default type for strings and may be omitted. |\n",
    "| none | The same as 's'. |\n",
    "| b  | Binary Format. The Number is display as base 2. |\n",
    "| c  | Character. Converts the integer to a Unicode Character. |\n",
    "| d  | Decimal Integer. This converts the number to base 10.   | \n",
    "| x or X | Hex format. Display the number in base 16. The case of the hex number will match the case of the specifier. |\n",
    "| f | Fixed point number. Displays the number with a decimal point. Default precision is 6. |\n",
    "| % | percentage. Multiplies the number by 100 and displays in fixed ('f') fromat with a percent sign. |"
   ]
  },
  {
   "cell_type": "markdown",
   "metadata": {},
   "source": [
    "| Format Specifier | Effect | Example |\n",
    "| :-- | :-- | :-- |\n",
    "| <num | right justify if width greater than text | <code>f'{9:<3}'</code> -> <code>'9  '</code> |\n",
    "| >num | left justify if width greater than text | <code>f'{9:>3}'</code> -> <code>'  9'</code> |\n",
    "| ^num | center justify if width greater than text | <code>f'{9:>3}'</code> -> <code>' 9 '</code> |\n",
    "| 0num | forces leading zeros for numbers | <code>f'{9:03}'</code> -> <code>'009'</code> |\n",
    "| , | thousands separator | <code>f'{9000:,}'</code> -> <code>'9,000'</code> |\n",
    "| _ | thousands separator | <code>f'{9000:_,_}'</code> -> <code>'9_000'</code> |\n",
    "| .numf | decimal precision | <code>f'{12.4:.2f}'</code> -> <code>'12.40'</code> |\n",
    "| % | mulitplies num by 100 and adds % suffix | <code>f'{12.4:%}'</code> -> <code>'1240.000000%'</code> |\n",
    "| b | prints binary of number | <code>f'{6:b}'</code> -> <code>'110'</code> |\n",
    "| #b | prints binary of number with 0b prefix | <code>f'{6:#b}'</code> -> <code>'0b110'</code> |\n",
    "| o | prints octal of number | <code>f'{9:o}'</code> -> <code>'11'</code> |\n",
    "| #o | prints octal of number with 0o prefix | <code>f'{6:#o}'</code> -> <code>'0o11'</code> |\n",
    "| x | prints hex of number | <code>f'{13:x}'</code> -> <code>'d'</code> |\n",
    "| #x | prints hex of number with 0x prefix | <code>f'{6:#x}'</code> -> <code>'0xd'</code> |\n",
    "| X | same as x but uppercase | <code>f'{13:X}'</code> -> <code>'D'</code> |\n",
    "| #X | same as #X but uppercase | <code>f'{6:#X}'</code> -> <code>'0XD'</code> |\n"
   ]
  },
  {
   "cell_type": "code",
   "execution_count": 42,
   "metadata": {},
   "outputs": [
    {
     "data": {
      "text/plain": [
       "'11'"
      ]
     },
     "execution_count": 42,
     "metadata": {},
     "output_type": "execute_result"
    }
   ],
   "source": [
    "f'{9:o}'"
   ]
  },
  {
   "cell_type": "code",
   "execution_count": null,
   "metadata": {},
   "outputs": [],
   "source": []
  },
  {
   "cell_type": "code",
   "execution_count": null,
   "metadata": {},
   "outputs": [],
   "source": []
  },
  {
   "cell_type": "markdown",
   "metadata": {},
   "source": [
    "___\n",
    "### <span style=\"font-size: 30px; color:rgb(150, 150, 150); font-weight: bold\">str.format</span>"
   ]
  },
  {
   "cell_type": "code",
   "execution_count": null,
   "metadata": {},
   "outputs": [],
   "source": []
  },
  {
   "cell_type": "markdown",
   "metadata": {},
   "source": [
    "___\n",
    "___\n",
    "___\n",
    "# <span style=\"font-size: 50px; color:rgb(250, 250, 250); font-weight: bold;\">Python Functions</span>"
   ]
  },
  {
   "cell_type": "markdown",
   "metadata": {},
   "source": [
    "___\n",
    "___\n",
    "## <span style=\"font-size: 40px; color:rgb(200, 200, 200); font-weight: bold\">Introduction</span>"
   ]
  },
  {
   "cell_type": "markdown",
   "metadata": {},
   "source": [
    "___\n",
    "___\n",
    "## <span style=\"font-size: 40px; color:rgb(200, 200, 200); font-weight: bold\">Function Definitions</span>"
   ]
  },
  {
   "cell_type": "markdown",
   "metadata": {},
   "source": [
    "___\n",
    "### <span style=\"font-size: 30px; color:rgb(150, 150, 150); font-weight: bold\">Built-in Functions</span>"
   ]
  },
  {
   "cell_type": "markdown",
   "metadata": {},
   "source": [
    "[w3school Python Built-in Functions](https://www.w3schools.com/python/python_ref_functions.asp)"
   ]
  },
  {
   "cell_type": "markdown",
   "metadata": {},
   "source": [
    "___\n",
    "### <span style=\"font-size: 30px; color:rgb(150, 150, 150); font-weight: bold\">Creating Functions</span>"
   ]
  },
  {
   "cell_type": "code",
   "execution_count": null,
   "metadata": {},
   "outputs": [],
   "source": [
    "#without parameters\n"
   ]
  },
  {
   "cell_type": "code",
   "execution_count": null,
   "metadata": {},
   "outputs": [],
   "source": [
    "#funtion that adds 50 and 2 then prints it\n"
   ]
  },
  {
   "cell_type": "code",
   "execution_count": null,
   "metadata": {},
   "outputs": [],
   "source": [
    "\n",
    "#with parameters\n",
    "#define a function sumNums, that takes two integers from user input\n",
    "#return the sum\n"
   ]
  },
  {
   "cell_type": "code",
   "execution_count": null,
   "metadata": {},
   "outputs": [],
   "source": [
    "\n",
    "#with optional parameters\n",
    "#define a function adlib, that takes two mandatory parameters\n",
    "#and one optional paramter\n"
   ]
  },
  {
   "cell_type": "code",
   "execution_count": null,
   "metadata": {},
   "outputs": [],
   "source": []
  },
  {
   "cell_type": "markdown",
   "metadata": {},
   "source": [
    "___\n",
    "### <span style=\"font-size: 30px; color:rgb(150, 150, 150); font-weight: bold\">Calling Functions</span>"
   ]
  },
  {
   "cell_type": "code",
   "execution_count": null,
   "metadata": {},
   "outputs": [],
   "source": [
    "#without arguments"
   ]
  },
  {
   "cell_type": "code",
   "execution_count": null,
   "metadata": {},
   "outputs": [],
   "source": [
    "#with arguments"
   ]
  },
  {
   "cell_type": "code",
   "execution_count": null,
   "metadata": {},
   "outputs": [],
   "source": [
    "#with optional arguments"
   ]
  },
  {
   "cell_type": "markdown",
   "metadata": {},
   "source": [
    "___\n",
    "### <span style=\"font-size: 30px; color:rgb(150, 150, 150); font-weight: bold\">Arguments</span>"
   ]
  },
  {
   "cell_type": "code",
   "execution_count": null,
   "metadata": {},
   "outputs": [
    {
     "name": "stdout",
     "output_type": "stream",
     "text": [
      "9 9785184\n",
      "729 140255214203760\n",
      "9 9785184\n"
     ]
    }
   ],
   "source": [
    "#pass by reference immutable object\n"
   ]
  },
  {
   "cell_type": "code",
   "execution_count": null,
   "metadata": {},
   "outputs": [],
   "source": [
    "#pass by reference muttable object\n"
   ]
  },
  {
   "cell_type": "markdown",
   "metadata": {},
   "source": [
    "___\n",
    "### <span style=\"font-size: 30px; color:rgb(150, 150, 150); font-weight: bold\">Returning Data</span>"
   ]
  },
  {
   "cell_type": "markdown",
   "metadata": {},
   "source": [
    "**BY DEFAULT FUNCTIONS RETURN NONE IF RETURN IS NOT USED** "
   ]
  },
  {
   "cell_type": "code",
   "execution_count": null,
   "metadata": {},
   "outputs": [],
   "source": [
    "#return"
   ]
  },
  {
   "cell_type": "code",
   "execution_count": null,
   "metadata": {},
   "outputs": [],
   "source": [
    "#print"
   ]
  },
  {
   "cell_type": "markdown",
   "metadata": {},
   "source": [
    "___\n",
    "___\n",
    "## <span style=\"font-size: 40px; color:rgb(200, 200, 200); font-weight: bold\">Name Scopes</span>"
   ]
  },
  {
   "cell_type": "markdown",
   "metadata": {},
   "source": [
    "___\n",
    "### <span style=\"font-size: 30px; color:rgb(150, 150, 150); font-weight: bold\">Global</span>"
   ]
  },
  {
   "cell_type": "markdown",
   "metadata": {},
   "source": [
    "___\n",
    "### <span style=\"font-size: 30px; color:rgb(150, 150, 150); font-weight: bold\">Local</span>"
   ]
  },
  {
   "cell_type": "markdown",
   "metadata": {},
   "source": [
    "___\n",
    "### <span style=\"font-size: 30px; color:rgb(150, 150, 150); font-weight: bold\">Enclosed</span>"
   ]
  },
  {
   "cell_type": "markdown",
   "metadata": {},
   "source": [
    "___\n",
    "### <span style=\"font-size: 30px; color:rgb(150, 150, 150); font-weight: bold\">Built-in</span>"
   ]
  },
  {
   "cell_type": "markdown",
   "metadata": {},
   "source": [
    "___\n",
    "___\n",
    "## <span style=\"font-size: 40px; color:rgb(200, 200, 200); font-weight: bold\">Check On Learning</span>"
   ]
  },
  {
   "cell_type": "markdown",
   "metadata": {},
   "source": [
    "___\n",
    "___\n",
    "___\n",
    "# <span style=\"font-size: 50px; color:rgb(250, 250, 250); font-weight: bold;\">Conditionals / Branching</span>"
   ]
  },
  {
   "cell_type": "markdown",
   "metadata": {},
   "source": [
    "___\n",
    "___\n",
    "## <span style=\"font-size: 40px; color:rgb(200, 200, 200); font-weight: bold\">Relational & Logical Operators</span>"
   ]
  },
  {
   "cell_type": "markdown",
   "metadata": {},
   "source": [
    "___\n",
    "### <span style=\"font-size: 30px; color:rgb(150, 150, 150); font-weight: bold\">Relational</span>"
   ]
  },
  {
   "cell_type": "markdown",
   "metadata": {},
   "source": [
    "| Operator | Meaning |\n",
    "| :------- | :------ |\n",
    "| <        | Strictly Less than |\n",
    "| <=       | Less than or Equal |\n",
    "| >        | Strictly Greater Than |\n",
    "| >=       | Greater than or Equal |\n",
    "| ==       | Equal                 |\n",
    "| !=       | Not Equal             | \n",
    "| is       | Object identity       |\n",
    "| is not   | Negated Object identity |\n",
    "| in       | Value exists in collection |"
   ]
  },
  {
   "cell_type": "markdown",
   "metadata": {},
   "source": [
    "___\n",
    "### <span style=\"font-size: 30px; color:rgb(150, 150, 150); font-weight: bold\">Logical</span>"
   ]
  },
  {
   "cell_type": "markdown",
   "metadata": {},
   "source": [
    "| Operator | Unary or Binary | The Result is True When... |\n",
    "| :------- | :-------------- | :--------------------------|\n",
    "| not      | unary           | Operand is False           |\n",
    "| and      | binary          | Both Operands Must be True |\n",
    "| or       | binary          | Only one Operand needs to be True |\n"
   ]
  },
  {
   "cell_type": "markdown",
   "metadata": {},
   "source": [
    "___\n",
    "___\n",
    "## <span style=\"font-size: 40px; color:rgb(200, 200, 200); font-weight: bold\">Code Blocks & Compound Statements</span>"
   ]
  },
  {
   "cell_type": "markdown",
   "metadata": {},
   "source": [
    "**Below** demonstrates the importance of indentation and order of execution."
   ]
  },
  {
   "cell_type": "markdown",
   "metadata": {},
   "source": [
    "___\n",
    "___\n",
    "## <span style=\"font-size: 40px; color:rgb(200, 200, 200); font-weight: bold\">Conditionals</span>"
   ]
  },
  {
   "cell_type": "markdown",
   "metadata": {},
   "source": [
    "**Branching** statements in python use keywords <code>if</code>, <code>elif</code>, and <code>else</code>.\n",
    "\n",
    "- <code>if</code> begins a compound conditional statement. Python will evaluate the conditional of every <code>if</code> statement it sees on the same indentation level\n",
    "\n",
    "- <code>elif</code> continues a compound conditional statement. Python will continue evaluating <code>elif</code> statments as long as the previous conditional was false.\n",
    "\n",
    "- <code>else</code>: code within this block will only execute if all previous conditonals in the compound block were false."
   ]
  },
  {
   "cell_type": "markdown",
   "metadata": {},
   "source": [
    "___\n",
    "___\n",
    "## <span style=\"font-size: 40px; color:rgb(200, 200, 200); font-weight: bold\">Check On Learning</span>"
   ]
  },
  {
   "cell_type": "markdown",
   "metadata": {},
   "source": [
    "___\n",
    "___\n",
    "___\n",
    "# <span style=\"font-size: 50px; color:rgb(250, 250, 250); font-weight: bold;\">Slicing, Range, Len</span>"
   ]
  },
  {
   "cell_type": "markdown",
   "metadata": {},
   "source": [
    "___\n",
    "___\n",
    "## <span style=\"font-size: 40px; color:rgb(200, 200, 200); font-weight: bold\">Slicing</span>"
   ]
  },
  {
   "cell_type": "markdown",
   "metadata": {},
   "source": [
    "**Syntax**\n",
    "<code>\\<sequence\\>[start:int: stop:int: step]</code>"
   ]
  },
  {
   "cell_type": "markdown",
   "metadata": {},
   "source": [
    "___\n",
    "___\n",
    "## <span style=\"font-size: 40px; color:rgb(200, 200, 200); font-weight: bold\">Length Function</span>"
   ]
  },
  {
   "cell_type": "markdown",
   "metadata": {},
   "source": [
    "The <code>len(x:collection)</code> function returns the total number of items in a collection."
   ]
  },
  {
   "cell_type": "markdown",
   "metadata": {},
   "source": [
    "___\n",
    "___\n",
    "## <span style=\"font-size: 40px; color:rgb(200, 200, 200); font-weight: bold\">Range Type / Function</span>"
   ]
  },
  {
   "cell_type": "markdown",
   "metadata": {},
   "source": [
    "**Finding the first multiple after a given number**"
   ]
  },
  {
   "cell_type": "markdown",
   "metadata": {},
   "source": [
    "___\n",
    "___\n",
    "## <span style=\"font-size: 40px; color:rgb(200, 200, 200); font-weight: bold\">Sum and Round Functions</span>"
   ]
  },
  {
   "cell_type": "markdown",
   "metadata": {},
   "source": [
    "___\n",
    "___\n",
    "___\n",
    "# <span style=\"font-size: 50px; color:rgb(250, 250, 250); font-weight: bold;\">Loops</span>"
   ]
  },
  {
   "cell_type": "markdown",
   "metadata": {},
   "source": [
    "___\n",
    "___\n",
    "## <span style=\"font-size: 40px; color:rgb(200, 200, 200); font-weight: bold\">While Loops</span>"
   ]
  },
  {
   "cell_type": "markdown",
   "metadata": {},
   "source": [
    "- The `while` statement causes Python to loop through a suite of statements if the test expression evaluates to `True`.\n",
    "\n",
    "- The `while` statement uses the same evaluations for `True` and `False` as the `if` statement.\n",
    "\n",
    "- Likewise, the same indentation rules are used for a `while` as they are for an `if`.\n",
    "\n",
    "- Each time through the loop, if the condition in the `while` is `True`, then the body of the while loop is executed.\n",
    "\n",
    "- When the condition is `False`, then the loop is complete and the first statement after the `while` loop is executed.\n",
    "\n",
    "- While loops often require the use of a counter variable.\n",
    "\n",
    "   - When this is the case, remember to increment the counter variable to prevent an infinite loop!"
   ]
  },
  {
   "cell_type": "markdown",
   "metadata": {},
   "source": [
    "!!! TIP\n",
    "   Any time you need to do something **repeatedly** or **continously** or execute a task **until** a condition is met, think `while` loop\n",
    "\n",
    "**Helpful Syntax note:**\n",
    "\n",
    "**while** *condition to be met is True*:\n",
    "   - take these actions\n",
    "   - don't forget to incrememnt or update your 'control' variable\n"
   ]
  },
  {
   "cell_type": "markdown",
   "metadata": {},
   "source": [
    "___\n",
    "### <span style=\"font-size: 30px; color:rgb(150, 150, 150); font-weight: bold\">Counter Variable</span>"
   ]
  },
  {
   "cell_type": "markdown",
   "metadata": {},
   "source": [
    "___\n",
    "### <span style=\"font-size: 30px; color:rgb(150, 150, 150); font-weight: bold\">Conditional Variable</span>"
   ]
  },
  {
   "cell_type": "markdown",
   "metadata": {},
   "source": [
    "|  **Scenario:** |\n",
    "|---|\n",
    "|Read a `str` from a user **until** an empty `str` is entered. Append the collected strings to a `list`|\n",
    "|Remember, an empty `str` is just empty quotes:  `''`|"
   ]
  },
  {
   "cell_type": "markdown",
   "metadata": {},
   "source": [
    "___\n",
    "### <span style=\"font-size: 30px; color:rgb(150, 150, 150); font-weight: bold\">Infinite Loop</span>"
   ]
  },
  {
   "cell_type": "markdown",
   "metadata": {},
   "source": [
    "___\n",
    "### <span style=\"font-size: 30px; color:rgb(150, 150, 150); font-weight: bold\">Loop Never Runs</span>"
   ]
  },
  {
   "cell_type": "markdown",
   "metadata": {},
   "source": [
    "___\n",
    "### <span style=\"font-size: 30px; color:rgb(150, 150, 150); font-weight: bold\">break, else, continue</span>"
   ]
  },
  {
   "cell_type": "markdown",
   "metadata": {},
   "source": [
    "|  **Scenario:** |\n",
    "|---|\n",
    "|Define a function called *playGame*|\n",
    "|Use a `while True` loop to 'turn on' the game|\n",
    "|The game should request the player to input an action|\n",
    "|Options for actions are: 'help', 'quit', and directions of movement: 'N', 'S', 'E', 'W'|\n",
    "|If the user inputs any actions that are not those, then it should just ignore the input|"
   ]
  },
  {
   "cell_type": "code",
   "execution_count": null,
   "metadata": {},
   "outputs": [],
   "source": []
  },
  {
   "cell_type": "markdown",
   "metadata": {},
   "source": [
    "___\n",
    "### <span style=\"font-size: 30px; color:rgb(150, 150, 150); font-weight: bold\">return inside loops</span>"
   ]
  },
  {
   "cell_type": "code",
   "execution_count": null,
   "metadata": {},
   "outputs": [],
   "source": []
  },
  {
   "cell_type": "markdown",
   "metadata": {},
   "source": [
    "___\n",
    "___\n",
    "## <span style=\"font-size: 40px; color:rgb(200, 200, 200); font-weight: bold\">For Loops</span>"
   ]
  },
  {
   "cell_type": "markdown",
   "metadata": {},
   "source": [
    "___\n",
    "### <span style=\"font-size: 30px; color:rgb(150, 150, 150); font-weight: bold\">Basic For Loops</span>"
   ]
  },
  {
   "cell_type": "markdown",
   "metadata": {},
   "source": [
    "- The for loop in Python is used to iterate over the items of any sequence, such as a `str`, `list`, `tuple`, or any iterable object.\n",
    "\n",
    "- The generic syntax of a `for` loop is: `for target in sequence:` suite\n",
    "\n",
    "- Each item in the sequence is evaluated once and assigns the item to the target and then the suite is executed.\n",
    "\n",
    "- The loop terminates after processing the last item in the sequence."
   ]
  },
  {
   "cell_type": "markdown",
   "metadata": {},
   "source": [
    "!!! TIP\n",
    "   Any time you need to do something with **each** or **every** item in a `list` or `str` or any other iterable item, think `for` loop\n",
    "\n",
    "**Helpful syntax note:**\n",
    "\n",
    "**for** *every_item* **in** *iterable_item*:\n",
    "   - take these actions (print, append *every_item* to a new `list`, make it uppercase, etc.)"
   ]
  },
  {
   "cell_type": "markdown",
   "metadata": {},
   "source": [
    "**SCENARIO**: use a for loop to print each letter found in the following string on a new line:<br>\n",
    "'hello world'<br>\n",
    "**output**:<br>h<br>e<br>l<br>l<br>o<br> <br>w<br>o<br>r<br>l<br>d<br>"
   ]
  },
  {
   "cell_type": "markdown",
   "metadata": {},
   "source": [
    "___\n",
    "### <span style=\"font-size: 30px; color:rgb(150, 150, 150); font-weight: bold\">break, else, continue</span>"
   ]
  },
  {
   "cell_type": "markdown",
   "metadata": {},
   "source": [
    "**SCENARIO** Given the list <code> mounts = ['car','boat','plane', 'wagon', 'elephant', 'three-toed sloth']</code> Ask the user for a mount.\n",
    "- For each mount in mounts, see if the current mount is the user-provided mount If it is **print** I found {user_mount}.\n",
    "\n",
    "- If the current mount is 'elephant' **print** I wish I had {mount}, but {mount} is not {user_mount} and skip the remaing loop code.\n",
    "\n",
    "- At the end of every loop, **print** {mount} is not {user_mount}.\n",
    "\n",
    "- If the for-loop does not break, **print** fter all the loop cycles, {user_mount} was not found\n",
    "\n",
    "- Outside the loop **print** now I'm outside the loop"
   ]
  },
  {
   "cell_type": "markdown",
   "metadata": {},
   "source": [
    "___\n",
    "### <span style=\"font-size: 30px; color:rgb(150, 150, 150); font-weight: bold\">return inside loops</span>"
   ]
  },
  {
   "cell_type": "markdown",
   "metadata": {},
   "source": [
    "___\n",
    "### <span style=\"font-size: 30px; color:rgb(150, 150, 150); font-weight: bold\">len(range()) & enumertate()</span>"
   ]
  },
  {
   "cell_type": "markdown",
   "metadata": {},
   "source": [
    "|  **Scenario:** |\n",
    "|---|\n",
    "|Create a queue message to let everyone in the customers list know what position they are in. Use the index number their name is found in to assign their position number|\n",
    "|create a tuple containing the name and the position num, and replace the name with the tuple in the customer list|"
   ]
  },
  {
   "cell_type": "markdown",
   "metadata": {},
   "source": [
    "|  **Scenario:** |\n",
    "|---|\n",
    "|Given a `list` of names, print the names of people who are found at the even indexes. (Remember, zero counts as an even number in python)|\n",
    "customers = ['Jim', 'Bob', 'Sue', 'Mary', 'Allen']"
   ]
  },
  {
   "cell_type": "markdown",
   "metadata": {},
   "source": [
    "|  **Scenario:** |\n",
    "|---|\n",
    "|Create a standard deck of cards|\n",
    "|suits: H, D, S, C|\n",
    "|ranks: 2-10, J, Q, K, A|"
   ]
  },
  {
   "cell_type": "markdown",
   "metadata": {},
   "source": [
    "___\n",
    "___\n",
    "___\n",
    "# <span style=\"font-size: 50px; color:rgb(250, 250, 250); font-weight: bold;\">File IO</span>"
   ]
  },
  {
   "cell_type": "markdown",
   "metadata": {},
   "source": [
    "___\n",
    "___\n",
    "## <span style=\"font-size: 40px; color:rgb(200, 200, 200); font-weight: bold\">File Overview</span>"
   ]
  },
  {
   "cell_type": "markdown",
   "metadata": {},
   "source": [
    "Handling files requires knowing three parts:\n",
    "- <code>open()</code>\n",
    "- read and write operations\n",
    "- <code>close()</code>"
   ]
  },
  {
   "cell_type": "markdown",
   "metadata": {},
   "source": [
    "___\n",
    "___\n",
    "## <span style=\"font-size: 40px; color:rgb(200, 200, 200); font-weight: bold\">Opening Files</span>"
   ]
  },
  {
   "cell_type": "markdown",
   "metadata": {},
   "source": [
    "**File Modes**\n",
    "|Keyword | Description |\n",
    "| :----- | :-----------|\n",
    "| r | reads from file, this is used by default | \n",
    "| w | writes to a file, will overwrite if file exists |\n",
    "| a | appends to a file, will not overwrite |\n",
    "| x | creates a file if it does not exist |\n",
    "| b | allows for reading or writing to binary |\n",
    "| t | text mode, can read or write |\n",
    "| w+ or r+ | file must exist, can read and write |"
   ]
  },
  {
   "cell_type": "markdown",
   "metadata": {},
   "source": [
    "___\n",
    "___\n",
    "## <span style=\"font-size: 40px; color:rgb(200, 200, 200); font-weight: bold\">Reading Files</span>"
   ]
  },
  {
   "cell_type": "markdown",
   "metadata": {},
   "source": [
    "```with``` is used to do everything that has been taught but NOW there is no need to close because it **automatically** does it"
   ]
  },
  {
   "cell_type": "markdown",
   "metadata": {},
   "source": [
    "- When using the readlines() method, it returns a list of strings from the file.\n",
    "\n",
    "- The readlines will also return the new line character \\n, but there is a way to remove it as shown below:"
   ]
  },
  {
   "cell_type": "markdown",
   "metadata": {},
   "source": [
    "___\n",
    "___\n",
    "\n",
    "## <span style=\"font-size: 40px; color:rgb(200, 200, 200); font-weight: bold\">Writing Files</span>"
   ]
  },
  {
   "cell_type": "markdown",
   "metadata": {},
   "source": [
    "# Writing Text to a File \n",
    "\n",
    "```write()``` - writes a single string to a file\n",
    "```writelines()``` - writes a list of strings to a file, does not add newlines"
   ]
  },
  {
   "cell_type": "markdown",
   "metadata": {},
   "source": [
    "**write mode**"
   ]
  },
  {
   "cell_type": "markdown",
   "metadata": {},
   "source": [
    "**append mode**"
   ]
  },
  {
   "cell_type": "markdown",
   "metadata": {},
   "source": [
    "___\n",
    "___\n",
    "## <span style=\"font-size: 40px; color:rgb(200, 200, 200); font-weight: bold\">Closing Files</span>"
   ]
  },
  {
   "cell_type": "markdown",
   "metadata": {},
   "source": [
    "- A Python program could open a file, do the I/O operations, and close the file by issuing Python functions.\n",
    "- The ```close()``` method closes the file and may be explicitly coded as shown in the listing below.\n",
    "- Python will automatically close files when I/O operations are done in concert with the with statement.\n",
    "- Remember with closes the file automatically\n"
   ]
  },
  {
   "cell_type": "markdown",
   "metadata": {},
   "source": [
    "___\n",
    "___\n",
    "## <span style=\"font-size: 40px; color:rgb(200, 200, 200); font-weight: bold\">Seek and Tell</span>"
   ]
  },
  {
   "cell_type": "markdown",
   "metadata": {},
   "source": [
    "- The Python functions ```seek()``` and ```tell()``` allow a program to navigate the read/write pointer in a file and to report on the current position of the read/write pointer.\n",
    "\n",
    "- ```seek( pos )``` to position file at position pos for next I/O operation.\n",
    "\n",
    "- For example, ```seek(0)``` positions the read/write pointer to the beginning of the file. The ```seek()``` function takes an optional second parameter called whence which is an integer specifying where to start seeking from.\n",
    "\n",
    "- ```seek( pos, whence )``` when whence = 0 (the default value) tells Python to advance the pointer at the start of the file.\n",
    "\n",
    "- For example, the call ```seek( 100, 0 )``` tells Python to advance the read/write pointer 100 characters from the start of the file.\n",
    "\n",
    "- ```seek( pos, whence )``` when whence = 1 tells Python to advance the pointer at the current read/write position.\n",
    "\n",
    "- For example, the call ```seek( 100 )``` followed by ```seek(10, 1 )``` tells Python to _first advance 100 characters from the start of the file followed by advancing 10 characters from the current position, which is 100.\n",
    "\n",
    "- ```seek( pos, whence )``` when whence = 2 tells Python to advance the pointer first to the end of the file, then back up the read/write position by pos characters.\n",
    "\n",
    "- In short, whence = 2 tells Python to move the read/write pointer from the back of the file.\n",
    "\n",
    "- The ```tell()``` function returns an integer specifying the current position within the file of the read/write pointer."
   ]
  },
  {
   "cell_type": "markdown",
   "metadata": {},
   "source": [
    "___\n",
    "___\n",
    "___\n",
    "# <span style=\"font-size: 50px; color:rgb(250, 250, 250); font-weight: bold;\">Debugging</span>"
   ]
  },
  {
   "cell_type": "markdown",
   "metadata": {},
   "source": [
    "___\n",
    "___\n",
    "## <span style=\"font-size: 40px; color:rgb(200, 200, 200); font-weight: bold\">Try and Except</span>"
   ]
  },
  {
   "cell_type": "markdown",
   "metadata": {},
   "source": [
    "- try: test code\n",
    "\n",
    "- except: handles an error\n",
    "\n",
    "- else: continues when no error\n",
    "\n",
    "- finally: continues to execute without caring about the try and except"
   ]
  },
  {
   "cell_type": "markdown",
   "metadata": {},
   "source": [
    "| **Scenario** |\n",
    "| :---- |\n",
    "| test converting user input to int |\n",
    "| catch error: if contains all numbers and a single dot and the dot is in an index > 0, convert to float then int and prin the number, otherwise print This is not a number |\n",
    "| else print the number |\n",
    "| finally print this always prints |\n"
   ]
  },
  {
   "cell_type": "markdown",
   "metadata": {},
   "source": [
    "___\n",
    "___\n",
    "## <span style=\"font-size: 40px; color:rgb(200, 200, 200); font-weight: bold\">Rasing and Assertions</span>"
   ]
  },
  {
   "cell_type": "markdown",
   "metadata": {},
   "source": [
    "___\n",
    "___\n",
    "## <span style=\"font-size: 40px; color:rgb(200, 200, 200); font-weight: bold\">Logging</span>"
   ]
  },
  {
   "cell_type": "markdown",
   "metadata": {},
   "source": [
    "___\n",
    "___\n",
    "___\n",
    "# <span style=\"font-size: 50px; color:rgb(250, 250, 250); font-weight: bold;\">Standard Libraries</span>"
   ]
  },
  {
   "cell_type": "markdown",
   "metadata": {},
   "source": [
    "```python\n",
    "import libraryName\n",
    "import pythonScriptInSameDir.py\n",
    "import /path/to/script/pythonScript.py\n",
    "```"
   ]
  },
  {
   "cell_type": "markdown",
   "metadata": {},
   "source": [
    "```python\n",
    "import libraryName as aliasName\n",
    "```"
   ]
  },
  {
   "cell_type": "markdown",
   "metadata": {},
   "source": [
    "```python\n",
    "from libraryName import functionOrObject\n",
    "from libraryName import funtionOrObject as aliasName\n",
    "```"
   ]
  },
  {
   "cell_type": "markdown",
   "metadata": {},
   "source": [
    "___\n",
    "___\n",
    "## <span style=\"font-size: 40px; color:rgb(200, 200, 200); font-weight: bold\">Math</span>"
   ]
  },
  {
   "cell_type": "markdown",
   "metadata": {},
   "source": [
    "___\n",
    "___\n",
    "## <span style=\"font-size: 40px; color:rgb(200, 200, 200); font-weight: bold\">Random</span>"
   ]
  },
  {
   "cell_type": "markdown",
   "metadata": {},
   "source": [
    "___\n",
    "___\n",
    "## <span style=\"font-size: 40px; color:rgb(200, 200, 200); font-weight: bold\">String</span>"
   ]
  },
  {
   "cell_type": "markdown",
   "metadata": {},
   "source": [
    "___\n",
    "___\n",
    "## <span style=\"font-size: 40px; color:rgb(200, 200, 200); font-weight: bold\">Custom Scripts</span>"
   ]
  },
  {
   "cell_type": "markdown",
   "metadata": {},
   "source": [
    "___\n",
    "___\n",
    "___\n",
    "# <span style=\"font-size: 50px; color:rgb(250, 250, 250); font-weight: bold;\">Sorting</span>"
   ]
  },
  {
   "cell_type": "markdown",
   "metadata": {},
   "source": [
    "**Sorting Sequences**<br>\n",
    "```sorted(obj: iterable)``` takes an iterable type as an argument and returns all the elements in a sorted list.\n",
    "\n",
    "```sorted(obj: iterable, key=functionNameNotCall, reverse=false)```\n",
    "- ```key``` is an optional argument. It specifies the name of the function that alters the default property ```sorted()``` uses for comparing each element. it gets implicity called by the ```sorted()```. "
   ]
  },
  {
   "cell_type": "markdown",
   "metadata": {},
   "source": [
    "___\n",
    "___\n",
    "## <span style=\"font-size: 40px; color:rgb(200, 200, 200); font-weight: bold\">Strings</span>"
   ]
  },
  {
   "cell_type": "markdown",
   "metadata": {},
   "source": [
    "**Strings** are sorted by the characters' ascii value. By default sorting is in ascending or forward order."
   ]
  },
  {
   "cell_type": "markdown",
   "metadata": {},
   "source": [
    "```ord(char: str_where_lengnth_is_one)``` is a function that takes a single character string in ascii and returns the ascii integer value.\n",
    "```python\n",
    "ord('A') == 65\n",
    "```\n",
    "```chr(val: int)``` is a function that takes a single integer  and returns a string character corresponding to the value.\n",
    "```python\n",
    "ord('A') == 65\n",
    "```\n"
   ]
  },
  {
   "cell_type": "markdown",
   "metadata": {},
   "source": [
    "| Column 1 | Column 2 | Column 3 | Column 4 |\n",
    "| :------: | :------: | :------: | :------: |\n",
    "| ord(a)==097 | ord(b)==098 | ord(c)==099 | ord(d)==100 |\n",
    "| ord(e)==101 | ord(f)==102 | ord(g)==103 | ord(h)==104 |\n",
    "| ord(i)==105 | ord(j)==106 | ord(k)==107 | ord(l)==108 |\n",
    "| ord(m)==109 | ord(n)==110 | ord(o)==111 | ord(p)==112 |\n",
    "| ord(q)==113 | ord(r)==114 | ord(s)==115 | ord(t)==116 |\n",
    "| ord(u)==117 | ord(v)==118 | ord(w)==119 | ord(x)==120 |\n",
    "| ord(y)==121 | ord(z)==122 | ord(A)==065 | ord(B)==066 |\n",
    "| ord(C)==067 | ord(D)==068 | ord(E)==069 | ord(F)==070 |\n",
    "| ord(G)==071 | ord(H)==072 | ord(I)==073 | ord(J)==074 |\n",
    "| ord(K)==075 | ord(L)==076 | ord(M)==077 | ord(N)==078 |\n",
    "| ord(O)==079 | ord(P)==080 | ord(Q)==081 | ord(R)==082 |\n",
    "| ord(S)==083 | ord(T)==084 | ord(U)==085 | ord(V)==086 |\n",
    "| ord(W)==087 | ord(X)==088 | ord(Y)==089 | ord(Z)==090 |"
   ]
  },
  {
   "cell_type": "markdown",
   "metadata": {},
   "source": [
    "Sort the string: 'BaNanA'\n",
    "Print both the list of numbers and the list of ordinals"
   ]
  },
  {
   "cell_type": "markdown",
   "metadata": {},
   "source": [
    "Modify the sorted function to sort alphabetically instead of "
   ]
  },
  {
   "cell_type": "markdown",
   "metadata": {},
   "source": [
    "___\n",
    "___\n",
    "## <span style=\"font-size: 40px; color:rgb(200, 200, 200); font-weight: bold\">Tuples</span>"
   ]
  },
  {
   "cell_type": "markdown",
   "metadata": {},
   "source": [
    "Sort numbers"
   ]
  },
  {
   "cell_type": "markdown",
   "metadata": {},
   "source": [
    "Sort numbers in reverse"
   ]
  },
  {
   "cell_type": "markdown",
   "metadata": {},
   "source": [
    "Sort Strings"
   ]
  },
  {
   "cell_type": "markdown",
   "metadata": {},
   "source": [
    "___\n",
    "___\n",
    "## <span style=\"font-size: 40px; color:rgb(200, 200, 200); font-weight: bold\">Lists</span>"
   ]
  },
  {
   "cell_type": "markdown",
   "metadata": {},
   "source": [
    "Sort with sorted"
   ]
  },
  {
   "cell_type": "markdown",
   "metadata": {},
   "source": [
    "Sort with list.sorted"
   ]
  },
  {
   "cell_type": "markdown",
   "metadata": {},
   "source": [
    "___\n",
    "___\n",
    "## <span style=\"font-size: 40px; color:rgb(200, 200, 200); font-weight: bold\">Custom Keys</span>"
   ]
  },
  {
   "cell_type": "markdown",
   "metadata": {},
   "source": [
    "Sort the following based on port number:\n",
    "```python\n",
    "ports_monitored = [('HTTPS', 443),('SSH', 22),('FTP-data', 20), ('HTTP', 80)]\n",
    "```\n"
   ]
  },
  {
   "cell_type": "markdown",
   "metadata": {},
   "source": [
    "Open employees.txt return a list tuple tuple pairs (employee names, employee id) sorted by descending employee ID number"
   ]
  },
  {
   "cell_type": "markdown",
   "metadata": {},
   "source": [
    "___\n",
    "___\n",
    "___\n",
    "# <span style=\"font-size: 50px; color:rgb(250, 250, 250); font-weight: bold;\">Number Systems</span>"
   ]
  },
  {
   "cell_type": "markdown",
   "metadata": {},
   "source": [
    "___\n",
    "___\n",
    "## <span style=\"font-size: 40px; color:rgb(200, 200, 200); font-weight: bold\">Decimal</span>"
   ]
  },
  {
   "cell_type": "code",
   "execution_count": null,
   "metadata": {},
   "outputs": [],
   "source": []
  },
  {
   "cell_type": "markdown",
   "metadata": {},
   "source": [
    "___\n",
    "___\n",
    "## <span style=\"font-size: 40px; color:rgb(200, 200, 200); font-weight: bold\">Binary</span>"
   ]
  },
  {
   "cell_type": "markdown",
   "metadata": {},
   "source": [
    "___\n",
    "___\n",
    "## <span style=\"font-size: 40px; color:rgb(200, 200, 200); font-weight: bold\">Octal</span>"
   ]
  },
  {
   "cell_type": "markdown",
   "metadata": {},
   "source": [
    "___\n",
    "___\n",
    "## <span style=\"font-size: 40px; color:rgb(200, 200, 200); font-weight: bold\">Hexidecimal</span>"
   ]
  },
  {
   "cell_type": "markdown",
   "metadata": {},
   "source": [
    "___\n",
    "___\n",
    "___\n",
    "# <span style=\"font-size: 50px; color:rgb(250, 250, 250); font-weight: bold;\">Sets and Dictionaries</span>"
   ]
  },
  {
   "cell_type": "markdown",
   "metadata": {},
   "source": [
    "___\n",
    "___\n",
    "## <span style=\"font-size: 40px; color:rgb(200, 200, 200); font-weight: bold\">Introduction</span>"
   ]
  },
  {
   "cell_type": "markdown",
   "metadata": {},
   "source": [
    "### Objectives \n",
    "\n",
    "- Utilize dictionaries to store key/value pairs.\n",
    "- Add and delete key/value pairs.\n",
    "- Retrieve individual values.\n",
    "- Retrieve all keys, values, and key/value pairs with the use of dictionary methods.\n",
    "- Utilize sets to store unique collections of data.\n",
    "- Utilize set methods to compare collections of data among multiple sets.\n",
    "\n",
    "\n",
    "### TLO KNOWLEDGE AND SKILLS\n",
    "### Conditions:\n",
    "Given a classroom, applicable references, and a practical exercise, the Cyber Mission Force student will demonstrate an understanding of python containers.\n",
    "\n",
    "### Knowledge:\n",
    "- Identify the components that build a Python dictionary\n",
    "- Demonstrate methods used to access components of a Python dictionary\n",
    "\n",
    "### Skills:\n",
    "- Working knowledge of to build dicitonaries to store data\n",
    "- Knowledge of dictionary container"
   ]
  },
  {
   "cell_type": "markdown",
   "metadata": {},
   "source": [
    "___\n",
    "___\n",
    "## <span style=\"font-size: 40px; color:rgb(200, 200, 200); font-weight: bold\">Dictionaries\n",
    "</span>"
   ]
  },
  {
   "cell_type": "markdown",
   "metadata": {},
   "source": [
    "- A `dict()` (dictionary) is an ordered collection of entries.\n",
    " \n",
    "- Each entry contains a `key:value` pair.\n",
    "   - Think of Webster's dictionary. The word is the `key` and the definition is the `value`\n",
    "\n",
    "- Dictionaries maintain their order of insertion - Last In, First Out (LIFO). \n",
    " \n",
    "- Dictionary keys have to be both unique and hashable. In other words a `key` can NOT be duplicated\n",
    "\n",
    "More on dictionaries can be found at: \n",
    "\n",
    "- [W3Schools](https://www.w3schools.com/python/python_dictionaries.asp)\n",
    "- [Python Docs](https://docs.python.org/3/tutorial/datastructures.html#dictionaries)"
   ]
  },
  {
   "cell_type": "markdown",
   "metadata": {},
   "source": [
    "### Creating Dictionaries \n",
    "\n",
    "- Two ways to create a dictionary, using `dict()` or `{}`\n",
    "\n",
    "<br>\n",
    "\n",
    "```py\n",
    "# Creating an empty dictionary\n",
    "dictionary = dict()\n",
    "dictionary2 = {}\n",
    "```"
   ]
  },
  {
   "cell_type": "markdown",
   "metadata": {},
   "source": [
    "Scenario: Create two dictionaries using ```{}```\n",
    "| Name | Keys | Values |\n",
    "| :------- | :--- | :----- |\n",
    "| names | key_1, key_2, key_3 | Bill, Jill, Gill |\n",
    "| numbers | 1, 2, 3 | 'one', 'two', 'three' |"
   ]
  },
  {
   "cell_type": "markdown",
   "metadata": {},
   "source": [
    "| Scenario |\n",
    "| :----- |\n",
    "| Access the ```names``` and retrieve ```'Jill'``` |\n",
    "| Save the value to the variable ```name_2``` |"
   ]
  },
  {
   "cell_type": "markdown",
   "metadata": {},
   "source": [
    "- Dictionaries also have a `.get()` method that can be used to retrieve the value for a given key.\n",
    " \n",
    "   - ` dict_name.get(key, default) `\n",
    " \n",
    "   - If a value for default is not provided, the `None` object will be returned."
   ]
  },
  {
   "cell_type": "markdown",
   "metadata": {},
   "source": [
    "### Finding Keys/Values\n",
    "- The `in` and `not in` operators can be used to determine if a specific `key` or `value` exists in the `dictionary`.\n",
    " \n",
    "- Both operators will return a `True` or `False` value.\n",
    " \n",
    "- When used with the entire `dictionary`, the operators search for the `value` in the `keys` of the `dictionary`.\n",
    " \n",
    "- The view returned by the values method can be used to search for a `value` in the values of the dictionary.\n"
   ]
  },
  {
   "cell_type": "markdown",
   "metadata": {},
   "source": [
    "### Adding and Updating Key:Value Pairs\n",
    "- Dictionaries are designed as a data structure that provide fast look-ups into the structure by key. Sub-script notation can be used to add new key/value pairs and to modify existing values for a given key.\n",
    " \n",
    "- `dict_name[key]` will retrieve the value associated to the given key.\n",
    " \n",
    "- If the key does not exist, a `KeyError` exception is raised\n",
    "\n",
    "- `dict_name[key] = value` will either add a new `key`:`value` pair, or modify the `value` associated to the given `key`.\n",
    " "
   ]
  },
  {
   "cell_type": "markdown",
   "metadata": {},
   "source": [
    "| Scenario |\n",
    "| :----- |\n",
    "| Using the `names` dictionary |\n",
    "| first use the syntax ```names[key] = value``` to add a new key value pair|\n",
    "| then use the syntax ```names.update({key:value, key:value})``` to update key_1 with a new value and add a new key value pair |"
   ]
  },
  {
   "cell_type": "markdown",
   "metadata": {},
   "source": [
    "Demonstrate the ```+=``` operator with dictionaries"
   ]
  },
  {
   "cell_type": "markdown",
   "metadata": {},
   "source": [
    "| Scenario |\n",
    "| :--- |\n",
    "| Create a function that takes a file name as input and: |\n",
    "| Opens the file |\n",
    "| returns a dictionary where each unique letter in the file are the keys and the values are their corresponding count |"
   ]
  },
  {
   "cell_type": "markdown",
   "metadata": {},
   "source": [
    "- When there is a need to work with all `key/value` pairs in a dictionary, the following methods are useful.\n",
    " \n",
    "- The `.keys()` method returns a view of the dictionary keys.\n",
    " \n",
    "- The `.values()` method returns a view of the dictionary values.\n",
    " \n",
    "- The `.items()` method returns a view of the dictionary items.\n",
    " \n",
    "- Each item in the view returned by `.items()` is a 2 item `tuple` consisting of a `key` and a `value`.\n",
    " \n",
    "- Each of the views can also be converted to a `list` or a `tuple` by passing the view to a `list()` or `tuple()` constructor."
   ]
  },
  {
   "cell_type": "markdown",
   "metadata": {},
   "source": [
    "Create a new `dictionary` that uses state abbreviations as the `key` and the full name as the `value`.\n",
    "\n",
    "- show ```.keys()```\n",
    "- show ```.values()```\n",
    "- show ```.items()```"
   ]
  },
  {
   "cell_type": "markdown",
   "metadata": {},
   "source": [
    "iterate over ```.keys()```"
   ]
  },
  {
   "cell_type": "markdown",
   "metadata": {},
   "source": [
    "iterate over ```.values()```"
   ]
  },
  {
   "cell_type": "markdown",
   "metadata": {},
   "source": [
    "iterate over ```.items()```"
   ]
  },
  {
   "cell_type": "markdown",
   "metadata": {},
   "source": [
    "| Scenario |\n",
    "| :--- |\n",
    "| create a function that repeatedly asks the user for input |\n",
    "| the function has a two dictionaries menu: food|price and order food|qantity\n",
    "| as the user enters input add valid food orders to the order dictionary and update the quantity ordered |\n",
    "|return the order's total price |"
   ]
  },
  {
   "cell_type": "markdown",
   "metadata": {},
   "source": [
    "___\n",
    "___\n",
    "## <span style=\"font-size: 40px; color:rgb(200, 200, 200); font-weight: bold\">Sets\n",
    "</span>"
   ]
  },
  {
   "cell_type": "markdown",
   "metadata": {},
   "source": [
    "### About Sets\n",
    "\n",
    "- Sets are not ordered, do not allow for duplicates, and all items must be immutable. \n",
    "- To create a set use `set() `\n",
    "- ` s = set() `\n",
    "- Sets also allow for different data types.\n",
    "\n",
    "More on sets can be found at: \n",
    "\n",
    "- [W3Schools](https://www.w3schools.com/python/python_sets.asp)\n",
    "- [Python Docs](https://docs.python.org/3/tutorial/datastructures.html#sets)"
   ]
  },
  {
   "cell_type": "markdown",
   "metadata": {},
   "source": [
    "Use cases:\n",
    "- get unique values from list\n",
    "- compare collections\n"
   ]
  },
  {
   "cell_type": "markdown",
   "metadata": {},
   "source": [
    "Show valid values in sets and empty set"
   ]
  },
  {
   "cell_type": "markdown",
   "metadata": {},
   "source": [
    "Convert a list, string, and tuple to a set"
   ]
  },
  {
   "cell_type": "markdown",
   "metadata": {},
   "source": [
    "| Scenario |\n",
    "| :--- |\n",
    "| Create function that returns a dictionary of the count of all unique words |\n",
    "| Update the dictionary only one time for each unique word |"
   ]
  },
  {
   "cell_type": "markdown",
   "metadata": {},
   "source": [
    "Add items to a set"
   ]
  },
  {
   "cell_type": "markdown",
   "metadata": {},
   "source": [
    "Remove Items from a Set"
   ]
  },
  {
   "cell_type": "markdown",
   "metadata": {},
   "source": [
    "Insetsection, Difference, Union"
   ]
  },
  {
   "cell_type": "markdown",
   "metadata": {},
   "source": [
    "Who in B Co does NOT have a TS clearance?"
   ]
  },
  {
   "cell_type": "markdown",
   "metadata": {},
   "source": [
    "Who in A Co has NO clearance?"
   ]
  },
  {
   "cell_type": "markdown",
   "metadata": {},
   "source": [
    "Who in A Co at least has a SECRET clearance?"
   ]
  },
  {
   "cell_type": "markdown",
   "metadata": {},
   "source": [
    "Who in A CO **ONLY** has a SECRET clearance"
   ]
  },
  {
   "cell_type": "markdown",
   "metadata": {},
   "source": [
    "___\n",
    "___\n",
    "___\n",
    "# <span style=\"font-size: 50px; color:rgb(250, 250, 250); font-weight: bold;\">\\*args and \\*\\*kwargs </span>"
   ]
  },
  {
   "cell_type": "markdown",
   "metadata": {},
   "source": [
    "___\n",
    "___\n",
    "## <span style=\"font-size: 40px; color:rgb(200, 200, 200); font-weight: bold\">Introduction\n",
    "</span>"
   ]
  },
  {
   "cell_type": "markdown",
   "metadata": {},
   "source": [
    "### Objectives \n",
    "\n",
    "- Understand the difference between positional and keyword arguments in Python\n",
    "- Define functions with positional and keyword parameters\n",
    "- Utilize default values for keyword parameters\n",
    "- Utilize both positional and keyword arguments when calling functions\n",
    "- Understand the use of the *args and **kwargs syntax for flexible argument passing\n",
    "- Create lambda functions \n",
    "\n",
    "\n",
    "\n",
    "### TLO KNOWLEDGE AND SKILLS\n",
    "### Conditions:\n",
    "Given a classroom, applicable references, and a practical exercise, the Cyber Mission Force student will demonstrate an understanding of python containers.\n",
    "\n",
    "### Knowledge:\n",
    "- Identify the difference between positional and keyword parameters.\n",
    "- Understand the use of default values and how they affect function calls.\n",
    "\n",
    "### Skills:\n",
    "- Working knowledge of defining and calling functions with positional and keyword arguments.\n",
    "- Ability to effectively use *args and **kwargs to handle varying numbers of arguments.\n"
   ]
  },
  {
   "cell_type": "markdown",
   "metadata": {},
   "source": [
    "___\n",
    "___\n",
    "## <span style=\"font-size: 40px; color:rgb(200, 200, 200); font-weight: bold\">Positional Arguments\n",
    "</span>"
   ]
  },
  {
   "cell_type": "markdown",
   "metadata": {},
   "source": [
    "So far every function you have worked with has used a fixed number of positional arguments.\n",
    "\n",
    "A helpful reminder on the breakdown of a function:\n",
    "\n",
    "```python\n",
    "def function_name(parameter1, parameter2):\n",
    "    print(f'argument_1 is assigned to {parameter1}')\n",
    "    print(f'argument_2 is assigned to {parameter2}')\n",
    "\n",
    "function_name('this is argument_1', 'this is argument_2')\n",
    "\n",
    "#output:  argument_1 is assigned to this is argument_1\n",
    "#         argument_2 is assigned to this is argument_2\n",
    "\n",
    "```\n",
    "\n",
    "In the example above, `parameter1` and `parameter2` are positional parameters that 'pick up' the positional arguments in the order in which they were passed into the function.\n",
    "\n",
    "A fixed number of parameters isn't always ideal. Using argument packing and unpacking can help our functions become more dynamic and accepting of more than just a fixed number of parameters."
   ]
  },
  {
   "cell_type": "markdown",
   "metadata": {},
   "source": [
    "___\n",
    "___\n",
    "## <span style=\"font-size: 40px; color:rgb(200, 200, 200); font-weight: bold\">Default Parameters\n",
    "</span>"
   ]
  },
  {
   "cell_type": "markdown",
   "metadata": {},
   "source": [
    "- Optional arguments depend on default parameter values.\n",
    "\n",
    "- When the optional argument is not included when calling the function, the function uses the default value coded in the function definition.\n",
    "\n",
    "\n",
    "- Default arguments must follow non-default arguments.\n",
    "\n",
    "- Python requires that default parameters must follow non-default (required) parameters as shown below:\n",
    "\n",
    "```py\n",
    "def func_1(para1 = \"This is a string\", para2):\n",
    "   return (para1, para2)\n",
    "\n",
    "print(func_1(para1, para2))\n",
    "#SyntaxError: non-default argument follows default argument\n",
    "```"
   ]
  },
  {
   "cell_type": "markdown",
   "metadata": {},
   "source": [
    "___\n",
    "___\n",
    "## <span style=\"font-size: 40px; color:rgb(200, 200, 200); font-weight: bold\">Keyword Arguments\n",
    "</span>"
   ]
  },
  {
   "cell_type": "markdown",
   "metadata": {},
   "source": [
    "- Keyword arguments are arguments that can be bound to data by their parameter name.\n",
    "\n",
    "- Required parameters must have argument data bound to the parameters.\n",
    "\n",
    "- Optional arguments need not have argument data bound to the parameters.\n",
    "\n",
    "- For optional arguments, the bound data may not be argument data; bound data may come from the function definition.\n",
    "\n",
    "- A keyword argument is coded with the name of the corresponding parameter. The argument is coded with the name, not the parameter.\n",
    "\n",
    "```py\n",
    "def func_1(para):\n",
    "   return(para)\n",
    "\n",
    "print(func_1(para=100))\n",
    "print(func_1('This is a string!'))\n",
    "```\n",
    "!!! NOTE \n",
    "    The first call to func_1() uses a keyword argument; the second call does not.\n",
    "\n",
    "- Python allows the use of both keyword arguments and non-keyword arguments.\n",
    "\n",
    "- However, the non-keyword argument must be coded before the keyword argument.\n",
    "\n",
    "\n",
    "\n",
    "```py\n",
    "def func_1(para1, para2):\n",
    "   return (para1, para2)\n",
    "\n",
    "print(func_1(para1=100, para2 = \"This is a string\"))\n",
    "print(func_1(para1 = 'This is a string!', para2 = [1,2,3]))\n",
    "\n",
    "#output:\n",
    "#(100, 'This is a string')\n",
    "#('This is a string!', [1, 2, 3])"
   ]
  },
  {
   "cell_type": "markdown",
   "metadata": {},
   "source": [
    "___\n",
    "___\n",
    "## <span style=\"font-size: 40px; color:rgb(200, 200, 200); font-weight: bold\">Arbitrary Arguments\n",
    "</span>"
   ]
  },
  {
   "cell_type": "markdown",
   "metadata": {},
   "source": [
    "- Python allows for functions to treat a sequence parameter as a single argument or as a group of arguments corresponding to sequence elements.\n",
    "- Code for a varying number of positional parameters of unknown number as follows:\n",
    "\n",
    "## Positional Arguments\n",
    "```py \n",
    "def func_vary (*arbitrary_args):\n",
    "```\n",
    "- Python may pass several arguments to func_vary():\n",
    "```py\n",
    "func_vary(12, \"A string\", [1,2,'a'])\n",
    "```\n",
    "\n",
    "```py\n",
    "def func(*arbitrary_args):\n",
    "   print(\"Number of arguments passes: \", len(arbitrary_args))\n",
    "\n",
    "func(1,2,3,4)\n",
    "#ouput:   #Number of arguments passes:  4\n",
    "func(\"String\")\n",
    "#ouput:   #Number of arguments passes:  1\n",
    "func([1,2,3,4])\n",
    "#ouput:   #Number of arguments passes:  1\n",
    "```\n",
    "\n",
    "```py\n",
    "def func(*arbitrary_args):\n",
    "   print(arbitrary_args)\n",
    "\n",
    "tup = (1,2,\"string\")\n",
    "\n",
    "func(*tup)  # unpacking the tuple\n",
    "#output:  #(1, 2, 'string')\n",
    "\n",
    "func(tup)  # seeing tup as 1-element tuple\n",
    "#output:  #((1, 2, 'string'),)\n",
    "```\n",
    "\n"
   ]
  },
  {
   "cell_type": "markdown",
   "metadata": {},
   "source": [
    "### Keyword Arguments\n",
    "\n",
    "- Python allows for function to treat a dictionary parameter as a single argument or as a group of arguments corresponding to `keyword`/`value` pairs.\n",
    "\n",
    "- Code the function definition that accepts a varying number of keyword arguments as follows:\n",
    "\n",
    "\n",
    "```py\n",
    "def func(**dict_arg):\n",
    "   print(\"The len of args: \", len(dict_arg))\n",
    "   print(\"arguments: \", dict_arg)\n",
    "\n",
    "func()\n",
    "#output :\n",
    "#The len of args:  0\n",
    "#arguments:  {}\n",
    "\n",
    "func(arg1 = \"String\", arg2 = [1,2,3], arg3= (1,2,3))\n",
    "#output :\n",
    "#The len of args:  3\n",
    "#arguments:  {'arg1': 'String', 'arg2': [1, 2, 3], 'arg3': (1, 2, 3)}\n",
    "\n",
    "kwarg_dict = {'arg1':['Value 1'], 'arg2':'Value 2', 'arg3': ['Value', 3]}\n",
    "func(**kwarg_dict)  #unpacking the dictionary keyword and values into the function (just like the previous function call worked)\n",
    "#output :\n",
    "#The len of args:  3\n",
    "#arguments:  {'arg1': ['Value 1'], 'arg2': 'Value 2', 'arg3': ['Value', 3]}"
   ]
  },
  {
   "cell_type": "markdown",
   "metadata": {},
   "source": [
    "___\n",
    "___\n",
    "## <span style=\"font-size: 40px; color:rgb(200, 200, 200); font-weight: bold\">Lambdas\n",
    "</span>"
   ]
  },
  {
   "cell_type": "markdown",
   "metadata": {},
   "source": [
    "- lambda is a Python keyword\n",
    "- A lambda may contain only one statement\n",
    "- Lambdas cannot contain certain Python statements\n",
    "- In particular, the  `return`, `pass`, `assert`, `raise` statements may not be coded in a lambda\n",
    "- Lambdas always `return` a value.\n",
    "- More information on lambdas can be found at:\n",
    "    - [W3schools](https://www.w3schools.com/python/python_lambda.asp)\n",
    "    - [Python Docs](https://docs.python.org/3/tutorial/controlflow.html#lambda-expressions)\n",
    "\n",
    "Lambda Syntax:\n",
    "\n",
    "`func_name_as_var = lambda param : expression` \n",
    "\n",
    "- The expression will be filled in with the action to perform on param\n",
    "\n",
    "Example: \n",
    "\n",
    "```py\n",
    "add_10 = lambda num : num + 10\n",
    "\n",
    "print(f'lambda: {add_10(50)}')\n",
    "\n",
    "#the above is the 'shorthand' version of the same thing listed below: \n",
    "\n",
    "def add_10(num):\n",
    "    return num + 10\n",
    "\n",
    "print(f'function: {add_10(50)}')"
   ]
  },
  {
   "cell_type": "markdown",
   "metadata": {},
   "source": [
    "___\n",
    "___\n",
    "___\n",
    "# <span style=\"font-size: 50px; color:rgb(250, 250, 250); font-weight: bold;\">Python OOP</span>"
   ]
  },
  {
   "cell_type": "markdown",
   "metadata": {},
   "source": [
    "- In Python every value is some kind of object.  More specifically, an object is an instance of a class\n",
    "   - We have seen multiple classes in this course and instances of those classes:\n",
    "\n",
    "| class | object |\n",
    "| :--- | ---: |\n",
    "| int | 7 |\n",
    "| float | 3.14 |\n",
    "| str | 'hello\" |\n",
    "| bool | True |\n",
    "| list | [1,2,3,4] |\n",
    "| tuple | (1,2,3,4) |\n",
    "| set | {1,2,3} |\n",
    "| dict | {'a':1} |"
   ]
  },
  {
   "cell_type": "markdown",
   "metadata": {},
   "source": [
    "- Programmers speak of an 'OO style', or paradigm, of software development. The style involved organizes apps by creating modules called objects.\n",
    "- An **object** in OO style is a code module that models an entity identified in the problem domain.\n",
    "- The model stresses that the object is a happy amalgam of data and procedure, often expressed as object attributes and object behaviors.\n",
    "- **Object attributes** are coded as Python names bound to values.\n",
    "- **Object behaviors** are coded as Python functions (called methods in OO-speak).\n",
    "- The OO methodology calls for breaking problems into code modules (objects!) that represent things (entities) in the problem domain.\n",
    "\n",
    "- The different modules (each one representing something) communicate with each other during the app’s execution.\n",
    "- One module may send a message to another module which may cause the other module to react (execute a method corresponding to a behavior) which may change data in the object and/or send a message to another object, and so one.\n",
    "- The objects changing their data, executing methods in accordance to their designed behaviors result in an end state of the completion of the application’s work (the reason the app was developed in the first place)."
   ]
  },
  {
   "cell_type": "markdown",
   "metadata": {},
   "source": [
    "| class | methods (not exhaustive) |\n",
    "| :-- | --: |\n",
    "| str | isdigit, upper, title |\n",
    "| list | append, insert, sort |\n",
    "| set | add, intersection, difference |\n",
    "| dict | update, keys, items |"
   ]
  },
  {
   "cell_type": "markdown",
   "metadata": {},
   "source": [
    "## Creating Objects \n",
    "\n",
    "- In Python (and other OO languages) the programmer can use a special function called the class **constructor** (often referred to as the CTOR) to create objects.\n",
    "   - The classes we have seen in this course have constructors\n",
    "   - For example, to create an empty set, we use the constructor ```set()```, to create an empty dictionary we use the constructor ```dict()```."
   ]
  },
  {
   "cell_type": "markdown",
   "metadata": {},
   "source": [
    "## Creating Custom Classes\n",
    "- Python provides the programmer the ability to make custom classes.  This is important since Python's built-in classes are not versatile enough to handle everything a programmer might want to include in an app.\n",
    "### ```class``` keyword\n",
    "- We use the ```class``` keyword to create custom classes.\n",
    "- The syntax is ```class Classname:``` with at least one indented line underneath the class declaration.  The name of the class should follow variable naming rules, however by convention most programmers capitalize the first letter of class names."
   ]
  },
  {
   "cell_type": "markdown",
   "metadata": {},
   "source": [
    "| Scenario |\n",
    "| :---- |\n",
    "| create a class DeliveryTruck |\n",
    "| The truck a has max capacity of 1000 boxes |\n",
    "| The truck has DOT number |\n",
    "| The truck has a current capacity |\n",
    "| The truck can deliver a specified number of boxes but not more than its current capacity, when the action is complete it prints(xxx boxesd delivered)|\n",
    "| The truck can receive boxes up to its max capacity, when the action is complete, it prints(xxx boxes received). If the truck is full, it also prints(truck full) |\n",
    "| when printing the truck, it prints(truck: {DOT NUM}, current load: {current capacity}) |"
   ]
  },
  {
   "cell_type": "markdown",
   "metadata": {},
   "source": [
    "___\n",
    "___\n",
    "___\n",
    "# <span style=\"font-size: 50px; color:rgb(250, 250, 250); font-weight: bold;\">Networking</span>"
   ]
  },
  {
   "cell_type": "markdown",
   "metadata": {},
   "source": [
    "## **Byte Strings**"
   ]
  },
  {
   "cell_type": "markdown",
   "metadata": {},
   "source": [
    "UDP Echo Server"
   ]
  },
  {
   "cell_type": "markdown",
   "metadata": {},
   "source": [
    "UDP Echo Client"
   ]
  },
  {
   "cell_type": "markdown",
   "metadata": {},
   "source": [
    "TCP QOTD Server"
   ]
  },
  {
   "cell_type": "markdown",
   "metadata": {},
   "source": [
    "TCP QOTD Client"
   ]
  },
  {
   "cell_type": "markdown",
   "metadata": {},
   "source": [
    "___\n",
    "___\n",
    "___\n",
    "# <span style=\"font-size: 50px; color:rgb(250, 250, 250); font-weight: bold;\">Python Fundementals</span>"
   ]
  },
  {
   "cell_type": "markdown",
   "metadata": {},
   "source": [
    "___\n",
    "___\n",
    "## <span style=\"font-size: 40px; color:rgb(200, 200, 200); font-weight: bold\">Introduction</span>"
   ]
  },
  {
   "cell_type": "markdown",
   "metadata": {},
   "source": [
    "### <span style=\"font-size: 30px; color:rgb(150, 150, 150); font-weight: bold\">Video</span>"
   ]
  },
  {
   "cell_type": "markdown",
   "metadata": {},
   "source": [
    "<video width=\"auto\" height=\"auto\" controls>\n",
    "     <source src=\"PythonIntroVideo.mp4\" type=\"video/mp4\">\n",
    "</video>"
   ]
  },
  {
   "cell_type": "markdown",
   "metadata": {},
   "source": [
    "___\n",
    "### <span style=\"font-size: 30px; color:rgb(150, 150, 150); font-weight: bold\">Objectives</span>"
   ]
  },
  {
   "cell_type": "markdown",
   "metadata": {},
   "source": [
    "<span style=\"font-size: 15px; color:rgb(250, 250, 250)\"><ul>\n",
    "<li>Understand programming’s role as sequential instructions</li>\n",
    "<li>Explore types of programming languages</li>\n",
    "<li>Compare syntax of English and Python</li>\n",
    "<li>Learn the different approaches to following instructions, interactive vs. batch</li>\n",
    "<li>Understand the difference between interpreted and compiled programming languages</li>\n",
    "<li>Understand the difference between code and data</li>\n",
    "<li>Understand the differences between python/python2/python3</li>\n",
    "<li>Running Python programs from the command line</li>\n",
    "<li>Use the Python REPL: Read-Evaluate-Print-Loop</li>\n",
    "<li>Understand literals</li>\n",
    "<li>Find and access Python documentation</li>\n",
    "<li>Access <code>help()</code></li>\n",
    "<li>Describe Python keywords and objects with <code>dir()</code></li>\n",
    "<li>Exit the Python shell</li>\n",
    "<li>Use comments</li>\n",
    "<li>Use preferred style for Python programs</li>\n",
    "</ul></span>"
   ]
  },
  {
   "cell_type": "markdown",
   "metadata": {},
   "source": [
    "___\n",
    "### <span style=\"font-size: 30px; color:rgb(150, 150, 150); font-weight: bold\">TLO Knowledge and Skills</span>"
   ]
  },
  {
   "cell_type": "markdown",
   "metadata": {},
   "source": [
    "#### <hr style=\"border-style:dashed\"><span style=\"font-size: 25px; color:rgb(100, 100, 100); font-weight: bold\">Condition</span>"
   ]
  },
  {
   "cell_type": "markdown",
   "metadata": {},
   "source": [
    "<span style=\"font-size: 15px; color:rgb(250, 250, 250)\">Given a classroom, applicable references, and a practical exercise, the Cyber Mission Force student will demonstrate an understanding of python fundamentals.</span>"
   ]
  },
  {
   "cell_type": "markdown",
   "metadata": {},
   "source": [
    "#### <hr style=\"border-style:dashed\"><span style=\"font-size: 25px; color:rgb(100, 100, 100); font-weight: bold\">Knowledge</span>"
   ]
  },
  {
   "cell_type": "markdown",
   "metadata": {},
   "source": [
    "<span style=\"font-size: 15px; color:rgb(250, 250, 250)\"><ul>\n",
    "<li>Python Overview</li>\n",
    "<li>Basic Python Syntax</li>\n",
    "<li>Common Python Grammar</li>\n",
    "<li>Differences between Interactive Read-Eval-Print Loop (REPL)</li>\n",
    "<li>Shell vs. Batch</li>\n",
    "<li>Execution of Python code from the Command Line</li>\n",
    "<li>Execution of Python code in an Interactive Read-Eval-Print Loop (REPL) Shell</li>\n",
    "</ul></span>"
   ]
  },
  {
   "cell_type": "markdown",
   "metadata": {},
   "source": [
    "#### <hr style=\"border-style:dashed\"><span style=\"font-size: 25px; color:rgb(100, 100, 100); font-weight: bold\">Skills</span>"
   ]
  },
  {
   "cell_type": "markdown",
   "metadata": {},
   "source": [
    "<span style=\"font-size: 15px; color:rgb(250, 250, 250)\"><ul>\n",
    "<li>Identify Python Documentation.</li>\n",
    "<li>Utilize Python Help functions.</li>\n",
    "<li>Understand Basic Python Syntax.</li>\n",
    "<li>Utilize Python from Command Line.</li>\n",
    "<li>Utilize Python from Interactive Read-Eval-Print Loop (REPL) Shell.</li>\n",
    "</ul></span>"
   ]
  },
  {
   "cell_type": "markdown",
   "metadata": {},
   "source": [
    "___\n",
    "### <span style=\"font-size: 30px; color:rgb(150, 150, 150); font-weight: bold\">Assessments</span>"
   ]
  },
  {
   "cell_type": "markdown",
   "metadata": {},
   "source": [
    "<span style=\"font-size: 15px; color:rgb(250, 250, 250)\"><ul>\n",
    "<li>Check on Learnings</li>\n",
    "<li>Group PE's</li>\n",
    "<li>PE's</li>\n",
    "</ul></span>"
   ]
  },
  {
   "cell_type": "markdown",
   "metadata": {},
   "source": [
    "___\n",
    "### <span style=\"font-size: 30px; color:rgb(150, 150, 150); font-weight: bold\">Classroom Rules</span>"
   ]
  },
  {
   "cell_type": "markdown",
   "metadata": {},
   "source": [
    "<span style=\"font-size: 15px; color:rgb(250, 250, 250)\"><ul>\n",
    "<li>No AI assistance</li>\n",
    "<li>Take notes</li>\n",
    "<li>Participate</li>\n",
    "<li>No games, social media, or email (other than uploading/downloading personal notes)</li>\n",
    "<li>No conduting searches/business other than coding</li>\n",
    "<li>Aiding peers is encouraged, <b>this does not mean providing answers</b></li>\n",
    "<li>Release criteria: everyone achieves a minimum of 70% completion of all PEs</li>\n",
    "<li>Additional criteria: fullfill all building cleaning duties</li>\n",
    "<li><b>Class leader</b> is in charge of accountability and time keeping (break schedule)</li>\n",
    "</ul></span>"
   ]
  },
  {
   "cell_type": "markdown",
   "metadata": {},
   "source": [
    "___\n",
    "### <span style=\"font-size: 30px; color:rgb(150, 150, 150); font-weight: bold\">Risk Mitigation</span>"
   ]
  },
  {
   "cell_type": "markdown",
   "metadata": {},
   "source": [
    "<span style=\"font-size: 15px; color:rgb(250, 250, 250)\"><ul>\n",
    "<li>NSTR for environmental concerns (rereduce, reuse, recylce)</li>\n",
    "<li>This is a computer room, be mindful of wires, and ensure all beverages have lids</li>\n",
    "<li>In the event of a fire<ul>\n",
    "<li>Proceed to nearest safe fire exit</li>\n",
    "<li>Meet by the picnic tables in north parking lot</li>\n",
    "</ul</li>\n",
    "</ul></span>"
   ]
  },
  {
   "cell_type": "markdown",
   "metadata": {},
   "source": [
    "___\n",
    "### <span style=\"font-size: 30px; color:rgb(150, 150, 150); font-weight: bold\">Relevancy Past and Present</span>"
   ]
  },
  {
   "cell_type": "markdown",
   "metadata": {},
   "source": [
    "___\n",
    "___\n",
    "## <span style=\"font-size: 40px; color:rgb(200, 200, 200); font-weight: bold\">What is Python</span>"
   ]
  },
  {
   "cell_type": "markdown",
   "metadata": {},
   "source": [
    "___\n",
    "### <span style=\"font-size: 30px; color:rgb(150, 150, 150); font-weight: bold\">What is Python</span>"
   ]
  },
  {
   "cell_type": "markdown",
   "metadata": {},
   "source": [
    "<span style=\"font-size: 15px; color:rgb(250, 250, 250)\">\n",
    "Python is a <b>high-level</b>, <b>interpreted</b> programming language known for simplicity and readability.<br>\n",
    "<ul>\n",
    "  <li>Define high-level.</li>\n",
    "  <li>Define interpreted.</li>\n",
    "</ul>\n",
    "</span>"
   ]
  },
  {
   "cell_type": "markdown",
   "metadata": {},
   "source": [
    "___\n",
    "### <span style=\"font-size: 30px; color:rgb(150, 150, 150); font-weight: bold\">Benefits to Python</span>"
   ]
  },
  {
   "cell_type": "markdown",
   "metadata": {},
   "source": [
    "<span style=\"font-size: 15px; color:rgb(250, 250, 250)\">\n",
    "\n",
    "- **Powerful**: Python has a \"batteries included\" philosophy with thousands of 3rd party libraries as well\n",
    "\n",
    "- **Fast**: Coding is fast, execution performance is reasonable for many application\n",
    "\n",
    "- **Plays** well with others: C code can be called from Python and modules for Python can be written in C\n",
    "\n",
    "- **Runs everywhere**: Windows, Linux/UNIX, macOS, Other\n",
    "\n",
    "- **Simple and Easy to learn**: Managed, interpreted, simple syntax\n",
    "\n",
    "- **Open Source**: For personal and commercial use\n",
    "</span>"
   ]
  },
  {
   "cell_type": "markdown",
   "metadata": {},
   "source": [
    "___\n",
    "___\n",
    "## <span style=\"font-size: 40px; color:rgb(200, 200, 200); font-weight: bold\">Basic Syntax and Semantics</span>"
   ]
  },
  {
   "cell_type": "markdown",
   "metadata": {},
   "source": [
    "___\n",
    "### <span style=\"font-size: 30px; color:rgb(150, 150, 150); font-weight: bold\">Syntax</span>"
   ]
  },
  {
   "cell_type": "markdown",
   "metadata": {},
   "source": [
    "<span style=\"font-size: 15px; color:rgb(250, 250, 250)\">\n",
    "\n",
    "Python's <i>**syntax**</i> refers to the set of rules and structures that dictate how code is written in the language. It includes conventions for defining <u>**variables**</u>, writing <u>**statements**</u>, and organizing <u>**blocks of code**</u>. Python uses a combination of English keywords, punctuation symbols, and whitespace to construct valid <u>**expressions**</u> and statements.\n",
    "</span>"
   ]
  },
  {
   "cell_type": "markdown",
   "metadata": {},
   "source": [
    "####  <hr style=\"border-style:dashed\"><span style=\"font-size: 25px; color:rgb(100, 100, 100); font-weight: bold; display:block\">Keywords:<span>"
   ]
  },
  {
   "cell_type": "markdown",
   "metadata": {},
   "source": [
    "#####  <hr style=\"border-style:dotted\"><span style=\"font-size: 20px; color:rgb(80, 80, 80); font-weight: bold; display:block\">List of Keywords:<span>\n",
    "<span style=\"font-size: 15px; color:rgb(250, 250, 250)\">\n",
    "\n",
    "The list can also be found using <code>help('keywords')</code>.\n",
    "</span>"
   ]
  },
  {
   "cell_type": "markdown",
   "metadata": {},
   "source": [
    "<style>\n",
    "  .title {\n",
    "    background-color:black;\n",
    "    font-size:25px;\n",
    "    font-weight:bold;\n",
    "    text-align:center;\n",
    "  }\n",
    "</style>\n",
    "<span style=\"font-size: 15px; color:rgb(250, 250, 250);display:block\">\n",
    "  <table width=100%>\n",
    "    <theader><th class=\"title\" colspan=4>List of Python Keywords</th></thead>\n",
    "    <tr>\n",
    "      <td width=25%>False</td>\n",
    "      <td width=25%>class</td>\n",
    "      <td width=25%>from</td>\n",
    "      <td width=25%>or</td>\n",
    "    </tr>\n",
    "    <tr>\n",
    "      <td>None</td>\n",
    "      <td>continue</td>\n",
    "      <td>global</td>\n",
    "      <td>pass</td>\n",
    "    </tr>\n",
    "    <tr>\n",
    "      <td>True</td>\n",
    "      <td>def</td>\n",
    "      <td>if</td>\n",
    "      <td>raise</td>\n",
    "    </tr>\n",
    "    <tr>\n",
    "      <td>and</td>\n",
    "      <td>del</td>\n",
    "      <td>import</td>\n",
    "      <td>return</td>\n",
    "    </tr>\n",
    "    <tr>\n",
    "      <td>as</td>\n",
    "      <td>elif</td>\n",
    "      <td>in</td>\n",
    "      <td>try</td>\n",
    "    </tr>\n",
    "    <tr>\n",
    "      <td>assert</td>\n",
    "      <td>else</td>\n",
    "      <td>is</td>\n",
    "      <td>while</td>\n",
    "    </tr>\n",
    "    <tr>\n",
    "      <td>async</td>\n",
    "      <td>except</td>\n",
    "      <td>lambda</td>\n",
    "      <td>with</td>\n",
    "    </tr>\n",
    "    <tr>\n",
    "      <td>await</td>\n",
    "      <td>finally</td>\n",
    "      <td>nonlocal</td>\n",
    "      <td>yield</td>\n",
    "    </tr>\n",
    "    <tr>\n",
    "      <td>break</td>\n",
    "      <td>for</td>\n",
    "      <td>not</td>\n",
    "      <td></td>\n",
    "    </tr>\n",
    "  </table>\n",
    "</span>"
   ]
  },
  {
   "cell_type": "markdown",
   "metadata": {},
   "source": [
    "##### <hr style=\"border-style:dotted\"><span style=\"font-size: 20px; color:rgb(80, 80, 80); font-weight: bold; display:block\">Logic Operations:<span>"
   ]
  },
  {
   "cell_type": "markdown",
   "metadata": {},
   "source": [
    "<style>\n",
    "  .title {\n",
    "    background-color:black;\n",
    "    font-size:25px;\n",
    "    font-weight:bold;\n",
    "    text-align:center;\n",
    "  }\n",
    "  .header {\n",
    "    background-color:rgb(30,30,30);\n",
    "    font-size:20px;\n",
    "    font-weight:bold;\n",
    "  }\n",
    "  .subsection {\n",
    "    background-color:rgb(60,60,60);\n",
    "    font-size:15px;\n",
    "    font-weight:bold;\n",
    "    text-align:center;\n",
    "  }\n",
    "</style>\n",
    "<span style=\"font-size: 15px; color:rgb(250, 250, 250);display:block\">\n",
    "  <table width=100%>\n",
    "    <thead>\n",
    "      <th class=\"title\" colspan=3>Logic Operations</th>\n",
    "    </thead>\n",
    "    <tr class=\"header\">\n",
    "      <td width=16%>Keyword</td>\n",
    "      <td width=42%>Use Case</td>\n",
    "      <td width=42%>Example</td>\n",
    "    </tr>\n",
    "    <tr class=\"row\">\n",
    "      <td><code>in</code></td>\n",
    "      <td>Comparison operation:<br>Tests if a value is in a collection (list, tuple, string...)<br>\n",
    "      Resolves to <code>True</code> or <code>False</code>\n",
    "      </td>\n",
    "      <td>\n",
    "\n",
    "```python\n",
    "12 in [ 1, 32, 12, 4 ] #True\n",
    "```\n",
    "<t>\n",
    "      </td>\n",
    "    </tr>\n",
    "    <tr class=\"row\">\n",
    "      <td><code>is</code></td>\n",
    "      <td>Comparison operation:<br>Tests if two values are\n",
    "      the same value at the same memory address.<br>\n",
    "      Resolves to <code>True</code> or <code>False</code></td>\n",
    "      <td>\n",
    "\n",
    "```python\n",
    "numGT256 = 512\n",
    "cloneNum = numGT256\n",
    "numGT256 is 512 #False\n",
    "numGT256 is cloneNum #True\n",
    "```\n",
    "<t>\n",
    "      </td>\n",
    "    </tr>\n",
    "    <tr class=\"row\">\n",
    "      <td><code>and</code></td>\n",
    "      <td>Logical Operator:<br>Compares two expressions\n",
    "      by implicity converting them to booleans.<br>\n",
    "      If both are <code>True</code><br>Resolves to <code>True</code>\n",
    "       else <code>False</code></td>\n",
    "      <td>\n",
    "\n",
    "```python\n",
    "1 and 'a' #True\n",
    "0 and True #False\n",
    "```\n",
    "<t>\n",
    "      </td>\n",
    "    </tr>\n",
    "    <tr class=\"row\">\n",
    "      <td><code>or</code></td>\n",
    "      <td>Logical Operator:<br>Compares two expressions\n",
    "      by implicity converting them to booleans.<br>\n",
    "      If either are <code>True</code><br>Resolves to <code>True</code>\n",
    "       else <code>False</code></td>\n",
    "      <td>\n",
    "\n",
    "```python\n",
    "1 or 'a' #True\n",
    "0 or True #True\n",
    "False or False #False\n",
    "```\n",
    "<t>\n",
    "      </td>\n",
    "    </tr>\n",
    "    <tr class=\"row\">\n",
    "      <td><code>Not</code></td>\n",
    "      <td>Logical Operator:<br>Inverts the next value.\n",
    "      It implicitly converts the value to a boolean<br>\n",
    "      Resolves to <code>True</code> or <code>False</code></td>\n",
    "      <td>\n",
    "\n",
    "```python\n",
    "not 'a' #False\n",
    "not False #True\n",
    "``` \n",
    "<t>\n",
    "    </tr>\n",
    "  </table>\n",
    "</span>"
   ]
  },
  {
   "cell_type": "markdown",
   "metadata": {},
   "source": [
    "#####  <hr style=\"border-style:dotted\"><span style=\"font-size: 20px; color:rgb(80, 80, 80); font-weight: bold; display:block\">Flow Control:<span>"
   ]
  },
  {
   "cell_type": "markdown",
   "metadata": {},
   "source": [
    "<style>\n",
    "  .title {\n",
    "    background-color:black;\n",
    "    font-size:25px;\n",
    "    font-weight:bold;\n",
    "    text-align:center;\n",
    "  }\n",
    "  .header {\n",
    "    background-color:rgb(30,30,30);\n",
    "    font-size:20px;\n",
    "    font-weight:bold;\n",
    "  }\n",
    "  .subsection {\n",
    "    background-color:rgb(60,60,60);\n",
    "    font-size:15px;\n",
    "    font-weight:bold;\n",
    "    text-align:center;\n",
    "  }\n",
    "</style>\n",
    "<span style=\"font-size: 15px; color:rgb(250, 250, 250);display:block\">\n",
    "  <table>\n",
    "    <thead>\n",
    "      <th class=\"title\" colspan=3>Flow Control</th>\n",
    "    </thead>\n",
    "    <tr class=\"header\" width=100%>\n",
    "      <td width=16%>Keyword</td>\n",
    "      <td width=42%>Use Case</td>\n",
    "      <td width=42%>Example</td>\n",
    "    </tr>\n",
    "    <tr class=\"row\" width=100%>\n",
    "      <td><code>pass</code></td>\n",
    "      <td>Null statment: Used as a placeholder for incomplete code blocks. Python ignores this.\n",
    "      </td>\n",
    "      <td>\n",
    "\n",
    "```python\n",
    "if x > 23:\n",
    "    pass #code blocks require, at least one statement\n",
    "```\n",
    "<t>\n",
    "      </td>\n",
    "    </tr>\n",
    "    <tr class=\"row\" width=100%>\n",
    "      <td><code>if</code></td>\n",
    "      <td>Begins a conditional statement.</td>\n",
    "      <td>\n",
    "\n",
    "```python\n",
    "if True:pass #this executes\n",
    "if True:pass #this also executes\n",
    "```\n",
    "<t>\n",
    "      </td>\n",
    "    </tr>\n",
    "    <tr class=\"row\" width=100%>\n",
    "      <td><code>elif</code></td>\n",
    "      <td>Continues a conditional statement after <code>if</code>. Executes if conditional statements above it are false.</td>\n",
    "      <td>\n",
    "\n",
    "```python\n",
    "if False:pass #skipped\n",
    "elif False:pass #skipped\n",
    "elif True:pass #this executes\n",
    "```\n",
    "<t>\n",
    "      </td>\n",
    "    </tr>\n",
    "    <tr class=\"row\" width=100%>\n",
    "      <td><code>else</code></td>\n",
    "      <td>Last conditional statement that follows other conditional statements</td>\n",
    "      <td>\n",
    "\n",
    "```python\n",
    "if False:pass #skipped\n",
    "elif False:pass #skipped\n",
    "elif True:pass #skipped\n",
    "else:pass #this executes\n",
    "```\n",
    "<t>\n",
    "      </td>\n",
    "    </tr>\n",
    "    <tr class=\"row\">\n",
    "      <td><code>continue</code></td>\n",
    "      <td>Stops evaluating code in current iterations of a loop\n",
    "      and begins the next iteration\n",
    "      <td>\n",
    "\n",
    "```python\n",
    "while x < 10:\n",
    "    x += 1\n",
    "    continue #stops evaluating and starts next cycle\n",
    "    print(x) #this gets skipped\n",
    "``` \n",
    "<t>\n",
    "    </tr>\n",
    "    <tr class=\"row\">\n",
    "      <td><code>break</code></td>\n",
    "      <td>Stops evaluating code in current iterations of a loop\n",
    "      and begins the next iteration\n",
    "      <td>\n",
    "\n",
    "```python\n",
    "while x < 1:\n",
    "    break #this exits the loop immediatley\n",
    "    x += 1 #this gets skipped\n",
    "``` \n",
    "<t>\n",
    "    </tr>\n",
    "    <tr class=\"row\">\n",
    "      <td><code>return</code></td>\n",
    "      <td>Stops evaluating code in current iterations of a loop\n",
    "      and begins the next iteration\n",
    "      <td>\n",
    "\n",
    "```python\n",
    "def foo():\n",
    "    return 7 #exits the function and returns 7\n",
    "    print('hello') #unreachable code\n",
    "def func(x):\n",
    "    while True:\n",
    "        return 7 #loop runs a partial cycle, returns 7 immediately. It exits the loop and the function\n",
    "        x +=1 #unreachable code\n",
    "    print('hello') #unreachable code\n",
    "``` \n",
    "<t>\n",
    "    </tr>\n",
    "    <tr class=\"row\">\n",
    "      <td><code>for</code></td>\n",
    "      <td>Begins a for loop.</td>\n",
    "      <td>\n",
    "\n",
    "```python\n",
    "for x in [1, 2, 3]:\n",
    "    pass\n",
    "``` \n",
    "<t>\n",
    "    </tr>\n",
    "    <tr class=\"row\">\n",
    "      <td><code>while</code></td>\n",
    "      <td>Begins a while loop.</td>\n",
    "      <td>\n",
    "\n",
    "```python\n",
    "while True:\n",
    "    pass\n",
    "``` \n",
    "<t>\n",
    "    </tr>\n",
    "  </table>\n",
    "</span>"
   ]
  },
  {
   "cell_type": "code",
   "execution_count": null,
   "metadata": {},
   "outputs": [],
   "source": []
  },
  {
   "cell_type": "markdown",
   "metadata": {},
   "source": [
    "#### <hr style=\"border-style:dashed\"><span style=\"font-size: 25px; color:rgb(100, 100, 100); font-weight: bold; display:block\">Variable:<span>\n",
    "<span style=\"font-size: 15px; color:rgb(250, 250, 250);display:block\">\n",
    "\n",
    "Uniquely named memory allocation for python objects. The name may consist of alphanumeric characters and underscores [ a-z, A-Z, 0-9, _ ]. The first character must either be alphabetical or an underscore.\n",
    "- Data Type\n",
    "- Value\n",
    "</span>"
   ]
  },
  {
   "cell_type": "code",
   "execution_count": 3,
   "metadata": {},
   "outputs": [
    {
     "ename": "SyntaxError",
     "evalue": "cannot assign to expression here. Maybe you meant '==' instead of '='? (3838219761.py, line 12)",
     "output_type": "error",
     "traceback": [
      "  \u001b[36mCell\u001b[39m\u001b[36m \u001b[39m\u001b[32mIn[3]\u001b[39m\u001b[32m, line 12\u001b[39m\n\u001b[31m    \u001b[39m\u001b[31mthis_%is_an_error = 12\u001b[39m\n    ^\n\u001b[31mSyntaxError\u001b[39m\u001b[31m:\u001b[39m cannot assign to expression here. Maybe you meant '==' instead of '='?\n"
     ]
    }
   ],
   "source": [
    "# create three valid varialbes\n",
    "\n",
    "#variable begins with lowercase letter\n",
    "this_Is_A_Variable = 23 # Snakecase\n",
    "\n",
    "#variable begins with UPPERCASE letter\n",
    "ThisIsAlsoAVariable = 'hello' # Camelcase\n",
    "\n",
    "#varaible begins with underscore\n",
    "__thisIsSpecial__ = 6.0 # variables surrounded by double underscores __\n",
    "                    # typically annotate special functions and properties\n",
    "#5this_is_an_error = 12\n"
   ]
  },
  {
   "cell_type": "markdown",
   "metadata": {},
   "source": [
    "___\n",
    "### <span style=\"font-size: 30px; color:rgb(150, 150, 150); font-weight: bold\">Case Sensitivity</span>"
   ]
  },
  {
   "cell_type": "markdown",
   "metadata": {},
   "source": [
    "<span style=\"font-size: 15px; color:rgb(250, 250, 250);display:block\">\n",
    "\n",
    "Case matters. A ≠ a\n",
    "</span>"
   ]
  },
  {
   "cell_type": "code",
   "execution_count": null,
   "metadata": {},
   "outputs": [],
   "source": [
    "print('banana' == 'banana') # True\n",
    "print(\"Apple\" == 'apple') # False"
   ]
  },
  {
   "cell_type": "markdown",
   "metadata": {},
   "source": [
    "___\n",
    "### <span style=\"font-size: 30px; color:rgb(150, 150, 150); font-weight: bold\">Semantics</span>"
   ]
  },
  {
   "cell_type": "markdown",
   "metadata": {},
   "source": [
    "<span style=\"font-size: 15px; color:rgb(250, 250, 250);display:block\">\n",
    "\n",
    "Python **semantics** defines how the code is executed and the behavior of various constructs. Semantics determines how expressions are evaluated, variables and objects are managed, control flow is handled, and how functions and classes are used. It also includes the rules for variable scope, function calls, object references, and how different data types behave.\n",
    "</span>"
   ]
  },
  {
   "cell_type": "markdown",
   "metadata": {},
   "source": [
    "___\n",
    "### <span style=\"font-size: 30px; color:rgb(150, 150, 150); font-weight: bold\">Errors</span>"
   ]
  },
  {
   "cell_type": "markdown",
   "metadata": {},
   "source": [
    "#### <hr style=\"border-style:dotted\"><span style=\"font-size: 25px; color:rgb(100, 100, 100); font-weight: bold\">Syntax Errors</span>\n"
   ]
  },
  {
   "cell_type": "code",
   "execution_count": null,
   "metadata": {},
   "outputs": [],
   "source": [
    "in = 2 # in is a reserved Keyword and cannot assign to it"
   ]
  },
  {
   "cell_type": "code",
   "execution_count": null,
   "metadata": {},
   "outputs": [],
   "source": [
    "thisString = 'hello # closing quote is missing EOF error"
   ]
  },
  {
   "cell_type": "markdown",
   "metadata": {},
   "source": [
    "#### <hr style=\"border-style:dashed\"><span style=\"font-size: 25px; color:rgb(100, 100, 100); font-weight: bold\">Semantic Errors</span>"
   ]
  },
  {
   "cell_type": "code",
   "execution_count": 4,
   "metadata": {},
   "outputs": [
    {
     "ename": "TypeError",
     "evalue": "can only concatenate str (not \"int\") to str",
     "output_type": "error",
     "traceback": [
      "\u001b[31m---------------------------------------------------------------------------\u001b[39m",
      "\u001b[31mTypeError\u001b[39m                                 Traceback (most recent call last)",
      "\u001b[36mCell\u001b[39m\u001b[36m \u001b[39m\u001b[32mIn[4]\u001b[39m\u001b[32m, line 1\u001b[39m\n\u001b[32m----> \u001b[39m\u001b[32m1\u001b[39m \u001b[33;43m'\u001b[39;49m\u001b[33;43ma\u001b[39;49m\u001b[33;43m'\u001b[39;49m\u001b[43m \u001b[49m\u001b[43m+\u001b[49m\u001b[43m \u001b[49m\u001b[32;43m1\u001b[39;49m \u001b[38;5;66;03m# code will parse, but the interpretor does not have defined\u001b[39;00m\n\u001b[32m      2\u001b[39m \u001b[38;5;66;03m# behavior string concatonating an integer\u001b[39;00m\n",
      "\u001b[31mTypeError\u001b[39m: can only concatenate str (not \"int\") to str"
     ]
    }
   ],
   "source": [
    "'a' + 1 # code will parse, but the interpretor does not have defined\n",
    "# behavior string concatonating an integer"
   ]
  },
  {
   "cell_type": "code",
   "execution_count": 5,
   "metadata": {},
   "outputs": [
    {
     "ename": "TypeError",
     "evalue": "unsupported operand type(s) for +: 'int' and 'str'",
     "output_type": "error",
     "traceback": [
      "\u001b[31m---------------------------------------------------------------------------\u001b[39m",
      "\u001b[31mTypeError\u001b[39m                                 Traceback (most recent call last)",
      "\u001b[36mCell\u001b[39m\u001b[36m \u001b[39m\u001b[32mIn[5]\u001b[39m\u001b[32m, line 1\u001b[39m\n\u001b[32m----> \u001b[39m\u001b[32m1\u001b[39m \u001b[32;43m1\u001b[39;49m\u001b[43m \u001b[49m\u001b[43m+\u001b[49m\u001b[43m \u001b[49m\u001b[33;43m'\u001b[39;49m\u001b[33;43m1\u001b[39;49m\u001b[33;43m'\u001b[39;49m \u001b[38;5;66;03m# code will parse, but the interpretor does not have defined\u001b[39;00m\n\u001b[32m      2\u001b[39m \u001b[38;5;66;03m# behavior adding a string to an integer\u001b[39;00m\n",
      "\u001b[31mTypeError\u001b[39m: unsupported operand type(s) for +: 'int' and 'str'"
     ]
    }
   ],
   "source": [
    "1 + '1' # code will parse, but the interpretor does not have defined\n",
    "# behavior adding a string to an integer"
   ]
  },
  {
   "cell_type": "markdown",
   "metadata": {},
   "source": [
    "___\n",
    "___\n",
    "## <span style=\"font-size: 40px; color:rgb(200, 200, 200); font-weight: bold\">Python Grammar</span>"
   ]
  },
  {
   "cell_type": "markdown",
   "metadata": {},
   "source": [
    "___\n",
    "### <span style=\"font-size: 30px; color:rgb(150, 150, 150); font-weight: bold\">White Space</span>"
   ]
  },
  {
   "cell_type": "markdown",
   "metadata": {},
   "source": [
    "<span style=\"font-size: 15px; color:rgb(250, 250, 250)\">\n",
    "\n",
    "In Python, **whitespace** refers to spaces, tabs, and newline characters that are used for formatting and structuring the code. White space assist with determining the structure and readability of Python programs. Unlike some other programming languages, Python uses whitespace for indentation and block delineation, which affects how code is executed.\n",
    "\n",
    "- **Indentation**: Used to define blocks of code\n",
    "\n",
    "- **Space in expressions**: Separates elements in a block of and expression\n",
    "\n",
    "- **Blank lines**: used separate block of code for better readability\n",
    "</span>"
   ]
  },
  {
   "cell_type": "markdown",
   "metadata": {},
   "source": [
    "___\n",
    "### <span style=\"font-size: 30px; color:rgb(150, 150, 150); font-weight: bold\">Indentations vs Tabs</span>"
   ]
  },
  {
   "cell_type": "markdown",
   "metadata": {},
   "source": [
    "<span style=\"font-size: 15px; color:rgb(250, 250, 250)\">\n",
    "\n",
    "Python uses **indentation** to define blocks of code. Within each block all lines must be indented the same number and type of whitespaces or an indentation error will occur.\n",
    "\n",
    "- <u>**global**</u>: left most indent. All variables assigned on this indentation are available in every sub block of code.\n",
    "```python\n",
    "x = 1 #this is on the global scope\n",
    "z = 3 #this is also on the global scope\n",
    " y = x #this will cause an indentation error\n",
    "```\n",
    "- <u>**inside loops**</u>: indent after beginning loops to denote code to execute in cylces.\n",
    "```python\n",
    "x = 1 #this is on the global scope\n",
    "while x < 10: #this is also on the global scope\n",
    "    print(x) #this will run each loop cycle\n",
    "    x += 1 #this will run each loop cycle\n",
    "print(x) #this will run after the last loop cycle\n",
    "```\n",
    "- <u>**inside conditionals (if/else)**</u> indent after each conditional statement to execute code under contions.\n",
    "```python\n",
    "if x < 10: #this is also on the global scope\n",
    "    print('less than') #this will run \n",
    "elif x == 10: # this must be on the same indent as the if statement\n",
    "    print('equal') #this will run if the above statement was False and this statement is True\n",
    "else: # this must be on the same indent as the if statement\n",
    "    print('greater than') #this will run if the above statements were False\n",
    "```\n",
    "- <u>**inside function definitions**</u>: indent after the definition statement, this creates a sub-namespace.\n",
    "```python\n",
    "x = 1 #this is on the global scope\n",
    "def foo(): #this is on a global scope\n",
    "    x = 3 #this is in foo's scope\n",
    "    print(x)\n",
    "foo()\n",
    "print(x)\n",
    "```\n",
    "- <u>**inside class definitons**</u>: indent after the definition statement, this creates a sub-namespace.\n",
    "```python\n",
    "x = 1 #this is on the global scope\n",
    "class myClass(): #this is on a global scope\n",
    "    x = 3 #this is in myClass's scope\n",
    "```\n",
    "- <u>**inside contextual wrappers (with statements)**</u> indent after the with statement. Automatically deletes objects created with aliases in the with statement when exiting.\n",
    "```python\n",
    "x = 1 #this is on the global scope\n",
    "with open('file.txt') as fi: #this is on a global scope and opens a fileIO wrapper\n",
    "    fi.read() #this is in myClass's scope\n",
    "fi.seek() #this will error out because the file is now closed\n",
    "```\n",
    "**NOTE**: 2 single whitespaces are preferred over tabs. Tabs should only be used to match existing code documents for consistency.\n",
    "</span>"
   ]
  },
  {
   "cell_type": "markdown",
   "metadata": {},
   "source": [
    "___\n",
    "### <span style=\"font-size: 30px; color:rgb(150, 150, 150); font-weight: bold\">Comments</span>"
   ]
  },
  {
   "cell_type": "markdown",
   "metadata": {},
   "source": [
    "<span style=\"font-size: 15px; color:rgb(250, 250, 250)\">\n",
    "\n",
    "**Comments** are used to explain and label code. They are ignored by the interpreter.\n",
    "\n",
    "- Before writing code, you should comment to help focus your goals and allow others the ability to understand your code logic.\n",
    "\n",
    "- When debugging code, you can comment out lines to prevent them from running.\n",
    "\n",
    "- A single Hashtag (#) begins a comment on a line. Python will ignore everything to the right\n",
    "\n",
    "- Select a line or multiple lines and then press <code>CTRL + /</code> to comment them out.\n",
    "```python\n",
    "# this is a comment\n",
    "```\n",
    "**Note**: In VSCode, comments are green.\n",
    "</span>"
   ]
  },
  {
   "cell_type": "code",
   "execution_count": 8,
   "metadata": {},
   "outputs": [
    {
     "ename": "SyntaxError",
     "evalue": "invalid syntax (134218337.py, line 1)",
     "output_type": "error",
     "traceback": [
      "  \u001b[36mCell\u001b[39m\u001b[36m \u001b[39m\u001b[32mIn[8]\u001b[39m\u001b[32m, line 1\u001b[39m\n\u001b[31m    \u001b[39m\u001b[31m'this is a string' + #second string 'this is not another string'\u001b[39m\n                         ^\n\u001b[31mSyntaxError\u001b[39m\u001b[31m:\u001b[39m invalid syntax\n"
     ]
    }
   ],
   "source": [
    "'this is a string' + #second string 'this is not another string'\n"
   ]
  },
  {
   "cell_type": "markdown",
   "metadata": {},
   "source": [
    "___\n",
    "### <span style=\"font-size: 30px; color:rgb(150, 150, 150); font-weight: bold\">Statements VS Expressions</span>"
   ]
  },
  {
   "cell_type": "markdown",
   "metadata": {},
   "source": [
    "<span style=\"font-size: 15px; color:rgb(250, 250, 250)\">\n",
    "<table width=100%>\n",
    "  <thead style=\"font-size: 25px;\">\n",
    "    <th colspan=3 style=\"text-align:center;\"><b>Key Differences</b></th>\n",
    "  </thead>\n",
    "  <tr>\n",
    "    <td width=30%><b>FEATURE</b></td>\n",
    "    <td width=35%><b>EXPRESSION</b></td>\n",
    "    <td width=35%><b>STATEMENT</b></td>\n",
    "  </tr>\n",
    "  <tr>\n",
    "    <td>Definiton</td>\n",
    "    <td>A piece of code that evaluates to a single value</td>\n",
    "    <td>A complete instruction that performs an action</td>\n",
    "  </tr>\n",
    "  <tr>\n",
    "    <td>Returns a value</td>\n",
    "    <td>YES</td>\n",
    "    <td>NO</td>\n",
    "  </tr>\n",
    "  <tr>\n",
    "    <td>More than one per line</td>\n",
    "    <td>YES,expressions are commma separated. An expression can even be made of other expressions!</td>\n",
    "    <td>NOT in pythonic code. Expressions are typically terminate by end of the line. However, they can be semicolon separated on the same line.</td>\n",
    "  </tr>\n",
    "  <tr>\n",
    "    <td>Can be assigned to a variable</td>\n",
    "    <td>YES</td>\n",
    "    <td>NO, it works on values but does not produce a value</td>\n",
    "  </tr>\n",
    "  <tr>\n",
    "    <td>Can be used in a function call</td>\n",
    "    <td>YES</td>\n",
    "    <td>NO</td>\n",
    "  </tr>\n",
    "  <tr>\n",
    "    <td>Can be part of an expression</td>\n",
    "    <td>YES</td>\n",
    "    <td>NO, Expression produce values, and statements do not</td>\n",
    "  </tr>\n",
    "  <tr>\n",
    "    <td style='font-size:40px'>Examples</td>\n",
    "    <td>\n",
    "\n",
    "```python\n",
    "2 + 3\n",
    "\n",
    "max(10,20)\n",
    "\n",
    "\"hello\".upper()\n",
    "\n",
    "x < 5\n",
    "```\n",
    "</td>\n",
    "    <td>\n",
    "\n",
    "```python\n",
    "for x in [1, 2, 3]: #for exp in exp_collection:an expression\n",
    "if y < 7: #if exp_conditional:\n",
    "while True: #while conditional:\n",
    "def func(): #def funcName():\n",
    "return #return [*exp]\n",
    "import random #import librayName\n",
    "print() #function call that does not return a value\n",
    "```\n",
    "</td>\n",
    "  </tr>\n",
    "</table>\n",
    "</span>"
   ]
  },
  {
   "cell_type": "markdown",
   "metadata": {},
   "source": [
    "___\n",
    "### <span style=\"font-size: 30px; color:rgb(150, 150, 150); font-weight: bold\">Line / Statement Terminator</span>"
   ]
  },
  {
   "cell_type": "markdown",
   "metadata": {},
   "source": [
    "<span style=\"font-size: 15px; color:rgb(250, 250, 250)\">\n",
    "\n",
    "**Statement Terminators** are marked by the end of lines\n",
    "</span>"
   ]
  },
  {
   "cell_type": "code",
   "execution_count": null,
   "metadata": {},
   "outputs": [],
   "source": [
    "x = 5**2 # statement 1\n",
    "print(x) # statement 2"
   ]
  },
  {
   "cell_type": "markdown",
   "metadata": {},
   "source": [
    "<span style=\"font-size: 15px; color:rgb(250, 250, 250)\">\n",
    "\n",
    "Its possible, but not recommended, to separate multiple statements on a single line with semicolons\n",
    "</span>"
   ]
  },
  {
   "cell_type": "code",
   "execution_count": null,
   "metadata": {},
   "outputs": [],
   "source": [
    "x = 1; y =4; print(y+x*2) # 3 statements are on this line"
   ]
  },
  {
   "cell_type": "markdown",
   "metadata": {},
   "source": [
    "<span style=\"font-size: 15px; color:rgb(250, 250, 250)\">\n",
    "\n",
    "Sometimes a line of code gets long. When this happens, end the line a logical place with a backslash ( \\ ) to continue writing on the next line. The interpretor will read this as a single line.\n",
    "</span>"
   ]
  },
  {
   "cell_type": "markdown",
   "metadata": {},
   "source": [
    "<span style=\"font-size: 15px; color:rgb(250, 250, 250)\">\n",
    "\n",
    "A long line that cannot be read without scrolling\n",
    "</span>"
   ]
  },
  {
   "cell_type": "code",
   "execution_count": 11,
   "metadata": {},
   "outputs": [
    {
     "name": "stdout",
     "output_type": "stream",
     "text": [
      "This is going to be a really long line      with lots of chained functions\n"
     ]
    }
   ],
   "source": [
    "# A long line\n",
    "x = 'This is going to be a really long line with lots of chained functions'.replace(' ','+').upper().split('+')[::2]"
   ]
  },
  {
   "cell_type": "markdown",
   "metadata": {},
   "source": [
    "<span style=\"font-size: 15px; color:rgb(250, 250, 250)\">\n",
    "\n",
    "More readable\n",
    "</span>"
   ]
  },
  {
   "cell_type": "code",
   "execution_count": null,
   "metadata": {},
   "outputs": [],
   "source": [
    "# Same line with line continuation\n",
    "x = 'this is going to be a really long line\\\n",
    "     with lots of chained functions'\\\n",
    "     .replace(' ','+')\\\n",
    "     .upper()\\\n",
    "     .split('+')[::2]"
   ]
  },
  {
   "cell_type": "markdown",
   "metadata": {},
   "source": [
    "<span style=\"font-size: 15px; color:rgb(250, 250, 250)\">\n",
    "\n",
    "Caution with commenting \"in the middle of a line\". Line continuation literally extends the current line to the next line.\n",
    "</span>"
   ]
  },
  {
   "cell_type": "code",
   "execution_count": null,
   "metadata": {},
   "outputs": [],
   "source": [
    "# When doing line continuation, be careful with comments\n",
    "x = 'hello'\\ #nothing can follow the line continuation, not even comments\n",
    ".upper()"
   ]
  },
  {
   "cell_type": "markdown",
   "metadata": {},
   "source": [
    "___\n",
    "___\n",
    "## <span style=\"font-size: 40px; color:rgb(200, 200, 200); font-weight: bold\">Python Execution</span>"
   ]
  },
  {
   "cell_type": "markdown",
   "metadata": {},
   "source": [
    "___\n",
    "### <span style=\"font-size: 30px; color:rgb(150, 150, 150); font-weight: bold\">Read-Evaluate-Print-Loop(REPL) - Python Interactive Mode</span>"
   ]
  },
  {
   "cell_type": "markdown",
   "metadata": {},
   "source": [
    "___\n",
    "### <span style=\"font-size: 30px; color:rgb(150, 150, 150); font-weight: bold\">Execution: Interactive Mode</span>"
   ]
  },
  {
   "cell_type": "markdown",
   "metadata": {},
   "source": [
    "___\n",
    "### <span style=\"font-size: 30px; color:rgb(150, 150, 150); font-weight: bold\">Batch</span>"
   ]
  },
  {
   "cell_type": "markdown",
   "metadata": {},
   "source": [
    "___\n",
    "### <span style=\"font-size: 30px; color:rgb(150, 150, 150); font-weight: bold\">Execution: Batch</span>"
   ]
  },
  {
   "cell_type": "markdown",
   "metadata": {},
   "source": [
    "___\n",
    "### <span style=\"font-size: 30px; color:rgb(150, 150, 150); font-weight: bold\">Integrated Development Environment</span>"
   ]
  },
  {
   "cell_type": "markdown",
   "metadata": {},
   "source": [
    "___\n",
    "___\n",
    "## <span style=\"font-size: 40px; color:rgb(200, 200, 200); font-weight: bold\">Help in Python</span>"
   ]
  },
  {
   "cell_type": "markdown",
   "metadata": {},
   "source": [
    "___\n",
    "### <span style=\"font-size: 30px; color:rgb(150, 150, 150); font-weight: bold\">Python Documentation</span>"
   ]
  },
  {
   "cell_type": "markdown",
   "metadata": {},
   "source": [
    "<span style=\"font-size: 15px; color:rgb(255, 255, 255);\">\n",
    "There are various ways in which a Python programmer can get help from the Python documentation. A good starting point is one of the \n",
    "\n",
    "following URLs:\n",
    "<br>\n",
    "[Python Docs - Latest Version](https://docs.python.org/3/)\n",
    "<br>\n",
    "[Python Docs - By Version](https://www.python.org/doc/versions/)\n",
    "\n",
    "!!! Note\n",
    "     run ```py python3 --version``` to find the current version of python on your machine\n",
    "</span>"
   ]
  },
  {
   "cell_type": "markdown",
   "metadata": {},
   "source": [
    "___\n",
    "### <span style=\"font-size: 30px; color:rgb(150, 150, 150); font-weight: bold\">Helpful Websites</span>"
   ]
  },
  {
   "cell_type": "markdown",
   "metadata": {},
   "source": [
    "<span style=\"font-size: 15px; color:rgb(255, 255, 255);\">\n",
    "\n",
    "[w3schools](https://www.w3schools.com/python/default.asp)\n",
    "<br><br>\n",
    "[Python Principles](https://pythonprinciples.com/challenges/)<br><br>\n",
    "[vmware client download](tinyurl.com/vmwarehclient)\n",
    "vdi.ccoelearning.net\n",
    "</span>"
   ]
  },
  {
   "cell_type": "markdown",
   "metadata": {},
   "source": [
    "___\n",
    "### <span style=\"font-size: 30px; color:rgb(150, 150, 150); font-weight: bold\">Built-in Help</span>"
   ]
  },
  {
   "cell_type": "markdown",
   "metadata": {},
   "source": [
    "<span style=\"font-size: 15px; color:rgb(255, 255, 255);\">\n",
    "\n",
    "In addition to the online Python documentation, the interactive Python shell can provide additional help. Typing ``help()`` at the Python shell prompt will start the Python help utility. For example:\n",
    "\n",
    "REPL execution:\n",
    "```cmd\n",
    "developer:~/test$ python3\n",
    ">>> help() \n",
    "help> str\n",
    "help> str.isalpha\n",
    "help> int\n",
    "```\n",
    "\n",
    "VSCode execution:\n",
    "<code>CTRL+SHIFT +</code> will open a terminal in VS Code\n",
    "```python\n",
    "help(str)\n",
    "help(str.isalpha)\n",
    "help(int)\n",
    "```\n",
    "</span>"
   ]
  },
  {
   "cell_type": "code",
   "execution_count": 15,
   "metadata": {},
   "outputs": [
    {
     "name": "stdout",
     "output_type": "stream",
     "text": [
      "Help on class int in module builtins:\n",
      "\n",
      "class int(object)\n",
      " |  int([x]) -> integer\n",
      " |  int(x, base=10) -> integer\n",
      " |\n",
      " |  Convert a number or string to an integer, or return 0 if no arguments\n",
      " |  are given.  If x is a number, return x.__int__().  For floating-point\n",
      " |  numbers, this truncates towards zero.\n",
      " |\n",
      " |  If x is not a number or if base is given, then x must be a string,\n",
      " |  bytes, or bytearray instance representing an integer literal in the\n",
      " |  given base.  The literal can be preceded by '+' or '-' and be surrounded\n",
      " |  by whitespace.  The base defaults to 10.  Valid bases are 0 and 2-36.\n",
      " |  Base 0 means to interpret the base from the string as an integer literal.\n",
      " |  >>> int('0b100', base=0)\n",
      " |  4\n",
      " |\n",
      " |  Built-in subclasses:\n",
      " |      bool\n",
      " |\n",
      " |  Methods defined here:\n",
      " |\n",
      " |  __abs__(self, /)\n",
      " |      abs(self)\n",
      " |\n",
      " |  __add__(self, value, /)\n",
      " |      Return self+value.\n",
      " |\n",
      " |  __and__(self, value, /)\n",
      " |      Return self&value.\n",
      " |\n",
      " |  __bool__(self, /)\n",
      " |      True if self else False\n",
      " |\n",
      " |  __ceil__(self, /)\n",
      " |      Ceiling of an Integral returns itself.\n",
      " |\n",
      " |  __divmod__(self, value, /)\n",
      " |      Return divmod(self, value).\n",
      " |\n",
      " |  __eq__(self, value, /)\n",
      " |      Return self==value.\n",
      " |\n",
      " |  __float__(self, /)\n",
      " |      float(self)\n",
      " |\n",
      " |  __floor__(self, /)\n",
      " |      Flooring an Integral returns itself.\n",
      " |\n",
      " |  __floordiv__(self, value, /)\n",
      " |      Return self//value.\n",
      " |\n",
      " |  __format__(self, format_spec, /)\n",
      " |      Convert to a string according to format_spec.\n",
      " |\n",
      " |  __ge__(self, value, /)\n",
      " |      Return self>=value.\n",
      " |\n",
      " |  __getattribute__(self, name, /)\n",
      " |      Return getattr(self, name).\n",
      " |\n",
      " |  __getnewargs__(self, /)\n",
      " |\n",
      " |  __gt__(self, value, /)\n",
      " |      Return self>value.\n",
      " |\n",
      " |  __hash__(self, /)\n",
      " |      Return hash(self).\n",
      " |\n",
      " |  __index__(self, /)\n",
      " |      Return self converted to an integer, if self is suitable for use as an index into a list.\n",
      " |\n",
      " |  __int__(self, /)\n",
      " |      int(self)\n",
      " |\n",
      " |  __invert__(self, /)\n",
      " |      ~self\n",
      " |\n",
      " |  __le__(self, value, /)\n",
      " |      Return self<=value.\n",
      " |\n",
      " |  __lshift__(self, value, /)\n",
      " |      Return self<<value.\n",
      " |\n",
      " |  __lt__(self, value, /)\n",
      " |      Return self<value.\n",
      " |\n",
      " |  __mod__(self, value, /)\n",
      " |      Return self%value.\n",
      " |\n",
      " |  __mul__(self, value, /)\n",
      " |      Return self*value.\n",
      " |\n",
      " |  __ne__(self, value, /)\n",
      " |      Return self!=value.\n",
      " |\n",
      " |  __neg__(self, /)\n",
      " |      -self\n",
      " |\n",
      " |  __or__(self, value, /)\n",
      " |      Return self|value.\n",
      " |\n",
      " |  __pos__(self, /)\n",
      " |      +self\n",
      " |\n",
      " |  __pow__(self, value, mod=None, /)\n",
      " |      Return pow(self, value, mod).\n",
      " |\n",
      " |  __radd__(self, value, /)\n",
      " |      Return value+self.\n",
      " |\n",
      " |  __rand__(self, value, /)\n",
      " |      Return value&self.\n",
      " |\n",
      " |  __rdivmod__(self, value, /)\n",
      " |      Return divmod(value, self).\n",
      " |\n",
      " |  __repr__(self, /)\n",
      " |      Return repr(self).\n",
      " |\n",
      " |  __rfloordiv__(self, value, /)\n",
      " |      Return value//self.\n",
      " |\n",
      " |  __rlshift__(self, value, /)\n",
      " |      Return value<<self.\n",
      " |\n",
      " |  __rmod__(self, value, /)\n",
      " |      Return value%self.\n",
      " |\n",
      " |  __rmul__(self, value, /)\n",
      " |      Return value*self.\n",
      " |\n",
      " |  __ror__(self, value, /)\n",
      " |      Return value|self.\n",
      " |\n",
      " |  __round__(self, ndigits=<unrepresentable>, /)\n",
      " |      Rounding an Integral returns itself.\n",
      " |\n",
      " |      Rounding with an ndigits argument also returns an integer.\n",
      " |\n",
      " |  __rpow__(self, value, mod=None, /)\n",
      " |      Return pow(value, self, mod).\n",
      " |\n",
      " |  __rrshift__(self, value, /)\n",
      " |      Return value>>self.\n",
      " |\n",
      " |  __rshift__(self, value, /)\n",
      " |      Return self>>value.\n",
      " |\n",
      " |  __rsub__(self, value, /)\n",
      " |      Return value-self.\n",
      " |\n",
      " |  __rtruediv__(self, value, /)\n",
      " |      Return value/self.\n",
      " |\n",
      " |  __rxor__(self, value, /)\n",
      " |      Return value^self.\n",
      " |\n",
      " |  __sizeof__(self, /)\n",
      " |      Returns size in memory, in bytes.\n",
      " |\n",
      " |  __sub__(self, value, /)\n",
      " |      Return self-value.\n",
      " |\n",
      " |  __truediv__(self, value, /)\n",
      " |      Return self/value.\n",
      " |\n",
      " |  __trunc__(self, /)\n",
      " |      Truncating an Integral returns itself.\n",
      " |\n",
      " |  __xor__(self, value, /)\n",
      " |      Return self^value.\n",
      " |\n",
      " |  as_integer_ratio(self, /)\n",
      " |      Return a pair of integers, whose ratio is equal to the original int.\n",
      " |\n",
      " |      The ratio is in lowest terms and has a positive denominator.\n",
      " |\n",
      " |      >>> (10).as_integer_ratio()\n",
      " |      (10, 1)\n",
      " |      >>> (-10).as_integer_ratio()\n",
      " |      (-10, 1)\n",
      " |      >>> (0).as_integer_ratio()\n",
      " |      (0, 1)\n",
      " |\n",
      " |  bit_count(self, /)\n",
      " |      Number of ones in the binary representation of the absolute value of self.\n",
      " |\n",
      " |      Also known as the population count.\n",
      " |\n",
      " |      >>> bin(13)\n",
      " |      '0b1101'\n",
      " |      >>> (13).bit_count()\n",
      " |      3\n",
      " |\n",
      " |  bit_length(self, /)\n",
      " |      Number of bits necessary to represent self in binary.\n",
      " |\n",
      " |      >>> bin(37)\n",
      " |      '0b100101'\n",
      " |      >>> (37).bit_length()\n",
      " |      6\n",
      " |\n",
      " |  conjugate(self, /)\n",
      " |      Returns self, the complex conjugate of any int.\n",
      " |\n",
      " |  is_integer(self, /)\n",
      " |      Returns True. Exists for duck type compatibility with float.is_integer.\n",
      " |\n",
      " |  to_bytes(self, /, length=1, byteorder='big', *, signed=False)\n",
      " |      Return an array of bytes representing an integer.\n",
      " |\n",
      " |      length\n",
      " |        Length of bytes object to use.  An OverflowError is raised if the\n",
      " |        integer is not representable with the given number of bytes.  Default\n",
      " |        is length 1.\n",
      " |      byteorder\n",
      " |        The byte order used to represent the integer.  If byteorder is 'big',\n",
      " |        the most significant byte is at the beginning of the byte array.  If\n",
      " |        byteorder is 'little', the most significant byte is at the end of the\n",
      " |        byte array.  To request the native byte order of the host system, use\n",
      " |        sys.byteorder as the byte order value.  Default is to use 'big'.\n",
      " |      signed\n",
      " |        Determines whether two's complement is used to represent the integer.\n",
      " |        If signed is False and a negative integer is given, an OverflowError\n",
      " |        is raised.\n",
      " |\n",
      " |  ----------------------------------------------------------------------\n",
      " |  Class methods defined here:\n",
      " |\n",
      " |  from_bytes(bytes, byteorder='big', *, signed=False)\n",
      " |      Return the integer represented by the given array of bytes.\n",
      " |\n",
      " |      bytes\n",
      " |        Holds the array of bytes to convert.  The argument must either\n",
      " |        support the buffer protocol or be an iterable object producing bytes.\n",
      " |        Bytes and bytearray are examples of built-in objects that support the\n",
      " |        buffer protocol.\n",
      " |      byteorder\n",
      " |        The byte order used to represent the integer.  If byteorder is 'big',\n",
      " |        the most significant byte is at the beginning of the byte array.  If\n",
      " |        byteorder is 'little', the most significant byte is at the end of the\n",
      " |        byte array.  To request the native byte order of the host system, use\n",
      " |        sys.byteorder as the byte order value.  Default is to use 'big'.\n",
      " |      signed\n",
      " |        Indicates whether two's complement is used to represent the integer.\n",
      " |\n",
      " |  ----------------------------------------------------------------------\n",
      " |  Static methods defined here:\n",
      " |\n",
      " |  __new__(*args, **kwargs)\n",
      " |      Create and return a new object.  See help(type) for accurate signature.\n",
      " |\n",
      " |  ----------------------------------------------------------------------\n",
      " |  Data descriptors defined here:\n",
      " |\n",
      " |  denominator\n",
      " |      the denominator of a rational number in lowest terms\n",
      " |\n",
      " |  imag\n",
      " |      the imaginary part of a complex number\n",
      " |\n",
      " |  numerator\n",
      " |      the numerator of a rational number in lowest terms\n",
      " |\n",
      " |  real\n",
      " |      the real part of a complex number\n",
      "\n"
     ]
    }
   ],
   "source": [
    "help(int)"
   ]
  },
  {
   "cell_type": "markdown",
   "metadata": {},
   "source": [
    "___\n",
    "### <span style=\"font-size: 30px; color:rgb(150, 150, 150); font-weight: bold\">Helpful Commands</span>"
   ]
  },
  {
   "cell_type": "markdown",
   "metadata": {},
   "source": [
    "</span><span style=\"font-size: 15px; color:rgb(255, 255, 255);\">\n",
    "When working with the Python REPL, there may be times when a programmer needs more information about an expression, value, or object. The `dir()` function can be helpful in describing what properties a Python object may have.\n",
    "\n",
    "```py\n",
    "dir()\n",
    "dir(4)\n",
    "```\n",
    "</span>"
   ]
  },
  {
   "cell_type": "code",
   "execution_count": 20,
   "metadata": {},
   "outputs": [
    {
     "name": "stdout",
     "output_type": "stream",
     "text": [
      "Help on method_descriptor:\n",
      "\n",
      "upper(self, /) unbound builtins.str method\n",
      "    Return a copy of the string converted to uppercase.\n",
      "\n"
     ]
    },
    {
     "data": {
      "text/plain": [
       "'THIS IS A STRING'"
      ]
     },
     "execution_count": 20,
     "metadata": {},
     "output_type": "execute_result"
    }
   ],
   "source": [
    "dir('thjis_is_a_string')\n",
    "help(str.upper)\n",
    "'this is a string'.upper()"
   ]
  },
  {
   "cell_type": "code",
   "execution_count": null,
   "metadata": {},
   "outputs": [],
   "source": [
    "#use a dot accessor to get info more quickly\n",
    "'string'.upper()\n",
    "x = \"string2\"\n"
   ]
  },
  {
   "cell_type": "markdown",
   "metadata": {},
   "source": [
    "___\n",
    "### <span style=\"font-size: 30px; color:rgb(150, 150, 150); font-weight: bold\">Using Intellisense Stategically</span>"
   ]
  },
  {
   "cell_type": "markdown",
   "metadata": {},
   "source": [
    "___\n",
    "___\n",
    "##\n",
    "<span style=\"font-size: 40px; color:rgb(200, 200, 200); font-weight: bold\">Check on Learning</span>"
   ]
  },
  {
   "cell_type": "markdown",
   "metadata": {},
   "source": [
    "___\n",
    "___\n",
    "___\n",
    "# <span style=\"font-size: 50px; color:rgb(250, 250, 250); font-weight: bold;\">Python Data Types</span>"
   ]
  },
  {
   "cell_type": "markdown",
   "metadata": {},
   "source": [
    "___\n",
    "___\n",
    "## <span style=\"font-size: 40px; color:rgb(200, 200, 200); font-weight: bold\">Introduction</span>"
   ]
  },
  {
   "cell_type": "code",
   "execution_count": 21,
   "metadata": {},
   "outputs": [
    {
     "name": "stdout",
     "output_type": "stream",
     "text": [
      "1 1 1\n",
      "1 3 1\n"
     ]
    }
   ],
   "source": []
  },
  {
   "cell_type": "markdown",
   "metadata": {},
   "source": [
    "___\n",
    "### <span style=\"font-size: 30px; color:rgb(150, 150, 150); font-weight: bold\">Objectives</span>"
   ]
  },
  {
   "cell_type": "markdown",
   "metadata": {},
   "source": [
    "<span style=\"font-size: 15px; color:rgb(250, 250, 250)\">\n",
    "\n",
    "- Explore basic data types of the Python language\n",
    " \n",
    "- Use type() to find the data type a variable refers to\n",
    " \n",
    "- Use Boolean data types to represent True or False\n",
    "\n",
    "- Create sequences of characters as Python strings\n",
    "\n",
    "- Recognize character encoding\n",
    " \n",
    "- Understand the None type\n",
    "\n",
    "- Identify Python Keywords\n",
    " \n",
    "- Assign data to variables\n",
    "\n",
    "- Convert data from one type to another\n",
    "</span>"
   ]
  },
  {
   "cell_type": "markdown",
   "metadata": {},
   "source": [
    "___\n",
    "### <span style=\"font-size: 30px; color:rgb(150, 150, 150); font-weight: bold\">TLO Knowledge and Skills</span>"
   ]
  },
  {
   "cell_type": "markdown",
   "metadata": {},
   "source": [
    "<span style=\"font-size: 15px; color:rgb(250, 250, 250)\">\n",
    "\n",
    "Conditions:\n",
    "  - Given a classroom, applicable references, and a practical exercise, the Cyber Mission Force, students will demonstrate an understanding of data types, variables, and operators.\n",
    "</span>"
   ]
  },
  {
   "cell_type": "markdown",
   "metadata": {},
   "source": [
    "#### <hr style=\"border-style:dashed\"><span style=\"font-size: 25px; color:rgb(100, 100, 100); font-weight: bold\">Knowledge</span>"
   ]
  },
  {
   "cell_type": "markdown",
   "metadata": {},
   "source": [
    "<span style=\"font-size: 15px; color:rgb(250, 250, 250)\">\n",
    "\n",
    "- Identify the components that build program structure in Python\n",
    "\n",
    "- Understand Python structure and the components used in scripting\n",
    "</span>"
   ]
  },
  {
   "cell_type": "markdown",
   "metadata": {},
   "source": [
    "#### <hr style=\"border-style:dashed\"><span style=\"font-size: 25px; color:rgb(100, 100, 100); font-weight: bold\">Skills</span>"
   ]
  },
  {
   "cell_type": "markdown",
   "metadata": {},
   "source": [
    "<span style=\"font-size: 15px; color:rgb(250, 250, 250)\">\n",
    "\n",
    " - Working knowledge of how to write and modify scripts in order to perform specific functions\n",
    " \n",
    " - Knowledge of parsing through scripts and files\n",
    "</span>"
   ]
  },
  {
   "cell_type": "markdown",
   "metadata": {},
   "source": [
    "___\n",
    "___\n",
    "## <span style=\"font-size: 40px; color:rgb(200, 200, 200); font-weight: bold\">Print Function Introduction</span>"
   ]
  },
  {
   "cell_type": "markdown",
   "metadata": {},
   "source": [
    "<span style=\"font-size: 15px; color:rgb(250, 250, 250)\">\n",
    "The `print()` function is intuitively named and provides a copy of the items placed inside the parentheses.\n",
    "\n",
    "We will use this function randomly throughout this course to view our data.\n",
    "\n",
    "The `print()` function is a great way to test your code and make sure it is correctly executing the commands and the logic you provide in your future code blocks.\n",
    "\n",
    "Some examples of using `print()`. We will discuss this function in more depth later, just become comfortable with using it for now.\n",
    "\n",
    "Next we will begin discussing what each of the items are that are found inside the following `print()` examples.\n",
    "\n",
    "```python\n",
    "print('hello world')\n",
    "#output:  hello world\n",
    "\n",
    "print(5)\n",
    "#output:  5\n",
    "\n",
    "print( 1 + 2)\n",
    "#output:  3\n",
    "#NOTE: the print function here accounted for the math being performed inside the parenthesis\n",
    "\n",
    "```\n",
    "</span>"
   ]
  },
  {
   "cell_type": "markdown",
   "metadata": {},
   "source": [
    "___\n",
    "___\n",
    "## <span style=\"font-size: 40px; color:rgb(200, 200, 200); font-weight: bold\">Data Types</span>"
   ]
  },
  {
   "cell_type": "markdown",
   "metadata": {},
   "source": [
    "<span style=\"font-size: 15px; color:rgb(250, 250, 250)\">\n",
    "\n",
    "Two useful functions for determining object types:<br><code>type(obj:any)</code> and<br><code>isinstance(obj:any, 'name_of_type_as_string')</code>\n",
    "```python\n",
    "obj = None\n",
    "print(type(obj)) # <class None>\n",
    "\n",
    "print(isinstance(obj, 'None')) #True\n",
    "```\n",
    "</span>"
   ]
  },
  {
   "cell_type": "markdown",
   "metadata": {},
   "source": [
    "___\n",
    "### <span style=\"font-size: 30px; color:rgb(150, 150, 150); font-weight: bold\">Integer</span>"
   ]
  },
  {
   "cell_type": "markdown",
   "metadata": {},
   "source": [
    "<span style=\"font-size: 15px; color:rgb(250, 250, 250)\">\n",
    "\n",
    "**Properties**:\n",
    "- \\<class int\\>\n",
    "- immutable (once assigned to memory, cannot change value)\n",
    "- whole numbers\n",
    "- -5 through 256 have constant memory locations\n",
    "- - no limit on size\n",
    "</span>"
   ]
  },
  {
   "cell_type": "code",
   "execution_count": null,
   "metadata": {},
   "outputs": [],
   "source": [
    "type(5)\n",
    "type(-1)\n",
    "\n",
    "645664"
   ]
  },
  {
   "cell_type": "markdown",
   "metadata": {},
   "source": [
    "___\n",
    "### <span style=\"font-size: 30px; color:rgb(150, 150, 150); font-weight: bold\">Float</span>"
   ]
  },
  {
   "cell_type": "markdown",
   "metadata": {},
   "source": [
    "<span style=\"font-size: 15px; color:rgb(250, 250, 250)\">\n",
    "\n",
    "**Properties**:\n",
    "- #example: 12.0\n",
    "- \\<class int\\>\n",
    "- immutable (once assigned to memory, cannot change value)\n",
    "- have at least one whole number and one decimal value. ie 0.0\n",
    "- precision is dependent on system architecture\n",
    "</span>"
   ]
  },
  {
   "cell_type": "code",
   "execution_count": 22,
   "metadata": {},
   "outputs": [
    {
     "name": "stdout",
     "output_type": "stream",
     "text": [
      "140624919506960\n",
      "140624919508560\n"
     ]
    }
   ],
   "source": [
    "type(2.0)\n",
    "type(123214.23143254)\n"
   ]
  },
  {
   "cell_type": "markdown",
   "metadata": {},
   "source": [
    "___\n",
    "### <span style=\"font-size: 30px; color:rgb(150, 150, 150); font-weight: bold\">Boolean</span>"
   ]
  },
  {
   "cell_type": "markdown",
   "metadata": {},
   "source": [
    "<span style=\"font-size: 15px; color:rgb(250, 250, 250)\">\n",
    "\n",
    "- The bool data type is named after Boolean values. In short, a bool data type at its most base level can hold only the values 0 or 1.\n",
    "\n",
    "\n",
    "- This can be thought of as a way to express True [1] or False [0]. For example, the bool value of 0 represents False.\n",
    "- Any value of a variable other than 0 will result to True in Bool\n",
    "\n",
    "**Properties**:\n",
    "- example: True\n",
    "- \\<class bool\\>\n",
    "- subclass of integer\n",
    "- True and False are the only boolean values, but many things can be interpreted as boolean values\n",
    "</span>"
   ]
  },
  {
   "cell_type": "markdown",
   "metadata": {},
   "source": [
    "___\n",
    "### <span style=\"font-size: 30px; color:rgb(150, 150, 150); font-weight: bold\">Math Operations</span>"
   ]
  },
  {
   "cell_type": "markdown",
   "metadata": {},
   "source": [
    "<span style=\"font-size: 15px; color:rgb(250, 250, 250)\">\n",
    "\n",
    "| Operation |               Result              |\n",
    "| --------- | ----------------------------------|\n",
    "| x + y     | Sum of x and y                    |\n",
    "| x - y     | difference of X and Y             |\n",
    "| x * y     | Product of X and Y                |\n",
    "| x / y     | Quotient of x and Y               |\n",
    "| x // y    | Floored (integer) Quotient of X and Y   |\n",
    "| x % y     | Modulus - Remainder of x / y                |\n",
    "| -x        | x negated                         |\n",
    "| +x        | x unchanged                       |\n",
    "| abs(x)    | Absolute Value(or magnitude of x) |\n",
    "| x ** y    | x to the y power                  |</span>"
   ]
  },
  {
   "cell_type": "code",
   "execution_count": null,
   "metadata": {},
   "outputs": [
    {
     "name": "stdout",
     "output_type": "stream",
     "text": [
      "2.0\n",
      "2.0\n",
      "1.0\n",
      "4\n",
      "3.0\n"
     ]
    }
   ],
   "source": [
    "print(12 // 5)\n",
    "print(10 / 5)\n",
    "print(3.0 % 2)\n",
    "print(2**2)\n",
    "print(27**(1/3)) #cubbed root of 27"
   ]
  },
  {
   "cell_type": "code",
   "execution_count": 23,
   "metadata": {},
   "outputs": [
    {
     "data": {
      "text/plain": [
       "-111"
      ]
     },
     "execution_count": 23,
     "metadata": {},
     "output_type": "execute_result"
    }
   ],
   "source": [
    "#orders of precedent\n",
    "#things are always evaluated left to right\n",
    "#parenthesis, function calls\n",
    "#exponentiation\n",
    "#mult, div, floordiv, modulous,matrix-mult\n",
    "#add, sub\n",
    "#bitwise\n",
    "\n",
    "3-(2+4)*(7 + (6*2))\n",
    "3-6*(7 + (6*2))\n",
    "3-6*(7 + 12)\n",
    "3-6*19\n",
    "\n"
   ]
  },
  {
   "cell_type": "code",
   "execution_count": 24,
   "metadata": {},
   "outputs": [
    {
     "data": {
      "text/plain": [
       "7"
      ]
     },
     "execution_count": 24,
     "metadata": {},
     "output_type": "execute_result"
    }
   ],
   "source": [
    "7*True"
   ]
  },
  {
   "cell_type": "code",
   "execution_count": 25,
   "metadata": {},
   "outputs": [
    {
     "data": {
      "text/plain": [
       "14.0"
      ]
     },
     "execution_count": 25,
     "metadata": {},
     "output_type": "execute_result"
    }
   ],
   "source": [
    "7*2."
   ]
  },
  {
   "cell_type": "markdown",
   "metadata": {},
   "source": []
  },
  {
   "cell_type": "markdown",
   "metadata": {},
   "source": [
    "___\n",
    "### <span style=\"font-size: 30px; color:rgb(150, 150, 150); font-weight: bold\">String</span>"
   ]
  },
  {
   "cell_type": "markdown",
   "metadata": {},
   "source": [
    "<span style=\"font-size: 15px; color:rgb(250, 250, 250)\">\n",
    "\n",
    "**Properties**:\n",
    "- examples:'Hello',\"hello\",'''hello''',\"\"\"hello\"\"\"\n",
    "- \\<class str\\>\n",
    "- immutable\n",
    "- sequence any string more than a length of one is an ordered sequence of strings of length 1 aka a character (just not in type). \n",
    "</span>"
   ]
  },
  {
   "cell_type": "code",
   "execution_count": null,
   "metadata": {},
   "outputs": [],
   "source": [
    "#empty strings\n",
    "''\n",
    "\"\"\n",
    "''''''\n",
    "\"\"\"\"\"\""
   ]
  },
  {
   "cell_type": "code",
   "execution_count": null,
   "metadata": {},
   "outputs": [
    {
     "name": "stdout",
     "output_type": "stream",
     "text": [
      "  1\n"
     ]
    }
   ],
   "source": [
    "#whitespace characters are not empty\n",
    "print(' ', len(' ')) #' ' has a single space"
   ]
  },
  {
   "cell_type": "code",
   "execution_count": null,
   "metadata": {},
   "outputs": [],
   "source": [
    "#single-single/double quote strings\n",
    "print('Need to specify all whitespace\\nexplicitly')"
   ]
  },
  {
   "cell_type": "code",
   "execution_count": 26,
   "metadata": {},
   "outputs": [
    {
     "name": "stdout",
     "output_type": "stream",
     "text": [
      "Captures all typed\n",
      "whitespace.\n"
     ]
    }
   ],
   "source": [
    "#triple-single/double quote strings\n",
    "print(\"\"\"Captures all typed\n",
    "whitespace.\"\"\")"
   ]
  },
  {
   "cell_type": "code",
   "execution_count": 32,
   "metadata": {},
   "outputs": [
    {
     "name": "stdout",
     "output_type": "stream",
     "text": [
      "2\n",
      "2\n",
      "'2'\n",
      "2 <class 'str'>\n"
     ]
    }
   ],
   "source": [
    "x = '2'\n",
    "print(x) #prints the string formatted, so the quotes are stripped, but its still a string\n",
    "print(2) \n",
    "print(repr(x))\n",
    "print(x, type(x))"
   ]
  },
  {
   "cell_type": "code",
   "execution_count": null,
   "metadata": {},
   "outputs": [],
   "source": []
  },
  {
   "cell_type": "markdown",
   "metadata": {},
   "source": [
    "#### <hr style=\"border-style:dashed\"><span style=\"font-size: 25px; color:rgb(100, 100, 100); font-weight: bold\">Escape Characters</span>"
   ]
  },
  {
   "cell_type": "markdown",
   "metadata": {},
   "source": [
    "| Sequence | Character/Meaning |\n",
    "| :------- | ----------------:|\n",
    "| \\        | Line Continuation |\n",
    "| \\\\\\       | Backslash         |\n",
    "| \\'       | single Quote      |\n",
    "| \\\"       | Double Quote      |\n",
    "| \\a       | ASCII Bell(BEL)   |\n",
    "| \\b       | Backspace         |\n",
    "| \\f       | Form Feed         |\n",
    "| \\n       | Line feed         |\n",
    "| \\r       | Carriage Return   |\n",
    "| \\t       | Horizontal Tab    |\n",
    "| \\v       | Vertical Tab      |\n",
    "| \\ooo | ASCII Character Specified by Octal |\n",
    "| \\xhhh | ASCII Character Specified by Hexadecimal |\n",
    "| \\uxxxx | Unicode Character Specified by 16-bit Hex |\n",
    "| \\uxxxxxxxx | Unicode Character Specified by 32-bit Hex |\n"
   ]
  },
  {
   "cell_type": "code",
   "execution_count": 36,
   "metadata": {},
   "outputs": [
    {
     "name": "stdout",
     "output_type": "stream",
     "text": [
      "It's beautiful day! + It's beautiful day! this is not a newlineIt's beautiful day!\n"
     ]
    }
   ],
   "source": [
    "# print It's a beautiful day! in a string with single quotes\n",
    "x = 'It\\'s beautiful day!' # the escape character is needed to\n",
    "# include the single quote\n",
    "y = \"It's beautiful day!\"\n",
    "print(x, y, sep=' + ', end=' this is not a newline') #sep and end are optional, and can change the default behavior\n",
    "print(x)"
   ]
  },
  {
   "cell_type": "code",
   "execution_count": null,
   "metadata": {},
   "outputs": [],
   "source": [
    "# as a string print (172/12)\n",
    "print('(172/12)')"
   ]
  },
  {
   "cell_type": "code",
   "execution_count": 39,
   "metadata": {},
   "outputs": [
    {
     "data": {
      "text/plain": [
       "'a'"
      ]
     },
     "execution_count": 39,
     "metadata": {},
     "output_type": "execute_result"
    }
   ],
   "source": [
    "\"spam and eggs\"[5] #strings are a sequence of strings of length 1"
   ]
  },
  {
   "cell_type": "markdown",
   "metadata": {},
   "source": [
    "___\n",
    "### <span style=\"font-size: 30px; color:rgb(150, 150, 150); font-weight: bold\">List</span>"
   ]
  },
  {
   "cell_type": "markdown",
   "metadata": {},
   "source": [
    "* mutable (can be modified)\n",
    "* <code>['comma', 'separated', 'items']</code>\n",
    "* sequence of items\n"
   ]
  },
  {
   "cell_type": "code",
   "execution_count": 50,
   "metadata": {},
   "outputs": [
    {
     "name": "stdout",
     "output_type": "stream",
     "text": [
      "32\n"
     ]
    }
   ],
   "source": [
    "[] #empty list\n",
    "[1, 2, 3] #list with 3 integer items\n",
    "[1, 1.0, 'hello'] #list three items of mixed types\n",
    "[1, [1, 3]] # a list with two items: an integer and a li\n",
    "\n",
    "\n"
   ]
  },
  {
   "cell_type": "code",
   "execution_count": 52,
   "metadata": {},
   "outputs": [
    {
     "name": "stdout",
     "output_type": "stream",
     "text": [
      "[1, 2, 3] 140624916817024 [1, 2, 3] 140624916817024 [1, 2, 3] 140624916817024\n",
      "[1, 2, 7] [1, 2, 7] [1, 2, 7] 140624916817024\n"
     ]
    }
   ],
   "source": [
    "#mutability\n",
    "x=y=z=[1,2,3]\n",
    "print(x,id(x),y,id(y),z,id(z))\n",
    "y[2] = 7\n",
    "print(x,y,z, id(y))"
   ]
  },
  {
   "cell_type": "markdown",
   "metadata": {},
   "source": [
    "___\n",
    "### <span style=\"font-size: 30px; color:rgb(150, 150, 150); font-weight: bold\">Tuple</span>"
   ]
  },
  {
   "cell_type": "markdown",
   "metadata": {},
   "source": [
    "* immutable (cannot be modified)\n",
    "* <code>['comma', 'separated', 'items']</code>\n",
    "* sequence of items"
   ]
  },
  {
   "cell_type": "code",
   "execution_count": null,
   "metadata": {},
   "outputs": [],
   "source": [
    "() #empty tuple\n",
    "('a',) #tuple with 1 element NOTE: the comma makes this a tuple with one element, otherwise python\n",
    "       #interprets the parenthesis as a grouping\n",
    "(1, 2.5, [2,'a']) #tuple with three items of mixed types"
   ]
  },
  {
   "cell_type": "code",
   "execution_count": 54,
   "metadata": {},
   "outputs": [
    {
     "ename": "TypeError",
     "evalue": "'tuple' object does not support item assignment",
     "output_type": "error",
     "traceback": [
      "\u001b[31m---------------------------------------------------------------------------\u001b[39m",
      "\u001b[31mTypeError\u001b[39m                                 Traceback (most recent call last)",
      "\u001b[36mCell\u001b[39m\u001b[36m \u001b[39m\u001b[32mIn[54]\u001b[39m\u001b[32m, line 2\u001b[39m\n\u001b[32m      1\u001b[39m x = (\u001b[32m1\u001b[39m,\u001b[32m2\u001b[39m,\u001b[32m3\u001b[39m)\n\u001b[32m----> \u001b[39m\u001b[32m2\u001b[39m \u001b[43mx\u001b[49m\u001b[43m \u001b[49m\u001b[43m[\u001b[49m\u001b[32;43m2\u001b[39;49m\u001b[43m]\u001b[49m = \u001b[32m7\u001b[39m\n",
      "\u001b[31mTypeError\u001b[39m: 'tuple' object does not support item assignment"
     ]
    }
   ],
   "source": [
    "x = (1,2,3)\n",
    "x [2] = 7"
   ]
  },
  {
   "cell_type": "markdown",
   "metadata": {},
   "source": [
    "___\n",
    "___\n",
    "## <span style=\"font-size: 40px; color:rgb(200, 200, 200); font-weight: bold\">Variables</span>"
   ]
  },
  {
   "cell_type": "markdown",
   "metadata": {},
   "source": [
    "<span style=\"font-size: 15px; color:rgb(250, 250, 250)\">\n",
    "\n",
    "**Properties**\n",
    "- Alphanumeric characters and underscore\n",
    "- Must start with an alphabetical character or underscore\n",
    "- Makes an identifier that relates one of the following to a memory location:\n",
    "    - variable, function/method, class, module\n",
    "</span>"
   ]
  },
  {
   "cell_type": "code",
   "execution_count": null,
   "metadata": {},
   "outputs": [],
   "source": [
    "#typical declaration\n",
    "x = 12"
   ]
  },
  {
   "cell_type": "code",
   "execution_count": null,
   "metadata": {},
   "outputs": [],
   "source": [
    "#dynamic declaration\n",
    "a,b,c = 'hello', 10, 5.0"
   ]
  },
  {
   "cell_type": "code",
   "execution_count": null,
   "metadata": {},
   "outputs": [],
   "source": [
    "#dynamic declaration with unpacking\n",
    "j,k,l = [1, 3.0, 7]"
   ]
  },
  {
   "cell_type": "code",
   "execution_count": null,
   "metadata": {},
   "outputs": [],
   "source": [
    "#naming conventions\n",
    "thisVarUsesCamelCase = 12\n",
    "this_var_uses_snake_case ='hello'"
   ]
  },
  {
   "cell_type": "markdown",
   "metadata": {},
   "source": [
    "___\n",
    "___\n",
    "## <span style=\"font-size: 40px; color:rgb(200, 200, 200); font-weight: bold\">Data Conversion Functions</span>"
   ]
  },
  {
   "cell_type": "markdown",
   "metadata": {},
   "source": [
    "|               |           |            |             |\n",
    "| ------------  | ---------- | ---------- | ------------|\n",
    "| `int()`  | `str()` | `float()` |\n",
    "| `list()` | `tuple()` | `bool()` |\n",
    "\n",
    "name_of_datatype_convert_to(thing to convert)"
   ]
  },
  {
   "cell_type": "code",
   "execution_count": null,
   "metadata": {},
   "outputs": [],
   "source": [
    "# int() with strings\n",
    "int('-137') #only charaters allowed in string are +-[0-9]\n"
   ]
  },
  {
   "cell_type": "code",
   "execution_count": null,
   "metadata": {},
   "outputs": [],
   "source": [
    "#int() with floats\n",
    "int(5.7)"
   ]
  },
  {
   "cell_type": "code",
   "execution_count": null,
   "metadata": {},
   "outputs": [],
   "source": [
    "#int() with booleans\n",
    "int(True)"
   ]
  },
  {
   "cell_type": "code",
   "execution_count": 57,
   "metadata": {},
   "outputs": [
    {
     "name": "stdout",
     "output_type": "stream",
     "text": [
      "62\n",
      "-12\n",
      "34\n"
     ]
    }
   ],
   "source": [
    "#int with strings\n",
    "print(int('+62'))\n",
    "print(int('-12'))\n",
    "print(int(34))"
   ]
  },
  {
   "cell_type": "code",
   "execution_count": null,
   "metadata": {},
   "outputs": [],
   "source": [
    "#float() with strings\n",
    "print(float('6'))\n",
    "print(float('-10.4'))\n",
    "\n"
   ]
  },
  {
   "cell_type": "code",
   "execution_count": null,
   "metadata": {},
   "outputs": [],
   "source": [
    "# convert '10.6' to an integer\n",
    "int(float('10.6'))\n",
    "#print(int('10.6'))"
   ]
  },
  {
   "cell_type": "code",
   "execution_count": 58,
   "metadata": {},
   "outputs": [
    {
     "data": {
      "text/plain": [
       "'<built-in function print>'"
      ]
     },
     "execution_count": 58,
     "metadata": {},
     "output_type": "execute_result"
    }
   ],
   "source": [
    "# str()\n",
    "str(1.6) #can put any object in here\n",
    "str(print)"
   ]
  },
  {
   "cell_type": "code",
   "execution_count": null,
   "metadata": {},
   "outputs": [],
   "source": [
    "# bool()\n",
    "#all False values\n",
    "bool('')\n",
    "bool([])\n",
    "bool(())\n",
    "bool(0)\n",
    "bool(0.0)\n",
    "bool(False)"
   ]
  },
  {
   "cell_type": "code",
   "execution_count": null,
   "metadata": {},
   "outputs": [],
   "source": [
    "# bool()\n",
    "#all True values\n",
    "bool('sdf')\n",
    "bool([1])\n",
    "bool((1))\n",
    "bool(-120938)\n",
    "bool(12.7)\n",
    "bool(True)"
   ]
  },
  {
   "cell_type": "code",
   "execution_count": null,
   "metadata": {},
   "outputs": [
    {
     "name": "stdout",
     "output_type": "stream",
     "text": [
      "['h', 'e', 'l', 'l', 'o']\n"
     ]
    }
   ],
   "source": [
    "#convert string into tuple or list\n",
    "print(list('hello'))"
   ]
  },
  {
   "cell_type": "code",
   "execution_count": 60,
   "metadata": {},
   "outputs": [
    {
     "ename": "TypeError",
     "evalue": "tuple expected at most 1 argument, got 3",
     "output_type": "error",
     "traceback": [
      "\u001b[31m---------------------------------------------------------------------------\u001b[39m",
      "\u001b[31mTypeError\u001b[39m                                 Traceback (most recent call last)",
      "\u001b[36mCell\u001b[39m\u001b[36m \u001b[39m\u001b[32mIn[60]\u001b[39m\u001b[32m, line 2\u001b[39m\n\u001b[32m      1\u001b[39m (\u001b[32m1\u001b[39m,\u001b[32m2\u001b[39m,\u001b[32m3\u001b[39m) \u001b[38;5;66;03m#these parenthesis are what make a tuple\u001b[39;00m\n\u001b[32m----> \u001b[39m\u001b[32m2\u001b[39m \u001b[38;5;28;43mtuple\u001b[39;49m\u001b[43m(\u001b[49m\u001b[32;43m1\u001b[39;49m\u001b[43m,\u001b[49m\u001b[32;43m2\u001b[39;49m\u001b[43m,\u001b[49m\u001b[32;43m3\u001b[39;49m\u001b[43m)\u001b[49m\n",
      "\u001b[31mTypeError\u001b[39m: tuple expected at most 1 argument, got 3"
     ]
    }
   ],
   "source": [
    "(1,2,3) #these parenthesis are what make a tuple\n",
    "tuple(1,2,3)"
   ]
  },
  {
   "cell_type": "markdown",
   "metadata": {},
   "source": [
    "___\n",
    "___\n",
    "## <span style=\"font-size: 40px; color:rgb(200, 200, 200); font-weight: bold\">Print and Input Functions</span>"
   ]
  },
  {
   "cell_type": "code",
   "execution_count": null,
   "metadata": {},
   "outputs": [],
   "source": [
    "x = input('Message prompt to user')\n",
    "print(x, type(x))"
   ]
  },
  {
   "cell_type": "code",
   "execution_count": null,
   "metadata": {},
   "outputs": [],
   "source": [
    "x = input('Give me a number')\n",
    "print(x, type(x))"
   ]
  },
  {
   "cell_type": "markdown",
   "metadata": {},
   "source": [
    "___\n",
    "___\n",
    "## <span style=\"font-size: 40px; color:rgb(200, 200, 200); font-weight: bold\">Check On Learning</span>"
   ]
  },
  {
   "cell_type": "markdown",
   "metadata": {},
   "source": [
    "___\n",
    "___\n",
    "___\n",
    "# <span style=\"font-size: 50px; color:rgb(250, 250, 250); font-weight: bold;\">Intermediate Lists and Strings</span>"
   ]
  },
  {
   "cell_type": "markdown",
   "metadata": {},
   "source": [
    "___\n",
    "___\n",
    "## <span style=\"font-size: 40px; color:rgb(200, 200, 200); font-weight: bold\">Indexing</span>"
   ]
  },
  {
   "cell_type": "markdown",
   "metadata": {},
   "source": [
    "<span style=\"font-size: 15px; color:rgb(250, 250, 250)\">\n",
    "\n",
    "Access items in lists, tuples and strings using indexing\n",
    "<code>seq_obj[index:int]</code>\n",
    "</span>"
   ]
  },
  {
   "cell_type": "code",
   "execution_count": null,
   "metadata": {},
   "outputs": [
    {
     "name": "stdout",
     "output_type": "stream",
     "text": [
      "zero\n",
      "1\n",
      "two\n"
     ]
    }
   ],
   "source": [
    "#index:  0    1    2\n",
    "simple_list = ['zero',1,'two']\n",
    "print(simple_list[0])  #NOTE: an integer is passed inside the [] to specify the index number\n",
    "#output:  zero\n",
    "\n",
    "print(simple_list[1])\n",
    "#output: 1\n",
    "\n",
    "print(simple_list[2])\n",
    "#output: two"
   ]
  },
  {
   "cell_type": "markdown",
   "metadata": {},
   "source": [
    "<span style=\"font-size: 15px; color:rgb(250, 250, 250)\">\n",
    "\n",
    "Indexes are zero based. When accessing items by index, the index must be valid.\n",
    "</span>"
   ]
  },
  {
   "cell_type": "code",
   "execution_count": null,
   "metadata": {},
   "outputs": [
    {
     "data": {
      "text/plain": [
       "12"
      ]
     },
     "execution_count": 72,
     "metadata": {},
     "output_type": "execute_result"
    }
   ],
   "source": [
    "#index: 0, 1, 2: (3 is not valid)\n",
    "simple_list = [12, 4, 7]\n",
    "simple_list[3]\n"
   ]
  },
  {
   "cell_type": "markdown",
   "metadata": {},
   "source": [
    "<span style=\"font-size: 15px; color:rgb(250, 250, 250)\">\n",
    "\n",
    "Indexes can be negative, to start decrementing from the last item\n",
    "</span>"
   ]
  },
  {
   "cell_type": "code",
   "execution_count": null,
   "metadata": {},
   "outputs": [],
   "source": [
    "#index:        0, 1, 2, 3, 4\n",
    "#index:       -5,-4,-3,-2,-1\n",
    "simple_list = [7, 9, 5, 8, 3]\n",
    "#last item in sequence\n",
    "simple_list[-1] #output: \n",
    "#4th to last item\n",
    "simple_list[-4] #output:\n",
    "\n",
    "#now forwards\n",
    "#fourth item\n",
    "simple_list[3] #output:"
   ]
  },
  {
   "cell_type": "markdown",
   "metadata": {},
   "source": [
    "Examples with tuple and string"
   ]
  },
  {
   "cell_type": "code",
   "execution_count": null,
   "metadata": {},
   "outputs": [],
   "source": [
    "tup = ('one',2,'three')\n",
    "print(tup[1])\n",
    "#output:  \n",
    "\n",
    "strng = 'hello world'\n",
    "print(strng[-1])\n",
    "#output:  "
   ]
  },
  {
   "cell_type": "markdown",
   "metadata": {},
   "source": [
    "Accessing items in nested sequences"
   ]
  },
  {
   "cell_type": "code",
   "execution_count": null,
   "metadata": {},
   "outputs": [],
   "source": [
    "            #index:|          0         |    1   |    2   |\n",
    "nested_sequence = [(32, 532, 79, 20, 10), \"hello\", 'world'] #nested sequence has three items inside\n",
    "#the first item in nested_sequence\n",
    "nested_sequence[0] #outputs: (32, 532, 79, 20, 10) which is also a sequence with 5 items\n",
    "\n",
    "#get the first item from the first item of nested_sequence\n",
    "#named_of_sequence[outter_index][inner_index]\n",
    "nested_sequence[0][0] #outputs 32\n",
    "\n",
    "#get the second to last item from the second item in nested_sequence\n",
    "nested_sequence"
   ]
  },
  {
   "cell_type": "markdown",
   "metadata": {},
   "source": [
    "As sequences gets more progressively nested, each bracketed index from left to right refers to sequences from outter to inner"
   ]
  },
  {
   "cell_type": "code",
   "execution_count": null,
   "metadata": {},
   "outputs": [
    {
     "name": "stdout",
     "output_type": "stream",
     "text": [
      "[[[1, 2, 1, 2, 1, 2]], ('apple', 'apple'), ['goat', 'goat']]\n"
     ]
    }
   ],
   "source": [
    "deeply_nested_sequence = [[[1, 2, 1, 2, 1, 2]], ('apple', 'apple'), ['goat', 'goat']]\n",
    "\n",
    "#what is the value at deeply_nested_sequence[1][0][3]?"
   ]
  },
  {
   "cell_type": "markdown",
   "metadata": {},
   "source": [
    "___\n",
    "___\n",
    "## <span style=\"font-size: 40px; color:rgb(200, 200, 200); font-weight: bold\">List and Tuple Methods</span>"
   ]
  },
  {
   "cell_type": "markdown",
   "metadata": {},
   "source": [
    "### Modifying a List using indexing"
   ]
  },
  {
   "cell_type": "markdown",
   "metadata": {},
   "source": [
    "Lists are mutable and can be modified dynamically. Meaning, the lists memory location remains constant, but the value of the list can change"
   ]
  },
  {
   "cell_type": "code",
   "execution_count": null,
   "metadata": {},
   "outputs": [
    {
     "name": "stdout",
     "output_type": "stream",
     "text": [
      "['one', 2, 3]\n"
     ]
    }
   ],
   "source": [
    "simple_list = [1,2,3]\n",
    "#change the first item (found in index 0) to the string 'one'\n",
    "\n",
    "simple_list[0] = 'one'\n",
    "print(simple_list)\n",
    "#output: ['one', 2, 3]"
   ]
  },
  {
   "cell_type": "code",
   "execution_count": null,
   "metadata": {},
   "outputs": [],
   "source": [
    "#using augmented assigment (combining math operators with assignments)\n",
    "x = 1\n",
    "x += 3\n",
    "print(x) #output: 4\n",
    "#useful for counters\n",
    "\n",
    "simple_list = [1,2,3]\n",
    "simple_list[2] *= 4\n",
    "print(simple_list) #output: [1, 2, 12]"
   ]
  },
  {
   "cell_type": "code",
   "execution_count": null,
   "metadata": {},
   "outputs": [],
   "source": [
    "tuple_with_list_items = ([1,2],[3,4],['a','b','c'])\n",
    "tuple_with_list_items[0][1] = 7\n",
    "print(tuple_with_list_items)\n",
    "\n",
    "#what happens if you try tuple_with_list_items[0] += [5,6]\n",
    "tuple_with_list_items[0] += [5,6]"
   ]
  },
  {
   "cell_type": "markdown",
   "metadata": {},
   "source": [
    "## List Methods\n",
    "\n",
    "The most commonly used methods are listed below, however, there are many more methods available. To learn more about other list methods you can visit both of the following resources:\n",
    "\n",
    "- Using `help(list)` in your IDE\n",
    "\n",
    "- [Python Docs - More on Lists](https://docs.python.org/3/tutorial/datastructures.html#more-on-lists)\n",
    "\n",
    "- [W3Schools](https://www.w3schools.com/python/python_lists_methods.asp)\n",
    "\n",
    "\n",
    "    - `append(item)` - Adds a new element to the end of the list, increasing the length by one.\n",
    "\n",
    "    - `count(item)` - Returns the total number of times the item specified is found inside the list.\n",
    "\n",
    "    - `extend(iterable)` - Adds each element from the iterable passed in as new elements to the end of the list, increasing the length by the number of items in the iterable.\n",
    "\n",
    "    - `insert(index, item)` - Adds the specified item at the specified index position, shifting existing elements to make room for the new item, increasing the length by one.\n",
    "\n",
    "    - `pop(index)` - Deletes the element at the specified index or the end of the list if no index is provided, decreasing the length by one.\n",
    "\n",
    "    - `remove(value)` - Deletes the first instance of the specified value in the list, decreasing the length by one.\n",
    "\n",
    "**Methods in action:**\n"
   ]
  },
  {
   "cell_type": "code",
   "execution_count": null,
   "metadata": {},
   "outputs": [],
   "source": [
    "lst = [1,2,3]\n",
    "lst.append(4)  #NOTE: .append can only take ONE item at a time\n",
    "print(lst)\n",
    "#output:  [1, 2, 3, 4]"
   ]
  },
  {
   "cell_type": "code",
   "execution_count": null,
   "metadata": {},
   "outputs": [],
   "source": [
    "lst = [1,2,3]\n",
    "new_lst = [4,5,6]\n",
    "lst.extend(new_lst)\n",
    "print(lst)\n",
    "#output:  [1, 2, 3, 4, 5, 6]\n",
    "#NOTE: lst is permanently changed and new_lst has remained unchanged"
   ]
  },
  {
   "cell_type": "code",
   "execution_count": null,
   "metadata": {},
   "outputs": [],
   "source": [
    "lst = [1,2,3]\n",
    "lst.insert(0,'zero')\n",
    "print(lst)\n",
    "#output:  ['zero', 1, 2, 3]"
   ]
  },
  {
   "cell_type": "markdown",
   "metadata": {},
   "source": [
    "What is the difference between\n",
    "```python\n",
    "[1,2,3].extend([4,5,6])\n",
    "```\n",
    "and\n",
    "```python\n",
    "[1,2,3] + [4,5,6]\n",
    "```"
   ]
  },
  {
   "cell_type": "markdown",
   "metadata": {},
   "source": [
    "Adding an item to the `list` (three ways):  "
   ]
  },
  {
   "cell_type": "code",
   "execution_count": null,
   "metadata": {},
   "outputs": [],
   "source": [
    "lst = [1,2,3,1,2,3]\n",
    "lst.remove(1)\n",
    "print(lst)\n",
    "#output: [2, 3, 1, 2, 3]\n",
    "#NOTE: ONLY the first instance of the int 1 was removed"
   ]
  },
  {
   "cell_type": "code",
   "execution_count": null,
   "metadata": {},
   "outputs": [],
   "source": [
    "lst = [1,2,3]\n",
    "del lst[0]  #NOTE:  del is a keyword used to delete items from the list\n",
    "print(lst)\n",
    "#output: [2, 3]"
   ]
  },
  {
   "cell_type": "code",
   "execution_count": null,
   "metadata": {},
   "outputs": [],
   "source": [
    "lst = [1,2,3]\n",
    "lst.pop(0)\n",
    "print(lst)\n",
    "#output: [2, 3]"
   ]
  },
  {
   "cell_type": "code",
   "execution_count": null,
   "metadata": {},
   "outputs": [],
   "source": [
    "lst = [1,2,3]\n",
    "x = lst.pop(1)\n",
    "print(lst, x)\n",
    "#output: [1, 3] 2\n"
   ]
  },
  {
   "cell_type": "markdown",
   "metadata": {},
   "source": [
    "Removing items from a `list` (three ways):"
   ]
  },
  {
   "cell_type": "markdown",
   "metadata": {},
   "source": [
    "Counting items in a `list`:"
   ]
  },
  {
   "cell_type": "markdown",
   "metadata": {},
   "source": [
    "## Tuple Methods\n",
    "\n",
    "Tuples are NOT mutable and cannot be dynamically changed using methods. Tuples do still have some helpful methods.\n",
    "\n",
    "- `count(item)` - Returns the total number of times the item specified is found inside the tuple\n",
    "\n",
    "- `index(item)` - Returns the index position of the item\n"
   ]
  },
  {
   "cell_type": "code",
   "execution_count": null,
   "metadata": {},
   "outputs": [],
   "source": [
    "tup = (9,8,7,9,8,7)\n",
    "tup.count(9)\n",
    "nine_count = tup.count(9)\n",
    "print(nine_count)\n",
    "#output: 2"
   ]
  },
  {
   "cell_type": "code",
   "execution_count": null,
   "metadata": {},
   "outputs": [],
   "source": [
    "tup = (1,2,3)\n",
    "tup.index(2)  #NOTE: The returned index number can be saved into a variable if needed\n",
    "where_is_2 = tup.index(2)\n",
    "print(where_is_2)\n",
    "#output:  1"
   ]
  },
  {
   "cell_type": "markdown",
   "metadata": {},
   "source": [
    "\n",
    "## Make changes to a tuple\n",
    "\n",
    "While tuples are great at maintaining the integrity of its contents, sometimes a change may need to be made. \n",
    "\n",
    "|  **Scenario:** |\n",
    "|---|\n",
    "|Joe Smith is being reassigned to Ft. Eisenhower, GA and his record needs to be updated|"
   ]
  },
  {
   "cell_type": "code",
   "execution_count": null,
   "metadata": {},
   "outputs": [],
   "source": [
    "soldier_159 = ('Joe','Smith','88M','Ft. Drum, NY')\n",
    "soldier_159 = list(soldier_159)  #converting to a list to access mutable properties\n",
    "soldier_159[-1] = 'Ft. Eisenhower, GA'\n",
    "soldier_159 = tuple(soldier_159)  #converting back to a tuple to 'lockdown' or deny mutability\n",
    "print(soldier_159)\n",
    "#output:  ('Joe', 'Smith', '88M', 'Ft. Eisenhower, GA')"
   ]
  },
  {
   "cell_type": "code",
   "execution_count": 39,
   "metadata": {},
   "outputs": [
    {
     "data": {
      "text/plain": [
       "2"
      ]
     },
     "execution_count": 39,
     "metadata": {},
     "output_type": "execute_result"
    }
   ],
   "source": [
    "# list = [1,2,3,2,5,6,7]\n",
    "# remove the second instance of 2 use of a combination of index and pop.\n",
    "lst1 = [1,2,3,2,5,6,7]\n",
    "# To determine first instance use list.index()\n",
    "first_occurence_index = lst1.index(2) + 1\n",
    "# we need to start looking for 2 after the firt occurence\n",
    "second_occurence_index = lst1.index(2, first_occurence_index)\n",
    "# we need to pop out the second instance\n",
    "lst1.pop(second_occurence_index)\n",
    "\n",
    "# Alternate method (plus one highlights start of first occurence)\n",
    "# list.pop(list.index(2,list.index(2)+1))\n",
    "\n"
   ]
  },
  {
   "cell_type": "code",
   "execution_count": null,
   "metadata": {},
   "outputs": [
    {
     "name": "stdout",
     "output_type": "stream",
     "text": [
      "['hello', 'BIG', 'world']\n",
      "['hello', 'BIG', 'world', 'goat']\n"
     ]
    }
   ],
   "source": [
    "x = y = ['hello', 'big', 'world'] # variables can equal each other\n",
    "y[1] = y[1].upper()\n",
    "print(x)\n",
    "z = y \n",
    "z.append('goat') # add the word goat to the list\n",
    "print(y)"
   ]
  },
  {
   "cell_type": "markdown",
   "metadata": {},
   "source": [
    "___\n",
    "___\n",
    "## <span style=\"font-size: 40px; color:rgb(200, 200, 200); font-weight: bold\">String Casing</span>"
   ]
  },
  {
   "cell_type": "markdown",
   "metadata": {},
   "source": [
    "- Strings in Python are an *immutable* sequence of zero or more characters.\n",
    "\n",
    "\n",
    "- Literal string values may be enclosed in single or double quotes and can span multiple lines in several ways.\n",
    "    - This is achieved by using the line continuation character \\ as the last character.\n",
    "\n",
    "- Literal strings may also be prefixed with a letter r or R.\n",
    "    - These are referred to as raw strings and use different rules for backslash escape sequences.\n",
    "\n",
    "- Strings in Python are represented using a class named `str`.\n",
    "\n",
    "- The `str` class has an abundance of methods defined within it.\n",
    "    - Some of the methods return Boolean values such as `True` or `False`.\n",
    "    - Some methods return a modified **copy** of the string.\n",
    "\n",
    "\n",
    "- A full listing of the string methods can be found by using: \n",
    "    - `help(str)` from the Python interactive shell or your IDE.\n",
    "    - [W3Schools](https://www.w3schools.com/python/python_strings_methods.asp)\n",
    "    - [Python Docs](https://docs.python.org/3/library/stdtypes.html#string-methods)"
   ]
  },
  {
   "cell_type": "markdown",
   "metadata": {},
   "source": [
    "## String Casing methods\n",
    "- Python provides several methods that can be used to modify the casing of characters in a string.\n",
    "- ```upper()``` returns a **copy** of the string with all cased characters converted to uppercase.\n",
    "- ```lower()``` returns a **copy** of the string with all cased characters converted to lowercase letters.\n",
    "- ```casefold()``` similar to lower(), is stronger, more aggressive, meaning that it will also convert unicode characters into lower case. This method will find more matches when comparing two strings and both are converted using the casefold() method\n",
    "- ```title()``` returns a **copy** of the string with the first letter of each word in the string in upper case and the rest of the characters in lower case.\n",
    "- ```capitalize()``` returns a **copy** of the string with the first letter in upper case and the rest of the characters in lower case."
   ]
  },
  {
   "cell_type": "code",
   "execution_count": null,
   "metadata": {},
   "outputs": [],
   "source": [
    "string = \"python is fun\"                                                        #Output: \n",
    "print(\"String is now upper:\", string.upper())           #String is now upper: PYTHON IS FUN\n",
    "print(\"String is now lower\", string.lower())            #String is now lower python is fun\n",
    "print(\"String is now casefold:\", string.casefold())     #String is now casefold: python is fun\n",
    "print(\"String is now title:\", string.title())           #String is now title: Python Is Fun\n",
    "print(\"String is now capitalize:\", string.capitalize()) #String is now capitalize: Python is fun\n",
    "\n"
   ]
  },
  {
   "cell_type": "markdown",
   "metadata": {},
   "source": [
    "___\n",
    "___\n",
    "## <span style=\"font-size: 40px; color:rgb(200, 200, 200); font-weight: bold\">Finding Substrings</span>"
   ]
  },
  {
   "cell_type": "markdown",
   "metadata": {},
   "source": [
    "\n",
    "- A variety of methods can be used to find instances of characters or strings within another string.\n",
    "\n",
    "\n",
    "- `count(s)` will return the number of times the value passed to the method is found within the string.\n",
    "\n",
    "\n",
    "- `index(s)` will return the index position of the first instance of the value passed to the method.\n",
    "\n",
    "\n",
    "- `index()` will raise a `ValueError` exception if the value to find is not found within the string\n",
    "\n",
    "\n",
    "- `find(s)` is similar to index but find will return a -1 when the sub-string is not found rather than raising an exception.\n",
    "\n",
    "\n",
    "!!! Note \"Note\"\n",
    "    that all these methods perform case sensitive searches."
   ]
  },
  {
   "cell_type": "code",
   "execution_count": null,
   "metadata": {},
   "outputs": [],
   "source": [
    "string = \"python is fun\"\n",
    "                                # Output:\n",
    "print(string.count(\"n\"))        #  2\n",
    "print(string.index(\"n\"))        #  5\n",
    "print(string.find(\"n\"))         #  5\n",
    "print(string.find('z'))         #  -1"
   ]
  },
  {
   "cell_type": "code",
   "execution_count": 55,
   "metadata": {},
   "outputs": [
    {
     "name": "stdout",
     "output_type": "stream",
     "text": [
      "['h', 'e', 'l', 'L', 'o', ' ', 'w', 'o', 'r', 'l', 'd']\n"
     ]
    }
   ],
   "source": [
    "# find change the second occurence of the letter 'l' to uppercase in a given string variable\n",
    "string = 'hello world'\n",
    "string_list = list(string) # need to convert it because we want to modify the string and strings are not modifieable.\n",
    "\n",
    "# Find the locations of the first L\n",
    "first_l_pos = string_list.index('l') # This gives us the index of the first L\n",
    "second_l_pos = string_list.index('l', first_l_pos + 1) #This gives us the second position/plus 1 need to look after first occurence\n",
    "string_list[second_l_pos] = string_list[second_l_pos].upper()\n",
    "print(string_list)\n"
   ]
  },
  {
   "cell_type": "code",
   "execution_count": null,
   "metadata": {},
   "outputs": [
    {
     "name": "stdout",
     "output_type": "stream",
     "text": [
      "('pear', 'apple', 'pineapple', 'berry', 'apple', 'orange', 'APPLE', 'kiwi')\n"
     ]
    }
   ],
   "source": [
    "# tuple = ('pear','apple','pineapple','berry','apple','orange','apple','kiwi') create a tuple where the third occurence \n",
    "# of apple is uppercase\n",
    "\n",
    "tup2 = ('pear','apple','pineapple','berry','apple','orange','apple','kiwi')\n",
    "list_tup2 = list(tup2)\n",
    "\n",
    "first_apple_occur = list_tup2.index('apple')\n",
    "second_apple_occur = list_tup2.index('apple', first_apple_occur + 1)\n",
    "third_apple_occur = list_tup2.index('apple', second_apple_occur + 1)\n",
    "list_tup2[third_apple_occur] = list_tup2[third_apple_occur].upper()\n",
    "\n",
    "list_tup2 = tuple(list_tup2)\n",
    "print(list_tup2)"
   ]
  },
  {
   "cell_type": "markdown",
   "metadata": {},
   "source": [
    "___\n",
    "___\n",
    "## <span style=\"font-size: 40px; color:rgb(200, 200, 200); font-weight: bold\">Modifying Strings</span>"
   ]
  },
  {
   "cell_type": "markdown",
   "metadata": {},
   "source": [
    "## Methods To Create Modified Copies of Strings\n",
    "\n",
    "- Methods can be used to clean up data or to replace or remove unwanted characters.\n",
    "\n",
    "**It is important to note that all of these methods will only return a modified *copy* of your string UNLESS you assign it to a variable**\n",
    "\n",
    "- `strip()` will remove any leading and trailing whitespace from the string.\n",
    "\n",
    "\n",
    "- `lstrip()` will remove any leading whitespace (whitespace on the left)\n",
    "\n",
    "\n",
    "- `rstrip()` will remove any trailing whitespace (whitespace on the right)\n",
    "\n",
    "\n",
    "- `replace(old, new)` replaces all instances of the first parameter with all instances of the second parameter.\n",
    "\t- An optional third parameter can be used to specify the number of times the replacement is to be made."
   ]
  },
  {
   "cell_type": "code",
   "execution_count": 81,
   "metadata": {},
   "outputs": [
    {
     "name": "stdout",
     "output_type": "stream",
     "text": [
      "\t 123-456-7890 \t\n",
      "123-456-7890\n",
      "123 456 7890\n"
     ]
    }
   ],
   "source": [
    "s = \"\\t 123-456-7890 \\t\"\n",
    "                                          #Output:\n",
    "stripped = s.strip()\n",
    "print(s)#-------------------------->    123-456-7890\n",
    "print(stripped)#-------------------------->123-456-7890\n",
    "print(stripped.replace(\"-\", \" \"))#-------->123 456 7890"
   ]
  },
  {
   "cell_type": "code",
   "execution_count": null,
   "metadata": {},
   "outputs": [
    {
     "name": "stdout",
     "output_type": "stream",
     "text": [
      "'abcbcbcbcbadouble cheeseburgerabcabcaabc'\n",
      "'double cheeseburger'\n"
     ]
    }
   ],
   "source": [
    "#strip,lstrip,and rstrip will remove any sequence of a set of characters\n",
    "random_string = \"abcbcbcbcbadouble cheeseburgerabcabcaabc\"\n",
    "print(repr(random_string))\n",
    "random_string = random_string.strip('abc') # remove all a's, b's, c's in string\n",
    "print(repr(random_string))"
   ]
  },
  {
   "cell_type": "markdown",
   "metadata": {},
   "source": [
    "## Splitting and Joining Strings Working With Lists\n",
    "\n",
    "Strings are immutable objects which can make them difficult to easily alter. Let's look at some methods available to break apart strings, make some alterations if necessary, and then join them back together.\n",
    "\n",
    "- `.split()` - Returns a `list` of the original string elements separated by index by the item specified; default value is whitespace"
   ]
  },
  {
   "cell_type": "code",
   "execution_count": null,
   "metadata": {},
   "outputs": [],
   "source": [
    "phrase = 'hello world'\n",
    "split_phrase = phrase.split()\n",
    "print(split_phrase)\n",
    "#output:  ['hello', 'world']  NOTE: The output is a list object and deletes the seperator\n",
    "# by default the split function will split on the whitespaces."
   ]
  },
  {
   "cell_type": "markdown",
   "metadata": {},
   "source": [
    "\n",
    "It is important to note that the item provided to the `.split()` method will be removed completely from the string"
   ]
  },
  {
   "cell_type": "code",
   "execution_count": null,
   "metadata": {},
   "outputs": [],
   "source": [
    "sentence = 'Hello class! Welcome to Python.'\n",
    "split_sentence = sentence.split('!')  #NOTE: the item provided MUST be a str value\n",
    "print(split_sentence)\n",
    "#output:   ['Hello class', ' Welcome to Python.']"
   ]
  },
  {
   "cell_type": "markdown",
   "metadata": {},
   "source": [
    "Notice that the '!' is completely removed and the sentence has been split apart based on the placement of the '!'\n",
    "\n",
    "|  **Scenario:** |\n",
    "|---|\n",
    "|Given a string with a first and last name, isolate and save each part of the name to separate variables|"
   ]
  },
  {
   "cell_type": "code",
   "execution_count": null,
   "metadata": {},
   "outputs": [],
   "source": [
    "full_name = 'Joe Smith'\n",
    "fname = full_name.split()[0]\n",
    "lname = full_name.split()[1]\n",
    "print(fname)\n",
    "#output:  Joe\n",
    "print(lname)\n",
    "#output:  Smith"
   ]
  },
  {
   "cell_type": "code",
   "execution_count": 70,
   "metadata": {},
   "outputs": [
    {
     "name": "stdout",
     "output_type": "stream",
     "text": [
      "['Joe', 'Smith']\n",
      "The first name is: Joe The last name is: Smith\n"
     ]
    }
   ],
   "source": [
    "full_name = 'Joe Smith'\n",
    "print(full_name.split())\n",
    "fname , lname = full_name.split()\n",
    "print('The first name is:', fname, 'The last name is:' ,lname)\n"
   ]
  },
  {
   "cell_type": "markdown",
   "metadata": {},
   "source": [
    "# is METHODS for Strings\n",
    "\n",
    "- Methods can be used to to validate if a string contains a certain set of characters\n",
    "- When the method validates, it will return either True or False\n",
    "\n",
    "### The methods are:\n",
    "-  `isdigit()`: will return `True` if all characters are digits\n",
    "-  `islower()`: will return `True` if all characters are lowercase\n",
    "-  `isupper()`: will return `True` if all characters are uppercase\n",
    "-  `isalnum()`: will return `True` if all characters are alphanumeric"
   ]
  },
  {
   "cell_type": "code",
   "execution_count": null,
   "metadata": {},
   "outputs": [],
   "source": [
    "s = \"will this return true?\"\n",
    "print(s.islower())\n",
    "#output:  True\n",
    "print(s.isdigit())\n",
    "#output:  False\n",
    "print(s.isupper())\n",
    "#output:  False\n",
    "print(s.isalnum())\n",
    "#output:  False         NOTE: This returned False because whitespaces do NOT count as alphanumeric characters"
   ]
  },
  {
   "cell_type": "markdown",
   "metadata": {},
   "source": [
    "___\n",
    "___\n",
    "## <span style=\"font-size: 40px; color:rgb(200, 200, 200); font-weight: bold\">String Formatting</span>"
   ]
  },
  {
   "cell_type": "markdown",
   "metadata": {},
   "source": [
    "___\n",
    "### <span style=\"font-size: 30px; color:rgb(150, 150, 150); font-weight: bold\">f-strings</span>"
   ]
  },
  {
   "cell_type": "markdown",
   "metadata": {},
   "source": [
    "| Type |  Meaning |\n",
    "| :----| :-------- |\n",
    "| s  | String format. This is the default type for strings and may be omitted. |\n",
    "| none | The same as 's'. |\n",
    "| b  | Binary Format. The Number is display as base 2. |\n",
    "| c  | Character. Converts the integer to a Unicode Character. |\n",
    "| d  | Decimal Integer. This converts the number to base 10.   | \n",
    "| x or X | Hex format. Display the number in base 16. The case of the hex number will match the case of the specifier. |\n",
    "| f | Fixed point number. Displays the number with a decimal point. Default precision is 6. |\n",
    "| % | percentage. Multiplies the number by 100 and displays in fixed ('f') fromat with a percent sign. |"
   ]
  },
  {
   "cell_type": "markdown",
   "metadata": {},
   "source": [
    "| Format Specifier | Effect | Example |\n",
    "| :-- | :-- | :-- |\n",
    "| <num | right justify if width greater than text | <code>f'{9:<3}'</code> -> <code>'9  '</code> |\n",
    "| >num | left justify if width greater than text | <code>f'{9:>3}'</code> -> <code>'  9'</code> |\n",
    "| ^num | center justify if width greater than text | <code>f'{9:^3}'</code> -> <code>' 9 '</code> |\n",
    "| 0num | forces leading zeros for numbers | <code>f'{9:03}'</code> -> <code>'009'</code> |\n",
    "| , | thousands separator | <code>f'{9000:,}'</code> -> <code>'9,000'</code> |\n",
    "| _ | thousands separator | <code>f'{9000:_,_}'</code> -> <code>'9_000'</code> |\n",
    "| .numf | decimal precision | <code>f'{12.4:.2f}'</code> -> <code>'12.40'</code> |\n",
    "| % | mulitplies num by 100 and adds % suffix | <code>f'{12.4:%}'</code> -> <code>'1240.000000%'</code> |\n",
    "| b | prints binary of number | <code>f'{6:b}'</code> -> <code>'110'</code> |\n",
    "| #b | prints binary of number with 0b prefix | <code>f'{6:#b}'</code> -> <code>'0b110'</code> |\n",
    "| o | prints octal of number | <code>f'{9:o}'</code> -> <code>'11'</code> |\n",
    "| #o | prints octal of number with 0o prefix | <code>f'{6:#o}'</code> -> <code>'0o11'</code> |\n",
    "| x | prints hex of number | <code>f'{13:x}'</code> -> <code>'d'</code> |\n",
    "| #x | prints hex of number with 0x prefix | <code>f'{6:#x}'</code> -> <code>'0xd'</code> |\n",
    "| X | same as x but uppercase | <code>f'{13:X}'</code> -> <code>'D'</code> |\n",
    "| #X | same as #X but uppercase | <code>f'{6:#X}'</code> -> <code>'0XD'</code> |\n"
   ]
  },
  {
   "cell_type": "code",
   "execution_count": 71,
   "metadata": {},
   "outputs": [
    {
     "name": "stdout",
     "output_type": "stream",
     "text": [
      "Python is fun\n"
     ]
    }
   ],
   "source": [
    "coding_language = \"Python\"\n",
    "print(f'{coding_language} is fun')   \n",
    "#output:   Python is fun"
   ]
  },
  {
   "cell_type": "markdown",
   "metadata": {},
   "source": [
    "\n",
    "\n",
    "    A programmer can define and merge f-strings to create a multi-line f-string.\n",
    "\n",
    "    Notice that the {name} placeholder, or field can be repeated. Python evaluates the fields in the braces as Python expressions and looks for variables to match.\n",
    "\n",
    "    The order of the fields does not matter and as stated earlier, a field can contain any valid Python expression. It is important to include the f or F in front of each line.\n"
   ]
  },
  {
   "cell_type": "code",
   "execution_count": null,
   "metadata": {},
   "outputs": [],
   "source": [
    "coding_language = \"Python\"\n",
    "audience = \"Students\"\n",
    "\n",
    "long_string = f\"{coding_language} is fun. {audience} seem to enjoy learning Python\"\n",
    "\n",
    "print(long_string)\n",
    "#output:  Python is fun. Students seem to enjoy learning Python."
   ]
  },
  {
   "cell_type": "markdown",
   "metadata": {},
   "source": [
    "\n",
    "\n",
    "    When using f-strings the programmer can place curly braces in a literal string.\n",
    "\n",
    "    The curly braces can contain a Python expression.\n",
    "\n",
    "    Additionally, the programmer can specify additional formatting details for the result of the Python expression.\n",
    "\n",
    "    A format specifier can be appended to the field after a colon : and inside the curly braces.\n",
    "\n",
    "    Backslashes are not allowed within the formatting field and will cause a syntax error!\n"
   ]
  },
  {
   "cell_type": "code",
   "execution_count": null,
   "metadata": {},
   "outputs": [],
   "source": [
    "PI = 3.14159\n",
    "print(f\"PI is now 2 decimal places: {PI:.2f}\") #  this will show 2 digits after the decimal\n",
    "#output:  PI is now 2 decimal places: 3.14\n",
    "\n",
    "PI = 3.14159\n",
    "print(f\"PI is now 4 decimal places: {PI:.4f}\") #NOTE rounding took place in the string formatting\n",
    "#output:  PI is now 4 decimal places: 3.1416\n",
    "\n",
    "num = .5\n",
    "print(f\"num is now a percentage: {num:%}\") \n",
    "#output:  num is now a percentage: 50.000000%\n",
    "\n",
    "print(f\"num is now 2 decimal places: {num:.2%}\") \n",
    "#output:  num is now a percentage with only 2 decimal places: 50.00%"
   ]
  },
  {
   "cell_type": "markdown",
   "metadata": {},
   "source": [
    "___\n",
    "### <span style=\"font-size: 30px; color:rgb(150, 150, 150); font-weight: bold\">str.format</span>\n",
    "\n",
    "\n",
    "    format() is a method to be used with str.\n",
    "\n",
    "    Much like f-strings, the str.format() method uses curly braces in a template string to mark where the output should be replaced.\n",
    "\n",
    "    The syntax is to create a string literal with fields marked with curly braces {} where the programmer wants the output to appear.\n"
   ]
  },
  {
   "cell_type": "code",
   "execution_count": null,
   "metadata": {},
   "outputs": [],
   "source": [
    "difficulty = \"easy\"\n",
    "output = \"Formatting in python is {}\".format(difficulty)\n",
    "print(output)       \n",
    "#output:  Formatting in python is easy     "
   ]
  },
  {
   "cell_type": "code",
   "execution_count": null,
   "metadata": {},
   "outputs": [],
   "source": [
    "task = \"Formatting\"\n",
    "difficulty = \"easy\"\n",
    "output = \"{} in python is {}\".format(task, difficulty)\n",
    "print(output)\n",
    "#output:  Formatting in python is easy"
   ]
  },
  {
   "cell_type": "markdown",
   "metadata": {},
   "source": [
    "___\n",
    "___\n",
    "___\n",
    "# <span style=\"font-size: 50px; color:rgb(250, 250, 250); font-weight: bold;\">Python Fundementals</span>"
   ]
  },
  {
   "cell_type": "markdown",
   "metadata": {},
   "source": [
    "___\n",
    "___\n",
    "## <span style=\"font-size: 40px; color:rgb(200, 200, 200); font-weight: bold\">Introduction</span>"
   ]
  },
  {
   "cell_type": "markdown",
   "metadata": {},
   "source": [
    "### <span style=\"font-size: 30px; color:rgb(150, 150, 150); font-weight: bold\">Video</span>"
   ]
  },
  {
   "cell_type": "markdown",
   "metadata": {},
   "source": [
    "<video width=\"auto\" height=\"auto\" controls>\n",
    "     <source src=\"PythonIntroVideo.mp4\" type=\"video/mp4\">\n",
    "</video>"
   ]
  },
  {
   "cell_type": "markdown",
   "metadata": {},
   "source": [
    "___\n",
    "### <span style=\"font-size: 30px; color:rgb(150, 150, 150); font-weight: bold\">Objectives</span>"
   ]
  },
  {
   "cell_type": "markdown",
   "metadata": {},
   "source": [
    "<span style=\"font-size: 15px; color:rgb(250, 250, 250)\"><ul>\n",
    "<li>Understand programming’s role as sequential instructions</li>\n",
    "<li>Explore types of programming languages</li>\n",
    "<li>Compare syntax of English and Python</li>\n",
    "<li>Learn the different approaches to following instructions, interactive vs. batch</li>\n",
    "<li>Understand the difference between interpreted and compiled programming languages</li>\n",
    "<li>Understand the difference between code and data</li>\n",
    "<li>Understand the differences between python/python2/python3</li>\n",
    "<li>Running Python programs from the command line</li>\n",
    "<li>Use the Python REPL: Read-Evaluate-Print-Loop</li>\n",
    "<li>Understand literals</li>\n",
    "<li>Find and access Python documentation</li>\n",
    "<li>Access <code>help()</code></li>\n",
    "<li>Describe Python keywords and objects with <code>dir()</code></li>\n",
    "<li>Exit the Python shell</li>\n",
    "<li>Use comments</li>\n",
    "<li>Use preferred style for Python programs</li>\n",
    "</ul></span>"
   ]
  },
  {
   "cell_type": "markdown",
   "metadata": {},
   "source": [
    "___\n",
    "### <span style=\"font-size: 30px; color:rgb(150, 150, 150); font-weight: bold\">TLO Knowledge and Skills</span>"
   ]
  },
  {
   "cell_type": "markdown",
   "metadata": {},
   "source": [
    "#### <hr style=\"border-style:dashed\"><span style=\"font-size: 25px; color:rgb(100, 100, 100); font-weight: bold\">Condition</span>"
   ]
  },
  {
   "cell_type": "markdown",
   "metadata": {},
   "source": [
    "<span style=\"font-size: 15px; color:rgb(250, 250, 250)\">Given a classroom, applicable references, and a practical exercise, the Cyber Mission Force student will demonstrate an understanding of python fundamentals.</span>"
   ]
  },
  {
   "cell_type": "markdown",
   "metadata": {},
   "source": [
    "#### <hr style=\"border-style:dashed\"><span style=\"font-size: 25px; color:rgb(100, 100, 100); font-weight: bold\">Knowledge</span>"
   ]
  },
  {
   "cell_type": "markdown",
   "metadata": {},
   "source": [
    "<span style=\"font-size: 15px; color:rgb(250, 250, 250)\"><ul>\n",
    "<li>Python Overview</li>\n",
    "<li>Basic Python Syntax</li>\n",
    "<li>Common Python Grammar</li>\n",
    "<li>Differences between Interactive Read-Eval-Print Loop (REPL)</li>\n",
    "<li>Shell vs. Batch</li>\n",
    "<li>Execution of Python code from the Command Line</li>\n",
    "<li>Execution of Python code in an Interactive Read-Eval-Print Loop (REPL) Shell</li>\n",
    "</ul></span>"
   ]
  },
  {
   "cell_type": "markdown",
   "metadata": {},
   "source": [
    "#### <hr style=\"border-style:dashed\"><span style=\"font-size: 25px; color:rgb(100, 100, 100); font-weight: bold\">Skills</span>"
   ]
  },
  {
   "cell_type": "markdown",
   "metadata": {},
   "source": [
    "<span style=\"font-size: 15px; color:rgb(250, 250, 250)\"><ul>\n",
    "<li>Identify Python Documentation.</li>\n",
    "<li>Utilize Python Help functions.</li>\n",
    "<li>Understand Basic Python Syntax.</li>\n",
    "<li>Utilize Python from Command Line.</li>\n",
    "<li>Utilize Python from Interactive Read-Eval-Print Loop (REPL) Shell.</li>\n",
    "</ul></span>"
   ]
  },
  {
   "cell_type": "markdown",
   "metadata": {},
   "source": [
    "___\n",
    "### <span style=\"font-size: 30px; color:rgb(150, 150, 150); font-weight: bold\">Assessments</span>"
   ]
  },
  {
   "cell_type": "markdown",
   "metadata": {},
   "source": [
    "<span style=\"font-size: 15px; color:rgb(250, 250, 250)\"><ul>\n",
    "<li>Check on Learnings</li>\n",
    "<li>Group PE's</li>\n",
    "<li>PE's</li>\n",
    "</ul></span>"
   ]
  },
  {
   "cell_type": "markdown",
   "metadata": {},
   "source": [
    "___\n",
    "### <span style=\"font-size: 30px; color:rgb(150, 150, 150); font-weight: bold\">Classroom Rules</span>"
   ]
  },
  {
   "cell_type": "markdown",
   "metadata": {},
   "source": [
    "<span style=\"font-size: 15px; color:rgb(250, 250, 250)\"><ul>\n",
    "<li>No AI assistance</li>\n",
    "<li>Take notes</li>\n",
    "<li>Participate</li>\n",
    "<li>No games, social media, or email (other than uploading/downloading personal notes)</li>\n",
    "<li>No conduting searches/business other than coding</li>\n",
    "<li>Aiding peers is encouraged, <b>this does not mean providing answers</b></li>\n",
    "<li>Release criteria: everyone achieves a minimum of 70% completion of all PEs</li>\n",
    "<li>Additional criteria: fullfill all building cleaning duties</li>\n",
    "<li><b>Class leader</b> is in charge of accountability and time keeping (break schedule)</li>\n",
    "</ul></span>"
   ]
  },
  {
   "cell_type": "markdown",
   "metadata": {},
   "source": [
    "___\n",
    "### <span style=\"font-size: 30px; color:rgb(150, 150, 150); font-weight: bold\">Risk Mitigation</span>"
   ]
  },
  {
   "cell_type": "markdown",
   "metadata": {},
   "source": [
    "<span style=\"font-size: 15px; color:rgb(250, 250, 250)\"><ul>\n",
    "<li>NSTR for environmental concerns (rereduce, reuse, recylce)</li>\n",
    "<li>This is a computer room, be mindful of wires, and ensure all beverages have lids</li>\n",
    "<li>In the event of a fire<ul>\n",
    "<li>Proceed to nearest safe fire exit</li>\n",
    "<li>Meet by the picnic tables in north parking lot</li>\n",
    "</ul</li>\n",
    "</ul></span>"
   ]
  },
  {
   "cell_type": "markdown",
   "metadata": {},
   "source": [
    "___\n",
    "### <span style=\"font-size: 30px; color:rgb(150, 150, 150); font-weight: bold\">Relevancy Past and Present</span>"
   ]
  },
  {
   "cell_type": "markdown",
   "metadata": {},
   "source": [
    "___\n",
    "___\n",
    "## <span style=\"font-size: 40px; color:rgb(200, 200, 200); font-weight: bold\">What is Python</span>"
   ]
  },
  {
   "cell_type": "markdown",
   "metadata": {},
   "source": [
    "___\n",
    "### <span style=\"font-size: 30px; color:rgb(150, 150, 150); font-weight: bold\">What is Python</span>"
   ]
  },
  {
   "cell_type": "markdown",
   "metadata": {},
   "source": [
    "<span style=\"font-size: 15px; color:rgb(250, 250, 250)\">\n",
    "Python is a <b>high-level</b>, <b>interpreted</b> programming language known for simplicity and readability.<br>\n",
    "<ul>\n",
    "  <li>Define high-level.</li>\n",
    "  <li>Define interpreted.</li>\n",
    "</ul>\n",
    "</span>"
   ]
  },
  {
   "cell_type": "markdown",
   "metadata": {},
   "source": [
    "___\n",
    "### <span style=\"font-size: 30px; color:rgb(150, 150, 150); font-weight: bold\">Benefits to Python</span>"
   ]
  },
  {
   "cell_type": "markdown",
   "metadata": {},
   "source": [
    "<span style=\"font-size: 15px; color:rgb(250, 250, 250)\">\n",
    "\n",
    "- **Powerful**: Python has a \"batteries included\" philosophy with thousands of 3rd party libraries as well\n",
    "\n",
    "- **Fast**: Coding is fast, execution performance is reasonable for many application\n",
    "\n",
    "- **Plays** well with others: C code can be called from Python and modules for Python can be written in C\n",
    "\n",
    "- **Runs everywhere**: Windows, Linux/UNIX, macOS, Other\n",
    "\n",
    "- **Simple and Easy to learn**: Managed, interpreted, simple syntax\n",
    "\n",
    "- **Open Source**: For personal and commercial use\n",
    "</span>"
   ]
  },
  {
   "cell_type": "markdown",
   "metadata": {},
   "source": [
    "___\n",
    "___\n",
    "## <span style=\"font-size: 40px; color:rgb(200, 200, 200); font-weight: bold\">Basic Syntax and Semantics</span>"
   ]
  },
  {
   "cell_type": "markdown",
   "metadata": {},
   "source": [
    "___\n",
    "### <span style=\"font-size: 30px; color:rgb(150, 150, 150); font-weight: bold\">Syntax</span>"
   ]
  },
  {
   "cell_type": "markdown",
   "metadata": {},
   "source": [
    "<span style=\"font-size: 15px; color:rgb(250, 250, 250)\">\n",
    "\n",
    "Python's <i>**syntax**</i> refers to the set of rules and structures that dictate how code is written in the language. It includes conventions for defining <u>**variables**</u>, writing <u>**statements**</u>, and organizing <u>**blocks of code**</u>. Python uses a combination of English keywords, punctuation symbols, and whitespace to construct valid <u>**expressions**</u> and statements.\n",
    "</span>"
   ]
  },
  {
   "cell_type": "markdown",
   "metadata": {},
   "source": [
    "####  <hr style=\"border-style:dashed\"><span style=\"font-size: 25px; color:rgb(100, 100, 100); font-weight: bold; display:block\">Keywords:<span>"
   ]
  },
  {
   "cell_type": "markdown",
   "metadata": {},
   "source": [
    "#####  <hr style=\"border-style:dotted\"><span style=\"font-size: 20px; color:rgb(80, 80, 80); font-weight: bold; display:block\">List of Keywords:<span>\n",
    "<span style=\"font-size: 15px; color:rgb(250, 250, 250)\">\n",
    "\n",
    "The list can also be found using <code>help('keywords')</code>.\n",
    "</span>"
   ]
  },
  {
   "cell_type": "markdown",
   "metadata": {},
   "source": [
    "<style>\n",
    "  .title {\n",
    "    background-color:black;\n",
    "    font-size:25px;\n",
    "    font-weight:bold;\n",
    "    text-align:center;\n",
    "  }\n",
    "</style>\n",
    "<span style=\"font-size: 15px; color:rgb(250, 250, 250);display:block\">\n",
    "  <table width=100%>\n",
    "    <theader><th class=\"title\" colspan=4>List of Python Keywords</th></thead>\n",
    "    <tr>\n",
    "      <td width=25%>False</td>\n",
    "      <td width=25%>class</td>\n",
    "      <td width=25%>from</td>\n",
    "      <td width=25%>or</td>\n",
    "    </tr>\n",
    "    <tr>\n",
    "      <td>None</td>\n",
    "      <td>continue</td>\n",
    "      <td>global</td>\n",
    "      <td>pass</td>\n",
    "    </tr>\n",
    "    <tr>\n",
    "      <td>True</td>\n",
    "      <td>def</td>\n",
    "      <td>if</td>\n",
    "      <td>raise</td>\n",
    "    </tr>\n",
    "    <tr>\n",
    "      <td>and</td>\n",
    "      <td>del</td>\n",
    "      <td>import</td>\n",
    "      <td>return</td>\n",
    "    </tr>\n",
    "    <tr>\n",
    "      <td>as</td>\n",
    "      <td>elif</td>\n",
    "      <td>in</td>\n",
    "      <td>try</td>\n",
    "    </tr>\n",
    "    <tr>\n",
    "      <td>assert</td>\n",
    "      <td>else</td>\n",
    "      <td>is</td>\n",
    "      <td>while</td>\n",
    "    </tr>\n",
    "    <tr>\n",
    "      <td>async</td>\n",
    "      <td>except</td>\n",
    "      <td>lambda</td>\n",
    "      <td>with</td>\n",
    "    </tr>\n",
    "    <tr>\n",
    "      <td>await</td>\n",
    "      <td>finally</td>\n",
    "      <td>nonlocal</td>\n",
    "      <td>yield</td>\n",
    "    </tr>\n",
    "    <tr>\n",
    "      <td>break</td>\n",
    "      <td>for</td>\n",
    "      <td>not</td>\n",
    "      <td></td>\n",
    "    </tr>\n",
    "  </table>\n",
    "</span>"
   ]
  },
  {
   "cell_type": "markdown",
   "metadata": {},
   "source": [
    "##### <hr style=\"border-style:dotted\"><span style=\"font-size: 20px; color:rgb(80, 80, 80); font-weight: bold; display:block\">Logic Operations:<span>"
   ]
  },
  {
   "cell_type": "markdown",
   "metadata": {},
   "source": [
    "<style>\n",
    "  .title {\n",
    "    background-color:black;\n",
    "    font-size:25px;\n",
    "    font-weight:bold;\n",
    "    text-align:center;\n",
    "  }\n",
    "  .header {\n",
    "    background-color:rgb(30,30,30);\n",
    "    font-size:20px;\n",
    "    font-weight:bold;\n",
    "  }\n",
    "  .subsection {\n",
    "    background-color:rgb(60,60,60);\n",
    "    font-size:15px;\n",
    "    font-weight:bold;\n",
    "    text-align:center;\n",
    "  }\n",
    "</style>\n",
    "<span style=\"font-size: 15px; color:rgb(250, 250, 250);display:block\">\n",
    "  <table width=100%>\n",
    "    <thead>\n",
    "      <th class=\"title\" colspan=3>Logic Operations</th>\n",
    "    </thead>\n",
    "    <tr class=\"header\">\n",
    "      <td width=16%>Keyword</td>\n",
    "      <td width=42%>Use Case</td>\n",
    "      <td width=42%>Example</td>\n",
    "    </tr>\n",
    "    <tr class=\"row\">\n",
    "      <td><code>in</code></td>\n",
    "      <td>Comparison operation:<br>Tests if a value is in a collection (list, tuple, string...)<br>\n",
    "      Resolves to <code>True</code> or <code>False</code>\n",
    "      </td>\n",
    "      <td>\n",
    "\n",
    "```python\n",
    "12 in [ 1, 32, 12, 4 ] #True\n",
    "```\n",
    "<t>\n",
    "      </td>\n",
    "    </tr>\n",
    "    <tr class=\"row\">\n",
    "      <td><code>is</code></td>\n",
    "      <td>Comparison operation:<br>Tests if two values are\n",
    "      the same value at the same memory address.<br>\n",
    "      Resolves to <code>True</code> or <code>False</code></td>\n",
    "      <td>\n",
    "\n",
    "```python\n",
    "numGT256 = 512\n",
    "cloneNum = numGT256\n",
    "numGT256 is 512 #False\n",
    "numGT256 is cloneNum #True\n",
    "```\n",
    "<t>\n",
    "      </td>\n",
    "    </tr>\n",
    "    <tr class=\"row\">\n",
    "      <td><code>and</code></td>\n",
    "      <td>Logical Operator:<br>Compares two expressions\n",
    "      by implicity converting them to booleans.<br>\n",
    "      If both are <code>True</code><br>Resolves to <code>True</code>\n",
    "       else <code>False</code></td>\n",
    "      <td>\n",
    "\n",
    "```python\n",
    "1 and 'a' #True\n",
    "0 and True #False\n",
    "```\n",
    "<t>\n",
    "      </td>\n",
    "    </tr>\n",
    "    <tr class=\"row\">\n",
    "      <td><code>or</code></td>\n",
    "      <td>Logical Operator:<br>Compares two expressions\n",
    "      by implicity converting them to booleans.<br>\n",
    "      If either are <code>True</code><br>Resolves to <code>True</code>\n",
    "       else <code>False</code></td>\n",
    "      <td>\n",
    "\n",
    "```python\n",
    "1 or 'a' #True\n",
    "0 or True #True\n",
    "False or False #False\n",
    "```\n",
    "<t>\n",
    "      </td>\n",
    "    </tr>\n",
    "    <tr class=\"row\">\n",
    "      <td><code>Not</code></td>\n",
    "      <td>Logical Operator:<br>Inverts the next value.\n",
    "      It implicitly converts the value to a boolean<br>\n",
    "      Resolves to <code>True</code> or <code>False</code></td>\n",
    "      <td>\n",
    "\n",
    "```python\n",
    "not 'a' #False\n",
    "not False #True\n",
    "``` \n",
    "<t>\n",
    "    </tr>\n",
    "  </table>\n",
    "</span>"
   ]
  },
  {
   "cell_type": "markdown",
   "metadata": {},
   "source": [
    "#####  <hr style=\"border-style:dotted\"><span style=\"font-size: 20px; color:rgb(80, 80, 80); font-weight: bold; display:block\">Flow Control:<span>"
   ]
  },
  {
   "cell_type": "markdown",
   "metadata": {},
   "source": [
    "<style>\n",
    "  .title {\n",
    "    background-color:black;\n",
    "    font-size:25px;\n",
    "    font-weight:bold;\n",
    "    text-align:center;\n",
    "  }\n",
    "  .header {\n",
    "    background-color:rgb(30,30,30);\n",
    "    font-size:20px;\n",
    "    font-weight:bold;\n",
    "  }\n",
    "  .subsection {\n",
    "    background-color:rgb(60,60,60);\n",
    "    font-size:15px;\n",
    "    font-weight:bold;\n",
    "    text-align:center;\n",
    "  }\n",
    "</style>\n",
    "<span style=\"font-size: 15px; color:rgb(250, 250, 250);display:block\">\n",
    "  <table>\n",
    "    <thead>\n",
    "      <th class=\"title\" colspan=3>Flow Control</th>\n",
    "    </thead>\n",
    "    <tr class=\"header\" width=100%>\n",
    "      <td width=16%>Keyword</td>\n",
    "      <td width=42%>Use Case</td>\n",
    "      <td width=42%>Example</td>\n",
    "    </tr>\n",
    "    <tr class=\"row\" width=100%>\n",
    "      <td><code>pass</code></td>\n",
    "      <td>Null statment: Used as a placeholder for incomplete code blocks. Python ignores this.\n",
    "      </td>\n",
    "      <td>\n",
    "\n",
    "```python\n",
    "if x > 23:\n",
    "    pass #code blocks require, at least one statement\n",
    "```\n",
    "<t>\n",
    "      </td>\n",
    "    </tr>\n",
    "    <tr class=\"row\" width=100%>\n",
    "      <td><code>if</code></td>\n",
    "      <td>Begins a conditional statement.</td>\n",
    "      <td>\n",
    "\n",
    "```python\n",
    "if True:pass #this executes\n",
    "if True:pass #this also executes\n",
    "```\n",
    "<t>\n",
    "      </td>\n",
    "    </tr>\n",
    "    <tr class=\"row\" width=100%>\n",
    "      <td><code>elif</code></td>\n",
    "      <td>Continues a conditional statement after <code>if</code>. Executes if conditional statements above it are false.</td>\n",
    "      <td>\n",
    "\n",
    "```python\n",
    "if False:pass #skipped\n",
    "elif False:pass #skipped\n",
    "elif True:pass #this executes\n",
    "```\n",
    "<t>\n",
    "      </td>\n",
    "    </tr>\n",
    "    <tr class=\"row\" width=100%>\n",
    "      <td><code>else</code></td>\n",
    "      <td>Last conditional statement that follows other conditional statements</td>\n",
    "      <td>\n",
    "\n",
    "```python\n",
    "if False:pass #skipped\n",
    "elif False:pass #skipped\n",
    "elif True:pass #skipped\n",
    "else:pass #this executes\n",
    "```\n",
    "<t>\n",
    "      </td>\n",
    "    </tr>\n",
    "    <tr class=\"row\">\n",
    "      <td><code>continue</code></td>\n",
    "      <td>Stops evaluating code in current iterations of a loop\n",
    "      and begins the next iteration\n",
    "      <td>\n",
    "\n",
    "```python\n",
    "while x < 10:\n",
    "    x += 1\n",
    "    continue #stops evaluating and starts next cycle\n",
    "    print(x) #this gets skipped\n",
    "``` \n",
    "<t>\n",
    "    </tr>\n",
    "    <tr class=\"row\">\n",
    "      <td><code>break</code></td>\n",
    "      <td>Stops evaluating code in current iterations of a loop\n",
    "      and begins the next iteration\n",
    "      <td>\n",
    "\n",
    "```python\n",
    "while x < 1:\n",
    "    break #this exits the loop immediatley\n",
    "    x += 1 #this gets skipped\n",
    "``` \n",
    "<t>\n",
    "    </tr>\n",
    "    <tr class=\"row\">\n",
    "      <td><code>return</code></td>\n",
    "      <td>Stops evaluating code in current iterations of a loop\n",
    "      and begins the next iteration\n",
    "      <td>\n",
    "\n",
    "```python\n",
    "def foo():\n",
    "    return 7 #exits the function and returns 7\n",
    "    print('hello') #unreachable code\n",
    "def func(x):\n",
    "    while True:\n",
    "        return 7 #loop runs a partial cycle, returns 7 immediately. It exits the loop and the function\n",
    "        x +=1 #unreachable code\n",
    "    print('hello') #unreachable code\n",
    "``` \n",
    "<t>\n",
    "    </tr>\n",
    "    <tr class=\"row\">\n",
    "      <td><code>for</code></td>\n",
    "      <td>Begins a for loop.</td>\n",
    "      <td>\n",
    "\n",
    "```python\n",
    "for x in [1, 2, 3]:\n",
    "    pass\n",
    "``` \n",
    "<t>\n",
    "    </tr>\n",
    "    <tr class=\"row\">\n",
    "      <td><code>while</code></td>\n",
    "      <td>Begins a while loop.</td>\n",
    "      <td>\n",
    "\n",
    "```python\n",
    "while True:\n",
    "    pass\n",
    "``` \n",
    "<t>\n",
    "    </tr>\n",
    "  </table>\n",
    "</span>"
   ]
  },
  {
   "cell_type": "code",
   "execution_count": null,
   "metadata": {},
   "outputs": [],
   "source": []
  },
  {
   "cell_type": "markdown",
   "metadata": {},
   "source": [
    "#### <hr style=\"border-style:dashed\"><span style=\"font-size: 25px; color:rgb(100, 100, 100); font-weight: bold; display:block\">Variable:<span>\n",
    "<span style=\"font-size: 15px; color:rgb(250, 250, 250);display:block\">\n",
    "\n",
    "Uniquely named memory allocation for python objects. The name may consist of alphanumeric characters and underscores [ a-z, A-Z, 0-9, _ ]. The first character must either be alphabetical or an underscore.\n",
    "- Data Type\n",
    "- Value\n",
    "</span>"
   ]
  },
  {
   "cell_type": "code",
   "execution_count": 22,
   "metadata": {},
   "outputs": [],
   "source": [
    "# create three valid varialbes\n",
    "\n",
    "#variable begins with lowercase letter\n",
    "this_Is_A_Variable = 23 # Snakecase\n",
    "\n",
    "#variable begins with UPPERCASE letter\n",
    "ThisIsAlsoAVariable = 'hello' # Camelcase\n",
    "\n",
    "#varaible begins with underscore\n",
    "__thisIsSpecial__ = 6.0 # variables surrounded by double underscores __\n",
    "                    # typically annotate special functions and properties\n",
    "#5this_is_an_error = 12\n"
   ]
  },
  {
   "cell_type": "markdown",
   "metadata": {},
   "source": [
    "___\n",
    "### <span style=\"font-size: 30px; color:rgb(150, 150, 150); font-weight: bold\">Case Sensitivity</span>"
   ]
  },
  {
   "cell_type": "markdown",
   "metadata": {},
   "source": [
    "<span style=\"font-size: 15px; color:rgb(250, 250, 250);display:block\">\n",
    "\n",
    "Case matters. A ≠ a\n",
    "</span>"
   ]
  },
  {
   "cell_type": "code",
   "execution_count": 23,
   "metadata": {},
   "outputs": [
    {
     "name": "stdout",
     "output_type": "stream",
     "text": [
      "True\n",
      "False\n"
     ]
    }
   ],
   "source": [
    "print('banana' == 'banana') # True\n",
    "print(\"Apple\" == 'apple') # False"
   ]
  },
  {
   "cell_type": "markdown",
   "metadata": {},
   "source": [
    "___\n",
    "### <span style=\"font-size: 30px; color:rgb(150, 150, 150); font-weight: bold\">Semantics</span>"
   ]
  },
  {
   "cell_type": "markdown",
   "metadata": {},
   "source": [
    "<span style=\"font-size: 15px; color:rgb(250, 250, 250);display:block\">\n",
    "\n",
    "Python **semantics** defines how the code is executed and the behavior of various constructs. Semantics determines how expressions are evaluated, variables and objects are managed, control flow is handled, and how functions and classes are used. It also includes the rules for variable scope, function calls, object references, and how different data types behave.\n",
    "</span>"
   ]
  },
  {
   "cell_type": "markdown",
   "metadata": {},
   "source": [
    "___\n",
    "### <span style=\"font-size: 30px; color:rgb(150, 150, 150); font-weight: bold\">Errors</span>"
   ]
  },
  {
   "cell_type": "markdown",
   "metadata": {},
   "source": [
    "#### <hr style=\"border-style:dotted\"><span style=\"font-size: 25px; color:rgb(100, 100, 100); font-weight: bold\">Syntax Errors</span>\n"
   ]
  },
  {
   "cell_type": "code",
   "execution_count": 24,
   "metadata": {},
   "outputs": [
    {
     "ename": "SyntaxError",
     "evalue": "invalid syntax (3050901596.py, line 1)",
     "output_type": "error",
     "traceback": [
      "\u001b[0;36m  Cell \u001b[0;32mIn[24], line 1\u001b[0;36m\u001b[0m\n\u001b[0;31m    in = 2 # in is a reserved Keyword and cannot assign to it\u001b[0m\n\u001b[0m    ^\u001b[0m\n\u001b[0;31mSyntaxError\u001b[0m\u001b[0;31m:\u001b[0m invalid syntax\n"
     ]
    }
   ],
   "source": [
    "in = 2 # in is a reserved Keyword and cannot assign to it"
   ]
  },
  {
   "cell_type": "code",
   "execution_count": null,
   "metadata": {},
   "outputs": [],
   "source": [
    "thisString = 'hello # closing quote is missing EOF error"
   ]
  },
  {
   "cell_type": "markdown",
   "metadata": {},
   "source": [
    "#### <hr style=\"border-style:dashed\"><span style=\"font-size: 25px; color:rgb(100, 100, 100); font-weight: bold\">Semantic Errors</span>"
   ]
  },
  {
   "cell_type": "code",
   "execution_count": null,
   "metadata": {},
   "outputs": [
    {
     "ename": "TypeError",
     "evalue": "can only concatenate str (not \"int\") to str",
     "output_type": "error",
     "traceback": [
      "\u001b[31m---------------------------------------------------------------------------\u001b[39m",
      "\u001b[31mTypeError\u001b[39m                                 Traceback (most recent call last)",
      "\u001b[36mCell\u001b[39m\u001b[36m \u001b[39m\u001b[32mIn[4]\u001b[39m\u001b[32m, line 1\u001b[39m\n\u001b[32m----> \u001b[39m\u001b[32m1\u001b[39m \u001b[33;43m'\u001b[39;49m\u001b[33;43ma\u001b[39;49m\u001b[33;43m'\u001b[39;49m\u001b[43m \u001b[49m\u001b[43m+\u001b[49m\u001b[43m \u001b[49m\u001b[32;43m1\u001b[39;49m \u001b[38;5;66;03m# code will parse, but the interpretor does not have defined\u001b[39;00m\n\u001b[32m      2\u001b[39m \u001b[38;5;66;03m# behavior string concatonating an integer\u001b[39;00m\n",
      "\u001b[31mTypeError\u001b[39m: can only concatenate str (not \"int\") to str"
     ]
    }
   ],
   "source": [
    "'a' + 1 # code will parse, but the interpretor does not have defined\n",
    "# behavior string concatonating an integer"
   ]
  },
  {
   "cell_type": "code",
   "execution_count": null,
   "metadata": {},
   "outputs": [
    {
     "ename": "TypeError",
     "evalue": "unsupported operand type(s) for +: 'int' and 'str'",
     "output_type": "error",
     "traceback": [
      "\u001b[31m---------------------------------------------------------------------------\u001b[39m",
      "\u001b[31mTypeError\u001b[39m                                 Traceback (most recent call last)",
      "\u001b[36mCell\u001b[39m\u001b[36m \u001b[39m\u001b[32mIn[5]\u001b[39m\u001b[32m, line 1\u001b[39m\n\u001b[32m----> \u001b[39m\u001b[32m1\u001b[39m \u001b[32;43m1\u001b[39;49m\u001b[43m \u001b[49m\u001b[43m+\u001b[49m\u001b[43m \u001b[49m\u001b[33;43m'\u001b[39;49m\u001b[33;43m1\u001b[39;49m\u001b[33;43m'\u001b[39;49m \u001b[38;5;66;03m# code will parse, but the interpretor does not have defined\u001b[39;00m\n\u001b[32m      2\u001b[39m \u001b[38;5;66;03m# behavior adding a string to an integer\u001b[39;00m\n",
      "\u001b[31mTypeError\u001b[39m: unsupported operand type(s) for +: 'int' and 'str'"
     ]
    }
   ],
   "source": [
    "1 + '1' # code will parse, but the interpretor does not have defined\n",
    "# behavior adding a string to an integer"
   ]
  },
  {
   "cell_type": "markdown",
   "metadata": {},
   "source": [
    "___\n",
    "___\n",
    "## <span style=\"font-size: 40px; color:rgb(200, 200, 200); font-weight: bold\">Python Grammar</span>"
   ]
  },
  {
   "cell_type": "markdown",
   "metadata": {},
   "source": [
    "___\n",
    "### <span style=\"font-size: 30px; color:rgb(150, 150, 150); font-weight: bold\">White Space</span>"
   ]
  },
  {
   "cell_type": "markdown",
   "metadata": {},
   "source": [
    "<span style=\"font-size: 15px; color:rgb(250, 250, 250)\">\n",
    "\n",
    "In Python, **whitespace** refers to spaces, tabs, and newline characters that are used for formatting and structuring the code. White space assist with determining the structure and readability of Python programs. Unlike some other programming languages, Python uses whitespace for indentation and block delineation, which affects how code is executed.\n",
    "\n",
    "- **Indentation**: Used to define blocks of code\n",
    "\n",
    "- **Space in expressions**: Separates elements in a block of and expression\n",
    "\n",
    "- **Blank lines**: used separate block of code for better readability\n",
    "</span>"
   ]
  },
  {
   "cell_type": "markdown",
   "metadata": {},
   "source": [
    "___\n",
    "### <span style=\"font-size: 30px; color:rgb(150, 150, 150); font-weight: bold\">Indentations vs Tabs</span>"
   ]
  },
  {
   "cell_type": "markdown",
   "metadata": {},
   "source": [
    "<span style=\"font-size: 15px; color:rgb(250, 250, 250)\">\n",
    "\n",
    "Python uses **indentation** to define blocks of code. Within each block all lines must be indented the same number and type of whitespaces or an indentation error will occur.\n",
    "\n",
    "- <u>**global**</u>: left most indent. All variables assigned on this indentation are available in every sub block of code.\n",
    "```python\n",
    "x = 1 #this is on the global scope\n",
    "z = 3 #this is also on the global scope\n",
    " y = x #this will cause an indentation error\n",
    "```\n",
    "- <u>**inside loops**</u>: indent after beginning loops to denote code to execute in cylces.\n",
    "```python\n",
    "x = 1 #this is on the global scope\n",
    "while x < 10: #this is also on the global scope\n",
    "    print(x) #this will run each loop cycle\n",
    "    x += 1 #this will run each loop cycle\n",
    "print(x) #this will run after the last loop cycle\n",
    "```\n",
    "- <u>**inside conditionals (if/else)**</u> indent after each conditional statement to execute code under contions.\n",
    "```python\n",
    "if x < 10: #this is also on the global scope\n",
    "    print('less than') #this will run \n",
    "elif x == 10: # this must be on the same indent as the if statement\n",
    "    print('equal') #this will run if the above statement was False and this statement is True\n",
    "else: # this must be on the same indent as the if statement\n",
    "    print('greater than') #this will run if the above statements were False\n",
    "```\n",
    "- <u>**inside function definitions**</u>: indent after the definition statement, this creates a sub-namespace.\n",
    "```python\n",
    "x = 1 #this is on the global scope\n",
    "def foo(): #this is on a global scope\n",
    "    x = 3 #this is in foo's scope\n",
    "    print(x)\n",
    "foo()\n",
    "print(x)\n",
    "```\n",
    "- <u>**inside class definitons**</u>: indent after the definition statement, this creates a sub-namespace.\n",
    "```python\n",
    "x = 1 #this is on the global scope\n",
    "class myClass(): #this is on a global scope\n",
    "    x = 3 #this is in myClass's scope\n",
    "```\n",
    "- <u>**inside contextual wrappers (with statements)**</u> indent after the with statement. Automatically deletes objects created with aliases in the with statement when exiting.\n",
    "```python\n",
    "x = 1 #this is on the global scope\n",
    "with open('file.txt') as fi: #this is on a global scope and opens a fileIO wrapper\n",
    "    fi.read() #this is in myClass's scope\n",
    "fi.seek() #this will error out because the file is now closed\n",
    "```\n",
    "**NOTE**: 2 single whitespaces are preferred over tabs. Tabs should only be used to match existing code documents for consistency.\n",
    "</span>"
   ]
  },
  {
   "cell_type": "markdown",
   "metadata": {},
   "source": [
    "___\n",
    "### <span style=\"font-size: 30px; color:rgb(150, 150, 150); font-weight: bold\">Comments</span>"
   ]
  },
  {
   "cell_type": "markdown",
   "metadata": {},
   "source": [
    "<span style=\"font-size: 15px; color:rgb(250, 250, 250)\">\n",
    "\n",
    "**Comments** are used to explain and label code. They are ignored by the interpreter.\n",
    "\n",
    "- Before writing code, you should comment to help focus your goals and allow others the ability to understand your code logic.\n",
    "\n",
    "- When debugging code, you can comment out lines to prevent them from running.\n",
    "\n",
    "- A single Hashtag (#) begins a comment on a line. Python will ignore everything to the right\n",
    "\n",
    "- Select a line or multiple lines and then press <code>CTRL + /</code> to comment them out.\n",
    "```python\n",
    "# this is a comment\n",
    "```\n",
    "**Note**: In VSCode, comments are green.\n",
    "</span>"
   ]
  },
  {
   "cell_type": "code",
   "execution_count": null,
   "metadata": {},
   "outputs": [
    {
     "ename": "SyntaxError",
     "evalue": "invalid syntax (134218337.py, line 1)",
     "output_type": "error",
     "traceback": [
      "  \u001b[36mCell\u001b[39m\u001b[36m \u001b[39m\u001b[32mIn[8]\u001b[39m\u001b[32m, line 1\u001b[39m\n\u001b[31m    \u001b[39m\u001b[31m'this is a string' + #second string 'this is not another string'\u001b[39m\n                         ^\n\u001b[31mSyntaxError\u001b[39m\u001b[31m:\u001b[39m invalid syntax\n"
     ]
    }
   ],
   "source": [
    "'this is a string' + #second string 'this is not another string'\n"
   ]
  },
  {
   "cell_type": "markdown",
   "metadata": {},
   "source": [
    "___\n",
    "### <span style=\"font-size: 30px; color:rgb(150, 150, 150); font-weight: bold\">Statements VS Expressions</span>"
   ]
  },
  {
   "cell_type": "markdown",
   "metadata": {},
   "source": [
    "<span style=\"font-size: 15px; color:rgb(250, 250, 250)\">\n",
    "<table width=100%>\n",
    "  <thead style=\"font-size: 25px;\">\n",
    "    <th colspan=3 style=\"text-align:center;\"><b>Key Differences</b></th>\n",
    "  </thead>\n",
    "  <tr>\n",
    "    <td width=30%><b>FEATURE</b></td>\n",
    "    <td width=35%><b>EXPRESSION</b></td>\n",
    "    <td width=35%><b>STATEMENT</b></td>\n",
    "  </tr>\n",
    "  <tr>\n",
    "    <td>Definiton</td>\n",
    "    <td>A piece of code that evaluates to a single value</td>\n",
    "    <td>A complete instruction that performs an action</td>\n",
    "  </tr>\n",
    "  <tr>\n",
    "    <td>Returns a value</td>\n",
    "    <td>YES</td>\n",
    "    <td>NO</td>\n",
    "  </tr>\n",
    "  <tr>\n",
    "    <td>More than one per line</td>\n",
    "    <td>YES,expressions are commma separated. An expression can even be made of other expressions!</td>\n",
    "    <td>NOT in pythonic code. Expressions are typically terminate by end of the line. However, they can be semicolon separated on the same line.</td>\n",
    "  </tr>\n",
    "  <tr>\n",
    "    <td>Can be assigned to a variable</td>\n",
    "    <td>YES</td>\n",
    "    <td>NO, it works on values but does not produce a value</td>\n",
    "  </tr>\n",
    "  <tr>\n",
    "    <td>Can be used in a function call</td>\n",
    "    <td>YES</td>\n",
    "    <td>NO</td>\n",
    "  </tr>\n",
    "  <tr>\n",
    "    <td>Can be part of an expression</td>\n",
    "    <td>YES</td>\n",
    "    <td>NO, Expression produce values, and statements do not</td>\n",
    "  </tr>\n",
    "  <tr>\n",
    "    <td style='font-size:40px'>Examples</td>\n",
    "    <td>\n",
    "\n",
    "```python\n",
    "2 + 3\n",
    "\n",
    "max(10,20)\n",
    "\n",
    "\"hello\".upper()\n",
    "\n",
    "x < 5\n",
    "```\n",
    "</td>\n",
    "    <td>\n",
    "\n",
    "```python\n",
    "for x in [1, 2, 3]: #for exp in exp_collection:an expression\n",
    "if y < 7: #if exp_conditional:\n",
    "while True: #while conditional:\n",
    "def func(): #def funcName():\n",
    "return #return [*exp]\n",
    "import random #import librayName\n",
    "print() #function call that does not return a value\n",
    "```\n",
    "</td>\n",
    "  </tr>\n",
    "</table>\n",
    "</span>"
   ]
  },
  {
   "cell_type": "markdown",
   "metadata": {},
   "source": [
    "___\n",
    "### <span style=\"font-size: 30px; color:rgb(150, 150, 150); font-weight: bold\">Line / Statement Terminator</span>"
   ]
  },
  {
   "cell_type": "markdown",
   "metadata": {},
   "source": [
    "<span style=\"font-size: 15px; color:rgb(250, 250, 250)\">\n",
    "\n",
    "**Statement Terminators** are marked by the end of lines\n",
    "</span>"
   ]
  },
  {
   "cell_type": "code",
   "execution_count": null,
   "metadata": {},
   "outputs": [],
   "source": [
    "x = 5**2 # statement 1\n",
    "print(x) # statement 2"
   ]
  },
  {
   "cell_type": "markdown",
   "metadata": {},
   "source": [
    "<span style=\"font-size: 15px; color:rgb(250, 250, 250)\">\n",
    "\n",
    "Its possible, but not recommended, to separate multiple statements on a single line with semicolons\n",
    "</span>"
   ]
  },
  {
   "cell_type": "code",
   "execution_count": null,
   "metadata": {},
   "outputs": [],
   "source": [
    "x = 1; y =4; print(y+x*2) # 3 statements are on this line"
   ]
  },
  {
   "cell_type": "markdown",
   "metadata": {},
   "source": [
    "<span style=\"font-size: 15px; color:rgb(250, 250, 250)\">\n",
    "\n",
    "Sometimes a line of code gets long. When this happens, end the line a logical place with a backslash ( \\ ) to continue writing on the next line. The interpretor will read this as a single line.\n",
    "</span>"
   ]
  },
  {
   "cell_type": "markdown",
   "metadata": {},
   "source": [
    "<span style=\"font-size: 15px; color:rgb(250, 250, 250)\">\n",
    "\n",
    "A long line that cannot be read without scrolling\n",
    "</span>"
   ]
  },
  {
   "cell_type": "code",
   "execution_count": null,
   "metadata": {},
   "outputs": [
    {
     "name": "stdout",
     "output_type": "stream",
     "text": [
      "This is going to be a really long line      with lots of chained functions\n"
     ]
    }
   ],
   "source": [
    "# A long line\n",
    "x = 'This is going to be a really long line with lots of chained functions'.replace(' ','+').upper().split('+')[::2]"
   ]
  },
  {
   "cell_type": "markdown",
   "metadata": {},
   "source": [
    "<span style=\"font-size: 15px; color:rgb(250, 250, 250)\">\n",
    "\n",
    "More readable\n",
    "</span>"
   ]
  },
  {
   "cell_type": "code",
   "execution_count": null,
   "metadata": {},
   "outputs": [],
   "source": [
    "# Same line with line continuation\n",
    "x = 'this is going to be a really long line\\\n",
    "     with lots of chained functions'\\\n",
    "     .replace(' ','+')\\\n",
    "     .upper()\\\n",
    "     .split('+')[::2]"
   ]
  },
  {
   "cell_type": "markdown",
   "metadata": {},
   "source": [
    "<span style=\"font-size: 15px; color:rgb(250, 250, 250)\">\n",
    "\n",
    "Caution with commenting \"in the middle of a line\". Line continuation literally extends the current line to the next line.\n",
    "</span>"
   ]
  },
  {
   "cell_type": "code",
   "execution_count": null,
   "metadata": {},
   "outputs": [],
   "source": [
    "# When doing line continuation, be careful with comments\n",
    "x = 'hello'\\ #nothing can follow the line continuation, not even comments\n",
    ".upper()"
   ]
  },
  {
   "cell_type": "markdown",
   "metadata": {},
   "source": [
    "___\n",
    "___\n",
    "## <span style=\"font-size: 40px; color:rgb(200, 200, 200); font-weight: bold\">Python Execution</span>"
   ]
  },
  {
   "cell_type": "markdown",
   "metadata": {},
   "source": [
    "___\n",
    "### <span style=\"font-size: 30px; color:rgb(150, 150, 150); font-weight: bold\">Read-Evaluate-Print-Loop(REPL) - Python Interactive Mode</span>"
   ]
  },
  {
   "cell_type": "markdown",
   "metadata": {},
   "source": [
    "___\n",
    "### <span style=\"font-size: 30px; color:rgb(150, 150, 150); font-weight: bold\">Execution: Interactive Mode</span>"
   ]
  },
  {
   "cell_type": "markdown",
   "metadata": {},
   "source": [
    "___\n",
    "### <span style=\"font-size: 30px; color:rgb(150, 150, 150); font-weight: bold\">Batch</span>"
   ]
  },
  {
   "cell_type": "markdown",
   "metadata": {},
   "source": [
    "___\n",
    "### <span style=\"font-size: 30px; color:rgb(150, 150, 150); font-weight: bold\">Execution: Batch</span>"
   ]
  },
  {
   "cell_type": "markdown",
   "metadata": {},
   "source": [
    "___\n",
    "### <span style=\"font-size: 30px; color:rgb(150, 150, 150); font-weight: bold\">Integrated Development Environment</span>"
   ]
  },
  {
   "cell_type": "markdown",
   "metadata": {},
   "source": [
    "___\n",
    "___\n",
    "## <span style=\"font-size: 40px; color:rgb(200, 200, 200); font-weight: bold\">Help in Python</span>"
   ]
  },
  {
   "cell_type": "markdown",
   "metadata": {},
   "source": [
    "___\n",
    "### <span style=\"font-size: 30px; color:rgb(150, 150, 150); font-weight: bold\">Python Documentation</span>"
   ]
  },
  {
   "cell_type": "markdown",
   "metadata": {},
   "source": [
    "<span style=\"font-size: 15px; color:rgb(255, 255, 255);\">\n",
    "There are various ways in which a Python programmer can get help from the Python documentation. A good starting point is one of the \n",
    "\n",
    "following URLs:\n",
    "<br>\n",
    "[Python Docs - Latest Version](https://docs.python.org/3/)\n",
    "<br>\n",
    "[Python Docs - By Version](https://www.python.org/doc/versions/)\n",
    "\n",
    "!!! Note\n",
    "     run ```py python3 --version``` to find the current version of python on your machine\n",
    "</span>"
   ]
  },
  {
   "cell_type": "markdown",
   "metadata": {},
   "source": [
    "___\n",
    "### <span style=\"font-size: 30px; color:rgb(150, 150, 150); font-weight: bold\">Helpful Websites</span>"
   ]
  },
  {
   "cell_type": "markdown",
   "metadata": {},
   "source": [
    "<span style=\"font-size: 15px; color:rgb(255, 255, 255);\">\n",
    "\n",
    "[w3schools](https://www.w3schools.com/python/default.asp)\n",
    "<br><br>\n",
    "[Python Principles](https://pythonprinciples.com/challenges/)<br><br>\n",
    "[vmware client download](tinyurl.com/vmwarehclient)\n",
    "vdi.ccoelearning.net\n",
    "</span>"
   ]
  },
  {
   "cell_type": "markdown",
   "metadata": {},
   "source": [
    "___\n",
    "### <span style=\"font-size: 30px; color:rgb(150, 150, 150); font-weight: bold\">Built-in Help</span>"
   ]
  },
  {
   "cell_type": "markdown",
   "metadata": {},
   "source": [
    "<span style=\"font-size: 15px; color:rgb(255, 255, 255);\">\n",
    "\n",
    "In addition to the online Python documentation, the interactive Python shell can provide additional help. Typing ``help()`` at the Python shell prompt will start the Python help utility. For example:\n",
    "\n",
    "REPL execution:\n",
    "```cmd\n",
    "developer:~/test$ python3\n",
    ">>> help() \n",
    "help> str\n",
    "help> str.isalpha\n",
    "help> int\n",
    "```\n",
    "\n",
    "VSCode execution:\n",
    "<code>CTRL+SHIFT +</code> will open a terminal in VS Code\n",
    "```python\n",
    "help(str)\n",
    "help(str.isalpha)\n",
    "help(int)\n",
    "```\n",
    "</span>"
   ]
  },
  {
   "cell_type": "code",
   "execution_count": null,
   "metadata": {},
   "outputs": [
    {
     "name": "stdout",
     "output_type": "stream",
     "text": [
      "Help on class int in module builtins:\n",
      "\n",
      "class int(object)\n",
      " |  int([x]) -> integer\n",
      " |  int(x, base=10) -> integer\n",
      " |\n",
      " |  Convert a number or string to an integer, or return 0 if no arguments\n",
      " |  are given.  If x is a number, return x.__int__().  For floating-point\n",
      " |  numbers, this truncates towards zero.\n",
      " |\n",
      " |  If x is not a number or if base is given, then x must be a string,\n",
      " |  bytes, or bytearray instance representing an integer literal in the\n",
      " |  given base.  The literal can be preceded by '+' or '-' and be surrounded\n",
      " |  by whitespace.  The base defaults to 10.  Valid bases are 0 and 2-36.\n",
      " |  Base 0 means to interpret the base from the string as an integer literal.\n",
      " |  >>> int('0b100', base=0)\n",
      " |  4\n",
      " |\n",
      " |  Built-in subclasses:\n",
      " |      bool\n",
      " |\n",
      " |  Methods defined here:\n",
      " |\n",
      " |  __abs__(self, /)\n",
      " |      abs(self)\n",
      " |\n",
      " |  __add__(self, value, /)\n",
      " |      Return self+value.\n",
      " |\n",
      " |  __and__(self, value, /)\n",
      " |      Return self&value.\n",
      " |\n",
      " |  __bool__(self, /)\n",
      " |      True if self else False\n",
      " |\n",
      " |  __ceil__(self, /)\n",
      " |      Ceiling of an Integral returns itself.\n",
      " |\n",
      " |  __divmod__(self, value, /)\n",
      " |      Return divmod(self, value).\n",
      " |\n",
      " |  __eq__(self, value, /)\n",
      " |      Return self==value.\n",
      " |\n",
      " |  __float__(self, /)\n",
      " |      float(self)\n",
      " |\n",
      " |  __floor__(self, /)\n",
      " |      Flooring an Integral returns itself.\n",
      " |\n",
      " |  __floordiv__(self, value, /)\n",
      " |      Return self//value.\n",
      " |\n",
      " |  __format__(self, format_spec, /)\n",
      " |      Convert to a string according to format_spec.\n",
      " |\n",
      " |  __ge__(self, value, /)\n",
      " |      Return self>=value.\n",
      " |\n",
      " |  __getattribute__(self, name, /)\n",
      " |      Return getattr(self, name).\n",
      " |\n",
      " |  __getnewargs__(self, /)\n",
      " |\n",
      " |  __gt__(self, value, /)\n",
      " |      Return self>value.\n",
      " |\n",
      " |  __hash__(self, /)\n",
      " |      Return hash(self).\n",
      " |\n",
      " |  __index__(self, /)\n",
      " |      Return self converted to an integer, if self is suitable for use as an index into a list.\n",
      " |\n",
      " |  __int__(self, /)\n",
      " |      int(self)\n",
      " |\n",
      " |  __invert__(self, /)\n",
      " |      ~self\n",
      " |\n",
      " |  __le__(self, value, /)\n",
      " |      Return self<=value.\n",
      " |\n",
      " |  __lshift__(self, value, /)\n",
      " |      Return self<<value.\n",
      " |\n",
      " |  __lt__(self, value, /)\n",
      " |      Return self<value.\n",
      " |\n",
      " |  __mod__(self, value, /)\n",
      " |      Return self%value.\n",
      " |\n",
      " |  __mul__(self, value, /)\n",
      " |      Return self*value.\n",
      " |\n",
      " |  __ne__(self, value, /)\n",
      " |      Return self!=value.\n",
      " |\n",
      " |  __neg__(self, /)\n",
      " |      -self\n",
      " |\n",
      " |  __or__(self, value, /)\n",
      " |      Return self|value.\n",
      " |\n",
      " |  __pos__(self, /)\n",
      " |      +self\n",
      " |\n",
      " |  __pow__(self, value, mod=None, /)\n",
      " |      Return pow(self, value, mod).\n",
      " |\n",
      " |  __radd__(self, value, /)\n",
      " |      Return value+self.\n",
      " |\n",
      " |  __rand__(self, value, /)\n",
      " |      Return value&self.\n",
      " |\n",
      " |  __rdivmod__(self, value, /)\n",
      " |      Return divmod(value, self).\n",
      " |\n",
      " |  __repr__(self, /)\n",
      " |      Return repr(self).\n",
      " |\n",
      " |  __rfloordiv__(self, value, /)\n",
      " |      Return value//self.\n",
      " |\n",
      " |  __rlshift__(self, value, /)\n",
      " |      Return value<<self.\n",
      " |\n",
      " |  __rmod__(self, value, /)\n",
      " |      Return value%self.\n",
      " |\n",
      " |  __rmul__(self, value, /)\n",
      " |      Return value*self.\n",
      " |\n",
      " |  __ror__(self, value, /)\n",
      " |      Return value|self.\n",
      " |\n",
      " |  __round__(self, ndigits=<unrepresentable>, /)\n",
      " |      Rounding an Integral returns itself.\n",
      " |\n",
      " |      Rounding with an ndigits argument also returns an integer.\n",
      " |\n",
      " |  __rpow__(self, value, mod=None, /)\n",
      " |      Return pow(value, self, mod).\n",
      " |\n",
      " |  __rrshift__(self, value, /)\n",
      " |      Return value>>self.\n",
      " |\n",
      " |  __rshift__(self, value, /)\n",
      " |      Return self>>value.\n",
      " |\n",
      " |  __rsub__(self, value, /)\n",
      " |      Return value-self.\n",
      " |\n",
      " |  __rtruediv__(self, value, /)\n",
      " |      Return value/self.\n",
      " |\n",
      " |  __rxor__(self, value, /)\n",
      " |      Return value^self.\n",
      " |\n",
      " |  __sizeof__(self, /)\n",
      " |      Returns size in memory, in bytes.\n",
      " |\n",
      " |  __sub__(self, value, /)\n",
      " |      Return self-value.\n",
      " |\n",
      " |  __truediv__(self, value, /)\n",
      " |      Return self/value.\n",
      " |\n",
      " |  __trunc__(self, /)\n",
      " |      Truncating an Integral returns itself.\n",
      " |\n",
      " |  __xor__(self, value, /)\n",
      " |      Return self^value.\n",
      " |\n",
      " |  as_integer_ratio(self, /)\n",
      " |      Return a pair of integers, whose ratio is equal to the original int.\n",
      " |\n",
      " |      The ratio is in lowest terms and has a positive denominator.\n",
      " |\n",
      " |      >>> (10).as_integer_ratio()\n",
      " |      (10, 1)\n",
      " |      >>> (-10).as_integer_ratio()\n",
      " |      (-10, 1)\n",
      " |      >>> (0).as_integer_ratio()\n",
      " |      (0, 1)\n",
      " |\n",
      " |  bit_count(self, /)\n",
      " |      Number of ones in the binary representation of the absolute value of self.\n",
      " |\n",
      " |      Also known as the population count.\n",
      " |\n",
      " |      >>> bin(13)\n",
      " |      '0b1101'\n",
      " |      >>> (13).bit_count()\n",
      " |      3\n",
      " |\n",
      " |  bit_length(self, /)\n",
      " |      Number of bits necessary to represent self in binary.\n",
      " |\n",
      " |      >>> bin(37)\n",
      " |      '0b100101'\n",
      " |      >>> (37).bit_length()\n",
      " |      6\n",
      " |\n",
      " |  conjugate(self, /)\n",
      " |      Returns self, the complex conjugate of any int.\n",
      " |\n",
      " |  is_integer(self, /)\n",
      " |      Returns True. Exists for duck type compatibility with float.is_integer.\n",
      " |\n",
      " |  to_bytes(self, /, length=1, byteorder='big', *, signed=False)\n",
      " |      Return an array of bytes representing an integer.\n",
      " |\n",
      " |      length\n",
      " |        Length of bytes object to use.  An OverflowError is raised if the\n",
      " |        integer is not representable with the given number of bytes.  Default\n",
      " |        is length 1.\n",
      " |      byteorder\n",
      " |        The byte order used to represent the integer.  If byteorder is 'big',\n",
      " |        the most significant byte is at the beginning of the byte array.  If\n",
      " |        byteorder is 'little', the most significant byte is at the end of the\n",
      " |        byte array.  To request the native byte order of the host system, use\n",
      " |        sys.byteorder as the byte order value.  Default is to use 'big'.\n",
      " |      signed\n",
      " |        Determines whether two's complement is used to represent the integer.\n",
      " |        If signed is False and a negative integer is given, an OverflowError\n",
      " |        is raised.\n",
      " |\n",
      " |  ----------------------------------------------------------------------\n",
      " |  Class methods defined here:\n",
      " |\n",
      " |  from_bytes(bytes, byteorder='big', *, signed=False)\n",
      " |      Return the integer represented by the given array of bytes.\n",
      " |\n",
      " |      bytes\n",
      " |        Holds the array of bytes to convert.  The argument must either\n",
      " |        support the buffer protocol or be an iterable object producing bytes.\n",
      " |        Bytes and bytearray are examples of built-in objects that support the\n",
      " |        buffer protocol.\n",
      " |      byteorder\n",
      " |        The byte order used to represent the integer.  If byteorder is 'big',\n",
      " |        the most significant byte is at the beginning of the byte array.  If\n",
      " |        byteorder is 'little', the most significant byte is at the end of the\n",
      " |        byte array.  To request the native byte order of the host system, use\n",
      " |        sys.byteorder as the byte order value.  Default is to use 'big'.\n",
      " |      signed\n",
      " |        Indicates whether two's complement is used to represent the integer.\n",
      " |\n",
      " |  ----------------------------------------------------------------------\n",
      " |  Static methods defined here:\n",
      " |\n",
      " |  __new__(*args, **kwargs)\n",
      " |      Create and return a new object.  See help(type) for accurate signature.\n",
      " |\n",
      " |  ----------------------------------------------------------------------\n",
      " |  Data descriptors defined here:\n",
      " |\n",
      " |  denominator\n",
      " |      the denominator of a rational number in lowest terms\n",
      " |\n",
      " |  imag\n",
      " |      the imaginary part of a complex number\n",
      " |\n",
      " |  numerator\n",
      " |      the numerator of a rational number in lowest terms\n",
      " |\n",
      " |  real\n",
      " |      the real part of a complex number\n",
      "\n"
     ]
    }
   ],
   "source": [
    "help(int)"
   ]
  },
  {
   "cell_type": "markdown",
   "metadata": {},
   "source": [
    "___\n",
    "### <span style=\"font-size: 30px; color:rgb(150, 150, 150); font-weight: bold\">Helpful Commands</span>"
   ]
  },
  {
   "cell_type": "markdown",
   "metadata": {},
   "source": [
    "</span><span style=\"font-size: 15px; color:rgb(255, 255, 255);\">\n",
    "When working with the Python REPL, there may be times when a programmer needs more information about an expression, value, or object. The `dir()` function can be helpful in describing what properties a Python object may have.\n",
    "\n",
    "```py\n",
    "dir()\n",
    "dir(4)\n",
    "```\n",
    "</span>"
   ]
  },
  {
   "cell_type": "code",
   "execution_count": null,
   "metadata": {},
   "outputs": [
    {
     "name": "stdout",
     "output_type": "stream",
     "text": [
      "Help on method_descriptor:\n",
      "\n",
      "upper(self, /) unbound builtins.str method\n",
      "    Return a copy of the string converted to uppercase.\n",
      "\n"
     ]
    },
    {
     "data": {
      "text/plain": [
       "'THIS IS A STRING'"
      ]
     },
     "execution_count": 20,
     "metadata": {},
     "output_type": "execute_result"
    }
   ],
   "source": [
    "dir('thjis_is_a_string')\n",
    "help(str.upper)\n",
    "'this is a string'.upper()"
   ]
  },
  {
   "cell_type": "code",
   "execution_count": null,
   "metadata": {},
   "outputs": [],
   "source": [
    "#use a dot accessor to get info more quickly\n",
    "'string'.upper()\n",
    "x = \"string2\"\n"
   ]
  },
  {
   "cell_type": "markdown",
   "metadata": {},
   "source": [
    "___\n",
    "### <span style=\"font-size: 30px; color:rgb(150, 150, 150); font-weight: bold\">Using Intellisense Stategically</span>"
   ]
  },
  {
   "cell_type": "markdown",
   "metadata": {},
   "source": [
    "___\n",
    "___\n",
    "##\n",
    "<span style=\"font-size: 40px; color:rgb(200, 200, 200); font-weight: bold\">Check on Learning</span>"
   ]
  },
  {
   "cell_type": "markdown",
   "metadata": {},
   "source": [
    "___\n",
    "___\n",
    "___\n",
    "# <span style=\"font-size: 50px; color:rgb(250, 250, 250); font-weight: bold;\">Python Data Types</span>"
   ]
  },
  {
   "cell_type": "markdown",
   "metadata": {},
   "source": [
    "___\n",
    "___\n",
    "## <span style=\"font-size: 40px; color:rgb(200, 200, 200); font-weight: bold\">Introduction</span>"
   ]
  },
  {
   "cell_type": "code",
   "execution_count": null,
   "metadata": {},
   "outputs": [
    {
     "name": "stdout",
     "output_type": "stream",
     "text": [
      "1 1 1\n",
      "1 3 1\n"
     ]
    }
   ],
   "source": []
  },
  {
   "cell_type": "markdown",
   "metadata": {},
   "source": [
    "___\n",
    "### <span style=\"font-size: 30px; color:rgb(150, 150, 150); font-weight: bold\">Objectives</span>"
   ]
  },
  {
   "cell_type": "markdown",
   "metadata": {},
   "source": [
    "<span style=\"font-size: 15px; color:rgb(250, 250, 250)\">\n",
    "\n",
    "- Explore basic data types of the Python language\n",
    " \n",
    "- Use type() to find the data type a variable refers to\n",
    " \n",
    "- Use Boolean data types to represent True or False\n",
    "\n",
    "- Create sequences of characters as Python strings\n",
    "\n",
    "- Recognize character encoding\n",
    " \n",
    "- Understand the None type\n",
    "\n",
    "- Identify Python Keywords\n",
    " \n",
    "- Assign data to variables\n",
    "\n",
    "- Convert data from one type to another\n",
    "</span>"
   ]
  },
  {
   "cell_type": "markdown",
   "metadata": {},
   "source": [
    "___\n",
    "### <span style=\"font-size: 30px; color:rgb(150, 150, 150); font-weight: bold\">TLO Knowledge and Skills</span>"
   ]
  },
  {
   "cell_type": "markdown",
   "metadata": {},
   "source": [
    "<span style=\"font-size: 15px; color:rgb(250, 250, 250)\">\n",
    "\n",
    "Conditions:\n",
    "  - Given a classroom, applicable references, and a practical exercise, the Cyber Mission Force, students will demonstrate an understanding of data types, variables, and operators.\n",
    "</span>"
   ]
  },
  {
   "cell_type": "markdown",
   "metadata": {},
   "source": [
    "#### <hr style=\"border-style:dashed\"><span style=\"font-size: 25px; color:rgb(100, 100, 100); font-weight: bold\">Knowledge</span>"
   ]
  },
  {
   "cell_type": "markdown",
   "metadata": {},
   "source": [
    "<span style=\"font-size: 15px; color:rgb(250, 250, 250)\">\n",
    "\n",
    "- Identify the components that build program structure in Python\n",
    "\n",
    "- Understand Python structure and the components used in scripting\n",
    "</span>"
   ]
  },
  {
   "cell_type": "markdown",
   "metadata": {},
   "source": [
    "#### <hr style=\"border-style:dashed\"><span style=\"font-size: 25px; color:rgb(100, 100, 100); font-weight: bold\">Skills</span>"
   ]
  },
  {
   "cell_type": "markdown",
   "metadata": {},
   "source": [
    "<span style=\"font-size: 15px; color:rgb(250, 250, 250)\">\n",
    "\n",
    " - Working knowledge of how to write and modify scripts in order to perform specific functions\n",
    " \n",
    " - Knowledge of parsing through scripts and files\n",
    "</span>"
   ]
  },
  {
   "cell_type": "markdown",
   "metadata": {},
   "source": [
    "___\n",
    "___\n",
    "## <span style=\"font-size: 40px; color:rgb(200, 200, 200); font-weight: bold\">Print Function Introduction</span>"
   ]
  },
  {
   "cell_type": "markdown",
   "metadata": {},
   "source": [
    "<span style=\"font-size: 15px; color:rgb(250, 250, 250)\">\n",
    "The `print()` function is intuitively named and provides a copy of the items placed inside the parentheses.\n",
    "\n",
    "We will use this function randomly throughout this course to view our data.\n",
    "\n",
    "The `print()` function is a great way to test your code and make sure it is correctly executing the commands and the logic you provide in your future code blocks.\n",
    "\n",
    "Some examples of using `print()`. We will discuss this function in more depth later, just become comfortable with using it for now.\n",
    "\n",
    "Next we will begin discussing what each of the items are that are found inside the following `print()` examples.\n",
    "\n",
    "```python\n",
    "print('hello world')\n",
    "#output:  hello world\n",
    "\n",
    "print(5)\n",
    "#output:  5\n",
    "\n",
    "print( 1 + 2)\n",
    "#output:  3\n",
    "#NOTE: the print function here accounted for the math being performed inside the parenthesis\n",
    "\n",
    "```\n",
    "</span>"
   ]
  },
  {
   "cell_type": "markdown",
   "metadata": {},
   "source": [
    "___\n",
    "___\n",
    "## <span style=\"font-size: 40px; color:rgb(200, 200, 200); font-weight: bold\">Data Types</span>"
   ]
  },
  {
   "cell_type": "markdown",
   "metadata": {},
   "source": [
    "<span style=\"font-size: 15px; color:rgb(250, 250, 250)\">\n",
    "\n",
    "Two useful functions for determining object types:<br><code>type(obj:any)</code> and<br><code>isinstance(obj:any, 'name_of_type_as_string')</code>\n",
    "```python\n",
    "obj = None\n",
    "print(type(obj)) # <class None>\n",
    "\n",
    "print(isinstance(obj, 'None')) #True\n",
    "```\n",
    "</span>"
   ]
  },
  {
   "cell_type": "markdown",
   "metadata": {},
   "source": [
    "___\n",
    "### <span style=\"font-size: 30px; color:rgb(150, 150, 150); font-weight: bold\">Integer</span>"
   ]
  },
  {
   "cell_type": "markdown",
   "metadata": {},
   "source": [
    "<span style=\"font-size: 15px; color:rgb(250, 250, 250)\">\n",
    "\n",
    "**Properties**:\n",
    "- \\<class int\\>\n",
    "- immutable (once assigned to memory, cannot change value)\n",
    "- whole numbers\n",
    "- -5 through 256 have constant memory locations\n",
    "- - no limit on size\n",
    "</span>"
   ]
  },
  {
   "cell_type": "code",
   "execution_count": null,
   "metadata": {},
   "outputs": [],
   "source": [
    "type(5)\n",
    "type(-1)\n",
    "\n",
    "645664"
   ]
  },
  {
   "cell_type": "markdown",
   "metadata": {},
   "source": [
    "___\n",
    "### <span style=\"font-size: 30px; color:rgb(150, 150, 150); font-weight: bold\">Float</span>"
   ]
  },
  {
   "cell_type": "markdown",
   "metadata": {},
   "source": [
    "<span style=\"font-size: 15px; color:rgb(250, 250, 250)\">\n",
    "\n",
    "**Properties**:\n",
    "- #example: 12.0\n",
    "- \\<class int\\>\n",
    "- immutable (once assigned to memory, cannot change value)\n",
    "- have at least one whole number and one decimal value. ie 0.0\n",
    "- precision is dependent on system architecture\n",
    "</span>"
   ]
  },
  {
   "cell_type": "code",
   "execution_count": null,
   "metadata": {},
   "outputs": [
    {
     "name": "stdout",
     "output_type": "stream",
     "text": [
      "140624919506960\n",
      "140624919508560\n"
     ]
    }
   ],
   "source": [
    "type(2.0)\n",
    "type(123214.23143254)\n"
   ]
  },
  {
   "cell_type": "markdown",
   "metadata": {},
   "source": [
    "___\n",
    "### <span style=\"font-size: 30px; color:rgb(150, 150, 150); font-weight: bold\">Boolean</span>"
   ]
  },
  {
   "cell_type": "markdown",
   "metadata": {},
   "source": [
    "<span style=\"font-size: 15px; color:rgb(250, 250, 250)\">\n",
    "\n",
    "- The bool data type is named after Boolean values. In short, a bool data type at its most base level can hold only the values 0 or 1.\n",
    "\n",
    "\n",
    "- This can be thought of as a way to express True [1] or False [0]. For example, the bool value of 0 represents False.\n",
    "- Any value of a variable other than 0 will result to True in Bool\n",
    "\n",
    "**Properties**:\n",
    "- example: True\n",
    "- \\<class bool\\>\n",
    "- subclass of integer\n",
    "- True and False are the only boolean values, but many things can be interpreted as boolean values\n",
    "</span>"
   ]
  },
  {
   "cell_type": "markdown",
   "metadata": {},
   "source": [
    "___\n",
    "### <span style=\"font-size: 30px; color:rgb(150, 150, 150); font-weight: bold\">Math Operations</span>"
   ]
  },
  {
   "cell_type": "markdown",
   "metadata": {},
   "source": [
    "<span style=\"font-size: 15px; color:rgb(250, 250, 250)\">\n",
    "\n",
    "| Operation |               Result              |\n",
    "| --------- | ----------------------------------|\n",
    "| x + y     | Sum of x and y                    |\n",
    "| x - y     | difference of X and Y             |\n",
    "| x * y     | Product of X and Y                |\n",
    "| x / y     | Quotient of x and Y               |\n",
    "| x // y    | Floored (integer) Quotient of X and Y   |\n",
    "| x % y     | Modulus - Remainder of x / y                |\n",
    "| -x        | x negated                         |\n",
    "| +x        | x unchanged                       |\n",
    "| abs(x)    | Absolute Value(or magnitude of x) |\n",
    "| x ** y    | x to the y power                  |</span>"
   ]
  },
  {
   "cell_type": "code",
   "execution_count": null,
   "metadata": {},
   "outputs": [
    {
     "name": "stdout",
     "output_type": "stream",
     "text": [
      "2.0\n",
      "2.0\n",
      "1.0\n",
      "4\n",
      "3.0\n"
     ]
    }
   ],
   "source": [
    "print(12 // 5)\n",
    "print(10 / 5)\n",
    "print(3.0 % 2)\n",
    "print(2**2)\n",
    "print(27**(1/3)) #cubbed root of 27"
   ]
  },
  {
   "cell_type": "code",
   "execution_count": null,
   "metadata": {},
   "outputs": [
    {
     "data": {
      "text/plain": [
       "-111"
      ]
     },
     "execution_count": 23,
     "metadata": {},
     "output_type": "execute_result"
    }
   ],
   "source": [
    "#orders of precedent\n",
    "#things are always evaluated left to right\n",
    "#parenthesis, function calls\n",
    "#exponentiation\n",
    "#mult, div, floordiv, modulous,matrix-mult\n",
    "#add, sub\n",
    "#bitwise\n",
    "\n",
    "3-(2+4)*(7 + (6*2))\n",
    "3-6*(7 + (6*2))\n",
    "3-6*(7 + 12)\n",
    "3-6*19\n",
    "\n"
   ]
  },
  {
   "cell_type": "code",
   "execution_count": null,
   "metadata": {},
   "outputs": [
    {
     "data": {
      "text/plain": [
       "7"
      ]
     },
     "execution_count": 24,
     "metadata": {},
     "output_type": "execute_result"
    }
   ],
   "source": [
    "7*True"
   ]
  },
  {
   "cell_type": "code",
   "execution_count": null,
   "metadata": {},
   "outputs": [
    {
     "data": {
      "text/plain": [
       "14.0"
      ]
     },
     "execution_count": 25,
     "metadata": {},
     "output_type": "execute_result"
    }
   ],
   "source": [
    "7*2."
   ]
  },
  {
   "cell_type": "markdown",
   "metadata": {},
   "source": []
  },
  {
   "cell_type": "markdown",
   "metadata": {},
   "source": [
    "___\n",
    "### <span style=\"font-size: 30px; color:rgb(150, 150, 150); font-weight: bold\">String</span>"
   ]
  },
  {
   "cell_type": "markdown",
   "metadata": {},
   "source": [
    "<span style=\"font-size: 15px; color:rgb(250, 250, 250)\">\n",
    "\n",
    "**Properties**:\n",
    "- examples:'Hello',\"hello\",'''hello''',\"\"\"hello\"\"\"\n",
    "- \\<class str\\>\n",
    "- immutable\n",
    "- sequence any string more than a length of one is an ordered sequence of strings of length 1 aka a character (just not in type). \n",
    "</span>"
   ]
  },
  {
   "cell_type": "code",
   "execution_count": null,
   "metadata": {},
   "outputs": [],
   "source": [
    "#empty strings\n",
    "''\n",
    "\"\"\n",
    "''''''\n",
    "\"\"\"\"\"\""
   ]
  },
  {
   "cell_type": "code",
   "execution_count": null,
   "metadata": {},
   "outputs": [
    {
     "name": "stdout",
     "output_type": "stream",
     "text": [
      "  1\n"
     ]
    }
   ],
   "source": [
    "#whitespace characters are not empty\n",
    "print(' ', len(' ')) #' ' has a single space"
   ]
  },
  {
   "cell_type": "code",
   "execution_count": null,
   "metadata": {},
   "outputs": [],
   "source": [
    "#single-single/double quote strings\n",
    "print('Need to specify all whitespace\\nexplicitly')"
   ]
  },
  {
   "cell_type": "code",
   "execution_count": null,
   "metadata": {},
   "outputs": [
    {
     "name": "stdout",
     "output_type": "stream",
     "text": [
      "Captures all typed\n",
      "whitespace.\n"
     ]
    }
   ],
   "source": [
    "#triple-single/double quote strings\n",
    "print(\"\"\"Captures all typed\n",
    "whitespace.\"\"\")"
   ]
  },
  {
   "cell_type": "code",
   "execution_count": null,
   "metadata": {},
   "outputs": [
    {
     "name": "stdout",
     "output_type": "stream",
     "text": [
      "2\n",
      "2\n",
      "'2'\n",
      "2 <class 'str'>\n"
     ]
    }
   ],
   "source": [
    "x = '2'\n",
    "print(x) #prints the string formatted, so the quotes are stripped, but its still a string\n",
    "print(2) \n",
    "print(repr(x))\n",
    "print(x, type(x))"
   ]
  },
  {
   "cell_type": "code",
   "execution_count": null,
   "metadata": {},
   "outputs": [],
   "source": []
  },
  {
   "cell_type": "markdown",
   "metadata": {},
   "source": [
    "#### <hr style=\"border-style:dashed\"><span style=\"font-size: 25px; color:rgb(100, 100, 100); font-weight: bold\">Escape Characters</span>"
   ]
  },
  {
   "cell_type": "markdown",
   "metadata": {},
   "source": [
    "| Sequence | Character/Meaning |\n",
    "| :------- | ----------------:|\n",
    "| \\        | Line Continuation |\n",
    "| \\\\\\       | Backslash         |\n",
    "| \\'       | single Quote      |\n",
    "| \\\"       | Double Quote      |\n",
    "| \\a       | ASCII Bell(BEL)   |\n",
    "| \\b       | Backspace         |\n",
    "| \\f       | Form Feed         |\n",
    "| \\n       | Line feed         |\n",
    "| \\r       | Carriage Return   |\n",
    "| \\t       | Horizontal Tab    |\n",
    "| \\v       | Vertical Tab      |\n",
    "| \\ooo | ASCII Character Specified by Octal |\n",
    "| \\xhhh | ASCII Character Specified by Hexadecimal |\n",
    "| \\uxxxx | Unicode Character Specified by 16-bit Hex |\n",
    "| \\uxxxxxxxx | Unicode Character Specified by 32-bit Hex |\n"
   ]
  },
  {
   "cell_type": "code",
   "execution_count": null,
   "metadata": {},
   "outputs": [
    {
     "name": "stdout",
     "output_type": "stream",
     "text": [
      "It's beautiful day! + It's beautiful day! this is not a newlineIt's beautiful day!\n"
     ]
    }
   ],
   "source": [
    "# print It's a beautiful day! in a string with single quotes\n",
    "x = 'It\\'s beautiful day!' # the escape character is needed to\n",
    "# include the single quote\n",
    "y = \"It's beautiful day!\"\n",
    "print(x, y, sep=' + ', end=' this is not a newline') #sep and end are optional, and can change the default behavior\n",
    "print(x)"
   ]
  },
  {
   "cell_type": "code",
   "execution_count": null,
   "metadata": {},
   "outputs": [],
   "source": [
    "# as a string print (172/12)\n",
    "print('(172/12)')"
   ]
  },
  {
   "cell_type": "code",
   "execution_count": null,
   "metadata": {},
   "outputs": [
    {
     "data": {
      "text/plain": [
       "'a'"
      ]
     },
     "execution_count": 39,
     "metadata": {},
     "output_type": "execute_result"
    }
   ],
   "source": [
    "\"spam and eggs\"[5] #strings are a sequence of strings of length 1"
   ]
  },
  {
   "cell_type": "markdown",
   "metadata": {},
   "source": [
    "___\n",
    "### <span style=\"font-size: 30px; color:rgb(150, 150, 150); font-weight: bold\">List</span>"
   ]
  },
  {
   "cell_type": "markdown",
   "metadata": {},
   "source": [
    "* mutable (can be modified)\n",
    "* <code>['comma', 'separated', 'items']</code>\n",
    "* sequence of items\n"
   ]
  },
  {
   "cell_type": "code",
   "execution_count": null,
   "metadata": {},
   "outputs": [
    {
     "name": "stdout",
     "output_type": "stream",
     "text": [
      "32\n"
     ]
    }
   ],
   "source": [
    "[] #empty list\n",
    "[1, 2, 3] #list with 3 integer items\n",
    "[1, 1.0, 'hello'] #list three items of mixed types\n",
    "[1, [1, 3]] # a list with two items: an integer and a li\n",
    "\n",
    "\n"
   ]
  },
  {
   "cell_type": "code",
   "execution_count": null,
   "metadata": {},
   "outputs": [
    {
     "name": "stdout",
     "output_type": "stream",
     "text": [
      "[1, 2, 3] 140624916817024 [1, 2, 3] 140624916817024 [1, 2, 3] 140624916817024\n",
      "[1, 2, 7] [1, 2, 7] [1, 2, 7] 140624916817024\n"
     ]
    }
   ],
   "source": [
    "#mutability\n",
    "x=y=z=[1,2,3]\n",
    "print(x,id(x),y,id(y),z,id(z))\n",
    "y[2] = 7\n",
    "print(x,y,z, id(y))"
   ]
  },
  {
   "cell_type": "markdown",
   "metadata": {},
   "source": [
    "___\n",
    "### <span style=\"font-size: 30px; color:rgb(150, 150, 150); font-weight: bold\">Tuple</span>"
   ]
  },
  {
   "cell_type": "markdown",
   "metadata": {},
   "source": [
    "* immutable (cannot be modified)\n",
    "* <code>['comma', 'separated', 'items']</code>\n",
    "* sequence of items"
   ]
  },
  {
   "cell_type": "code",
   "execution_count": null,
   "metadata": {},
   "outputs": [],
   "source": [
    "() #empty tuple\n",
    "('a',) #tuple with 1 element NOTE: the comma makes this a tuple with one element, otherwise python\n",
    "       #interprets the parenthesis as a grouping\n",
    "(1, 2.5, [2,'a']) #tuple with three items of mixed types"
   ]
  },
  {
   "cell_type": "code",
   "execution_count": null,
   "metadata": {},
   "outputs": [
    {
     "ename": "TypeError",
     "evalue": "'tuple' object does not support item assignment",
     "output_type": "error",
     "traceback": [
      "\u001b[31m---------------------------------------------------------------------------\u001b[39m",
      "\u001b[31mTypeError\u001b[39m                                 Traceback (most recent call last)",
      "\u001b[36mCell\u001b[39m\u001b[36m \u001b[39m\u001b[32mIn[54]\u001b[39m\u001b[32m, line 2\u001b[39m\n\u001b[32m      1\u001b[39m x = (\u001b[32m1\u001b[39m,\u001b[32m2\u001b[39m,\u001b[32m3\u001b[39m)\n\u001b[32m----> \u001b[39m\u001b[32m2\u001b[39m \u001b[43mx\u001b[49m\u001b[43m \u001b[49m\u001b[43m[\u001b[49m\u001b[32;43m2\u001b[39;49m\u001b[43m]\u001b[49m = \u001b[32m7\u001b[39m\n",
      "\u001b[31mTypeError\u001b[39m: 'tuple' object does not support item assignment"
     ]
    }
   ],
   "source": [
    "x = (1,2,3)\n",
    "x [2] = 7"
   ]
  },
  {
   "cell_type": "markdown",
   "metadata": {},
   "source": [
    "___\n",
    "___\n",
    "## <span style=\"font-size: 40px; color:rgb(200, 200, 200); font-weight: bold\">Variables</span>"
   ]
  },
  {
   "cell_type": "markdown",
   "metadata": {},
   "source": [
    "<span style=\"font-size: 15px; color:rgb(250, 250, 250)\">\n",
    "\n",
    "**Properties**\n",
    "- Alphanumeric characters and underscore\n",
    "- Must start with an alphabetical character or underscore\n",
    "- Makes an identifier that relates one of the following to a memory location:\n",
    "    - variable, function/method, class, module\n",
    "</span>"
   ]
  },
  {
   "cell_type": "code",
   "execution_count": null,
   "metadata": {},
   "outputs": [],
   "source": [
    "#typical declaration\n",
    "x = 12"
   ]
  },
  {
   "cell_type": "code",
   "execution_count": null,
   "metadata": {},
   "outputs": [],
   "source": [
    "#dynamic declaration\n",
    "a,b,c = 'hello', 10, 5.0"
   ]
  },
  {
   "cell_type": "code",
   "execution_count": null,
   "metadata": {},
   "outputs": [],
   "source": [
    "#dynamic declaration with unpacking\n",
    "j,k,l = [1, 3.0, 7]"
   ]
  },
  {
   "cell_type": "code",
   "execution_count": null,
   "metadata": {},
   "outputs": [],
   "source": [
    "#naming conventions\n",
    "thisVarUsesCamelCase = 12\n",
    "this_var_uses_snake_case ='hello'"
   ]
  },
  {
   "cell_type": "markdown",
   "metadata": {},
   "source": [
    "___\n",
    "___\n",
    "## <span style=\"font-size: 40px; color:rgb(200, 200, 200); font-weight: bold\">Data Conversion Functions</span>"
   ]
  },
  {
   "cell_type": "markdown",
   "metadata": {},
   "source": [
    "|               |           |            |             |\n",
    "| ------------  | ---------- | ---------- | ------------|\n",
    "| `int()`  | `str()` | `float()` |\n",
    "| `list()` | `tuple()` | `bool()` |\n",
    "\n",
    "name_of_datatype_convert_to(thing to convert)"
   ]
  },
  {
   "cell_type": "code",
   "execution_count": null,
   "metadata": {},
   "outputs": [],
   "source": [
    "# int() with strings\n",
    "int('-137') #only charaters allowed in string are +-[0-9]\n"
   ]
  },
  {
   "cell_type": "code",
   "execution_count": null,
   "metadata": {},
   "outputs": [],
   "source": [
    "#int() with floats\n",
    "int(5.7)"
   ]
  },
  {
   "cell_type": "code",
   "execution_count": null,
   "metadata": {},
   "outputs": [],
   "source": [
    "#int() with booleans\n",
    "int(True)"
   ]
  },
  {
   "cell_type": "code",
   "execution_count": null,
   "metadata": {},
   "outputs": [
    {
     "name": "stdout",
     "output_type": "stream",
     "text": [
      "62\n",
      "-12\n",
      "34\n"
     ]
    }
   ],
   "source": [
    "#int with strings\n",
    "print(int('+62'))\n",
    "print(int('-12'))\n",
    "print(int(34))"
   ]
  },
  {
   "cell_type": "code",
   "execution_count": null,
   "metadata": {},
   "outputs": [],
   "source": [
    "#float() with strings\n",
    "print(float('6'))\n",
    "print(float('-10.4'))\n",
    "\n"
   ]
  },
  {
   "cell_type": "code",
   "execution_count": null,
   "metadata": {},
   "outputs": [],
   "source": [
    "# convert '10.6' to an integer\n",
    "int(float('10.6'))\n",
    "#print(int('10.6'))"
   ]
  },
  {
   "cell_type": "code",
   "execution_count": null,
   "metadata": {},
   "outputs": [
    {
     "data": {
      "text/plain": [
       "'<built-in function print>'"
      ]
     },
     "execution_count": 58,
     "metadata": {},
     "output_type": "execute_result"
    }
   ],
   "source": [
    "# str()\n",
    "str(1.6) #can put any object in here\n",
    "str(print)"
   ]
  },
  {
   "cell_type": "code",
   "execution_count": null,
   "metadata": {},
   "outputs": [],
   "source": [
    "# bool()\n",
    "#all False values\n",
    "bool('')\n",
    "bool([])\n",
    "bool(())\n",
    "bool(0)\n",
    "bool(0.0)\n",
    "bool(False)"
   ]
  },
  {
   "cell_type": "code",
   "execution_count": null,
   "metadata": {},
   "outputs": [],
   "source": [
    "# bool()\n",
    "#all True values\n",
    "bool('sdf')\n",
    "bool([1])\n",
    "bool((1))\n",
    "bool(-120938)\n",
    "bool(12.7)\n",
    "bool(True)"
   ]
  },
  {
   "cell_type": "code",
   "execution_count": null,
   "metadata": {},
   "outputs": [
    {
     "name": "stdout",
     "output_type": "stream",
     "text": [
      "['h', 'e', 'l', 'l', 'o']\n"
     ]
    }
   ],
   "source": [
    "#convert string into tuple or list\n",
    "print(list('hello'))"
   ]
  },
  {
   "cell_type": "code",
   "execution_count": null,
   "metadata": {},
   "outputs": [
    {
     "ename": "TypeError",
     "evalue": "tuple expected at most 1 argument, got 3",
     "output_type": "error",
     "traceback": [
      "\u001b[31m---------------------------------------------------------------------------\u001b[39m",
      "\u001b[31mTypeError\u001b[39m                                 Traceback (most recent call last)",
      "\u001b[36mCell\u001b[39m\u001b[36m \u001b[39m\u001b[32mIn[60]\u001b[39m\u001b[32m, line 2\u001b[39m\n\u001b[32m      1\u001b[39m (\u001b[32m1\u001b[39m,\u001b[32m2\u001b[39m,\u001b[32m3\u001b[39m) \u001b[38;5;66;03m#these parenthesis are what make a tuple\u001b[39;00m\n\u001b[32m----> \u001b[39m\u001b[32m2\u001b[39m \u001b[38;5;28;43mtuple\u001b[39;49m\u001b[43m(\u001b[49m\u001b[32;43m1\u001b[39;49m\u001b[43m,\u001b[49m\u001b[32;43m2\u001b[39;49m\u001b[43m,\u001b[49m\u001b[32;43m3\u001b[39;49m\u001b[43m)\u001b[49m\n",
      "\u001b[31mTypeError\u001b[39m: tuple expected at most 1 argument, got 3"
     ]
    }
   ],
   "source": [
    "(1,2,3) #these parenthesis are what make a tuple\n",
    "tuple(1,2,3)"
   ]
  },
  {
   "cell_type": "markdown",
   "metadata": {},
   "source": [
    "___\n",
    "___\n",
    "## <span style=\"font-size: 40px; color:rgb(200, 200, 200); font-weight: bold\">Print and Input Functions</span>"
   ]
  },
  {
   "cell_type": "code",
   "execution_count": null,
   "metadata": {},
   "outputs": [],
   "source": [
    "x = input('Message prompt to user')\n",
    "print(x, type(x))"
   ]
  },
  {
   "cell_type": "code",
   "execution_count": null,
   "metadata": {},
   "outputs": [],
   "source": [
    "x = input('Give me a number')\n",
    "print(x, type(x))"
   ]
  },
  {
   "cell_type": "markdown",
   "metadata": {},
   "source": [
    "___\n",
    "___\n",
    "## <span style=\"font-size: 40px; color:rgb(200, 200, 200); font-weight: bold\">Check On Learning</span>"
   ]
  },
  {
   "cell_type": "markdown",
   "metadata": {},
   "source": [
    "___\n",
    "___\n",
    "___\n",
    "# <span style=\"font-size: 50px; color:rgb(250, 250, 250); font-weight: bold;\">Intermediate Lists and Strings</span>"
   ]
  },
  {
   "cell_type": "markdown",
   "metadata": {},
   "source": [
    "___\n",
    "___\n",
    "## <span style=\"font-size: 40px; color:rgb(200, 200, 200); font-weight: bold\">Indexing</span>"
   ]
  },
  {
   "cell_type": "markdown",
   "metadata": {},
   "source": [
    "<span style=\"font-size: 15px; color:rgb(250, 250, 250)\">\n",
    "\n",
    "Access items in lists, tuples and strings using indexing\n",
    "<code>seq_obj[index:int]</code>\n",
    "</span>"
   ]
  },
  {
   "cell_type": "code",
   "execution_count": null,
   "metadata": {},
   "outputs": [
    {
     "name": "stdout",
     "output_type": "stream",
     "text": [
      "zero\n",
      "1\n",
      "two\n"
     ]
    }
   ],
   "source": [
    "#index:  0    1    2\n",
    "simple_list = ['zero',1,'two']\n",
    "print(simple_list[0])  #NOTE: an integer is passed inside the [] to specify the index number\n",
    "#output:  zero\n",
    "\n",
    "print(simple_list[1])\n",
    "#output: 1\n",
    "\n",
    "print(simple_list[2])\n",
    "#output: two"
   ]
  },
  {
   "cell_type": "markdown",
   "metadata": {},
   "source": [
    "<span style=\"font-size: 15px; color:rgb(250, 250, 250)\">\n",
    "\n",
    "Indexes are zero based. When accessing items by index, the index must be valid.\n",
    "</span>"
   ]
  },
  {
   "cell_type": "code",
   "execution_count": null,
   "metadata": {},
   "outputs": [
    {
     "ename": "IndexError",
     "evalue": "list index out of range",
     "output_type": "error",
     "traceback": [
      "\u001b[31m---------------------------------------------------------------------------\u001b[39m",
      "\u001b[31mIndexError\u001b[39m                                Traceback (most recent call last)",
      "\u001b[36mCell\u001b[39m\u001b[36m \u001b[39m\u001b[32mIn[1]\u001b[39m\u001b[32m, line 3\u001b[39m\n\u001b[32m      1\u001b[39m \u001b[38;5;66;03m#index: 0, 1, 2: (3 is not valid)\u001b[39;00m\n\u001b[32m      2\u001b[39m simple_list = [\u001b[32m12\u001b[39m, \u001b[32m4\u001b[39m, \u001b[32m7\u001b[39m]\n\u001b[32m----> \u001b[39m\u001b[32m3\u001b[39m \u001b[43msimple_list\u001b[49m\u001b[43m[\u001b[49m\u001b[32;43m3\u001b[39;49m\u001b[43m]\u001b[49m\n",
      "\u001b[31mIndexError\u001b[39m: list index out of range"
     ]
    }
   ],
   "source": [
    "#index: 0, 1, 2: (3 is not valid)\n",
    "simple_list = [12, 4, 7]\n",
    "simple_list[3] #gets an index error\n"
   ]
  },
  {
   "cell_type": "markdown",
   "metadata": {},
   "source": [
    "<span style=\"font-size: 15px; color:rgb(250, 250, 250)\">\n",
    "\n",
    "Indexes can be negative, to start decrementing from the last item\n",
    "</span>"
   ]
  },
  {
   "cell_type": "code",
   "execution_count": null,
   "metadata": {},
   "outputs": [],
   "source": [
    "#index:        0, 1, 2, 3, 4\n",
    "#index:       -5,-4,-3,-2,-1\n",
    "simple_list = [7, 9, 5, 8, 3] #total ranges of valid indexes is -5 to 4 for a five item sequence\n",
    "#last item in sequence\n",
    "simple_list[-1] * 3 #output: \n",
    "#4th to last item\n",
    "simple_list[-4] #output:\n",
    "\n",
    "#now forwards\n",
    "#fourth item\n",
    "simple_list[3] #output:"
   ]
  },
  {
   "cell_type": "markdown",
   "metadata": {},
   "source": [
    "Examples with tuple and string"
   ]
  },
  {
   "cell_type": "code",
   "execution_count": null,
   "metadata": {},
   "outputs": [
    {
     "name": "stdout",
     "output_type": "stream",
     "text": [
      "2\n",
      "d\n"
     ]
    }
   ],
   "source": [
    "tup = ('one',2,'three')\n",
    "print(tup[1])\n",
    "#output: 2\n",
    "\n",
    "strng = 'hello world'\n",
    "print(strng[-1])\n",
    "#output: d"
   ]
  },
  {
   "cell_type": "markdown",
   "metadata": {},
   "source": [
    "Accessing items in nested sequences"
   ]
  },
  {
   "cell_type": "code",
   "execution_count": null,
   "metadata": {},
   "outputs": [],
   "source": [
    "            #index:|          0         |    1   |    2   |\n",
    "nested_sequence = [(32, 532, 79, 20, 10), \"hello\", 'world'] #nested sequence has three items inside\n",
    "#the first item in nested_sequence\n",
    "nested_sequence[0] #outputs: (32, 532, 79, 20, 10) which is also a sequence with 5 items\n",
    "\n",
    "#get the first item from the first item of nested_sequence\n",
    "#named_of_sequence[outter_index][inner_index]\n",
    "nested_sequence[0][0] #outputs 32\n",
    "\n",
    "#get the second to last item from the second item in nested_sequence\n",
    "nested_sequence"
   ]
  },
  {
   "cell_type": "markdown",
   "metadata": {},
   "source": [
    "As sequences gets more progressively nested, each bracketed index from left to right refers to sequences from outter to inner"
   ]
  },
  {
   "cell_type": "code",
   "execution_count": null,
   "metadata": {},
   "outputs": [
    {
     "name": "stdout",
     "output_type": "stream",
     "text": [
      "[[[1, 2, 1, 2, 1, 2]], ('apple', 'apple'), ['goat', 'goat']]\n"
     ]
    }
   ],
   "source": [
    "deeply_nested_sequence = [[[1, 2, 1, 2, 1, 2]], ('apple', 'apple'), ['goat', 'goat']]\n",
    "\n",
    "#what is the value at deeply_nested_sequence[1][0][3]?\n",
    "# l"
   ]
  },
  {
   "cell_type": "markdown",
   "metadata": {},
   "source": [
    "___\n",
    "___\n",
    "## <span style=\"font-size: 40px; color:rgb(200, 200, 200); font-weight: bold\">List and Tuple Methods</span>"
   ]
  },
  {
   "cell_type": "markdown",
   "metadata": {},
   "source": [
    "### Modifying a List using indexing"
   ]
  },
  {
   "cell_type": "markdown",
   "metadata": {},
   "source": [
    "Lists are mutable and can be modified dynamically. Meaning, the lists memory location remains constant, but the value of the list can change"
   ]
  },
  {
   "cell_type": "code",
   "execution_count": null,
   "metadata": {},
   "outputs": [
    {
     "name": "stdout",
     "output_type": "stream",
     "text": [
      "[1, 2, 3] 140599569792448\n",
      "['one', 2, 3] 140599569792448\n"
     ]
    }
   ],
   "source": [
    "simple_list = [1,2,3]\n",
    "#change the first item (found in index 0) to the string 'one'\n",
    "print(simple_list, id(simple_list))\n",
    "\n",
    "simple_list[0] = 'one' #we change the first item\n",
    "print(simple_list, id(simple_list))\n",
    "#output: ['one', 2, 3]"
   ]
  },
  {
   "cell_type": "code",
   "execution_count": null,
   "metadata": {},
   "outputs": [
    {
     "ename": "TypeError",
     "evalue": "'tuple' object does not support item assignment",
     "output_type": "error",
     "traceback": [
      "\u001b[31m---------------------------------------------------------------------------\u001b[39m",
      "\u001b[31mTypeError\u001b[39m                                 Traceback (most recent call last)",
      "\u001b[36mCell\u001b[39m\u001b[36m \u001b[39m\u001b[32mIn[4]\u001b[39m\u001b[32m, line 3\u001b[39m\n\u001b[32m      1\u001b[39m \u001b[38;5;66;03m#cannot do with tuples or strings\u001b[39;00m\n\u001b[32m      2\u001b[39m tup = (\u001b[32m1\u001b[39m,\u001b[32m2\u001b[39m,\u001b[32m3\u001b[39m)\n\u001b[32m----> \u001b[39m\u001b[32m3\u001b[39m \u001b[43mtup\u001b[49m\u001b[43m[\u001b[49m\u001b[32;43m0\u001b[39;49m\u001b[43m]\u001b[49m = \u001b[33m'\u001b[39m\u001b[33mone\u001b[39m\u001b[33m'\u001b[39m\n",
      "\u001b[31mTypeError\u001b[39m: 'tuple' object does not support item assignment"
     ]
    }
   ],
   "source": [
    "#cannot do with tuples or strings\n",
    "tup = (1,2,3)\n",
    "tup[0] = 'one'"
   ]
  },
  {
   "cell_type": "code",
   "execution_count": null,
   "metadata": {},
   "outputs": [
    {
     "name": "stdout",
     "output_type": "stream",
     "text": [
      "1 94871449712080\n",
      "4 94871449712176\n",
      "[1, 2, 12]\n"
     ]
    }
   ],
   "source": [
    "#using augmented assigment (combining math operators with assignments)\n",
    "x = 1\n",
    "print(x, id(x))\n",
    "x += 3\n",
    "print(x, id(x)) #output: 4\n",
    "#useful for counters\n",
    "\n",
    "simple_list = [1,2,3]\n",
    "simple_list[2] *= 4 #does three things, looks up x[2] value, does math, then reassiagns\n",
    "print(simple_list) #output: [1, 2, 12]"
   ]
  },
  {
   "cell_type": "code",
   "execution_count": null,
   "metadata": {},
   "outputs": [
    {
     "name": "stdout",
     "output_type": "stream",
     "text": [
      "([1, 7], [3, 4], ['a', 'b', 'c'])\n"
     ]
    }
   ],
   "source": [
    "tuple_with_list_items = ([1,2],[3,4],['a','b','c'])\n",
    "tuple_with_list_items[0][1] = 7\n",
    "print(tuple_with_list_items)"
   ]
  },
  {
   "cell_type": "code",
   "execution_count": null,
   "metadata": {},
   "outputs": [
    {
     "ename": "TypeError",
     "evalue": "'tuple' object does not support item assignment",
     "output_type": "error",
     "traceback": [
      "\u001b[31m---------------------------------------------------------------------------\u001b[39m",
      "\u001b[31mTypeError\u001b[39m                                 Traceback (most recent call last)",
      "\u001b[36mCell\u001b[39m\u001b[36m \u001b[39m\u001b[32mIn[9]\u001b[39m\u001b[32m, line 2\u001b[39m\n\u001b[32m      1\u001b[39m \u001b[38;5;66;03m#what happens if you try tuple_with_list_items[0] += [5,6]\u001b[39;00m\n\u001b[32m----> \u001b[39m\u001b[32m2\u001b[39m \u001b[43mtuple_with_list_items\u001b[49m\u001b[43m[\u001b[49m\u001b[32;43m0\u001b[39;49m\u001b[43m]\u001b[49m += [\u001b[32m5\u001b[39m,\u001b[32m6\u001b[39m]\n",
      "\u001b[31mTypeError\u001b[39m: 'tuple' object does not support item assignment"
     ]
    }
   ],
   "source": [
    "#what happens if you try tuple_with_list_items[0] += [5,6]\n",
    "tuple_with_list_items[0] += [5,6]"
   ]
  },
  {
   "cell_type": "code",
   "execution_count": null,
   "metadata": {},
   "outputs": [
    {
     "name": "stdout",
     "output_type": "stream",
     "text": [
      "[1, 2] 140599559973632\n",
      "[1, 2, 5, 6] 140599559973632\n"
     ]
    }
   ],
   "source": [
    "x = [1,2]\n",
    "print(x, id(x))\n",
    "x += [5,6]\n",
    "print(x, id(x))"
   ]
  },
  {
   "cell_type": "markdown",
   "metadata": {},
   "source": [
    "## List Methods\n",
    "\n",
    "The most commonly used methods are listed below, however, there are many more methods available. To learn more about other list methods you can visit both of the following resources:\n",
    "\n",
    "- Using `help(list)` in your IDE\n",
    "\n",
    "- [Python Docs - More on Lists](https://docs.python.org/3/tutorial/datastructures.html#more-on-lists)\n",
    "\n",
    "- [W3Schools](https://www.w3schools.com/python/python_lists_methods.asp)\n",
    "\n",
    "\n",
    "    - `append(item)` - Adds a new element to the end of the list, increasing the length by one.\n",
    "\n",
    "    - `count(item)` - Returns the total number of times the item specified is found inside the list.\n",
    "\n",
    "    - `extend(iterable)` - Adds each element from the iterable passed in as new elements to the end of the list, increasing the length by the number of items in the iterable.\n",
    "\n",
    "    - `insert(index, item)` - Adds the specified item at the specified index position, shifting existing elements to make room for the new item, increasing the length by one.\n",
    "\n",
    "    - `pop(index)` - Deletes the element at the specified index or the end of the list if no index is provided, decreasing the length by one.\n",
    "\n",
    "    - `remove(value)` - Deletes the first instance of the specified value in the list, decreasing the length by one.\n",
    "\n",
    "**Methods in action:**\n"
   ]
  },
  {
   "cell_type": "code",
   "execution_count": null,
   "metadata": {},
   "outputs": [
    {
     "name": "stdout",
     "output_type": "stream",
     "text": [
      "Help on method_descriptor:\n",
      "\n",
      "append(self, object, /) unbound builtins.list method\n",
      "    Append object to the end of the list.\n",
      "\n"
     ]
    }
   ],
   "source": [
    "help(list.append)\n",
    "\n",
    "[1,2].app"
   ]
  },
  {
   "cell_type": "code",
   "execution_count": null,
   "metadata": {},
   "outputs": [
    {
     "name": "stdout",
     "output_type": "stream",
     "text": [
      "[1, 2, 3]\n",
      "[1, 2, 3, 4]\n",
      "[1, 2, 3, 4, 5]\n"
     ]
    }
   ],
   "source": [
    "lst = [1,2,3]\n",
    "print(lst)\n",
    "lst.append(4)  #NOTE: .append can only take ONE item at a time\n",
    "print(lst)\n",
    "#output:  [1, 2, 3, 4]\n",
    "lst.append(5)\n",
    "print(lst)\n"
   ]
  },
  {
   "cell_type": "code",
   "execution_count": null,
   "metadata": {},
   "outputs": [
    {
     "name": "stdout",
     "output_type": "stream",
     "text": [
      "[1, 2, 3, 4, 5, 6]\n",
      "[1, 2, 3, 4, 5, 6, 'h', 'e', 'l', 'l', 'o']\n"
     ]
    }
   ],
   "source": [
    "lst = [1,2,3]\n",
    "new_lst = [4,5,6]\n",
    "lst.extend(new_lst)\n",
    "print(lst)\n",
    "lst.extend('hello')\n",
    "print(lst)\n",
    "#output:  [1, 2, 3, 4, 5, 6]\n",
    "#NOTE: lst is permanently changed and new_lst has remained unchanged"
   ]
  },
  {
   "cell_type": "code",
   "execution_count": null,
   "metadata": {},
   "outputs": [
    {
     "name": "stdout",
     "output_type": "stream",
     "text": [
      "[<built-in function print>, 1, 2, 3, 's']\n"
     ]
    }
   ],
   "source": [
    "lst = [1,2,3, 's']\n",
    "lst.insert(0,print) #at index 0 insert the value 'zero'\n",
    "print(lst)\n",
    "#output:  ['zero', 1, 2, 3]"
   ]
  },
  {
   "cell_type": "markdown",
   "metadata": {},
   "source": [
    "What is the difference between\n",
    "```python\n",
    "[1,2,3].extend([4,5,6])\n",
    "```\n",
    "and\n",
    "```python\n",
    "[1,2,3] + [4,5,6]\n",
    "```"
   ]
  },
  {
   "cell_type": "markdown",
   "metadata": {},
   "source": [
    "Remove an item from the `list` (three ways):  "
   ]
  },
  {
   "cell_type": "code",
   "execution_count": null,
   "metadata": {},
   "outputs": [],
   "source": [
    "lst = [1,2,3,1,2,3]\n",
    "lst.remove(1)\n",
    "print(lst)\n",
    "#output: [2, 3, 1, 2, 3]\n",
    "#NOTE: ONLY the first instance of the int 1 was removed"
   ]
  },
  {
   "cell_type": "code",
   "execution_count": null,
   "metadata": {},
   "outputs": [
    {
     "name": "stdout",
     "output_type": "stream",
     "text": [
      "None\n",
      "['h', 'e', 'l', 'l', ' ', 'w', 'o', 'r', 'l', 'd']\n"
     ]
    }
   ],
   "source": [
    "lst = ['h', 'e', 'l', 'l', 'o', ' ', 'w', 'o', 'r', 'l', 'd']\n",
    "lst.remove('o')\n",
    "print(lst)"
   ]
  },
  {
   "cell_type": "code",
   "execution_count": null,
   "metadata": {},
   "outputs": [
    {
     "name": "stdout",
     "output_type": "stream",
     "text": [
      "[1, 3]\n"
     ]
    }
   ],
   "source": [
    "lst = [1,2,3]\n",
    "del lst[1]  #NOTE:  del is a keyword used to delete items from the list\n",
    "print(lst)\n",
    "#output: [1, 3]"
   ]
  },
  {
   "cell_type": "code",
   "execution_count": null,
   "metadata": {},
   "outputs": [
    {
     "name": "stdout",
     "output_type": "stream",
     "text": [
      "1\n",
      "[2, 3]\n"
     ]
    }
   ],
   "source": [
    "lst = [1,2,3]\n",
    "print(lst.pop(0))\n",
    "print(lst)\n",
    "#output: [2, 3]"
   ]
  },
  {
   "cell_type": "code",
   "execution_count": null,
   "metadata": {},
   "outputs": [],
   "source": [
    "lst = [1,2,3]\n",
    "x = lst.pop(1) #before it removes the item, it \n",
    "print(lst, x)\n",
    "#output: [1, 3] 2\n"
   ]
  },
  {
   "cell_type": "markdown",
   "metadata": {},
   "source": [
    "Removing items from a `list` (three ways):"
   ]
  },
  {
   "cell_type": "markdown",
   "metadata": {},
   "source": [
    "Counting items in a `list`:"
   ]
  },
  {
   "cell_type": "markdown",
   "metadata": {},
   "source": [
    "## Sequence Methods\n",
    "\n",
    "Tuples are NOT mutable and cannot be dynamically changed using methods. Tuples do still have some helpful methods common to all sequence datatypes.\n",
    "\n",
    "- `count(item)` - Returns the total number of times the item specified is found inside the tuple\n",
    "\n",
    "- `index(item)` - Returns the index position of the item\n"
   ]
  },
  {
   "cell_type": "code",
   "execution_count": null,
   "metadata": {},
   "outputs": [
    {
     "name": "stdout",
     "output_type": "stream",
     "text": [
      "3\n",
      "2\n"
     ]
    }
   ],
   "source": [
    "tup = (9,8,7,9,8,7,8)\n",
    "print(tup.count(8))\n",
    "nine_count = tup.count(9)\n",
    "print(nine_count)\n",
    "#output: 2"
   ]
  },
  {
   "cell_type": "code",
   "execution_count": null,
   "metadata": {},
   "outputs": [
    {
     "name": "stdout",
     "output_type": "stream",
     "text": [
      "1 (1, 2, 3, 2, 5, 6, 7)\n"
     ]
    }
   ],
   "source": [
    "tup = (1,2,3,2,5,6,7)\n",
    "tup.index(2)  #NOTE: The returned index number can be saved into a variable if needed\n",
    "where_is_2 = tup.index(2)\n",
    "print(where_is_2, tup)\n",
    "#output:  1"
   ]
  },
  {
   "cell_type": "code",
   "execution_count": null,
   "metadata": {},
   "outputs": [
    {
     "name": "stdout",
     "output_type": "stream",
     "text": [
      "[1, 3, 4, 2, 3, 5, 6, 7]\n"
     ]
    }
   ],
   "source": [
    "#given lst = [1,3,4,5,2,3,2,5,6,7] remove the second occurrence of 2 use a combination of index and pop\n",
    "# print off the original list and id, and the modified list with id \n",
    "array = [1,3,4,2,3,2,5,6,7]\n",
    "array.pop(array.index(2,array.index(2)+1))\n",
    "\n",
    "# array.pop(array.index(2,2))\n",
    "print(array)\n",
    "# first_occurence_index = array.index(2) + 1\n",
    "# #we need to start looking for 2 after the index of the first occurence\n",
    "# second_occurence_index = array.index(2,first_occurence_index)\n",
    "# array.pop(second_occurence_index)"
   ]
  },
  {
   "cell_type": "markdown",
   "metadata": {},
   "source": [
    "\n",
    "## Make changes to a tuple\n",
    "\n",
    "While tuples are great at maintaining the integrity of its contents, sometimes a change may need to be made. \n",
    "\n",
    "|  **Scenario:** |\n",
    "|---|\n",
    "|Joe Smith is being reassigned to Ft. Eisenhower, GA and his record needs to be updated|"
   ]
  },
  {
   "cell_type": "code",
   "execution_count": null,
   "metadata": {},
   "outputs": [],
   "source": [
    "soldier_159 = ('Joe','Smith','88M','Ft. Drum, NY')\n",
    "soldier_159 = list(soldier_159)  #converting to a list to access mutable properties\n",
    "soldier_159[-1] = 'Ft. Eisenhower, GA'\n",
    "soldier_159 = tuple(soldier_159)  #converting back to a tuple to 'lockdown' or deny mutability\n",
    "print(soldier_159)\n",
    "#output:  ('Joe', 'Smith', '88M', 'Ft. Eisenhower, GA')"
   ]
  },
  {
   "cell_type": "code",
   "execution_count": null,
   "metadata": {},
   "outputs": [
    {
     "name": "stdout",
     "output_type": "stream",
     "text": [
      "<class 'list'>\n",
      "('hello', 'world', '!')\n"
     ]
    }
   ],
   "source": [
    "random_tup = ('hello', 'world') \n",
    "working_copy_of_tup = list(tup) #convert into a working copy\n",
    "working_copy_of_tup.append(\"!\")\n",
    "print(type(working_copy_of_tup))\n",
    "random_tup = tuple(working_copy_of_tup)\n",
    "print(random_tup)\n"
   ]
  },
  {
   "cell_type": "code",
   "execution_count": null,
   "metadata": {},
   "outputs": [
    {
     "name": "stdout",
     "output_type": "stream",
     "text": [
      "['hello', 'BIG', 'world']\n",
      "['hello', 'BIG', 'world'] ['hello', 'BIG', 'world', 'goat']\n"
     ]
    }
   ],
   "source": [
    "x = y = ['hello','big','world']\n",
    "y[1] = y[1].upper()\n",
    "print(x)\n",
    "z = y.copy()\n",
    "z.append('goat')\n",
    "print(y, z)"
   ]
  },
  {
   "cell_type": "code",
   "execution_count": null,
   "metadata": {},
   "outputs": [
    {
     "name": "stdout",
     "output_type": "stream",
     "text": [
      "2 2\n",
      "2 7\n"
     ]
    }
   ],
   "source": [
    "x=y=2\n",
    "print(x, y)\n",
    "y = 7\n",
    "print(x, y)"
   ]
  },
  {
   "cell_type": "markdown",
   "metadata": {},
   "source": [
    "___\n",
    "___\n",
    "## <span style=\"font-size: 40px; color:rgb(200, 200, 200); font-weight: bold\">String Casing</span>"
   ]
  },
  {
   "cell_type": "markdown",
   "metadata": {},
   "source": [
    "- Strings in Python are an *immutable* sequence of zero or more characters.\n",
    "\n",
    "\n",
    "- Literal string values may be enclosed in single or double quotes and can span multiple lines in several ways.\n",
    "    - This is achieved by using the line continuation character \\ as the last character.\n",
    "\n",
    "- Literal strings may also be prefixed with a letter r or R.\n",
    "    - These are referred to as raw strings and use different rules for backslash escape sequences.\n",
    "\n",
    "- Strings in Python are represented using a class named `str`.\n",
    "\n",
    "- The `str` class has an abundance of methods defined within it.\n",
    "    - Some of the methods return Boolean values such as `True` or `False`.\n",
    "    - Some methods return a modified **copy** of the string.\n",
    "\n",
    "\n",
    "- A full listing of the string methods can be found by using: \n",
    "    - `help(str)` from the Python interactive shell or your IDE.\n",
    "    - [W3Schools](https://www.w3schools.com/python/python_strings_methods.asp)\n",
    "    - [Python Docs](https://docs.python.org/3/library/stdtypes.html#string-methods)"
   ]
  },
  {
   "cell_type": "markdown",
   "metadata": {},
   "source": [
    "## String Casing methods\n",
    "- Python provides several methods that can be used to modify the casing of characters in a string.\n",
    "- ```upper()``` returns a **copy** of the string with all cased characters converted to uppercase.\n",
    "- ```lower()``` returns a **copy** of the string with all cased characters converted to lowercase letters.\n",
    "- ```casefold()``` similar to lower(), is stronger, more aggressive, meaning that it will also convert unicode characters into lower case. This method will find more matches when comparing two strings and both are converted using the casefold() method\n",
    "- ```title()``` returns a **copy** of the string with the first letter of each word in the string in upper case and the rest of the characters in lower case.\n",
    "- ```capitalize()``` returns a **copy** of the string with the first letter in upper case and the rest of the characters in lower case."
   ]
  },
  {
   "cell_type": "code",
   "execution_count": null,
   "metadata": {},
   "outputs": [],
   "source": [
    "string = \"python is fun\"                                                        #Output: \n",
    "print(\"String is now upper:\", string.upper())           #String is now upper: PYTHON IS FUN\n",
    "print(\"String is now lower\", string.lower())            #String is now lower python is fun\n",
    "print(\"String is now casefold:\", string.casefold())     #String is now casefold: python is fun\n",
    "print(\"String is now title:\", string.title())           #String is now title: Python Is Fun\n",
    "print(\"String is now capitalize:\", string.capitalize()) #String is now capitalize: Python is fun\n",
    "\n"
   ]
  },
  {
   "cell_type": "markdown",
   "metadata": {},
   "source": [
    "___\n",
    "___\n",
    "## <span style=\"font-size: 40px; color:rgb(200, 200, 200); font-weight: bold\">Finding Substrings</span>"
   ]
  },
  {
   "cell_type": "markdown",
   "metadata": {},
   "source": [
    "\n",
    "- A variety of methods can be used to find instances of characters or strings within another string.\n",
    "\n",
    "\n",
    "- `count(s)` will return the number of times the value passed to the method is found within the string.\n",
    "\n",
    "\n",
    "- `index(s)` will return the index position of the first instance of the value passed to the method.\n",
    "\n",
    "\n",
    "- `index()` will raise a `ValueError` exception if the value to find is not found within the string\n",
    "\n",
    "\n",
    "- `find(s)` is similar to index but find will return a -1 when the sub-string is not found rather than raising an exception.\n",
    "\n",
    "\n",
    "!!! Note \"Note\"\n",
    "    that all these methods perform case sensitive searches."
   ]
  },
  {
   "cell_type": "code",
   "execution_count": null,
   "metadata": {},
   "outputs": [],
   "source": [
    "string = \"python is fun\"\n",
    "                                # Output:\n",
    "print(string.count(\"n\"))        #  2\n",
    "print(string.index(\"n\"))        #  5\n",
    "print(string.find(\"n\"))         #  5\n",
    "print(string.find('z'))         #  -1"
   ]
  },
  {
   "cell_type": "code",
   "execution_count": null,
   "metadata": {},
   "outputs": [
    {
     "name": "stdout",
     "output_type": "stream",
     "text": [
      "['h', 'e', 'l', 'L', 'o', ' ', 'w', 'o', 'r', 'l', 'd']\n"
     ]
    }
   ],
   "source": [
    "# find and change the second occurence of the letter 'l' to uppercase in a given string variable\n",
    "string = \"hello world\"\n",
    "string_list = list(string) #convert to list because we want to modify and strings are strings are not modifiable\n",
    "#find the location of the first l\n",
    "first_l_pos = string_list.index(\"l\") #this gives us the index of the first location\n",
    "#find the lcoation of the second occurrence\n",
    "sec_l_pos = string_list.index(\"l\", first_l_pos + 1) #plus 1 is needed to look after the first occurence\n",
    "#now we have the position of the the position, we need to make the change\n",
    "string_list[sec_l_pos] = string_list[sec_l_pos].upper()\n",
    "print(string_list)"
   ]
  },
  {
   "cell_type": "code",
   "execution_count": null,
   "metadata": {},
   "outputs": [],
   "source": [
    "#given basket = ('pear','apple', 'pineapple', 'berry', 'apple', 'orange', 'apple', 'kiwi') create a tuple where the last occurrence\n",
    "#of apple is uppercase"
   ]
  },
  {
   "cell_type": "markdown",
   "metadata": {},
   "source": [
    "___\n",
    "___\n",
    "## <span style=\"font-size: 40px; color:rgb(200, 200, 200); font-weight: bold\">Modifying Strings</span>"
   ]
  },
  {
   "cell_type": "markdown",
   "metadata": {},
   "source": [
    "## Methods To Create Modified Copies of Strings\n",
    "\n",
    "- Methods can be used to clean up data or to replace or remove unwanted characters.\n",
    "\n",
    "**It is important to note that all of these methods will only return a modified *copy* of your string UNLESS you assign it to a variable**\n",
    "\n",
    "- `strip()` will remove any leading and trailing whitespace from the string.\n",
    "\n",
    "\n",
    "- `lstrip()` will remove any leading whitespace (whitespace on the left)\n",
    "\n",
    "\n",
    "- `rstrip()` will remove any trailing whitespace (whitespace on the right)\n",
    "\n",
    "\n",
    "- `replace(old, new)` replaces all instances of the first parameter with all instances of the second parameter.\n",
    "\t- An optional third parameter can be used to specify the number of times the replacement is to be made."
   ]
  },
  {
   "cell_type": "code",
   "execution_count": null,
   "metadata": {},
   "outputs": [
    {
     "name": "stdout",
     "output_type": "stream",
     "text": [
      "\t 123-456-7890 \t\n",
      "123-456-7890\n",
      "123 456 7890\n"
     ]
    }
   ],
   "source": [
    "s = \"\\t 123-456-7890 \\t\"\n",
    "                                          #Output:\n",
    "stripped = s.strip()\n",
    "print(s)#-------------------------->    123-456-7890\n",
    "print(stripped)#-------------------------->123-456-7890\n",
    "print(stripped.replace(\"-\", \" \"))#-------->123 456 7890"
   ]
  },
  {
   "cell_type": "code",
   "execution_count": null,
   "metadata": {},
   "outputs": [],
   "source": [
    "#strip,lstrip,and rstrip will remove any sequence of a set of characters"
   ]
  },
  {
   "cell_type": "markdown",
   "metadata": {},
   "source": [
    "## Splitting and Joining Strings Working With Lists\n",
    "\n",
    "Strings are immutable objects which can make them difficult to easily alter. Let's look at some methods available to break apart strings, make some alterations if necessary, and then join them back together.\n",
    "\n",
    "- `.split()` - Returns a `list` of the original string elements separated by index by the item specified; default value is whitespace"
   ]
  },
  {
   "cell_type": "code",
   "execution_count": null,
   "metadata": {},
   "outputs": [],
   "source": [
    "phrase = 'hello world'\n",
    "split_phrase = phrase.split()\n",
    "print(split_phrase)\n",
    "#output:  ['hello', 'world']  NOTE: The output is a list object"
   ]
  },
  {
   "cell_type": "markdown",
   "metadata": {},
   "source": [
    "\n",
    "It is important to note that the item provided to the `.split()` method will be removed completely from the string"
   ]
  },
  {
   "cell_type": "code",
   "execution_count": null,
   "metadata": {},
   "outputs": [],
   "source": [
    "sentence = 'Hello class! Welcome to Python.'\n",
    "split_sentence = sentence.split('!')  #NOTE: the item provided MUST be a str value\n",
    "print(split_sentence)\n",
    "#output:   ['Hello class', ' Welcome to Python.']"
   ]
  },
  {
   "cell_type": "markdown",
   "metadata": {},
   "source": [
    "Notice that the '!' is completely removed and the sentence has been split apart based on the placement of the '!'\n",
    "\n",
    "|  **Scenario:** |\n",
    "|---|\n",
    "|Given a string with a first and last name, isolate and save each part of the name to separate variables|"
   ]
  },
  {
   "cell_type": "code",
   "execution_count": null,
   "metadata": {},
   "outputs": [],
   "source": [
    "full_name = 'Joe Smith'\n",
    "fname = full_name.split()[0]\n",
    "lname = full_name.split()[1]\n",
    "print(fname)\n",
    "#output:  Joe\n",
    "print(lname)\n",
    "#output:  Smith"
   ]
  },
  {
   "cell_type": "code",
   "execution_count": null,
   "metadata": {},
   "outputs": [],
   "source": []
  },
  {
   "cell_type": "markdown",
   "metadata": {},
   "source": [
    "# is METHODS for Strings\n",
    "\n",
    "- Methods can be used to to validate if a string contains a certain set of characters\n",
    "- When the method validates, it will return either True or False\n",
    "\n",
    "### The methods are:\n",
    "-  `isdigit()`: will return `True` if all characters are digits\n",
    "-  `islower()`: will return `True` if all characters are lowercase\n",
    "-  `isupper()`: will return `True` if all characters are uppercase\n",
    "-  `isalnum()`: will return `True` if all characters are alphanumeric"
   ]
  },
  {
   "cell_type": "code",
   "execution_count": null,
   "metadata": {},
   "outputs": [],
   "source": [
    "s = \"will this return true?\"\n",
    "print(s.islower())\n",
    "#output:  True\n",
    "print(s.isdigit())\n",
    "#output:  False\n",
    "print(s.isupper())\n",
    "#output:  False\n",
    "print(s.isalnum())\n",
    "#output:  False         NOTE: This returned False because whitespaces do NOT count as alphanumeric characters"
   ]
  },
  {
   "cell_type": "markdown",
   "metadata": {},
   "source": [
    "___\n",
    "___\n",
    "## <span style=\"font-size: 40px; color:rgb(200, 200, 200); font-weight: bold\">String Formatting</span>"
   ]
  },
  {
   "cell_type": "markdown",
   "metadata": {},
   "source": [
    "___\n",
    "### <span style=\"font-size: 30px; color:rgb(150, 150, 150); font-weight: bold\">f-strings</span>"
   ]
  },
  {
   "cell_type": "markdown",
   "metadata": {},
   "source": [
    "| Type |  Meaning |\n",
    "| :----| :-------- |\n",
    "| s  | String format. This is the default type for strings and may be omitted. |\n",
    "| none | The same as 's'. |\n",
    "| b  | Binary Format. The Number is display as base 2. |\n",
    "| c  | Character. Converts the integer to a Unicode Character. |\n",
    "| d  | Decimal Integer. This converts the number to base 10.   | \n",
    "| x or X | Hex format. Display the number in base 16. The case of the hex number will match the case of the specifier. |\n",
    "| f | Fixed point number. Displays the number with a decimal point. Default precision is 6. |\n",
    "| % | percentage. Multiplies the number by 100 and displays in fixed ('f') fromat with a percent sign. |"
   ]
  },
  {
   "cell_type": "markdown",
   "metadata": {},
   "source": [
    "| Format Specifier | Effect | Example |\n",
    "| :-- | :-- | :-- |\n",
    "| <num | right justify if width greater than text | <code>f'{9:<3}'</code> -> <code>'9  '</code> |\n",
    "| >num | left justify if width greater than text | <code>f'{9:>3}'</code> -> <code>'  9'</code> |\n",
    "| ^num | center justify if width greater than text | <code>f'{9:>3}'</code> -> <code>' 9 '</code> |\n",
    "| 0num | forces leading zeros for numbers | <code>f'{9:03}'</code> -> <code>'009'</code> |\n",
    "| , | thousands separator | <code>f'{9000:,}'</code> -> <code>'9,000'</code> |\n",
    "| _ | thousands separator | <code>f'{9000:_,_}'</code> -> <code>'9_000'</code> |\n",
    "| .numf | decimal precision | <code>f'{12.4:.2f}'</code> -> <code>'12.40'</code> |\n",
    "| % | mulitplies num by 100 and adds % suffix | <code>f'{12.4:%}'</code> -> <code>'1240.000000%'</code> |\n",
    "| b | prints binary of number | <code>f'{6:b}'</code> -> <code>'110'</code> |\n",
    "| #b | prints binary of number with 0b prefix | <code>f'{6:#b}'</code> -> <code>'0b110'</code> |\n",
    "| o | prints octal of number | <code>f'{9:o}'</code> -> <code>'11'</code> |\n",
    "| #o | prints octal of number with 0o prefix | <code>f'{6:#o}'</code> -> <code>'0o11'</code> |\n",
    "| x | prints hex of number | <code>f'{13:x}'</code> -> <code>'d'</code> |\n",
    "| #x | prints hex of number with 0x prefix | <code>f'{6:#x}'</code> -> <code>'0xd'</code> |\n",
    "| X | same as x but uppercase | <code>f'{13:X}'</code> -> <code>'D'</code> |\n",
    "| #X | same as #X but uppercase | <code>f'{6:#X}'</code> -> <code>'0XD'</code> |\n"
   ]
  },
  {
   "cell_type": "code",
   "execution_count": null,
   "metadata": {},
   "outputs": [
    {
     "data": {
      "text/plain": [
       "'11'"
      ]
     },
     "execution_count": 42,
     "metadata": {},
     "output_type": "execute_result"
    }
   ],
   "source": [
    "coding_language = \"Python\"\n",
    "print(f'{coding_language} is fun')   \n",
    "#output:   Python is fun"
   ]
  },
  {
   "cell_type": "markdown",
   "metadata": {},
   "source": [
    "\n",
    "\n",
    "    A programmer can define and merge f-strings to create a multi-line f-string.\n",
    "\n",
    "    Notice that the {name} placeholder, or field can be repeated. Python evaluates the fields in the braces as Python expressions and looks for variables to match.\n",
    "\n",
    "    The order of the fields does not matter and as stated earlier, a field can contain any valid Python expression. It is important to include the f or F in front of each line.\n"
   ]
  },
  {
   "cell_type": "code",
   "execution_count": null,
   "metadata": {},
   "outputs": [],
   "source": [
    "coding_language = \"Python\"\n",
    "audience = \"Students\"\n",
    "\n",
    "long_string = f\"{coding_language} is fun. {audience} seem to enjoy learning Python\"\n",
    "\n",
    "print(long_string)\n",
    "#output:  Python is fun. Students seem to enjoy learning Python."
   ]
  },
  {
   "cell_type": "markdown",
   "metadata": {},
   "source": [
    "\n",
    "\n",
    "    When using f-strings the programmer can place curly braces in a literal string.\n",
    "\n",
    "    The curly braces can contain a Python expression.\n",
    "\n",
    "    Additionally, the programmer can specify additional formatting details for the result of the Python expression.\n",
    "\n",
    "    A format specifier can be appended to the field after a colon : and inside the curly braces.\n",
    "\n",
    "    Backslashes are not allowed within the formatting field and will cause a syntax error!\n"
   ]
  },
  {
   "cell_type": "code",
   "execution_count": null,
   "metadata": {},
   "outputs": [],
   "source": [
    "PI = 3.14159\n",
    "print(f\"PI is now 2 decimal places: {PI:.2f}\") #  this will show 2 digits after the decimal\n",
    "#output:  PI is now 2 decimal places: 3.14\n",
    "\n",
    "PI = 3.14159\n",
    "print(f\"PI is now 4 decimal places: {PI:.4f}\") #NOTE rounding took place in the string formatting\n",
    "#output:  PI is now 4 decimal places: 3.1416\n",
    "\n",
    "num = .5\n",
    "print(f\"num is now a percentage: {num:%}\") \n",
    "#output:  num is now a percentage: 50.000000%\n",
    "\n",
    "print(f\"num is now 2 decimal places: {num:.2%}\") \n",
    "#output:  num is now a percentage with only 2 decimal places: 50.00%"
   ]
  },
  {
   "cell_type": "markdown",
   "metadata": {},
   "source": [
    "___\n",
    "### <span style=\"font-size: 30px; color:rgb(150, 150, 150); font-weight: bold\">str.format</span>\n",
    "\n",
    "\n",
    "    format() is a method to be used with str.\n",
    "\n",
    "    Much like f-strings, the str.format() method uses curly braces in a template string to mark where the output should be replaced.\n",
    "\n",
    "    The syntax is to create a string literal with fields marked with curly braces {} where the programmer wants the output to appear.\n"
   ]
  },
  {
   "cell_type": "code",
   "execution_count": null,
   "metadata": {},
   "outputs": [],
   "source": [
    "difficulty = \"easy\"\n",
    "output = \"Formatting in python is {}\".format(difficulty)\n",
    "print(output)       \n",
    "#output:  Formatting in python is easy     "
   ]
  },
  {
   "cell_type": "code",
   "execution_count": null,
   "metadata": {},
   "outputs": [],
   "source": [
    "task = \"Formatting\"\n",
    "difficulty = \"easy\"\n",
    "output = \"{} in python is {}\".format(task, difficulty)\n",
    "print(output)\n",
    "#output:  Formatting in python is easy"
   ]
  },
  {
   "cell_type": "markdown",
   "metadata": {},
   "source": [
    "___\n",
    "___\n",
    "___\n",
    "# <span style=\"font-size: 50px; color:rgb(250, 250, 250); font-weight: bold;\">Python Fundementals</span>"
   ]
  },
  {
   "cell_type": "markdown",
   "metadata": {},
   "source": [
    "# Function Definitions\n",
    "\n",
    "## Defined Functions you are familiar with already\n",
    "\n",
    "- `print()`\n",
    "- `input()`\n",
    "\n",
    "\n",
    "## Creating Functions \n",
    "\n",
    "- To define a unique new function, use the keyword `def` followed by a function name followed by a parenthesized list of parameters, if needed, followed by a colon.\n",
    "\n",
    "- A function must be defined before it can be used (called). \n",
    "\n",
    "- A function in Python defines a block. As with other blocks in Python (if/elif/else statements, and while/for statements) the code must be indented by using all spaces or all tabs. \n",
    "\n",
    "```py\n",
    "def function_name(parameter1, parameter2): #  With parameters\n",
    "\n",
    "def function_name():                       #  Without parameters\n",
    "```"
   ]
  },
  {
   "cell_type": "markdown",
   "metadata": {},
   "source": [
    "## Calling Functions \n",
    "\n",
    "A function call calls the function that is defined which will execute what is in the function. When a function is called, the arguments are the data passed into the method’s parameters."
   ]
  },
  {
   "cell_type": "markdown",
   "metadata": {},
   "source": [
    "* function definitions are just templates of repeatable code\n",
    "* parameters are variables, but they do not have values until the function is called"
   ]
  },
  {
   "cell_type": "code",
   "execution_count": null,
   "metadata": {},
   "outputs": [],
   "source": [
    "# Creating a function called function_name\n",
    "def function_name(parameter1, parameter2):\n",
    "   print(parameter1, parameter2)\n",
    "   #end of function\n",
    "\n",
    "# Creating two variables and calling the function\n",
    "parameter1 = [\"This\", \"is\", \"a\", \"argument\"]\n",
    "parameter2 = (\"This is another argument\")\n",
    "\n",
    "function_name(parameter1, parameter2) #  This is where the function is ‘called’\n",
    "#Output:  ['This', 'is', 'a', 'argument'] This is another argument"
   ]
  },
  {
   "cell_type": "code",
   "execution_count": null,
   "metadata": {},
   "outputs": [],
   "source": [
    "# Creating a function called function_name\n",
    "def function_name(parameter1, parameter2):\n",
    "   print(parameter1, parameter2)\n",
    "\n",
    "function_name(12, 'arguments are values')"
   ]
  },
  {
   "cell_type": "markdown",
   "metadata": {},
   "source": [
    "## Arguments\n",
    "\n",
    "- Arguments passed to Python functions may be of any type.\n",
    "\n",
    "- It is the programmer’s responsibility to ensure that the type of data passed is appropriate for how the data is used in the function."
   ]
  },
  {
   "cell_type": "code",
   "execution_count": null,
   "metadata": {},
   "outputs": [
    {
     "name": "stdout",
     "output_type": "stream",
     "text": [
      "An argument was passed to this function:  [1, 2, 3]\n"
     ]
    }
   ],
   "source": [
    "# Defining a function with a single parameter\n",
    "def function(para1):\n",
    "   print(\"An argument was passed to this function: \", para1)\n",
    "\n",
    "# Function call and passing in an argument\n",
    "function([1,2,3])"
   ]
  },
  {
   "cell_type": "markdown",
   "metadata": {},
   "source": [
    "- Argument data is assigned to parameters.\n",
    "\n",
    "- Python treats assigning arguments to parameters as assignment, meaning that Python does not copy the argument data into the parameters (recall that in Python, assignment never copies data).\n",
    "\n",
    "- Positional parameters are bound to argument data by their position in the function definition."
   ]
  },
  {
   "cell_type": "code",
   "execution_count": null,
   "metadata": {},
   "outputs": [],
   "source": [
    "def func(num1, num2):\n",
    "   print(num1,num2)\n",
    "\n",
    "func(num1= 1, num2=2)\n",
    "#ouput 1 2"
   ]
  },
  {
   "cell_type": "markdown",
   "metadata": {},
   "source": [
    "## Returning Data\n",
    "- Functions often return values via the `return` statement.\n",
    "\n",
    "- It is common to save returned values for later use BUT if it is not needed, the function call is equivalent to the returned value when used by the calling code."
   ]
  },
  {
   "cell_type": "code",
   "execution_count": null,
   "metadata": {},
   "outputs": [
    {
     "name": "stdout",
     "output_type": "stream",
     "text": [
      "[1, 2, 3]\n"
     ]
    },
    {
     "ename": "NameError",
     "evalue": "name 'func' is not defined",
     "output_type": "error",
     "traceback": [
      "\u001b[0;31m---------------------------------------------------------------------------\u001b[0m",
      "\u001b[0;31mNameError\u001b[0m                                 Traceback (most recent call last)",
      "Cell \u001b[0;32mIn[2], line 6\u001b[0m\n\u001b[1;32m      3\u001b[0m    \u001b[38;5;28;01mreturn\u001b[39;00m num\n\u001b[1;32m      5\u001b[0m \u001b[38;5;28mprint\u001b[39m(func_1([\u001b[38;5;241m1\u001b[39m,\u001b[38;5;241m2\u001b[39m,\u001b[38;5;241m3\u001b[39m]))\n\u001b[0;32m----> 6\u001b[0m \u001b[38;5;28mprint\u001b[39m(\u001b[43mfunc\u001b[49m())\n\u001b[1;32m      7\u001b[0m \u001b[38;5;66;03m#Output:  [1, 2, 3]\u001b[39;00m\n",
      "\u001b[0;31mNameError\u001b[0m: name 'func' is not defined"
     ]
    }
   ],
   "source": [
    "# Creating a function and returning the output\n",
    "def func_1(num:list):\n",
    "   return num\n",
    "\n",
    "print(func_1([1,2,3]))\n",
    "print(func_1(1)) # even though suggested a list, the function work with any value\n",
    "#Output:  [1, 2, 3]"
   ]
  },
  {
   "cell_type": "markdown",
   "metadata": {},
   "source": [
    "- The `print()` function will simply provide a copy of the function's results/output\n",
    "- The `return` keyword will actually provide a value that can be assigned to a variable and used"
   ]
  },
  {
   "cell_type": "code",
   "execution_count": null,
   "metadata": {},
   "outputs": [],
   "source": [
    "def new_func(param1):\n",
    "    return param1.upper()\n",
    "\n",
    "return_value = new_func('hello world')\n",
    "print(return_value.split())\n",
    "#output:  ['HELLO', 'WORLD']"
   ]
  },
  {
   "cell_type": "markdown",
   "metadata": {},
   "source": [
    "# Name Scopes\n",
    "\n",
    "- Functions provide a nested namespace (sometimes called a scope), which localizes the names they use, such that names inside the function won’t clash with those outside (in a module or other function). We usually say that functions define a local scope, and modules define a global scope. \n",
    "\n",
    "## The four Python scopes:\n",
    "1. The ```local``` scope are names created inside a function.\n",
    "2. The ```enclosed``` scope are names created in a function that encloses (contains) another function. This section includes some examples of names defined in the enclosed scope.\n",
    "3. The ```global``` scope are names created inside a script outside of any/all functions.\n",
    "4. The ```built-in``` scope are names that Python reserves for its own internal workings.\n",
    "\n",
    "- When Python looks to resolve (use) a name, it examines the scopes 'inside-out'.\n",
    "\n",
    "- Python looks at the most restrictive scope first and works its way outward to increasingly larger scopes.\n",
    "\n",
    "- Pythonistas express this concept as the ```LEGB``` rule.\n",
    "\n",
    "- Python looks first in local scope, followed by enclosed, followed by global, followed by builtin (LEGB).\n",
    "\n",
    "- Each function contains its own scope; if a Python program has six functions that program contains six local scopes. The scope is activated when the function is called and disappears when the function terminates (either normally or abnormally).\n",
    "\n",
    "- A function cannot change the value of data bound to a name outside its scope (without some extra work). If a Python function uses the name defined in global (or any enclosing) scope, Python creates a new name known only in the local scope and binds data to it."
   ]
  },
  {
   "cell_type": "code",
   "execution_count": null,
   "metadata": {},
   "outputs": [],
   "source": [
    "# Example of local scope\n",
    "def func():\n",
    "   within_function = \"This is locally defined\"\n",
    "   print(within_function)\n",
    "\n",
    "func()\n",
    "# Output: This is locally defined "
   ]
  },
  {
   "cell_type": "code",
   "execution_count": null,
   "metadata": {},
   "outputs": [],
   "source": [
    "# Example of a Enclosed Scope\n",
    "# Creating a function and defining num\n",
    "def func_1():\n",
    "   num = 20\n",
    "   # Creating a function and printing num and num2\n",
    "   def func_2():\n",
    "       print(num)\n",
    "       print(num2)\n",
    "   func_2()   \n",
    "num2 = 50\n",
    "func_1()\n",
    "#output:\n",
    "#20\n",
    "#50"
   ]
  },
  {
   "cell_type": "code",
   "execution_count": null,
   "metadata": {},
   "outputs": [],
   "source": [
    "#Global Scope\n",
    "# Declaring a global variable\n",
    "global_var = \"I am global\"\n",
    "\n",
    "# Creating a function and changing global_var\n",
    "def func_1():\n",
    "   global_var = \"New global\"\n",
    "   print(global_var)\n",
    "\n",
    "# Creating a function and printing global_var\n",
    "def func_2():\n",
    "   print(global_var)\n",
    "\n",
    "func_1()\n",
    "func_2()\n",
    "\n",
    "#output: \n",
    "#New global\n",
    "#I am global"
   ]
  },
  {
   "cell_type": "markdown",
   "metadata": {},
   "source": [
    "# Building Custom Functions - Examples\n",
    "\n",
    "\n",
    "## Example 1\n",
    "\n",
    "Python allows you to build your own custom function to accomplish tasks.\n",
    "\n",
    "Starting with something simple, build a function that multiplies 2 and 4 and `return` the product"
   ]
  },
  {
   "cell_type": "code",
   "execution_count": null,
   "metadata": {},
   "outputs": [
    {
     "name": "stdout",
     "output_type": "stream",
     "text": [
      "8\n",
      "<function multiply at 0x7f07491518b0>\n"
     ]
    }
   ],
   "source": [
    "def multiply():\n",
    "    return 2 * 4  #no initial output due to nothing being called.\n",
    "\n",
    "print(multiply())\n",
    "print(multiply)  #the thing that makes it a call is the parenthesis.\n",
    "\n",
    "#output:  8"
   ]
  },
  {
   "cell_type": "markdown",
   "metadata": {},
   "source": [
    "This function is hardcoded to ONLY multiply 2 and 4.\n",
    "\n",
    "Make a new function modified to accept two arguments/parameters so that it can multiply ANY two numbers passed into the function."
   ]
  },
  {
   "cell_type": "code",
   "execution_count": null,
   "metadata": {},
   "outputs": [],
   "source": [
    "def multiply(num1, num2):\n",
    "    return num1 * num2\n"
   ]
  },
  {
   "cell_type": "markdown",
   "metadata": {},
   "source": [
    "\n",
    "## Example 2\n",
    "\n",
    "Build a function called `username` that accepts two parameters/arguments. Those arguments will be a person's first name and last name. \n",
    "\n",
    "The function should `return` a formatted string that looks like the following:  `last.first`\n"
   ]
  },
  {
   "cell_type": "code",
   "execution_count": null,
   "metadata": {},
   "outputs": [],
   "source": [
    "def username(first, last):\n",
    "    return f\"{last}.{first}\""
   ]
  },
  {
   "cell_type": "markdown",
   "metadata": {},
   "source": [
    "## Print vs Return"
   ]
  },
  {
   "cell_type": "code",
   "execution_count": null,
   "metadata": {},
   "outputs": [
    {
     "name": "stdout",
     "output_type": "stream",
     "text": [
      "3\n"
     ]
    }
   ],
   "source": [
    "def do_stuff(myList:list):\n",
    "    print(myList[-1]) # print the last element of the list\n",
    "l = [1,2,3]           # have to call a function\n",
    "do_stuff(l)"
   ]
  },
  {
   "cell_type": "code",
   "execution_count": 27,
   "metadata": {},
   "outputs": [
    {
     "name": "stdout",
     "output_type": "stream",
     "text": [
      "3\n"
     ]
    }
   ],
   "source": [
    "def do_stuff(myList:list):\n",
    "    return myList[-1]\n",
    "l = [1,2,3]           \n",
    "print(do_stuff(l))"
   ]
  },
  {
   "cell_type": "markdown",
   "metadata": {},
   "source": [
    "# Python Conditional Blocks"
   ]
  },
  {
   "cell_type": "markdown",
   "metadata": {},
   "source": [
    "# RELATIONAL VS. LOGICAL VS. MEMBERSHIP OPERATORS\n",
    "\n",
    "- The relational, logical, and membership operators yield results of either `True` or `False`.\n",
    "\n",
    "- `True`: Any non-zero value.\n",
    "\n",
    "- `False`: 0, Empty sets, dictionaries, tuples, or lists, empty strings, none.\n",
    "\n",
    "\n",
    "| X  OR  | Y    | Evaluates To:  |\n",
    "| :----- | :--- | :------------- |\n",
    "| True   | True | True           |\n",
    "| True   | False| True           |\n",
    "| False  | True | True           |\n",
    "| False  | False| False          |\n",
    "\n",
    "<br>\n",
    "\n",
    "| X  AND | Y    | Evaluates To:  |\n",
    "| :----- | :--- | :------------- |\n",
    "| True   | True | True           |\n",
    "| True   | False| False          |\n",
    "| False  | True | False          |\n",
    "| False  | False| False          | \n",
    "\n",
    "\n",
    "## RELATIONAL \n",
    "\n",
    "| Operator | Meaning |\n",
    "| :------- | :------ |\n",
    "| <        | Strictly Less than |\n",
    "| <=       | Less than or Equal |\n",
    "| >        | Strictly Greater Than |\n",
    "| >=       | Greater than or Equal |\n",
    "| ==       | Equal                 |\n",
    "| !=       | Not Equal             | \n",
    "| is       | Object identity (both operands are the same object)      |\n",
    "| is not   | Negated Object identity |"
   ]
  },
  {
   "cell_type": "code",
   "execution_count": null,
   "metadata": {},
   "outputs": [],
   "source": [
    "print(5 < 10, 10 < 10, 12 < 10)\n",
    "#output True False False"
   ]
  },
  {
   "cell_type": "code",
   "execution_count": null,
   "metadata": {},
   "outputs": [],
   "source": [
    "print(5 <= 10, 10 <= 10, 12 <= 10)\n",
    "#output True True False"
   ]
  },
  {
   "cell_type": "code",
   "execution_count": null,
   "metadata": {},
   "outputs": [],
   "source": [
    "print(5 > 10, 10 > 10, 12 > 10)\n",
    "#output False False True"
   ]
  },
  {
   "cell_type": "code",
   "execution_count": null,
   "metadata": {},
   "outputs": [],
   "source": [
    "print(5 >= 10, 10 >= 10, 12 >= 10)\n",
    "#output False True True"
   ]
  },
  {
   "cell_type": "code",
   "execution_count": null,
   "metadata": {},
   "outputs": [],
   "source": [
    "print(5 == 10, 10 == 10)\n",
    "#output False True"
   ]
  },
  {
   "cell_type": "code",
   "execution_count": null,
   "metadata": {},
   "outputs": [],
   "source": [
    "print(5 != 10, 10 != 10)\n",
    "#output True False"
   ]
  },
  {
   "cell_type": "code",
   "execution_count": null,
   "metadata": {},
   "outputs": [
    {
     "name": "stdout",
     "output_type": "stream",
     "text": [
      "True True False\n",
      "139620599292816 139620599292816 139620599294768\n"
     ]
    },
    {
     "name": "stderr",
     "output_type": "stream",
     "text": [
      "<>:2: SyntaxWarning: \"is\" with a literal. Did you mean \"==\"?\n",
      "<>:2: SyntaxWarning: \"is\" with a literal. Did you mean \"==\"?\n",
      "/tmp/ipykernel_70392/1369047764.py:2: SyntaxWarning: \"is\" with a literal. Did you mean \"==\"?\n",
      "  print(x is x, x is y, x is 357) # different memory allocations\n"
     ]
    }
   ],
   "source": [
    "x = y = 357\n",
    "print(x is x, x is y, x is 357) # different memory allocations\n",
    "print(id(x), id(y), id(357))\n",
    "#output True True False"
   ]
  },
  {
   "cell_type": "code",
   "execution_count": null,
   "metadata": {},
   "outputs": [],
   "source": [
    "x = y = 357\n",
    "print(x is not x, x is not y, x is not 357)\n",
    "#output False False True"
   ]
  },
  {
   "cell_type": "markdown",
   "metadata": {},
   "source": [
    "\n",
    "## LOGICAL \n",
    "\n",
    "| Operator | Unary or Binary | The Result is True When... |\n",
    "| :------- | :-------------- | :--------------------------|\n",
    "| not      | unary           | Operand is False           |\n",
    "| and      | binary          | Both Operands Must be True |\n",
    "| or       | binary          | Only one Operand needs to be True |"
   ]
  },
  {
   "cell_type": "code",
   "execution_count": null,
   "metadata": {},
   "outputs": [
    {
     "name": "stdout",
     "output_type": "stream",
     "text": [
      "True\n",
      "True\n"
     ]
    }
   ],
   "source": [
    "print(5 < 10 and 3 < 5)\n",
    "#output:  True\n",
    "print(5 < 10 or 5 > 3)\n",
    "#output:  True"
   ]
  },
  {
   "cell_type": "code",
   "execution_count": null,
   "metadata": {},
   "outputs": [],
   "source": [
    "print(5 < 10 and 5 > 20)\n",
    "#output:  False\n",
    "print(5 < 10 or 5 > 20)\n",
    "#output:  True"
   ]
  },
  {
   "cell_type": "code",
   "execution_count": 4,
   "metadata": {},
   "outputs": [
    {
     "name": "stdout",
     "output_type": "stream",
     "text": [
      "True\n"
     ]
    }
   ],
   "source": [
    "x = 15\n",
    "print(x > 5 and (isinstance(x, int) or x < 10))\n"
   ]
  },
  {
   "cell_type": "code",
   "execution_count": 5,
   "metadata": {},
   "outputs": [
    {
     "name": "stdout",
     "output_type": "stream",
     "text": [
      "3\n"
     ]
    }
   ],
   "source": [
    "x = \"3.2\"\n",
    "if x.isdigit() or ('.' in x and x.count('.') == 1):\n",
    "    print(int(float(x)))"
   ]
  },
  {
   "cell_type": "markdown",
   "metadata": {},
   "source": [
    "## MEMBERSHIP\n",
    "| Operator | Meaning |\n",
    "| :------- | :------ |\n",
    "|in        | Evaluates  `True` if object specified is found in specified sequence |\n",
    "| not in   | Evaluates `True` if object specified is NOT found in a specified sequence |"
   ]
  },
  {
   "cell_type": "code",
   "execution_count": null,
   "metadata": {},
   "outputs": [],
   "source": [
    "lst = [1,2,3,4,5]\n",
    "\n",
    "print(5 in lst, 7 in lst)\n",
    "#output:  True False"
   ]
  },
  {
   "cell_type": "markdown",
   "metadata": {},
   "source": [
    "lst = [1,2,3,4,5]\n",
    "\n",
    "print(5 not in lst, 7 not in lst)\n",
    "#output: False True"
   ]
  },
  {
   "cell_type": "markdown",
   "metadata": {},
   "source": [
    "# Identify Pythonic Code Blocks\n",
    "\n",
    "- Python provides a robust set of keywords and related items that control the flow of execution within an application.\n",
    "\n",
    "- In this section, we will explore the various conditional execution options that Python provides.\n",
    "\n",
    "- In addition, we will look at the various operators used by Python in control flow constructs.\n",
    "\n",
    "- Python mandates the use of indenting within a compound statement. The first line of the compound statement is referred to as the header.\n",
    "\n",
    "- All other statements within the compound statement are referred to as the suite or body and must be indented the same number of columns to be part of the same suite.\n",
    "\n",
    "- The suite ends with the first statement that is “indented” to the column of the header.\n",
    "\n",
    "- One such type of compound statement is a control structure.\n",
    "\n",
    "- Suites must be indented the same amount of white space from the starting column of the header.\n",
    "\n",
    "- If tabs are used in the source code, a single tab is not equal to the number of spaces used in a tab.\n",
    "\n",
    "- It is recommended that spaces be used over tabs."
   ]
  },
  {
   "cell_type": "markdown",
   "metadata": {},
   "source": [
    "```py\n",
    "\n",
    "if some_condition:\n",
    "   suite_statement_1\n",
    "   suite_statement_2\n",
    "\n",
    "print(\"output\")\n",
    "```"
   ]
  },
  {
   "cell_type": "markdown",
   "metadata": {},
   "source": [
    "# Conditionals\n",
    "## IF\n",
    "\n",
    "- The fundamental decision making control structure in many programming languages is the `if` statement.\n",
    "- Code inside an `if` suite is only executed if a given condition is `True`.\n",
    "- The following examples demonstrate proper indenting when using the `if` statement and its variants.\n",
    "- Also, notice the required use of the colon `:` to end the header portion of the `if` statement. "
   ]
  },
  {
   "cell_type": "code",
   "execution_count": null,
   "metadata": {},
   "outputs": [],
   "source": [
    "number = 25\n",
    "\n",
    "if number <= 25:\n",
    "   print(\"number is smaller or equal to 25\")        \n",
    "#output: number is smaller or equal to 25"
   ]
  },
  {
   "cell_type": "code",
   "execution_count": 6,
   "metadata": {},
   "outputs": [
    {
     "name": "stdout",
     "output_type": "stream",
     "text": [
      "True\n"
     ]
    }
   ],
   "source": [
    "x = [1,2]\n",
    "if x:\n",
    "    print(True)\n",
    "else:\n",
    "    print(False)\n",
    "    "
   ]
  },
  {
   "cell_type": "code",
   "execution_count": 7,
   "metadata": {},
   "outputs": [
    {
     "name": "stdout",
     "output_type": "stream",
     "text": [
      "5 is found in lst\n"
     ]
    }
   ],
   "source": [
    "lst = [1,2,3,4,5]\n",
    "\n",
    "if 5 in lst:\n",
    "    print('5 is found in lst')\n",
    "#output: 5 is found in lst\n",
    "\n",
    "elif 50 in lst:\n",
    "    print('50 found in lst')\n",
    "#output:                            \n",
    "#  NOTE that there is NO output above becase the if statement does not evaluate as True\n",
    "\n",
    "elif 50 not in lst:\n",
    "    print('50 not found in lst')\n",
    "#output: 50 not found in lst"
   ]
  },
  {
   "cell_type": "code",
   "execution_count": 8,
   "metadata": {},
   "outputs": [
    {
     "name": "stdout",
     "output_type": "stream",
     "text": [
      "5 is found in lst\n",
      "50 not found in lst\n"
     ]
    }
   ],
   "source": [
    "lst = [1,2,3,4,5]\n",
    "\n",
    "if 5 in lst:\n",
    "    print('5 is found in lst')\n",
    "#output: 5 is found in lst\n",
    "\n",
    "if 50 in lst:\n",
    "    print('50 found in lst')\n",
    "#output:                            \n",
    "#  NOTE that there is NO output above becase the if statement does not evaluate as True\n",
    "\n",
    "if 50 not in lst:\n",
    "    print('50 not found in lst')\n",
    "#output: 50 not found in lst"
   ]
  },
  {
   "cell_type": "markdown",
   "metadata": {},
   "source": [
    "## ELSE\n",
    "\n",
    "- An `else` statement is useful when zero specified conditions are met. "
   ]
  },
  {
   "cell_type": "code",
   "execution_count": 11,
   "metadata": {},
   "outputs": [
    {
     "name": "stdout",
     "output_type": "stream",
     "text": [
      "50 was not found\n"
     ]
    }
   ],
   "source": [
    "lst = [1,2,3,4,5]\n",
    "\n",
    "if 50 in lst:\n",
    "    print('50 found in lst')\n",
    "elif 72 in lst:\n",
    "    print('False')\n",
    "else:\n",
    "   print('50 was not found')\n",
    "#output:     50 was not found"
   ]
  },
  {
   "cell_type": "markdown",
   "metadata": {},
   "source": [
    "## ELIF \n",
    "\n",
    "- When writing an `if` statement, there can be zero or more `elif` blocks, and the `else` block is optional.\n",
    "- The keyword `elif` can be used to prevent the testing of multiple `if` statements when only one of the `if` statements can ever be `True` at a time.\n",
    "- It can also sometimes prevent the need for nesting `if` statements inside of an `else`.\n",
    "- `elif` gives the opportunity to have multiple conditional checks.\n",
    "- When one conditional check results in `True`, the `True` part of the suite is executed and the rest of the `elif` statements are skipped."
   ]
  },
  {
   "cell_type": "code",
   "execution_count": null,
   "metadata": {},
   "outputs": [],
   "source": [
    "number = 25\n",
    "\n",
    "if number <= 25:\n",
    "   print(\"number is smaller or equal to 25\")        \n",
    "\n",
    "elif number == 50:\n",
    "   print(\"number is 50\")\n",
    "\n",
    "elif number <= 75:\n",
    "   print(\"number is less than or equal to 75\")\n",
    "\n",
    "else:\n",
    "   print(\"number is greater than 75\")\n",
    "#output: number is smaller or equal to 25\n",
    "\n",
    "# NOTE Change the integer value stored in number to see how the conditional blocks output changes"
   ]
  },
  {
   "cell_type": "markdown",
   "metadata": {},
   "source": [
    "## Evaluate multiple conditions at once"
   ]
  },
  {
   "cell_type": "code",
   "execution_count": null,
   "metadata": {},
   "outputs": [],
   "source": [
    "num_1 = 10\n",
    "num_2 = 0\n",
    "\n",
    "if num_1 == 10 and num_2 == 0:\n",
    "   print(\"num_1 is 10 and num_2 is 0\")      \n",
    "#output: num_1 is 10 and num_2 is 0\n",
    "\n",
    "\n",
    "if num_1 == 10 or num_2 == 10:\n",
    "   print(\"num_1 is 10 or num_2 is 10\")      \n",
    "#output: num_1 is 10 or num_2 is 10 "
   ]
  },
  {
   "cell_type": "code",
   "execution_count": 17,
   "metadata": {},
   "outputs": [
    {
     "name": "stdout",
     "output_type": "stream",
     "text": [
      "'22'\n",
      "22\n"
     ]
    }
   ],
   "source": [
    "# scenario: ask a user for a number\n",
    "# convert the integer if an integer is provided (print(repr))\n",
    "# convert to a float if a float is provided (print(repr))\n",
    "# print not a number if not a float or int\n",
    "\n",
    "# Need to take user input (input always in string)\n",
    "number = input() \n",
    "print(repr(number))\n",
    "# Need to verify if there is only one period because floats have periods\n",
    "    # and removing the period if all the other character are 0-9\n",
    "if number.count('.') == 1 and number.replace('.','').isdigit(): # conditional statement\n",
    "    number.float = float(number)\n",
    "    print(repr(number.float)) # now convert tofloat and print\n",
    "#elif if input is all 0-9\n",
    "    #convert to int and print\n",
    "elif number.isdigit():\n",
    "    number = int(number)\n",
    "    print(repr(number))\n",
    "# else\n",
    "    # print this is not a number\n",
    "else:\n",
    "    print(\"This is not a number.\")\n",
    "    \n",
    "\n"
   ]
  },
  {
   "cell_type": "markdown",
   "metadata": {},
   "source": [
    "## Logic erros with conditional blocks"
   ]
  },
  {
   "cell_type": "code",
   "execution_count": null,
   "metadata": {},
   "outputs": [],
   "source": [
    "grade = int(input(\"Give me your Python grade: \"))\n",
    "if grade < 70:\n",
    "    print('You fail. Sorry, but Cyber is not for everybody :(')\n",
    "elif grade > 70:\n",
    "    print('Congrats, you pass with a C') # logical error because anything over 70 will only say you get a C and if you put in a character you get an A.\n",
    "elif grade > 80:\n",
    "    print('Congrats, you pass with a B')\n",
    "else:\n",
    "    print('You get an A, smarty')\n",
    "\n",
    "# NOTE  Enter a variety of grades to observe logic error\n",
    "# Need to enter limits in conditional statements "
   ]
  },
  {
   "cell_type": "code",
   "execution_count": 19,
   "metadata": {},
   "outputs": [
    {
     "name": "stdout",
     "output_type": "stream",
     "text": [
      "You dumb asf\n"
     ]
    }
   ],
   "source": [
    "grade = int(input(\"ive me your python grade: \"))\n",
    "if grade >= 90:\n",
    "    print('You get an A, smarty')\n",
    "elif grade >=80:\n",
    "    print('Congrats, you pass with a B')\n",
    "elif grade >=70:\n",
    "    print('Congrats, you pass with a C') \n",
    "else:\n",
    "    print('You dumb asf')"
   ]
  },
  {
   "cell_type": "code",
   "execution_count": null,
   "metadata": {},
   "outputs": [],
   "source": [
    "number = int(input())\n",
    "if number % 2 == 0:\n",
    "    print(f\"{number} is even\")\n",
    "else:\n",
    "    print(f\"{number} is odd\")"
   ]
  },
  {
   "cell_type": "markdown",
   "metadata": {},
   "source": [
    "<details>\n",
    "   <summary>Additional examples</summary>\n",
    "\n",
    "- Another way to solve the logic error noted in the first 'grade' example:\n",
    "\n",
    "```py\n",
    "grade = int(input(\"Give me your Python grade: \"))\n",
    "if grade >= 70 and grade < 80:\n",
    "    print('Congrats, you pass with a C')\n",
    "elif grade >= 80 and grade < 90:\n",
    "    print('Congrats, you pass with a B')\n",
    "elif grade >= 90:\n",
    "    print('You get an A, smarty')\n",
    "else:\n",
    "    print('You fail. Sorry, but Cyber is not for everybody :(')\n",
    "```\n",
    "\n",
    "- Determine if a number is even or odd\n",
    "```py\n",
    "number = int(input('Enter a number: '))\n",
    "\n",
    "if number % 2 == 0:\n",
    "   print(f'{number} is even')\n",
    "else:\n",
    "   print(f'{number} is odd')\n",
    "```\n",
    "</details>"
   ]
  },
  {
   "cell_type": "markdown",
   "metadata": {},
   "source": [
    "# Slicing Iterable Objects\n",
    "\n",
    "You have seen indexing that allows access to an individual item in a `list`/`tuple` or character in a `str`. There may be times you need to access more than one item or character at a time. Slicing gives you this ability.\n",
    "\n",
    "Syntax:\n",
    "\n",
    "`item_to_slice_from[start:stop:step]` Notice that these are colon `:` separated\n",
    "\n",
    "The `start`:`stop`:`step` numbers are integers that represent the index values for the sequence being sliced from.\n",
    "\n",
    "- NOTE: the `stop` value is EXCLUSIVE, which means it slices up to, but NOT including the index number provided.\n",
    "\n",
    "Use slicing to print the first three items found in the following `list`:"
   ]
  },
  {
   "cell_type": "code",
   "execution_count": null,
   "metadata": {},
   "outputs": [
    {
     "name": "stdout",
     "output_type": "stream",
     "text": [
      "'four'\n",
      "['four', 5]\n",
      "['four', 5]\n"
     ]
    }
   ],
   "source": [
    "lst = ['zero',1, 'two', 3, 'four', 5]\n",
    "print(repr(lst[4]))\n",
    "print(repr(lst[4:])) # takes a slice from a specified starting point aka index pos\n",
    "print(repr(lst[4::]))"
   ]
  },
  {
   "cell_type": "code",
   "execution_count": null,
   "metadata": {},
   "outputs": [],
   "source": [
    "lst = ['zero',1, 'two', 3, 'four', 5]\n",
    "print(lst[:],lst[::]) # these create copies of the list\n",
    "string = 'hello'\n",
    "print(repr(string[:]),repr(string[::])) # whatever data type you slice you get a copy of that"
   ]
  },
  {
   "cell_type": "code",
   "execution_count": 21,
   "metadata": {},
   "outputs": [
    {
     "name": "stdout",
     "output_type": "stream",
     "text": [
      "['zero', 1, 'two'] ['zero', 1, 'two']\n"
     ]
    }
   ],
   "source": [
    "lst = ['zero', 1, 'two', 3, 'four', 5]\n",
    "# start and stop are index positions\n",
    "# the stop is not included in the slice\n",
    "# start default is the beginning of the sequence.\n",
    "# end default is inclusive of the last element\n",
    "print(lst[0:3], lst[:3])\n",
    "# output: ['zero', 1, 'two']"
   ]
  },
  {
   "cell_type": "markdown",
   "metadata": {},
   "source": [
    "Use slicing to print everything between *positions* 6 and 18 of a string:"
   ]
  },
  {
   "cell_type": "code",
   "execution_count": 22,
   "metadata": {},
   "outputs": [
    {
     "name": "stdout",
     "output_type": "stream",
     "text": [
      "is an example\n"
     ]
    }
   ],
   "source": [
    "sentence = \"This is an example sentence.\"\n",
    "print(sentence[5:18])\n",
    "# output: 'is an example' "
   ]
  },
  {
   "cell_type": "markdown",
   "metadata": {},
   "source": [
    "Use slicing to print everything starting at *position* 6:"
   ]
  },
  {
   "cell_type": "code",
   "execution_count": null,
   "metadata": {},
   "outputs": [],
   "source": [
    "sentence = \"This is an example sentence.\"\n",
    "print(sentence[5:])\n",
    "# output: 'is an example sentence.'\n",
    "# every time you leave a start and stop value blank it will default"
   ]
  },
  {
   "cell_type": "markdown",
   "metadata": {},
   "source": [
    "Use slicing to print everything up to *position* 18:"
   ]
  },
  {
   "cell_type": "code",
   "execution_count": null,
   "metadata": {},
   "outputs": [],
   "source": [
    "sentence = \"This is an example sentence.\"\n",
    "print(sentence[:18])\n",
    "# output: 'This is an example'"
   ]
  },
  {
   "cell_type": "markdown",
   "metadata": {},
   "source": [
    "Use slicing to print everything except the last:"
   ]
  },
  {
   "cell_type": "code",
   "execution_count": null,
   "metadata": {},
   "outputs": [],
   "source": [
    "sentence = \"This is an example sentence.\"\n",
    "print(sentence[:-1])\n",
    "# output: 'This is an example sentence'"
   ]
  },
  {
   "cell_type": "code",
   "execution_count": 23,
   "metadata": {},
   "outputs": [
    {
     "name": "stdout",
     "output_type": "stream",
     "text": [
      "('four',)\n"
     ]
    }
   ],
   "source": [
    "tup = ('two', 'four', 'six')\n",
    "print(tup[1:-1])"
   ]
  },
  {
   "cell_type": "markdown",
   "metadata": {},
   "source": [
    "\n",
    "Use slicing to print the last 9 items:"
   ]
  },
  {
   "cell_type": "code",
   "execution_count": null,
   "metadata": {},
   "outputs": [],
   "source": [
    "sentence = \"This is an example sentence.\"\n",
    "print(sentence[-9:])\n",
    "# output: 'sentence.'"
   ]
  },
  {
   "cell_type": "code",
   "execution_count": 24,
   "metadata": {},
   "outputs": [
    {
     "name": "stdout",
     "output_type": "stream",
     "text": [
      ".ecnetnes elpmaxe na si sihT\n"
     ]
    }
   ],
   "source": [
    "# reverse a sequence\n",
    "sentence = \"This is an example sentence.\"\n",
    "print(sentence[::-1])\n"
   ]
  },
  {
   "cell_type": "code",
   "execution_count": null,
   "metadata": {},
   "outputs": [
    {
     "name": "stdout",
     "output_type": "stream",
     "text": [
      "[6, 5, 4, 3, 2, 1]\n",
      "[6, 5, 4, 3]\n"
     ]
    }
   ],
   "source": [
    "lst = [ 1,2,3,4,5,6]\n",
    "print(lst[::-1])\n",
    "print(lst[6:1:-1])   # prints all numbers from 6-2 in reverse order"
   ]
  },
  {
   "cell_type": "code",
   "execution_count": 32,
   "metadata": {},
   "outputs": [
    {
     "name": "stdout",
     "output_type": "stream",
     "text": [
      "[6, 7, 8, 9, 10, 11, 12, 13, 14, 15, 16, 17]\n"
     ]
    }
   ],
   "source": [
    "# give me all the numbers from 6 -17 inclusive.\n",
    "lst =[0, 1, 2, 3, 4, 5, 6, 7, 8, 9, 10, 11, 12, 13, 14, 15, 16, 17, 18, 19]\n",
    "\n",
    "print(lst[6:17+1])"
   ]
  },
  {
   "cell_type": "code",
   "execution_count": 35,
   "metadata": {},
   "outputs": [
    {
     "name": "stdout",
     "output_type": "stream",
     "text": [
      "156\n"
     ]
    }
   ],
   "source": [
    "pi = \"3.1415926\"\n",
    "print(pi[2:9:3])"
   ]
  },
  {
   "cell_type": "code",
   "execution_count": null,
   "metadata": {},
   "outputs": [
    {
     "data": {
      "text/plain": [
       "['elephants', 'dogs', 'cats']"
      ]
     },
     "execution_count": 36,
     "metadata": {},
     "output_type": "execute_result"
    }
   ],
   "source": [
    "wordList = ['cats', 'dogs', 'elephants']\n",
    "wordList[::-1]\n",
    "# wordlist[::-1] creates a reversed copy of wordlist; it does not change the value stored in wordlist"
   ]
  },
  {
   "cell_type": "markdown",
   "metadata": {},
   "source": [
    "# Length and Sum Functions\n",
    "\n",
    "## Length Function\n",
    "\n",
    "The `len()` function returns the total number of items found inside of an iterable object.\n",
    "\n",
    "More information about the `len()` function can be found at:\n",
    "- [W3Schools](https://www.w3schools.com/python/ref_func_len.asp)\n",
    "- [Python Docs](https://docs.python.org/3/library/functions.html#len)\n",
    "\n",
    "Syntax:\n",
    "\n",
    "`len(iterable_item)`\n",
    "\n",
    "Examples using the `len()` function"
   ]
  },
  {
   "cell_type": "code",
   "execution_count": null,
   "metadata": {},
   "outputs": [],
   "source": [
    "# length functions returns how many are inside a collection (string, lists, tuples) ITERABLES ONLY\n"
   ]
  },
  {
   "cell_type": "code",
   "execution_count": null,
   "metadata": {},
   "outputs": [],
   "source": [
    "lst = [,1,2,3,4]\n",
    "lst_len = len(lst)\n",
    "print(lst_len)\n",
    "#output:  4"
   ]
  },
  {
   "cell_type": "code",
   "execution_count": null,
   "metadata": {},
   "outputs": [],
   "source": [
    "str1 = 'Hello world'\n",
    "str_len = len(str1)\n",
    "print(str_len)\n",
    "#output:  11"
   ]
  },
  {
   "cell_type": "markdown",
   "metadata": {},
   "source": [
    "\n",
    "Evaluate the length of the tuple inside the following `list`: "
   ]
  },
  {
   "cell_type": "code",
   "execution_count": null,
   "metadata": {},
   "outputs": [
    {
     "name": "stdout",
     "output_type": "stream",
     "text": [
      "3\n"
     ]
    }
   ],
   "source": [
    "lst2 = [1,2,3,['a','b','c'],(9,'8',7)] \n",
    "tup_len = len(lst2[-1])\n",
    "print(tup_len)\n",
    "#output:  3"
   ]
  },
  {
   "cell_type": "markdown",
   "metadata": {},
   "source": [
    "Using `len()` in a math equation\n",
    "\n",
    "|  **Scenario:** |\n",
    "|---|\n",
    "|given one `list` object, one `tuple` and one `str`, find the total number of items found in all of three objects.|"
   ]
  },
  {
   "cell_type": "code",
   "execution_count": 38,
   "metadata": {},
   "outputs": [
    {
     "name": "stdout",
     "output_type": "stream",
     "text": [
      "39\n"
     ]
    }
   ],
   "source": [
    "lst1 = [1,2,3,4]\n",
    "tup1 = ('hello', 'world')\n",
    "str1 = 'Python was first released in 1991'\n",
    "total = len(lst1) + len(tup1) + len(str1)\n",
    "print(total)\n",
    "#output:  39"
   ]
  },
  {
   "cell_type": "markdown",
   "metadata": {},
   "source": [
    "# Range Function\n",
    "\n",
    "### Range Function \n",
    "\n",
    "\n",
    "\n",
    "\n",
    "The `range()` function requires at least one `int` argument and returns a sequence of integers stored inside a literal `range` object type. It is important to note that the `range()` function does NOT return a `list` object type. \n",
    "\n",
    "More information about the `range()` function can be found at: \n",
    "- [W3Schools](https://www.w3schools.com/python/ref_func_range.asp)\n",
    "- [Python Docs](https://docs.python.org/3/library/functions.html#func-range)\n",
    "\n",
    "Syntax:\n",
    "\n",
    "`range(start, stop, step)` Notice that these are comma `,` separated\n",
    "\n",
    "- The `start` and `step` values are optional. They have a default value of 0 (for start) and 1 (for step).\n",
    "\n",
    "- It is important to note that the `stop` value is EXCLUSIVE\n",
    "\n",
    "- The `range()` function is helpful when you need a sequence of numbers"
   ]
  },
  {
   "cell_type": "markdown",
   "metadata": {},
   "source": [
    "Creating a `range` object using only the `stop` value:\n",
    "- Remember that it will default to a `start` value of 0 and a `step` of 1"
   ]
  },
  {
   "cell_type": "code",
   "execution_count": 41,
   "metadata": {},
   "outputs": [
    {
     "name": "stdout",
     "output_type": "stream",
     "text": [
      "range(0, 10)\n",
      "True True True False\n"
     ]
    }
   ],
   "source": [
    "x = range(10)\n",
    "print(x)\n",
    "#output:  range(0, 10)\n",
    "print(1 in x, 5 in x, 9 in x, 10 in x)\n",
    "# if you do not specify the start number it will default to 0"
   ]
  },
  {
   "cell_type": "markdown",
   "metadata": {},
   "source": [
    "Now use both <code>start</code> and <code>stop</code>"
   ]
  },
  {
   "cell_type": "code",
   "execution_count": null,
   "metadata": {},
   "outputs": [],
   "source": [
    "x = range(1,11)\n",
    "print(x, 11 in x)\n",
    "#output:  range(1, 11) False"
   ]
  },
  {
   "cell_type": "code",
   "execution_count": null,
   "metadata": {},
   "outputs": [
    {
     "name": "stdout",
     "output_type": "stream",
     "text": [
      "[3]\n"
     ]
    },
    {
     "ename": "TypeError",
     "evalue": "'type' object is not iterable",
     "output_type": "error",
     "traceback": [
      "\u001b[0;31m---------------------------------------------------------------------------\u001b[0m",
      "\u001b[0;31mTypeError\u001b[0m                                 Traceback (most recent call last)",
      "Cell \u001b[0;32mIn[45], line 5\u001b[0m\n\u001b[1;32m      2\u001b[0m x \u001b[38;5;241m=\u001b[39m \u001b[38;5;28mrange\u001b[39m(\u001b[38;5;241m3\u001b[39m,\u001b[38;5;241m6\u001b[39m,\u001b[38;5;241m9\u001b[39m)\n\u001b[1;32m      3\u001b[0m \u001b[38;5;28mprint\u001b[39m(\u001b[38;5;28mlist\u001b[39m(x)) \u001b[38;5;66;03m# start needs to be greater than top\u001b[39;00m\n\u001b[0;32m----> 5\u001b[0m \u001b[38;5;28mprint\u001b[39m(\u001b[38;5;28;43mlist\u001b[39;49m\u001b[43m(\u001b[49m\u001b[38;5;28;43mrange\u001b[39;49m\u001b[43m)\u001b[49m)\n",
      "\u001b[0;31mTypeError\u001b[0m: 'type' object is not iterable"
     ]
    }
   ],
   "source": [
    "# only way you can provide a different step in a range() function you need to have all three arguments (start, stop, step)\n",
    "x = range(3,6,9)\n",
    "print(list(x)) # start needs to be greater than top\n"
   ]
  },
  {
   "cell_type": "markdown",
   "metadata": {},
   "source": [
    "|  **Scenario:** |\n",
    "|---|\n",
    "|Create a `list` object of the `int` from 5 to 100|"
   ]
  },
  {
   "cell_type": "code",
   "execution_count": null,
   "metadata": {},
   "outputs": [
    {
     "name": "stdout",
     "output_type": "stream",
     "text": [
      "[5, 6, 7, 8, 9, 10, 11, 12, 13, 14, 15, 16, 17, 18, 19, 20, 21, 22, 23, 24, 25, 26, 27, 28, 29, 30, 31, 32, 33, 34, 35, 36, 37, 38, 39, 40, 41, 42, 43, 44, 45, 46, 47, 48, 49, 50, 51, 52, 53, 54, 55, 56, 57, 58, 59, 60, 61, 62, 63, 64, 65, 66, 67, 68, 69, 70, 71, 72, 73, 74, 75, 76, 77, 78, 79, 80, 81, 82, 83, 84, 85, 86, 87, 88, 89, 90, 91, 92, 93, 94, 95, 96, 97, 98, 99, 100]\n"
     ]
    }
   ],
   "source": [
    "num_list = list(range(5,101)) #exclusive of the last number(stop)\n",
    "print(num_list)"
   ]
  },
  {
   "cell_type": "markdown",
   "metadata": {},
   "source": [
    "Incorporating the `step`:\n",
    "\n",
    "|  **Scenario:** |\n",
    "|---|\n",
    "|Create a `list` of the even `int` from 0 to 100 inclusive|"
   ]
  },
  {
   "cell_type": "code",
   "execution_count": 47,
   "metadata": {},
   "outputs": [
    {
     "name": "stdout",
     "output_type": "stream",
     "text": [
      "[0, 2, 4, 6, 8, 10, 12, 14, 16, 18, 20, 22, 24, 26, 28, 30, 32, 34, 36, 38, 40, 42, 44, 46, 48, 50, 52, 54, 56, 58, 60, 62, 64, 66, 68, 70, 72, 74, 76, 78, 80, 82, 84, 86, 88, 90, 92, 94, 96, 98, 100]\n"
     ]
    }
   ],
   "source": [
    "print(list(range(0,101,2)))"
   ]
  },
  {
   "cell_type": "markdown",
   "metadata": {},
   "source": [
    "|  **Scenario:** |\n",
    "|---|\n",
    "|Create a `list` of the odd `int` from 0 to 100 exclusive|"
   ]
  },
  {
   "cell_type": "code",
   "execution_count": 49,
   "metadata": {},
   "outputs": [
    {
     "name": "stdout",
     "output_type": "stream",
     "text": [
      "[1, 3, 5, 7, 9, 11, 13, 15, 17, 19, 21, 23, 25, 27, 29, 31, 33, 35, 37, 39, 41, 43, 45, 47, 49, 51, 53, 55, 57, 59, 61, 63, 65, 67, 69, 71, 73, 75, 77, 79, 81, 83, 85, 87, 89, 91, 93, 95, 97, 99]\n"
     ]
    }
   ],
   "source": [
    "print(list(range(1,101,2)))"
   ]
  },
  {
   "cell_type": "markdown",
   "metadata": {},
   "source": [
    "\n",
    "|  **Scenario:** |\n",
    "|---|\n",
    "|`print` every fifth `int` in the range of `int` from 5 to 100 inclusively|"
   ]
  },
  {
   "cell_type": "code",
   "execution_count": 50,
   "metadata": {},
   "outputs": [
    {
     "name": "stdout",
     "output_type": "stream",
     "text": [
      "[5, 10, 15, 20, 25, 30, 35, 40, 45, 50, 55, 60, 65, 70, 75, 80, 85, 90, 95, 100]\n"
     ]
    }
   ],
   "source": [
    "print(list(range(5,101,5)))"
   ]
  },
  {
   "cell_type": "markdown",
   "metadata": {},
   "source": [
    "|  **Scenario:** |\n",
    "|---|\n",
    "|Make a `list` of `int` from 50 to 0 inclusively|"
   ]
  },
  {
   "cell_type": "code",
   "execution_count": null,
   "metadata": {},
   "outputs": [
    {
     "name": "stdout",
     "output_type": "stream",
     "text": [
      "[50, 49, 48, 47, 46, 45, 44, 43, 42, 41, 40, 39, 38, 37, 36, 35, 34, 33, 32, 31, 30, 29, 28, 27, 26, 25, 24, 23, 22, 21, 20, 19, 18, 17, 16, 15, 14, 13, 12, 11, 10, 9, 8, 7, 6, 5, 4, 3, 2, 1, 0]\n"
     ]
    }
   ],
   "source": [
    "print(list(range(50, -1,-1)))\n",
    "# [::-1] reverses the list"
   ]
  },
  {
   "cell_type": "markdown",
   "metadata": {},
   "source": [
    "# Sum and Round\n",
    "\n",
    "## Sum Function\n",
    "\n",
    "The `sum()` function requires only ONE iterable item and returns either an `int` or `float` (depeneding on number types used in function)\n",
    "\n",
    "More information on the `sum` function can be found at: \n",
    "- [W3Schools](https://www.w3schools.com/python/ref_func_sum.asp)\n",
    "- [Python Docs](https://docs.python.org/3/library/functions.html#sum)\n",
    "\n",
    "Syntax:\n",
    "\n",
    "`sum(iterable_item)`"
   ]
  },
  {
   "cell_type": "code",
   "execution_count": null,
   "metadata": {},
   "outputs": [],
   "source": [
    "num_lst = [10,20,30,40]\n",
    "print(sum(num_lst))\n",
    "#output:  100"
   ]
  },
  {
   "cell_type": "code",
   "execution_count": null,
   "metadata": {},
   "outputs": [],
   "source": [
    "num_tup = (50,99,28)\n",
    "total = sum(num_tup)\n",
    "print(total)\n",
    "#output:  177"
   ]
  },
  {
   "cell_type": "markdown",
   "metadata": {},
   "source": [
    "\n",
    "`sum()` cannot accept more than one argument:"
   ]
  },
  {
   "cell_type": "code",
   "execution_count": null,
   "metadata": {},
   "outputs": [],
   "source": [
    "num_lst = [10,20,30,40]\n",
    "num_tup = (50,99,28)\n",
    "sum(num_lst,num_tup)\n",
    "#output:  TypeError: can only concatenate tuple (not \"int\") to tuple"
   ]
  },
  {
   "cell_type": "markdown",
   "metadata": {},
   "source": [
    "## Round Function\n",
    "\n",
    "The `round()` function accepts up to two arguments and returns a `float` that is rounded to the level of precision (or number of decimal places) specified by the second argument, the *digits*. If the level of precision is 0, then `round()` returns an `int`.\n",
    "\n",
    "[W3Schools](https://www.w3schools.com/python/ref_func_round.asp)\n",
    "[Python Docs](https://docs.python.org/3/library/functions.html#round)\n",
    "Consider PI: \n",
    "3.141592653589793238462643383279502884197\n",
    "\n",
    "Depending on the project the level of precision of PI may need to vary\n",
    "\n",
    "Use the `round()` function to round PI to varying levels of precision"
   ]
  },
  {
   "cell_type": "code",
   "execution_count": null,
   "metadata": {},
   "outputs": [],
   "source": [
    "pi = 3.141592653589793238462643383279502884197\n",
    "\n",
    "default = round(pi)\n",
    "print(default)\n",
    "#output:  3\n",
    "\n",
    "level_one = round(pi,1)\n",
    "print(level_one)\n",
    "#output:  3.1\n",
    "\n",
    "level_four = round(pi,4)\n",
    "print(level_four)\n",
    "#output:  3.1416"
   ]
  },
  {
   "cell_type": "markdown",
   "metadata": {},
   "source": [
    "## Examples\n",
    "\n",
    "Put these two functions together in practice.\n",
    "\n",
    "|  **Scenario:** |\n",
    "|---|\n",
    "|Find the `sum` of all the `floats` in a `list` and then use the `round()` function to round the answer to 3 decimal places|"
   ]
  },
  {
   "cell_type": "code",
   "execution_count": null,
   "metadata": {},
   "outputs": [],
   "source": [
    "nums = [1.48, 6.58793, 6.254789, 100.25741, 129.4587]\n",
    "\n",
    "answer = sum(nums)\n",
    "print(answer)\n",
    "#output:  244.038829\n",
    "\n",
    "rounded = round(answer,3)\n",
    "print(rounded)\n",
    "#output:  244.039"
   ]
  },
  {
   "cell_type": "markdown",
   "metadata": {},
   "source": [
    "\n",
    "You can streamline this task into one line of code:"
   ]
  },
  {
   "cell_type": "code",
   "execution_count": null,
   "metadata": {},
   "outputs": [],
   "source": [
    "nums = [1.48, 6.58793, 6.254789, 100.25741, 129.4587]\n",
    "\n",
    "rounded_again = round(sum(nums),3)\n",
    "print(rounded_again)\n",
    "#output:  244.039"
   ]
  },
  {
   "cell_type": "markdown",
   "metadata": {},
   "source": [
    "# While Loops\n",
    "\n",
    "## While Loops\n",
    "\n",
    "- The `while` statement causes Python to loop through a suite of statements if the test expression evaluates to `True`.\n",
    "\n",
    "- The `while` statement uses the same evaluations for `True` and `False` as the `if` statement.\n",
    "\n",
    "- Likewise, the same indentation rules are used for a `while` as they are for an `if`.\n",
    "\n",
    "- Each time through the loop, if the condition in the `while` is `True`, then the body of the while loop is executed.\n",
    "\n",
    "- When the condition is `False`, then the loop is complete and the first statement after the `while` loop is executed.\n",
    "\n",
    "- While loops often require the use of a counter variable.\n",
    "\n",
    "   - When this is the case, remember to increment the counter variable to prevent an infinite loop!\n",
    "\n",
    "For more information on While loops:\n",
    "\n",
    "[W3Schools](https://www.w3schools.com/python/python_while_loops.asp)\n",
    "[Python Docs](https://docs.python.org/3/reference/compound_stmts.html#while)\n",
    "\n",
    "!!! TIP\n",
    "   Any time you need to do something **repeatedly** or **continously** or execute a task **until** a condition is met, think `while` loop\n",
    "\n",
    "**Helpful Syntax note:**\n",
    "\n",
    "**while** *condition to be met is True*:\n",
    "   - take these actions\n",
    "   - don't forget to incrememnt or update your 'control' variable"
   ]
  },
  {
   "cell_type": "markdown",
   "metadata": {},
   "source": [
    "\n",
    "Use a `while` loop to print a given number provided in `counter` as long as it is less than 5:"
   ]
  },
  {
   "cell_type": "code",
   "execution_count": 2,
   "metadata": {},
   "outputs": [
    {
     "name": "stdout",
     "output_type": "stream",
     "text": [
      "1\n",
      "2\n",
      "3\n",
      "4\n",
      "5\n"
     ]
    }
   ],
   "source": [
    "# Declaring a counter\n",
    "counter = 1\n",
    "\n",
    "# While the counter is less than or equal to 5 print counter\n",
    "while counter <= 5: # this line is checked before each cycle\n",
    "    print(counter)\n",
    "    counter += 1  #update the counter to prevent infinite loop\n",
    "#output: 1\n",
    "#        2\n",
    "#        3\n",
    "#        4\n",
    "#        5"
   ]
  },
  {
   "cell_type": "code",
   "execution_count": 1,
   "metadata": {},
   "outputs": [
    {
     "name": "stdout",
     "output_type": "stream",
     "text": [
      "1\n",
      "2\n",
      "3\n",
      "4\n",
      "5\n",
      "counter > 5 line 32\n"
     ]
    }
   ],
   "source": [
    "# if we didn't use a while loop\n",
    "counter = 1\n",
    "if counter <= 5:\n",
    "    print(counter)\n",
    "    counter += 1\n",
    "else:\n",
    "    print('counter > 5 line 7')\n",
    "if counter <= 5:\n",
    "    print(counter)\n",
    "    counter += 1\n",
    "else:\n",
    "    print('counter > 5 line 12')\n",
    "if counter <= 5:\n",
    "    print(counter)\n",
    "    counter += 1\n",
    "else:\n",
    "    print('counter > 5 line 17')\n",
    "if counter <= 5:\n",
    "    print(counter)\n",
    "    counter += 1\n",
    "else:\n",
    "    print('counter > 5 line 22')\n",
    "if counter <= 5:\n",
    "    print(counter)\n",
    "    counter += 1\n",
    "else:\n",
    "    print('counter > 5 line 27')\n",
    "if counter <= 5:\n",
    "    print(counter)\n",
    "    counter += 1\n",
    "else:\n",
    "    print('counter > 5 line 32')"
   ]
  },
  {
   "cell_type": "markdown",
   "metadata": {},
   "source": [
    "|  **Scenario:** |\n",
    "|---|\n",
    "|Read a `str` from a user **until** an empty `str` is entered. Append the collected strings to a `list`|\n",
    "|Remember, an empty `str` is just empty quotes:  `''`|"
   ]
  },
  {
   "cell_type": "code",
   "execution_count": 5,
   "metadata": {},
   "outputs": [
    {
     "name": "stdout",
     "output_type": "stream",
     "text": [
      "initial user input 'tyler'\n",
      "initial user input []\n",
      "cycle: 1 user input mike\n",
      "cycle: 1 user input ['tyler']\n",
      "\n",
      "cycle: 2 user input \n",
      "cycle: 2 user input ['tyler', 'mike']\n",
      "\n",
      "end of cycle: ['tyler', 'mike']\n"
     ]
    }
   ],
   "source": [
    "debug = True # wants us to do this before loop\n",
    "\n",
    "user_input = input()\n",
    "if debug: print(f'initial user input {repr(user_input)}')\n",
    "user_list = [] # if you're building something with a loop, you need to initialize it on the outside\n",
    "# of the loop\n",
    "if debug: print(f'initial user input {repr(user_list)}')\n",
    "counter = 1\n",
    "# we will use user_input, (in this case is a string) as the control variable\n",
    "# as long as user_input is a string with 1 or more characters including spaces\n",
    "# this loop will continuously execute\n",
    "while user_input:\n",
    "   user_list.append(user_input)\n",
    "   user_input = input()\n",
    "   if debug: print(f'cycle: {counter} user input {user_input}')\n",
    "   if debug: print(f'cycle: {counter} user input {user_list}')\n",
    "   print()\n",
    "   counter += 1\n",
    "\n",
    "if debug: print(f'end of cycle: {repr(user_list)}')\n"
   ]
  },
  {
   "cell_type": "markdown",
   "metadata": {},
   "source": [
    "Adjust the indentation of the `print` function above and see how the output changes\n",
    "\n",
    "\n",
    "Why doesn't the print statement in the following block of code execute??"
   ]
  },
  {
   "cell_type": "code",
   "execution_count": 6,
   "metadata": {},
   "outputs": [
    {
     "name": "stdout",
     "output_type": "stream",
     "text": [
      "['tyler', 'mike']\n"
     ]
    }
   ],
   "source": [
    "print(user_list)"
   ]
  },
  {
   "cell_type": "code",
   "execution_count": null,
   "metadata": {},
   "outputs": [],
   "source": [
    "while False:\n",
    "   print('This code never executes') # NOTE vscode dims this code because it detects its unreachable"
   ]
  },
  {
   "cell_type": "markdown",
   "metadata": {},
   "source": [
    "`while` loops REQUIRE a `True` condition in order to execute the instructions inside\n",
    "\n",
    "Which is why the following is the dangerous `while` loop:\n",
    "\n",
    "**Do NOT execute this on your computer without being ready to terminate the code block or IDE**"
   ]
  },
  {
   "cell_type": "code",
   "execution_count": null,
   "metadata": {},
   "outputs": [],
   "source": [
    "while True:\n",
    "   print('this will execute forever and ever and ever...')"
   ]
  },
  {
   "cell_type": "markdown",
   "metadata": {},
   "source": [
    "When executing a `while True` loop, you must implement a `break` in the loop somewhere to prevent an infinite loop from happening.\n",
    "\n",
    "## Break\n",
    "\n",
    "- Any looping construct can have its control flow changed through a `break` statement within it.\n",
    "\n",
    "\n",
    "- When a `break` is executed, control of the program jumps to the first statement beyond or outside the loop.\n",
    "\n",
    "\n",
    "- A `break` is often used when searching through a collection for the occurrence of a particular item.\n",
    "\n",
    "Update the previous `while True` loop to include a `break`"
   ]
  },
  {
   "cell_type": "code",
   "execution_count": null,
   "metadata": {},
   "outputs": [],
   "source": [
    "while True:\n",
    "    print('this will execute forever and ever and ever...')\n",
    "    break\n",
    "print('just kidding. It ran once because it saw a break on the first cycle')"
   ]
  },
  {
   "cell_type": "code",
   "execution_count": 12,
   "metadata": {},
   "outputs": [
    {
     "name": "stdout",
     "output_type": "stream",
     "text": [
      "The inner loop\n",
      "1\n",
      "The inner loop\n",
      "2\n",
      "The inner loop\n",
      "3\n",
      "The inner loop\n",
      "4\n",
      "The inner loop\n",
      "5\n"
     ]
    }
   ],
   "source": [
    "counter = 1\n",
    "while counter <=5:\n",
    "    while True:\n",
    "        print('The inner loop')\n",
    "        break\n",
    "    print(counter)\n",
    "    counter += 1"
   ]
  },
  {
   "cell_type": "code",
   "execution_count": null,
   "metadata": {},
   "outputs": [],
   "source": [
    "def foo(): \n",
    "    counter = 1\n",
    "    while counter <= 5:\n",
    "        while True:\n",
    "            print('in the inner loop')\n",
    "            return # return is an extreme function that exits function so exits all of the loops not just one loop like break\n",
    "        print(counter)\n",
    "        counter += 1\n",
    "foo()"
   ]
  },
  {
   "cell_type": "markdown",
   "metadata": {},
   "source": [
    "Using the `while True` loop, collect input from a user again **until** an empty `str` is collected. Append user input into a list."
   ]
  },
  {
   "cell_type": "code",
   "execution_count": null,
   "metadata": {},
   "outputs": [],
   "source": [
    "lst = []\n",
    "while True:\n",
    "    ui = input()\n",
    "    # if ui == '':\n",
    "    if not ui:\n",
    "        break\n",
    "    else:\n",
    "        lst.append(ui)\n",
    "\n",
    "print(lst)"
   ]
  },
  {
   "cell_type": "markdown",
   "metadata": {},
   "source": [
    "Do the same as above but use a `user_input` as the loop's control variable"
   ]
  },
  {
   "cell_type": "code",
   "execution_count": 19,
   "metadata": {},
   "outputs": [
    {
     "name": "stdout",
     "output_type": "stream",
     "text": [
      "['goat', 'place']\n"
     ]
    }
   ],
   "source": [
    "user_input = input()\n",
    "user_list = []\n",
    "while user_input:\n",
    "    user_list.append(user_input)\n",
    "    user_input = input()\n",
    "print(user_list)"
   ]
  },
  {
   "cell_type": "code",
   "execution_count": 20,
   "metadata": {},
   "outputs": [
    {
     "name": "stdout",
     "output_type": "stream",
     "text": [
      "'type'\n"
     ]
    }
   ],
   "source": [
    "x = input()\n",
    "print(repr(x))"
   ]
  },
  {
   "cell_type": "markdown",
   "metadata": {},
   "source": [
    "## `else`\n",
    "* Loops are similar to conditional blocks in that before each cycle, the loop performs an implict conditional check.\n",
    "* Like conditionals, loops can contain an else block.\n",
    "* The code in the else block will only execute if the loop completes naturally, meaning the loop exits due to a false condition and not due toa break statement"
   ]
  },
  {
   "cell_type": "code",
   "execution_count": 21,
   "metadata": {},
   "outputs": [
    {
     "name": "stdout",
     "output_type": "stream",
     "text": [
      "else\n",
      "goat\n",
      "you requested to exit early\n",
      "this is the first line after/outside the loop block\n"
     ]
    }
   ],
   "source": [
    "user_input = input()\n",
    "\n",
    "while user_input:\n",
    "    if user_input == 'exit':\n",
    "        print('you requested to exit early')\n",
    "        break\n",
    "    print(user_input)\n",
    "    user_input = input()\n",
    "else:\n",
    "    print('you exited naturally')\n",
    "print('this is the first line after/outside the loop block')"
   ]
  },
  {
   "cell_type": "code",
   "execution_count": 29,
   "metadata": {},
   "outputs": [
    {
     "name": "stdout",
     "output_type": "stream",
     "text": [
      "Found green at index 3\n"
     ]
    }
   ],
   "source": [
    "lst = ['blue','red','orange','green']\n",
    "index = 0\n",
    "ui = input('GIVE ME A MF COLOR!!: ')\n",
    "while index < len(lst): # searching for the word\n",
    "    if lst[index] == ui:# checking to see if that word is in the list\n",
    "        print(f'Found {ui} at index {index}')\n",
    "        break\n",
    "    index += 1 # index = index + 1\n",
    "else:\n",
    "    print('Color is not in list STOOPID!')"
   ]
  },
  {
   "cell_type": "code",
   "execution_count": null,
   "metadata": {},
   "outputs": [
    {
     "name": "stdout",
     "output_type": "stream",
     "text": [
      "AGR 1020.00\n",
      "0\n",
      "1020.0\n",
      "1020.0\n",
      "THG 3040.00\n",
      "3040.0\n",
      "4060.0\n",
      " \n"
     ]
    },
    {
     "ename": "IndexError",
     "evalue": "list index out of range",
     "output_type": "error",
     "traceback": [
      "\u001b[0;31m---------------------------------------------------------------------------\u001b[0m",
      "\u001b[0;31mIndexError\u001b[0m                                Traceback (most recent call last)",
      "Cell \u001b[0;32mIn[47], line 17\u001b[0m\n\u001b[1;32m     13\u001b[0m         \u001b[38;5;28mprint\u001b[39m(user_input)\n\u001b[1;32m     15\u001b[0m     \u001b[38;5;28;01mreturn\u001b[39;00m grandTotal\n\u001b[0;32m---> 17\u001b[0m \u001b[43mBillSummary\u001b[49m\u001b[43m(\u001b[49m\u001b[43m)\u001b[49m\n",
      "Cell \u001b[0;32mIn[47], line 8\u001b[0m, in \u001b[0;36mBillSummary\u001b[0;34m()\u001b[0m\n\u001b[1;32m      6\u001b[0m \u001b[38;5;28mprint\u001b[39m(grandTotal)\n\u001b[1;32m      7\u001b[0m \u001b[38;5;28;01mwhile\u001b[39;00m user_input:\n\u001b[0;32m----> 8\u001b[0m     cost \u001b[38;5;241m=\u001b[39m \u001b[38;5;28mfloat\u001b[39m(\u001b[43muser_input\u001b[49m\u001b[38;5;241;43m.\u001b[39;49m\u001b[43msplit\u001b[49m\u001b[43m(\u001b[49m\u001b[43m)\u001b[49m\u001b[43m[\u001b[49m\u001b[38;5;241;43m1\u001b[39;49m\u001b[43m]\u001b[49m)\n\u001b[1;32m      9\u001b[0m     \u001b[38;5;28mprint\u001b[39m(cost)\n\u001b[1;32m     10\u001b[0m     grandTotal \u001b[38;5;241m+\u001b[39m\u001b[38;5;241m=\u001b[39m cost\n",
      "\u001b[0;31mIndexError\u001b[0m: list index out of range"
     ]
    }
   ],
   "source": [
    "def BillSummary():\n",
    "    \n",
    "    user_input = input()\n",
    "    grandTotal = 0\n",
    "    while user_input:\n",
    "        cost = float(user_input.split()[1])\n",
    "        grandTotal += cost\n",
    "        \n",
    "        user_input = input()\n",
    "        \n",
    "        \n",
    "    return grandTotal\n",
    "\n",
    "BillSummary()"
   ]
  },
  {
   "cell_type": "code",
   "execution_count": null,
   "metadata": {},
   "outputs": [],
   "source": [
    "def BillSummary(items):             # Need to take items as a list of tuple pairs.\n",
    "    \n",
    "    user_input = input().split()\n",
    "    grandTotal = 0\n",
    "\n",
    "    for item in items:\n",
    "        \n",
    "    \n",
    "        return grandTotal\n",
    "\n",
    "BillSummary(items)"
   ]
  },
  {
   "cell_type": "markdown",
   "metadata": {},
   "source": [
    "|  **Scenario:** |\n",
    "|---|\n",
    "|Define a function called *playGame*|\n",
    "|Use a `while True` loop to 'turn on' the game|\n",
    "|The game should request the player to input an action|\n",
    "|Options for actions are: 'help', 'quit', and directions of movement: 'N', 'S', 'E', 'W'|\n",
    "|If the user inputs any actions that are not those, then it should just ignore the input|"
   ]
  },
  {
   "cell_type": "markdown",
   "metadata": {},
   "source": [
    "<details>\n",
    "   <summary> playGame - solved</summary>\n",
    "\n",
    "```python\n",
    "def playGame():\n",
    "  while True:     #if we use a while True, what does our \n",
    "                  #code need to include?  -> break\n",
    "    action = input(\"Action? \")\n",
    "    if action == 'help':\n",
    "      print(\"N S E W help quit\")\n",
    "      continue #go back to the top\n",
    "    elif action == 'quit':\n",
    "      print('Thanks for playing')\n",
    "      break #exit the loop entirely\n",
    "    elif action in ['N','S','E','W']:\n",
    "      print(f'You moved {action}')\n",
    "    elif action not in ['N','S','E','W']:\n",
    "        pass #just don't do anything\n",
    "        #no harm done, but no action to perform\n",
    "\n",
    "playGame()\n",
    "```\n",
    "</details>"
   ]
  },
  {
   "cell_type": "code",
   "execution_count": null,
   "metadata": {},
   "outputs": [
    {
     "name": "stdout",
     "output_type": "stream",
     "text": [
      "You moved N\n",
      "You moved S\n",
      "Thanks for playing\n"
     ]
    }
   ],
   "source": [
    "def playGame():\n",
    "  while True:     #if we use a while True, what does our \n",
    "                  #code need to include?  -> break\n",
    "    action = input(\"Action? \")\n",
    "    if action == 'help':\n",
    "      print(\"N S E W help quit\")\n",
    "      continue #go back to the top\n",
    "    # if line 7 executes, the lines below this in the loop gets skipped\n",
    "    # for this cycle and the next cycle begins\n",
    "    elif action == 'quit':\n",
    "      print('Thanks for playing')\n",
    "      break #exit the loop entirely\n",
    "    elif action in ['N','S','E','W']:\n",
    "      print(f'You moved {action}')\n",
    "    elif action not in ['N','S','E','W']:\n",
    "        pass #just don't do anything\n",
    "        #no harm done, but no action to perform\n",
    "    \n",
    "\n",
    "playGame()"
   ]
  },
  {
   "cell_type": "code",
   "execution_count": 42,
   "metadata": {},
   "outputs": [
    {
     "name": "stdout",
     "output_type": "stream",
     "text": [
      "These are your completed moves: ['N']\n",
      "You moved N\n",
      "['N']\n",
      "These are your completed moves: ['N', 'N']\n",
      "You moved N\n",
      "['N', 'N']\n",
      "These are your completed moves: ['N', 'N', 'S']\n",
      "You moved S\n",
      "['N', 'N', 'S']\n",
      "These are your completed moves: ['N', 'N', 'S', 'E']\n",
      "You moved E\n",
      "['N', 'N', 'S', 'E']\n",
      "These are your completed moves: ['N', 'N', 'S', 'E', 'W']\n",
      "You moved W\n",
      "['N', 'N', 'S', 'E', 'W']\n",
      "Congratulations you won the game!\n"
     ]
    }
   ],
   "source": [
    "def playGame():\n",
    "    order = []\n",
    "    while True:\n",
    "\n",
    "        action = input(\"Action?: \")\n",
    "        if action == 'help':\n",
    "            print(\"N S E W help quit\")\n",
    "\n",
    "        elif action == 'quit':\n",
    "            print('Thanks for playing')\n",
    "            break\n",
    "\n",
    "        elif action == 'N'or action == 'S' or action == 'E' or action == 'W':\n",
    "            order += action\n",
    "            print(f'These are your completed moves: {order}')\n",
    "            print(f'You moved {action}')\n",
    "            print(order)\n",
    "\n",
    "\n",
    "        if  order == ['N', 'N', 'S', 'E', 'W']:\n",
    "            print('Congratulations you won the game!')\n",
    "            break\n",
    "      \n",
    "\n",
    "playGame()"
   ]
  },
  {
   "cell_type": "markdown",
   "metadata": {},
   "source": [
    "# For Loops\n",
    "\n",
    "# Basic for loop\n",
    "- The for loop in Python is used to iterate over the items of any sequence, such as a `str`, `list`, `tuple`, or any iterable object.\n",
    "\n",
    "- The generic syntax of a `for` loop is: `for target in sequence:` suite\n",
    "\n",
    "- Each item in the sequence is evaluated once and assigns the item to the target and then the suite is executed.\n",
    "\n",
    "- The loop terminates after processing the last item in the sequence.\n",
    "\n",
    "For more information about a for loop: \n",
    "\n",
    "[W3Schools](https://www.w3schools.com/python/python_for_loops.asp)\n",
    "\n",
    "[Python Docs](https://docs.python.org/3/tutorial/controlflow.html#for-statements)\n",
    "\n",
    "!!! TIP\n",
    "   Any time you need to do something with **each** or **every** item in a `list` or `str` or any other iterable item, think `for` loop\n",
    "\n",
    "**Helpful syntax note:**\n",
    "\n",
    "**for** *every_item* **in** *iterable_item*:\n",
    "   - take these actions (print, append *every_item* to a new `list`, make it uppercase, etc.)\n",
    "\n",
    "\n",
    "Use a `for` loop to print each character separately found in the following variable: `strng`"
   ]
  },
  {
   "cell_type": "code",
   "execution_count": null,
   "metadata": {},
   "outputs": [],
   "source": [
    "strng = 'hello world'\n",
    "\n",
    "for each_letter in strng:\n",
    "   print(each_letter)\n",
    "#output: h\n",
    "#        e\n",
    "#        l\n",
    "#        l\n",
    "#        o\n",
    "#              NOTE: this is whitespace that was in the original strng\n",
    "#        w\n",
    "#        o\n",
    "#        r\n",
    "#        l\n",
    "#        d"
   ]
  },
  {
   "cell_type": "markdown",
   "metadata": {},
   "source": [
    "Use a `for` loop to print each item found in the `list` on a separate line"
   ]
  },
  {
   "cell_type": "code",
   "execution_count": null,
   "metadata": {},
   "outputs": [],
   "source": [
    "lst = [1, 'two', 3, 'four']\n",
    "\n",
    "for each_num in lst:\n",
    "   print(each_num)\n",
    "#output:  1\n",
    "#        two\n",
    "#        3\n",
    "#        four"
   ]
  },
  {
   "cell_type": "markdown",
   "metadata": {},
   "source": [
    "Take is a step further: \n",
    "\n",
    "|  **Scenario:** |\n",
    "|---|\n",
    "|Iterate over a list of strings. Calculate the total number of characters found in the `list` of `str`|"
   ]
  },
  {
   "cell_type": "code",
   "execution_count": null,
   "metadata": {},
   "outputs": [
    {
     "name": "stdout",
     "output_type": "stream",
     "text": [
      "28\n"
     ]
    }
   ],
   "source": [
    "str_lst = [['this', 'is', 'a', 'list', 'of', 'words'], 'frog' , 'random']\n",
    "\n",
    "total = 0\n",
    "for word in str_lst:\n",
    "    if type(word) == str:\n",
    "        total += len(word)\n",
    "    elif type(word) == list:\n",
    "        for inner_word in word:\n",
    "            total += len(inner_word)\n",
    "\n",
    "print(total)\n",
    "#output:  28"
   ]
  },
  {
   "cell_type": "markdown",
   "metadata": {},
   "source": [
    "|  **Scenario:** |\n",
    "|---|\n",
    "|Define a function named *makeDeck* to build a digital deck of cards|\n",
    "\n",
    "- You are given a `list` with the Unicode values for all of the card suits and a `list` of ranks: \n",
    "   - ['\\u2660','\\u2665','\\u2666','\\u2663']\n",
    "   - ['A',2,3,4,5,6,7,8,9,10,'J','Q','K']\n",
    "   \n",
    "- Use nested `for` loops to iterate through each one of the lists to assign a suit and a rank together"
   ]
  },
  {
   "cell_type": "markdown",
   "metadata": {},
   "source": [
    "<details>\n",
    "   <summary> makeDeck - solved</summary>\n",
    "\n",
    "```python\n",
    "def makedeck():\n",
    "  deck = [] #we need an empty box to hold \n",
    "  #the cards as we make them\n",
    "  suits = ['\\u2660','\\u2665','\\u2666','\\u2663']\n",
    "  ranks = ['A',2,3,4,5,6,7,8,9,10,'J','Q','K']\n",
    "  for suit in suits:\n",
    "    for rank in ranks:\n",
    "      deck.append(f'{rank}{suit}')\n",
    "  print(deck)\n",
    "\n",
    "makedeck()\n",
    "```\n",
    "\n",
    "</details>"
   ]
  },
  {
   "cell_type": "code",
   "execution_count": 53,
   "metadata": {},
   "outputs": [
    {
     "name": "stdout",
     "output_type": "stream",
     "text": [
      "['A♠', 'A♥', 'A♦', 'A♣', '2♠', '2♥', '2♦', '2♣', '3♠', '3♥', '3♦', '3♣', '4♠', '4♥', '4♦', '4♣', '5♠', '5♥', '5♦', '5♣', '6♠', '6♥', '6♦', '6♣', '7♠', '7♥', '7♦', '7♣', '8♠', '8♥', '8♦', '8♣', '9♠', '9♥', '9♦', '9♣', '10♠', '10♥', '10♦', '10♣', 'J♠', 'J♥', 'J♦', 'J♣', 'Q♠', 'Q♥', 'Q♦', 'Q♣', 'K♠', 'K♥', 'K♦', 'K♣']\n"
     ]
    }
   ],
   "source": [
    "def make_dec():\n",
    "    deck = []\n",
    "    suits = ['\\u2660','\\u2665','\\u2666','\\u2663']\n",
    "    ranks = ['A',2,3,4,5,6,7,8,9,10,'J','Q','K']\n",
    "    for rank in ranks:\n",
    "        for suit in suits:\n",
    "            deck.append(f\"{rank}{suit}\")\n",
    "    return deck\n",
    "\n",
    "\n",
    "print(make_dec())"
   ]
  },
  {
   "cell_type": "code",
   "execution_count": 59,
   "metadata": {},
   "outputs": [
    {
     "name": "stdout",
     "output_type": "stream",
     "text": [
      "[1, 2, 3, 4, 5]\n"
     ]
    }
   ],
   "source": [
    "lst = [1, 2, 3, 4, 5]\n",
    "for i in lst:\n",
    "   i = i * 2\n",
    "print(lst)"
   ]
  },
  {
   "cell_type": "markdown",
   "metadata": {},
   "source": [
    "What happens if you swap the order of the `for` loops?\n",
    "\n",
    "It is also important to note that the `break` keyword can be used in a `for`` loop as well.\n",
    "\n",
    "|  **Scenario:** |\n",
    "|---|\n",
    "|Iterate through a `list` of names. |\n",
    "|When the name 'sally' is found, `break` the loop and print 'we found sally'|\n",
    "|Any names encountered before 'sally' should print: '{name} is not sally'|"
   ]
  },
  {
   "cell_type": "code",
   "execution_count": null,
   "metadata": {},
   "outputs": [],
   "source": [
    "names = ['bob', 'joe', 'sally', 'harold']\n",
    "\n",
    "for each_name in names:\n",
    "    if each_name == 'sally':\n",
    "        print('we found sally!')\n",
    "        break\n",
    "    else:\n",
    "        print(f'{each_name} is not sally')\n",
    "\n",
    "#output:    bob is not sally\n",
    "#           joe is not sally\n",
    "#           we found sally!"
   ]
  },
  {
   "cell_type": "markdown",
   "metadata": {},
   "source": [
    "## for loops - extended\n",
    "\n",
    "Sometimes a `list` or other iterable object may have another iterable object found at each index. Reference the `list` below that contains multiple `tuple` objects. Each `tuple` contains a state `str`, population `int` and the capital `str`. \n",
    "\n",
    "How can I access each one of these items individually while iterating over the `list`?"
   ]
  },
  {
   "cell_type": "code",
   "execution_count": null,
   "metadata": {},
   "outputs": [],
   "source": [
    "data = [(\"California\", 39937489, \"Sacramento\"),\n",
    "       (\"Texas\", 29472295, \"Austin\"),\n",
    "       (\"Florida\", 21992985, \"Tallahassee\")]\n",
    "\n",
    "for each_item in data:\n",
    "    print(each_item)\n",
    "\n",
    "#output:  ('California', 39937489, 'Sacramento')\n",
    "#         ('Texas', 29472295, 'Austin')\n",
    "#         ('Florida', 21992985, 'Tallahassee')\n",
    "\n",
    "\n",
    "for state, population, capital in data:\n",
    "    print(f'the state of {state} has a population of {population} and its capital is {capital}')\n",
    "\n",
    "#output:  the state of California has a population of 39937489 and its capital is Sacramento\n",
    "#         the state of Texas has a population of 29472295 and its capital is Austin\n",
    "#         the state of Florida has a population of 21992985 and its capital is Tallahassee"
   ]
  },
  {
   "cell_type": "markdown",
   "metadata": {},
   "source": [
    "# Using Range and Length Functions Together\n",
    "\n",
    "## Isolating and Identifying Index Positions\n",
    "\n",
    "### range(len()) Functions working together\n",
    "Using the `range()` and `len()` functions together is helpful when needing to iterate over a collection of items while also identifying which index position each item is in."
   ]
  },
  {
   "cell_type": "code",
   "execution_count": null,
   "metadata": {},
   "outputs": [],
   "source": [
    "lst = ['zero','one','two','three']\n",
    "for index_num in range(len(lst)):\n",
    "    print(index_num)\n",
    "\n",
    "#output:    0\n",
    "#           1\n",
    "#           2\n",
    "#           3"
   ]
  },
  {
   "cell_type": "markdown",
   "metadata": {},
   "source": [
    "Use the dynamic counting created by using `range(len())` to access the items inside the `list`"
   ]
  },
  {
   "cell_type": "code",
   "execution_count": null,
   "metadata": {},
   "outputs": [],
   "source": [
    "lst = ['zero','one','two','three']\n",
    "for index_num in range(len(lst)):\n",
    "    print(lst[index_num])\n",
    "\n",
    "#output:    zero\n",
    "#           one\n",
    "#           two\n",
    "#           three"
   ]
  },
  {
   "cell_type": "markdown",
   "metadata": {},
   "source": [
    "\n",
    "|  **Scenario:** |\n",
    "|---|\n",
    "|Create a queue message to let everyone in the customers list know what position they are in. Use the index number their name is found in to assign their position number|"
   ]
  },
  {
   "cell_type": "code",
   "execution_count": null,
   "metadata": {},
   "outputs": [],
   "source": [
    "customers = ['Jim', 'Bob', 'Sue', 'Mary', 'Allen']\n",
    "Queue_message = ''\n",
    "\n",
    "for position in range(len(customers)):\n",
    "    Queue_message += f'{customers[position]} is in position {position}\\n'\n",
    "\n",
    "print(Queue_message)\n",
    "#output:    Jim is in position 0\n",
    "#           Bob is in position 1\n",
    "#           Sue is in position 2\n",
    "#           Mary is in position 3\n",
    "#           Allen is in position 4"
   ]
  },
  {
   "cell_type": "code",
   "execution_count": null,
   "metadata": {},
   "outputs": [
    {
     "name": "stdout",
     "output_type": "stream",
     "text": [
      "[1, 2, 3]\n",
      "[3, 6, 9]\n"
     ]
    }
   ],
   "source": [
    "lst = [1,2,3]\n",
    "for num in lst:\n",
    "    num *= 3\n",
    "print(lst)\n",
    "\n",
    "\n",
    "for num in range(len(lst)): # does not change list\n",
    "    lst[num] *= 3\n",
    "print(lst)"
   ]
  },
  {
   "cell_type": "markdown",
   "metadata": {},
   "source": [
    "|  **Scenario:** |\n",
    "|---|\n",
    "|Given a `list` of names, print the names of people who are found at the even indexes. (Remember, zero counts as an even number in python)|"
   ]
  },
  {
   "cell_type": "code",
   "execution_count": null,
   "metadata": {},
   "outputs": [],
   "source": [
    "customers = ['Jim', 'Bob', 'Sue', 'Mary', 'Allen']\n",
    "\n",
    "for position in range(len(customers)):\n",
    "    if position % 2 == 0:\n",
    "        print(customers[position])\n",
    "\n",
    "#output:    Jim\n",
    "#           Sue\n",
    "#           Allen"
   ]
  },
  {
   "cell_type": "markdown",
   "metadata": {},
   "source": [
    "### enumerate() Function\n",
    "\n",
    "The `enumerate()` accepts up to two arguments and is a function that returns an enumerate object that assigns numbers to each item found in an iterable object.\n",
    "\n",
    "This built-in function is another way of accomplishing what the `range(len())` function can also do.\n",
    "\n",
    "`enumerate()` can be given a *start* `int`; by default when no `int` is supplied the function begins numbering items at 0.\n",
    "\n",
    "- [W3Schools](https://www.w3schools.com/python/ref_func_enumerate.asp)\n",
    "- [Python Docs](https://docs.python.org/3/library/functions.html#enumerate)\n",
    "\n",
    "Syntax:\n",
    "\n",
    "`enumerate(iterable, start=0)`"
   ]
  },
  {
   "cell_type": "code",
   "execution_count": null,
   "metadata": {},
   "outputs": [],
   "source": [
    "lst = ['zero','one','two','three']\n",
    "\n",
    "print(enumerate(lst))\n",
    "#output:  <enumerate object at 0x000001BBE4859FC0>"
   ]
  },
  {
   "cell_type": "markdown",
   "metadata": {},
   "source": [
    "The `enumerate()` function is like the `range()` function that creats a range object that by itself is not abundantly helpful. However, combining it with a `list()` conversion function or using it inside a `for` loop leverages the usefulness of this built-in function."
   ]
  },
  {
   "cell_type": "code",
   "execution_count": 57,
   "metadata": {},
   "outputs": [
    {
     "name": "stdout",
     "output_type": "stream",
     "text": [
      "(0, 3)\n",
      "(1, 6)\n",
      "(2, 9)\n",
      "Item: 3 at index: 0\n",
      "Item: 6 at index: 1\n",
      "Item: 9 at index: 2\n"
     ]
    }
   ],
   "source": [
    "for num in enumerate(lst):\n",
    "    print(num)\n",
    "\n",
    "for index, item in enumerate(lst):\n",
    "    print(f\"Item: {item} at index: {index}\")\n",
    "#output:    (0, 'zero')\n",
    "#           (1, 'one')\n",
    "#           (2, 'two')\n",
    "#           (3, 'three')"
   ]
  },
  {
   "cell_type": "code",
   "execution_count": 68,
   "metadata": {},
   "outputs": [
    {
     "data": {
      "text/plain": [
       "'AbCdEf gHiJkL'"
      ]
     },
     "execution_count": 68,
     "metadata": {},
     "output_type": "execute_result"
    }
   ],
   "source": [
    "s = \"ABCDEF ghijkl\"        # how to build index of characters.\n",
    "\n",
    "def leetString(s):\n",
    "    index = list(range(0,len(s)))\n",
    "    car = []                            # create a new list\n",
    "    for x in index:\n",
    "        if x % 2 == 0:                     # trying to determine even/odd\n",
    "            car.append(s[x].upper())\n",
    "        else:\n",
    "            car.append(s[x].lower())\n",
    "\n",
    "    new_car = ''.join(car)                  # convert a list to a string\n",
    "    return new_car\n",
    "leetString(s)"
   ]
  },
  {
   "cell_type": "code",
   "execution_count": 69,
   "metadata": {},
   "outputs": [
    {
     "name": "stdout",
     "output_type": "stream",
     "text": [
      "[0, 10, 20, 30, 40, 50, 60, 70, 80, 90, 100, 110, 120, 130, 140, 150, 160, 170, 180, 190, 200, 210, 220, 230, 240, 250, 260, 270, 280, 290, 300, 310, 320, 330, 340, 350, 360, 370, 380, 390, 400, 410, 420, 430, 440, 450, 460, 470, 480, 490, 500, 510, 520, 530, 540, 550, 560, 570, 580, 590, 600, 610, 620, 630, 640, 650, 660, 670, 680, 690, 700, 710, 720, 730, 740, 750, 760, 770, 780, 790, 800, 810, 820, 830, 840, 850, 860, 870, 880, 890, 900, 910, 920, 930, 940, 950, 960, 970, 980, 990, 1000]\n"
     ]
    }
   ],
   "source": [
    "joke = list(range(0,1001,10))\n",
    "print(joke)"
   ]
  },
  {
   "cell_type": "markdown",
   "metadata": {},
   "source": [
    "Notice the output each time is a `tuple` of information consisting of the numbered item and the item itself from `lst`\n",
    "\n",
    "Change the *start* value:"
   ]
  },
  {
   "cell_type": "code",
   "execution_count": null,
   "metadata": {},
   "outputs": [],
   "source": [
    "for num in enumerate(lst, 1):\n",
    "    print(num)\n",
    "\n",
    "#output:    (1, 'zero')\n",
    "#           (2, 'one')\n",
    "#           (3, 'two')\n",
    "#           (4, 'three')"
   ]
  },
  {
   "cell_type": "code",
   "execution_count": null,
   "metadata": {},
   "outputs": [],
   "source": [
    "# Define the function MatrixProduct(matrix, multiplier) where matrix is a nested list and multiplier is a number.\n",
    "# The function should multiply each individual item found inside matrix by the multiplier and then return the updated matrix\n",
    "\n",
    "def MatrixProduct(matrix, multiplier):\n",
    "# need to multiply each individual item found inside the matrix and multiply by the step.\n",
    "    for x in matrix:                                                        # a nested list is a list in a list so this line demonstrates I am accessing the inner list\n",
    "        for index, num in enumerate(x):                                     # this for statement demonstrates I am accessing the individual numbers in the x list.\n",
    "            x[index] = num * multiplier                                     # utilizing enumerate because it outputs position and value in that position\n",
    "    return matrix"
   ]
  },
  {
   "cell_type": "markdown",
   "metadata": {},
   "source": [
    "# File Overview\n",
    "\n",
    "To handle files in Python, there are three key things to know:"
   ]
  },
  {
   "cell_type": "code",
   "execution_count": null,
   "metadata": {},
   "outputs": [],
   "source": [
    "# open file in write mode, and store it in a variable\n",
    "file_obj = open(\"info.txt\", \"w\")\n",
    "\n",
    "# write to a file\n",
    "file_obj.write(\"Hello World\")\n",
    "\n",
    "# close the file\n",
    "file_obj.close()"
   ]
  },
  {
   "cell_type": "markdown",
   "metadata": {},
   "source": [
    "# Opening Files\n",
    "- Performing file input/output operations is, arguably, one of the most important features of a programming language.\n",
    "\n",
    "- Fortunately, Python has language features that greatly facilitate this important task.\n",
    "\n",
    "- Use the `open()` function to prepare a file for I/O operations.\n",
    "\n",
    "## Specify:\n",
    "\n",
    "- File name as string or path expression. The name/path may be absolute or relative.\n",
    "\n",
    "- Remember, for Windows OS, the \\\\ is the path separator versus the / which is the path separator for Linux/Mac.\n",
    "\n",
    "## File Modes\n",
    "Mode options allow for the ability to read or write to a file. Some modes require two characters while others only require one. The list below shows all the available mode options:\n",
    "\n",
    "\n",
    "|Keyword | Description |\n",
    "| :----- | :-----------|\n",
    "| r | reads from file, this is used by default | \n",
    "| w | writes to a file, will overwrite if file exists |\n",
    "| a | appends to a file, will not overwrite |\n",
    "| x | creates a file if it does not exist |\n",
    "| b | allows for reading or writing to binary |\n",
    "| t | text mde, can read or write |\n",
    "| w+ or r+ | file must eist, can read and write |\n",
    "\n",
    "\n",
    "# How to open a file in python \n",
    "To open a file, use the open() function. Put either the file or the path in the parenthesis, followed by the mode. Below are examples of opening files and storing them in a variable. "
   ]
  },
  {
   "cell_type": "code",
   "execution_count": null,
   "metadata": {},
   "outputs": [],
   "source": [
    "# Create a file object and open file in read mode\n",
    "file_obj = open(\"info.txt\", \"r\")\n",
    "\n",
    "# Create a file object and opens file in write mode\n",
    "file_obj = open(\"info.txt\", \"w\")\n",
    "\n",
    "# Create a file object and opens file in append mode\n",
    "file_obj = open(\"info.txt\", \"a\")\n",
    "\n",
    "# Create a file object and open file in read mode\n",
    "file_obj = open(\"info.txt\", \"+r\")\n",
    "\n",
    "# Create a file object and opens file in write mode\n",
    "file_obj = open(\"info.txt\", \"+w\")\n",
    "\n",
    "# Create a file object and opens file in append mode\n",
    "file_obj = open(\"info.txt\", \"+a\")\n",
    "\n",
    "# Create a file object and opens file in read binary (executable files) mode\n",
    "# file_obj = open(\"info.dat\", \"rb\")\n",
    "\n",
    "# Create a file object and opens file in write binary mode\n",
    "# file_obj = open(\"info.dat\", \"wb\")\n",
    "\n",
    "# Create a file object and opens file in append binary mode\n",
    "# file_obj = open(\"info.dat\", \"ab\")"
   ]
  },
  {
   "cell_type": "markdown",
   "metadata": {},
   "source": [
    "# Reading Files \n",
    "To read one line at a time, open the file and use the ```read()``` method"
   ]
  },
  {
   "cell_type": "code",
   "execution_count": null,
   "metadata": {},
   "outputs": [
    {
     "name": "stdout",
     "output_type": "stream",
     "text": [
      "28\n",
      "The fitness gram pacer test.\n",
      "''\n"
     ]
    }
   ],
   "source": [
    "# open file in read mode, and store it in a variable\n",
    "file_obj = open(\"info.txt\")\n",
    "\n",
    "# reading from a file\n",
    "file_content = file_obj.read()  # returns a string always\n",
    "print(len(file_content))        # find how many bytes are in a file by using len() command\n",
    "print(file_content)\n",
    "print(repr(file_obj.read()))    # this is because the previous read moved the cursor to the end of the file\n",
    "                                # close the file\n",
    "file_obj.close()"
   ]
  },
  {
   "cell_type": "code",
   "execution_count": null,
   "metadata": {},
   "outputs": [
    {
     "name": "stdout",
     "output_type": "stream",
     "text": [
      "The \n",
      "fitn\n",
      "<_io.TextIOWrapper name='info.txt' mode='r' encoding='UTF-8'>\n"
     ]
    }
   ],
   "source": [
    "with open(\"info.txt\") as file_obj: \n",
    "    print(file_obj.read(4))             # reads the first 4 bytes and moves the cursor\n",
    "    print(file_obj.read(4)) \n",
    "print(file_obj)                         # print(file_obj.read()) will error out because the file is closed \n"
   ]
  },
  {
   "cell_type": "code",
   "execution_count": null,
   "metadata": {},
   "outputs": [
    {
     "name": "stdout",
     "output_type": "stream",
     "text": [
      "['The', 'fitness', 'gram', 'pacer', 'test.']\n"
     ]
    }
   ],
   "source": [
    "# get out all the words in a file.\n",
    "# store the list of words\n",
    "with open('info.txt') as file_object:\n",
    "    file_content = file_object.read()\n",
    "    words = file_content.split('. ')         # creates a list by splitting each index into seperate strings in that list.\n",
    "                                             # if you want to get rid of the whitespace at the end of a sentence you can use the .strip(' ') method\n",
    "    print(words)"
   ]
  },
  {
   "cell_type": "code",
   "execution_count": null,
   "metadata": {},
   "outputs": [],
   "source": [
    "# get a list of lines\n",
    "with open('info.txt') as file_object:\n",
    "    file_content = file_object.read()\n",
    "    words = file_content.split('. ')         \n",
    "                                             \n",
    "    print(words)"
   ]
  },
  {
   "cell_type": "markdown",
   "metadata": {},
   "source": [
    "```readline()``` reads one line of the text file at a time. "
   ]
  },
  {
   "cell_type": "code",
   "execution_count": null,
   "metadata": {},
   "outputs": [],
   "source": [
    "# With automatically closes file\n",
    "with open(\"info.txt\") as file_obj:\n",
    "   print(repr(file_obj.readline(10)))           # behavior of readline.() reads every specified byte from current position\n",
    "                                                # but also stops every new line character. Also returns \\n\n",
    "   print(repr(file_obj.readline(10)))\n",
    "   print(repr(file_obj.readline(10)))  "
   ]
  },
  {
   "cell_type": "markdown",
   "metadata": {},
   "source": [
    "The ```readlines()``` method returns the whole text file in the form of a list!"
   ]
  },
  {
   "cell_type": "code",
   "execution_count": null,
   "metadata": {},
   "outputs": [],
   "source": [
    "# Opening info.txt and reading the lines\n",
    "with open(\"info.txt\") as file_obj:\n",
    "   file_content = file_obj.readlines()          # readlines() is similar to read.split() but reads all the lines and keeps all new line characters.\n",
    "                                                # reads from current cursor position and returns a list\n",
    "   print(file_content)"
   ]
  },
  {
   "cell_type": "markdown",
   "metadata": {},
   "source": [
    "- When using the readlines() method, it returns a list of strings from the file including the new line character. \n",
    "- There are other ways and methods to return a list of lines from a file without the new line character:"
   ]
  },
  {
   "cell_type": "code",
   "execution_count": 1,
   "metadata": {},
   "outputs": [
    {
     "ename": "FileNotFoundError",
     "evalue": "[Errno 2] No such file or directory: 'info.txt'",
     "output_type": "error",
     "traceback": [
      "\u001b[0;31m---------------------------------------------------------------------------\u001b[0m",
      "\u001b[0;31mFileNotFoundError\u001b[0m                         Traceback (most recent call last)",
      "Cell \u001b[0;32mIn[1], line 2\u001b[0m\n\u001b[1;32m      1\u001b[0m \u001b[38;5;66;03m# Opening info.txt and reading the lines without the new line character\u001b[39;00m\n\u001b[0;32m----> 2\u001b[0m \u001b[38;5;28;01mwith\u001b[39;00m \u001b[38;5;28;43mopen\u001b[39;49m\u001b[43m(\u001b[49m\u001b[38;5;124;43m\"\u001b[39;49m\u001b[38;5;124;43minfo.txt\u001b[39;49m\u001b[38;5;124;43m\"\u001b[39;49m\u001b[43m)\u001b[49m \u001b[38;5;28;01mas\u001b[39;00m file_obj:\n\u001b[1;32m      3\u001b[0m    file_content \u001b[38;5;241m=\u001b[39m file_obj\u001b[38;5;241m.\u001b[39mread()\n\u001b[1;32m      4\u001b[0m    file_lines \u001b[38;5;241m=\u001b[39m file_content\u001b[38;5;241m.\u001b[39msplitlines()\n",
      "File \u001b[0;32m~/.local/lib/python3.8/site-packages/IPython/core/interactiveshell.py:284\u001b[0m, in \u001b[0;36m_modified_open\u001b[0;34m(file, *args, **kwargs)\u001b[0m\n\u001b[1;32m    277\u001b[0m \u001b[38;5;28;01mif\u001b[39;00m file \u001b[38;5;129;01min\u001b[39;00m {\u001b[38;5;241m0\u001b[39m, \u001b[38;5;241m1\u001b[39m, \u001b[38;5;241m2\u001b[39m}:\n\u001b[1;32m    278\u001b[0m     \u001b[38;5;28;01mraise\u001b[39;00m \u001b[38;5;167;01mValueError\u001b[39;00m(\n\u001b[1;32m    279\u001b[0m         \u001b[38;5;124mf\u001b[39m\u001b[38;5;124m\"\u001b[39m\u001b[38;5;124mIPython won\u001b[39m\u001b[38;5;124m'\u001b[39m\u001b[38;5;124mt let you open fd=\u001b[39m\u001b[38;5;132;01m{\u001b[39;00mfile\u001b[38;5;132;01m}\u001b[39;00m\u001b[38;5;124m by default \u001b[39m\u001b[38;5;124m\"\u001b[39m\n\u001b[1;32m    280\u001b[0m         \u001b[38;5;124m\"\u001b[39m\u001b[38;5;124mas it is likely to crash IPython. If you know what you are doing, \u001b[39m\u001b[38;5;124m\"\u001b[39m\n\u001b[1;32m    281\u001b[0m         \u001b[38;5;124m\"\u001b[39m\u001b[38;5;124myou can use builtins\u001b[39m\u001b[38;5;124m'\u001b[39m\u001b[38;5;124m open.\u001b[39m\u001b[38;5;124m\"\u001b[39m\n\u001b[1;32m    282\u001b[0m     )\n\u001b[0;32m--> 284\u001b[0m \u001b[38;5;28;01mreturn\u001b[39;00m \u001b[43mio_open\u001b[49m\u001b[43m(\u001b[49m\u001b[43mfile\u001b[49m\u001b[43m,\u001b[49m\u001b[43m \u001b[49m\u001b[38;5;241;43m*\u001b[39;49m\u001b[43margs\u001b[49m\u001b[43m,\u001b[49m\u001b[43m \u001b[49m\u001b[38;5;241;43m*\u001b[39;49m\u001b[38;5;241;43m*\u001b[39;49m\u001b[43mkwargs\u001b[49m\u001b[43m)\u001b[49m\n",
      "\u001b[0;31mFileNotFoundError\u001b[0m: [Errno 2] No such file or directory: 'info.txt'"
     ]
    }
   ],
   "source": [
    "# Opening info.txt and reading the lines without the new line character\n",
    "with open(\"info.txt\") as file_obj:\n",
    "   file_content = file_obj.read()\n",
    "   file_lines = file_content.splitlines()\n",
    "                                                   # The splitlines() method splits a string into a list. The splitting is done at line breaks.\n",
    "   print(file_lines)                               "
   ]
  },
  {
   "cell_type": "markdown",
   "metadata": {},
   "source": [
    "- Additionally, obtaining words from a file is a practice that is often done.\n",
    "- In order to do this, use the _io.TextIOWrapper method of read() to return a string. From there, we use string.split() with no argument to return a list of words."
   ]
  },
  {
   "cell_type": "code",
   "execution_count": null,
   "metadata": {},
   "outputs": [],
   "source": [
    "# Opening info.txt and create a list of words\n",
    "\n",
    "   \n",
    "with open(\"info.txt\") as file_obj:\n",
    "   file_content = file_obj.read()\n",
    "   words = file_content.split(\" \")"
   ]
  },
  {
   "cell_type": "markdown",
   "metadata": {},
   "source": [
    "# Writing Text to a File \n",
    "\n",
    "```write()``` - writes a single string to a file\n",
    "```writelines()``` - writes a list of strings to a file, does not add newlines\n"
   ]
  },
  {
   "cell_type": "code",
   "execution_count": null,
   "metadata": {},
   "outputs": [],
   "source": [
    "with open('info.txt', 'w') as file_out:\n",
    "    pass                                                    # all the content of the file is erased due to the 'w' function"
   ]
  },
  {
   "cell_type": "code",
   "execution_count": null,
   "metadata": {},
   "outputs": [],
   "source": [
    "with open('info.txt', 'w') as file_out:\n",
    "    file_out.write('this is something new')                 # need to specify spaces because it is literal\n",
    "    x = 3 +7 / 2\n",
    "    file_out.write(str(x))                                  # write output needs to be a string so need to convert it if another data type."
   ]
  },
  {
   "cell_type": "code",
   "execution_count": null,
   "metadata": {},
   "outputs": [],
   "source": [
    "data = [(\"California\", 39937489, \"Sacramento\"),             # write opens the file  with the cursor at the start but the file does NOT need to exist\n",
    "                                                            # if there is a file it will delete the info and write over it. (empty file)\n",
    "       (\"Texas\", 29472295, \"Austin\"),\n",
    "       (\"Florida\", 21992985, \"Tallahassee\")]\n",
    "\n",
    "with open(\"info.txt\", \"w\") as data_obj:\n",
    "       for state, population, capital in data:\n",
    "           data_obj.write(f'{state}, {population}, {capital}\\n')"
   ]
  },
  {
   "cell_type": "code",
   "execution_count": null,
   "metadata": {},
   "outputs": [],
   "source": [
    "# writeLines\n",
    "lines = ['Line 1','Line 2','Line 3']                           # if you give it a list you need to specify new line char because it will squish\n",
    "                                                               # all the values together in a line\n",
    "                                                               # writelines ONLY concatenates not write lines. (similar to .join)\n",
    "with open(\"info.txt\", \"w\") as data_obj:\n",
    "    data_obj.writelines(lines)"
   ]
  },
  {
   "cell_type": "markdown",
   "metadata": {},
   "source": [
    "Note: If info.txt was already created, using 'w' mode will overwrite the file. Using 'a' will not overwrite the file, it will add the contents to the end of the file. "
   ]
  },
  {
   "cell_type": "code",
   "execution_count": null,
   "metadata": {},
   "outputs": [],
   "source": [
    "# open file in write mode, and store it in a variable\n",
    "file_obj = open(\"info.txt\", \"w\")\n",
    "\n",
    "# write to a file\n",
    "file_obj.write(\"Hello World\")\n",
    "\n",
    "# close the file\n",
    "file_obj.close()"
   ]
  },
  {
   "cell_type": "code",
   "execution_count": null,
   "metadata": {},
   "outputs": [],
   "source": [
    "# copy the contents of a file/ This is looked at by I am creating a read file and write file  \n",
    "with open(\"info.txt\", \"r\") as file_in, open('info_copy.txt', 'w') as file_out:\n",
    "    file_out.write(file_in.read())                                              # short hand compared to this way:\n",
    "                                                                                # with open(\"info.txt\") as file_in, open('info_copy.txt', 'w') as file_out:\n",
    "                                                                                # contents = file_in.read()\n",
    "                                                                                # file_out.write(contents)"
   ]
  },
  {
   "cell_type": "code",
   "execution_count": 17,
   "metadata": {},
   "outputs": [],
   "source": [
    "# open file in append mode, and store it in a variable\n",
    "file_obj = open(\"info.txt\", \"a\")\n",
    "\n",
    "# write to a file\n",
    "file_obj.write(\"Hello World\\n\")\n",
    "\n",
    "# close the file\n",
    "file_obj.close()"
   ]
  },
  {
   "cell_type": "code",
   "execution_count": 21,
   "metadata": {},
   "outputs": [],
   "source": [
    "def gathering_thoughts(fname):\n",
    "    x = input()\n",
    "    with open(fname, \"w\") as input_file:\n",
    "        input_file.write(input())\n",
    "``\n",
    "\n",
    "\n",
    "\n",
    "gathering_thoughts('new.txt')"
   ]
  },
  {
   "cell_type": "markdown",
   "metadata": {},
   "source": [
    "# Closing Files\n",
    "\n",
    "- A Python program could open a file, do the I/O operations, and close the file by issuing Python functions.\n",
    "- The ```close()``` method closes the file and may be explicitly coded as shown in the listing below.\n",
    "- Python will automatically close files when I/O operations are done in concert with the with statement.\n",
    "- Remember with closes the file automatically"
   ]
  },
  {
   "cell_type": "markdown",
   "metadata": {},
   "source": [
    "# Seek and Tell \n",
    "- The Python functions ```seek()``` and ```tell()``` allow a program to navigate the read/write pointer in a file and to report on the current position of the read/write pointer.\n",
    "\n",
    "- ```seek( pos )``` to position file at position pos for next I/O operation.\n",
    "\n",
    "- For example, `seek(0)` positions the read/write pointer to the beginning of the file. The `seek()` function takes an optional second parameter called `whence` which is an integer specifying where to start seeking from, however it only properly works when opening in `rb` mode.\n",
    "\n",
    "- The `tell()` function returns an integer specifying the current position within the file of the read/write pointer."
   ]
  },
  {
   "cell_type": "code",
   "execution_count": null,
   "metadata": {},
   "outputs": [],
   "source": [
    "# Open a file and print tell\n",
    "with open(\"info.txt\") as file_obj:\n",
    "  print(file_obj.tell())"
   ]
  },
  {
   "cell_type": "code",
   "execution_count": null,
   "metadata": {},
   "outputs": [],
   "source": [
    "# Open a file and print tell\n",
    "file_obj = open(\"info.txt\")\n",
    "\n",
    "# Setting the pointer to beginning of file\n",
    "file_obj.seek(0)\n",
    "file_obj.seek(len(file_obj.read()))                                     # EOF\n",
    "file_obj.seek(0)\n",
    "# Printing the first line\n",
    "print(file_obj.readline())\n",
    "\n",
    "# Closing the file\n",
    "file_obj.close()"
   ]
  },
  {
   "cell_type": "markdown",
   "metadata": {},
   "source": [
    "## Plus +r, +w, +a\n",
    "The plus modifier opens up files like their normal corresponding modes, but gives access to read and write functions."
   ]
  },
  {
   "cell_type": "code",
   "execution_count": null,
   "metadata": {},
   "outputs": [],
   "source": [
    "with open(\"info.txt\", \"+r\") as fi:                                     # When you do '+r' you are not adding to an preexisting file but \n",
    "                                                                       # overrides the original file.\n",
    "    fi.write('This is my text')"
   ]
  },
  {
   "cell_type": "markdown",
   "metadata": {},
   "source": [
    "# Importing Libraries\n",
    "\n",
    "## The import Keyword\n",
    "\n",
    "The keyword `import` is useful for literally importing standard Python (and other third-party) libraries (also known as Modules). \n",
    "\n",
    "These modules/libraries give access to a multitude of other tools/functions/methods that can be useful to a program but aren't necessary for basic Python execution.\n",
    "\n",
    "More information about `import` can be found at:\n",
    "\n",
    "[GeeksforGeeks](https://www.geeksforgeeks.org/import-module-python/)\n",
    "\n",
    "[W3Schools](https://www.w3schools.com/python/python_modules.asp)\n",
    "\n",
    "[Python Docs](https://docs.python.org/3/reference/simple_stmts.html#import)\n",
    "\n",
    "\n",
    "## Basic Libraries\n",
    "\n",
    "We will only scratch the surface of Python's available libraries. For a more complete list of standard and other third-party libraries you can visit [Python Docs - The Python Standard Library](https://docs.python.org/3/library/index.html)\n",
    "\n",
    "### Where Python Standard Libraries Live?\n",
    "\n",
    "When Python is downloaded onto your system a group of standard libraries are included for programmers to use as needed. The following code will show you the directories in which those libraries live."
   ]
  },
  {
   "cell_type": "code",
   "execution_count": 20,
   "metadata": {},
   "outputs": [
    {
     "name": "stdout",
     "output_type": "stream",
     "text": [
      "!\"#$%&'()*+,-./:;<=>?@[\\]^_`{|}~\n"
     ]
    }
   ],
   "source": [
    "import string\n",
    "# from string import * or                                        # * means everything\n",
    "from string import punctuation\n",
    "print(punctuation)"
   ]
  },
  {
   "cell_type": "code",
   "execution_count": null,
   "metadata": {},
   "outputs": [],
   "source": [
    "import sys\n",
    "\n",
    "print(sys.path)"
   ]
  },
  {
   "cell_type": "markdown",
   "metadata": {},
   "source": [
    "You can explore the random library that should be found in the `/usr/lib/python3.8` directory.\n",
    "\n",
    "### Math Library/Module\n",
    "\n",
    "The `math` library/Module provides access to multiple functions/methods that house commonly used formulas and values for math operations\n",
    "\n",
    "Pi is a great example of one of these values\n",
    "\n",
    "Import the math library and access the value of Pi"
   ]
  },
  {
   "cell_type": "code",
   "execution_count": null,
   "metadata": {},
   "outputs": [],
   "source": [
    "import math\n",
    "print(math.pi)\n",
    "\n",
    "#output:  3.141592653589793"
   ]
  },
  {
   "cell_type": "markdown",
   "metadata": {},
   "source": [
    "\n",
    "Use the `dir()` built-in function for a full listing of functions available from the math library/module"
   ]
  },
  {
   "cell_type": "code",
   "execution_count": null,
   "metadata": {},
   "outputs": [],
   "source": [
    "dir(math) \n",
    "#NOTE: if you are starting in a new python file/code block, you will need to import math again"
   ]
  },
  {
   "cell_type": "markdown",
   "metadata": {},
   "source": [
    "Try out the square root function/method of the math library"
   ]
  },
  {
   "cell_type": "code",
   "execution_count": null,
   "metadata": {},
   "outputs": [],
   "source": [
    "import math\n",
    "\n",
    "num = math.sqrt(25)\n",
    "print(num)\n",
    "\n",
    "#output:  5"
   ]
  },
  {
   "cell_type": "markdown",
   "metadata": {},
   "source": [
    "### Random Library/Module\n",
    "\n",
    "The `random` library/module is great for making pseudo-random selections from either a range of numbers or collections of items.\n",
    "\n",
    "Python Docs warns programmers that this module should not be used for security purposes and suggests the use of the [secrets](https://docs.python.org/3/library/secrets.html#module-secrets) library/module instead.\n",
    "\n",
    "Test out the random library on the `list` of names below to return a random name for bathroom cleaning duty!"
   ]
  },
  {
   "cell_type": "code",
   "execution_count": null,
   "metadata": {},
   "outputs": [],
   "source": [
    "names = ['Smith', 'Barnes', 'Perry', 'Johnson']\n",
    "\n",
    "import random\n",
    "\n",
    "bathroom_duty = random.choice(names)\n",
    "print(bathroom_duty)"
   ]
  },
  {
   "cell_type": "markdown",
   "metadata": {},
   "source": [
    "Execute this code a few times to see how the name changes\n",
    "\n",
    "The random library is also great at choosing a random number out of a range of numbers you can specify by using the `.randint(start, stop)` method/function. The start and stop values must be `int` and ARE inclusive."
   ]
  },
  {
   "cell_type": "code",
   "execution_count": null,
   "metadata": {},
   "outputs": [],
   "source": [
    "import random\n",
    "\n",
    "num = random.randint(5, 10)\n",
    "print(num)"
   ]
  },
  {
   "cell_type": "markdown",
   "metadata": {},
   "source": [
    "\n",
    "If you don't need to import the entire contents of a library/module, python does allow you to import a specific method/function.\n",
    "\n",
    "Import just the `choice` method/function from the `random` library/module."
   ]
  },
  {
   "cell_type": "code",
   "execution_count": null,
   "metadata": {},
   "outputs": [],
   "source": [
    "from random import choice\n",
    "\n",
    "lst = [1,2,3,4,5,6]\n",
    "x = choice(lst)\n",
    "print(x)"
   ]
  },
  {
   "cell_type": "markdown",
   "metadata": {},
   "source": [
    "\n",
    "Maybe you don't like the name of the method/function, python also allows you to alter it upon import.\n",
    "\n",
    "Import the `randint` method/function and call it `RANDnum`"
   ]
  },
  {
   "cell_type": "code",
   "execution_count": null,
   "metadata": {},
   "outputs": [],
   "source": [
    "from random import randint as RANDnum\n",
    "y = RANDnum(1,100)\n",
    "print(y)"
   ]
  },
  {
   "cell_type": "code",
   "execution_count": null,
   "metadata": {},
   "outputs": [],
   "source": [
    "# Continuously read a string from the user and write that string to the file \n",
    "# provided in the parameter fname until an empty string is read from user.\n",
    "# Every line read from the user should be written on its own line in the file.\n",
    "\n",
    "def gathering_thoughts(fname):                              \n",
    "    with open(fname, \"w\") as input_file:                    # I need to open a file for user inputs in write mode.\n",
    "        user_input = input()                                # I need to ask for user input to add to the file.\n",
    "        while user_input:                                   # don't need another if statement or a break statement if I am not doing While == 'True'\n",
    "            input_file.write(f'{user_input}\\n')             # I am writing to the file by taking the user statement and listing it with a new line variable\n",
    "            user_input = input()                            # I am asking for user input again to close the loop since it is a conditional statement"
   ]
  },
  {
   "cell_type": "code",
   "execution_count": null,
   "metadata": {},
   "outputs": [],
   "source": [
    "# Read the contents of the file path stored in infile and write the contents to the file path stored in outfile.\n",
    "\n",
    "def copy_paste(infile, outfile):                            # I need to open a file in read mode \n",
    "    with open(\"file1.txt\", \"r\") as file_content:\n",
    "        "
   ]
  },
  {
   "cell_type": "markdown",
   "metadata": {},
   "source": [
    "\n",
    "There are so many more libraries/modules available that can be useful for so many things. Later, in networking we will revisit this topic!"
   ]
  },
  {
   "cell_type": "code",
   "execution_count": null,
   "metadata": {},
   "outputs": [],
   "source": [
    "# Read file specified by the path stored in the inpath parameter and write all lines \n",
    "# to the file specified by the outpath parameter.\n",
    "# Before writing out each line, add the line number starting with 1 follow by colon and space\n",
    "\n",
    "# A test case will utilize users.txt as the inpath\n",
    "\n",
    "def linenums(inpath, outpath):\n",
    "    # need to open a file in the inpath param in read mode and create a write file\n",
    "    with open(inpath, 'r') as users, open(outpath, 'w') as users_content:\n",
    "    # create a read statement that also allows me to write to the file.\n",
    "    # also need to add the line number starting with 1 followed by colon so need to use f string.\n",
    "    # need t ocreate a loop for the concatenation\n",
    "        for index, user in enumerate(users, 1):\n",
    "            users_content.write(f'{index}: {user}')\n"
   ]
  },
  {
   "cell_type": "code",
   "execution_count": null,
   "metadata": {},
   "outputs": [],
   "source": [
    "# \"You have a artist friend that likes to jot down some inspirational words when the mood strikes. These fits of inspiration always have a theme that they need to remember with the messages. Your friend needs some help keeping track.\n",
    "# Read each of the inspirational messages from the user and write them to the end of the file specified by fname.\n",
    "# Since the theme is important and must be remembered, add the theme and a colon before each message and ensure each inspirational message is on its own line. An empty input will indicate no more entries and the end of the theme.\"\n",
    "\n",
    "def log_to_file(fname, theme):\n",
    "    user_message = input()\n",
    "    while user_message:\n",
    "        with open(fname, 'a') as messages:\n",
    "            messages.write(f'{theme}: \\n{user_message}\\n')\n",
    "            user_message = input() "
   ]
  },
  {
   "cell_type": "code",
   "execution_count": null,
   "metadata": {},
   "outputs": [],
   "source": [
    "def replace_in_file(in_path, out_path, reps):\n",
    "    with open(in_path, 'r') as instances, open(out_path, 'w') as results:\n",
    "        my_instances = instances.read()                                         # assigning a variable that takes the information given tyo us and returns a string.\n",
    "        for x in reps:\n",
    "            my_instances = my_instances.replace(x[0],x[1])                      # use the replace function to replace the first word in the tuple with\n",
    "                                                                                # the second word. .replace(x[#],x[#])\n",
    "        results.write(my_instances)                                             # write back into the output file"
   ]
  },
  {
   "cell_type": "markdown",
   "metadata": {},
   "source": [
    "# Dictionaries\n",
    "- A `dict()` (dictionary) is an ordered collection of entries.\n",
    " \n",
    "- Each entry contains a `key:value` pair.\n",
    "   - Think of Webster's dictionary. The word is the `key` and the definition is the `value`\n",
    "\n",
    "- Dictionaries maintain their order of insertion - Last In, First Out (LIFO). \n",
    " \n",
    "- Dictionary keys have to be both unique and hashable. In other words a `key` can NOT be duplicated\n",
    "\n",
    "More on dictionaries can be found at: \n",
    "\n",
    "- [W3Schools](https://www.w3schools.com/python/python_dictionaries.asp)\n",
    "- [Python Docs](https://docs.python.org/3/tutorial/datastructures.html#dictionaries)\n",
    "\n",
    "## Creating Dictionaries \n",
    "\n",
    "- Two ways to create a dictionary, using `dict()` or `{}`"
   ]
  },
  {
   "cell_type": "code",
   "execution_count": null,
   "metadata": {},
   "outputs": [],
   "source": [
    "# Creating an empty dictionary\n",
    "dictionary = dict()                                                 # this is the conversion function \n",
    "dictionary2 = {}"
   ]
  },
  {
   "cell_type": "code",
   "execution_count": null,
   "metadata": {},
   "outputs": [],
   "source": [
    "# dictionaries have items that contain two parts\n",
    "# key : value\n",
    "# keys must be immutable data types\n",
    "# values can be any data type"
   ]
  },
  {
   "cell_type": "code",
   "execution_count": null,
   "metadata": {},
   "outputs": [],
   "source": [
    "# Example 1 (using {}):\n",
    "names = {\"key_1\": \"Bill\", \"key_2\":\"Jill\", \"key_3\":\"Gill\"}\n",
    "numbers = {1:1, 2:2, 3:3}\n",
    "\n",
    "\n",
    "\n",
    "# Example 2 (using dict()):\n",
    "also_names = dict(key_1 = \"Bill\", key_2 = \"Jill\", key_3 = \"Gill\")\n",
    "print(also_names)\n",
    "also_numbers = dict(one = 1, two = 2, three = 3)                    \n",
    "print(also_numbers)                                                    # You cant use 1 = 1, to assign a variable \n",
    "                                                                       # NOTE: using this process will NOT allow you to assign integers as keys"
   ]
  },
  {
   "cell_type": "markdown",
   "metadata": {},
   "source": [
    "## Acessing Items In A Dicionary \n",
    "\n",
    "- The `key` is the primary means of access when using a dictionary\n",
    "\n",
    "***Consider this:*** Would you open Webster's dictionary looking for a specific definition (`value`) in order to find the word (`key`) that it is assigned to? Or, would you look up a specific word (`key`) to find the definition (`value`) it is assigned to?\n",
    "\n",
    "Access the names dictionary and print the name 'Bill'"
   ]
  },
  {
   "cell_type": "code",
   "execution_count": 31,
   "metadata": {},
   "outputs": [
    {
     "name": "stdout",
     "output_type": "stream",
     "text": [
      "Bill\n"
     ]
    }
   ],
   "source": [
    "names = {'key_1': 'Bill', 'key_2': 'Jill', 'key_3': 'Gill'}                 # if a key doesn't exist it gives you a keyerror message.\n",
    "                                                                            # if you create a dictionary with an mutable data type\n",
    "                                                                            # returns a TypeError message\n",
    "print(names['key_1'])\n",
    "\n",
    "#output:  Bill"
   ]
  },
  {
   "cell_type": "code",
   "execution_count": null,
   "metadata": {},
   "outputs": [],
   "source": [
    "# these are all valid dictionaries\n",
    "d = {1 : 'string'}\n",
    "e = {(1,2,3) :1}\n",
    "f = {True : 4}"
   ]
  },
  {
   "cell_type": "code",
   "execution_count": 1,
   "metadata": {},
   "outputs": [
    {
     "name": "stdout",
     "output_type": "stream",
     "text": [
      "{1: 'ONE', 2: 'two', 3: 'three'}\n"
     ]
    }
   ],
   "source": [
    "repeat_keys = {1 : 'one', 2 : 'two', 3  : 'three', 1 : 'ONE'}               # if you have a repeat key python will overwrite the first entry \n",
    "                                                                            # with the repeat\n",
    "print(repeat_keys)"
   ]
  },
  {
   "cell_type": "markdown",
   "metadata": {},
   "source": [
    "\n",
    "Now access the dictionary and save the name 'Jill' to the variable: `name_2`"
   ]
  },
  {
   "cell_type": "code",
   "execution_count": null,
   "metadata": {},
   "outputs": [
    {
     "name": "stdout",
     "output_type": "stream",
     "text": [
      "Jill\n",
      "Gill\n"
     ]
    }
   ],
   "source": [
    "names = {'key_1': 'Bill', 'key_2': 'Jill', 'key_3': 'Gill'}\n",
    "name_2 = names['key_2']\n",
    "print(names)\n",
    "key = 'key_3'\n",
    "print(names[key])\n",
    "\n",
    "#output:  Jill"
   ]
  },
  {
   "cell_type": "code",
   "execution_count": 5,
   "metadata": {},
   "outputs": [
    {
     "name": "stdout",
     "output_type": "stream",
     "text": [
      "{'1': 1, '2': 2}\n",
      "{'1': 1, '2': 2, 3: 'h'}\n",
      "{'1': 1, '2': 2, 3: 'h', <built-in function print>: 'key'}\n"
     ]
    }
   ],
   "source": [
    "random_d = {'1':1, '2':2}\n",
    "print(random_d)\n",
    "random_d[3] = 'h'                                                              # can add things to a dictionary\n",
    "print(random_d)\n",
    "random_d[print]='key'\n",
    "print(random_d)"
   ]
  },
  {
   "cell_type": "markdown",
   "metadata": {},
   "source": [
    "\n",
    "- Dictionaries also have a `.get()` method that can be used to retrieve the value for a given key.\n",
    " \n",
    "   - ` dict_name.get(key, default) `\n",
    " \n",
    "   - If a value for default is not provided, the `None` object will be returned."
   ]
  },
  {
   "cell_type": "code",
   "execution_count": null,
   "metadata": {},
   "outputs": [],
   "source": [
    "names = {'key_1': 'Bill', 'key_2': 'Jill', 'key_3': 'Gill'}\n",
    "print(names.get('key_1'))\n",
    "#output:  Bill\n",
    "\n",
    "#access a key that does not exist\n",
    "print(names.get('key_10'))\n",
    "#output: None\n",
    "\n",
    "#provide a unique 'error message' to the .get()\n",
    "print(names.get('key_10','Key does not exist'))\n",
    "#output:  Key does not exist"
   ]
  },
  {
   "cell_type": "markdown",
   "metadata": {},
   "source": [
    "## Finding Keys/Values\n",
    "- The `in` and `not in` operators can be used to determine if a specific `key` or `value` exists in the `dictionary`.\n",
    " \n",
    "- Both operators will return a `True` or `False` value.\n",
    " \n",
    "- When used with the entire `dictionary`, the operators search for the `value` in the `keys` of the `dictionary`.\n",
    " \n",
    "- The view returned by the values method can be used to search for a `value` in the values of the dictionary."
   ]
  },
  {
   "cell_type": "code",
   "execution_count": null,
   "metadata": {},
   "outputs": [],
   "source": [
    "numbers = {'one':1, 'two':2, 'three':3}\n",
    "\n",
    "# Using in and not in\n",
    "print(\"one\" in numbers) \n",
    "#output:  True          \n",
    "print(\"one\" not in numbers) \n",
    "#output:  False"
   ]
  },
  {
   "cell_type": "markdown",
   "metadata": {},
   "source": [
    "\n",
    "## Adding and Updating Key:Value Pairs\n",
    "- Dictionaries are designed as a data structure that provide fast look-ups into the structure by key. Sub-script notation can be used to add new key/value pairs and to modify existing values for a given key.\n",
    " \n",
    "- `dict_name[key]` will retrieve the value associated to the given key.\n",
    " \n",
    "- If the key does not exist, a `KeyError` exception is raised\n",
    "\n",
    "- `dict_name[key] = value` will either add a new `key`:`value` pair, or modify the `value` associated to the given `key`.\n",
    " \n",
    "Using the `names` dictionary, add two more keys and names"
   ]
  },
  {
   "cell_type": "code",
   "execution_count": null,
   "metadata": {},
   "outputs": [],
   "source": [
    "names = {'key_1': 'Bill', 'key_2': 'Jill', 'key_3': 'Gill'}\n",
    "names['key_4'] = 'Phil'\n",
    "print(names)\n",
    "names['key_5'] = 'Will'\n",
    "print(names)\n",
    "\n",
    "#output: \n",
    "# {'key_1': 'Bill', 'key_2': 'Jill', 'key_3': 'Gill', 'key_4': 'Phil'}\n",
    "# {'key_1': 'Bill', 'key_2': 'Jill', 'key_3': 'Gill', 'key_4': 'Phil', 'key_5': 'Will'}"
   ]
  },
  {
   "cell_type": "markdown",
   "metadata": {},
   "source": [
    "* Update the value of key_1 to be the name 'Hill'"
   ]
  },
  {
   "cell_type": "code",
   "execution_count": null,
   "metadata": {},
   "outputs": [],
   "source": [
    "names = {'key_1': 'Bill', 'key_2': 'Jill', 'key_3': 'Gill'}\n",
    "names['key_1'] = 'Hill'\n",
    "print(names)\n",
    "\n",
    "#output:\n",
    "# {'key_1': 'Hill', 'key_2': 'Jill', 'key_3': 'Gill', 'key_4': 'Phil'}"
   ]
  },
  {
   "cell_type": "markdown",
   "metadata": {},
   "source": [
    "* Add two values and update key_1 to 'Jack'"
   ]
  },
  {
   "cell_type": "code",
   "execution_count": null,
   "metadata": {},
   "outputs": [],
   "source": [
    "names = {'key_1': 'Bill', 'key_2': 'Jill', 'key_3': 'Gill'}\n",
    "names.update({'key_4':'Phil','key_5':'Will','key_1':'Jack'})\n",
    "print(names)"
   ]
  },
  {
   "cell_type": "code",
   "execution_count": null,
   "metadata": {},
   "outputs": [],
   "source": [
    "def add_elements(dogs, breed, colors):\n",
    "    dogs.update(tuple(breed))\n",
    "    print(dogs)"
   ]
  },
  {
   "cell_type": "markdown",
   "metadata": {},
   "source": [
    "## Removing Key Values/Pairs\n",
    "- Removing elements from a dictionary can be done by using the `del` keyword and through the `pop()`, `popitem()` methods.\n",
    "\n",
    "- `del dict_name[key]` removes the specified key/value pair from the dictionary, the key/value pair is not returned.\n",
    " \n",
    "- `del dict_name` deletes the entire dictionary.\n",
    " \n",
    "- The general syntax for the `pop()` method is as follows: `value_variable = dict_name.pop(key, default)`\n",
    " \n",
    "   - `Key` represents the actual key of the key/value pair to attempt to remove.\n",
    " \n",
    "   - `Default` represents an optional value to return if key does not exist. If left blank and the key does not exist in the dictionary a `KeyError` will be raised.\n",
    " \n",
    "- The general syntax for the `popitem()` method is as follows. `a_tuple = dict_name.popitem()`\n",
    " \n",
    "   - The `popitem()` method takes NO arguments. It simply removes and returns the last `key`/`value` pair as a `tuple`, but raises a `KeyError` if obj is empty.\n",
    " \n",
    "- A tuple is an immutable collection of ordered elements.\n",
    " \n",
    "Use the names and numbers dictionaries to practice using the `del` keyword and `.pop()` and `.popitem()` methods.\n",
    "\n",
    "- Pop key_1 off of names"
   ]
  },
  {
   "cell_type": "code",
   "execution_count": null,
   "metadata": {},
   "outputs": [],
   "source": [
    "names = {'key_1': 'Bill', 'key_2': 'Jill', 'key_3': 'Gill', 'key_4': 'Phil', 'key_5': 'Will'}\n",
    "numbers = {1:1, 2:2, 3:3}\n",
    "\n",
    "remove_key_1 = names.pop(\"key_1\",None)  #You can use the None obj                       \n",
    "print(names)\n",
    "\n",
    "#output:\n",
    "# {'key_2': 'Jill', 'key_3': 'Gill', 'key_4': 'Phil', 'key_5': 'Will'}\n"
   ]
  },
  {
   "cell_type": "markdown",
   "metadata": {},
   "source": [
    "- Pop something that does not exist"
   ]
  },
  {
   "cell_type": "code",
   "execution_count": null,
   "metadata": {},
   "outputs": [],
   "source": [
    "names = {'key_1': 'Bill', 'key_2': 'Jill', 'key_3': 'Gill', 'key_4': 'Phil', 'key_5': 'Will'}\n",
    "remove_key_10 = names.pop('key_10', 'Key does not exist') #You can use a unique 'error message'\n",
    "print(remove_key_10)\n",
    "\n",
    "#output:  Key does not exist"
   ]
  },
  {
   "cell_type": "markdown",
   "metadata": {},
   "source": [
    "- Use `popitem()` to remove the last `key:value` pair in the dictionary until nothing exists in the dictionary"
   ]
  },
  {
   "cell_type": "code",
   "execution_count": null,
   "metadata": {},
   "outputs": [],
   "source": [
    "# removes the last item in the dictionary\n",
    "\n",
    "names = {'key_1': 'Bill', 'key_2': 'Jill', 'key_3': 'Gill', 'key_4': 'Phil', 'key_5': 'Will'}\n",
    "remove_3 = numbers.popitem()\n",
    "print(numbers)  \n",
    "#output: {1: 1, 2: 2}\n",
    "\n",
    "\n",
    "remove_2 = numbers.popitem()\n",
    "print(numbers)  \n",
    "#output:  {1: 1}\n",
    "\n",
    "remove_1 = numbers.popitem()\n",
    "print(numbers)  \n",
    "#output:  {}\n",
    "\n",
    "remove_0 = numbers.popitem()\n",
    "#output: KeyError: 'popitem(): dictionary is empty'"
   ]
  },
  {
   "cell_type": "markdown",
   "metadata": {},
   "source": [
    "\n",
    "## Dictionary Methods - Continued\n",
    "\n",
    "- When there is a need to work with all `key/value` pairs in a dictionary, the following methods are useful.\n",
    " \n",
    "- The `.keys()` method returns a view of the dictionary keys.\n",
    " \n",
    "- The `.values()` method returns a view of the dictionary values.\n",
    " \n",
    "- The `.items()` method returns a view of the dictionary items.\n",
    " \n",
    "- Each item in the view returned by `.items()` is a 2 item `tuple` consisting of a `key` and a `value`.\n",
    " \n",
    "- Each of the views can also be converted to a `list` or a `tuple` by passing the view to a `list()` or `tuple()` constructor.\n",
    "\n",
    "<br>\n",
    "\n",
    "Create a new `dictionary` that uses state abbreviations as the `key` and the full name as the `value`.\n",
    "\n",
    "### `.keys()`"
   ]
  },
  {
   "cell_type": "code",
   "execution_count": 7,
   "metadata": {},
   "outputs": [
    {
     "name": "stdout",
     "output_type": "stream",
     "text": [
      "dict_keys(['GA', 'FL', 'CA', 'AR'])\n",
      "['GA', 'FL', 'CA', 'AR']\n",
      "<class 'builtin_function_or_method'>\n"
     ]
    }
   ],
   "source": [
    "states = {'GA':'Georgia', 'FL': 'Florida', 'CA':'California', 'AR':'Arkansas'}\n",
    "state_keys = states.keys()\n",
    "print(state_keys)                                                   # can not index dictionaries because they are hashed\n",
    "\n",
    "#output:  dict_keys(['GA', 'FL', 'CA', 'AR'])                       # dictionary data type is unordered list so not subscriptable \n",
    "                                                                    # (not a lsit or tuple)\n",
    "\n",
    "#turn it into a list object\n",
    "\n",
    "state_keys = list(state_keys)\n",
    "print(state_keys)\n",
    "\n",
    "#output:  ['GA', 'FL', 'CA', 'AR']\n",
    "print(type(states.keys))\n"
   ]
  },
  {
   "cell_type": "markdown",
   "metadata": {},
   "source": [
    "\n",
    "### `.values()`"
   ]
  },
  {
   "cell_type": "code",
   "execution_count": 5,
   "metadata": {},
   "outputs": [
    {
     "name": "stdout",
     "output_type": "stream",
     "text": [
      "dict_values(['Georgia', 'Florida', 'California', 'Arkansas'])\n"
     ]
    }
   ],
   "source": [
    "states = {'GA':'Georgia', 'FL': 'Florida', 'CA':'California', 'AR':'Arkansas'}\n",
    "state_values = states.values()\n",
    "print(state_values)\n",
    "# output:  dict_values(['Georgia', 'Florida', 'California', 'Arkansas'])\n",
    "# dict_values is also not subscriptable"
   ]
  },
  {
   "cell_type": "markdown",
   "metadata": {},
   "source": [
    "### `.items()`"
   ]
  },
  {
   "cell_type": "code",
   "execution_count": 2,
   "metadata": {},
   "outputs": [
    {
     "name": "stdout",
     "output_type": "stream",
     "text": [
      "dict_items([('GA', 'Georgia'), ('FL', 'Florida'), ('CA', 'California'), ('AR', 'Arkansas')])\n"
     ]
    }
   ],
   "source": [
    "states = {'GA':'Georgia', 'FL': 'Florida', 'CA':'California', 'AR':'Arkansas'}\n",
    "state_items = states.items()\n",
    "print(state_items)\n",
    "#output:  dict_items([('GA', 'Georgia'), ('FL', 'Florida'), ('CA', 'California'), ('AR', 'Arkansas')])"
   ]
  },
  {
   "cell_type": "code",
   "execution_count": 25,
   "metadata": {},
   "outputs": [
    {
     "name": "stdout",
     "output_type": "stream",
     "text": [
      "dict_items([(1, 10), (2, 20)])\n",
      "dict_items([(3, 30), (4, 40)])\n",
      "dict_items([(5, 50), (6, 60)])\n",
      "{1: 10, 2: 20, 3: 30, 4: 40}\n"
     ]
    }
   ],
   "source": [
    "dic1={1:10, 2:20}\n",
    "dic2={3:30, 4:40}\n",
    "dic3={5:50,6:60}\n",
    "dic4 = {}\n",
    "\n",
    "dic1_items = dic1.items()\n",
    "print(dic1_items)\n",
    "dic2_items = dic2.items()\n",
    "print(dic2_items)\n",
    "dic3_items = dic3.items()\n",
    "print(dic3_items)\n",
    "x = dic4.update(dic1)\n",
    "y = dic4.update(dic2)\n",
    "z = dic4.update(dic2)\n",
    "print(dic4)\n"
   ]
  },
  {
   "cell_type": "markdown",
   "metadata": {},
   "source": [
    "## Looping/Iterating Through A Dictionary\n",
    "\n",
    "Use the states dictionary to practice iterating over dictionaries"
   ]
  },
  {
   "cell_type": "code",
   "execution_count": 4,
   "metadata": {},
   "outputs": [
    {
     "name": "stdout",
     "output_type": "stream",
     "text": [
      "GA\n",
      "FL\n",
      "CA\n",
      "AR\n"
     ]
    }
   ],
   "source": [
    "states = {'GA':'Georgia', 'FL': 'Florida', 'CA':'California', 'AR':'Arkansas'}\n",
    "\n",
    "for each_thing in states:                                             # each-thing is a single key in the dictionary\n",
    "    print(each_thing)\n",
    "\n",
    "#output:  GA\n",
    "#         FL\n",
    "#         CA\n",
    "#         AR"
   ]
  },
  {
   "cell_type": "markdown",
   "metadata": {},
   "source": [
    "**NOTICE** that the `key` is returned. It can be helpful to change `each_thing` to the word `key`. `key` is not a reserved keyword for Python and it will not interfere with any dictionary operations.\n",
    "\n",
    "Loop over the dictionary and print only the value"
   ]
  },
  {
   "cell_type": "code",
   "execution_count": 3,
   "metadata": {},
   "outputs": [
    {
     "name": "stdout",
     "output_type": "stream",
     "text": [
      "Georgia\n",
      "Florida\n",
      "California\n",
      "Arkansas\n"
     ]
    }
   ],
   "source": [
    "states = {'GA':'Georgia', 'FL': 'Florida', 'CA':'California', 'AR':'Arkansas'}\n",
    "for value in states.values():\n",
    "    print(value)\n",
    "\n",
    "#output:  Georgia\n",
    "#         Florida\n",
    "#         California\n",
    "#         Arkansas"
   ]
  },
  {
   "cell_type": "markdown",
   "metadata": {},
   "source": [
    "Loop over the dictionary and print the key, value pair together"
   ]
  },
  {
   "cell_type": "code",
   "execution_count": 9,
   "metadata": {},
   "outputs": [
    {
     "name": "stdout",
     "output_type": "stream",
     "text": [
      "key: GA value: Georgia\n",
      "key: FL value: Florida\n",
      "key: CA value: California\n",
      "key: AR value: Arkansas\n"
     ]
    }
   ],
   "source": [
    "states = {'GA':'Georgia', 'FL': 'Florida', 'CA':'California', 'AR':'Arkansas'}\n",
    "for item in states.items():\n",
    "    print(f'key: {item[0]} value: {item[1]}')\n",
    "\n",
    "#output:  Georgia\n",
    "#         Florida\n",
    "#         California\n",
    "#         Arkansas"
   ]
  },
  {
   "cell_type": "markdown",
   "metadata": {},
   "source": [
    "**NOTICE** this output is a `tuple` consisting of the `key` and `value`\n",
    "\n",
    "There are many different ways to accomplish the same outcome. The following examples show how many different ways you can loop over a dictionary and print the following `str`: 'The state of {full name} is abbreviated: {abbreviation}.'\n",
    "\n",
    "- Using only the `key`"
   ]
  },
  {
   "cell_type": "code",
   "execution_count": 8,
   "metadata": {},
   "outputs": [
    {
     "name": "stdout",
     "output_type": "stream",
     "text": [
      "The state of Georgia is abbreviated GA\n",
      "The state of Florida is abbreviated FL\n",
      "The state of California is abbreviated CA\n",
      "The state of Arkansas is abbreviated AR\n"
     ]
    }
   ],
   "source": [
    "states = {'GA':'Georgia', 'FL': 'Florida', 'CA':'California', 'AR':'Arkansas'}\n",
    "for key in states:\n",
    "    print(f'The state of {states[key]} is abbreviated {key}')"
   ]
  },
  {
   "cell_type": "markdown",
   "metadata": {},
   "source": [
    "\n",
    "- Using the pairs of items"
   ]
  },
  {
   "cell_type": "code",
   "execution_count": 10,
   "metadata": {},
   "outputs": [
    {
     "name": "stdout",
     "output_type": "stream",
     "text": [
      "Key: GA value: Georgia\n",
      "Key: FL value: Florida\n",
      "Key: CA value: California\n",
      "Key: AR value: Arkansas\n"
     ]
    }
   ],
   "source": [
    "states = {'GA':'Georgia', 'FL': 'Florida', 'CA':'California', 'AR':'Arkansas'}\n",
    "for key, value in states.items():                                           # this is called unpacking with more than one variable in for statement\n",
    "    print(f'Key: {key} value: {value}')"
   ]
  },
  {
   "cell_type": "markdown",
   "metadata": {},
   "source": [
    "- Using the `.items()` again, just a little different\n"
   ]
  },
  {
   "cell_type": "markdown",
   "metadata": {},
   "source": [
    "\n",
    "|  **Scenario:** |\n",
    "|---|\n",
    "|How much would the luckiest person on Earth win if they got the winning number on ALL of the lotteries found in the `dictionary` below??|"
   ]
  },
  {
   "cell_type": "code",
   "execution_count": null,
   "metadata": {},
   "outputs": [
    {
     "name": "stdout",
     "output_type": "stream",
     "text": [
      "2333666666\n"
     ]
    }
   ],
   "source": [
    "lottery = {'Mega Millions': 111111111, 'Georgia Lottery': 2222222222, 'Power Ball': 333333}\n",
    "\n",
    "# need to create a total value\n",
    "total = 0\n",
    "for value in lottery.values():                                          # create a for loop to cycle through the values and add it \n",
    "                                                                        # to the total\n",
    "    total += value\n",
    "print(total)"
   ]
  },
  {
   "cell_type": "markdown",
   "metadata": {},
   "source": [
    "Print the sum of all `values`"
   ]
  },
  {
   "cell_type": "markdown",
   "metadata": {},
   "source": [
    "<details>\n",
    "   <summary>Don't peek! Try to solve it yourself first</summary>\n",
    "\n",
    "Solved 2 different ways:\n",
    "\n",
    "```python\n",
    "print(sum(lottery.values()))\n",
    "#output:  11336666666\n",
    "```\n",
    "\n",
    "```python\n",
    "total = 0\n",
    "for value in lottery.values():\n",
    "    total += value\n",
    "print(total)\n",
    "#output:  11336666666\n",
    "```\n",
    "\n",
    "</details>"
   ]
  },
  {
   "cell_type": "code",
   "execution_count": null,
   "metadata": {},
   "outputs": [
    {
     "name": "stdout",
     "output_type": "stream",
     "text": [
      "$99.4\n"
     ]
    }
   ],
   "source": [
    "menu = {'fries': 0.99, 'water': 8.99, 'waffles': 4.99, 'tequila': 5.00}\n",
    "order = {'whopper':5, 'water': 5, 'fries': 55}\n",
    "# get a grand total cost of the order\n",
    "\n",
    "total = 0\n",
    "for item in order:                                                      # want to go through each of the ordered items\n",
    "                                                                        # need to see if each item ordered is in the menu.\n",
    "    if item in menu:                                                    # if the item is in the menu you add to the total\n",
    "        total += (order[item]) * (menu[item])                           # you can compare if a specific value is in a dictionary by using in\n",
    "\n",
    "print(f'${total}')\n"
   ]
  },
  {
   "cell_type": "code",
   "execution_count": null,
   "metadata": {},
   "outputs": [],
   "source": [
    "def toddlers(fruits):\n",
    "    total = 0\n",
    "    for item in fruits:                                                  \n",
    "        if item in toddlers:                                                    \n",
    "            total += (fruits[item]) * (toddlers[item])                           \n",
    "    print(f'${total}')"
   ]
  },
  {
   "cell_type": "code",
   "execution_count": null,
   "metadata": {},
   "outputs": [
    {
     "name": "stdout",
     "output_type": "stream",
     "text": [
      "my current item in order is whopper and quantity 5\n",
      "False\n",
      "my current item in order is water and quantity 5\n",
      "True\n",
      "8.99\n",
      "44.95\n",
      "my current item in order is fries and quantity 55\n",
      "True\n",
      "0.99\n",
      "54.45\n",
      "99.4\n"
     ]
    }
   ],
   "source": [
    "# alternative method\n",
    "menu = {'fries': 0.99, 'water': 8.99, 'waffles': 4.99, 'tequila': 5.00}\n",
    "order = {'whopper':5, 'water': 5, 'fries': 55}\n",
    "# get a grand total cost of the order\n",
    "\n",
    "# need to take a look at all the order items first and since you are using a collection you use a for loop\n",
    "\n",
    "total = 0\n",
    "for food, quantity in order.items():\n",
    "    print(f'my current item in order is {food} and quantity {quantity}')\n",
    "    print(food in menu)                                     #need to check if food is in menu because it will error if not\n",
    "    if food in menu:\n",
    "        price = menu[food]                                  # use the food key to look up price\n",
    "        print(price)\n",
    "        cost = price * quantity\n",
    "        print(cost)\n",
    "        total = total + cost                                # same as total += cost\n",
    "print(total)"
   ]
  },
  {
   "cell_type": "code",
   "execution_count": null,
   "metadata": {},
   "outputs": [
    {
     "name": "stdout",
     "output_type": "stream",
     "text": [
      "1\n",
      "1\n",
      "1\n",
      "1\n",
      "1\n",
      "1\n",
      "1\n",
      "{'This': 1, 'is': 1, 'my': 1, 'texte': 1, '3Hello': 1, 'WorldHello': 1, 'World': 1}\n"
     ]
    }
   ],
   "source": [
    "# open info.txt\n",
    "# create a dictionary where each word is key\n",
    "# the value is the count of how often that word appears\n",
    "\n",
    "with open(\"info.txt\") as file_obj:                            # need to open the file\n",
    "    d1 = {}\n",
    "    words = file_obj.readline().split()                       # need to seperate the text string into a list\n",
    "    for word in words:\n",
    "        amount = words.count(word)                            # need to create a counter variable to count the instances of each word in the list\n",
    "        d1.update({word:amount})                              # update the dictionary\n",
    "print(d1)"
   ]
  },
  {
   "cell_type": "code",
   "execution_count": null,
   "metadata": {},
   "outputs": [],
   "source": [
    "def find_keys(book):\n",
    "    print(book)"
   ]
  },
  {
   "cell_type": "markdown",
   "metadata": {},
   "source": [
    "# Sets\n",
    "\n",
    "## About Sets\n",
    "\n",
    "- Sets are not ordered, do not allow for duplicates, and all items must be immutable. \n",
    "- To create a set use `set() `\n",
    "- ` s = set() `\n",
    "- Sets also allow for different data types.\n",
    "\n",
    "More on sets can be found at: \n",
    "\n",
    "- [W3Schools](https://www.w3schools.com/python/python_sets.asp)\n",
    "- [Python Docs](https://docs.python.org/3/tutorial/datastructures.html#sets)"
   ]
  },
  {
   "cell_type": "code",
   "execution_count": 28,
   "metadata": {},
   "outputs": [
    {
     "name": "stdout",
     "output_type": "stream",
     "text": [
      "{False, 1, 2, 3, 'String'}\n",
      "{False, 1, 2, 3, 'String'}\n"
     ]
    }
   ],
   "source": [
    "s = {1, 2, 3, False, \"String\"}\n",
    "print(s)\n",
    "#output:  {False, 1, 2, 3, 'String'}\n",
    "\n",
    "#turning a tuple into a set\n",
    "s_two = set((1, 2, 3, False, \"String\"))\n",
    "print(s_two)\n",
    "#output:  {False, 1, 2, 3, 'String'}"
   ]
  },
  {
   "cell_type": "markdown",
   "metadata": {},
   "source": [
    "\n",
    "## Adding items to a set\n",
    "- `set_name.add()` - Requires only 1 argument and adds the item into the `set` in no particular order"
   ]
  },
  {
   "cell_type": "code",
   "execution_count": 29,
   "metadata": {},
   "outputs": [
    {
     "name": "stdout",
     "output_type": "stream",
     "text": [
      "{False, 1, 2, 3, 'String', 10}\n",
      "{False, 1, 2, 3, 'String', 10, 50}\n"
     ]
    }
   ],
   "source": [
    "s = {1, 2, 3, False, \"String\"}\n",
    "\n",
    "s.add(10)\n",
    "print(s)\n",
    "#output:  {False, 1, 2, 3, 10, 'String'}\n",
    "\n",
    "s.add(50)\n",
    "print(s)\n",
    "#output:  {False, 1, 2, 3, 50, 10, 'String'}"
   ]
  },
  {
   "cell_type": "markdown",
   "metadata": {},
   "source": [
    "\n",
    "Add an item to the set that already exists. Will it create a duplicate or an error???"
   ]
  },
  {
   "cell_type": "code",
   "execution_count": null,
   "metadata": {},
   "outputs": [],
   "source": [
    "s.add(50)\n",
    "print(s)\n",
    "#output:  {False, 1, 2, 3, 50, 10, 'String'}"
   ]
  },
  {
   "cell_type": "markdown",
   "metadata": {},
   "source": [
    "\n",
    "No errors are raised and a `set` doesn't allow duplicates, it simply executes the line of code and continues on to the next line of your code.\n",
    "\n",
    "## Removing items from a set\n",
    "\n",
    "- `set_name.remove()` Requires only 1 argument and removes the item if found in the `set`. If it is not found a `KeyError` will be returned."
   ]
  },
  {
   "cell_type": "code",
   "execution_count": null,
   "metadata": {},
   "outputs": [],
   "source": [
    "s = {False, 1, 2, 3, 50, 10, 'String'}\n",
    "s.remove(2)\n",
    "print(s)\n",
    "\n",
    "#output:  {False, 1, 3, 50, 10, 'String'}"
   ]
  },
  {
   "cell_type": "code",
   "execution_count": 12,
   "metadata": {},
   "outputs": [],
   "source": [
    "s = {False, 1, 2,3, 40, 10, 'String'}\n",
    "s.remove(2)"
   ]
  },
  {
   "cell_type": "code",
   "execution_count": null,
   "metadata": {},
   "outputs": [],
   "source": [
    "s = {False, 1, 2, 3, 50, 10, 'String'}\n",
    "s.discard(32)\n",
    "print(s)"
   ]
  },
  {
   "cell_type": "markdown",
   "metadata": {},
   "source": [
    "## Set Methods - Continued\n",
    "\n",
    "- `set_name_1.difference(set_name_2)` - Accepts multiple arguments and returns what is found in set_name_1 that is *not* found in any of the sets provided in the arguments\n",
    "\n",
    "- `set_name_1.intersection(set_name_2)` - Accepts multiple arguments and returns what is found in ALL of the sets provided.\n",
    "\n",
    "- `set_name_1.union(set_name_2)` - Accepts multiple arguments and returns a compiled set of ALL items found in all of the sets provided.\n",
    "\n",
    "|  **Scenario:** |\n",
    "|---|\n",
    "| The following are `set` objects contain collections of information that the Brigade security office uses to track A and B Company's soldiers and their clearance level.|\n",
    "| **Use set.`methods()` to find the following requested information:**|"
   ]
  },
  {
   "cell_type": "markdown",
   "metadata": {},
   "source": [
    "\n",
    "### .union()"
   ]
  },
  {
   "cell_type": "code",
   "execution_count": null,
   "metadata": {},
   "outputs": [],
   "source": [
    "A_company = {'Nelson', 'Scott', 'Miller', 'King', 'Walker', 'Green', 'Jones', 'Hall', 'Campbell'}\n",
    "B_company = {'Smith', 'Holly', 'Taylor', 'Martin', 'Jackson', 'Lewis', 'Lee', 'Moore'}\n",
    "secret_clearance = {'Smith', 'Taylor', 'Lewis', 'Lee', 'Moore', 'Miller', 'Walker', 'Green', 'Jones', 'Hall', 'Campbell'}\n",
    "ts_clearance = {'Taylor', 'Lee', 'Moore', 'Walker', 'Green', 'Campbell'}"
   ]
  },
  {
   "cell_type": "markdown",
   "metadata": {},
   "source": [
    "Print a `set` containing ALL the names of people found in A Co and B Co, regardless of their clearance level"
   ]
  },
  {
   "cell_type": "code",
   "execution_count": 16,
   "metadata": {},
   "outputs": [
    {
     "name": "stdout",
     "output_type": "stream",
     "text": [
      "{'Jackson', 'Jones', 'Holly', 'Miller', 'Scott', 'Lee', 'Martin', 'Taylor', 'Green', 'Walker', 'Hall', 'Campbell', 'Nelson', 'Smith', 'Lewis', 'King', 'Moore'}\n",
      "{'Jones', 'Miller', 'Scott', 'a', 't', 'Green', 's', 'Walker', 'Hall', 'Campbell', 'Nelson', 'm', 'n', 'King', 'h'}\n"
     ]
    }
   ],
   "source": [
    "A_company = {'Nelson', 'Scott', 'Miller', 'King', 'Walker', 'Green', 'Jones', 'Hall', 'Campbell'}\n",
    "B_company = {'Smith', 'Holly', 'Taylor', 'Martin', 'Jackson', 'Lewis', 'Lee', 'Moore'}\n",
    "secret_clearance = {'Smith', 'Taylor', 'Lewis', 'Lee', 'Moore', 'Miller', 'Walker', 'Green', 'Jones', 'Hall', 'Campbell'}\n",
    "ts_clearance = {'Taylor', 'Lee', 'Moore', 'Walker', 'Green', 'Campbell'}\n",
    "\n",
    "\n",
    "\n",
    "\n",
    "\n",
    "\n",
    "\n",
    "print(A_company.union(B_company))\n",
    "print(A_company.union(\"samantha\"))"
   ]
  },
  {
   "cell_type": "markdown",
   "metadata": {},
   "source": [
    "\n",
    "### .difference()"
   ]
  },
  {
   "cell_type": "code",
   "execution_count": 30,
   "metadata": {},
   "outputs": [],
   "source": [
    "A_company = {'Nelson', 'Scott', 'Miller', 'King', 'Walker', 'Green', 'Jones', 'Hall', 'Campbell'}\n",
    "B_company = {'Smith', 'Holly', 'Taylor', 'Martin', 'Jackson', 'Lewis', 'Lee', 'Moore'}\n",
    "secret_clearance = {'Smith', 'Taylor', 'Lewis', 'Lee', 'Moore', 'Miller', 'Walker', 'Green', 'Jones', 'Hall', 'Campbell'}\n",
    "ts_clearance = {'Taylor', 'Lee', 'Moore', 'Walker', 'Green', 'Campbell'}"
   ]
  },
  {
   "cell_type": "markdown",
   "metadata": {},
   "source": [
    "Who in B Co does NOT have a TS clearance?"
   ]
  },
  {
   "cell_type": "code",
   "execution_count": 18,
   "metadata": {},
   "outputs": [
    {
     "name": "stdout",
     "output_type": "stream",
     "text": [
      "{'Jackson', 'Holly', 'Martin', 'Smith', 'Lewis'}\n"
     ]
    }
   ],
   "source": [
    "print(B_company.difference(ts_clearance))"
   ]
  },
  {
   "cell_type": "markdown",
   "metadata": {},
   "source": [
    "Who in A Co has NO clerance?"
   ]
  },
  {
   "cell_type": "code",
   "execution_count": 21,
   "metadata": {},
   "outputs": [
    {
     "name": "stdout",
     "output_type": "stream",
     "text": [
      "{'Scott', 'Nelson', 'King'}\n"
     ]
    }
   ],
   "source": [
    "print(A_company.difference(ts_clearance,secret_clearance))"
   ]
  },
  {
   "cell_type": "markdown",
   "metadata": {},
   "source": [
    "### .intersection()"
   ]
  },
  {
   "cell_type": "code",
   "execution_count": null,
   "metadata": {},
   "outputs": [],
   "source": [
    "A_company = {'Nelson', 'Scott', 'Miller', 'King', 'Walker', 'Green', 'Jones', 'Hall', 'Campbell'}\n",
    "B_company = {'Smith', 'Holly', 'Taylor', 'Martin', 'Jackson', 'Lewis', 'Lee', 'Moore'}\n",
    "secret_clearance = {'Smith', 'Taylor', 'Lewis', 'Lee', 'Moore', 'Miller', 'Walker', 'Green', 'Jones', 'Hall', 'Campbell'}\n",
    "ts_clearance = {'Taylor', 'Lee', 'Moore', 'Walker', 'Green', 'Campbell'}"
   ]
  },
  {
   "cell_type": "markdown",
   "metadata": {},
   "source": [
    "Who in A Co at least has a SECRET clearnace?"
   ]
  },
  {
   "cell_type": "code",
   "execution_count": null,
   "metadata": {},
   "outputs": [],
   "source": [
    "print(A_company.intersection(secret_clearance))"
   ]
  },
  {
   "cell_type": "markdown",
   "metadata": {},
   "source": [
    "### Combining methods - That's crazy?!"
   ]
  },
  {
   "cell_type": "code",
   "execution_count": null,
   "metadata": {},
   "outputs": [],
   "source": [
    "A_company = {'Nelson', 'Scott', 'Miller', 'King', 'Walker', 'Green', 'Jones', 'Hall', 'Campbell'}\n",
    "B_company = {'Smith', 'Holly', 'Taylor', 'Martin', 'Jackson', 'Lewis', 'Lee', 'Moore'}\n",
    "secret_clearance = {'Smith', 'Taylor', 'Lewis', 'Lee', 'Moore', 'Miller', 'Walker', 'Green', 'Jones', 'Hall', 'Campbell'}\n",
    "ts_clearance = {'Taylor', 'Lee', 'Moore', 'Walker', 'Green', 'Campbell'}"
   ]
  },
  {
   "cell_type": "markdown",
   "metadata": {},
   "source": [
    "|  ***Challenge***|\n",
    "|---|\n",
    "|Who in A Co **ONLY** has a SECRET clearance?|"
   ]
  },
  {
   "cell_type": "markdown",
   "metadata": {},
   "source": [
    "<details>\n",
    "    <summary>Try to solve it yourself before looking at this answer</summary>\n",
    "\n",
    "```python\n",
    "A_secret_only = A_company.intersection(secret_clearance).difference(ts_clearance)\n",
    "print(A_secret_only)\n",
    "\n",
    "#output:  {'Miller', 'Hall', 'Jones'}\n",
    "```\n",
    "\n",
    "</details>"
   ]
  },
  {
   "cell_type": "code",
   "execution_count": 27,
   "metadata": {},
   "outputs": [
    {
     "name": "stdout",
     "output_type": "stream",
     "text": [
      "{'Miller', 'Hall', 'Jones'}\n"
     ]
    }
   ],
   "source": [
    "print(A_company.intersection(secret_clearance).difference(ts_clearance))"
   ]
  },
  {
   "cell_type": "code",
   "execution_count": null,
   "metadata": {},
   "outputs": [],
   "source": []
  },
  {
   "cell_type": "markdown",
   "metadata": {},
   "source": [
    "# Positional Arguments\n",
    "\n",
    "## Revisit the Function\n",
    "\n",
    "So far every function you have worked with has used a fixed number of positional arguments.\n",
    "\n",
    "A helpful reminder on the breakdown of a function:"
   ]
  },
  {
   "cell_type": "code",
   "execution_count": null,
   "metadata": {},
   "outputs": [],
   "source": [
    "def function_name(parameter1, parameter2):\n",
    "    print(f'argument_1 is assigned to {parameter1}')\n",
    "    print(f'argument_2 is assigned to {parameter2}')\n",
    "\n",
    "function_name('this is argument_1', 'this is argument_2')\n",
    "\n",
    "#output:  argument_1 is assigned to this is argument_1\n",
    "#         argument_2 is assigned to this is argument_2"
   ]
  },
  {
   "cell_type": "markdown",
   "metadata": {},
   "source": [
    "\n",
    "\n",
    "In the example above, `parameter1` and `parameter2` are positional parameters that 'pick up' the positional arguments in the order in which they were passed into the function.\n",
    "\n",
    "A fixed number of parameters isn't always ideal. Using argument packing and unpacking can help our functions become more dynamic and accepting of more than just a fixed number of parameters."
   ]
  },
  {
   "cell_type": "markdown",
   "metadata": {},
   "source": [
    "# Default Parameters\n",
    "\n",
    "## Optional Arguments \n",
    "\n",
    "- Optional arguments depend on default parameter values.\n",
    "\n",
    "- When the optional argument is not included when calling the function, the function uses the default value coded in the function definition.\n",
    "\n",
    "\n",
    "- Default arguments must follow non-default arguments.\n",
    "\n",
    "- Python requires that default parameters must follow non-default (required) parameters as shown below:"
   ]
  },
  {
   "cell_type": "code",
   "execution_count": null,
   "metadata": {},
   "outputs": [
    {
     "name": "stdout",
     "output_type": "stream",
     "text": [
      "('para1', 3)\n"
     ]
    }
   ],
   "source": [
    "def func_1(para1, para2 = \"This is a string\"): # para2 is a parameter with a default value assignment\n",
    "   return (para1, para2)\n",
    "\n",
    "para1, para2 = 'para1', 3\n",
    "print(func_1(para1, para2)) # a second argument is provided which overrides the default value assignment of the second parameter\n",
    "                            # when func_1 is called"
   ]
  },
  {
   "cell_type": "code",
   "execution_count": null,
   "metadata": {},
   "outputs": [
    {
     "name": "stdout",
     "output_type": "stream",
     "text": [
      "(3, 'para1')\n"
     ]
    }
   ],
   "source": [
    "def func_1(para1, para2 = \"This is a string\"):\n",
    "   return (para1, para2)\n",
    "\n",
    "para1, para2 = 'para1', 3\n",
    "print(func_1(para2, para1)) # just because the variables we used as arguments happen to be named similarly to the parameters\n",
    "                            # the variable names in arguments have NO BEARING on which parameter they get assigned to. It is\n",
    "                            # positionally based\n",
    "                            # the value in para2 argument gets assigned to the para1 parameter, because it is positionally based"
   ]
  },
  {
   "cell_type": "code",
   "execution_count": null,
   "metadata": {},
   "outputs": [],
   "source": [
    "def func_1(para1, para2 = \"This is a string\"):\n",
    "   return (para1, para2)\n",
    "\n",
    "para1, para2 = 'para1', 3\n",
    "print(func_1(para1)) # because the second parameter has a default value, you can call func_1 with one argument, yet both parameters\n",
    "                     # will still be assigned values\n",
    "                     # para1 will get the arugment value from the function call\n",
    "                     # para2 will get its default argument"
   ]
  },
  {
   "cell_type": "code",
   "execution_count": null,
   "metadata": {},
   "outputs": [],
   "source": [
    "def func_1(para1, para2 = \"This is a string\"):\n",
    "   return (para1, para2)\n",
    "\n",
    "para1, para2 = 'para1', 3\n",
    "print(func_1(para2)) # the argument para2 still gets assigned to func_1's 1st parameter, para1"
   ]
  },
  {
   "cell_type": "code",
   "execution_count": null,
   "metadata": {},
   "outputs": [
    {
     "ename": "TypeError",
     "evalue": "func_1() missing 1 required positional argument: 'para1'",
     "output_type": "error",
     "traceback": [
      "\u001b[0;31m---------------------------------------------------------------------------\u001b[0m",
      "\u001b[0;31mTypeError\u001b[0m                                 Traceback (most recent call last)",
      "Cell \u001b[0;32mIn[4], line 5\u001b[0m\n\u001b[1;32m      2\u001b[0m    \u001b[38;5;28;01mreturn\u001b[39;00m (para1, para2)\n\u001b[1;32m      4\u001b[0m para1, para2 \u001b[38;5;241m=\u001b[39m \u001b[38;5;124m'\u001b[39m\u001b[38;5;124mpara1\u001b[39m\u001b[38;5;124m'\u001b[39m, \u001b[38;5;241m3\u001b[39m\n\u001b[0;32m----> 5\u001b[0m \u001b[38;5;28mprint\u001b[39m(\u001b[43mfunc_1\u001b[49m\u001b[43m(\u001b[49m\u001b[43m)\u001b[49m) \u001b[38;5;66;03m# func_1 has two parameters and only one has a default value\u001b[39;00m\n\u001b[1;32m      6\u001b[0m                 \u001b[38;5;66;03m# para1 parameter is mandatory\u001b[39;00m\n\u001b[1;32m      7\u001b[0m                 \u001b[38;5;66;03m# para2 parameter is optional because it has a default value\u001b[39;00m\n",
      "\u001b[0;31mTypeError\u001b[0m: func_1() missing 1 required positional argument: 'para1'"
     ]
    }
   ],
   "source": [
    "def func_1(para1, para2 = \"This is a string\"):\n",
    "   return (para1, para2)\n",
    "\n",
    "para1, para2 = 'para1', 3\n",
    "print(func_1()) # func_1 has two parameters and only one has a default value\n",
    "                # para1 parameter is mandatory\n",
    "                # para2 parameter is optional because it has a default value\n",
    "                #Missing a argument in line 5 so it errors out"
   ]
  },
  {
   "cell_type": "code",
   "execution_count": null,
   "metadata": {},
   "outputs": [],
   "source": [
    "def func_1(para1 = \"This is a string\", para2):\n",
    "   return (para1, para2)\n",
    "\n",
    "print(func_1(para1, para2))\n",
    "#SyntaxError: non-default argument follows default argument"
   ]
  },
  {
   "cell_type": "markdown",
   "metadata": {},
   "source": [
    "## Keyword Arguments\n",
    "- Keyword arguments are arguments that can be bound to data by their parameter name.\n",
    "\n",
    "- Required parameters must have argument data bound to the parameters.\n",
    "\n",
    "- Optional arguments need not have argument data bound to the parameters.\n",
    "\n",
    "- For optional arguments, the bound data may not be argument data; bound data may come from the function definition.\n",
    "\n",
    "- A keyword argument is coded with the name of the corresponding parameter. The argument is coded with the name, not the parameter."
   ]
  },
  {
   "cell_type": "code",
   "execution_count": 1,
   "metadata": {},
   "outputs": [
    {
     "name": "stdout",
     "output_type": "stream",
     "text": [
      "100\n",
      "This is a string!\n"
     ]
    }
   ],
   "source": [
    "def func_1(para):\n",
    "   return(para)\n",
    "\n",
    "print(func_1(para=100))\n",
    "print(func_1('This is a string!'))"
   ]
  },
  {
   "cell_type": "markdown",
   "metadata": {},
   "source": [
    "!!! NOTE \n",
    "    The first call to func_1() uses a keyword argument; the second call does not.\n",
    "\n",
    "- Python allows the use of both keyword arguments and non-keyword arguments.\n",
    "\n",
    "- However, the non-keyword argument must be coded before the keyword argument."
   ]
  },
  {
   "cell_type": "code",
   "execution_count": 2,
   "metadata": {},
   "outputs": [
    {
     "name": "stdout",
     "output_type": "stream",
     "text": [
      "(100, 'This is a string')\n",
      "('This is a string!', [1, 2, 3])\n"
     ]
    }
   ],
   "source": [
    "def func_1(para1, para2):\n",
    "   return (para1, para2)\n",
    "\n",
    "print(func_1(para1=100, para2 = \"This is a string\"))\n",
    "print(func_1(para1 = 'This is a string!', para2 = [1,2,3]))\n",
    "\n",
    "#output:\n",
    "#(100, 'This is a string')\n",
    "#('This is a string!', [1, 2, 3])"
   ]
  },
  {
   "cell_type": "code",
   "execution_count": 4,
   "metadata": {},
   "outputs": [
    {
     "name": "stdout",
     "output_type": "stream",
     "text": [
      "('para2', 12)\n",
      "('This is a string!', [1, 2, 3])\n"
     ]
    }
   ],
   "source": [
    "def func_1(para1, para2):\n",
    "   return (para1, para2)\n",
    "\n",
    "para1, para2 = 12, 'para2'\n",
    "print(func_1(para2=para1, para1 = para2))\n",
    "print(func_1(para1 = 'This is a string!', para2 = [1,2,3]))"
   ]
  },
  {
   "cell_type": "markdown",
   "metadata": {},
   "source": [
    "# Arbitrary Arguments \n",
    "\n",
    "- Python allows for functions to treat a sequence parameter as a single argument or as a group of arguments corresponding to sequence elements.\n",
    "- Code for a varying number of positional parameters of unknown number as follows:\n",
    "\n",
    "## Positional Arguments"
   ]
  },
  {
   "cell_type": "code",
   "execution_count": 6,
   "metadata": {},
   "outputs": [
    {
     "name": "stdout",
     "output_type": "stream",
     "text": [
      "<class 'tuple'> (12, 'A string', [1, 2, 'a'])\n"
     ]
    }
   ],
   "source": [
    "def func_vary (*arbitrary_args): #for when your dealing with multiple arguments the * packs the argments and passes it into a tuple.\n",
    "    print(type(arbitrary_args), arbitrary_args)\n",
    "# Python may pass several arguments to func_vary():\n",
    "func_vary(12, \"A string\", [1,2,'a'])"
   ]
  },
  {
   "cell_type": "code",
   "execution_count": 7,
   "metadata": {},
   "outputs": [
    {
     "name": "stdout",
     "output_type": "stream",
     "text": [
      "Number of arguments passes:  4\n",
      "Number of arguments passes:  1\n",
      "Number of arguments passes:  1\n"
     ]
    }
   ],
   "source": [
    "def func(*arbitrary_args):\n",
    "   print(\"Number of arguments passes: \", len(arbitrary_args))\n",
    "\n",
    "func(1,2,3,4)\n",
    "#ouput:   #Number of arguments passes:  4\n",
    "func(\"String\")\n",
    "#ouput:   #Number of arguments passes:  1\n",
    "func([1,2,3,4])\n",
    "#ouput:   #Number of arguments passes:  1"
   ]
  },
  {
   "cell_type": "code",
   "execution_count": null,
   "metadata": {},
   "outputs": [],
   "source": [
    "def func(*arbitrary_args):\n",
    "   print(arbitrary_args)\n",
    "\n",
    "tup = (1,2,\"string\")\n",
    "\n",
    "func(*tup)  # unpacking the tuple\n",
    "#output:  #(1, 2, 'string')\n",
    "\n",
    "func(tup)  # seeing tup as 1-element tuple\n",
    "#output:  #((1, 2, 'string'),)"
   ]
  },
  {
   "cell_type": "markdown",
   "metadata": {},
   "source": [
    "## Keyword Arguments\n",
    "\n",
    "- Python allows for function to treat a dictionary parameter as a single argument or as a group of arguments corresponding to `keyword`/`value` pairs.\n",
    "\n",
    "- Code the function definition that accepts a varying number of keyword arguments as follows:"
   ]
  },
  {
   "cell_type": "code",
   "execution_count": 94,
   "metadata": {},
   "outputs": [
    {
     "name": "stdout",
     "output_type": "stream",
     "text": [
      "<class 'dict'> {'a': 1, 'b': 2}\n",
      "{'a': 1, 'b': 2}\n"
     ]
    }
   ],
   "source": [
    "def func(**dict_arg):\n",
    "    print(type(dict_arg), dict_arg)\n",
    "    print(dict_arg)\n",
    "func(a=1,b=2)"
   ]
  },
  {
   "cell_type": "code",
   "execution_count": null,
   "metadata": {},
   "outputs": [],
   "source": [
    "def func(**dict_arg): #Double star(**) is a dictionary\n",
    "   print(\"The len of args: \", len(dict_arg))\n",
    "   print(\"arguments: \", dict_arg)\n",
    "\n",
    "func()\n",
    "#output :\n",
    "#The len of args:  0\n",
    "#arguments:  {}\n",
    "\n",
    "func(arg1 = \"String\", arg2 = [1,2,3], arg3= (1,2,3))\n",
    "#output :\n",
    "#The len of args:  3\n",
    "#arguments:  {'arg1': 'String', 'arg2': [1, 2, 3], 'arg3': (1, 2, 3)}\n",
    "\n",
    "kwarg_dict = {'arg1':['Value 1'], 'arg2':'Value 2', 'arg3': ['Value', 3]}\n",
    "func(**kwarg_dict)  #unpacking the dictionary keyword and values into the function (just like the previous function call worked)\n",
    "#output :\n",
    "#The len of args:  3\n",
    "#arguments:  {'arg1': ['Value 1'], 'arg2': 'Value 2', 'arg3': ['Value', 3]}"
   ]
  },
  {
   "cell_type": "code",
   "execution_count": 11,
   "metadata": {},
   "outputs": [
    {
     "name": "stdout",
     "output_type": "stream",
     "text": [
      "(1, 1, 2, 3) {'a': 32, 'Shell': 4}\n"
     ]
    }
   ],
   "source": [
    "def foo(*args,**kwargs):\n",
    "    print(args, kwargs)\n",
    "\n",
    "foo(1, *[1,2,3], a=32, **{'Shell':4})"
   ]
  },
  {
   "cell_type": "code",
   "execution_count": 19,
   "metadata": {},
   "outputs": [
    {
     "name": "stdout",
     "output_type": "stream",
     "text": [
      "the number of postional arguments  3\n",
      "the number of keyword arguments 2\n",
      "15\n"
     ]
    }
   ],
   "source": [
    "# create a function sum_all\n",
    "# that take in a aritray number of postional arguments and key word arguments\n",
    "#returns total of postional +key word values\n",
    "\n",
    "\n",
    "\n",
    "def sum_all(*pos, **keyword):\n",
    "    print(\"the number of postional arguments \", len(pos))\n",
    "    print( \"the number of keyword arguments\", len(keyword))\n",
    "    return sum(pos + tuple(keyword.values()))\n",
    "print(sum_all(1,2,3, a=4, b=5))"
   ]
  },
  {
   "cell_type": "code",
   "execution_count": 20,
   "metadata": {},
   "outputs": [
    {
     "name": "stdout",
     "output_type": "stream",
     "text": [
      "(1, 2, 3)\n",
      "1 2 3\n"
     ]
    }
   ],
   "source": [
    "def foo(*args):\n",
    "    print(args)\n",
    "    print(*args)\n",
    "foo(1,2,3)\n"
   ]
  },
  {
   "cell_type": "code",
   "execution_count": 21,
   "metadata": {},
   "outputs": [
    {
     "name": "stdout",
     "output_type": "stream",
     "text": [
      "{'d': 2, 'p': 3}\n",
      "d p\n"
     ]
    },
    {
     "ename": "TypeError",
     "evalue": "'d' is an invalid keyword argument for print()",
     "output_type": "error",
     "traceback": [
      "\u001b[0;31m---------------------------------------------------------------------------\u001b[0m",
      "\u001b[0;31mTypeError\u001b[0m                                 Traceback (most recent call last)",
      "Cell \u001b[0;32mIn[21], line 5\u001b[0m\n\u001b[1;32m      3\u001b[0m     \u001b[38;5;28mprint\u001b[39m(\u001b[38;5;241m*\u001b[39mkwargs)\n\u001b[1;32m      4\u001b[0m     \u001b[38;5;28mprint\u001b[39m(\u001b[38;5;241m*\u001b[39m\u001b[38;5;241m*\u001b[39mkwargs)\n\u001b[0;32m----> 5\u001b[0m \u001b[43mfoo\u001b[49m\u001b[43m(\u001b[49m\u001b[43md\u001b[49m\u001b[38;5;241;43m=\u001b[39;49m\u001b[38;5;241;43m2\u001b[39;49m\u001b[43m,\u001b[49m\u001b[43mp\u001b[49m\u001b[38;5;241;43m=\u001b[39;49m\u001b[38;5;241;43m3\u001b[39;49m\u001b[43m)\u001b[49m\n",
      "Cell \u001b[0;32mIn[21], line 4\u001b[0m, in \u001b[0;36mfoo\u001b[0;34m(**kwargs)\u001b[0m\n\u001b[1;32m      2\u001b[0m \u001b[38;5;28mprint\u001b[39m(kwargs)\n\u001b[1;32m      3\u001b[0m \u001b[38;5;28mprint\u001b[39m(\u001b[38;5;241m*\u001b[39mkwargs)\n\u001b[0;32m----> 4\u001b[0m \u001b[38;5;28;43mprint\u001b[39;49m\u001b[43m(\u001b[49m\u001b[38;5;241;43m*\u001b[39;49m\u001b[38;5;241;43m*\u001b[39;49m\u001b[43mkwargs\u001b[49m\u001b[43m)\u001b[49m\n",
      "\u001b[0;31mTypeError\u001b[0m: 'd' is an invalid keyword argument for print()"
     ]
    }
   ],
   "source": [
    "def foo(**kwargs):\n",
    "    print(kwargs)\n",
    "    print(*kwargs)\n",
    "    print(**kwargs)\n",
    "foo(d=2,p=3)"
   ]
  },
  {
   "cell_type": "code",
   "execution_count": 78,
   "metadata": {},
   "outputs": [
    {
     "ename": "SyntaxError",
     "evalue": "invalid syntax (997392880.py, line 6)",
     "output_type": "error",
     "traceback": [
      "\u001b[0;36m  Cell \u001b[0;32mIn[78], line 6\u001b[0;36m\u001b[0m\n\u001b[0;31m    last_element = keyword[]\u001b[0m\n\u001b[0m                           ^\u001b[0m\n\u001b[0;31mSyntaxError\u001b[0m\u001b[0;31m:\u001b[0m invalid syntax\n"
     ]
    }
   ],
   "source": [
    "def infinitearguments(*inf_arg, **keyword):\n",
    "    for inf_arg in inf_arg:\n",
    "        print(inf_arg)\n",
    "    for keyword in keyword:\n",
    "        first_element = keyword[0]\n",
    "        last_element = keyword[]\n",
    "        print(f'{first_element}={last_element}')\n",
    "        #print(first_element)\n",
    "        #print(last_element)\n",
    "infinitearguments(1,2,3,4,5,a=5, b=3, c=7)"
   ]
  },
  {
   "cell_type": "code",
   "execution_count": 102,
   "metadata": {},
   "outputs": [
    {
     "name": "stdout",
     "output_type": "stream",
     "text": [
      "5\n",
      "2\n",
      "3\n",
      "7\n",
      "5\n",
      "a=9\n",
      "b=10\n",
      "z=3\n"
     ]
    }
   ],
   "source": [
    "def infinitearguments(*inf_arg, **kwargs):\n",
    "    for inf_arg in inf_arg:\n",
    "        print(inf_arg)\n",
    "    for key in kwargs:\n",
    "        kwargs_list = list(kwargs.keys())\n",
    "        sorted_list = sorted(kwargs_list, key=str.lower)\n",
    "    for keys in sorted_list:\n",
    "        print(f'{keys}={kwargs[keys]}')\n",
    "    \n",
    "    #for key in kwargs:\n",
    "       # sorted(key)\n",
    "        \n",
    "        #print(key)\n",
    "       # print(kwargs[key])\n",
    "        #print(f'{key}={(kwargs[key])}')\n",
    "        #print(f'{key}={(kwargs[key])}')\n",
    "        #sorted(x)\n",
    "        #print(x)\n",
    "        #print(kwargs)\n",
    "        \n",
    "        #print(tuple_keyword)\n",
    "infinitearguments(5,2,3,7,5,a=9, z=3, b=10)\n",
    "#sorted_strng = sorted(strng,key=str.lower)\n"
   ]
  },
  {
   "cell_type": "code",
   "execution_count": null,
   "metadata": {},
   "outputs": [],
   "source": [
    "        #print(key)\n",
    "        #print(kwargs[key])\n",
    "        print(f'{key}={(kwargs[key])}')\n",
    "        #print(kwargs)\n",
    "        \n",
    "        #print(tuple_keyword)\n",
    "infinitearguments(5,2,3,7,5,a=9, z=3, b=10)\n",
    "\n"
   ]
  },
  {
   "cell_type": "markdown",
   "metadata": {},
   "source": [
    "# Sorting Sequences\n",
    "\n",
    "## Sorting Numerically vs. Alphabetically\n",
    "\n",
    "- At a computer's most basic level everything, including words, are interpreted in ones and zeros. Sorting works much the same using the numerical value of an `int` and `float` or the ordinal value of a `str` character. \n",
    "\n",
    "- By default Python sorting methods sort from smallest to largest. This can be modified by adjusting the `reverse` parameter.\n",
    "\n",
    "- Furthermore, a `key` can be assigned to tell Python what function to use to decide a unique sorting order. By default this parameter is `None` and sorts by numerical values of the items found in the sequence to be sorted.\n",
    "\n",
    "More information can be found on Python sorting at the following links:\n",
    "\n",
    "- [W3Schools](https://www.w3schools.com/python/ref_func_sorted.asp#gsc.tab=0)\n",
    "- [PythonDocs](https://docs.python.org/3/library/functions.html#sorted)\n",
    "\n",
    "## Two ways to perform sorting:\n",
    "\n",
    "- `sorted(item, key, reverse)` - This function works  for `str`, `tuple`, `list`, and `dict` data types. It produces a COPY of the specified item sorted according to the key and reverse values given.\n",
    "\n",
    "- `.sort(key, reverse)` -  This method ONLY works on `list` objects. It reaches into the memory location of where the `list` is stored and PERMANENTLY sorts the `list`\n",
    "\n",
    "## Sorting a list\n",
    "\n",
    "### Numerically sort a list of numbers\n"
   ]
  },
  {
   "cell_type": "markdown",
   "metadata": {},
   "source": [
    "|  **Scenario:** | |\n",
    "|---|---|\n",
    "| *What to sort*| *How to sort it*|\n",
    "| `num_lst` | smallest to largest|"
   ]
  },
  {
   "cell_type": "code",
   "execution_count": null,
   "metadata": {},
   "outputs": [],
   "source": [
    "#using sorted on a list of numbers\n",
    "num_lst = [5,4,3,9,20,5,40,89,46]\n",
    "\n",
    "num_lst_sorted = sorted(num_lst) #will always return a list when using sorted.\n",
    "print(num_lst_sorted)\n",
    "#output:   [3, 4, 5, 5, 9, 20, 40, 46, 89]"
   ]
  },
  {
   "cell_type": "code",
   "execution_count": 23,
   "metadata": {},
   "outputs": [
    {
     "name": "stdout",
     "output_type": "stream",
     "text": [
      "['H', 'H', 'P', 'e', 'l', 'l', 'o']\n"
     ]
    }
   ],
   "source": [
    "#using sorted on a string\n",
    "a = 'HelloPH'\n",
    "print(sorted(a))"
   ]
  },
  {
   "cell_type": "code",
   "execution_count": 27,
   "metadata": {},
   "outputs": [
    {
     "data": {
      "text/plain": [
       "[False, 1, True, 1.0, 2.3, 4]"
      ]
     },
     "execution_count": 27,
     "metadata": {},
     "output_type": "execute_result"
    }
   ],
   "source": [
    "#tuple of mixed numeric types\n",
    "sorted((1,4,2.3,True, False, 1.0))"
   ]
  },
  {
   "cell_type": "code",
   "execution_count": 31,
   "metadata": {},
   "outputs": [
    {
     "data": {
      "text/plain": [
       "[[0, 'hello'], [1, 3, 80], [3, 4]]"
      ]
     },
     "execution_count": 31,
     "metadata": {},
     "output_type": "execute_result"
    }
   ],
   "source": [
    "# list of list\n",
    "sorted(([3,4],[1,3,80],[0,'hello']))"
   ]
  },
  {
   "cell_type": "code",
   "execution_count": null,
   "metadata": {},
   "outputs": [],
   "source": []
  },
  {
   "cell_type": "markdown",
   "metadata": {},
   "source": [
    "- Using the `reverse` parameter\n",
    "\n",
    "|  **Scenario:** | |\n",
    "|---|---|\n",
    "| *What to sort*| *How to sort it*|\n",
    "| `num_lst` | largest to smallest|"
   ]
  },
  {
   "cell_type": "code",
   "execution_count": 35,
   "metadata": {},
   "outputs": [
    {
     "name": "stdout",
     "output_type": "stream",
     "text": [
      "[89, 46, 40, 20, 9, 5, 5, 4, 3]\n"
     ]
    }
   ],
   "source": [
    "num_lst = [5,4,3,9,20,5,40,89,46]\n",
    "\n",
    "num_lst_lg_sm = sorted(num_lst,reverse=True)\n",
    "print(num_lst_lg_sm)\n",
    "#output:  [89, 46, 40, 20, 9, 5, 5, 4, 3]"
   ]
  },
  {
   "cell_type": "markdown",
   "metadata": {},
   "source": [
    "\n",
    "### Revisiting ord() and chr()\n",
    "\n",
    "Remember that the ordinal value of any `str` can be found by using the `ord()` function and the character value of any `int` can be found using the `chr()` function."
   ]
  },
  {
   "cell_type": "code",
   "execution_count": 36,
   "metadata": {},
   "outputs": [
    {
     "name": "stdout",
     "output_type": "stream",
     "text": [
      "97\n",
      "a\n"
     ]
    }
   ],
   "source": [
    "x = 'a'\n",
    "x_ord = ord(x)\n",
    "print(x_ord)\n",
    "#output:  97 # the integer ascii value of a character\n",
    "\n",
    "letter_num = 97 \n",
    "letter = chr(97)\n",
    "print(letter)\n",
    "#output:  a"
   ]
  },
  {
   "cell_type": "code",
   "execution_count": 46,
   "metadata": {},
   "outputs": [
    {
     "name": "stdout",
     "output_type": "stream",
     "text": [
      "37\n"
     ]
    }
   ],
   "source": [
    "x = ord('%')\n",
    "print(x)"
   ]
  },
  {
   "cell_type": "code",
   "execution_count": null,
   "metadata": {},
   "outputs": [],
   "source": [
    "def code_points(strng):\n",
    "    charc= []\n",
    "    if charc in string:\n",
    "        newlist = list.append(charc)\n",
    "        return ord(newlist)"
   ]
  },
  {
   "cell_type": "markdown",
   "metadata": {},
   "source": [
    "### 'Alphabetically' sorting a list of characters\n",
    "\n",
    "- The word 'Alphabetically' is purposely surrounded in quotations because of the discussion we just had about the `ord()` function. Each character corresponds to an `int` and it is by these `int` that the sorting is actually performed. "
   ]
  },
  {
   "cell_type": "code",
   "execution_count": null,
   "metadata": {},
   "outputs": [],
   "source": [
    "characters = ['z', 'd', 'B', 'A', 'a', 'Z']\n",
    "\n",
    "sorted_chars = sorted(characters)\n",
    "print(sorted_chars)\n",
    "#output:  ['A', 'B', 'Z', 'a', 'd', 'z']"
   ]
  },
  {
   "cell_type": "markdown",
   "metadata": {},
   "source": [
    "- Let's get this sorted in actual alphabetical order.\n",
    "      - We can provide a value to `key` to accomplish this"
   ]
  },
  {
   "cell_type": "code",
   "execution_count": null,
   "metadata": {},
   "outputs": [],
   "source": [
    "characters = ['z', 'd', 'B', 'A', 'a', 'Z']\n",
    "\n",
    "sorted_chars = sorted(characters,key=str.lower)\n",
    "print(sorted_chars)\n",
    "#output:  ['A', 'a', 'B', 'd', 'z', 'Z']"
   ]
  },
  {
   "cell_type": "markdown",
   "metadata": {},
   "source": [
    "- The `key` in the above example evaluates all of the characters as if they were lowercase. Alternatively, you could use `str.upper` and would still get the same result.\n",
    "\n",
    "- Another example of sorting words into **reverse** alphabetical order:"
   ]
  },
  {
   "cell_type": "code",
   "execution_count": null,
   "metadata": {},
   "outputs": [],
   "source": [
    "words = ['This', 'is', 'a', 'list', 'with', 'words']\n",
    "\n",
    "sorted_words = sorted(words,key=str.upper,reverse=True)\n",
    "print(sorted_words)\n",
    "#output:  ['words', 'with', 'This', 'list', 'is', 'a']"
   ]
  },
  {
   "cell_type": "markdown",
   "metadata": {},
   "source": [
    "\n",
    "### Sorting items based on length\n",
    "\n",
    "Another way to sort items could be from shortest to longest and vice versa. \n",
    "\n",
    "Sort the `list` of `words` seen above from the shortest to the longest word"
   ]
  },
  {
   "cell_type": "code",
   "execution_count": null,
   "metadata": {},
   "outputs": [],
   "source": [
    "words = ['This', 'is', 'a', 'list', 'with', 'words']\n",
    "\n",
    "short_long = sorted(words, key=len) #uses len() on each item in words\n",
    "print(short_long)\n",
    "\n",
    "#output:   ['a', 'is', 'This', 'list', 'with', 'words']"
   ]
  },
  {
   "cell_type": "markdown",
   "metadata": {},
   "source": [
    "\n",
    "## Sorting a str\n",
    "\n",
    "- Sorting can be performed on a `str` which is no more than a sequence of characters "
   ]
  },
  {
   "cell_type": "code",
   "execution_count": null,
   "metadata": {},
   "outputs": [],
   "source": [
    "strng = 'hello world'\n",
    "sorted_strng = sorted(strng)\n",
    "print(sorted_strng)\n",
    "#output:  [' ', 'd', 'e', 'h', 'l', 'l', 'l', 'o', 'o', 'r', 'w']"
   ]
  },
  {
   "cell_type": "markdown",
   "metadata": {},
   "source": [
    "\n",
    "- Notice that even the instance of a whitespace has an ordinal value and is sorted accordingly in the `str`\n",
    "\n",
    "- Also, it is important to note that a `list` data type was returned when utilizing the `sorted()` function\n",
    "\n",
    "All of the same rules around character/ordinal value sorting still apply when sorting strings and in order to sort a string in actual alphabetical order, especially when capital letters are involved, you still need to enforce the use of the `key`"
   ]
  },
  {
   "cell_type": "code",
   "execution_count": null,
   "metadata": {},
   "outputs": [],
   "source": [
    "strng = 'Hello World'\n",
    "sorted_strng = sorted(strng)\n",
    "print(sorted_strng)\n",
    "#output:  [' ', 'H', 'W', 'd', 'e', 'l', 'l', 'l', 'o', 'o', 'r']"
   ]
  },
  {
   "cell_type": "markdown",
   "metadata": {},
   "source": [
    "**versus:**"
   ]
  },
  {
   "cell_type": "code",
   "execution_count": null,
   "metadata": {},
   "outputs": [],
   "source": [
    "strng = 'Hello World'\n",
    "sorted_strng = sorted(strng,key=str.lower) #makes it not care if its lowercase or uppercase\n",
    "print(sorted_strng)\n",
    "#output:  [' ', 'd', 'e', 'H', 'l', 'l', 'l', 'o', 'o', 'r', 'W']"
   ]
  },
  {
   "cell_type": "markdown",
   "metadata": {},
   "source": [
    "## Making a unique key function by which to sort items\n",
    "\n",
    "Because Python allows users to define their own unique functions, users can apply those functions to the `key` parameter of the `sorted()` function to perform unique sorting needs."
   ]
  },
  {
   "cell_type": "code",
   "execution_count": null,
   "metadata": {},
   "outputs": [],
   "source": [
    "ports_monitored = [('HTTPS', 443),('SSH', 22),('FTP-data', 20), ('HTTP', 80)]\n",
    "\n",
    "sorted_ports = sorted(ports_monitored)\n",
    "print(sorted_ports)   # by default it is going to sort the tuples inside the list based on the ordinal values of the characters found in index 0\n",
    "\n",
    "#output: [('FTP-data', 20), ('HTTP', 80), ('HTTPS', 443), ('SSH', 22)]"
   ]
  },
  {
   "cell_type": "markdown",
   "metadata": {},
   "source": [
    "\n",
    "In order to sort the `ports_monitored` by the actual port number found in each tuple we need to build a unique function that isolates the exact item we want to sort it by"
   ]
  },
  {
   "cell_type": "code",
   "execution_count": null,
   "metadata": {},
   "outputs": [],
   "source": [
    "ports_monitored = [('HTTPS', 443),('SSH', 22),('FTP-data', 20), ('HTTP', 80)]\n",
    "\n",
    "def find_port(tup):  #this function is designed to take in 1 item at a time and isolate whatever is found in the [1] index position\n",
    "    return tup[1]\n",
    "\n",
    "sorted_by_ports = sorted(ports_monitored,key=find_port)\n",
    "print(sorted_by_ports)\n",
    "\n",
    "#output:  [('FTP-data', 20), ('SSH', 22), ('HTTP', 80), ('HTTPS', 443)]"
   ]
  },
  {
   "cell_type": "code",
   "execution_count": 37,
   "metadata": {},
   "outputs": [
    {
     "name": "stdout",
     "output_type": "stream",
     "text": [
      "['abc 978 stuff', 'abc 555 stuff', 'abc 483 stuff', 'abc 213 stuff', 'abc 123 stuff']\n"
     ]
    }
   ],
   "source": [
    "lst_strngs = ['abc 123 stuff', 'abc 213 stuff', 'abc 483 stuff', 'abc 978 stuff', 'abc 555 stuff']\n",
    "def helper_func(strng):\n",
    "    return int(strng.split()[1])\n",
    "\n",
    "print(sorted(lst_strngs, key=helper_func, reverse=True))"
   ]
  },
  {
   "cell_type": "markdown",
   "metadata": {},
   "source": [
    "## Sorting Dictionaries\n",
    "- The only way to sort a `dictionary` is to convert the keys or values to a `list` and call the sort method to sort the `list`.\n",
    "\n",
    "- A sorted list of the keys will be returned by default. You can specify the `items()` or `values()` if you wish to have them sorted as well.\n",
    "\n",
    "Isolate the `key` in the `dictionary` found below and sort them"
   ]
  },
  {
   "cell_type": "code",
   "execution_count": null,
   "metadata": {},
   "outputs": [
    {
     "name": "stdout",
     "output_type": "stream",
     "text": [
      "['one', 'three', 'two']\n"
     ]
    }
   ],
   "source": [
    "numbers = {'one':1, 'two':2, 'three':3}\n",
    "sorted_keys = sorted(numbers.keys())\n",
    "print(sorted_keys)    \n",
    "#output:  ['one', 'three', 'two'] "
   ]
  },
  {
   "cell_type": "code",
   "execution_count": null,
   "metadata": {},
   "outputs": [],
   "source": [
    "numbers = {'one':1, 'two':2, 'three':3}\n",
    "sorted_keys = sorted(numbers)\n",
    "print(sorted_keys)    \n",
    "#output:  ['one', 'three', 'two'] "
   ]
  },
  {
   "cell_type": "code",
   "execution_count": 40,
   "metadata": {},
   "outputs": [
    {
     "name": "stdout",
     "output_type": "stream",
     "text": [
      "[('one', 1), ('two', 2), ('three', 3)]\n"
     ]
    }
   ],
   "source": [
    "#print full dictionary sorted on values\n",
    "numbers = {'one':1, 'two':2, 'three':3}\n",
    "\n",
    "def helper_func(tup):\n",
    "    return tup[1]\n",
    "\n",
    "sorted_keys = sorted(numbers.items(), key=helper_func)\n",
    "print(sorted_keys)    \n",
    "#output:  ['one', 'three', 'two'] "
   ]
  },
  {
   "cell_type": "code",
   "execution_count": 41,
   "metadata": {},
   "outputs": [
    {
     "name": "stdout",
     "output_type": "stream",
     "text": [
      "['10.0.0.0:53', '172.1.1.10:443', '168.1.1.4:22']\n"
     ]
    }
   ],
   "source": [
    "ips = ['172.1.1.10:443', \"168.1.1.4:22\", \"10.0.0.0:53\"]\n",
    "\n",
    "def helper_func(ip_strng):\n",
    "    return ip_strng.replace(':','.').split('.')[3]\n",
    "\n",
    "sorted_ips = sorted(ips, key=helper_func)\n",
    "print(sorted_ips)\n"
   ]
  },
  {
   "cell_type": "code",
   "execution_count": 42,
   "metadata": {},
   "outputs": [
    {
     "name": "stdout",
     "output_type": "stream",
     "text": [
      "['10.0.0.0:53', '168.1.1.4:22', '172.1.1.10:443']\n"
     ]
    }
   ],
   "source": [
    "ips = ['172.1.1.10:443', \"168.1.1.4:22\", \"10.0.0.0:53\"]\n",
    "\n",
    "def helper_func(ip_strng):\n",
    "    return int(ip_strng.replace(':','.').split('.')[3])\n",
    "\n",
    "sorted_ips = sorted(ips, key=helper_func)\n",
    "print(sorted_ips)"
   ]
  },
  {
   "cell_type": "code",
   "execution_count": null,
   "metadata": {},
   "outputs": [],
   "source": []
  }
 ],
 "metadata": {
  "kernelspec": {
   "display_name": "Python 3",
   "language": "python",
   "name": "python3"
  },
  "language_info": {
   "codemirror_mode": {
    "name": "ipython",
    "version": 3
   },
   "file_extension": ".py",
   "mimetype": "text/x-python",
   "name": "python",
   "nbconvert_exporter": "python",
   "pygments_lexer": "ipython3",
   "version": "3.8.10"
  }
 },
 "nbformat": 4,
 "nbformat_minor": 2
}
